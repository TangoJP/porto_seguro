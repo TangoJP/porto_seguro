{
 "cells": [
  {
   "cell_type": "code",
   "execution_count": 1,
   "metadata": {},
   "outputs": [
    {
     "name": "stderr",
     "output_type": "stream",
     "text": [
      "/home/ryohayama/.local/lib/python3.6/site-packages/statsmodels/compat/pandas.py:56: FutureWarning: The pandas.core.datetools module is deprecated and will be removed in a future version. Please use the pandas.tseries module instead.\n",
      "  from pandas.core import datetools\n"
     ]
    }
   ],
   "source": [
    "import numpy as np\n",
    "import pandas as pd\n",
    "import matplotlib.pyplot as plt\n",
    "import scipy\n",
    "from importlib import reload\n",
    "import ps.feature as pf\n",
    "\n",
    "%matplotlib inline"
   ]
  },
  {
   "cell_type": "code",
   "execution_count": 2,
   "metadata": {},
   "outputs": [
    {
     "data": {
      "text/html": [
       "<div>\n",
       "<style scoped>\n",
       "    .dataframe tbody tr th:only-of-type {\n",
       "        vertical-align: middle;\n",
       "    }\n",
       "\n",
       "    .dataframe tbody tr th {\n",
       "        vertical-align: top;\n",
       "    }\n",
       "\n",
       "    .dataframe thead th {\n",
       "        text-align: right;\n",
       "    }\n",
       "</style>\n",
       "<table border=\"1\" class=\"dataframe\">\n",
       "  <thead>\n",
       "    <tr style=\"text-align: right;\">\n",
       "      <th></th>\n",
       "      <th>id</th>\n",
       "      <th>target</th>\n",
       "      <th>ps_ind_01</th>\n",
       "      <th>ps_ind_02_cat</th>\n",
       "      <th>ps_ind_03</th>\n",
       "      <th>ps_ind_04_cat</th>\n",
       "      <th>ps_ind_05_cat</th>\n",
       "      <th>ps_ind_06_bin</th>\n",
       "      <th>ps_ind_07_bin</th>\n",
       "      <th>ps_ind_08_bin</th>\n",
       "      <th>...</th>\n",
       "      <th>ps_calc_11</th>\n",
       "      <th>ps_calc_12</th>\n",
       "      <th>ps_calc_13</th>\n",
       "      <th>ps_calc_14</th>\n",
       "      <th>ps_calc_15_bin</th>\n",
       "      <th>ps_calc_16_bin</th>\n",
       "      <th>ps_calc_17_bin</th>\n",
       "      <th>ps_calc_18_bin</th>\n",
       "      <th>ps_calc_19_bin</th>\n",
       "      <th>ps_calc_20_bin</th>\n",
       "    </tr>\n",
       "  </thead>\n",
       "  <tbody>\n",
       "    <tr>\n",
       "      <th>0</th>\n",
       "      <td>7</td>\n",
       "      <td>0</td>\n",
       "      <td>2</td>\n",
       "      <td>2</td>\n",
       "      <td>5</td>\n",
       "      <td>1</td>\n",
       "      <td>0</td>\n",
       "      <td>0</td>\n",
       "      <td>1</td>\n",
       "      <td>0</td>\n",
       "      <td>...</td>\n",
       "      <td>9</td>\n",
       "      <td>1</td>\n",
       "      <td>5</td>\n",
       "      <td>8</td>\n",
       "      <td>0</td>\n",
       "      <td>1</td>\n",
       "      <td>1</td>\n",
       "      <td>0</td>\n",
       "      <td>0</td>\n",
       "      <td>1</td>\n",
       "    </tr>\n",
       "    <tr>\n",
       "      <th>1</th>\n",
       "      <td>9</td>\n",
       "      <td>0</td>\n",
       "      <td>1</td>\n",
       "      <td>1</td>\n",
       "      <td>7</td>\n",
       "      <td>0</td>\n",
       "      <td>0</td>\n",
       "      <td>0</td>\n",
       "      <td>0</td>\n",
       "      <td>1</td>\n",
       "      <td>...</td>\n",
       "      <td>3</td>\n",
       "      <td>1</td>\n",
       "      <td>1</td>\n",
       "      <td>9</td>\n",
       "      <td>0</td>\n",
       "      <td>1</td>\n",
       "      <td>1</td>\n",
       "      <td>0</td>\n",
       "      <td>1</td>\n",
       "      <td>0</td>\n",
       "    </tr>\n",
       "    <tr>\n",
       "      <th>2</th>\n",
       "      <td>13</td>\n",
       "      <td>0</td>\n",
       "      <td>5</td>\n",
       "      <td>4</td>\n",
       "      <td>9</td>\n",
       "      <td>1</td>\n",
       "      <td>0</td>\n",
       "      <td>0</td>\n",
       "      <td>0</td>\n",
       "      <td>1</td>\n",
       "      <td>...</td>\n",
       "      <td>4</td>\n",
       "      <td>2</td>\n",
       "      <td>7</td>\n",
       "      <td>7</td>\n",
       "      <td>0</td>\n",
       "      <td>1</td>\n",
       "      <td>1</td>\n",
       "      <td>0</td>\n",
       "      <td>1</td>\n",
       "      <td>0</td>\n",
       "    </tr>\n",
       "    <tr>\n",
       "      <th>3</th>\n",
       "      <td>16</td>\n",
       "      <td>0</td>\n",
       "      <td>0</td>\n",
       "      <td>1</td>\n",
       "      <td>2</td>\n",
       "      <td>0</td>\n",
       "      <td>0</td>\n",
       "      <td>1</td>\n",
       "      <td>0</td>\n",
       "      <td>0</td>\n",
       "      <td>...</td>\n",
       "      <td>2</td>\n",
       "      <td>2</td>\n",
       "      <td>4</td>\n",
       "      <td>9</td>\n",
       "      <td>0</td>\n",
       "      <td>0</td>\n",
       "      <td>0</td>\n",
       "      <td>0</td>\n",
       "      <td>0</td>\n",
       "      <td>0</td>\n",
       "    </tr>\n",
       "    <tr>\n",
       "      <th>4</th>\n",
       "      <td>17</td>\n",
       "      <td>0</td>\n",
       "      <td>0</td>\n",
       "      <td>2</td>\n",
       "      <td>0</td>\n",
       "      <td>1</td>\n",
       "      <td>0</td>\n",
       "      <td>1</td>\n",
       "      <td>0</td>\n",
       "      <td>0</td>\n",
       "      <td>...</td>\n",
       "      <td>3</td>\n",
       "      <td>1</td>\n",
       "      <td>1</td>\n",
       "      <td>3</td>\n",
       "      <td>0</td>\n",
       "      <td>0</td>\n",
       "      <td>0</td>\n",
       "      <td>1</td>\n",
       "      <td>1</td>\n",
       "      <td>0</td>\n",
       "    </tr>\n",
       "  </tbody>\n",
       "</table>\n",
       "<p>5 rows × 59 columns</p>\n",
       "</div>"
      ],
      "text/plain": [
       "   id  target  ps_ind_01  ps_ind_02_cat  ps_ind_03  ps_ind_04_cat  \\\n",
       "0   7       0          2              2          5              1   \n",
       "1   9       0          1              1          7              0   \n",
       "2  13       0          5              4          9              1   \n",
       "3  16       0          0              1          2              0   \n",
       "4  17       0          0              2          0              1   \n",
       "\n",
       "   ps_ind_05_cat  ps_ind_06_bin  ps_ind_07_bin  ps_ind_08_bin       ...        \\\n",
       "0              0              0              1              0       ...         \n",
       "1              0              0              0              1       ...         \n",
       "2              0              0              0              1       ...         \n",
       "3              0              1              0              0       ...         \n",
       "4              0              1              0              0       ...         \n",
       "\n",
       "   ps_calc_11  ps_calc_12  ps_calc_13  ps_calc_14  ps_calc_15_bin  \\\n",
       "0           9           1           5           8               0   \n",
       "1           3           1           1           9               0   \n",
       "2           4           2           7           7               0   \n",
       "3           2           2           4           9               0   \n",
       "4           3           1           1           3               0   \n",
       "\n",
       "   ps_calc_16_bin  ps_calc_17_bin  ps_calc_18_bin  ps_calc_19_bin  \\\n",
       "0               1               1               0               0   \n",
       "1               1               1               0               1   \n",
       "2               1               1               0               1   \n",
       "3               0               0               0               0   \n",
       "4               0               0               1               1   \n",
       "\n",
       "   ps_calc_20_bin  \n",
       "0               1  \n",
       "1               0  \n",
       "2               0  \n",
       "3               0  \n",
       "4               0  \n",
       "\n",
       "[5 rows x 59 columns]"
      ]
     },
     "execution_count": 2,
     "metadata": {},
     "output_type": "execute_result"
    }
   ],
   "source": [
    "train = pd.read_csv('train.csv')\n",
    "train.head()"
   ]
  },
  {
   "cell_type": "code",
   "execution_count": 3,
   "metadata": {},
   "outputs": [],
   "source": [
    "vec1 = train.ps_ind_02_cat\n",
    "vec2 = train.ps_ind_04_cat\n",
    "vec3 = train.ps_reg_03\n",
    "target = train.target"
   ]
  },
  {
   "cell_type": "code",
   "execution_count": 4,
   "metadata": {},
   "outputs": [
    {
     "data": {
      "text/plain": [
       "<module 'ps.feature' from '/home/ryohayama/python_current/porto_seguro/ps/feature.py'>"
      ]
     },
     "execution_count": 4,
     "metadata": {},
     "output_type": "execute_result"
    }
   ],
   "source": [
    "reload(pf)"
   ]
  },
  {
   "cell_type": "code",
   "execution_count": 5,
   "metadata": {},
   "outputs": [],
   "source": [
    "f1 = pf.CategoricalFeature(vec1, target=target)"
   ]
  },
  {
   "cell_type": "code",
   "execution_count": 6,
   "metadata": {},
   "outputs": [
    {
     "name": "stdout",
     "output_type": "stream",
     "text": [
      "0         2\n",
      "1         1\n",
      "2         4\n",
      "3         1\n",
      "4         2\n",
      "5         1\n",
      "6         1\n",
      "7         1\n",
      "8         1\n",
      "9         1\n",
      "10        2\n",
      "11        1\n",
      "12        1\n",
      "13        1\n",
      "14        1\n",
      "15        1\n",
      "16        2\n",
      "17        1\n",
      "18        1\n",
      "19        1\n",
      "20        1\n",
      "21        1\n",
      "22        3\n",
      "23        1\n",
      "24        1\n",
      "25        1\n",
      "26        1\n",
      "27        1\n",
      "28        2\n",
      "29        2\n",
      "         ..\n",
      "595182    1\n",
      "595183    1\n",
      "595184    1\n",
      "595185    2\n",
      "595186    1\n",
      "595187    1\n",
      "595188    1\n",
      "595189    1\n",
      "595190    2\n",
      "595191    1\n",
      "595192    1\n",
      "595193    2\n",
      "595194    1\n",
      "595195    3\n",
      "595196    1\n",
      "595197    1\n",
      "595198    1\n",
      "595199    1\n",
      "595200    1\n",
      "595201    2\n",
      "595202    1\n",
      "595203    2\n",
      "595204    2\n",
      "595205    3\n",
      "595206    1\n",
      "595207    1\n",
      "595208    1\n",
      "595209    1\n",
      "595210    2\n",
      "595211    1\n",
      "Name: ps_ind_02_cat, Length: 595212, dtype: int64\n",
      "0         0\n",
      "1         0\n",
      "2         0\n",
      "3         0\n",
      "4         0\n",
      "5         0\n",
      "6         0\n",
      "7         0\n",
      "8         0\n",
      "9         1\n",
      "10        0\n",
      "11        0\n",
      "12        0\n",
      "13        0\n",
      "14        0\n",
      "15        0\n",
      "16        0\n",
      "17        0\n",
      "18        0\n",
      "19        1\n",
      "20        0\n",
      "21        0\n",
      "22        0\n",
      "23        0\n",
      "24        0\n",
      "25        0\n",
      "26        0\n",
      "27        0\n",
      "28        1\n",
      "29        0\n",
      "         ..\n",
      "595182    0\n",
      "595183    0\n",
      "595184    0\n",
      "595185    0\n",
      "595186    0\n",
      "595187    0\n",
      "595188    0\n",
      "595189    0\n",
      "595190    0\n",
      "595191    0\n",
      "595192    0\n",
      "595193    0\n",
      "595194    0\n",
      "595195    0\n",
      "595196    0\n",
      "595197    0\n",
      "595198    0\n",
      "595199    0\n",
      "595200    0\n",
      "595201    0\n",
      "595202    0\n",
      "595203    0\n",
      "595204    0\n",
      "595205    0\n",
      "595206    0\n",
      "595207    0\n",
      "595208    0\n",
      "595209    0\n",
      "595210    0\n",
      "595211    0\n",
      "Name: target, Length: 595212, dtype: int64\n"
     ]
    }
   ],
   "source": [
    "print(f1.data)\n",
    "print(f1.target)"
   ]
  },
  {
   "cell_type": "code",
   "execution_count": 7,
   "metadata": {},
   "outputs": [
    {
     "name": "stdout",
     "output_type": "stream",
     "text": [
      "595212\n",
      "[-1, 1, 2, 3, 4]\n",
      "5\n"
     ]
    }
   ],
   "source": [
    "print(f1.num_samples)\n",
    "print(f1.unique_values)\n",
    "print(f1.num_unique_values)"
   ]
  },
  {
   "cell_type": "code",
   "execution_count": 8,
   "metadata": {},
   "outputs": [
    {
     "name": "stdout",
     "output_type": "stream",
     "text": [
      " 1    431859\n",
      " 2    123573\n",
      " 3     28186\n",
      " 4     11378\n",
      "-1       216\n",
      "Name: ps_ind_02_cat, dtype: int64\n",
      " 1    0.725555\n",
      " 2    0.207612\n",
      " 3    0.047355\n",
      " 4    0.019116\n",
      "-1    0.000363\n",
      "Name: ps_ind_02_cat, dtype: float64\n",
      "categorical\n"
     ]
    }
   ],
   "source": [
    "print(f1.value_counts)\n",
    "print(f1.value_frequencies)\n",
    "print(f1.feature_type)"
   ]
  },
  {
   "cell_type": "code",
   "execution_count": 9,
   "metadata": {},
   "outputs": [
    {
     "name": "stdout",
     "output_type": "stream",
     "text": [
      "target              0      1\n",
      "ps_ind_02_cat               \n",
      "-1                176     40\n",
      " 1             416431  15428\n",
      " 2             118860   4713\n",
      " 3              27137   1049\n",
      " 4              10914    464\n",
      "target                0         1\n",
      "ps_ind_02_cat                    \n",
      "-1             0.000296  0.000067\n",
      " 1             0.699635  0.025920\n",
      " 2             0.199694  0.007918\n",
      " 3             0.045592  0.001762\n",
      " 4             0.018336  0.000780\n",
      "target         0         1\n",
      "-1      0.814815  0.185185\n",
      " 1      0.964275  0.035725\n",
      " 2      0.961861  0.038139\n",
      " 3      0.962783  0.037217\n",
      " 4      0.959220  0.040780\n"
     ]
    }
   ],
   "source": [
    "print(f1.contingency_table)\n",
    "print(f1.frequency_table)\n",
    "print(f1.conditional_probas)"
   ]
  },
  {
   "cell_type": "code",
   "execution_count": 10,
   "metadata": {},
   "outputs": [
    {
     "data": {
      "text/plain": [
       "{0: {-1: 0.8148148148148148,\n",
       "  1: 0.964275376917003,\n",
       "  2: 0.9618606006166396,\n",
       "  3: 0.9627829418860427,\n",
       "  4: 0.9592195464932326},\n",
       " 1: {-1: 0.18518518518518517,\n",
       "  1: 0.035724623082996995,\n",
       "  2: 0.038139399383360445,\n",
       "  3: 0.037217058113957285,\n",
       "  4: 0.04078045350676745}}"
      ]
     },
     "execution_count": 10,
     "metadata": {},
     "output_type": "execute_result"
    }
   ],
   "source": [
    "f1.conditional_probas.to_dict()"
   ]
  },
  {
   "cell_type": "code",
   "execution_count": 11,
   "metadata": {
    "scrolled": true
   },
   "outputs": [
    {
     "data": {
      "text/plain": [
       "0         0.038139\n",
       "1         0.035725\n",
       "2         0.040780\n",
       "3         0.035725\n",
       "4         0.038139\n",
       "5         0.035725\n",
       "6         0.035725\n",
       "7         0.035725\n",
       "8         0.035725\n",
       "9         0.035725\n",
       "10        0.038139\n",
       "11        0.035725\n",
       "12        0.035725\n",
       "13        0.035725\n",
       "14        0.035725\n",
       "15        0.035725\n",
       "16        0.038139\n",
       "17        0.035725\n",
       "18        0.035725\n",
       "19        0.035725\n",
       "20        0.035725\n",
       "21        0.035725\n",
       "22        0.037217\n",
       "23        0.035725\n",
       "24        0.035725\n",
       "25        0.035725\n",
       "26        0.035725\n",
       "27        0.035725\n",
       "28        0.038139\n",
       "29        0.038139\n",
       "            ...   \n",
       "595182    0.035725\n",
       "595183    0.035725\n",
       "595184    0.035725\n",
       "595185    0.038139\n",
       "595186    0.035725\n",
       "595187    0.035725\n",
       "595188    0.035725\n",
       "595189    0.035725\n",
       "595190    0.038139\n",
       "595191    0.035725\n",
       "595192    0.035725\n",
       "595193    0.038139\n",
       "595194    0.035725\n",
       "595195    0.037217\n",
       "595196    0.035725\n",
       "595197    0.035725\n",
       "595198    0.035725\n",
       "595199    0.035725\n",
       "595200    0.035725\n",
       "595201    0.038139\n",
       "595202    0.035725\n",
       "595203    0.038139\n",
       "595204    0.038139\n",
       "595205    0.037217\n",
       "595206    0.035725\n",
       "595207    0.035725\n",
       "595208    0.035725\n",
       "595209    0.035725\n",
       "595210    0.038139\n",
       "595211    0.035725\n",
       "Name: ps_ind_02_cat, Length: 595212, dtype: float64"
      ]
     },
     "execution_count": 11,
     "metadata": {},
     "output_type": "execute_result"
    }
   ],
   "source": [
    "f1.convert2proba(target_class=1)"
   ]
  },
  {
   "cell_type": "code",
   "execution_count": 12,
   "metadata": {},
   "outputs": [
    {
     "data": {
      "text/plain": [
       "(target         0         1\n",
       " -1      0.845636  5.080872\n",
       "  1      1.000750  0.980166\n",
       "  2      0.998244  1.046420\n",
       "  3      0.999201  1.021114\n",
       "  4      0.995503  1.118882,              max       min\n",
       " target                    \n",
       " 0       1.000750  0.845636\n",
       " 1       5.080872  0.980166)"
      ]
     },
     "execution_count": 12,
     "metadata": {},
     "output_type": "execute_result"
    }
   ],
   "source": [
    "f1.calculate_deviation(mode='ratio')"
   ]
  },
  {
   "cell_type": "code",
   "execution_count": null,
   "metadata": {},
   "outputs": [],
   "source": []
  },
  {
   "cell_type": "code",
   "execution_count": 13,
   "metadata": {},
   "outputs": [],
   "source": [
    "f2 = pf.CategoricalFeature(vec2)"
   ]
  },
  {
   "cell_type": "code",
   "execution_count": 14,
   "metadata": {},
   "outputs": [
    {
     "name": "stdout",
     "output_type": "stream",
     "text": [
      "0         1\n",
      "1         0\n",
      "2         1\n",
      "3         0\n",
      "4         1\n",
      "5         0\n",
      "6         1\n",
      "7         0\n",
      "8         1\n",
      "9         0\n",
      "10        0\n",
      "11        1\n",
      "12        1\n",
      "13        1\n",
      "14        0\n",
      "15        1\n",
      "16        0\n",
      "17        0\n",
      "18        0\n",
      "19        1\n",
      "20        0\n",
      "21        1\n",
      "22        1\n",
      "23        1\n",
      "24        0\n",
      "25        0\n",
      "26        1\n",
      "27        0\n",
      "28        1\n",
      "29        0\n",
      "         ..\n",
      "595182    0\n",
      "595183    0\n",
      "595184    0\n",
      "595185    1\n",
      "595186    1\n",
      "595187    0\n",
      "595188    0\n",
      "595189    0\n",
      "595190    0\n",
      "595191    0\n",
      "595192    0\n",
      "595193    0\n",
      "595194    1\n",
      "595195    1\n",
      "595196    0\n",
      "595197    1\n",
      "595198    1\n",
      "595199    1\n",
      "595200    0\n",
      "595201    1\n",
      "595202    0\n",
      "595203    1\n",
      "595204    1\n",
      "595205    1\n",
      "595206    0\n",
      "595207    0\n",
      "595208    0\n",
      "595209    0\n",
      "595210    1\n",
      "595211    0\n",
      "Name: ps_ind_04_cat, Length: 595212, dtype: int64\n",
      "None\n"
     ]
    }
   ],
   "source": [
    "print(f2.data)\n",
    "print(f2.target)"
   ]
  },
  {
   "cell_type": "code",
   "execution_count": 15,
   "metadata": {},
   "outputs": [
    {
     "name": "stdout",
     "output_type": "stream",
     "text": [
      "595212\n",
      "[-1, 0, 1]\n",
      "3\n"
     ]
    }
   ],
   "source": [
    "print(f2.num_samples)\n",
    "print(f2.unique_values)\n",
    "print(f2.num_unique_values)"
   ]
  },
  {
   "cell_type": "code",
   "execution_count": 16,
   "metadata": {},
   "outputs": [
    {
     "name": "stdout",
     "output_type": "stream",
     "text": [
      " 0    346965\n",
      " 1    248164\n",
      "-1        83\n",
      "Name: ps_ind_04_cat, dtype: int64\n",
      " 0    0.582927\n",
      " 1    0.416934\n",
      "-1    0.000139\n",
      "Name: ps_ind_04_cat, dtype: float64\n",
      "categorical\n"
     ]
    }
   ],
   "source": [
    "print(f2.value_counts)\n",
    "print(f2.value_frequencies)\n",
    "print(f2.feature_type)"
   ]
  },
  {
   "cell_type": "code",
   "execution_count": 17,
   "metadata": {},
   "outputs": [
    {
     "name": "stdout",
     "output_type": "stream",
     "text": [
      "None\n",
      "None\n",
      "None\n"
     ]
    }
   ],
   "source": [
    "print(f2.contingency_table)\n",
    "print(f2.frequency_table)\n",
    "print(f2.conditional_probas)"
   ]
  },
  {
   "cell_type": "code",
   "execution_count": 18,
   "metadata": {},
   "outputs": [
    {
     "data": {
      "text/plain": [
       "<module 'ps.feature' from '/home/ryohayama/python_current/porto_seguro/ps/feature.py'>"
      ]
     },
     "execution_count": 18,
     "metadata": {},
     "output_type": "execute_result"
    }
   ],
   "source": [
    "reload(pf)"
   ]
  },
  {
   "cell_type": "code",
   "execution_count": 19,
   "metadata": {},
   "outputs": [],
   "source": [
    "d1 = pd.concat([vec3, target], axis=1).replace({-1:np.NaN}).dropna()"
   ]
  },
  {
   "cell_type": "code",
   "execution_count": 20,
   "metadata": {},
   "outputs": [
    {
     "data": {
      "text/plain": [
       "(487440, 2)"
      ]
     },
     "execution_count": 20,
     "metadata": {},
     "output_type": "execute_result"
    }
   ],
   "source": [
    "d1.shape"
   ]
  },
  {
   "cell_type": "code",
   "execution_count": 21,
   "metadata": {},
   "outputs": [],
   "source": [
    "f3 = pf.OrdinalFeature(vec3)"
   ]
  },
  {
   "cell_type": "code",
   "execution_count": 22,
   "metadata": {},
   "outputs": [
    {
     "name": "stdout",
     "output_type": "stream",
     "text": [
      "4.0379450219\n",
      "-1.0\n"
     ]
    }
   ],
   "source": [
    "print(f3.max_value)\n",
    "print(f3.min_value)"
   ]
  },
  {
   "cell_type": "code",
   "execution_count": 23,
   "metadata": {},
   "outputs": [
    {
     "data": {
      "text/plain": [
       "<statsmodels.nonparametric.kde.KDEUnivariate at 0x7f05d87d15f8>"
      ]
     },
     "execution_count": 23,
     "metadata": {},
     "output_type": "execute_result"
    },
    {
     "data": {
      "image/png": "[encoded data removed]",
      "text/plain": [
       "<matplotlib.figure.Figure at 0x7f05d87d12b0>"
      ]
     },
     "metadata": {},
     "output_type": "display_data"
    }
   ],
   "source": [
    "f3.statsmodelsKDE(bw=0.15, hist_bins=15)"
   ]
  },
  {
   "cell_type": "code",
   "execution_count": 24,
   "metadata": {},
   "outputs": [],
   "source": [
    "a = f3.calculateDensityRatio(target, np.linspace(f3.min_value, f3.max_value, 100), bw=0.15)"
   ]
  },
  {
   "cell_type": "code",
   "execution_count": 25,
   "metadata": {},
   "outputs": [
    {
     "data": {
      "text/plain": [
       "[<matplotlib.lines.Line2D at 0x7f05d86c92e8>]"
      ]
     },
     "execution_count": 25,
     "metadata": {},
     "output_type": "execute_result"
    },
    {
     "data": {
      "image/png": "[encoded data removed]",
      "text/plain": [
       "<matplotlib.figure.Figure at 0x7f05d8761048>"
      ]
     },
     "metadata": {},
     "output_type": "display_data"
    }
   ],
   "source": [
    "plt.plot(np.linspace(f3.min_value, f3.max_value, 100), a)"
   ]
  },
  {
   "cell_type": "code",
   "execution_count": 26,
   "metadata": {},
   "outputs": [
    {
     "data": {
      "text/plain": [
       "DescribeResult(nobs=100, minmax=(4.7288416105724958e-08, 0.18348928160704342), mean=0.044310037979429444, variance=0.0010621438269957195, skewness=2.003805627705919, kurtosis=5.674532790813306)"
      ]
     },
     "execution_count": 26,
     "metadata": {},
     "output_type": "execute_result"
    }
   ],
   "source": [
    "scipy.stats.describe(a)"
   ]
  },
  {
   "cell_type": "code",
   "execution_count": 27,
   "metadata": {},
   "outputs": [],
   "source": [
    "b = f3.convert2DensityRatio(target, np.linspace(f3.min_value, f3.max_value, 100), bw=0.15)"
   ]
  },
  {
   "cell_type": "code",
   "execution_count": 28,
   "metadata": {},
   "outputs": [
    {
     "data": {
      "text/plain": [
       "array([  3.51334410e-02,   3.62446393e-02,   2.83932747e-02,\n",
       "         3.23913225e-02,   3.74156170e-02,   5.85054722e-02,\n",
       "         3.31948818e-02,   3.86062910e-02,   3.01743887e-02,\n",
       "         3.16985287e-02,   3.41111242e-02,   4.18479851e-02,\n",
       "         3.06058441e-02,   4.58461482e-02,   3.97701516e-02,\n",
       "         4.34391513e-02,   4.45564602e-02,   4.95027635e-02,\n",
       "         4.08622623e-02,   4.40488560e-02,   4.63499936e-02,\n",
       "         4.49941658e-02,   3.11079458e-02,   4.27082382e-02,\n",
       "         4.54072859e-02,   5.01270412e-02,   5.64040278e-02,\n",
       "         5.53978326e-02,   4.69310334e-02,   4.82297017e-02,\n",
       "         4.88768651e-02,   5.33097954e-02,   4.75701419e-02,\n",
       "         5.07877357e-02,   5.15245017e-02,   5.23638177e-02,\n",
       "         5.78965571e-02,   2.94346868e-02,   5.43390592e-02,\n",
       "         2.97922878e-02,   6.62553315e-02,   5.72621409e-02,\n",
       "         5.86439490e-02,   5.86167092e-02,   2.90715223e-02,\n",
       "         2.86629996e-02,   7.39046407e-02,   5.62673607e-02,\n",
       "         2.74409459e-02,   5.80407972e-02,   1.34512771e-01,\n",
       "         5.82920476e-02,   5.84993347e-02,   5.72202335e-02,\n",
       "         3.92339197e-02,   5.57657764e-02,   5.87306692e-02,\n",
       "         4.72884161e-08,   7.00066742e-02,   2.11646684e-04,\n",
       "         2.81504052e-02])"
      ]
     },
     "execution_count": 28,
     "metadata": {},
     "output_type": "execute_result"
    }
   ],
   "source": [
    "b.unique()"
   ]
  },
  {
   "cell_type": "code",
   "execution_count": 29,
   "metadata": {},
   "outputs": [
    {
     "data": {
      "text/plain": [
       "count    5.952120e+05\n",
       "mean     3.636460e-02\n",
       "std      6.339994e-03\n",
       "min      4.728842e-08\n",
       "25%      3.169853e-02\n",
       "50%      3.513344e-02\n",
       "75%      4.086226e-02\n",
       "max      1.345128e-01\n",
       "dtype: float64"
      ]
     },
     "execution_count": 29,
     "metadata": {},
     "output_type": "execute_result"
    }
   ],
   "source": [
    "b.describe()"
   ]
  },
  {
   "cell_type": "code",
   "execution_count": null,
   "metadata": {},
   "outputs": [],
   "source": []
  },
  {
   "cell_type": "code",
   "execution_count": 30,
   "metadata": {},
   "outputs": [
    {
     "data": {
      "text/plain": [
       "<module 'ps.feature' from '/home/ryohayama/python_current/porto_seguro/ps/feature.py'>"
      ]
     },
     "execution_count": 30,
     "metadata": {},
     "output_type": "execute_result"
    }
   ],
   "source": [
    "reload(pf)"
   ]
  },
  {
   "cell_type": "code",
   "execution_count": 31,
   "metadata": {},
   "outputs": [
    {
     "name": "stdout",
     "output_type": "stream",
     "text": [
      "1.2649110641\n",
      "-1.0\n"
     ]
    }
   ],
   "source": [
    "vec4 = train.ps_car_12\n",
    "f4 = pf.OrdinalFeature(vec4)\n",
    "print(f4.max_value)\n",
    "print(f4.min_value)"
   ]
  },
  {
   "cell_type": "code",
   "execution_count": 32,
   "metadata": {},
   "outputs": [
    {
     "data": {
      "text/plain": [
       "<statsmodels.nonparametric.kde.KDEUnivariate at 0x7f05d8734940>"
      ]
     },
     "execution_count": 32,
     "metadata": {},
     "output_type": "execute_result"
    },
    {
     "data": {
      "image/png": "[encoded data removed]",
      "text/plain": [
       "<matplotlib.figure.Figure at 0x7f05d86e0c50>"
      ]
     },
     "metadata": {},
     "output_type": "display_data"
    }
   ],
   "source": [
    "f4.statsmodelsKDE(bw=0.05, hist_bins=15)"
   ]
  },
  {
   "cell_type": "code",
   "execution_count": 33,
   "metadata": {},
   "outputs": [
    {
     "data": {
      "text/plain": [
       "[<matplotlib.lines.Line2D at 0x7f05d8654da0>]"
      ]
     },
     "execution_count": 33,
     "metadata": {},
     "output_type": "execute_result"
    },
    {
     "data": {
      "image/png": "[encoded data removed]",
      "text/plain": [
       "<matplotlib.figure.Figure at 0x7f05d868b160>"
      ]
     },
     "metadata": {},
     "output_type": "display_data"
    }
   ],
   "source": [
    "b = f4.calculateDensityRatio(target, np.linspace(f4.min_value, f4.max_value, 100), bw=0.06)\n",
    "plt.plot(np.linspace(f3.min_value, f3.max_value, 100), b)"
   ]
  },
  {
   "cell_type": "code",
   "execution_count": null,
   "metadata": {},
   "outputs": [],
   "source": []
  },
  {
   "cell_type": "code",
   "execution_count": null,
   "metadata": {},
   "outputs": [],
   "source": []
  },
  {
   "cell_type": "code",
   "execution_count": null,
   "metadata": {},
   "outputs": [],
   "source": []
  },
  {
   "cell_type": "code",
   "execution_count": null,
   "metadata": {},
   "outputs": [],
   "source": []
  },
  {
   "cell_type": "code",
   "execution_count": null,
   "metadata": {},
   "outputs": [],
   "source": []
  }
 ],
 "metadata": {
  "kernelspec": {
   "display_name": "Python 3",
   "language": "python",
   "name": "python3"
  },
  "language_info": {
   "codemirror_mode": {
    "name": "ipython",
    "version": 3
   },
   "file_extension": ".py",
   "mimetype": "text/x-python",
   "name": "python",
   "nbconvert_exporter": "python",
   "pygments_lexer": "ipython3",
   "version": "3.6.2"
  }
 },
 "nbformat": 4,
 "nbformat_minor": 2
}
