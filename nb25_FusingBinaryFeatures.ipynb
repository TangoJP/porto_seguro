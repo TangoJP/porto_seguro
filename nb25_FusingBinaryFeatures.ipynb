{
 "cells": [
  {
   "cell_type": "code",
   "execution_count": 1,
   "metadata": {},
   "outputs": [
    {
     "name": "stderr",
     "output_type": "stream",
     "text": [
      "/home/ryohayama/.local/lib/python3.6/site-packages/statsmodels/compat/pandas.py:56: FutureWarning: The pandas.core.datetools module is deprecated and will be removed in a future version. Please use the pandas.tseries module instead.\n",
      "  from pandas.core import datetools\n"
     ]
    }
   ],
   "source": [
    "import pandas as pd\n",
    "import numpy as np\n",
    "import matplotlib.pyplot as plt\n",
    "import statsmodels.api as sm\n",
    "import seaborn as sns\n",
    "%matplotlib inline\n",
    "\n",
    "from matplotlib import cm\n",
    "from imblearn.under_sampling import TomekLinks, RandomUnderSampler\n",
    "from imblearn.over_sampling import SMOTE\n",
    "from sklearn.model_selection import train_test_split\n",
    "from xgboost import XGBClassifier\n",
    "from feature_processing import (create_contingency_table,\n",
    "                                calculate_conditional_prob_bin,\n",
    "                                encode_my_categorical_labels,\n",
    "                                calculate_conditional_prob_cat,\n",
    "                                estimate_cond_prob_density,\n",
    "                                bin_myFeature)"
   ]
  },
  {
   "cell_type": "code",
   "execution_count": 2,
   "metadata": {},
   "outputs": [],
   "source": [
    "from feature_processing import (create_contingency_table,\n",
    "                                calculate_conditional_prob_bin,\n",
    "                                encode_my_categorical_labels,\n",
    "                                calculate_conditional_prob_cat,\n",
    "                                estimate_cond_prob_density,\n",
    "                                bin_myFeature)"
   ]
  },
  {
   "cell_type": "markdown",
   "metadata": {},
   "source": [
    "# Import Data"
   ]
  },
  {
   "cell_type": "code",
   "execution_count": 3,
   "metadata": {},
   "outputs": [],
   "source": [
    "train = pd.read_csv('data/digitized_trainset1.csv', header=0)"
   ]
  },
  {
   "cell_type": "code",
   "execution_count": 4,
   "metadata": {},
   "outputs": [
    {
     "data": {
      "text/plain": [
       "Index(['ps_calc_01', 'ps_calc_02', 'ps_calc_03', 'ps_calc_04', 'ps_calc_05',\n",
       "       'ps_calc_06', 'ps_calc_07', 'ps_calc_08', 'ps_calc_09', 'ps_calc_10',\n",
       "       ...\n",
       "       'ps_ind_04_cat_1', 'ps_ind_05_cat_NaN', 'ps_ind_05_cat_0',\n",
       "       'ps_ind_05_cat_1', 'ps_ind_05_cat_2', 'ps_ind_05_cat_3',\n",
       "       'ps_ind_05_cat_4', 'ps_ind_05_cat_5', 'ps_ind_05_cat_6', 'target'],\n",
       "      dtype='object', length=228)"
      ]
     },
     "execution_count": 4,
     "metadata": {},
     "output_type": "execute_result"
    }
   ],
   "source": [
    "train.columns"
   ]
  },
  {
   "cell_type": "code",
   "execution_count": 5,
   "metadata": {},
   "outputs": [
    {
     "name": "stdout",
     "output_type": "stream",
     "text": [
      "# total of features:      227\n",
      "# of binary features:      17\n",
      "# of categorical features: 184\n",
      "# of other features:       26\n"
     ]
    }
   ],
   "source": [
    "# Get different kinds of features\n",
    "all_fs = train.columns[:-1]\n",
    "binary_fs = sorted([f for f in all_fs if '_bin' in f])\n",
    "categorical_fs = sorted([f for f in all_fs if '_cat' in f])\n",
    "other_fs = sorted([f for f in all_fs\n",
    "            if f not in binary_fs\n",
    "            if f not in categorical_fs])\n",
    "\n",
    "print(\"# total of features: %8d\" % len(all_fs))\n",
    "print(\"# of binary features: %7d\" % len(binary_fs))\n",
    "print(\"# of categorical features: %1d\" % len(categorical_fs))\n",
    "print(\"# of other features: %8d\" % len(other_fs))"
   ]
  },
  {
   "cell_type": "code",
   "execution_count": 6,
   "metadata": {},
   "outputs": [],
   "source": [
    "binaries = train[binary_fs]"
   ]
  },
  {
   "cell_type": "markdown",
   "metadata": {},
   "source": [
    "# Calculate Frequency of Class1"
   ]
  },
  {
   "cell_type": "code",
   "execution_count": 7,
   "metadata": {},
   "outputs": [
    {
     "name": "stdout",
     "output_type": "stream",
     "text": [
      "Frequency of Class1=0.036448\n"
     ]
    }
   ],
   "source": [
    "target = train['target']\n",
    "total = len(target)\n",
    "num_class1 = np.sum(target)\n",
    "class1_frequency = num_class1/total\n",
    "print('Frequency of Class1=%f' % class1_frequency)"
   ]
  },
  {
   "cell_type": "markdown",
   "metadata": {},
   "source": [
    "# Write a function to analyze join probability of two binary features\n",
    "Things to calculate/plot\n",
    "- Calculate P(Class1|value=0) and P(Class1|value=1) for each feature (total 4 cond. probas)\n",
    "- Calculate co-occurence of feature values (i.e get contingency table)\n",
    "- Calculate chi statistic/p-value\n",
    "- For each combination of values (there are 4 combos), calculate P(Class|combo)\n",
    "- Assess if max(joint probas) is bigger than max(individual cond. probas)"
   ]
  },
  {
   "cell_type": "code",
   "execution_count": 8,
   "metadata": {},
   "outputs": [],
   "source": [
    "class BinaryComparison:\n",
    "    def __init__(self, feature1, feature2, target):\n",
    "        self.features = pd.concat([feature1, feature2], axis=1)\n",
    "        self.target = target\n",
    "        self._table = sm.stats.Table.from_data(self.features)\n",
    "        self.contingency_table_ = self._table.table_orig\n",
    "        self.chi_result_ = self._table.test_nominal_association()\n",
    "        self.chi_pvalue_ = self.chi_result_.pvalue\n",
    "        \n",
    "        self._f1 = self.features.iloc[:, 0]\n",
    "        self._f2 = self.features.iloc[:, 1]\n",
    "    \n",
    "    \n",
    "    def test_independence(self, significance_level=0.01):\n",
    "        if self.chi_pvalue_ < significance_level:\n",
    "            text = 'Feature association is significant (p-value=%.3f)' % self.chi_pvalue_\n",
    "        else:\n",
    "            text = 'Feature association is NOT significant (p-value=%.3f)' % self.chi_pvalue_\n",
    "        print(text)\n",
    "        return\n",
    "    \n",
    "    \n",
    "    def calculate_individual_probas(self):\n",
    "        fs = [self._f1, self._f2]\n",
    "        fs_labels = ['feature1_proba', 'feature2_proba']\n",
    "        individual_probas = {}\n",
    "        for i, f in enumerate(fs):\n",
    "            num_val0 = len(f[f == 0])\n",
    "            num_val1 = len(f[f == 1])\n",
    "            \n",
    "            num_class1_given_val0 = len(f[(f == 0) & (self.target == 1)])\n",
    "            num_class1_given_val1 = len(f[(f == 1) & (self.target == 1)])\n",
    "            try:\n",
    "                proba_class1_given_val0 = num_class1_given_val0 / num_val0\n",
    "            except ZeroDivisionError:\n",
    "                proba_class1_given_val0 = 0\n",
    "                \n",
    "            try:\n",
    "                proba_class1_given_val1 = num_class1_given_val1 / num_val1\n",
    "            except ZeroDivisionError:\n",
    "                proba_class1_given_val1 = 0\n",
    "                \n",
    "            individual_probas[fs_labels[i]] = (proba_class1_given_val0, proba_class1_given_val1)\n",
    "            \n",
    "        return individual_probas\n",
    "    \n",
    "    \n",
    "    def calculate_join_probas(self):\n",
    "        data = pd.concat([self.features, self.target], axis=1)\n",
    "        f10_f20 = len(data[(data.iloc[:, 0] == 0) & (data.iloc[:, 1] == 0)])\n",
    "        f11_f20 = len(data[(data.iloc[:, 0] == 1) & (data.iloc[:, 1] == 0)])\n",
    "        f10_f21 = len(data[(data.iloc[:, 0] == 0) & (data.iloc[:, 1] == 1)])\n",
    "        f11_f21 = len(data[(data.iloc[:, 0] == 1) & (data.iloc[:, 1] == 1)])\n",
    "        class1_given_f10_f20 = len(data[(data.iloc[:, 0] == 0) & (data.iloc[:, 1] == 0) & (data.iloc[:, 2] == 1)])\n",
    "        class1_given_f11_f20 = len(data[(data.iloc[:, 0] == 1) & (data.iloc[:, 1] == 0) & (data.iloc[:, 2] == 1)])\n",
    "        class1_given_f01_f21 = len(data[(data.iloc[:, 0] == 0) & (data.iloc[:, 1] == 1) & (data.iloc[:, 2] == 1)])\n",
    "        class1_given_f11_f21 = len(data[(data.iloc[:, 0] == 1) & (data.iloc[:, 1] == 1) & (data.iloc[:, 2] == 1)])\n",
    "        \n",
    "        try:\n",
    "            proba_00 = class1_given_f10_f20 / f10_f20\n",
    "        except ZeroDivisionError:\n",
    "            proba_00 = 0\n",
    "            \n",
    "        try:\n",
    "            proba_10 = class1_given_f11_f20 / f11_f20\n",
    "        except ZeroDivisionError:\n",
    "            proba_10 = 0\n",
    "            \n",
    "        try:\n",
    "            proba_01 = class1_given_f01_f21 / f10_f21\n",
    "        except ZeroDivisionError:\n",
    "            proba_01 = 0\n",
    "            \n",
    "        try:\n",
    "            proba_11 = class1_given_f11_f21 / f11_f21\n",
    "        except ZeroDivisionError:\n",
    "            proba_11 = 0\n",
    "        \n",
    "        join_proba_table = pd.DataFrame({self._f1.name: [0, 1, 0, 1], \n",
    "                                         self._f2.name: [0, 0, 1, 1],\n",
    "                                         'join_proba': [proba_00, proba_10, proba_01, proba_11]})\n",
    "        \n",
    "        return join_proba_table\n",
    "    \n",
    "    \n",
    "    def assess_joint_result(self, mode='ratio'):\n",
    "        individual_probas = self.calculate_individual_probas()\n",
    "        ind_probas = [i \n",
    "                      for k, v in individual_probas.items()\n",
    "                      for i in v\n",
    "                     ]\n",
    "        joint_probas = self.calculate_join_probas()\n",
    "        \n",
    "        best_ind_probas = np.max(ind_probas)\n",
    "        best_joint_probas = joint_probas['join_proba'].max()\n",
    "        \n",
    "        if mode == 'ratio':\n",
    "            gain = best_joint_probas / best_ind_probas\n",
    "        elif mode == 'subtraction':\n",
    "            gain = best_joint_probas - best_ind_probas\n",
    "        else:\n",
    "            print('Error: mode has to be ratio or subtraction')\n",
    "            \n",
    "        return gain"
   ]
  },
  {
   "cell_type": "markdown",
   "metadata": {},
   "source": [
    "### Test the function"
   ]
  },
  {
   "cell_type": "code",
   "execution_count": 9,
   "metadata": {},
   "outputs": [],
   "source": [
    "# Test case\n",
    "f1 = binaries.iloc[:, 0]\n",
    "f2 = binaries.iloc[:, 1]\n",
    "target = train['target']"
   ]
  },
  {
   "cell_type": "code",
   "execution_count": 10,
   "metadata": {},
   "outputs": [],
   "source": [
    "bc = BinaryComparison(f1, f2, target)"
   ]
  },
  {
   "cell_type": "code",
   "execution_count": 11,
   "metadata": {},
   "outputs": [
    {
     "name": "stdout",
     "output_type": "stream",
     "text": [
      "Feature association is NOT significant (p-value=0.767)\n"
     ]
    }
   ],
   "source": [
    "bc.test_independence()"
   ]
  },
  {
   "cell_type": "code",
   "execution_count": 12,
   "metadata": {},
   "outputs": [
    {
     "data": {
      "text/plain": [
       "{'feature1_proba': (0.03648184522783923, 0.03620145464525868),\n",
       " 'feature2_proba': (0.036295674314038844, 0.03653752495330454)}"
      ]
     },
     "execution_count": 12,
     "metadata": {},
     "output_type": "execute_result"
    }
   ],
   "source": [
    "bc.calculate_individual_probas()"
   ]
  },
  {
   "cell_type": "code",
   "execution_count": 13,
   "metadata": {},
   "outputs": [
    {
     "data": {
      "text/html": [
       "<div>\n",
       "<style scoped>\n",
       "    .dataframe tbody tr th:only-of-type {\n",
       "        vertical-align: middle;\n",
       "    }\n",
       "\n",
       "    .dataframe tbody tr th {\n",
       "        vertical-align: top;\n",
       "    }\n",
       "\n",
       "    .dataframe thead th {\n",
       "        text-align: right;\n",
       "    }\n",
       "</style>\n",
       "<table border=\"1\" class=\"dataframe\">\n",
       "  <thead>\n",
       "    <tr style=\"text-align: right;\">\n",
       "      <th></th>\n",
       "      <th>join_proba</th>\n",
       "      <th>ps_calc_15_bin</th>\n",
       "      <th>ps_calc_16_bin</th>\n",
       "    </tr>\n",
       "  </thead>\n",
       "  <tbody>\n",
       "    <tr>\n",
       "      <th>0</th>\n",
       "      <td>0.036280</td>\n",
       "      <td>0</td>\n",
       "      <td>0</td>\n",
       "    </tr>\n",
       "    <tr>\n",
       "      <th>1</th>\n",
       "      <td>0.036407</td>\n",
       "      <td>1</td>\n",
       "      <td>0</td>\n",
       "    </tr>\n",
       "    <tr>\n",
       "      <th>2</th>\n",
       "      <td>0.036601</td>\n",
       "      <td>0</td>\n",
       "      <td>1</td>\n",
       "    </tr>\n",
       "    <tr>\n",
       "      <th>3</th>\n",
       "      <td>0.036080</td>\n",
       "      <td>1</td>\n",
       "      <td>1</td>\n",
       "    </tr>\n",
       "  </tbody>\n",
       "</table>\n",
       "</div>"
      ],
      "text/plain": [
       "   join_proba  ps_calc_15_bin  ps_calc_16_bin\n",
       "0    0.036280               0               0\n",
       "1    0.036407               1               0\n",
       "2    0.036601               0               1\n",
       "3    0.036080               1               1"
      ]
     },
     "execution_count": 13,
     "metadata": {},
     "output_type": "execute_result"
    }
   ],
   "source": [
    "bc.calculate_join_probas()"
   ]
  },
  {
   "cell_type": "code",
   "execution_count": 14,
   "metadata": {},
   "outputs": [
    {
     "data": {
      "text/plain": [
       "1.0017480641467611"
      ]
     },
     "execution_count": 14,
     "metadata": {},
     "output_type": "execute_result"
    }
   ],
   "source": [
    "bc.assess_joint_result()"
   ]
  },
  {
   "cell_type": "code",
   "execution_count": null,
   "metadata": {},
   "outputs": [],
   "source": []
  },
  {
   "cell_type": "markdown",
   "metadata": {},
   "source": [
    "# Pairwise Analysis of All Binary Features"
   ]
  },
  {
   "cell_type": "code",
   "execution_count": 15,
   "metadata": {},
   "outputs": [
    {
     "name": "stdout",
     "output_type": "stream",
     "text": [
      "CPU times: user 11.1 s, sys: 34.4 ms, total: 11.1 s\n",
      "Wall time: 11.2 s\n"
     ]
    }
   ],
   "source": [
    "%%time\n",
    "target = train['target']\n",
    "num_binary_fs = len(binary_fs)\n",
    "gain_table = np.zeros((num_binary_fs, num_binary_fs))\n",
    "\n",
    "for i in range(num_binary_fs-1):\n",
    "    for j in range(i+1, num_binary_fs):\n",
    "        feature1 = binaries.iloc[:, i]\n",
    "        feature2 = binaries.iloc[:, j]\n",
    "        bc = BinaryComparison(feature1, feature2, target)\n",
    "        gain = bc.assess_joint_result()\n",
    "        gain_table[i, j] = gain - 1\n",
    "        gain_table[j, i] = gain - 1\n",
    "        \n",
    "gain_table = pd.DataFrame(gain_table, columns=binary_fs, index=binary_fs)"
   ]
  },
  {
   "cell_type": "code",
   "execution_count": 16,
   "metadata": {},
   "outputs": [
    {
     "name": "stdout",
     "output_type": "stream",
     "text": [
      "Heatmap for the independence/association test among binary features.\n",
      "Higher gain indicates higher discriminatory power by joint.\n"
     ]
    },
    {
     "data": {
      "image/png": "[encoded data removed]",
      "text/plain": [
       "<matplotlib.figure.Figure at 0x7f0918e84cc0>"
      ]
     },
     "metadata": {},
     "output_type": "display_data"
    }
   ],
   "source": [
    "plt.figure(figsize=(12,9))\n",
    "sns.heatmap(gain_table, linewidths=0.2, vmax=1.5, square=True, \n",
    "            cmap=cm.Greens, linecolor='white', annot=False)\n",
    "print('Heatmap for the independence/association test among binary features.')\n",
    "print('Higher gain indicates higher discriminatory power by joint.')"
   ]
  },
  {
   "cell_type": "markdown",
   "metadata": {},
   "source": [
    "Check the following pairs manually<br>\n",
    "(ind10, calc16), (ind08, ind10), (ind09, ind10), (ind11, calc18),<br>\n",
    "(ind08, ind11), (ind13, calc19), (ind13, ind17), (ind13, ind18), <br>\n",
    "(ind07, ind17), (ind07, ind12)"
   ]
  },
  {
   "cell_type": "code",
   "execution_count": 17,
   "metadata": {},
   "outputs": [
    {
     "data": {
      "text/html": [
       "<div>\n",
       "<style scoped>\n",
       "    .dataframe tbody tr th:only-of-type {\n",
       "        vertical-align: middle;\n",
       "    }\n",
       "\n",
       "    .dataframe tbody tr th {\n",
       "        vertical-align: top;\n",
       "    }\n",
       "\n",
       "    .dataframe thead th {\n",
       "        text-align: right;\n",
       "    }\n",
       "</style>\n",
       "<table border=\"1\" class=\"dataframe\">\n",
       "  <thead>\n",
       "    <tr style=\"text-align: right;\">\n",
       "      <th></th>\n",
       "      <th>join_proba</th>\n",
       "      <th>ps_calc_16_bin</th>\n",
       "      <th>ps_ind_10_bin</th>\n",
       "    </tr>\n",
       "  </thead>\n",
       "  <tbody>\n",
       "    <tr>\n",
       "      <th>0</th>\n",
       "      <td>0.036281</td>\n",
       "      <td>0</td>\n",
       "      <td>0</td>\n",
       "    </tr>\n",
       "    <tr>\n",
       "      <th>1</th>\n",
       "      <td>0.036536</td>\n",
       "      <td>1</td>\n",
       "      <td>0</td>\n",
       "    </tr>\n",
       "    <tr>\n",
       "      <th>2</th>\n",
       "      <td>0.077922</td>\n",
       "      <td>0</td>\n",
       "      <td>1</td>\n",
       "    </tr>\n",
       "    <tr>\n",
       "      <th>3</th>\n",
       "      <td>0.041379</td>\n",
       "      <td>1</td>\n",
       "      <td>1</td>\n",
       "    </tr>\n",
       "  </tbody>\n",
       "</table>\n",
       "</div>"
      ],
      "text/plain": [
       "   join_proba  ps_calc_16_bin  ps_ind_10_bin\n",
       "0    0.036281               0              0\n",
       "1    0.036536               1              0\n",
       "2    0.077922               0              1\n",
       "3    0.041379               1              1"
      ]
     },
     "execution_count": 17,
     "metadata": {},
     "output_type": "execute_result"
    }
   ],
   "source": [
    "bc_calc16_ind10 = BinaryComparison(binaries['ps_calc_16_bin'], binaries['ps_ind_10_bin'], target)\n",
    "bc_calc16_ind10.calculate_join_probas()"
   ]
  },
  {
   "cell_type": "markdown",
   "metadata": {},
   "source": [
    "Binary: (0, 1) vs else"
   ]
  },
  {
   "cell_type": "code",
   "execution_count": 18,
   "metadata": {},
   "outputs": [
    {
     "data": {
      "text/html": [
       "<div>\n",
       "<style scoped>\n",
       "    .dataframe tbody tr th:only-of-type {\n",
       "        vertical-align: middle;\n",
       "    }\n",
       "\n",
       "    .dataframe tbody tr th {\n",
       "        vertical-align: top;\n",
       "    }\n",
       "\n",
       "    .dataframe thead th {\n",
       "        text-align: right;\n",
       "    }\n",
       "</style>\n",
       "<table border=\"1\" class=\"dataframe\">\n",
       "  <thead>\n",
       "    <tr style=\"text-align: right;\">\n",
       "      <th></th>\n",
       "      <th>join_proba</th>\n",
       "      <th>ps_ind_08_bin</th>\n",
       "      <th>ps_ind_10_bin</th>\n",
       "    </tr>\n",
       "  </thead>\n",
       "  <tbody>\n",
       "    <tr>\n",
       "      <th>0</th>\n",
       "      <td>0.035354</td>\n",
       "      <td>0</td>\n",
       "      <td>0</td>\n",
       "    </tr>\n",
       "    <tr>\n",
       "      <th>1</th>\n",
       "      <td>0.041988</td>\n",
       "      <td>1</td>\n",
       "      <td>0</td>\n",
       "    </tr>\n",
       "    <tr>\n",
       "      <th>2</th>\n",
       "      <td>0.044304</td>\n",
       "      <td>0</td>\n",
       "      <td>1</td>\n",
       "    </tr>\n",
       "    <tr>\n",
       "      <th>3</th>\n",
       "      <td>0.078125</td>\n",
       "      <td>1</td>\n",
       "      <td>1</td>\n",
       "    </tr>\n",
       "  </tbody>\n",
       "</table>\n",
       "</div>"
      ],
      "text/plain": [
       "   join_proba  ps_ind_08_bin  ps_ind_10_bin\n",
       "0    0.035354              0              0\n",
       "1    0.041988              1              0\n",
       "2    0.044304              0              1\n",
       "3    0.078125              1              1"
      ]
     },
     "execution_count": 18,
     "metadata": {},
     "output_type": "execute_result"
    }
   ],
   "source": [
    "bc_ind08_ind10 = BinaryComparison(binaries['ps_ind_08_bin'], binaries['ps_ind_10_bin'], target)\n",
    "bc_ind08_ind10.calculate_join_probas()"
   ]
  },
  {
   "cell_type": "markdown",
   "metadata": {},
   "source": [
    "Binary: (1, 1) vs else"
   ]
  },
  {
   "cell_type": "code",
   "execution_count": 19,
   "metadata": {},
   "outputs": [
    {
     "data": {
      "text/html": [
       "<div>\n",
       "<style scoped>\n",
       "    .dataframe tbody tr th:only-of-type {\n",
       "        vertical-align: middle;\n",
       "    }\n",
       "\n",
       "    .dataframe tbody tr th {\n",
       "        vertical-align: top;\n",
       "    }\n",
       "\n",
       "    .dataframe thead th {\n",
       "        text-align: right;\n",
       "    }\n",
       "</style>\n",
       "<table border=\"1\" class=\"dataframe\">\n",
       "  <thead>\n",
       "    <tr style=\"text-align: right;\">\n",
       "      <th></th>\n",
       "      <th>join_proba</th>\n",
       "      <th>ps_ind_09_bin</th>\n",
       "      <th>ps_ind_10_bin</th>\n",
       "    </tr>\n",
       "  </thead>\n",
       "  <tbody>\n",
       "    <tr>\n",
       "      <th>0</th>\n",
       "      <td>0.037177</td>\n",
       "      <td>0</td>\n",
       "      <td>0</td>\n",
       "    </tr>\n",
       "    <tr>\n",
       "      <th>1</th>\n",
       "      <td>0.033205</td>\n",
       "      <td>1</td>\n",
       "      <td>0</td>\n",
       "    </tr>\n",
       "    <tr>\n",
       "      <th>2</th>\n",
       "      <td>0.051887</td>\n",
       "      <td>0</td>\n",
       "      <td>1</td>\n",
       "    </tr>\n",
       "    <tr>\n",
       "      <th>3</th>\n",
       "      <td>0.100000</td>\n",
       "      <td>1</td>\n",
       "      <td>1</td>\n",
       "    </tr>\n",
       "  </tbody>\n",
       "</table>\n",
       "</div>"
      ],
      "text/plain": [
       "   join_proba  ps_ind_09_bin  ps_ind_10_bin\n",
       "0    0.037177              0              0\n",
       "1    0.033205              1              0\n",
       "2    0.051887              0              1\n",
       "3    0.100000              1              1"
      ]
     },
     "execution_count": 19,
     "metadata": {},
     "output_type": "execute_result"
    }
   ],
   "source": [
    "bc_ind09_ind10 = BinaryComparison(binaries['ps_ind_09_bin'], binaries['ps_ind_10_bin'], target)\n",
    "bc_ind09_ind10.calculate_join_probas()"
   ]
  },
  {
   "cell_type": "markdown",
   "metadata": {},
   "source": [
    "Categorical: (1, 1) vs (0, 1) vs else"
   ]
  },
  {
   "cell_type": "code",
   "execution_count": 20,
   "metadata": {},
   "outputs": [
    {
     "data": {
      "text/html": [
       "<div>\n",
       "<style scoped>\n",
       "    .dataframe tbody tr th:only-of-type {\n",
       "        vertical-align: middle;\n",
       "    }\n",
       "\n",
       "    .dataframe tbody tr th {\n",
       "        vertical-align: top;\n",
       "    }\n",
       "\n",
       "    .dataframe thead th {\n",
       "        text-align: right;\n",
       "    }\n",
       "</style>\n",
       "<table border=\"1\" class=\"dataframe\">\n",
       "  <thead>\n",
       "    <tr style=\"text-align: right;\">\n",
       "      <th></th>\n",
       "      <th>join_proba</th>\n",
       "      <th>ps_calc_18_bin</th>\n",
       "      <th>ps_ind_11_bin</th>\n",
       "    </tr>\n",
       "  </thead>\n",
       "  <tbody>\n",
       "    <tr>\n",
       "      <th>0</th>\n",
       "      <td>0.036385</td>\n",
       "      <td>0</td>\n",
       "      <td>0</td>\n",
       "    </tr>\n",
       "    <tr>\n",
       "      <th>1</th>\n",
       "      <td>0.036547</td>\n",
       "      <td>1</td>\n",
       "      <td>0</td>\n",
       "    </tr>\n",
       "    <tr>\n",
       "      <th>2</th>\n",
       "      <td>0.034247</td>\n",
       "      <td>0</td>\n",
       "      <td>1</td>\n",
       "    </tr>\n",
       "    <tr>\n",
       "      <th>3</th>\n",
       "      <td>0.075812</td>\n",
       "      <td>1</td>\n",
       "      <td>1</td>\n",
       "    </tr>\n",
       "  </tbody>\n",
       "</table>\n",
       "</div>"
      ],
      "text/plain": [
       "   join_proba  ps_calc_18_bin  ps_ind_11_bin\n",
       "0    0.036385               0              0\n",
       "1    0.036547               1              0\n",
       "2    0.034247               0              1\n",
       "3    0.075812               1              1"
      ]
     },
     "execution_count": 20,
     "metadata": {},
     "output_type": "execute_result"
    }
   ],
   "source": [
    "bc_calc18_ind11 = BinaryComparison(binaries['ps_calc_18_bin'], binaries['ps_ind_11_bin'], target)\n",
    "bc_calc18_ind11.calculate_join_probas()"
   ]
  },
  {
   "cell_type": "markdown",
   "metadata": {},
   "source": [
    "Binary: (1, 1) vs else"
   ]
  },
  {
   "cell_type": "code",
   "execution_count": 21,
   "metadata": {},
   "outputs": [
    {
     "data": {
      "text/html": [
       "<div>\n",
       "<style scoped>\n",
       "    .dataframe tbody tr th:only-of-type {\n",
       "        vertical-align: middle;\n",
       "    }\n",
       "\n",
       "    .dataframe tbody tr th {\n",
       "        vertical-align: top;\n",
       "    }\n",
       "\n",
       "    .dataframe thead th {\n",
       "        text-align: right;\n",
       "    }\n",
       "</style>\n",
       "<table border=\"1\" class=\"dataframe\">\n",
       "  <thead>\n",
       "    <tr style=\"text-align: right;\">\n",
       "      <th></th>\n",
       "      <th>join_proba</th>\n",
       "      <th>ps_ind_08_bin</th>\n",
       "      <th>ps_ind_11_bin</th>\n",
       "    </tr>\n",
       "  </thead>\n",
       "  <tbody>\n",
       "    <tr>\n",
       "      <th>0</th>\n",
       "      <td>0.035350</td>\n",
       "      <td>0</td>\n",
       "      <td>0</td>\n",
       "    </tr>\n",
       "    <tr>\n",
       "      <th>1</th>\n",
       "      <td>0.041958</td>\n",
       "      <td>1</td>\n",
       "      <td>0</td>\n",
       "    </tr>\n",
       "    <tr>\n",
       "      <th>2</th>\n",
       "      <td>0.039947</td>\n",
       "      <td>0</td>\n",
       "      <td>1</td>\n",
       "    </tr>\n",
       "    <tr>\n",
       "      <th>3</th>\n",
       "      <td>0.062500</td>\n",
       "      <td>1</td>\n",
       "      <td>1</td>\n",
       "    </tr>\n",
       "  </tbody>\n",
       "</table>\n",
       "</div>"
      ],
      "text/plain": [
       "   join_proba  ps_ind_08_bin  ps_ind_11_bin\n",
       "0    0.035350              0              0\n",
       "1    0.041958              1              0\n",
       "2    0.039947              0              1\n",
       "3    0.062500              1              1"
      ]
     },
     "execution_count": 21,
     "metadata": {},
     "output_type": "execute_result"
    }
   ],
   "source": [
    "bc_ind08_ind11 = BinaryComparison(binaries['ps_ind_08_bin'], binaries['ps_ind_11_bin'], target)\n",
    "bc_ind08_ind11.calculate_join_probas()"
   ]
  },
  {
   "cell_type": "markdown",
   "metadata": {},
   "source": [
    "Binary: (1, 1) vs else"
   ]
  },
  {
   "cell_type": "code",
   "execution_count": 22,
   "metadata": {},
   "outputs": [
    {
     "data": {
      "text/html": [
       "<div>\n",
       "<style scoped>\n",
       "    .dataframe tbody tr th:only-of-type {\n",
       "        vertical-align: middle;\n",
       "    }\n",
       "\n",
       "    .dataframe tbody tr th {\n",
       "        vertical-align: top;\n",
       "    }\n",
       "\n",
       "    .dataframe thead th {\n",
       "        text-align: right;\n",
       "    }\n",
       "</style>\n",
       "<table border=\"1\" class=\"dataframe\">\n",
       "  <thead>\n",
       "    <tr style=\"text-align: right;\">\n",
       "      <th></th>\n",
       "      <th>join_proba</th>\n",
       "      <th>ps_calc_19_bin</th>\n",
       "      <th>ps_ind_13_bin</th>\n",
       "    </tr>\n",
       "  </thead>\n",
       "  <tbody>\n",
       "    <tr>\n",
       "      <th>0</th>\n",
       "      <td>0.036686</td>\n",
       "      <td>0</td>\n",
       "      <td>0</td>\n",
       "    </tr>\n",
       "    <tr>\n",
       "      <th>1</th>\n",
       "      <td>0.035961</td>\n",
       "      <td>1</td>\n",
       "      <td>0</td>\n",
       "    </tr>\n",
       "    <tr>\n",
       "      <th>2</th>\n",
       "      <td>0.037249</td>\n",
       "      <td>0</td>\n",
       "      <td>1</td>\n",
       "    </tr>\n",
       "    <tr>\n",
       "      <th>3</th>\n",
       "      <td>0.074419</td>\n",
       "      <td>1</td>\n",
       "      <td>1</td>\n",
       "    </tr>\n",
       "  </tbody>\n",
       "</table>\n",
       "</div>"
      ],
      "text/plain": [
       "   join_proba  ps_calc_19_bin  ps_ind_13_bin\n",
       "0    0.036686               0              0\n",
       "1    0.035961               1              0\n",
       "2    0.037249               0              1\n",
       "3    0.074419               1              1"
      ]
     },
     "execution_count": 22,
     "metadata": {},
     "output_type": "execute_result"
    }
   ],
   "source": [
    "bc_calc19_ind13 = BinaryComparison(binaries['ps_calc_19_bin'], binaries['ps_ind_13_bin'], target)\n",
    "bc_calc19_ind13.calculate_join_probas()"
   ]
  },
  {
   "cell_type": "markdown",
   "metadata": {},
   "source": [
    "Binary: (1, 1) vs else"
   ]
  },
  {
   "cell_type": "code",
   "execution_count": 23,
   "metadata": {},
   "outputs": [
    {
     "data": {
      "text/html": [
       "<div>\n",
       "<style scoped>\n",
       "    .dataframe tbody tr th:only-of-type {\n",
       "        vertical-align: middle;\n",
       "    }\n",
       "\n",
       "    .dataframe tbody tr th {\n",
       "        vertical-align: top;\n",
       "    }\n",
       "\n",
       "    .dataframe thead th {\n",
       "        text-align: right;\n",
       "    }\n",
       "</style>\n",
       "<table border=\"1\" class=\"dataframe\">\n",
       "  <thead>\n",
       "    <tr style=\"text-align: right;\">\n",
       "      <th></th>\n",
       "      <th>join_proba</th>\n",
       "      <th>ps_ind_13_bin</th>\n",
       "      <th>ps_ind_17_bin</th>\n",
       "    </tr>\n",
       "  </thead>\n",
       "  <tbody>\n",
       "    <tr>\n",
       "      <th>0</th>\n",
       "      <td>0.033861</td>\n",
       "      <td>0</td>\n",
       "      <td>0</td>\n",
       "    </tr>\n",
       "    <tr>\n",
       "      <th>1</th>\n",
       "      <td>0.044586</td>\n",
       "      <td>1</td>\n",
       "      <td>0</td>\n",
       "    </tr>\n",
       "    <tr>\n",
       "      <th>2</th>\n",
       "      <td>0.055116</td>\n",
       "      <td>0</td>\n",
       "      <td>1</td>\n",
       "    </tr>\n",
       "    <tr>\n",
       "      <th>3</th>\n",
       "      <td>0.086022</td>\n",
       "      <td>1</td>\n",
       "      <td>1</td>\n",
       "    </tr>\n",
       "  </tbody>\n",
       "</table>\n",
       "</div>"
      ],
      "text/plain": [
       "   join_proba  ps_ind_13_bin  ps_ind_17_bin\n",
       "0    0.033861              0              0\n",
       "1    0.044586              1              0\n",
       "2    0.055116              0              1\n",
       "3    0.086022              1              1"
      ]
     },
     "execution_count": 23,
     "metadata": {},
     "output_type": "execute_result"
    }
   ],
   "source": [
    "bc_ind13_ind17 = BinaryComparison(binaries['ps_ind_13_bin'], binaries['ps_ind_17_bin'], target)\n",
    "bc_ind13_ind17.calculate_join_probas()"
   ]
  },
  {
   "cell_type": "markdown",
   "metadata": {},
   "source": [
    "Categorical: (1, 1) vs (0, 1) vs else (or use 4 categories)"
   ]
  },
  {
   "cell_type": "code",
   "execution_count": 24,
   "metadata": {},
   "outputs": [
    {
     "data": {
      "text/html": [
       "<div>\n",
       "<style scoped>\n",
       "    .dataframe tbody tr th:only-of-type {\n",
       "        vertical-align: middle;\n",
       "    }\n",
       "\n",
       "    .dataframe tbody tr th {\n",
       "        vertical-align: top;\n",
       "    }\n",
       "\n",
       "    .dataframe thead th {\n",
       "        text-align: right;\n",
       "    }\n",
       "</style>\n",
       "<table border=\"1\" class=\"dataframe\">\n",
       "  <thead>\n",
       "    <tr style=\"text-align: right;\">\n",
       "      <th></th>\n",
       "      <th>join_proba</th>\n",
       "      <th>ps_ind_13_bin</th>\n",
       "      <th>ps_ind_18_bin</th>\n",
       "    </tr>\n",
       "  </thead>\n",
       "  <tbody>\n",
       "    <tr>\n",
       "      <th>0</th>\n",
       "      <td>0.036074</td>\n",
       "      <td>0</td>\n",
       "      <td>0</td>\n",
       "    </tr>\n",
       "    <tr>\n",
       "      <th>1</th>\n",
       "      <td>0.070423</td>\n",
       "      <td>1</td>\n",
       "      <td>0</td>\n",
       "    </tr>\n",
       "    <tr>\n",
       "      <th>2</th>\n",
       "      <td>0.038422</td>\n",
       "      <td>0</td>\n",
       "      <td>1</td>\n",
       "    </tr>\n",
       "    <tr>\n",
       "      <th>3</th>\n",
       "      <td>0.045024</td>\n",
       "      <td>1</td>\n",
       "      <td>1</td>\n",
       "    </tr>\n",
       "  </tbody>\n",
       "</table>\n",
       "</div>"
      ],
      "text/plain": [
       "   join_proba  ps_ind_13_bin  ps_ind_18_bin\n",
       "0    0.036074              0              0\n",
       "1    0.070423              1              0\n",
       "2    0.038422              0              1\n",
       "3    0.045024              1              1"
      ]
     },
     "execution_count": 24,
     "metadata": {},
     "output_type": "execute_result"
    }
   ],
   "source": [
    "bc_ind13_ind18 = BinaryComparison(binaries['ps_ind_13_bin'], binaries['ps_ind_18_bin'], target)\n",
    "bc_ind13_ind18.calculate_join_probas()"
   ]
  },
  {
   "cell_type": "markdown",
   "metadata": {},
   "source": [
    "Binary: (1, 0) vs else"
   ]
  },
  {
   "cell_type": "code",
   "execution_count": 25,
   "metadata": {},
   "outputs": [
    {
     "data": {
      "text/html": [
       "<div>\n",
       "<style scoped>\n",
       "    .dataframe tbody tr th:only-of-type {\n",
       "        vertical-align: middle;\n",
       "    }\n",
       "\n",
       "    .dataframe tbody tr th {\n",
       "        vertical-align: top;\n",
       "    }\n",
       "\n",
       "    .dataframe thead th {\n",
       "        text-align: right;\n",
       "    }\n",
       "</style>\n",
       "<table border=\"1\" class=\"dataframe\">\n",
       "  <thead>\n",
       "    <tr style=\"text-align: right;\">\n",
       "      <th></th>\n",
       "      <th>join_proba</th>\n",
       "      <th>ps_ind_07_bin</th>\n",
       "      <th>ps_ind_12_bin</th>\n",
       "    </tr>\n",
       "  </thead>\n",
       "  <tbody>\n",
       "    <tr>\n",
       "      <th>0</th>\n",
       "      <td>0.032613</td>\n",
       "      <td>0</td>\n",
       "      <td>0</td>\n",
       "    </tr>\n",
       "    <tr>\n",
       "      <th>1</th>\n",
       "      <td>0.047064</td>\n",
       "      <td>1</td>\n",
       "      <td>0</td>\n",
       "    </tr>\n",
       "    <tr>\n",
       "      <th>2</th>\n",
       "      <td>0.041193</td>\n",
       "      <td>0</td>\n",
       "      <td>1</td>\n",
       "    </tr>\n",
       "    <tr>\n",
       "      <th>3</th>\n",
       "      <td>0.065539</td>\n",
       "      <td>1</td>\n",
       "      <td>1</td>\n",
       "    </tr>\n",
       "  </tbody>\n",
       "</table>\n",
       "</div>"
      ],
      "text/plain": [
       "   join_proba  ps_ind_07_bin  ps_ind_12_bin\n",
       "0    0.032613              0              0\n",
       "1    0.047064              1              0\n",
       "2    0.041193              0              1\n",
       "3    0.065539              1              1"
      ]
     },
     "execution_count": 25,
     "metadata": {},
     "output_type": "execute_result"
    }
   ],
   "source": [
    "bc_ind07_ind12 = BinaryComparison(binaries['ps_ind_07_bin'], binaries['ps_ind_12_bin'], target)\n",
    "bc_ind07_ind12.calculate_join_probas()"
   ]
  },
  {
   "cell_type": "markdown",
   "metadata": {},
   "source": [
    "Binary or categorical: (1, 1) vs else OR (1, 1) vs (1, 0) vs else"
   ]
  },
  {
   "cell_type": "code",
   "execution_count": 26,
   "metadata": {},
   "outputs": [
    {
     "data": {
      "text/html": [
       "<div>\n",
       "<style scoped>\n",
       "    .dataframe tbody tr th:only-of-type {\n",
       "        vertical-align: middle;\n",
       "    }\n",
       "\n",
       "    .dataframe tbody tr th {\n",
       "        vertical-align: top;\n",
       "    }\n",
       "\n",
       "    .dataframe thead th {\n",
       "        text-align: right;\n",
       "    }\n",
       "</style>\n",
       "<table border=\"1\" class=\"dataframe\">\n",
       "  <thead>\n",
       "    <tr style=\"text-align: right;\">\n",
       "      <th></th>\n",
       "      <th>join_proba</th>\n",
       "      <th>ps_ind_07_bin</th>\n",
       "      <th>ps_ind_17_bin</th>\n",
       "    </tr>\n",
       "  </thead>\n",
       "  <tbody>\n",
       "    <tr>\n",
       "      <th>0</th>\n",
       "      <td>0.030606</td>\n",
       "      <td>0</td>\n",
       "      <td>0</td>\n",
       "    </tr>\n",
       "    <tr>\n",
       "      <th>1</th>\n",
       "      <td>0.043473</td>\n",
       "      <td>1</td>\n",
       "      <td>0</td>\n",
       "    </tr>\n",
       "    <tr>\n",
       "      <th>2</th>\n",
       "      <td>0.048279</td>\n",
       "      <td>0</td>\n",
       "      <td>1</td>\n",
       "    </tr>\n",
       "    <tr>\n",
       "      <th>3</th>\n",
       "      <td>0.072707</td>\n",
       "      <td>1</td>\n",
       "      <td>1</td>\n",
       "    </tr>\n",
       "  </tbody>\n",
       "</table>\n",
       "</div>"
      ],
      "text/plain": [
       "   join_proba  ps_ind_07_bin  ps_ind_17_bin\n",
       "0    0.030606              0              0\n",
       "1    0.043473              1              0\n",
       "2    0.048279              0              1\n",
       "3    0.072707              1              1"
      ]
     },
     "execution_count": 26,
     "metadata": {},
     "output_type": "execute_result"
    }
   ],
   "source": [
    "bc_ind07_ind17 = BinaryComparison(binaries['ps_ind_07_bin'], binaries['ps_ind_17_bin'], target)\n",
    "bc_ind07_ind17.calculate_join_probas()"
   ]
  },
  {
   "cell_type": "markdown",
   "metadata": {},
   "source": [
    "Binary or categorical: (1, 1) vs else OR (1, 1) vs (0, 1) vs else"
   ]
  },
  {
   "cell_type": "code",
   "execution_count": 27,
   "metadata": {},
   "outputs": [
    {
     "data": {
      "text/html": [
       "<div>\n",
       "<style scoped>\n",
       "    .dataframe tbody tr th:only-of-type {\n",
       "        vertical-align: middle;\n",
       "    }\n",
       "\n",
       "    .dataframe tbody tr th {\n",
       "        vertical-align: top;\n",
       "    }\n",
       "\n",
       "    .dataframe thead th {\n",
       "        text-align: right;\n",
       "    }\n",
       "</style>\n",
       "<table border=\"1\" class=\"dataframe\">\n",
       "  <thead>\n",
       "    <tr style=\"text-align: right;\">\n",
       "      <th></th>\n",
       "      <th>join_proba</th>\n",
       "      <th>ps_calc_15_bin</th>\n",
       "      <th>ps_ind_10_bin</th>\n",
       "    </tr>\n",
       "  </thead>\n",
       "  <tbody>\n",
       "    <tr>\n",
       "      <th>0</th>\n",
       "      <td>0.036475</td>\n",
       "      <td>0</td>\n",
       "      <td>0</td>\n",
       "    </tr>\n",
       "    <tr>\n",
       "      <th>1</th>\n",
       "      <td>0.036195</td>\n",
       "      <td>1</td>\n",
       "      <td>0</td>\n",
       "    </tr>\n",
       "    <tr>\n",
       "      <th>2</th>\n",
       "      <td>0.053140</td>\n",
       "      <td>0</td>\n",
       "      <td>1</td>\n",
       "    </tr>\n",
       "    <tr>\n",
       "      <th>3</th>\n",
       "      <td>0.066667</td>\n",
       "      <td>1</td>\n",
       "      <td>1</td>\n",
       "    </tr>\n",
       "  </tbody>\n",
       "</table>\n",
       "</div>"
      ],
      "text/plain": [
       "   join_proba  ps_calc_15_bin  ps_ind_10_bin\n",
       "0    0.036475               0              0\n",
       "1    0.036195               1              0\n",
       "2    0.053140               0              1\n",
       "3    0.066667               1              1"
      ]
     },
     "execution_count": 27,
     "metadata": {},
     "output_type": "execute_result"
    }
   ],
   "source": [
    "bc_calc15_ind10 = BinaryComparison(binaries['ps_calc_15_bin'], binaries['ps_ind_10_bin'], target)\n",
    "bc_calc15_ind10.calculate_join_probas()"
   ]
  },
  {
   "cell_type": "markdown",
   "metadata": {},
   "source": [
    "Categorical or binary: (1, 1) vs (0,1) vs else OR (1, 1)&(0, 1) vs else"
   ]
  },
  {
   "cell_type": "code",
   "execution_count": 28,
   "metadata": {},
   "outputs": [
    {
     "data": {
      "text/html": [
       "<div>\n",
       "<style scoped>\n",
       "    .dataframe tbody tr th:only-of-type {\n",
       "        vertical-align: middle;\n",
       "    }\n",
       "\n",
       "    .dataframe tbody tr th {\n",
       "        vertical-align: top;\n",
       "    }\n",
       "\n",
       "    .dataframe thead th {\n",
       "        text-align: right;\n",
       "    }\n",
       "</style>\n",
       "<table border=\"1\" class=\"dataframe\">\n",
       "  <thead>\n",
       "    <tr style=\"text-align: right;\">\n",
       "      <th></th>\n",
       "      <th>join_proba</th>\n",
       "      <th>ps_calc_19_bin</th>\n",
       "      <th>ps_ind_13_bin</th>\n",
       "    </tr>\n",
       "  </thead>\n",
       "  <tbody>\n",
       "    <tr>\n",
       "      <th>0</th>\n",
       "      <td>0.036686</td>\n",
       "      <td>0</td>\n",
       "      <td>0</td>\n",
       "    </tr>\n",
       "    <tr>\n",
       "      <th>1</th>\n",
       "      <td>0.035961</td>\n",
       "      <td>1</td>\n",
       "      <td>0</td>\n",
       "    </tr>\n",
       "    <tr>\n",
       "      <th>2</th>\n",
       "      <td>0.037249</td>\n",
       "      <td>0</td>\n",
       "      <td>1</td>\n",
       "    </tr>\n",
       "    <tr>\n",
       "      <th>3</th>\n",
       "      <td>0.074419</td>\n",
       "      <td>1</td>\n",
       "      <td>1</td>\n",
       "    </tr>\n",
       "  </tbody>\n",
       "</table>\n",
       "</div>"
      ],
      "text/plain": [
       "   join_proba  ps_calc_19_bin  ps_ind_13_bin\n",
       "0    0.036686               0              0\n",
       "1    0.035961               1              0\n",
       "2    0.037249               0              1\n",
       "3    0.074419               1              1"
      ]
     },
     "execution_count": 28,
     "metadata": {},
     "output_type": "execute_result"
    }
   ],
   "source": [
    "bc_calc19_ind13 = BinaryComparison(binaries['ps_calc_19_bin'], binaries['ps_ind_13_bin'], target)\n",
    "bc_calc19_ind13.calculate_join_probas()"
   ]
  },
  {
   "cell_type": "markdown",
   "metadata": {},
   "source": [
    "Binary: (1, 1) vs else"
   ]
  },
  {
   "cell_type": "markdown",
   "metadata": {},
   "source": [
    "# Fusing Features Based on Joint Probabilities"
   ]
  },
  {
   "cell_type": "code",
   "execution_count": 29,
   "metadata": {},
   "outputs": [
    {
     "data": {
      "text/plain": [
       "['ps_calc_15_bin',\n",
       " 'ps_calc_16_bin',\n",
       " 'ps_calc_17_bin',\n",
       " 'ps_calc_18_bin',\n",
       " 'ps_calc_19_bin',\n",
       " 'ps_calc_20_bin',\n",
       " 'ps_ind_06_bin',\n",
       " 'ps_ind_07_bin',\n",
       " 'ps_ind_08_bin',\n",
       " 'ps_ind_09_bin',\n",
       " 'ps_ind_10_bin',\n",
       " 'ps_ind_11_bin',\n",
       " 'ps_ind_12_bin',\n",
       " 'ps_ind_13_bin',\n",
       " 'ps_ind_16_bin',\n",
       " 'ps_ind_17_bin',\n",
       " 'ps_ind_18_bin']"
      ]
     },
     "execution_count": 29,
     "metadata": {},
     "output_type": "execute_result"
    }
   ],
   "source": [
    "binary_fs"
   ]
  },
  {
   "cell_type": "markdown",
   "metadata": {},
   "source": [
    "fuse_pairs = [('ps_ind_09_bin', 'ps_ind_10_bin'), \n",
    "              ('ps_ind_11_bin', 'ps_calc_18_bin'), \n",
    "              ('ps_ind_13_bin', 'ps_ind_17_bin'), \n",
    "              ('ps_ind_07_bin', 'ps_ind_12_bin'),\n",
    "              ('ps_ind_08_bin', 'ps_ind_16_bin')]"
   ]
  },
  {
   "cell_type": "markdown",
   "metadata": {},
   "source": [
    "### ind09-ind10"
   ]
  },
  {
   "cell_type": "code",
   "execution_count": 30,
   "metadata": {},
   "outputs": [
    {
     "data": {
      "text/html": [
       "<div>\n",
       "<style scoped>\n",
       "    .dataframe tbody tr th:only-of-type {\n",
       "        vertical-align: middle;\n",
       "    }\n",
       "\n",
       "    .dataframe tbody tr th {\n",
       "        vertical-align: top;\n",
       "    }\n",
       "\n",
       "    .dataframe thead th {\n",
       "        text-align: right;\n",
       "    }\n",
       "</style>\n",
       "<table border=\"1\" class=\"dataframe\">\n",
       "  <thead>\n",
       "    <tr style=\"text-align: right;\">\n",
       "      <th></th>\n",
       "      <th>join_proba</th>\n",
       "      <th>ps_ind_09_bin</th>\n",
       "      <th>ps_ind_10_bin</th>\n",
       "    </tr>\n",
       "  </thead>\n",
       "  <tbody>\n",
       "    <tr>\n",
       "      <th>0</th>\n",
       "      <td>0.037177</td>\n",
       "      <td>0</td>\n",
       "      <td>0</td>\n",
       "    </tr>\n",
       "    <tr>\n",
       "      <th>1</th>\n",
       "      <td>0.033205</td>\n",
       "      <td>1</td>\n",
       "      <td>0</td>\n",
       "    </tr>\n",
       "    <tr>\n",
       "      <th>2</th>\n",
       "      <td>0.051887</td>\n",
       "      <td>0</td>\n",
       "      <td>1</td>\n",
       "    </tr>\n",
       "    <tr>\n",
       "      <th>3</th>\n",
       "      <td>0.100000</td>\n",
       "      <td>1</td>\n",
       "      <td>1</td>\n",
       "    </tr>\n",
       "  </tbody>\n",
       "</table>\n",
       "</div>"
      ],
      "text/plain": [
       "   join_proba  ps_ind_09_bin  ps_ind_10_bin\n",
       "0    0.037177              0              0\n",
       "1    0.033205              1              0\n",
       "2    0.051887              0              1\n",
       "3    0.100000              1              1"
      ]
     },
     "execution_count": 30,
     "metadata": {},
     "output_type": "execute_result"
    }
   ],
   "source": [
    "bc_ind09_ind10 = BinaryComparison(binaries['ps_ind_09_bin'], binaries['ps_ind_10_bin'], target)\n",
    "bc_ind09_ind10.calculate_join_probas()"
   ]
  },
  {
   "cell_type": "code",
   "execution_count": 31,
   "metadata": {},
   "outputs": [],
   "source": [
    "vec1 = bc_ind09_ind10.features\n",
    "vec1['ind09_ind10_fusion'] = 0\n",
    "vec1['ind09_ind10_fusion'][(vec1['ps_ind_09_bin'] == 0) & (vec1['ps_ind_10_bin'] == 1)] = 1\n",
    "vec1['ind09_ind10_fusion'][(vec1['ps_ind_09_bin'] == 1) & (vec1['ps_ind_10_bin'] == 1)] = 2\n",
    "ind09_ind10_fusion = vec1['ind09_ind10_fusion']"
   ]
  },
  {
   "cell_type": "markdown",
   "metadata": {},
   "source": [
    "### ind11-calc18"
   ]
  },
  {
   "cell_type": "code",
   "execution_count": 32,
   "metadata": {},
   "outputs": [
    {
     "data": {
      "text/html": [
       "<div>\n",
       "<style scoped>\n",
       "    .dataframe tbody tr th:only-of-type {\n",
       "        vertical-align: middle;\n",
       "    }\n",
       "\n",
       "    .dataframe tbody tr th {\n",
       "        vertical-align: top;\n",
       "    }\n",
       "\n",
       "    .dataframe thead th {\n",
       "        text-align: right;\n",
       "    }\n",
       "</style>\n",
       "<table border=\"1\" class=\"dataframe\">\n",
       "  <thead>\n",
       "    <tr style=\"text-align: right;\">\n",
       "      <th></th>\n",
       "      <th>join_proba</th>\n",
       "      <th>ps_calc_18_bin</th>\n",
       "      <th>ps_ind_11_bin</th>\n",
       "    </tr>\n",
       "  </thead>\n",
       "  <tbody>\n",
       "    <tr>\n",
       "      <th>0</th>\n",
       "      <td>0.036385</td>\n",
       "      <td>0</td>\n",
       "      <td>0</td>\n",
       "    </tr>\n",
       "    <tr>\n",
       "      <th>1</th>\n",
       "      <td>0.034247</td>\n",
       "      <td>0</td>\n",
       "      <td>1</td>\n",
       "    </tr>\n",
       "    <tr>\n",
       "      <th>2</th>\n",
       "      <td>0.036547</td>\n",
       "      <td>1</td>\n",
       "      <td>0</td>\n",
       "    </tr>\n",
       "    <tr>\n",
       "      <th>3</th>\n",
       "      <td>0.075812</td>\n",
       "      <td>1</td>\n",
       "      <td>1</td>\n",
       "    </tr>\n",
       "  </tbody>\n",
       "</table>\n",
       "</div>"
      ],
      "text/plain": [
       "   join_proba  ps_calc_18_bin  ps_ind_11_bin\n",
       "0    0.036385               0              0\n",
       "1    0.034247               0              1\n",
       "2    0.036547               1              0\n",
       "3    0.075812               1              1"
      ]
     },
     "execution_count": 32,
     "metadata": {},
     "output_type": "execute_result"
    }
   ],
   "source": [
    "bc_ind11_calc18 = BinaryComparison(binaries['ps_ind_11_bin'], binaries['ps_calc_18_bin'], target)\n",
    "bc_ind11_calc18.calculate_join_probas()"
   ]
  },
  {
   "cell_type": "code",
   "execution_count": 33,
   "metadata": {},
   "outputs": [],
   "source": [
    "vec2 = bc_ind11_calc18.features\n",
    "vec2['ind11_calc18_fusion'] = 0\n",
    "vec2['ind11_calc18_fusion'][(vec2['ps_ind_11_bin'] == 1) & (vec2['ps_calc_18_bin'] == 1)] = 1\n",
    "ind11_calc18_fusion = vec2['ind11_calc18_fusion']"
   ]
  },
  {
   "cell_type": "markdown",
   "metadata": {},
   "source": [
    "### ind13-ind17"
   ]
  },
  {
   "cell_type": "code",
   "execution_count": 34,
   "metadata": {},
   "outputs": [
    {
     "data": {
      "text/html": [
       "<div>\n",
       "<style scoped>\n",
       "    .dataframe tbody tr th:only-of-type {\n",
       "        vertical-align: middle;\n",
       "    }\n",
       "\n",
       "    .dataframe tbody tr th {\n",
       "        vertical-align: top;\n",
       "    }\n",
       "\n",
       "    .dataframe thead th {\n",
       "        text-align: right;\n",
       "    }\n",
       "</style>\n",
       "<table border=\"1\" class=\"dataframe\">\n",
       "  <thead>\n",
       "    <tr style=\"text-align: right;\">\n",
       "      <th></th>\n",
       "      <th>join_proba</th>\n",
       "      <th>ps_ind_13_bin</th>\n",
       "      <th>ps_ind_17_bin</th>\n",
       "    </tr>\n",
       "  </thead>\n",
       "  <tbody>\n",
       "    <tr>\n",
       "      <th>0</th>\n",
       "      <td>0.033861</td>\n",
       "      <td>0</td>\n",
       "      <td>0</td>\n",
       "    </tr>\n",
       "    <tr>\n",
       "      <th>1</th>\n",
       "      <td>0.044586</td>\n",
       "      <td>1</td>\n",
       "      <td>0</td>\n",
       "    </tr>\n",
       "    <tr>\n",
       "      <th>2</th>\n",
       "      <td>0.055116</td>\n",
       "      <td>0</td>\n",
       "      <td>1</td>\n",
       "    </tr>\n",
       "    <tr>\n",
       "      <th>3</th>\n",
       "      <td>0.086022</td>\n",
       "      <td>1</td>\n",
       "      <td>1</td>\n",
       "    </tr>\n",
       "  </tbody>\n",
       "</table>\n",
       "</div>"
      ],
      "text/plain": [
       "   join_proba  ps_ind_13_bin  ps_ind_17_bin\n",
       "0    0.033861              0              0\n",
       "1    0.044586              1              0\n",
       "2    0.055116              0              1\n",
       "3    0.086022              1              1"
      ]
     },
     "execution_count": 34,
     "metadata": {},
     "output_type": "execute_result"
    }
   ],
   "source": [
    "bc_ind13_ind17 = BinaryComparison(binaries['ps_ind_13_bin'], binaries['ps_ind_17_bin'], target)\n",
    "bc_ind13_ind17.calculate_join_probas()"
   ]
  },
  {
   "cell_type": "code",
   "execution_count": 35,
   "metadata": {},
   "outputs": [],
   "source": [
    "vec3 = bc_ind13_ind17.features\n",
    "vec3['ind13_ind17_fusion'] = 0\n",
    "vec3['ind13_ind17_fusion'][(vec3['ps_ind_13_bin'] == 0) & (vec3['ps_ind_17_bin'] == 1)] = 1\n",
    "vec3['ind13_ind17_fusion'][(vec3['ps_ind_13_bin'] == 1) & (vec3['ps_ind_17_bin'] == 1)] = 2\n",
    "ind13_ind17_fusion = vec3['ind13_ind17_fusion']"
   ]
  },
  {
   "cell_type": "markdown",
   "metadata": {},
   "source": [
    "### ind07-ind12"
   ]
  },
  {
   "cell_type": "code",
   "execution_count": 36,
   "metadata": {},
   "outputs": [
    {
     "data": {
      "text/html": [
       "<div>\n",
       "<style scoped>\n",
       "    .dataframe tbody tr th:only-of-type {\n",
       "        vertical-align: middle;\n",
       "    }\n",
       "\n",
       "    .dataframe tbody tr th {\n",
       "        vertical-align: top;\n",
       "    }\n",
       "\n",
       "    .dataframe thead th {\n",
       "        text-align: right;\n",
       "    }\n",
       "</style>\n",
       "<table border=\"1\" class=\"dataframe\">\n",
       "  <thead>\n",
       "    <tr style=\"text-align: right;\">\n",
       "      <th></th>\n",
       "      <th>join_proba</th>\n",
       "      <th>ps_ind_07_bin</th>\n",
       "      <th>ps_ind_12_bin</th>\n",
       "    </tr>\n",
       "  </thead>\n",
       "  <tbody>\n",
       "    <tr>\n",
       "      <th>0</th>\n",
       "      <td>0.032613</td>\n",
       "      <td>0</td>\n",
       "      <td>0</td>\n",
       "    </tr>\n",
       "    <tr>\n",
       "      <th>1</th>\n",
       "      <td>0.047064</td>\n",
       "      <td>1</td>\n",
       "      <td>0</td>\n",
       "    </tr>\n",
       "    <tr>\n",
       "      <th>2</th>\n",
       "      <td>0.041193</td>\n",
       "      <td>0</td>\n",
       "      <td>1</td>\n",
       "    </tr>\n",
       "    <tr>\n",
       "      <th>3</th>\n",
       "      <td>0.065539</td>\n",
       "      <td>1</td>\n",
       "      <td>1</td>\n",
       "    </tr>\n",
       "  </tbody>\n",
       "</table>\n",
       "</div>"
      ],
      "text/plain": [
       "   join_proba  ps_ind_07_bin  ps_ind_12_bin\n",
       "0    0.032613              0              0\n",
       "1    0.047064              1              0\n",
       "2    0.041193              0              1\n",
       "3    0.065539              1              1"
      ]
     },
     "execution_count": 36,
     "metadata": {},
     "output_type": "execute_result"
    }
   ],
   "source": [
    "bc_ind07_ind12 = BinaryComparison(binaries['ps_ind_07_bin'], binaries['ps_ind_12_bin'], target)\n",
    "bc_ind07_ind12.calculate_join_probas()"
   ]
  },
  {
   "cell_type": "code",
   "execution_count": 37,
   "metadata": {},
   "outputs": [],
   "source": [
    "vec4 = bc_ind07_ind12.features\n",
    "vec4['ind07_ind12_fusion'] = 0\n",
    "vec4['ind07_ind12_fusion'][(vec4['ps_ind_07_bin'] == 1) & (vec4['ps_ind_12_bin'] == 0)] = 1\n",
    "vec4['ind07_ind12_fusion'][(vec4['ps_ind_07_bin'] == 1) & (vec4['ps_ind_12_bin'] == 1)] = 2\n",
    "ind07_ind12_fusion = vec4['ind07_ind12_fusion']"
   ]
  },
  {
   "cell_type": "markdown",
   "metadata": {},
   "source": [
    "### ind08-ind16"
   ]
  },
  {
   "cell_type": "code",
   "execution_count": 38,
   "metadata": {},
   "outputs": [
    {
     "data": {
      "text/html": [
       "<div>\n",
       "<style scoped>\n",
       "    .dataframe tbody tr th:only-of-type {\n",
       "        vertical-align: middle;\n",
       "    }\n",
       "\n",
       "    .dataframe tbody tr th {\n",
       "        vertical-align: top;\n",
       "    }\n",
       "\n",
       "    .dataframe thead th {\n",
       "        text-align: right;\n",
       "    }\n",
       "</style>\n",
       "<table border=\"1\" class=\"dataframe\">\n",
       "  <thead>\n",
       "    <tr style=\"text-align: right;\">\n",
       "      <th></th>\n",
       "      <th>join_proba</th>\n",
       "      <th>ps_ind_08_bin</th>\n",
       "      <th>ps_ind_16_bin</th>\n",
       "    </tr>\n",
       "  </thead>\n",
       "  <tbody>\n",
       "    <tr>\n",
       "      <th>0</th>\n",
       "      <td>0.042113</td>\n",
       "      <td>0</td>\n",
       "      <td>0</td>\n",
       "    </tr>\n",
       "    <tr>\n",
       "      <th>1</th>\n",
       "      <td>0.052060</td>\n",
       "      <td>1</td>\n",
       "      <td>0</td>\n",
       "    </tr>\n",
       "    <tr>\n",
       "      <th>2</th>\n",
       "      <td>0.031870</td>\n",
       "      <td>0</td>\n",
       "      <td>1</td>\n",
       "    </tr>\n",
       "    <tr>\n",
       "      <th>3</th>\n",
       "      <td>0.036997</td>\n",
       "      <td>1</td>\n",
       "      <td>1</td>\n",
       "    </tr>\n",
       "  </tbody>\n",
       "</table>\n",
       "</div>"
      ],
      "text/plain": [
       "   join_proba  ps_ind_08_bin  ps_ind_16_bin\n",
       "0    0.042113              0              0\n",
       "1    0.052060              1              0\n",
       "2    0.031870              0              1\n",
       "3    0.036997              1              1"
      ]
     },
     "execution_count": 38,
     "metadata": {},
     "output_type": "execute_result"
    }
   ],
   "source": [
    "bc_ind08_ind16 = BinaryComparison(binaries['ps_ind_08_bin'], binaries['ps_ind_16_bin'], target)\n",
    "bc_ind08_ind16.calculate_join_probas()"
   ]
  },
  {
   "cell_type": "code",
   "execution_count": 39,
   "metadata": {},
   "outputs": [],
   "source": [
    "vec5 = bc_ind08_ind16.features\n",
    "vec5['ind08_ind16_fusion'] = 0\n",
    "vec5['ind08_ind16_fusion'][(vec5['ps_ind_08_bin'] == 1) & (vec5['ps_ind_16_bin'] == 0)] = 1\n",
    "ind08_ind16_fusion = vec5['ind08_ind16_fusion']"
   ]
  },
  {
   "cell_type": "markdown",
   "metadata": {},
   "source": [
    "<b>Fuse the features</b>"
   ]
  },
  {
   "cell_type": "code",
   "execution_count": 40,
   "metadata": {},
   "outputs": [],
   "source": [
    "fuse1 = ['ps_ind_09_bin', 'ps_ind_10_bin', 'ps_ind_11_bin', 'ps_calc_18_bin', \n",
    "         'ps_ind_13_bin', 'ps_ind_17_bin', 'ps_ind_07_bin', 'ps_ind_12_bin',\n",
    "         'ps_ind_08_bin', 'ps_ind_16_bin']\n",
    "nonfuse1 = [f for f in binary_fs if f not in fuse1]\n",
    "nonfuse_features1 = binaries[nonfuse1]"
   ]
  },
  {
   "cell_type": "code",
   "execution_count": 41,
   "metadata": {},
   "outputs": [],
   "source": [
    "fusion1_1 = encode_my_categorical_labels(ind09_ind10_fusion)\n",
    "fusion1_2 = encode_my_categorical_labels(ind13_ind17_fusion)\n",
    "fusion1_3 = encode_my_categorical_labels(ind07_ind12_fusion)"
   ]
  },
  {
   "cell_type": "code",
   "execution_count": 42,
   "metadata": {},
   "outputs": [],
   "source": [
    "fused_binaries1 = pd.concat([nonfuse_features1, fusion1_1, fusion1_2, fusion1_3, \n",
    "                             ind11_calc18_fusion, ind08_ind16_fusion], axis=1)"
   ]
  },
  {
   "cell_type": "code",
   "execution_count": 43,
   "metadata": {},
   "outputs": [
    {
     "data": {
      "text/html": [
       "<div>\n",
       "<style scoped>\n",
       "    .dataframe tbody tr th:only-of-type {\n",
       "        vertical-align: middle;\n",
       "    }\n",
       "\n",
       "    .dataframe tbody tr th {\n",
       "        vertical-align: top;\n",
       "    }\n",
       "\n",
       "    .dataframe thead th {\n",
       "        text-align: right;\n",
       "    }\n",
       "</style>\n",
       "<table border=\"1\" class=\"dataframe\">\n",
       "  <thead>\n",
       "    <tr style=\"text-align: right;\">\n",
       "      <th></th>\n",
       "      <th>ps_calc_15_bin</th>\n",
       "      <th>ps_calc_16_bin</th>\n",
       "      <th>ps_calc_17_bin</th>\n",
       "      <th>ps_calc_19_bin</th>\n",
       "      <th>ps_calc_20_bin</th>\n",
       "      <th>ps_ind_06_bin</th>\n",
       "      <th>ps_ind_18_bin</th>\n",
       "      <th>ind09_ind10_fusion_0</th>\n",
       "      <th>ind09_ind10_fusion_1</th>\n",
       "      <th>ind09_ind10_fusion_2</th>\n",
       "      <th>ind13_ind17_fusion_0</th>\n",
       "      <th>ind13_ind17_fusion_1</th>\n",
       "      <th>ind13_ind17_fusion_2</th>\n",
       "      <th>ind07_ind12_fusion_0</th>\n",
       "      <th>ind07_ind12_fusion_1</th>\n",
       "      <th>ind07_ind12_fusion_2</th>\n",
       "      <th>ind11_calc18_fusion</th>\n",
       "      <th>ind08_ind16_fusion</th>\n",
       "    </tr>\n",
       "  </thead>\n",
       "  <tbody>\n",
       "    <tr>\n",
       "      <th>0</th>\n",
       "      <td>0</td>\n",
       "      <td>1</td>\n",
       "      <td>1</td>\n",
       "      <td>0</td>\n",
       "      <td>1</td>\n",
       "      <td>0</td>\n",
       "      <td>0</td>\n",
       "      <td>1</td>\n",
       "      <td>0</td>\n",
       "      <td>0</td>\n",
       "      <td>0</td>\n",
       "      <td>1</td>\n",
       "      <td>0</td>\n",
       "      <td>0</td>\n",
       "      <td>1</td>\n",
       "      <td>0</td>\n",
       "      <td>0</td>\n",
       "      <td>0</td>\n",
       "    </tr>\n",
       "    <tr>\n",
       "      <th>1</th>\n",
       "      <td>0</td>\n",
       "      <td>1</td>\n",
       "      <td>1</td>\n",
       "      <td>1</td>\n",
       "      <td>0</td>\n",
       "      <td>0</td>\n",
       "      <td>1</td>\n",
       "      <td>1</td>\n",
       "      <td>0</td>\n",
       "      <td>0</td>\n",
       "      <td>1</td>\n",
       "      <td>0</td>\n",
       "      <td>0</td>\n",
       "      <td>1</td>\n",
       "      <td>0</td>\n",
       "      <td>0</td>\n",
       "      <td>0</td>\n",
       "      <td>1</td>\n",
       "    </tr>\n",
       "    <tr>\n",
       "      <th>2</th>\n",
       "      <td>0</td>\n",
       "      <td>1</td>\n",
       "      <td>1</td>\n",
       "      <td>1</td>\n",
       "      <td>0</td>\n",
       "      <td>0</td>\n",
       "      <td>0</td>\n",
       "      <td>1</td>\n",
       "      <td>0</td>\n",
       "      <td>0</td>\n",
       "      <td>1</td>\n",
       "      <td>0</td>\n",
       "      <td>0</td>\n",
       "      <td>1</td>\n",
       "      <td>0</td>\n",
       "      <td>0</td>\n",
       "      <td>0</td>\n",
       "      <td>0</td>\n",
       "    </tr>\n",
       "    <tr>\n",
       "      <th>3</th>\n",
       "      <td>0</td>\n",
       "      <td>0</td>\n",
       "      <td>0</td>\n",
       "      <td>0</td>\n",
       "      <td>0</td>\n",
       "      <td>1</td>\n",
       "      <td>0</td>\n",
       "      <td>1</td>\n",
       "      <td>0</td>\n",
       "      <td>0</td>\n",
       "      <td>1</td>\n",
       "      <td>0</td>\n",
       "      <td>0</td>\n",
       "      <td>1</td>\n",
       "      <td>0</td>\n",
       "      <td>0</td>\n",
       "      <td>0</td>\n",
       "      <td>0</td>\n",
       "    </tr>\n",
       "    <tr>\n",
       "      <th>4</th>\n",
       "      <td>0</td>\n",
       "      <td>0</td>\n",
       "      <td>0</td>\n",
       "      <td>1</td>\n",
       "      <td>0</td>\n",
       "      <td>1</td>\n",
       "      <td>0</td>\n",
       "      <td>1</td>\n",
       "      <td>0</td>\n",
       "      <td>0</td>\n",
       "      <td>1</td>\n",
       "      <td>0</td>\n",
       "      <td>0</td>\n",
       "      <td>1</td>\n",
       "      <td>0</td>\n",
       "      <td>0</td>\n",
       "      <td>0</td>\n",
       "      <td>0</td>\n",
       "    </tr>\n",
       "  </tbody>\n",
       "</table>\n",
       "</div>"
      ],
      "text/plain": [
       "   ps_calc_15_bin  ps_calc_16_bin  ps_calc_17_bin  ps_calc_19_bin  \\\n",
       "0               0               1               1               0   \n",
       "1               0               1               1               1   \n",
       "2               0               1               1               1   \n",
       "3               0               0               0               0   \n",
       "4               0               0               0               1   \n",
       "\n",
       "   ps_calc_20_bin  ps_ind_06_bin  ps_ind_18_bin  ind09_ind10_fusion_0  \\\n",
       "0               1              0              0                     1   \n",
       "1               0              0              1                     1   \n",
       "2               0              0              0                     1   \n",
       "3               0              1              0                     1   \n",
       "4               0              1              0                     1   \n",
       "\n",
       "   ind09_ind10_fusion_1  ind09_ind10_fusion_2  ind13_ind17_fusion_0  \\\n",
       "0                     0                     0                     0   \n",
       "1                     0                     0                     1   \n",
       "2                     0                     0                     1   \n",
       "3                     0                     0                     1   \n",
       "4                     0                     0                     1   \n",
       "\n",
       "   ind13_ind17_fusion_1  ind13_ind17_fusion_2  ind07_ind12_fusion_0  \\\n",
       "0                     1                     0                     0   \n",
       "1                     0                     0                     1   \n",
       "2                     0                     0                     1   \n",
       "3                     0                     0                     1   \n",
       "4                     0                     0                     1   \n",
       "\n",
       "   ind07_ind12_fusion_1  ind07_ind12_fusion_2  ind11_calc18_fusion  \\\n",
       "0                     1                     0                    0   \n",
       "1                     0                     0                    0   \n",
       "2                     0                     0                    0   \n",
       "3                     0                     0                    0   \n",
       "4                     0                     0                    0   \n",
       "\n",
       "   ind08_ind16_fusion  \n",
       "0                   0  \n",
       "1                   1  \n",
       "2                   0  \n",
       "3                   0  \n",
       "4                   0  "
      ]
     },
     "execution_count": 43,
     "metadata": {},
     "output_type": "execute_result"
    }
   ],
   "source": [
    "fused_binaries1.head(5)"
   ]
  },
  {
   "cell_type": "code",
   "execution_count": null,
   "metadata": {},
   "outputs": [],
   "source": []
  },
  {
   "cell_type": "markdown",
   "metadata": {},
   "source": [
    "# Pairwise Analysis of Newly Fused Binary Features"
   ]
  },
  {
   "cell_type": "code",
   "execution_count": 44,
   "metadata": {},
   "outputs": [
    {
     "name": "stdout",
     "output_type": "stream",
     "text": [
      "CPU times: user 11.9 s, sys: 46.9 ms, total: 12 s\n",
      "Wall time: 12 s\n"
     ]
    }
   ],
   "source": [
    "%%time\n",
    "target = train['target']\n",
    "num_fs = len(fused_binaries1.columns)\n",
    "gain_table2 = np.zeros((num_fs, num_fs))\n",
    "pval_table2 = np.zeros((num_fs, num_fs))\n",
    "\n",
    "for i in range(num_fs-1):\n",
    "    for j in range(i+1, num_fs):\n",
    "        feature1 = fused_binaries1.iloc[:, i]\n",
    "        feature2 = fused_binaries1.iloc[:, j]\n",
    "        bc = BinaryComparison(feature1, feature2, target)\n",
    "        gain = bc.assess_joint_result(mode='subtraction')\n",
    "        pval = bc.chi_pvalue_\n",
    "        \n",
    "        gain_table2[i, j] = gain\n",
    "        gain_table2[j, i] = gain\n",
    "        \n",
    "        pval_table2[i, j] = pval\n",
    "        pval_table2[j, i] = pval\n",
    "        \n",
    "gain_table2 = pd.DataFrame(gain_table, columns=fused_binaries1.columns, index=fused_binaries1.columns)\n",
    "pval_table2 = pd.DataFrame(pval_table2, columns=fused_binaries1.columns, index=fused_binaries1.columns)"
   ]
  },
  {
   "cell_type": "code",
   "execution_count": 45,
   "metadata": {},
   "outputs": [
    {
     "name": "stdout",
     "output_type": "stream",
     "text": [
      "Heatmap for the independence/association test among binary features.\n",
      "Higher pvalue indicates higher independence btw features.\n"
     ]
    },
    {
     "data": {
      "image/png": "[encoded data removed]",
      "text/plain": [
       "<matplotlib.figure.Figure at 0x7f08d76c3c88>"
      ]
     },
     "metadata": {},
     "output_type": "display_data"
    }
   ],
   "source": [
    "plt.figure(figsize=(12,9))\n",
    "sns.heatmap(pval_table2, linewidths=0.05, vmax=1.5, square=True, \n",
    "            cmap=cm.Blues, linecolor='0.01', annot=False)\n",
    "print('Heatmap for the independence/association test among binary features.')\n",
    "print('Higher pvalue indicates higher independence btw features.')"
   ]
  },
  {
   "cell_type": "code",
   "execution_count": 46,
   "metadata": {},
   "outputs": [
    {
     "name": "stdout",
     "output_type": "stream",
     "text": [
      "Heatmap for the independence/association test among binary features.\n",
      "Higher gain indicates higher discriminatory power by joint.\n"
     ]
    },
    {
     "data": {
      "image/png": "[encoded data removed]",
      "text/plain": [
       "<matplotlib.figure.Figure at 0x7f0918474ac8>"
      ]
     },
     "metadata": {},
     "output_type": "display_data"
    }
   ],
   "source": [
    "plt.figure(figsize=(12,9))\n",
    "sns.heatmap(gain_table2, linewidths=0.05, square=True, #vmax=1.5, \n",
    "            cmap=cm.Greens, linecolor='0.01', annot=False)\n",
    "print('Heatmap for the independence/association test among binary features.')\n",
    "print('Higher gain indicates higher discriminatory power by joint.')"
   ]
  },
  {
   "cell_type": "code",
   "execution_count": 47,
   "metadata": {},
   "outputs": [
    {
     "data": {
      "text/plain": [
       "Index(['ps_calc_15_bin', 'ps_calc_16_bin', 'ps_calc_17_bin', 'ps_calc_19_bin',\n",
       "       'ps_calc_20_bin', 'ps_ind_06_bin', 'ps_ind_18_bin',\n",
       "       'ind09_ind10_fusion_0', 'ind09_ind10_fusion_1', 'ind09_ind10_fusion_2',\n",
       "       'ind13_ind17_fusion_0', 'ind13_ind17_fusion_1', 'ind13_ind17_fusion_2',\n",
       "       'ind07_ind12_fusion_0', 'ind07_ind12_fusion_1', 'ind07_ind12_fusion_2',\n",
       "       'ind11_calc18_fusion', 'ind08_ind16_fusion'],\n",
       "      dtype='object')"
      ]
     },
     "execution_count": 47,
     "metadata": {},
     "output_type": "execute_result"
    }
   ],
   "source": [
    "fused_binaries1.columns"
   ]
  },
  {
   "cell_type": "code",
   "execution_count": 68,
   "metadata": {},
   "outputs": [
    {
     "data": {
      "text/html": [
       "<div>\n",
       "<style scoped>\n",
       "    .dataframe tbody tr th:only-of-type {\n",
       "        vertical-align: middle;\n",
       "    }\n",
       "\n",
       "    .dataframe tbody tr th {\n",
       "        vertical-align: top;\n",
       "    }\n",
       "\n",
       "    .dataframe thead th {\n",
       "        text-align: right;\n",
       "    }\n",
       "</style>\n",
       "<table border=\"1\" class=\"dataframe\">\n",
       "  <thead>\n",
       "    <tr style=\"text-align: right;\">\n",
       "      <th></th>\n",
       "      <th>ind09_ind10_fusion_0</th>\n",
       "      <th>ind13_ind17_fusion_0</th>\n",
       "      <th>join_proba</th>\n",
       "    </tr>\n",
       "  </thead>\n",
       "  <tbody>\n",
       "    <tr>\n",
       "      <th>0</th>\n",
       "      <td>0</td>\n",
       "      <td>0</td>\n",
       "      <td>0.063830</td>\n",
       "    </tr>\n",
       "    <tr>\n",
       "      <th>1</th>\n",
       "      <td>1</td>\n",
       "      <td>0</td>\n",
       "      <td>0.055150</td>\n",
       "    </tr>\n",
       "    <tr>\n",
       "      <th>2</th>\n",
       "      <td>0</td>\n",
       "      <td>1</td>\n",
       "      <td>0.051429</td>\n",
       "    </tr>\n",
       "    <tr>\n",
       "      <th>3</th>\n",
       "      <td>1</td>\n",
       "      <td>1</td>\n",
       "      <td>0.033864</td>\n",
       "    </tr>\n",
       "  </tbody>\n",
       "</table>\n",
       "</div>"
      ],
      "text/plain": [
       "   ind09_ind10_fusion_0  ind13_ind17_fusion_0  join_proba\n",
       "0                     0                     0    0.063830\n",
       "1                     1                     0    0.055150\n",
       "2                     0                     1    0.051429\n",
       "3                     1                     1    0.033864"
      ]
     },
     "execution_count": 68,
     "metadata": {},
     "output_type": "execute_result"
    }
   ],
   "source": [
    "bc0 = BinaryComparison(fused_binaries1.loc[:, 'ind09_ind10_fusion_0'], \n",
    "                       fused_binaries1.loc[:, 'ind13_ind17_fusion_0'], target)\n",
    "bc0.calculate_join_probas()"
   ]
  },
  {
   "cell_type": "code",
   "execution_count": 48,
   "metadata": {},
   "outputs": [
    {
     "data": {
      "text/html": [
       "<div>\n",
       "<style scoped>\n",
       "    .dataframe tbody tr th:only-of-type {\n",
       "        vertical-align: middle;\n",
       "    }\n",
       "\n",
       "    .dataframe tbody tr th {\n",
       "        vertical-align: top;\n",
       "    }\n",
       "\n",
       "    .dataframe thead th {\n",
       "        text-align: right;\n",
       "    }\n",
       "</style>\n",
       "<table border=\"1\" class=\"dataframe\">\n",
       "  <thead>\n",
       "    <tr style=\"text-align: right;\">\n",
       "      <th></th>\n",
       "      <th>join_proba</th>\n",
       "      <th>ps_ind_06_bin</th>\n",
       "      <th>ps_ind_18_bin</th>\n",
       "    </tr>\n",
       "  </thead>\n",
       "  <tbody>\n",
       "    <tr>\n",
       "      <th>0</th>\n",
       "      <td>0.041200</td>\n",
       "      <td>0</td>\n",
       "      <td>0</td>\n",
       "    </tr>\n",
       "    <tr>\n",
       "      <th>1</th>\n",
       "      <td>0.028287</td>\n",
       "      <td>1</td>\n",
       "      <td>0</td>\n",
       "    </tr>\n",
       "    <tr>\n",
       "      <th>2</th>\n",
       "      <td>0.043655</td>\n",
       "      <td>0</td>\n",
       "      <td>1</td>\n",
       "    </tr>\n",
       "    <tr>\n",
       "      <th>3</th>\n",
       "      <td>0.029974</td>\n",
       "      <td>1</td>\n",
       "      <td>1</td>\n",
       "    </tr>\n",
       "  </tbody>\n",
       "</table>\n",
       "</div>"
      ],
      "text/plain": [
       "   join_proba  ps_ind_06_bin  ps_ind_18_bin\n",
       "0    0.041200              0              0\n",
       "1    0.028287              1              0\n",
       "2    0.043655              0              1\n",
       "3    0.029974              1              1"
      ]
     },
     "execution_count": 48,
     "metadata": {},
     "output_type": "execute_result"
    }
   ],
   "source": [
    "bc1 = BinaryComparison(fused_binaries1.loc[:, 'ps_ind_06_bin'], fused_binaries1.loc[:, 'ps_ind_18_bin'], target)\n",
    "bc1.calculate_join_probas()"
   ]
  },
  {
   "cell_type": "code",
   "execution_count": 65,
   "metadata": {},
   "outputs": [
    {
     "data": {
      "text/html": [
       "<div>\n",
       "<style scoped>\n",
       "    .dataframe tbody tr th:only-of-type {\n",
       "        vertical-align: middle;\n",
       "    }\n",
       "\n",
       "    .dataframe tbody tr th {\n",
       "        vertical-align: top;\n",
       "    }\n",
       "\n",
       "    .dataframe thead th {\n",
       "        text-align: right;\n",
       "    }\n",
       "</style>\n",
       "<table border=\"1\" class=\"dataframe\">\n",
       "  <thead>\n",
       "    <tr style=\"text-align: right;\">\n",
       "      <th></th>\n",
       "      <th>join_proba</th>\n",
       "      <th>ps_calc_20_bin</th>\n",
       "      <th>ps_ind_18_bin</th>\n",
       "    </tr>\n",
       "  </thead>\n",
       "  <tbody>\n",
       "    <tr>\n",
       "      <th>0</th>\n",
       "      <td>0.036247</td>\n",
       "      <td>0</td>\n",
       "      <td>0</td>\n",
       "    </tr>\n",
       "    <tr>\n",
       "      <th>1</th>\n",
       "      <td>0.035182</td>\n",
       "      <td>1</td>\n",
       "      <td>0</td>\n",
       "    </tr>\n",
       "    <tr>\n",
       "      <th>2</th>\n",
       "      <td>0.038111</td>\n",
       "      <td>0</td>\n",
       "      <td>1</td>\n",
       "    </tr>\n",
       "    <tr>\n",
       "      <th>3</th>\n",
       "      <td>0.040330</td>\n",
       "      <td>1</td>\n",
       "      <td>1</td>\n",
       "    </tr>\n",
       "  </tbody>\n",
       "</table>\n",
       "</div>"
      ],
      "text/plain": [
       "   join_proba  ps_calc_20_bin  ps_ind_18_bin\n",
       "0    0.036247               0              0\n",
       "1    0.035182               1              0\n",
       "2    0.038111               0              1\n",
       "3    0.040330               1              1"
      ]
     },
     "execution_count": 65,
     "metadata": {},
     "output_type": "execute_result"
    }
   ],
   "source": [
    "bc2 = BinaryComparison(fused_binaries1.loc[:, 'ps_calc_20_bin'], fused_binaries1.loc[:, 'ps_ind_18_bin'], target)\n",
    "bc2.calculate_join_probas()"
   ]
  },
  {
   "cell_type": "code",
   "execution_count": 66,
   "metadata": {},
   "outputs": [
    {
     "data": {
      "text/html": [
       "<div>\n",
       "<style scoped>\n",
       "    .dataframe tbody tr th:only-of-type {\n",
       "        vertical-align: middle;\n",
       "    }\n",
       "\n",
       "    .dataframe tbody tr th {\n",
       "        vertical-align: top;\n",
       "    }\n",
       "\n",
       "    .dataframe thead th {\n",
       "        text-align: right;\n",
       "    }\n",
       "</style>\n",
       "<table border=\"1\" class=\"dataframe\">\n",
       "  <thead>\n",
       "    <tr style=\"text-align: right;\">\n",
       "      <th></th>\n",
       "      <th>join_proba</th>\n",
       "      <th>ps_calc_17_bin</th>\n",
       "      <th>ps_calc_19_bin</th>\n",
       "    </tr>\n",
       "  </thead>\n",
       "  <tbody>\n",
       "    <tr>\n",
       "      <th>0</th>\n",
       "      <td>0.037349</td>\n",
       "      <td>0</td>\n",
       "      <td>0</td>\n",
       "    </tr>\n",
       "    <tr>\n",
       "      <th>1</th>\n",
       "      <td>0.036154</td>\n",
       "      <td>1</td>\n",
       "      <td>0</td>\n",
       "    </tr>\n",
       "    <tr>\n",
       "      <th>2</th>\n",
       "      <td>0.034867</td>\n",
       "      <td>0</td>\n",
       "      <td>1</td>\n",
       "    </tr>\n",
       "    <tr>\n",
       "      <th>3</th>\n",
       "      <td>0.036913</td>\n",
       "      <td>1</td>\n",
       "      <td>1</td>\n",
       "    </tr>\n",
       "  </tbody>\n",
       "</table>\n",
       "</div>"
      ],
      "text/plain": [
       "   join_proba  ps_calc_17_bin  ps_calc_19_bin\n",
       "0    0.037349               0               0\n",
       "1    0.036154               1               0\n",
       "2    0.034867               0               1\n",
       "3    0.036913               1               1"
      ]
     },
     "execution_count": 66,
     "metadata": {},
     "output_type": "execute_result"
    }
   ],
   "source": [
    "bc3 = BinaryComparison(fused_binaries1.loc[:, 'ps_calc_17_bin'], fused_binaries1.loc[:, 'ps_calc_19_bin'], target)\n",
    "bc3.calculate_join_probas()"
   ]
  },
  {
   "cell_type": "code",
   "execution_count": null,
   "metadata": {},
   "outputs": [],
   "source": []
  },
  {
   "cell_type": "markdown",
   "metadata": {},
   "source": [
    "# Assessing usefulness of feature by comparing conditional probability to Class Frequency\n",
    "Try with both fuese binaries and categorical features"
   ]
  },
  {
   "cell_type": "code",
   "execution_count": 49,
   "metadata": {},
   "outputs": [],
   "source": [
    "def assess_feature_frequency(feature, target, mode='subtraction'):\n",
    "    total = len(feature)\n",
    "    num_class1 = np.sum(target)\n",
    "    proba_class1 = num_class1 / total\n",
    "    \n",
    "    num_val0 = len(feature[feature == 0])\n",
    "    num_val1 = len(feature[feature == 1])\n",
    "    num_class1_given_val0 = len(feature[(feature == 0) & (target == 1)])\n",
    "    num_class1_given_val1 = len(feature[(feature == 1) & (target == 1)])\n",
    "    \n",
    "    if num_val0 == 0:\n",
    "        proba_class1_given_val0 = 0\n",
    "    else:\n",
    "        proba_class1_given_val0 = num_class1_given_val0 / num_val0\n",
    "    \n",
    "    if num_val1 == 1:\n",
    "        proba_class1_given_val1 = 0\n",
    "    else:\n",
    "        proba_class1_given_val1 = num_class1_given_val1 / num_val1\n",
    "        \n",
    "    best_cond_proba = max(proba_class1_given_val0, proba_class1_given_val1)\n",
    "    if mode == 'subtraction':\n",
    "        differential = best_cond_proba - proba_class1\n",
    "    elif mode == 'ratio':\n",
    "        differential = best_cond_proba / proba_class1\n",
    "    else:\n",
    "        print('Error: the mode must be subtration or ratio')\n",
    "    return differential"
   ]
  },
  {
   "cell_type": "markdown",
   "metadata": {},
   "source": [
    "### Binaries and Fused Binaries"
   ]
  },
  {
   "cell_type": "code",
   "execution_count": 50,
   "metadata": {},
   "outputs": [
    {
     "name": "stdout",
     "output_type": "stream",
     "text": [
      "ps_calc_15_bin Margin: 0.003%\n",
      "ps_calc_16_bin Margin: 0.009%\n",
      "ps_calc_17_bin Margin: 0.004%\n",
      "ps_calc_19_bin Margin: 0.024%\n",
      "ps_calc_20_bin Margin: 0.009%\n",
      "ps_ind_06_bin Margin: 0.514%\n",
      "ps_ind_18_bin Margin: 0.201%\n",
      "ind09_ind10_fusion_0 Margin: 1.761%\n",
      "ind09_ind10_fusion_1 Margin: 1.544%\n",
      "ind09_ind10_fusion_2 Margin: 6.355%\n",
      "ind13_ind17_fusion_0 Margin: 1.871%\n",
      "ind13_ind17_fusion_1 Margin: 1.867%\n",
      "ind13_ind17_fusion_2 Margin: 4.957%\n",
      "ind07_ind12_fusion_0 Margin: 1.090%\n",
      "ind07_ind12_fusion_1 Margin: 1.062%\n",
      "ind07_ind12_fusion_2 Margin: 2.909%\n",
      "ind11_calc18_fusion Margin: 3.936%\n",
      "ind08_ind16_fusion Margin: 1.561%\n"
     ]
    }
   ],
   "source": [
    "for f in fused_binaries1.columns:\n",
    "    diff = assess_feature_frequency(fused_binaries1[f], target, mode='subtraction')\n",
    "    print('%s Margin: %.3f%%' % (f, 100*diff))"
   ]
  },
  {
   "cell_type": "code",
   "execution_count": 51,
   "metadata": {},
   "outputs": [
    {
     "name": "stdout",
     "output_type": "stream",
     "text": [
      "ps_calc_15_bin % gain: 0.1%\n",
      "ps_calc_16_bin % gain: 0.2%\n",
      "ps_calc_17_bin % gain: 0.1%\n",
      "ps_calc_19_bin % gain: 0.7%\n",
      "ps_calc_20_bin % gain: 0.2%\n",
      "ps_ind_06_bin % gain: 14.1%\n",
      "ps_ind_18_bin % gain: 5.5%\n",
      "ind09_ind10_fusion_0 % gain: 48.3%\n",
      "ind09_ind10_fusion_1 % gain: 42.4%\n",
      "ind09_ind10_fusion_2 % gain: 174.4%\n",
      "ind13_ind17_fusion_0 % gain: 51.3%\n",
      "ind13_ind17_fusion_1 % gain: 51.2%\n",
      "ind13_ind17_fusion_2 % gain: 136.0%\n",
      "ind07_ind12_fusion_0 % gain: 29.9%\n",
      "ind07_ind12_fusion_1 % gain: 29.1%\n",
      "ind07_ind12_fusion_2 % gain: 79.8%\n",
      "ind11_calc18_fusion % gain: 108.0%\n",
      "ind08_ind16_fusion % gain: 42.8%\n"
     ]
    }
   ],
   "source": [
    "useful_binaries = []\n",
    "for f in fused_binaries1.columns:\n",
    "    diff = assess_feature_frequency(fused_binaries1[f], target, mode='ratio')\n",
    "    if diff >= 1.1:\n",
    "        useful_binaries.append(f)\n",
    "    print('%s %% gain: %.1f%%' % (f, 100*(diff-1)))"
   ]
  },
  {
   "cell_type": "code",
   "execution_count": 52,
   "metadata": {},
   "outputs": [
    {
     "data": {
      "text/plain": [
       "['ps_ind_06_bin',\n",
       " 'ind09_ind10_fusion_0',\n",
       " 'ind09_ind10_fusion_1',\n",
       " 'ind09_ind10_fusion_2',\n",
       " 'ind13_ind17_fusion_0',\n",
       " 'ind13_ind17_fusion_1',\n",
       " 'ind13_ind17_fusion_2',\n",
       " 'ind07_ind12_fusion_0',\n",
       " 'ind07_ind12_fusion_1',\n",
       " 'ind07_ind12_fusion_2',\n",
       " 'ind11_calc18_fusion',\n",
       " 'ind08_ind16_fusion']"
      ]
     },
     "execution_count": 52,
     "metadata": {},
     "output_type": "execute_result"
    }
   ],
   "source": [
    "useful_binaries"
   ]
  },
  {
   "cell_type": "markdown",
   "metadata": {},
   "source": [
    "### Categoricals"
   ]
  },
  {
   "cell_type": "code",
   "execution_count": 53,
   "metadata": {},
   "outputs": [],
   "source": [
    "categoricals = train[categorical_fs]"
   ]
  },
  {
   "cell_type": "code",
   "execution_count": 54,
   "metadata": {
    "scrolled": true
   },
   "outputs": [
    {
     "name": "stdout",
     "output_type": "stream",
     "text": [
      "ps_car_01_cat_0 % gain: 20.4%\n",
      "ps_car_01_cat_1 % gain: 28.5%\n",
      "ps_car_01_cat_10 % gain: 1.4%\n",
      "ps_car_01_cat_11 % gain: 14.1%\n",
      "ps_car_01_cat_2 % gain: 17.7%\n",
      "ps_car_01_cat_3 % gain: 3.0%\n",
      "ps_car_01_cat_4 % gain: 7.4%\n",
      "ps_car_01_cat_5 % gain: 7.7%\n",
      "ps_car_01_cat_6 % gain: 2.1%\n",
      "ps_car_01_cat_7 % gain: 9.1%\n",
      "ps_car_01_cat_8 % gain: 19.1%\n",
      "ps_car_01_cat_9 % gain: 49.3%\n",
      "ps_car_01_cat_NaN % gain: 771.8%\n",
      "ps_car_02_cat_0 % gain: 35.8%\n",
      "ps_car_02_cat_1 % gain: 35.8%\n",
      "ps_car_02_cat_NaN % gain: 0.0%\n",
      "ps_car_03_cat_0 % gain: 8.5%\n",
      "ps_car_03_cat_1 % gain: 32.5%\n",
      "ps_car_03_cat_NaN % gain: 22.9%\n",
      "ps_car_04_cat_0 % gain: 41.4%\n",
      "ps_car_04_cat_1 % gain: 34.0%\n",
      "ps_car_04_cat_2 % gain: 29.5%\n",
      "ps_car_04_cat_3 % gain: 41.5%\n",
      "ps_car_04_cat_4 % gain: 0.0%\n",
      "ps_car_04_cat_5 % gain: 96.3%\n",
      "ps_car_04_cat_6 % gain: 61.8%\n",
      "ps_car_04_cat_7 % gain: 156.6%\n",
      "ps_car_04_cat_8 % gain: 37.6%\n",
      "ps_car_04_cat_9 % gain: 69.8%\n",
      "ps_car_05_cat_0 % gain: 10.1%\n",
      "ps_car_05_cat_1 % gain: 11.0%\n",
      "ps_car_05_cat_NaN % gain: 10.5%\n",
      "ps_car_06_cat_0 % gain: 1.9%\n",
      "ps_car_06_cat_1 % gain: 1.5%\n",
      "ps_car_06_cat_10 % gain: 21.0%\n",
      "ps_car_06_cat_11 % gain: 3.7%\n",
      "ps_car_06_cat_12 % gain: 33.4%\n",
      "ps_car_06_cat_13 % gain: 56.4%\n",
      "ps_car_06_cat_14 % gain: 0.7%\n",
      "ps_car_06_cat_15 % gain: 40.3%\n",
      "ps_car_06_cat_16 % gain: 24.0%\n",
      "ps_car_06_cat_17 % gain: 75.1%\n",
      "ps_car_06_cat_2 % gain: 81.0%\n",
      "ps_car_06_cat_3 % gain: 4.7%\n",
      "ps_car_06_cat_4 % gain: 0.4%\n",
      "ps_car_06_cat_5 % gain: 84.1%\n",
      "ps_car_06_cat_6 % gain: 1.0%\n",
      "ps_car_06_cat_7 % gain: 6.5%\n",
      "ps_car_06_cat_8 % gain: 90.4%\n",
      "ps_car_06_cat_9 % gain: 50.9%\n",
      "ps_car_07_cat_0 % gain: 40.4%\n",
      "ps_car_07_cat_1 % gain: 60.7%\n",
      "ps_car_07_cat_NaN % gain: 114.5%\n",
      "ps_car_08_cat_0 % gain: 23.3%\n",
      "ps_car_08_cat_1 % gain: 23.3%\n",
      "ps_car_09_cat_0 % gain: 4.1%\n",
      "ps_car_09_cat_1 % gain: 56.2%\n",
      "ps_car_09_cat_2 % gain: 0.5%\n",
      "ps_car_09_cat_3 % gain: 0.1%\n",
      "ps_car_09_cat_4 % gain: 40.8%\n",
      "ps_car_09_cat_NaN % gain: 150.7%\n",
      "ps_car_10_cat_0 % gain: 0.0%\n",
      "ps_car_10_cat_1 % gain: 0.0%\n",
      "ps_car_10_cat_2 % gain: 9.1%\n",
      "ps_car_11_cat_1 % gain: 11.2%\n",
      "ps_car_11_cat_10 % gain: 0.4%\n",
      "ps_car_11_cat_100 % gain: 43.8%\n",
      "ps_car_11_cat_101 % gain: 5.1%\n",
      "ps_car_11_cat_102 % gain: 0.0%\n",
      "ps_car_11_cat_103 % gain: 1.1%\n",
      "ps_car_11_cat_104 % gain: 23.5%\n",
      "ps_car_11_cat_11 % gain: 0.3%\n",
      "ps_car_11_cat_12 % gain: 6.0%\n",
      "ps_car_11_cat_13 % gain: 39.2%\n",
      "ps_car_11_cat_14 % gain: 10.8%\n",
      "ps_car_11_cat_15 % gain: 0.0%\n",
      "ps_car_11_cat_16 % gain: 0.3%\n",
      "ps_car_11_cat_17 % gain: 25.1%\n",
      "ps_car_11_cat_18 % gain: 82.5%\n",
      "ps_car_11_cat_19 % gain: 0.3%\n",
      "ps_car_11_cat_2 % gain: 4.2%\n",
      "ps_car_11_cat_20 % gain: 23.2%\n",
      "ps_car_11_cat_21 % gain: 60.7%\n",
      "ps_car_11_cat_22 % gain: 0.1%\n",
      "ps_car_11_cat_23 % gain: 5.3%\n",
      "ps_car_11_cat_24 % gain: 7.3%\n",
      "ps_car_11_cat_25 % gain: 13.9%\n",
      "ps_car_11_cat_26 % gain: 0.0%\n",
      "ps_car_11_cat_27 % gain: 0.0%\n",
      "ps_car_11_cat_28 % gain: 16.4%\n",
      "ps_car_11_cat_29 % gain: 0.0%\n",
      "ps_car_11_cat_3 % gain: 40.4%\n",
      "ps_car_11_cat_30 % gain: 0.1%\n",
      "ps_car_11_cat_31 % gain: 5.9%\n",
      "ps_car_11_cat_32 % gain: 0.7%\n",
      "ps_car_11_cat_33 % gain: 48.7%\n",
      "ps_car_11_cat_34 % gain: 0.3%\n",
      "ps_car_11_cat_35 % gain: 18.6%\n",
      "ps_car_11_cat_36 % gain: 6.7%\n",
      "ps_car_11_cat_37 % gain: 0.2%\n",
      "ps_car_11_cat_38 % gain: 0.2%\n",
      "ps_car_11_cat_39 % gain: 0.4%\n",
      "ps_car_11_cat_4 % gain: 66.8%\n",
      "ps_car_11_cat_40 % gain: 0.0%\n",
      "ps_car_11_cat_41 % gain: 106.1%\n",
      "ps_car_11_cat_42 % gain: 0.2%\n",
      "ps_car_11_cat_43 % gain: 0.3%\n",
      "ps_car_11_cat_44 % gain: 0.3%\n",
      "ps_car_11_cat_45 % gain: 22.2%\n",
      "ps_car_11_cat_46 % gain: 10.2%\n",
      "ps_car_11_cat_47 % gain: 11.9%\n",
      "ps_car_11_cat_48 % gain: 0.2%\n",
      "ps_car_11_cat_49 % gain: 0.1%\n",
      "ps_car_11_cat_5 % gain: 15.1%\n",
      "ps_car_11_cat_50 % gain: 20.3%\n",
      "ps_car_11_cat_51 % gain: 2.3%\n",
      "ps_car_11_cat_52 % gain: 0.1%\n",
      "ps_car_11_cat_53 % gain: 0.1%\n",
      "ps_car_11_cat_54 % gain: 16.7%\n",
      "ps_car_11_cat_55 % gain: 52.5%\n",
      "ps_car_11_cat_56 % gain: 51.0%\n",
      "ps_car_11_cat_57 % gain: 0.2%\n",
      "ps_car_11_cat_58 % gain: 66.8%\n",
      "ps_car_11_cat_59 % gain: 0.0%\n",
      "ps_car_11_cat_6 % gain: 1.8%\n",
      "ps_car_11_cat_60 % gain: 0.2%\n",
      "ps_car_11_cat_61 % gain: 45.9%\n",
      "ps_car_11_cat_62 % gain: 0.1%\n",
      "ps_car_11_cat_63 % gain: 66.7%\n",
      "ps_car_11_cat_64 % gain: 0.8%\n",
      "ps_car_11_cat_65 % gain: 0.3%\n",
      "ps_car_11_cat_66 % gain: 0.1%\n",
      "ps_car_11_cat_67 % gain: 0.3%\n",
      "ps_car_11_cat_68 % gain: 0.1%\n",
      "ps_car_11_cat_69 % gain: 41.4%\n",
      "ps_car_11_cat_7 % gain: 0.3%\n",
      "ps_car_11_cat_70 % gain: 3.5%\n",
      "ps_car_11_cat_71 % gain: 47.8%\n",
      "ps_car_11_cat_72 % gain: 56.4%\n",
      "ps_car_11_cat_73 % gain: 0.0%\n",
      "ps_car_11_cat_74 % gain: 0.1%\n",
      "ps_car_11_cat_75 % gain: 73.3%\n",
      "ps_car_11_cat_76 % gain: 0.0%\n",
      "ps_car_11_cat_77 % gain: 0.0%\n",
      "ps_car_11_cat_78 % gain: 6.2%\n",
      "ps_car_11_cat_79 % gain: 22.7%\n",
      "ps_car_11_cat_8 % gain: 2.8%\n",
      "ps_car_11_cat_80 % gain: 8.6%\n",
      "ps_car_11_cat_81 % gain: 13.0%\n",
      "ps_car_11_cat_82 % gain: 0.5%\n",
      "ps_car_11_cat_83 % gain: 7.3%\n",
      "ps_car_11_cat_84 % gain: 0.2%\n",
      "ps_car_11_cat_85 % gain: 0.1%\n",
      "ps_car_11_cat_86 % gain: 0.1%\n",
      "ps_car_11_cat_87 % gain: 0.4%\n",
      "ps_car_11_cat_88 % gain: 0.1%\n",
      "ps_car_11_cat_89 % gain: 28.2%\n",
      "ps_car_11_cat_9 % gain: 0.1%\n",
      "ps_car_11_cat_90 % gain: 24.0%\n",
      "ps_car_11_cat_91 % gain: 9.0%\n",
      "ps_car_11_cat_92 % gain: 0.0%\n",
      "ps_car_11_cat_93 % gain: 61.0%\n",
      "ps_car_11_cat_94 % gain: 35.1%\n",
      "ps_car_11_cat_95 % gain: 0.1%\n",
      "ps_car_11_cat_96 % gain: 0.0%\n",
      "ps_car_11_cat_97 % gain: 62.7%\n",
      "ps_car_11_cat_98 % gain: 0.1%\n",
      "ps_car_11_cat_99 % gain: 0.8%\n",
      "ps_ind_02_cat_1 % gain: 5.2%\n",
      "ps_ind_02_cat_2 % gain: 4.6%\n",
      "ps_ind_02_cat_3 % gain: 2.1%\n",
      "ps_ind_02_cat_4 % gain: 11.9%\n",
      "ps_ind_02_cat_NaN % gain: 408.1%\n",
      "ps_ind_04_cat_0 % gain: 6.4%\n",
      "ps_ind_04_cat_1 % gain: 6.0%\n",
      "ps_ind_04_cat_NaN % gain: 990.9%\n",
      "ps_ind_05_cat_0 % gain: 55.7%\n",
      "ps_ind_05_cat_1 % gain: 31.2%\n",
      "ps_ind_05_cat_2 % gain: 107.2%\n",
      "ps_ind_05_cat_3 % gain: 18.0%\n",
      "ps_ind_05_cat_4 % gain: 42.8%\n",
      "ps_ind_05_cat_5 % gain: 33.1%\n",
      "ps_ind_05_cat_6 % gain: 62.8%\n",
      "ps_ind_05_cat_NaN % gain: 128.6%\n"
     ]
    }
   ],
   "source": [
    "diffs = []\n",
    "useless = []\n",
    "fs_cutoff5 = []\n",
    "fs_cutoff10 = []\n",
    "fs_cutoff20 = []\n",
    "\n",
    "for f in categoricals.columns:\n",
    "    diff = assess_feature_frequency(categoricals[f], target, mode='ratio')\n",
    "    diffs.append(diff-1)\n",
    "    if diff >= 1.2:\n",
    "        fs_cutoff20.append(f)\n",
    "    if diff >= 1.1:\n",
    "        fs_cutoff10.append(f)\n",
    "    if diff >= 1.05:\n",
    "        fs_cutoff5.append(f)\n",
    "    if diff < 1.05:\n",
    "        useless.append(f)\n",
    "    print('%s %% gain: %.1f%%' % (f, 100*(diff-1)))"
   ]
  },
  {
   "cell_type": "code",
   "execution_count": 55,
   "metadata": {},
   "outputs": [
    {
     "name": "stdout",
     "output_type": "stream",
     "text": [
      "Total: 184\n",
      ">=20%: 72\n",
      ">=10%: 90\n",
      ">= 5%: 109\n",
      " < 5%: 75\n"
     ]
    }
   ],
   "source": [
    "print('Total: %d' % (len(categorical_fs)))\n",
    "print('>=20%%: %d' % (len(fs_cutoff20)))\n",
    "print('>=10%%: %d' % (len(fs_cutoff10)))\n",
    "print('>= 5%%: %d' % (len(fs_cutoff5)))\n",
    "print(' < 5%%: %d' % (len(useless)))"
   ]
  },
  {
   "cell_type": "code",
   "execution_count": 56,
   "metadata": {},
   "outputs": [
    {
     "data": {
      "text/plain": [
       "count    184.000000\n",
       "mean       0.340833\n",
       "std        0.989343\n",
       "min        0.000008\n",
       "25%        0.003214\n",
       "50%        0.090237\n",
       "75%        0.394448\n",
       "max        9.908572\n",
       "dtype: float64"
      ]
     },
     "execution_count": 56,
     "metadata": {},
     "output_type": "execute_result"
    }
   ],
   "source": [
    "pd.Series(diffs).describe()"
   ]
  },
  {
   "cell_type": "code",
   "execution_count": null,
   "metadata": {},
   "outputs": [],
   "source": []
  },
  {
   "cell_type": "markdown",
   "metadata": {},
   "source": [
    "# Make a new binary-categorical feature space and save"
   ]
  },
  {
   "cell_type": "code",
   "execution_count": 57,
   "metadata": {},
   "outputs": [],
   "source": [
    "binaries_v2 = fused_binaries1[useful_binaries]\n",
    "categoricals_v2 = categoricals[fs_cutoff5]\n",
    "bincats_v2 = pd.concat([binaries_v2, categoricals_v2], axis=1)"
   ]
  },
  {
   "cell_type": "code",
   "execution_count": 58,
   "metadata": {},
   "outputs": [
    {
     "data": {
      "text/html": [
       "<div>\n",
       "<style scoped>\n",
       "    .dataframe tbody tr th:only-of-type {\n",
       "        vertical-align: middle;\n",
       "    }\n",
       "\n",
       "    .dataframe tbody tr th {\n",
       "        vertical-align: top;\n",
       "    }\n",
       "\n",
       "    .dataframe thead th {\n",
       "        text-align: right;\n",
       "    }\n",
       "</style>\n",
       "<table border=\"1\" class=\"dataframe\">\n",
       "  <thead>\n",
       "    <tr style=\"text-align: right;\">\n",
       "      <th></th>\n",
       "      <th>ps_ind_06_bin</th>\n",
       "      <th>ind09_ind10_fusion_0</th>\n",
       "      <th>ind09_ind10_fusion_1</th>\n",
       "      <th>ind09_ind10_fusion_2</th>\n",
       "      <th>ind13_ind17_fusion_0</th>\n",
       "      <th>ind13_ind17_fusion_1</th>\n",
       "      <th>ind13_ind17_fusion_2</th>\n",
       "      <th>ind07_ind12_fusion_0</th>\n",
       "      <th>ind07_ind12_fusion_1</th>\n",
       "      <th>ind07_ind12_fusion_2</th>\n",
       "      <th>...</th>\n",
       "      <th>ps_ind_04_cat_1</th>\n",
       "      <th>ps_ind_04_cat_NaN</th>\n",
       "      <th>ps_ind_05_cat_0</th>\n",
       "      <th>ps_ind_05_cat_1</th>\n",
       "      <th>ps_ind_05_cat_2</th>\n",
       "      <th>ps_ind_05_cat_3</th>\n",
       "      <th>ps_ind_05_cat_4</th>\n",
       "      <th>ps_ind_05_cat_5</th>\n",
       "      <th>ps_ind_05_cat_6</th>\n",
       "      <th>ps_ind_05_cat_NaN</th>\n",
       "    </tr>\n",
       "  </thead>\n",
       "  <tbody>\n",
       "    <tr>\n",
       "      <th>0</th>\n",
       "      <td>0</td>\n",
       "      <td>1</td>\n",
       "      <td>0</td>\n",
       "      <td>0</td>\n",
       "      <td>0</td>\n",
       "      <td>1</td>\n",
       "      <td>0</td>\n",
       "      <td>0</td>\n",
       "      <td>1</td>\n",
       "      <td>0</td>\n",
       "      <td>...</td>\n",
       "      <td>1</td>\n",
       "      <td>0</td>\n",
       "      <td>1</td>\n",
       "      <td>0</td>\n",
       "      <td>0</td>\n",
       "      <td>0</td>\n",
       "      <td>0</td>\n",
       "      <td>0</td>\n",
       "      <td>0</td>\n",
       "      <td>0</td>\n",
       "    </tr>\n",
       "    <tr>\n",
       "      <th>1</th>\n",
       "      <td>0</td>\n",
       "      <td>1</td>\n",
       "      <td>0</td>\n",
       "      <td>0</td>\n",
       "      <td>1</td>\n",
       "      <td>0</td>\n",
       "      <td>0</td>\n",
       "      <td>1</td>\n",
       "      <td>0</td>\n",
       "      <td>0</td>\n",
       "      <td>...</td>\n",
       "      <td>0</td>\n",
       "      <td>0</td>\n",
       "      <td>1</td>\n",
       "      <td>0</td>\n",
       "      <td>0</td>\n",
       "      <td>0</td>\n",
       "      <td>0</td>\n",
       "      <td>0</td>\n",
       "      <td>0</td>\n",
       "      <td>0</td>\n",
       "    </tr>\n",
       "    <tr>\n",
       "      <th>2</th>\n",
       "      <td>0</td>\n",
       "      <td>1</td>\n",
       "      <td>0</td>\n",
       "      <td>0</td>\n",
       "      <td>1</td>\n",
       "      <td>0</td>\n",
       "      <td>0</td>\n",
       "      <td>1</td>\n",
       "      <td>0</td>\n",
       "      <td>0</td>\n",
       "      <td>...</td>\n",
       "      <td>1</td>\n",
       "      <td>0</td>\n",
       "      <td>1</td>\n",
       "      <td>0</td>\n",
       "      <td>0</td>\n",
       "      <td>0</td>\n",
       "      <td>0</td>\n",
       "      <td>0</td>\n",
       "      <td>0</td>\n",
       "      <td>0</td>\n",
       "    </tr>\n",
       "    <tr>\n",
       "      <th>3</th>\n",
       "      <td>1</td>\n",
       "      <td>1</td>\n",
       "      <td>0</td>\n",
       "      <td>0</td>\n",
       "      <td>1</td>\n",
       "      <td>0</td>\n",
       "      <td>0</td>\n",
       "      <td>1</td>\n",
       "      <td>0</td>\n",
       "      <td>0</td>\n",
       "      <td>...</td>\n",
       "      <td>0</td>\n",
       "      <td>0</td>\n",
       "      <td>1</td>\n",
       "      <td>0</td>\n",
       "      <td>0</td>\n",
       "      <td>0</td>\n",
       "      <td>0</td>\n",
       "      <td>0</td>\n",
       "      <td>0</td>\n",
       "      <td>0</td>\n",
       "    </tr>\n",
       "    <tr>\n",
       "      <th>4</th>\n",
       "      <td>1</td>\n",
       "      <td>1</td>\n",
       "      <td>0</td>\n",
       "      <td>0</td>\n",
       "      <td>1</td>\n",
       "      <td>0</td>\n",
       "      <td>0</td>\n",
       "      <td>1</td>\n",
       "      <td>0</td>\n",
       "      <td>0</td>\n",
       "      <td>...</td>\n",
       "      <td>1</td>\n",
       "      <td>0</td>\n",
       "      <td>1</td>\n",
       "      <td>0</td>\n",
       "      <td>0</td>\n",
       "      <td>0</td>\n",
       "      <td>0</td>\n",
       "      <td>0</td>\n",
       "      <td>0</td>\n",
       "      <td>0</td>\n",
       "    </tr>\n",
       "  </tbody>\n",
       "</table>\n",
       "<p>5 rows × 121 columns</p>\n",
       "</div>"
      ],
      "text/plain": [
       "   ps_ind_06_bin  ind09_ind10_fusion_0  ind09_ind10_fusion_1  \\\n",
       "0              0                     1                     0   \n",
       "1              0                     1                     0   \n",
       "2              0                     1                     0   \n",
       "3              1                     1                     0   \n",
       "4              1                     1                     0   \n",
       "\n",
       "   ind09_ind10_fusion_2  ind13_ind17_fusion_0  ind13_ind17_fusion_1  \\\n",
       "0                     0                     0                     1   \n",
       "1                     0                     1                     0   \n",
       "2                     0                     1                     0   \n",
       "3                     0                     1                     0   \n",
       "4                     0                     1                     0   \n",
       "\n",
       "   ind13_ind17_fusion_2  ind07_ind12_fusion_0  ind07_ind12_fusion_1  \\\n",
       "0                     0                     0                     1   \n",
       "1                     0                     1                     0   \n",
       "2                     0                     1                     0   \n",
       "3                     0                     1                     0   \n",
       "4                     0                     1                     0   \n",
       "\n",
       "   ind07_ind12_fusion_2        ...          ps_ind_04_cat_1  \\\n",
       "0                     0        ...                        1   \n",
       "1                     0        ...                        0   \n",
       "2                     0        ...                        1   \n",
       "3                     0        ...                        0   \n",
       "4                     0        ...                        1   \n",
       "\n",
       "   ps_ind_04_cat_NaN  ps_ind_05_cat_0  ps_ind_05_cat_1  ps_ind_05_cat_2  \\\n",
       "0                  0                1                0                0   \n",
       "1                  0                1                0                0   \n",
       "2                  0                1                0                0   \n",
       "3                  0                1                0                0   \n",
       "4                  0                1                0                0   \n",
       "\n",
       "   ps_ind_05_cat_3  ps_ind_05_cat_4  ps_ind_05_cat_5  ps_ind_05_cat_6  \\\n",
       "0                0                0                0                0   \n",
       "1                0                0                0                0   \n",
       "2                0                0                0                0   \n",
       "3                0                0                0                0   \n",
       "4                0                0                0                0   \n",
       "\n",
       "   ps_ind_05_cat_NaN  \n",
       "0                  0  \n",
       "1                  0  \n",
       "2                  0  \n",
       "3                  0  \n",
       "4                  0  \n",
       "\n",
       "[5 rows x 121 columns]"
      ]
     },
     "execution_count": 58,
     "metadata": {},
     "output_type": "execute_result"
    }
   ],
   "source": [
    "bincats_v2.head(5)"
   ]
  },
  {
   "cell_type": "code",
   "execution_count": 59,
   "metadata": {},
   "outputs": [],
   "source": [
    "bincats_v2.to_csv('./data/bincats_v2.csv', index=False)"
   ]
  },
  {
   "cell_type": "code",
   "execution_count": null,
   "metadata": {},
   "outputs": [],
   "source": []
  },
  {
   "cell_type": "code",
   "execution_count": null,
   "metadata": {},
   "outputs": [],
   "source": []
  },
  {
   "cell_type": "markdown",
   "metadata": {},
   "source": [
    "# Quick try on new bincat_v2"
   ]
  },
  {
   "cell_type": "code",
   "execution_count": 60,
   "metadata": {},
   "outputs": [],
   "source": [
    "if True:\n",
    "    from imblearn.under_sampling import TomekLinks, RandomUnderSampler\n",
    "    from imblearn.over_sampling import SMOTE, ADASYN\n",
    "    from sklearn.model_selection import train_test_split\n",
    "    from sklearn.metrics import classification_report, roc_curve, precision_recall_curve\n",
    "    from sklearn.ensemble import RandomForestClassifier\n",
    "    from xgboost import XGBClassifier\n",
    "    from sklearn.naive_bayes import MultinomialNB\n",
    "    from sklearn.svm import LinearSVC\n",
    "    from sklearn.metrics import make_scorer\n",
    "    from sklearn.metrics import roc_auc_score"
   ]
  },
  {
   "cell_type": "code",
   "execution_count": 61,
   "metadata": {},
   "outputs": [],
   "source": [
    "def my_gini(y_true, y_probas):\n",
    "    auc = roc_auc_score(y_true, y_probas[:, 1])\n",
    "    gini = 2*auc - 1\n",
    "    return gini\n",
    "\n",
    "gini_scorer = make_scorer(my_gini, needs_proba=True, greater_is_better=True)"
   ]
  },
  {
   "cell_type": "code",
   "execution_count": 62,
   "metadata": {},
   "outputs": [],
   "source": [
    "bincat_v1 = pd.concat([binaries, categoricals], axis=1)"
   ]
  },
  {
   "cell_type": "code",
   "execution_count": 63,
   "metadata": {},
   "outputs": [],
   "source": [
    "datasets = [bincat_v1, bincats_v2]\n",
    "datasets_labels = ['No Selection', 'Selected']"
   ]
  },
  {
   "cell_type": "code",
   "execution_count": 64,
   "metadata": {},
   "outputs": [
    {
     "name": "stdout",
     "output_type": "stream",
     "text": [
      "No Selection: Gini=0.216+/-0.000, Best=0.216\n",
      "Selected: Gini=0.174+/-0.000, Best=0.174\n",
      "CPU times: user 4min 58s, sys: 2.08 s, total: 5min\n",
      "Wall time: 1min 1s\n"
     ]
    },
    {
     "data": {
      "image/png": "[encoded data removed]",
      "text/plain": [
       "<matplotlib.figure.Figure at 0x7f0918355978>"
      ]
     },
     "metadata": {},
     "output_type": "display_data"
    },
    {
     "data": {
      "image/png": "[encoded data removed]",
      "text/plain": [
       "<matplotlib.figure.Figure at 0x7f09184197f0>"
      ]
     },
     "metadata": {},
     "output_type": "display_data"
    }
   ],
   "source": [
    "%%time\n",
    "for j, data in enumerate(datasets):\n",
    "    label = datasets_labels[j]\n",
    "    \n",
    "    fig = plt.figure(figsize=(8, 4))\n",
    "    ax21 = fig.add_subplot(1, 2, 1)\n",
    "    ax22 = fig.add_subplot(1, 2, 2)\n",
    "\n",
    "    neutral_line = np.linspace(0, 1, 10)\n",
    "    ax21.plot(neutral_line, neutral_line, lw=1, ls='--')\n",
    "    ax22.plot(neutral_line, 1- neutral_line, lw=1, ls='--')\n",
    "\n",
    "    ginis_xgb = []\n",
    "\n",
    "    X_new = np.array(data)\n",
    "    y = np.array(target)\n",
    "\n",
    "    for i in range(1):\n",
    "\n",
    "        rstate = None\n",
    "        X_train, X_test, y_train, y_test = train_test_split(X_new, y, test_size=0.2, random_state=rstate)\n",
    "\n",
    "        num_class1 = np.sum(y_train)\n",
    "        num_class1_to_resample = 2 * num_class1\n",
    "        num_class0_to_resample = int(1 * num_class1_to_resample)\n",
    "\n",
    "        # First, randomly undersample the majority\n",
    "        rus = RandomUnderSampler(ratio={0: num_class0_to_resample , 1: num_class1})\n",
    "        X_tlrus, y_tlrus = rus.fit_sample(X_train, y_train)\n",
    "\n",
    "        # Then use SMOTE to oversample the minority\n",
    "        smote = SMOTE(ratio={0: num_class0_to_resample , 1: num_class1_to_resample}, n_jobs=4)\n",
    "        X_res, y_res = smote.fit_sample(X_tlrus, y_tlrus)\n",
    "\n",
    "        # GradientBoost\n",
    "        clf = XGBClassifier(gamma=1, max_depth=8, colsample_bytree=0.5, n_estimators=200, n_jobs=8)\n",
    "        clf.fit(X_res, y_res)\n",
    "\n",
    "        y_pred2 = clf.predict(X_test)\n",
    "        y_proba2 = clf.predict_proba(X_test)\n",
    "        ginis_xgb.append(my_gini(y_test, y_proba2))\n",
    "        report2 = classification_report(y_test, y_pred2, digits=4,\n",
    "                                       labels=None, target_names=None)\n",
    "\n",
    "        precision2, recall2, _ = precision_recall_curve(y_test, y_proba2[:, 1], pos_label=1)\n",
    "        fpr2, tpr2, _ = roc_curve(y_test, y_proba2[:, 1], pos_label=1)\n",
    "        ax21.plot(fpr2, tpr2)\n",
    "        ax21.set_xlabel('False Positive Rate')\n",
    "        ax21.set_ylabel('True Positive Rate')\n",
    "        ax21.set_title('%s: GradientBoost ROC' % label)\n",
    "        ax22.plot(recall2, precision2)\n",
    "        ax22.set_xlabel('Recall')\n",
    "        ax22.set_ylabel('Precision')\n",
    "        ax22.set_title('%s: GradientBoost Precision-Recall' % label)\n",
    "\n",
    "    plt.tight_layout()\n",
    "\n",
    "    print('%s: Gini=%.3f+/-%.3f, Best=%.3f' % (label, np.mean(ginis_xgb), np.std(ginis_xgb), np.max(ginis_xgb)))"
   ]
  },
  {
   "cell_type": "code",
   "execution_count": null,
   "metadata": {},
   "outputs": [],
   "source": []
  },
  {
   "cell_type": "markdown",
   "metadata": {},
   "source": [
    "## Concluding comment\n",
    "Though xgboost didn't perform as hoped right away, fusion of features to reduce complexity and boost conditional probability looks promising. The issues now are: 1) how to feal with features whose conditional probas of class1 are lower or marginally better than the bulk class1 frequency, and 2) loss of information by encoding into categoricals. 2) can be resolved by CategoricalComparison class to assess any gain in joint probability of two categorical features. This is to be implemented and explored next."
   ]
  },
  {
   "cell_type": "code",
   "execution_count": null,
   "metadata": {},
   "outputs": [],
   "source": []
  },
  {
   "cell_type": "code",
   "execution_count": null,
   "metadata": {},
   "outputs": [],
   "source": []
  },
  {
   "cell_type": "code",
   "execution_count": null,
   "metadata": {},
   "outputs": [],
   "source": []
  }
 ],
 "metadata": {
  "kernelspec": {
   "display_name": "Python 3",
   "language": "python",
   "name": "python3"
  },
  "language_info": {
   "codemirror_mode": {
    "name": "ipython",
    "version": 3
   },
   "file_extension": ".py",
   "mimetype": "text/x-python",
   "name": "python",
   "nbconvert_exporter": "python",
   "pygments_lexer": "ipython3",
   "version": "3.6.2"
  }
 },
 "nbformat": 4,
 "nbformat_minor": 2
}
