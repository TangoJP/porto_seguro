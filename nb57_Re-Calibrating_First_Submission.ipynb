{
 "cells": [
  {
   "cell_type": "markdown",
   "metadata": {},
   "source": [
    "<a id='sec0'></a>\n",
    "# Calibrating the model used in 1st submission\n",
    "1. <a href='#sec1'>Import Modules and Data</a><br>\n",
    "<br>\n",
    "2. <a href='#sec2'>Digitize both train and test sets</a><br>\n",
    "<br>\n",
    "3. <a href='#sec3'>Create subset of feature spaces</a>\n",
    "    - Use features from F001 univariate selection<br>\n",
    "<br>\n",
    "4. <a href='#sec4'>Resample train set</a>\n",
    "    - Tomek Link majority\n",
    "    - Undersample majority, oversample minority<br>\n",
    "<br>  \n",
    "5. <a href='#sec5'>Train XGBoost, make a prediction, save result</a><br>"
   ]
  },
  {
   "cell_type": "markdown",
   "metadata": {},
   "source": [
    "<a id='sec1'></a>\n",
    "# Import Modules and Data\n",
    "(<a href='#sec0'>back to top</a>)"
   ]
  },
  {
   "cell_type": "code",
   "execution_count": 1,
   "metadata": {},
   "outputs": [],
   "source": [
    "import pandas as pd\n",
    "import numpy as np\n",
    "import matplotlib.pyplot as plt\n",
    "\n",
    "from imblearn.under_sampling import TomekLinks, RandomUnderSampler\n",
    "from imblearn.over_sampling import SMOTE\n",
    "from sklearn.model_selection import train_test_split\n",
    "from xgboost import XGBClassifier\n",
    "\n",
    "import my_scoring_functions as msf\n",
    "\n",
    "%matplotlib inline"
   ]
  },
  {
   "cell_type": "code",
   "execution_count": 2,
   "metadata": {},
   "outputs": [],
   "source": [
    "from ps.feature_processing import (create_contingency_table,\n",
    "                                calculate_conditional_prob_bin,\n",
    "                                encode_my_categorical_labels,\n",
    "                                calculate_conditional_prob_cat,\n",
    "                                estimate_cond_prob_density,\n",
    "                                bin_myFeature)"
   ]
  },
  {
   "cell_type": "code",
   "execution_count": 31,
   "metadata": {},
   "outputs": [],
   "source": [
    "train = pd.read_csv('train.csv', header=0)\n",
    "test = pd.read_csv('test.csv', header=0)"
   ]
  },
  {
   "cell_type": "code",
   "execution_count": 32,
   "metadata": {},
   "outputs": [
    {
     "name": "stdout",
     "output_type": "stream",
     "text": [
      "Train Set Shape:  (595212, 59)\n",
      " Test Set Shape:  (892816, 58)\n"
     ]
    }
   ],
   "source": [
    "print('Train Set Shape: ', train.shape)\n",
    "print(' Test Set Shape: ', test.shape)"
   ]
  },
  {
   "cell_type": "markdown",
   "metadata": {},
   "source": [
    "<a id='sec2'></a>\n",
    "# Digtizing train and test sets\n",
    "(<a href='#sec0'>back to top</a>)"
   ]
  },
  {
   "cell_type": "code",
   "execution_count": 5,
   "metadata": {},
   "outputs": [],
   "source": [
    "trainset_digitized = pd.read_csv('./data/digitized_trainset1.csv')\n",
    "testset_digitized = pd.read_csv('./data/digitized_testset1.csv')"
   ]
  },
  {
   "cell_type": "code",
   "execution_count": 6,
   "metadata": {},
   "outputs": [
    {
     "data": {
      "text/plain": [
       "(595212, 228)"
      ]
     },
     "execution_count": 6,
     "metadata": {},
     "output_type": "execute_result"
    }
   ],
   "source": [
    "trainset_digitized.shape"
   ]
  },
  {
   "cell_type": "code",
   "execution_count": 7,
   "metadata": {},
   "outputs": [
    {
     "data": {
      "text/plain": [
       "Index(['ps_calc_01', 'ps_calc_02', 'ps_calc_03', 'ps_calc_04', 'ps_calc_05',\n",
       "       'ps_calc_06', 'ps_calc_07', 'ps_calc_08', 'ps_calc_09', 'ps_calc_10',\n",
       "       ...\n",
       "       'ps_ind_04_cat_1', 'ps_ind_05_cat_NaN', 'ps_ind_05_cat_0',\n",
       "       'ps_ind_05_cat_1', 'ps_ind_05_cat_2', 'ps_ind_05_cat_3',\n",
       "       'ps_ind_05_cat_4', 'ps_ind_05_cat_5', 'ps_ind_05_cat_6', 'target'],\n",
       "      dtype='object', length=228)"
      ]
     },
     "execution_count": 7,
     "metadata": {},
     "output_type": "execute_result"
    }
   ],
   "source": [
    "trainset_digitized.columns"
   ]
  },
  {
   "cell_type": "markdown",
   "metadata": {},
   "source": [
    "<a id='sec3'></a>\n",
    "# Selecting Features\n",
    "(<a href='#sec0'>back to top</a>)"
   ]
  },
  {
   "cell_type": "code",
   "execution_count": 8,
   "metadata": {},
   "outputs": [],
   "source": [
    "# Get a list of features selected after univariate selection and RFE\n",
    "rfe = pd.read_csv('./data/rfe_features.csv')\n",
    "rfe_features = list(rfe.columns)"
   ]
  },
  {
   "cell_type": "code",
   "execution_count": 9,
   "metadata": {},
   "outputs": [],
   "source": [
    "trainset_ready = trainset_digitized.loc[:, rfe_features]\n",
    "testset_ready = testset_digitized.loc[:, rfe_features]"
   ]
  },
  {
   "cell_type": "code",
   "execution_count": 10,
   "metadata": {},
   "outputs": [
    {
     "name": "stdout",
     "output_type": "stream",
     "text": [
      "Final Train Set Shape:  (595212, 108)\n",
      "Final  Test Set Shape:  (892816, 108)\n"
     ]
    }
   ],
   "source": [
    "print('Final Train Set Shape: ', trainset_ready.shape)\n",
    "print('Final  Test Set Shape: ', testset_ready.shape)"
   ]
  },
  {
   "cell_type": "code",
   "execution_count": 11,
   "metadata": {},
   "outputs": [
    {
     "name": "stdout",
     "output_type": "stream",
     "text": [
      "False\n",
      "False\n"
     ]
    }
   ],
   "source": [
    "print('target' in trainset_ready.columns)\n",
    "print('target' in testset_ready.columns)"
   ]
  },
  {
   "cell_type": "markdown",
   "metadata": {},
   "source": [
    "<a id='sec4'></a>\n",
    "# Resample Train Set\n",
    "(<a href='#sec0'>back to top</a>)"
   ]
  },
  {
   "cell_type": "code",
   "execution_count": 12,
   "metadata": {},
   "outputs": [
    {
     "data": {
      "text/plain": [
       "Index(['ps_ind_06_bin', 'ps_ind_07_bin', 'ps_ind_08_bin', 'ps_ind_09_bin',\n",
       "       'ps_ind_12_bin', 'ps_ind_16_bin', 'ps_ind_17_bin', 'ps_ind_18_bin',\n",
       "       'ps_car_01_cat_0', 'ps_car_01_cat_6',\n",
       "       ...\n",
       "       'ps_car_13', 'ps_car_14', 'ps_car_15', 'ps_ind_01', 'ps_ind_03',\n",
       "       'ps_ind_14', 'ps_ind_15', 'ps_reg_01', 'ps_reg_02', 'ps_reg_03'],\n",
       "      dtype='object', length=108)"
      ]
     },
     "execution_count": 12,
     "metadata": {},
     "output_type": "execute_result"
    }
   ],
   "source": [
    "trainset_ready.columns"
   ]
  },
  {
   "cell_type": "code",
   "execution_count": 13,
   "metadata": {},
   "outputs": [
    {
     "data": {
      "text/plain": [
       "Index(['ps_calc_01', 'ps_calc_02', 'ps_calc_03', 'ps_calc_04', 'ps_calc_05',\n",
       "       'ps_calc_06', 'ps_calc_07', 'ps_calc_08', 'ps_calc_09', 'ps_calc_10',\n",
       "       ...\n",
       "       'ps_ind_04_cat_1', 'ps_ind_05_cat_NaN', 'ps_ind_05_cat_0',\n",
       "       'ps_ind_05_cat_1', 'ps_ind_05_cat_2', 'ps_ind_05_cat_3',\n",
       "       'ps_ind_05_cat_4', 'ps_ind_05_cat_5', 'ps_ind_05_cat_6', 'target'],\n",
       "      dtype='object', length=228)"
      ]
     },
     "execution_count": 13,
     "metadata": {},
     "output_type": "execute_result"
    }
   ],
   "source": [
    "trainset_digitized.columns"
   ]
  },
  {
   "cell_type": "code",
   "execution_count": 14,
   "metadata": {},
   "outputs": [
    {
     "name": "stdout",
     "output_type": "stream",
     "text": [
      "X shape:  (595212, 108)\n",
      "y shape:  (595212,)\n"
     ]
    }
   ],
   "source": [
    "X = np.array(trainset_ready)\n",
    "y = np.array(trainset_digitized.iloc[:, -1])\n",
    "\n",
    "print('X shape: ', X.shape)\n",
    "print('y shape: ', y.shape)"
   ]
  },
  {
   "cell_type": "code",
   "execution_count": 15,
   "metadata": {},
   "outputs": [
    {
     "name": "stdout",
     "output_type": "stream",
     "text": [
      "CPU times: user 3 µs, sys: 0 ns, total: 3 µs\n",
      "Wall time: 5.01 µs\n"
     ]
    }
   ],
   "source": [
    "%%time\n",
    "# Tomek Links to denoise majority\n",
    "if False:\n",
    "    tl = TomekLinks(n_jobs=8, ratio='majority')\n",
    "    X_tl, y_tl = tl.fit_sample(X, y)\n",
    "\n",
    "    print('Before tomek links: size of X: ', X.shape)\n",
    "    print('After  tomek links: size of X: ', X_tl.shape)\n",
    "    print('Before tomek links: class0/class1 = %d / %d' % (len(y)-np.sum(y), np.sum(y)))\n",
    "    print('After  tomek links: class0/class1 = %d / %d' % (len(y_tl)-np.sum(y_tl), np.sum(y_tl)))"
   ]
  },
  {
   "cell_type": "code",
   "execution_count": 16,
   "metadata": {},
   "outputs": [],
   "source": [
    "# Set targets for the number of each class\n",
    "# Here, set class0:class1 = 1:1\n",
    "num_class1 = np.sum(y)\n",
    "num_class1_to_resample = 5 * num_class1\n",
    "num_class0_to_resample = int(3 * num_class1_to_resample)\n",
    "\n",
    "# First, randomly undersample the majority\n",
    "rus = RandomUnderSampler(ratio={0: num_class0_to_resample , 1: num_class1})\n",
    "X_tlrus, y_tlrus = rus.fit_sample(X, y)\n",
    "\n",
    "# Then use SMOTE to oversample the minority\n",
    "smote = SMOTE(ratio={0: num_class0_to_resample , 1: num_class1_to_resample}, n_jobs=4)\n",
    "X_res, y_res = smote.fit_sample(X_tlrus, y_tlrus)"
   ]
  },
  {
   "cell_type": "code",
   "execution_count": 17,
   "metadata": {},
   "outputs": [
    {
     "name": "stdout",
     "output_type": "stream",
     "text": [
      "After  Resampling: size of X:  (433880, 108)\n",
      "After  Resampling: class0/class1 = 325410/108470\n"
     ]
    }
   ],
   "source": [
    "# Print Resampling Results\n",
    "#print('Before Resampling: size of X: ', X_tl.shape)\n",
    "print('After  Resampling: size of X: ', X_res.shape)\n",
    "#print('Before Resampling: class0/class1 =%7d/%6d' % (len(y_tl)-np.sum(y_tl), np.sum(y_tl)))\n",
    "print('After  Resampling: class0/class1 =%7d/%6d' % (len(y_res)-np.sum(y_res), np.sum(y_res)))"
   ]
  },
  {
   "cell_type": "markdown",
   "metadata": {},
   "source": [
    "<a id='sec5'></a>\n",
    "# Train XGBoost, predict probabilities, save to a file\n",
    "(<a href='#sec0'>back to top</a>)"
   ]
  },
  {
   "cell_type": "code",
   "execution_count": 18,
   "metadata": {},
   "outputs": [],
   "source": [
    "X_train, X_test, y_train, y_test = train_test_split(X_res, y_res, test_size=0.1)"
   ]
  },
  {
   "cell_type": "code",
   "execution_count": 20,
   "metadata": {},
   "outputs": [
    {
     "data": {
      "text/plain": [
       "XGBClassifier(base_score=0.5, booster='gbtree', colsample_bylevel=1,\n",
       "       colsample_bytree=1, gamma=9, learning_rate=0.05, max_delta_step=0,\n",
       "       max_depth=11, min_child_weight=4, missing=None, n_estimators=500,\n",
       "       n_jobs=8, nthread=None, objective='binary:logistic', random_state=0,\n",
       "       reg_alpha=0, reg_lambda=1, scale_pos_weight=1, seed=None,\n",
       "       silent=True, subsample=0.85)"
      ]
     },
     "execution_count": 20,
     "metadata": {},
     "output_type": "execute_result"
    }
   ],
   "source": [
    "# Train XGBoost\n",
    "clf = XGBClassifier(gamma=9, subsample=0.85, max_depth=11, \n",
    "                    min_child_weight=4, learning_rate=0.05, \n",
    "                    n_estimators=500, n_jobs=8)\n",
    "\n",
    "clf.fit(X_train, y_train)"
   ]
  },
  {
   "cell_type": "code",
   "execution_count": 23,
   "metadata": {},
   "outputs": [],
   "source": [
    "from importlib import reload"
   ]
  },
  {
   "cell_type": "code",
   "execution_count": 24,
   "metadata": {},
   "outputs": [
    {
     "data": {
      "text/plain": [
       "<module 'my_scoring_functions' from '/home/ryohayama/python_current/porto_seguro/my_scoring_functions.py'>"
      ]
     },
     "execution_count": 24,
     "metadata": {},
     "output_type": "execute_result"
    }
   ],
   "source": [
    "reload(msf)"
   ]
  },
  {
   "cell_type": "code",
   "execution_count": 25,
   "metadata": {},
   "outputs": [
    {
     "name": "stdout",
     "output_type": "stream",
     "text": [
      "XGB:\n",
      "\tGini: 0.857\n",
      "\tPrecision: 1.000\n",
      "\tRecall: 0.804\n",
      "\tF1: 0.891\n",
      "\tAve. Precision Score: 0.911\n",
      "\n",
      "XGB + Sigmoid:\n",
      "\tGini: 0.857\n",
      "\tPrecision: 0.986\n",
      "\tRecall: 0.809\n",
      "\tF1: 0.889\n",
      "\tAve. Precision Score: 0.911\n",
      "\n"
     ]
    },
    {
     "data": {
      "image/png": "[encoded data removed]",
      "text/plain": [
       "<matplotlib.figure.Figure at 0x7f1255d4a8d0>"
      ]
     },
     "metadata": {},
     "output_type": "display_data"
    },
    {
     "name": "stdout",
     "output_type": "stream",
     "text": [
      "CPU times: user 32min 31s, sys: 810 ms, total: 32min 32s\n",
      "Wall time: 4min 7s\n"
     ]
    }
   ],
   "source": [
    "%%time\n",
    "# Use custom function to run calibrations (see my_scoring_functions.py) \n",
    "d = [X_train, X_test, y_train, y_test]\n",
    "clfs = msf.plot_calibration_curve_ps(clf, 'XGB', 1, d, cv='prefit')"
   ]
  },
  {
   "cell_type": "code",
   "execution_count": 29,
   "metadata": {},
   "outputs": [],
   "source": [
    "neo_clf = clfs[1].calibrated_classifiers_[0]"
   ]
  },
  {
   "cell_type": "code",
   "execution_count": null,
   "metadata": {},
   "outputs": [],
   "source": []
  },
  {
   "cell_type": "code",
   "execution_count": null,
   "metadata": {},
   "outputs": [],
   "source": []
  },
  {
   "cell_type": "code",
   "execution_count": 33,
   "metadata": {},
   "outputs": [],
   "source": [
    "if False:\n",
    "    X_test = np.array(testset_ready)\n",
    "    y_ids = np.array(test.id)\n",
    "\n",
    "    X_test.shape, y_ids.shape\n",
    "\n",
    "    y_probas = neo_clf.predict_proba(X_test)\n",
    "\n",
    "    y_probas.shape\n",
    "\n",
    "    prediction_result = pd.DataFrame({'id': y_ids, 'target': y_probas[:, 1]})\n",
    "    prediction_result = prediction_result[['id', 'target']]\n",
    "\n",
    "    prediction_result.head(10)\n",
    "\n",
    "    prediction_result.to_csv('./submissions/porto_seguro_submission_RH10.csv', index=False, header=True)"
   ]
  },
  {
   "cell_type": "code",
   "execution_count": null,
   "metadata": {},
   "outputs": [],
   "source": []
  },
  {
   "cell_type": "code",
   "execution_count": null,
   "metadata": {},
   "outputs": [],
   "source": []
  }
 ],
 "metadata": {
  "kernelspec": {
   "display_name": "Python 3",
   "language": "python",
   "name": "python3"
  },
  "language_info": {
   "codemirror_mode": {
    "name": "ipython",
    "version": 3
   },
   "file_extension": ".py",
   "mimetype": "text/x-python",
   "name": "python",
   "nbconvert_exporter": "python",
   "pygments_lexer": "ipython3",
   "version": "3.6.3"
  }
 },
 "nbformat": 4,
 "nbformat_minor": 2
}
