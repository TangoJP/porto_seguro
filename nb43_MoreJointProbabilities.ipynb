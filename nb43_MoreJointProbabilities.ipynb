{
 "cells": [
  {
   "cell_type": "code",
   "execution_count": 1,
   "metadata": {},
   "outputs": [
    {
     "name": "stderr",
     "output_type": "stream",
     "text": [
      "/home/ryohayama/.local/lib/python3.6/site-packages/statsmodels/compat/pandas.py:56: FutureWarning: The pandas.core.datetools module is deprecated and will be removed in a future version. Please use the pandas.tseries module instead.\n",
      "  from pandas.core import datetools\n"
     ]
    }
   ],
   "source": [
    "import pandas as pd\n",
    "import numpy as np\n",
    "import matplotlib.pyplot as plt\n",
    "import statsmodels.api as sm\n",
    "import scipy as sc\n",
    "%matplotlib inline\n",
    "\n",
    "from importlib import reload\n",
    "from matplotlib import cm\n",
    "\n",
    "from sklearn.decomposition import PCA\n",
    "\n",
    "import feature_analysis as fa\n",
    "import ps.joint_probability as psjp\n",
    "\n",
    "import warnings\n",
    "warnings.simplefilter(\"ignore\", category=PendingDeprecationWarning)\n",
    "warnings.simplefilter(\"ignore\", category=DeprecationWarning)"
   ]
  },
  {
   "cell_type": "code",
   "execution_count": 2,
   "metadata": {},
   "outputs": [],
   "source": [
    "train = pd.read_csv('train.csv', header=0)\n",
    "\n",
    "all_fs = train.columns[2:]\n",
    "binary_fs = sorted([f for f in all_fs if '_bin' in f])\n",
    "categorical_fs = sorted([f for f in all_fs if '_cat' in f])\n",
    "other_fs = sorted([f for f in all_fs\n",
    "                if f not in binary_fs\n",
    "                if f not in categorical_fs])\n",
    "\n",
    "target = train.target"
   ]
  },
  {
   "cell_type": "code",
   "execution_count": 3,
   "metadata": {},
   "outputs": [
    {
     "data": {
      "text/plain": [
       "0.036447517859182946"
      ]
     },
     "execution_count": 3,
     "metadata": {},
     "output_type": "execute_result"
    }
   ],
   "source": [
    "num_samples = len(target)\n",
    "num_target = np.sum(target)\n",
    "freq_target = num_target/num_samples\n",
    "freq_target"
   ]
  },
  {
   "cell_type": "markdown",
   "metadata": {},
   "source": [
    "# Binaries"
   ]
  },
  {
   "cell_type": "markdown",
   "metadata": {},
   "source": [
    "### ind_bin\n",
    "nb42 result suggest that using all but ind_08 and ind_09 yields the best expected value"
   ]
  },
  {
   "cell_type": "code",
   "execution_count": 12,
   "metadata": {},
   "outputs": [
    {
     "data": {
      "text/plain": [
       "Index(['ps_ind_06_bin', 'ps_ind_07_bin', 'ps_ind_10_bin', 'ps_ind_11_bin',\n",
       "       'ps_ind_12_bin', 'ps_ind_13_bin', 'ps_ind_16_bin', 'ps_ind_17_bin',\n",
       "       'ps_ind_18_bin'],\n",
       "      dtype='object')"
      ]
     },
     "execution_count": 12,
     "metadata": {},
     "output_type": "execute_result"
    }
   ],
   "source": [
    "ind_bins_fs = [f for f in all_fs \n",
    "               if '_bin' in f\n",
    "               if '_ind' in f]\n",
    "ind_bins_fs = ind_bins_fs.copy()\n",
    "ind_bins_fs.remove('ps_ind_08_bin')\n",
    "ind_bins_fs.remove('ps_ind_09_bin')\n",
    "\n",
    "ind_bins = train[ind_bins_fs]\n",
    "\n",
    "ind_bins.columns"
   ]
  },
  {
   "cell_type": "code",
   "execution_count": 13,
   "metadata": {
    "scrolled": true
   },
   "outputs": [],
   "source": [
    "combo1 = tuple(f for f in ind_bins_fs)\n",
    "opt1 = psjp.JointProbabilityOptimizer(ind_bins, verbose=True)\n",
    "res1 = opt1.getExp(combo1, target)"
   ]
  },
  {
   "cell_type": "code",
   "execution_count": 14,
   "metadata": {},
   "outputs": [
    {
     "data": {
      "text/plain": [
       "860.1393829057389"
      ]
     },
     "execution_count": 14,
     "metadata": {},
     "output_type": "execute_result"
    }
   ],
   "source": [
    "res1"
   ]
  },
  {
   "cell_type": "markdown",
   "metadata": {},
   "source": [
    "### calc"
   ]
  },
  {
   "cell_type": "code",
   "execution_count": 16,
   "metadata": {},
   "outputs": [
    {
     "data": {
      "text/plain": [
       "['ps_calc_15_bin',\n",
       " 'ps_calc_16_bin',\n",
       " 'ps_calc_17_bin',\n",
       " 'ps_calc_18_bin',\n",
       " 'ps_calc_19_bin',\n",
       " 'ps_calc_20_bin']"
      ]
     },
     "execution_count": 16,
     "metadata": {},
     "output_type": "execute_result"
    }
   ],
   "source": [
    "calc_bins_fs = [f for f in binary_fs \n",
    "               if '_bin' in f\n",
    "               if '_calc' in f]\n",
    "calc_bins = train[calc_bins_fs]\n",
    "calc_bins_fs"
   ]
  },
  {
   "cell_type": "markdown",
   "metadata": {},
   "source": [
    "calc_bin features appear to be useless in bringing the probability higher. So not conducted"
   ]
  },
  {
   "cell_type": "markdown",
   "metadata": {},
   "source": [
    "# Categoricals"
   ]
  },
  {
   "cell_type": "markdown",
   "metadata": {},
   "source": [
    "### car"
   ]
  },
  {
   "cell_type": "code",
   "execution_count": null,
   "metadata": {},
   "outputs": [],
   "source": [
    "reload(psjp)"
   ]
  },
  {
   "cell_type": "code",
   "execution_count": 24,
   "metadata": {},
   "outputs": [
    {
     "name": "stdout",
     "output_type": "stream",
     "text": [
      "['ps_car_02_cat', 'ps_car_03_cat', 'ps_car_05_cat', 'ps_car_07_cat', 'ps_car_08_cat', 'ps_car_09_cat', 'ps_car_10_cat']\n",
      "['ps_car_01_cat', 'ps_car_04_cat', 'ps_car_06_cat', 'ps_car_11_cat']\n"
     ]
    }
   ],
   "source": [
    "car_cats_fs = [f for f in categorical_fs if 'car' in f]\n",
    "car_cats = train[car_cats_fs] + 1\n",
    "\n",
    "car_cat_small_fs = ['ps_car_02_cat', 'ps_car_03_cat', 'ps_car_05_cat', 'ps_car_07_cat',\n",
    "                     'ps_car_08_cat', 'ps_car_09_cat', 'ps_car_10_cat']\n",
    "car_cat_big_fs = [f for f in car_cats if f not in car_cat_small_fs]\n",
    "\n",
    "car_cat_small = car_cats[car_cat_small_fs]\n",
    "car_cat_big = car_cats[car_cat_big_fs]\n",
    "\n",
    "print(car_cat_small_fs)\n",
    "print(car_cat_big_fs)"
   ]
  },
  {
   "cell_type": "code",
   "execution_count": 25,
   "metadata": {},
   "outputs": [
    {
     "name": "stdout",
     "output_type": "stream",
     "text": [
      " 0/ 7: Processing Original\n",
      " 1/ 7: Processing with ps_car_02_cat\n",
      " 2/ 7: Processing with ps_car_03_cat\n",
      " 3/ 7: Processing with ps_car_05_cat\n",
      " 4/ 7: Processing with ps_car_07_cat\n",
      " 5/ 7: Processing with ps_car_08_cat\n",
      " 6/ 7: Processing with ps_car_09_cat\n",
      " 7/ 7: Processing with ps_car_10_cat\n"
     ]
    }
   ],
   "source": [
    "opt21 = psjp.JointProbabilityOptimizer(car_cat_big, verbose=True)\n",
    "res21 = opt21.selectByAddition(car_cat_small, target)"
   ]
  },
  {
   "cell_type": "code",
   "execution_count": 26,
   "metadata": {},
   "outputs": [
    {
     "data": {
      "text/html": [
       "<div>\n",
       "<style scoped>\n",
       "    .dataframe tbody tr th:only-of-type {\n",
       "        vertical-align: middle;\n",
       "    }\n",
       "\n",
       "    .dataframe tbody tr th {\n",
       "        vertical-align: top;\n",
       "    }\n",
       "\n",
       "    .dataframe thead th {\n",
       "        text-align: right;\n",
       "    }\n",
       "</style>\n",
       "<table border=\"1\" class=\"dataframe\">\n",
       "  <thead>\n",
       "    <tr style=\"text-align: right;\">\n",
       "      <th></th>\n",
       "      <th>exp_val</th>\n",
       "      <th>importance_</th>\n",
       "    </tr>\n",
       "  </thead>\n",
       "  <tbody>\n",
       "    <tr>\n",
       "      <th>ps_car_09_cat</th>\n",
       "      <td>1212.594591</td>\n",
       "      <td>0.232506</td>\n",
       "    </tr>\n",
       "    <tr>\n",
       "      <th>ps_car_07_cat</th>\n",
       "      <td>1148.121908</td>\n",
       "      <td>0.166974</td>\n",
       "    </tr>\n",
       "    <tr>\n",
       "      <th>ps_car_03_cat</th>\n",
       "      <td>1137.214309</td>\n",
       "      <td>0.155888</td>\n",
       "    </tr>\n",
       "    <tr>\n",
       "      <th>ps_car_05_cat</th>\n",
       "      <td>1129.849146</td>\n",
       "      <td>0.148401</td>\n",
       "    </tr>\n",
       "    <tr>\n",
       "      <th>ps_car_08_cat</th>\n",
       "      <td>1061.217347</td>\n",
       "      <td>0.078643</td>\n",
       "    </tr>\n",
       "    <tr>\n",
       "      <th>ps_car_02_cat</th>\n",
       "      <td>1041.559716</td>\n",
       "      <td>0.058662</td>\n",
       "    </tr>\n",
       "    <tr>\n",
       "      <th>ps_car_10_cat</th>\n",
       "      <td>1013.745295</td>\n",
       "      <td>0.030391</td>\n",
       "    </tr>\n",
       "    <tr>\n",
       "      <th>initial</th>\n",
       "      <td>983.845102</td>\n",
       "      <td>0.000000</td>\n",
       "    </tr>\n",
       "  </tbody>\n",
       "</table>\n",
       "</div>"
      ],
      "text/plain": [
       "                   exp_val  importance_\n",
       "ps_car_09_cat  1212.594591     0.232506\n",
       "ps_car_07_cat  1148.121908     0.166974\n",
       "ps_car_03_cat  1137.214309     0.155888\n",
       "ps_car_05_cat  1129.849146     0.148401\n",
       "ps_car_08_cat  1061.217347     0.078643\n",
       "ps_car_02_cat  1041.559716     0.058662\n",
       "ps_car_10_cat  1013.745295     0.030391\n",
       "initial         983.845102     0.000000"
      ]
     },
     "execution_count": 26,
     "metadata": {},
     "output_type": "execute_result"
    }
   ],
   "source": [
    "pd.DataFrame({'exp_val': res21[0], 'importance_': res21[1]}).sort_values('importance_', ascending=False)"
   ]
  },
  {
   "cell_type": "code",
   "execution_count": 30,
   "metadata": {},
   "outputs": [],
   "source": [
    "add1_fs = car_cat_big_fs + ['ps_car_09_cat']\n",
    "add1 = car_cats[add1_fs]\n",
    "removed_fs = car_cat_small_fs.copy()\n",
    "removed_fs.remove('ps_car_09_cat')\n",
    "removed = car_cat_small[removed_fs]"
   ]
  },
  {
   "cell_type": "code",
   "execution_count": 34,
   "metadata": {},
   "outputs": [
    {
     "name": "stdout",
     "output_type": "stream",
     "text": [
      " 0/ 6: Processing Original\n",
      " 1/ 6: Processing with ps_car_02_cat\n",
      " 2/ 6: Processing with ps_car_03_cat\n",
      " 3/ 6: Processing with ps_car_05_cat\n",
      " 4/ 6: Processing with ps_car_07_cat\n",
      " 5/ 6: Processing with ps_car_08_cat\n",
      " 6/ 6: Processing with ps_car_10_cat\n"
     ]
    }
   ],
   "source": [
    "opt22 = psjp.JointProbabilityOptimizer(add1, verbose=True)\n",
    "res22 = opt22.selectByAddition(removed, target)"
   ]
  },
  {
   "cell_type": "code",
   "execution_count": 35,
   "metadata": {},
   "outputs": [
    {
     "data": {
      "text/html": [
       "<div>\n",
       "<style scoped>\n",
       "    .dataframe tbody tr th:only-of-type {\n",
       "        vertical-align: middle;\n",
       "    }\n",
       "\n",
       "    .dataframe tbody tr th {\n",
       "        vertical-align: top;\n",
       "    }\n",
       "\n",
       "    .dataframe thead th {\n",
       "        text-align: right;\n",
       "    }\n",
       "</style>\n",
       "<table border=\"1\" class=\"dataframe\">\n",
       "  <thead>\n",
       "    <tr style=\"text-align: right;\">\n",
       "      <th></th>\n",
       "      <th>exp_val</th>\n",
       "      <th>importance_</th>\n",
       "    </tr>\n",
       "  </thead>\n",
       "  <tbody>\n",
       "    <tr>\n",
       "      <th>ps_car_05_cat</th>\n",
       "      <td>1534.227483</td>\n",
       "      <td>0.265244</td>\n",
       "    </tr>\n",
       "    <tr>\n",
       "      <th>ps_car_03_cat</th>\n",
       "      <td>1512.779695</td>\n",
       "      <td>0.247556</td>\n",
       "    </tr>\n",
       "    <tr>\n",
       "      <th>ps_car_07_cat</th>\n",
       "      <td>1497.985542</td>\n",
       "      <td>0.235356</td>\n",
       "    </tr>\n",
       "    <tr>\n",
       "      <th>ps_car_08_cat</th>\n",
       "      <td>1374.392476</td>\n",
       "      <td>0.133431</td>\n",
       "    </tr>\n",
       "    <tr>\n",
       "      <th>ps_car_02_cat</th>\n",
       "      <td>1324.654774</td>\n",
       "      <td>0.092414</td>\n",
       "    </tr>\n",
       "    <tr>\n",
       "      <th>ps_car_10_cat</th>\n",
       "      <td>1259.060487</td>\n",
       "      <td>0.038319</td>\n",
       "    </tr>\n",
       "    <tr>\n",
       "      <th>initial</th>\n",
       "      <td>1212.594591</td>\n",
       "      <td>0.000000</td>\n",
       "    </tr>\n",
       "  </tbody>\n",
       "</table>\n",
       "</div>"
      ],
      "text/plain": [
       "                   exp_val  importance_\n",
       "ps_car_05_cat  1534.227483     0.265244\n",
       "ps_car_03_cat  1512.779695     0.247556\n",
       "ps_car_07_cat  1497.985542     0.235356\n",
       "ps_car_08_cat  1374.392476     0.133431\n",
       "ps_car_02_cat  1324.654774     0.092414\n",
       "ps_car_10_cat  1259.060487     0.038319\n",
       "initial        1212.594591     0.000000"
      ]
     },
     "execution_count": 35,
     "metadata": {},
     "output_type": "execute_result"
    }
   ],
   "source": [
    "pd.DataFrame({'exp_val': res22[0], 'importance_': res22[1]}).sort_values('importance_', ascending=False)"
   ]
  },
  {
   "cell_type": "code",
   "execution_count": 37,
   "metadata": {},
   "outputs": [],
   "source": [
    "add2_fs = add1_fs + ['ps_car_05_cat']\n",
    "add2 = car_cats[add2_fs]\n",
    "removed_fs2 = removed_fs.copy()\n",
    "removed_fs2.remove('ps_car_05_cat')\n",
    "removed2 = car_cat_small[removed_fs2]"
   ]
  },
  {
   "cell_type": "code",
   "execution_count": 38,
   "metadata": {},
   "outputs": [
    {
     "name": "stdout",
     "output_type": "stream",
     "text": [
      " 0/ 5: Processing Original\n",
      " 1/ 5: Processing with ps_car_02_cat\n",
      " 2/ 5: Processing with ps_car_03_cat\n",
      " 3/ 5: Processing with ps_car_07_cat\n",
      " 4/ 5: Processing with ps_car_08_cat\n",
      " 5/ 5: Processing with ps_car_10_cat\n"
     ]
    }
   ],
   "source": [
    "opt23 = psjp.JointProbabilityOptimizer(add2, verbose=True)\n",
    "res23 = opt23.selectByAddition(removed2, target)"
   ]
  },
  {
   "cell_type": "code",
   "execution_count": 39,
   "metadata": {},
   "outputs": [
    {
     "data": {
      "text/html": [
       "<div>\n",
       "<style scoped>\n",
       "    .dataframe tbody tr th:only-of-type {\n",
       "        vertical-align: middle;\n",
       "    }\n",
       "\n",
       "    .dataframe tbody tr th {\n",
       "        vertical-align: top;\n",
       "    }\n",
       "\n",
       "    .dataframe thead th {\n",
       "        text-align: right;\n",
       "    }\n",
       "</style>\n",
       "<table border=\"1\" class=\"dataframe\">\n",
       "  <thead>\n",
       "    <tr style=\"text-align: right;\">\n",
       "      <th></th>\n",
       "      <th>exp_val</th>\n",
       "      <th>importance_</th>\n",
       "    </tr>\n",
       "  </thead>\n",
       "  <tbody>\n",
       "    <tr>\n",
       "      <th>ps_car_07_cat</th>\n",
       "      <td>1933.084336</td>\n",
       "      <td>0.259972</td>\n",
       "    </tr>\n",
       "    <tr>\n",
       "      <th>ps_car_08_cat</th>\n",
       "      <td>1827.990112</td>\n",
       "      <td>0.191473</td>\n",
       "    </tr>\n",
       "    <tr>\n",
       "      <th>ps_car_03_cat</th>\n",
       "      <td>1790.664354</td>\n",
       "      <td>0.167144</td>\n",
       "    </tr>\n",
       "    <tr>\n",
       "      <th>ps_car_02_cat</th>\n",
       "      <td>1730.765627</td>\n",
       "      <td>0.128102</td>\n",
       "    </tr>\n",
       "    <tr>\n",
       "      <th>ps_car_10_cat</th>\n",
       "      <td>1596.203468</td>\n",
       "      <td>0.040396</td>\n",
       "    </tr>\n",
       "    <tr>\n",
       "      <th>initial</th>\n",
       "      <td>1534.227483</td>\n",
       "      <td>0.000000</td>\n",
       "    </tr>\n",
       "  </tbody>\n",
       "</table>\n",
       "</div>"
      ],
      "text/plain": [
       "                   exp_val  importance_\n",
       "ps_car_07_cat  1933.084336     0.259972\n",
       "ps_car_08_cat  1827.990112     0.191473\n",
       "ps_car_03_cat  1790.664354     0.167144\n",
       "ps_car_02_cat  1730.765627     0.128102\n",
       "ps_car_10_cat  1596.203468     0.040396\n",
       "initial        1534.227483     0.000000"
      ]
     },
     "execution_count": 39,
     "metadata": {},
     "output_type": "execute_result"
    }
   ],
   "source": [
    "pd.DataFrame({'exp_val': res23[0], 'importance_': res23[1]}).sort_values('importance_', ascending=False)"
   ]
  },
  {
   "cell_type": "code",
   "execution_count": 44,
   "metadata": {},
   "outputs": [],
   "source": [
    "add3_fs = add2_fs + ['ps_car_07_cat']\n",
    "add3 = car_cats[add3_fs]\n",
    "removed_fs3 = removed_fs2.copy()\n",
    "removed_fs3.remove('ps_car_07_cat')\n",
    "removed3 = car_cat_small[removed_fs3]"
   ]
  },
  {
   "cell_type": "code",
   "execution_count": 45,
   "metadata": {},
   "outputs": [
    {
     "name": "stdout",
     "output_type": "stream",
     "text": [
      " 0/ 4: Processing Original\n",
      " 1/ 4: Processing with ps_car_02_cat\n",
      " 2/ 4: Processing with ps_car_03_cat\n",
      " 3/ 4: Processing with ps_car_08_cat\n",
      " 4/ 4: Processing with ps_car_10_cat\n"
     ]
    }
   ],
   "source": [
    "opt24 = psjp.JointProbabilityOptimizer(add3, verbose=True)\n",
    "res24 = opt24.selectByAddition(removed3, target)"
   ]
  },
  {
   "cell_type": "code",
   "execution_count": 46,
   "metadata": {},
   "outputs": [
    {
     "data": {
      "text/html": [
       "<div>\n",
       "<style scoped>\n",
       "    .dataframe tbody tr th:only-of-type {\n",
       "        vertical-align: middle;\n",
       "    }\n",
       "\n",
       "    .dataframe tbody tr th {\n",
       "        vertical-align: top;\n",
       "    }\n",
       "\n",
       "    .dataframe thead th {\n",
       "        text-align: right;\n",
       "    }\n",
       "</style>\n",
       "<table border=\"1\" class=\"dataframe\">\n",
       "  <thead>\n",
       "    <tr style=\"text-align: right;\">\n",
       "      <th></th>\n",
       "      <th>exp_val</th>\n",
       "      <th>importance_</th>\n",
       "    </tr>\n",
       "  </thead>\n",
       "  <tbody>\n",
       "    <tr>\n",
       "      <th>ps_car_08_cat</th>\n",
       "      <td>2310.974309</td>\n",
       "      <td>0.195486</td>\n",
       "    </tr>\n",
       "    <tr>\n",
       "      <th>ps_car_03_cat</th>\n",
       "      <td>2245.324463</td>\n",
       "      <td>0.161524</td>\n",
       "    </tr>\n",
       "    <tr>\n",
       "      <th>ps_car_02_cat</th>\n",
       "      <td>2169.755466</td>\n",
       "      <td>0.122432</td>\n",
       "    </tr>\n",
       "    <tr>\n",
       "      <th>ps_car_10_cat</th>\n",
       "      <td>2002.624079</td>\n",
       "      <td>0.035973</td>\n",
       "    </tr>\n",
       "    <tr>\n",
       "      <th>initial</th>\n",
       "      <td>1933.084336</td>\n",
       "      <td>0.000000</td>\n",
       "    </tr>\n",
       "  </tbody>\n",
       "</table>\n",
       "</div>"
      ],
      "text/plain": [
       "                   exp_val  importance_\n",
       "ps_car_08_cat  2310.974309     0.195486\n",
       "ps_car_03_cat  2245.324463     0.161524\n",
       "ps_car_02_cat  2169.755466     0.122432\n",
       "ps_car_10_cat  2002.624079     0.035973\n",
       "initial        1933.084336     0.000000"
      ]
     },
     "execution_count": 46,
     "metadata": {},
     "output_type": "execute_result"
    }
   ],
   "source": [
    "pd.DataFrame({'exp_val': res24[0], 'importance_': res24[1]}).sort_values('importance_', ascending=False)"
   ]
  },
  {
   "cell_type": "code",
   "execution_count": 48,
   "metadata": {},
   "outputs": [],
   "source": [
    "add4_fs = add3_fs + ['ps_car_08_cat']\n",
    "add4 = car_cats[add4_fs]\n",
    "removed_fs4 = removed_fs3.copy()\n",
    "removed_fs4.remove('ps_car_08_cat')\n",
    "removed4 = car_cat_small[removed_fs4]"
   ]
  },
  {
   "cell_type": "code",
   "execution_count": 49,
   "metadata": {},
   "outputs": [
    {
     "name": "stdout",
     "output_type": "stream",
     "text": [
      " 0/ 3: Processing Original\n",
      " 1/ 3: Processing with ps_car_02_cat\n",
      " 2/ 3: Processing with ps_car_03_cat\n",
      " 3/ 3: Processing with ps_car_10_cat\n"
     ]
    }
   ],
   "source": [
    "opt25 = psjp.JointProbabilityOptimizer(add4, verbose=True)\n",
    "res25 = opt25.selectByAddition(removed4, target)"
   ]
  },
  {
   "cell_type": "code",
   "execution_count": 50,
   "metadata": {},
   "outputs": [
    {
     "data": {
      "text/html": [
       "<div>\n",
       "<style scoped>\n",
       "    .dataframe tbody tr th:only-of-type {\n",
       "        vertical-align: middle;\n",
       "    }\n",
       "\n",
       "    .dataframe tbody tr th {\n",
       "        vertical-align: top;\n",
       "    }\n",
       "\n",
       "    .dataframe thead th {\n",
       "        text-align: right;\n",
       "    }\n",
       "</style>\n",
       "<table border=\"1\" class=\"dataframe\">\n",
       "  <thead>\n",
       "    <tr style=\"text-align: right;\">\n",
       "      <th></th>\n",
       "      <th>exp_val</th>\n",
       "      <th>importance_</th>\n",
       "    </tr>\n",
       "  </thead>\n",
       "  <tbody>\n",
       "    <tr>\n",
       "      <th>ps_car_03_cat</th>\n",
       "      <td>2636.811923</td>\n",
       "      <td>0.140996</td>\n",
       "    </tr>\n",
       "    <tr>\n",
       "      <th>ps_car_02_cat</th>\n",
       "      <td>2576.368434</td>\n",
       "      <td>0.114841</td>\n",
       "    </tr>\n",
       "    <tr>\n",
       "      <th>ps_car_10_cat</th>\n",
       "      <td>2380.605340</td>\n",
       "      <td>0.030131</td>\n",
       "    </tr>\n",
       "    <tr>\n",
       "      <th>initial</th>\n",
       "      <td>2310.974309</td>\n",
       "      <td>0.000000</td>\n",
       "    </tr>\n",
       "  </tbody>\n",
       "</table>\n",
       "</div>"
      ],
      "text/plain": [
       "                   exp_val  importance_\n",
       "ps_car_03_cat  2636.811923     0.140996\n",
       "ps_car_02_cat  2576.368434     0.114841\n",
       "ps_car_10_cat  2380.605340     0.030131\n",
       "initial        2310.974309     0.000000"
      ]
     },
     "execution_count": 50,
     "metadata": {},
     "output_type": "execute_result"
    }
   ],
   "source": [
    "pd.DataFrame({'exp_val': res25[0], 'importance_': res25[1]}).sort_values('importance_', ascending=False)"
   ]
  },
  {
   "cell_type": "code",
   "execution_count": 51,
   "metadata": {},
   "outputs": [],
   "source": [
    "add5_fs = add4_fs + ['ps_car_03_cat']\n",
    "add5 = car_cats[add5_fs]\n",
    "removed_fs5 = removed_fs4.copy()\n",
    "removed_fs5.remove('ps_car_03_cat')\n",
    "removed5 = car_cat_small[removed_fs5]"
   ]
  },
  {
   "cell_type": "code",
   "execution_count": 52,
   "metadata": {},
   "outputs": [
    {
     "name": "stdout",
     "output_type": "stream",
     "text": [
      " 0/ 2: Processing Original\n",
      " 1/ 2: Processing with ps_car_02_cat\n",
      " 2/ 2: Processing with ps_car_10_cat\n"
     ]
    }
   ],
   "source": [
    "opt26 = psjp.JointProbabilityOptimizer(add5, verbose=True)\n",
    "res26 = opt26.selectByAddition(removed5, target)"
   ]
  },
  {
   "cell_type": "code",
   "execution_count": 53,
   "metadata": {},
   "outputs": [
    {
     "data": {
      "text/html": [
       "<div>\n",
       "<style scoped>\n",
       "    .dataframe tbody tr th:only-of-type {\n",
       "        vertical-align: middle;\n",
       "    }\n",
       "\n",
       "    .dataframe tbody tr th {\n",
       "        vertical-align: top;\n",
       "    }\n",
       "\n",
       "    .dataframe thead th {\n",
       "        text-align: right;\n",
       "    }\n",
       "</style>\n",
       "<table border=\"1\" class=\"dataframe\">\n",
       "  <thead>\n",
       "    <tr style=\"text-align: right;\">\n",
       "      <th></th>\n",
       "      <th>exp_val</th>\n",
       "      <th>importance_</th>\n",
       "    </tr>\n",
       "  </thead>\n",
       "  <tbody>\n",
       "    <tr>\n",
       "      <th>ps_car_02_cat</th>\n",
       "      <td>2929.151139</td>\n",
       "      <td>0.110868</td>\n",
       "    </tr>\n",
       "    <tr>\n",
       "      <th>ps_car_10_cat</th>\n",
       "      <td>2709.888946</td>\n",
       "      <td>0.027714</td>\n",
       "    </tr>\n",
       "    <tr>\n",
       "      <th>initial</th>\n",
       "      <td>2636.811923</td>\n",
       "      <td>0.000000</td>\n",
       "    </tr>\n",
       "  </tbody>\n",
       "</table>\n",
       "</div>"
      ],
      "text/plain": [
       "                   exp_val  importance_\n",
       "ps_car_02_cat  2929.151139     0.110868\n",
       "ps_car_10_cat  2709.888946     0.027714\n",
       "initial        2636.811923     0.000000"
      ]
     },
     "execution_count": 53,
     "metadata": {},
     "output_type": "execute_result"
    }
   ],
   "source": [
    "pd.DataFrame({'exp_val': res26[0], 'importance_': res26[1]}).sort_values('importance_', ascending=False)"
   ]
  },
  {
   "cell_type": "code",
   "execution_count": 54,
   "metadata": {},
   "outputs": [],
   "source": [
    "add6_fs = add5_fs + ['ps_car_02_cat']\n",
    "add6 = car_cats[add6_fs]\n",
    "removed_fs6 = removed_fs5.copy()\n",
    "removed_fs6.remove('ps_car_02_cat')\n",
    "removed6 = car_cat_small[removed_fs6]"
   ]
  },
  {
   "cell_type": "code",
   "execution_count": 55,
   "metadata": {},
   "outputs": [
    {
     "name": "stdout",
     "output_type": "stream",
     "text": [
      " 0/ 1: Processing Original\n",
      " 1/ 1: Processing with ps_car_10_cat\n"
     ]
    }
   ],
   "source": [
    "opt27 = psjp.JointProbabilityOptimizer(add6, verbose=True)\n",
    "res27 = opt27.selectByAddition(removed6, target)"
   ]
  },
  {
   "cell_type": "code",
   "execution_count": 58,
   "metadata": {},
   "outputs": [
    {
     "data": {
      "text/html": [
       "<div>\n",
       "<style scoped>\n",
       "    .dataframe tbody tr th:only-of-type {\n",
       "        vertical-align: middle;\n",
       "    }\n",
       "\n",
       "    .dataframe tbody tr th {\n",
       "        vertical-align: top;\n",
       "    }\n",
       "\n",
       "    .dataframe thead th {\n",
       "        text-align: right;\n",
       "    }\n",
       "</style>\n",
       "<table border=\"1\" class=\"dataframe\">\n",
       "  <thead>\n",
       "    <tr style=\"text-align: right;\">\n",
       "      <th></th>\n",
       "      <th>exp_val</th>\n",
       "      <th>importance_</th>\n",
       "    </tr>\n",
       "  </thead>\n",
       "  <tbody>\n",
       "    <tr>\n",
       "      <th>ps_car_10_cat</th>\n",
       "      <td>3006.865110</td>\n",
       "      <td>0.026531</td>\n",
       "    </tr>\n",
       "    <tr>\n",
       "      <th>initial</th>\n",
       "      <td>2929.151139</td>\n",
       "      <td>0.000000</td>\n",
       "    </tr>\n",
       "  </tbody>\n",
       "</table>\n",
       "</div>"
      ],
      "text/plain": [
       "                   exp_val  importance_\n",
       "ps_car_10_cat  3006.865110     0.026531\n",
       "initial        2929.151139     0.000000"
      ]
     },
     "execution_count": 58,
     "metadata": {},
     "output_type": "execute_result"
    }
   ],
   "source": [
    "pd.DataFrame({'exp_val': res27[0], 'importance_': res27[1]}).sort_values('importance_', ascending=False)"
   ]
  },
  {
   "cell_type": "code",
   "execution_count": null,
   "metadata": {},
   "outputs": [],
   "source": []
  },
  {
   "cell_type": "code",
   "execution_count": 59,
   "metadata": {},
   "outputs": [
    {
     "data": {
      "text/plain": [
       "3006.865109799247"
      ]
     },
     "execution_count": 59,
     "metadata": {},
     "output_type": "execute_result"
    }
   ],
   "source": [
    "psjp.JointProbabilityOptimizer(car_cats, verbose=True).getExp(car_cats_fs, target)"
   ]
  },
  {
   "cell_type": "markdown",
   "metadata": {},
   "source": [
    "After all, I'll have to combine all the car features..."
   ]
  },
  {
   "cell_type": "code",
   "execution_count": null,
   "metadata": {},
   "outputs": [],
   "source": []
  },
  {
   "cell_type": "markdown",
   "metadata": {},
   "source": [
    "### ind"
   ]
  },
  {
   "cell_type": "code",
   "execution_count": 17,
   "metadata": {},
   "outputs": [
    {
     "data": {
      "text/plain": [
       "['ps_ind_02_cat', 'ps_ind_04_cat', 'ps_ind_05_cat']"
      ]
     },
     "execution_count": 17,
     "metadata": {},
     "output_type": "execute_result"
    }
   ],
   "source": [
    "ind_cat_fs = [f for f in categorical_fs if 'ind' in f]\n",
    "ind_cat = train[ind_cat_fs] + 1\n",
    "ind_cat_fs"
   ]
  },
  {
   "cell_type": "code",
   "execution_count": 18,
   "metadata": {},
   "outputs": [
    {
     "name": "stdout",
     "output_type": "stream",
     "text": [
      "==== 1_feature_combination ====\n",
      "{('ps_ind_02_cat',): 796.28070601434399, ('ps_ind_04_cat',): 803.66766394256877, ('ps_ind_05_cat',): 830.33226417225774}\n",
      "==== 2_feature_combination ====\n",
      "{('ps_ind_02_cat', 'ps_ind_04_cat'): 806.80594721365856, ('ps_ind_02_cat', 'ps_ind_05_cat'): 841.44060627987335, ('ps_ind_04_cat', 'ps_ind_05_cat'): 842.24357073789861}\n",
      "==== 3_feature_combination ====\n",
      "{('ps_ind_02_cat', 'ps_ind_04_cat', 'ps_ind_05_cat'): 847.22041787727562}\n",
      "CPU times: user 135 ms, sys: 110 ms, total: 245 ms\n",
      "Wall time: 24.2 s\n"
     ]
    }
   ],
   "source": [
    "%%time\n",
    "opt4 = psjp.JointProbabilityOptimizer(ind_cat, verbose=True)\n",
    "res4 = opt4.exhaustiveCombinatorialSelection(target, parallel=True)"
   ]
  },
  {
   "cell_type": "code",
   "execution_count": 19,
   "metadata": {},
   "outputs": [
    {
     "name": "stdout",
     "output_type": "stream",
     "text": [
      "847.220417877\n",
      "('ps_ind_02_cat', 'ps_ind_04_cat', 'ps_ind_05_cat')\n"
     ]
    }
   ],
   "source": [
    "print(opt4.best_expected_value_)\n",
    "print(opt4.best_combination_)"
   ]
  },
  {
   "cell_type": "code",
   "execution_count": null,
   "metadata": {},
   "outputs": [],
   "source": []
  },
  {
   "cell_type": "markdown",
   "metadata": {},
   "source": [
    "## Try combining car with other types"
   ]
  },
  {
   "cell_type": "code",
   "execution_count": 60,
   "metadata": {},
   "outputs": [
    {
     "name": "stdout",
     "output_type": "stream",
     "text": [
      " 0/ 3: Processing Original\n",
      " 1/ 3: Processing with ps_ind_02_cat\n",
      " 2/ 3: Processing with ps_ind_04_cat\n",
      " 3/ 3: Processing with ps_ind_05_cat\n"
     ]
    }
   ],
   "source": [
    "car_opt1 = psjp.JointProbabilityOptimizer(car_cats, verbose=True)\n",
    "car_res1 = car_opt1.selectByAddition(ind_cat, target)"
   ]
  },
  {
   "cell_type": "code",
   "execution_count": 61,
   "metadata": {},
   "outputs": [
    {
     "data": {
      "text/html": [
       "<div>\n",
       "<style scoped>\n",
       "    .dataframe tbody tr th:only-of-type {\n",
       "        vertical-align: middle;\n",
       "    }\n",
       "\n",
       "    .dataframe tbody tr th {\n",
       "        vertical-align: top;\n",
       "    }\n",
       "\n",
       "    .dataframe thead th {\n",
       "        text-align: right;\n",
       "    }\n",
       "</style>\n",
       "<table border=\"1\" class=\"dataframe\">\n",
       "  <thead>\n",
       "    <tr style=\"text-align: right;\">\n",
       "      <th></th>\n",
       "      <th>exp_val</th>\n",
       "      <th>importance_</th>\n",
       "    </tr>\n",
       "  </thead>\n",
       "  <tbody>\n",
       "    <tr>\n",
       "      <th>ps_ind_05_cat</th>\n",
       "      <td>4312.602154</td>\n",
       "      <td>0.434252</td>\n",
       "    </tr>\n",
       "    <tr>\n",
       "      <th>ps_ind_02_cat</th>\n",
       "      <td>4121.087436</td>\n",
       "      <td>0.370559</td>\n",
       "    </tr>\n",
       "    <tr>\n",
       "      <th>ps_ind_04_cat</th>\n",
       "      <td>3823.766927</td>\n",
       "      <td>0.271679</td>\n",
       "    </tr>\n",
       "    <tr>\n",
       "      <th>initial</th>\n",
       "      <td>3006.865110</td>\n",
       "      <td>0.000000</td>\n",
       "    </tr>\n",
       "  </tbody>\n",
       "</table>\n",
       "</div>"
      ],
      "text/plain": [
       "                   exp_val  importance_\n",
       "ps_ind_05_cat  4312.602154     0.434252\n",
       "ps_ind_02_cat  4121.087436     0.370559\n",
       "ps_ind_04_cat  3823.766927     0.271679\n",
       "initial        3006.865110     0.000000"
      ]
     },
     "execution_count": 61,
     "metadata": {},
     "output_type": "execute_result"
    }
   ],
   "source": [
    "pd.DataFrame({'exp_val': car_res1[0], 'importance_': car_res1[1]}).sort_values('importance_', ascending=False)"
   ]
  },
  {
   "cell_type": "code",
   "execution_count": null,
   "metadata": {},
   "outputs": [],
   "source": []
  },
  {
   "cell_type": "code",
   "execution_count": null,
   "metadata": {},
   "outputs": [],
   "source": []
  },
  {
   "cell_type": "code",
   "execution_count": null,
   "metadata": {},
   "outputs": [],
   "source": []
  },
  {
   "cell_type": "code",
   "execution_count": null,
   "metadata": {},
   "outputs": [],
   "source": []
  },
  {
   "cell_type": "code",
   "execution_count": null,
   "metadata": {},
   "outputs": [],
   "source": []
  }
 ],
 "metadata": {
  "kernelspec": {
   "display_name": "Python 3",
   "language": "python",
   "name": "python3"
  },
  "language_info": {
   "codemirror_mode": {
    "name": "ipython",
    "version": 3
   },
   "file_extension": ".py",
   "mimetype": "text/x-python",
   "name": "python",
   "nbconvert_exporter": "python",
   "pygments_lexer": "ipython3",
   "version": "3.6.2"
  }
 },
 "nbformat": 4,
 "nbformat_minor": 2
}
