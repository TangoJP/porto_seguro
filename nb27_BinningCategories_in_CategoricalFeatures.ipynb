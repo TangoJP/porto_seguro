{
 "cells": [
  {
   "cell_type": "markdown",
   "metadata": {},
   "source": [
    "Manually Reduce Number of Categories In Each Feature"
   ]
  },
  {
   "cell_type": "code",
   "execution_count": 1,
   "metadata": {},
   "outputs": [
    {
     "name": "stderr",
     "output_type": "stream",
     "text": [
      "/home/ryohayama/.local/lib/python3.6/site-packages/statsmodels/compat/pandas.py:56: FutureWarning: The pandas.core.datetools module is deprecated and will be removed in a future version. Please use the pandas.tseries module instead.\n",
      "  from pandas.core import datetools\n"
     ]
    }
   ],
   "source": [
    "import pandas as pd\n",
    "import numpy as np\n",
    "import matplotlib.pyplot as plt\n",
    "import statsmodels.api as sm\n",
    "import seaborn as sns\n",
    "%matplotlib inline\n",
    "\n",
    "from matplotlib import cm\n",
    "from imblearn.under_sampling import TomekLinks, RandomUnderSampler\n",
    "from imblearn.over_sampling import SMOTE\n",
    "from sklearn.model_selection import train_test_split\n",
    "from xgboost import XGBClassifier\n",
    "from feature_processing import (create_contingency_table,\n",
    "                                calculate_conditional_prob_bin,\n",
    "                                encode_my_categorical_labels,\n",
    "                                calculate_conditional_prob_cat,\n",
    "                                estimate_cond_prob_density,\n",
    "                                bin_myFeature)\n",
    "import feature_analysis as fa"
   ]
  },
  {
   "cell_type": "code",
   "execution_count": 2,
   "metadata": {},
   "outputs": [],
   "source": [
    "from importlib import reload"
   ]
  },
  {
   "cell_type": "code",
   "execution_count": 4,
   "metadata": {},
   "outputs": [],
   "source": [
    "train = pd.read_csv('train.csv', header=0)\n",
    "\n",
    "# Get different kinds of features\n",
    "all_fs = train.columns[:-1]\n",
    "binary_fs = sorted([f for f in all_fs if '_bin' in f])\n",
    "categorical_fs = sorted([f for f in all_fs if '_cat' in f])\n",
    "other_fs = sorted([f for f in all_fs\n",
    "            if f not in binary_fs\n",
    "            if f not in categorical_fs])\n",
    "bincat_fs = binary_fs + categorical_fs\n",
    "categoricals = train[categorical_fs]\n",
    "binaries = train[binary_fs]"
   ]
  },
  {
   "cell_type": "code",
   "execution_count": 5,
   "metadata": {},
   "outputs": [
    {
     "name": "stdout",
     "output_type": "stream",
     "text": [
      "ps_car_01_cat: # unique values: 13\n",
      "ps_car_02_cat: # unique values: 3\n",
      "ps_car_03_cat: # unique values: 3\n",
      "ps_car_04_cat: # unique values: 10\n",
      "ps_car_05_cat: # unique values: 3\n",
      "ps_car_06_cat: # unique values: 18\n",
      "ps_car_07_cat: # unique values: 3\n",
      "ps_car_08_cat: # unique values: 2\n",
      "ps_car_09_cat: # unique values: 6\n",
      "ps_car_10_cat: # unique values: 3\n",
      "ps_car_11_cat: # unique values: 104\n",
      "ps_ind_02_cat: # unique values: 5\n",
      "ps_ind_04_cat: # unique values: 3\n",
      "ps_ind_05_cat: # unique values: 8\n"
     ]
    }
   ],
   "source": [
    "for f in categorical_fs:\n",
    "    print('%s: # unique values: %d' % (f, len(categoricals[f].unique())))"
   ]
  },
  {
   "cell_type": "code",
   "execution_count": 73,
   "metadata": {},
   "outputs": [
    {
     "data": {
      "text/plain": [
       "<module 'feature_analysis' from '/home/ryohayama/python_current/porto_seguro/feature_analysis.py'>"
      ]
     },
     "execution_count": 73,
     "metadata": {},
     "output_type": "execute_result"
    }
   ],
   "source": [
    "reload(fa)"
   ]
  },
  {
   "cell_type": "code",
   "execution_count": 7,
   "metadata": {},
   "outputs": [],
   "source": [
    "target = train.target"
   ]
  },
  {
   "cell_type": "markdown",
   "metadata": {},
   "source": [
    "## Selection Criteria\n",
    "- Calculate ratio of Conditional Probability of being in class1 to the bulk class1 frequency\n",
    "- Create new categories by binning categories based on those ratios\n",
    "- Criteria: <5% gain, 5-10% gain, 10-20% gain, 20% and above, etc. It's subjective..."
   ]
  },
  {
   "cell_type": "code",
   "execution_count": 13,
   "metadata": {},
   "outputs": [
    {
     "name": "stdout",
     "output_type": "stream",
     "text": [
      "target         0         1\n",
      "-1     -0.291950  7.718207\n",
      " 0     -0.007702  0.203609\n",
      " 1     -0.010763  0.284528\n",
      " 2     -0.006707  0.177322\n",
      " 3     -0.001143  0.030216\n",
      " 4     -0.002816  0.074449\n",
      " 5     -0.002904  0.076780\n",
      " 6      0.006937 -0.183402\n",
      " 7      0.007968 -0.210636\n",
      " 8     -0.007213  0.190687\n",
      " 9     -0.018653  0.493136\n",
      " 10    -0.000548  0.014491\n",
      " 11    -0.005327  0.140834\n"
     ]
    }
   ],
   "source": [
    "# ps_car_01_cat\n",
    "print(fa.FeatureVsTarget(categoricals.ps_car_01_cat, target).calculate_deviation(mode='ratio')[0]-1)"
   ]
  },
  {
   "cell_type": "markdown",
   "metadata": {},
   "source": [
    "6 Groups: (-1), (0, 1), (2, 8, 11), (3, 4, 5, 10), (6, 7), (9)"
   ]
  },
  {
   "cell_type": "code",
   "execution_count": 27,
   "metadata": {},
   "outputs": [
    {
     "name": "stdout",
     "output_type": "stream",
     "text": [
      "target         0         1\n",
      "-1      0.037826 -1.000000\n",
      " 0     -0.013554  0.358323\n",
      " 1      0.002777 -0.073409\n"
     ]
    }
   ],
   "source": [
    "# ps_car_02_cat\n",
    "print(fa.FeatureVsTarget(categoricals.ps_car_02_cat, target).calculate_deviation(mode='ratio')[0]-1)"
   ]
  },
  {
   "cell_type": "markdown",
   "metadata": {},
   "source": [
    "2 Groups: (-1, 1) (0)"
   ]
  },
  {
   "cell_type": "code",
   "execution_count": 28,
   "metadata": {},
   "outputs": [
    {
     "name": "stdout",
     "output_type": "stream",
     "text": [
      "target         0         1\n",
      "-1      0.003882 -0.102636\n",
      " 0     -0.003207  0.084782\n",
      " 1     -0.012299  0.325132\n"
     ]
    }
   ],
   "source": [
    "# ps_car_03_cat\n",
    "print(fa.FeatureVsTarget(categoricals.ps_car_03_cat, target).calculate_deviation(mode='ratio')[0]-1)"
   ]
  },
  {
   "cell_type": "markdown",
   "metadata": {},
   "source": [
    "No Change Needed"
   ]
  },
  {
   "cell_type": "code",
   "execution_count": 29,
   "metadata": {},
   "outputs": [
    {
     "name": "stdout",
     "output_type": "stream",
     "text": [
      "target         0         1\n",
      "0       0.003110 -0.082222\n",
      "1      -0.012845  0.339585\n",
      "2      -0.011162  0.295077\n",
      "3      -0.015687  0.414705\n",
      "4       0.015265 -0.403550\n",
      "5      -0.036440  0.963361\n",
      "6      -0.023379  0.618062\n",
      "7      -0.059237  1.566023\n",
      "8      -0.014221  0.375965\n",
      "9      -0.026404  0.698037\n"
     ]
    }
   ],
   "source": [
    "# ps_car_04_cat\n",
    "print(fa.FeatureVsTarget(categoricals.ps_car_04_cat, target).calculate_deviation(mode='ratio')[0]-1)"
   ]
  },
  {
   "cell_type": "markdown",
   "metadata": {},
   "source": [
    "5 Groups: (0, 4), (1, 2, 3, 8), (5) (6, 9), (7)"
   ]
  },
  {
   "cell_type": "code",
   "execution_count": 30,
   "metadata": {},
   "outputs": [
    {
     "name": "stdout",
     "output_type": "stream",
     "text": [
      "target         0         1\n",
      "-1      0.004918 -0.130016\n",
      " 0     -0.003802  0.100501\n",
      " 1     -0.004158  0.109913\n"
     ]
    }
   ],
   "source": [
    "# ps_car_05_cat\n",
    "print(fa.FeatureVsTarget(categoricals.ps_car_05_cat, target).calculate_deviation(mode='ratio')[0]-1)"
   ]
  },
  {
   "cell_type": "markdown",
   "metadata": {},
   "source": [
    "2 Groups: (-1), (0, 1)"
   ]
  },
  {
   "cell_type": "code",
   "execution_count": 31,
   "metadata": {},
   "outputs": [
    {
     "name": "stdout",
     "output_type": "stream",
     "text": [
      "target         0         1\n",
      "0       0.003191 -0.084366\n",
      "1       0.002348 -0.062082\n",
      "2      -0.030630  0.809764\n",
      "3      -0.001794  0.047430\n",
      "4       0.002694 -0.071226\n",
      "5      -0.031807  0.840864\n",
      "6      -0.000366  0.009675\n",
      "7      -0.002446  0.064663\n",
      "8      -0.034204  0.904248\n",
      "9      -0.019258  0.509120\n",
      "10     -0.007947  0.210081\n",
      "11      0.004907 -0.129715\n",
      "12     -0.012630  0.333889\n",
      "13     -0.021326  0.563796\n",
      "14      0.002235 -0.059096\n",
      "15     -0.015230  0.402641\n",
      "16     -0.009059  0.239502\n",
      "17     -0.028418  0.751279\n"
     ]
    }
   ],
   "source": [
    "# ps_car_06_cat\n",
    "print(fa.FeatureVsTarget(categoricals.ps_car_06_cat, target).calculate_deviation(mode='ratio')[0]-1)"
   ]
  },
  {
   "cell_type": "markdown",
   "metadata": {},
   "source": [
    "5 Groups: (0, 1, 4, 11, 14), (2, 5, 8, 17), (3, 6, 7), (9, 13, 15), (10, 12, 16)"
   ]
  },
  {
   "cell_type": "code",
   "execution_count": 32,
   "metadata": {},
   "outputs": [
    {
     "name": "stdout",
     "output_type": "stream",
     "text": [
      "target         0         1\n",
      "-1     -0.043292  1.144500\n",
      " 0     -0.015296  0.404365\n",
      " 1      0.001745 -0.046123\n"
     ]
    }
   ],
   "source": [
    "# ps_car_07_cat\n",
    "print(fa.FeatureVsTarget(categoricals.ps_car_07_cat, target).calculate_deviation(mode='ratio')[0]-1)"
   ]
  },
  {
   "cell_type": "markdown",
   "metadata": {},
   "source": [
    "No change needed"
   ]
  },
  {
   "cell_type": "code",
   "execution_count": 33,
   "metadata": {},
   "outputs": [
    {
     "name": "stdout",
     "output_type": "stream",
     "text": [
      "target         0         1\n",
      "0      -0.008807  0.232824\n",
      "1       0.001777 -0.046986\n"
     ]
    }
   ],
   "source": [
    "# ps_car_08_cat\n",
    "print(fa.FeatureVsTarget(categoricals.ps_car_08_cat, target).calculate_deviation(mode='ratio')[0]-1)"
   ]
  },
  {
   "cell_type": "markdown",
   "metadata": {},
   "source": [
    "No change needed (this is binary?)"
   ]
  },
  {
   "cell_type": "code",
   "execution_count": 34,
   "metadata": {},
   "outputs": [
    {
     "name": "stdout",
     "output_type": "stream",
     "text": [
      "target         0         1\n",
      "-1     -0.057019  1.507397\n",
      " 0      0.003221 -0.085151\n",
      " 1     -0.021274  0.562421\n",
      " 2      0.000134 -0.003535\n",
      " 3      0.001394 -0.036852\n",
      " 4     -0.015415  0.407512\n"
     ]
    }
   ],
   "source": [
    "# ps_car_09_cat\n",
    "print(fa.FeatureVsTarget(categoricals.ps_car_09_cat, target).calculate_deviation(mode='ratio')[0]-1)"
   ]
  },
  {
   "cell_type": "markdown",
   "metadata": {},
   "source": [
    "3 Groups: (-1), (0, 2, 3), (1, 4)"
   ]
  },
  {
   "cell_type": "code",
   "execution_count": 35,
   "metadata": {},
   "outputs": [
    {
     "name": "stdout",
     "output_type": "stream",
     "text": [
      "target         0         1\n",
      "0       0.002142 -0.056634\n",
      "1      -0.000017  0.000439\n",
      "2      -0.003451  0.091233\n"
     ]
    }
   ],
   "source": [
    "# ps_car_10_cat\n",
    "print(fa.FeatureVsTarget(categoricals.ps_car_10_cat, target).calculate_deviation(mode='ratio')[0]-1)"
   ]
  },
  {
   "cell_type": "markdown",
   "metadata": {},
   "source": [
    "No change needed"
   ]
  },
  {
   "cell_type": "markdown",
   "metadata": {},
   "source": [
    "<b>Come back to car_11 later because it has 104 categories</b>"
   ]
  },
  {
   "cell_type": "code",
   "execution_count": 37,
   "metadata": {},
   "outputs": [
    {
     "name": "stdout",
     "output_type": "stream",
     "text": [
      "target         0         1\n",
      "-1     -0.154364  4.080872\n",
      " 1      0.000750 -0.019834\n",
      " 2     -0.001756  0.046420\n",
      " 3     -0.000799  0.021114\n",
      " 4     -0.004497  0.118882\n"
     ]
    }
   ],
   "source": [
    "# ps_ind_02_cat\n",
    "print(fa.FeatureVsTarget(categoricals.ps_ind_02_cat, target).calculate_deviation(mode='ratio')[0]-1)"
   ]
  },
  {
   "cell_type": "markdown",
   "metadata": {},
   "source": [
    "4 Groups: (-1), (1), (2, 3), (4)"
   ]
  },
  {
   "cell_type": "code",
   "execution_count": 38,
   "metadata": {},
   "outputs": [
    {
     "name": "stdout",
     "output_type": "stream",
     "text": [
      "target         0         1\n",
      "-1     -0.374804  9.908572\n",
      " 0      0.001720 -0.045470\n",
      " 1     -0.002279  0.060259\n"
     ]
    }
   ],
   "source": [
    "# ps_ind_04_cat\n",
    "print(fa.FeatureVsTarget(categoricals.ps_ind_04_cat, target).calculate_deviation(mode='ratio')[0]-1)"
   ]
  },
  {
   "cell_type": "markdown",
   "metadata": {},
   "source": [
    "No change needed"
   ]
  },
  {
   "cell_type": "code",
   "execution_count": 39,
   "metadata": {},
   "outputs": [
    {
     "name": "stdout",
     "output_type": "stream",
     "text": [
      "target         0         1\n",
      "-1     -0.048644  1.285999\n",
      " 0      0.002680 -0.070857\n",
      " 1     -0.011808  0.312162\n",
      " 2     -0.040556  1.072180\n",
      " 3     -0.006798  0.179715\n",
      " 4     -0.016204  0.428372\n",
      " 5     -0.012523  0.331071\n",
      " 6     -0.023754  0.627984\n"
     ]
    }
   ],
   "source": [
    "# ps_ind_05_cat\n",
    "print(fa.FeatureVsTarget(categoricals.ps_ind_05_cat, target).calculate_deviation(mode='ratio')[0]-1)"
   ]
  },
  {
   "cell_type": "markdown",
   "metadata": {},
   "source": [
    "5 Groups: (-1, 2), (0), (1, 4, 5), (3), (6)"
   ]
  },
  {
   "cell_type": "code",
   "execution_count": null,
   "metadata": {},
   "outputs": [],
   "source": []
  },
  {
   "cell_type": "code",
   "execution_count": null,
   "metadata": {},
   "outputs": [],
   "source": []
  },
  {
   "cell_type": "code",
   "execution_count": null,
   "metadata": {},
   "outputs": [],
   "source": []
  },
  {
   "cell_type": "code",
   "execution_count": null,
   "metadata": {},
   "outputs": [],
   "source": []
  }
 ],
 "metadata": {
  "kernelspec": {
   "display_name": "Python 3",
   "language": "python",
   "name": "python3"
  },
  "language_info": {
   "codemirror_mode": {
    "name": "ipython",
    "version": 3
   },
   "file_extension": ".py",
   "mimetype": "text/x-python",
   "name": "python",
   "nbconvert_exporter": "python",
   "pygments_lexer": "ipython3",
   "version": "3.6.2"
  }
 },
 "nbformat": 4,
 "nbformat_minor": 2
}
