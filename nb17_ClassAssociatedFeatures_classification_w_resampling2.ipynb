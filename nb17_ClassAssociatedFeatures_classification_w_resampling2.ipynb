{
 "cells": [
  {
   "cell_type": "markdown",
   "metadata": {},
   "source": [
    "#  Classification Using Features Selected Based on Association/Independence with the class labels - round2\n",
    "- See nb14 for how the association was tested\n",
    "- Here, use the origina non-encoded dataset\n",
    "- In addition, NaN values were replaced with number 999 (previously in encoded version, \n",
    "  NaN value entries had their own columns"
   ]
  },
  {
   "cell_type": "code",
   "execution_count": 1,
   "metadata": {},
   "outputs": [],
   "source": [
    "import pandas as pd\n",
    "import numpy as np\n",
    "import matplotlib.pyplot as plt\n",
    "import scipy\n",
    "import seaborn as sns\n",
    "from matplotlib import cm\n",
    "\n",
    "from sklearn.model_selection import GridSearchCV\n",
    "from sklearn.decomposition import PCA\n",
    "from sklearn.preprocessing import StandardScaler\n",
    "\n",
    "%matplotlib inline"
   ]
  },
  {
   "cell_type": "code",
   "execution_count": 2,
   "metadata": {},
   "outputs": [],
   "source": [
    "if True:\n",
    "    from imblearn.under_sampling import TomekLinks, RandomUnderSampler\n",
    "    from imblearn.over_sampling import SMOTE, ADASYN"
   ]
  },
  {
   "cell_type": "code",
   "execution_count": 3,
   "metadata": {},
   "outputs": [],
   "source": [
    "if True:\n",
    "    from sklearn.model_selection import train_test_split\n",
    "    from sklearn.metrics import classification_report, roc_curve, precision_recall_curve\n",
    "    from sklearn.ensemble import RandomForestClassifier\n",
    "    from xgboost import XGBClassifier\n",
    "    from sklearn.naive_bayes import MultinomialNB\n",
    "    from sklearn.svm import LinearSVC"
   ]
  },
  {
   "cell_type": "code",
   "execution_count": 4,
   "metadata": {},
   "outputs": [],
   "source": [
    "# from CPMP's kernel https://www.kaggle.com/cpmpml/extremely-fast-gini-computation\n",
    "def eval_gini(y_true, y_prob):\n",
    "    #y_true = np.asarray(y_true)\n",
    "    y_true = y_true[np.argsort(y_prob)]\n",
    "    ntrue = 0\n",
    "    gini = 0\n",
    "    delta = 0\n",
    "    n = len(y_true)\n",
    "    for i in range(n-1, -1, -1):\n",
    "        y_i = y_true[i]\n",
    "        ntrue += y_i\n",
    "        gini += y_i * delta\n",
    "        delta += 1 - y_i\n",
    "    gini = 1 - 2 * gini / (ntrue * (n - ntrue))\n",
    "    if gini == np.NaN:\n",
    "        gini = 0\n",
    "    return gini"
   ]
  },
  {
   "cell_type": "markdown",
   "metadata": {},
   "source": [
    "# Preprocess Majority"
   ]
  },
  {
   "cell_type": "code",
   "execution_count": 5,
   "metadata": {},
   "outputs": [],
   "source": [
    "train = pd.read_csv('./train.csv')\n",
    "bincat = pd.read_csv('./data/class_associated_bincat_features.csv')\n",
    "ordinal = pd.read_csv('./data/class_associated_ordinal_features.csv')\n",
    "data = pd.concat([bincat, ordinal, train.target], axis=1)"
   ]
  },
  {
   "cell_type": "code",
   "execution_count": 6,
   "metadata": {},
   "outputs": [],
   "source": [
    "select_features = ['ps_car_01_cat', 'ps_car_02_cat', 'ps_car_03_cat', 'ps_car_04_cat',\n",
    "             'ps_car_05_cat', 'ps_car_06_cat', 'ps_car_07_cat', 'ps_car_08_cat',\n",
    "             'ps_car_09_cat', 'ps_car_11_cat',\n",
    "             'ps_car_12', 'ps_car_13', 'ps_car_14', 'ps_car_15',\n",
    "             'ps_ind_01', 'ps_ind_02_cat', 'ps_ind_06_bin', 'ps_ind_07_bin',\n",
    "             'ps_ind_08_bin', 'ps_ind_09_bin', 'ps_ind_12_bin', 'ps_ind_14',\n",
    "             'ps_ind_15', 'ps_ind_16_bin', 'ps_ind_17_bin', 'ps_ind_18_bin',\n",
    "             'ps_reg_01', 'ps_reg_02', 'ps_reg_03']"
   ]
  },
  {
   "cell_type": "code",
   "execution_count": 7,
   "metadata": {},
   "outputs": [],
   "source": [
    "X = np.array(train[select_features].replace({-1:999}))\n",
    "y = np.array(train.target)"
   ]
  },
  {
   "cell_type": "code",
   "execution_count": 12,
   "metadata": {},
   "outputs": [
    {
     "name": "stdout",
     "output_type": "stream",
     "text": [
      "CPU times: user 9 µs, sys: 0 ns, total: 9 µs\n",
      "Wall time: 17.2 µs\n"
     ]
    }
   ],
   "source": [
    "%%time\n",
    "if False:\n",
    "    tl = TomekLinks(n_jobs=8, ratio='majority')\n",
    "    X_tl, y_tl = tl.fit_sample(X, y)\n",
    "\n",
    "    print('Before tomek links: size of X: ', X.shape)\n",
    "    print('After  tomek links: size of X: ', X_tl.shape)\n",
    "    print('Before tomek links: class0/class1 = %d / %d' % (len(y)-np.sum(y), np.sum(y)))\n",
    "    print('After  tomek links: class0/class1 = %d / %d' % (len(y_tl)-np.sum(y_tl), np.sum(y_tl)))"
   ]
  },
  {
   "cell_type": "markdown",
   "metadata": {},
   "source": [
    "# Undersampling class0 combined with oversampling of class1 by SMOTE"
   ]
  },
  {
   "cell_type": "markdown",
   "metadata": {},
   "source": [
    "### Set up targets for number of samples for each class, resample training set"
   ]
  },
  {
   "cell_type": "code",
   "execution_count": 9,
   "metadata": {},
   "outputs": [
    {
     "name": "stdout",
     "output_type": "stream",
     "text": [
      "After  Resampling: size of X:  (60448, 29)\n",
      "Before Resampling: class0/class1 = 401536/ 15112\n",
      "After  Resampling: class0/class1 =  45336/ 45336\n"
     ]
    }
   ],
   "source": [
    "rstate = 55\n",
    "X_train, X_test, y_train, y_test = train_test_split(X, y, test_size=0.3, random_state=rstate)\n",
    "\n",
    "num_class1 = np.sum(y_train)\n",
    "num_class1_to_resample = 3 * num_class1\n",
    "num_class0_to_resample = int(1 * num_class1_to_resample)\n",
    "\n",
    "# First, randomly undersample the majority\n",
    "rus = RandomUnderSampler(ratio={0: num_class0_to_resample , 1: num_class1})\n",
    "X_tlrus, y_tlrus = rus.fit_sample(X_train, y_train)\n",
    "\n",
    "# Then use SMOTE to oversample the minority\n",
    "smote = SMOTE(ratio={0: num_class0_to_resample , 1: num_class1_to_resample}, n_jobs=4)\n",
    "X_res, y_res = smote.fit_sample(X_tlrus, y_tlrus)\n",
    "\n",
    "#print('Before Resampling: size of X: ', X_tl.shape)\n",
    "print('After  Resampling: size of X: ', X_tlrus.shape)\n",
    "\n",
    "print('Before Resampling: class0/class1 =%7d/%6d' % (len(y_train)-np.sum(y_train), np.sum(y_train)))\n",
    "print('After  Resampling: class0/class1 =%7d/%6d' % (len(y_res)-np.sum(y_res), np.sum(y_res)))"
   ]
  },
  {
   "cell_type": "markdown",
   "metadata": {},
   "source": [
    "### Run classification multiple rounds with random train_test splitting (try 10 times)"
   ]
  },
  {
   "cell_type": "code",
   "execution_count": 16,
   "metadata": {},
   "outputs": [
    {
     "name": "stdout",
     "output_type": "stream",
     "text": [
      "RFC Mean Gini: 0.234+/-0.011, Best=0.255\n",
      "XGB Mean Gini: 0.224+/-0.012, Best=0.245\n",
      "CPU times: user 4min 56s, sys: 360 ms, total: 4min 56s\n",
      "Wall time: 47.3 s\n"
     ]
    },
    {
     "data": {
      "image/png": "[encoded data removed]",
      "text/plain": [
       "<matplotlib.figure.Figure at 0x7f5b6c9c57f0>"
      ]
     },
     "metadata": {},
     "output_type": "display_data"
    }
   ],
   "source": [
    "%%time\n",
    "fig = plt.figure(figsize=(8, 8))\n",
    "ax11 = fig.add_subplot(2, 2, 1)\n",
    "ax12 = fig.add_subplot(2, 2, 2)\n",
    "ax21 = fig.add_subplot(2, 2, 3)\n",
    "ax22 = fig.add_subplot(2, 2, 4)\n",
    "\n",
    "neutral_line = np.linspace(0, 1, 10)\n",
    "ax11.plot(neutral_line, neutral_line, lw=1, ls='--')\n",
    "ax12.plot(neutral_line, 1- neutral_line, lw=1, ls='--')\n",
    "ax21.plot(neutral_line, neutral_line, lw=1, ls='--')\n",
    "ax22.plot(neutral_line, 1- neutral_line, lw=1, ls='--')\n",
    "\n",
    "ginis_rfc = []\n",
    "ginis_xgb = []\n",
    "\n",
    "for i in range(5):\n",
    "    \n",
    "    rstate = None\n",
    "    X_train, X_test, y_train, y_test = train_test_split(X, y, test_size=0.2, random_state=rstate)\n",
    "    \n",
    "    num_class1 = np.sum(y_train)\n",
    "    num_class1_to_resample = 2 * num_class1\n",
    "    num_class0_to_resample = int(1 * num_class1_to_resample)\n",
    "\n",
    "    # First, randomly undersample the majority\n",
    "    rus = RandomUnderSampler(ratio={0: num_class0_to_resample , 1: num_class1})\n",
    "    X_tlrus, y_tlrus = rus.fit_sample(X_train, y_train)\n",
    "\n",
    "    # Then use SMOTE to oversample the minority\n",
    "    smote = SMOTE(ratio={0: num_class0_to_resample , 1: num_class1_to_resample}, n_jobs=4)\n",
    "    X_res, y_res = smote.fit_sample(X_tlrus, y_tlrus)\n",
    "                                                        \n",
    "    # RandomForest\n",
    "    rfc = RandomForestClassifier(max_depth=10, n_estimators=100, n_jobs=8)\n",
    "    rfc.fit(X_res, y_res)\n",
    "\n",
    "    y_pred1 = rfc.predict(X_test)\n",
    "    y_proba1 = rfc.predict_proba(X_test)\n",
    "    ginis_rfc.append(my_gini(y_test, y_proba1))\n",
    "    report1 = classification_report(y_test, y_pred1, digits=4,\n",
    "                                   labels=None, target_names=None)\n",
    "\n",
    "    precision1, recall1, _ = precision_recall_curve(y_test, y_proba1[:, 1], pos_label=1)\n",
    "    fpr1, tpr1, _ = roc_curve(y_test, y_proba1[:, 1], pos_label=1)\n",
    "    ax11.plot(fpr1, tpr1)\n",
    "    ax11.set_xlabel('False Positive Rate')\n",
    "    ax11.set_ylabel('True Positive Rate')\n",
    "    ax11.set_title('RandomForest ROC')\n",
    "    ax12.plot(recall1, precision1)\n",
    "    ax12.set_xlabel('Recall')\n",
    "    ax12.set_ylabel('Precision')\n",
    "    ax12.set_title('RandomForest Precision-Recall')\n",
    "\n",
    "    # GradientBoost\n",
    "    clf = XGBClassifier(gamma=0.1, max_depth=8, colsample_bytree=0.8, n_estimators=200, n_jobs=8)\n",
    "    clf.fit(X_res, y_res)\n",
    "\n",
    "    y_pred2 = clf.predict(X_test)\n",
    "    y_proba2 = clf.predict_proba(X_test)\n",
    "    ginis_xgb.append(my_gini(y_test, y_proba2))\n",
    "    report2 = classification_report(y_test, y_pred2, digits=4,\n",
    "                                   labels=None, target_names=None)\n",
    "\n",
    "    precision2, recall2, _ = precision_recall_curve(y_test, y_proba2[:, 1], pos_label=1)\n",
    "    fpr2, tpr2, _ = roc_curve(y_test, y_proba2[:, 1], pos_label=1)\n",
    "    ax21.plot(fpr2, tpr2)\n",
    "    ax21.set_xlabel('False Positive Rate')\n",
    "    ax21.set_ylabel('True Positive Rate')\n",
    "    ax21.set_title('GradientBoost ROC')\n",
    "    ax22.plot(recall2, precision2)\n",
    "    ax22.set_xlabel('Recall')\n",
    "    ax22.set_ylabel('Precision')\n",
    "    ax22.set_title('GradientBoost Precision-Recall')\n",
    "\n",
    "    # Naive Bayes\n",
    "    nb = MultinomialNB()\n",
    "    nb.fit(X_train, y_train)\n",
    "\n",
    "    y_pred3 = nb.predict(X_test)\n",
    "    y_proba3 = nb.predict_proba(X_test)\n",
    "    report3 = classification_report(y_test, y_pred3, digits=4,\n",
    "                                   labels=None, target_names=None)\n",
    "\n",
    "plt.tight_layout()\n",
    "\n",
    "print('RFC Mean Gini: %.3f+/-%.3f, Best=%.3f' % (np.mean(ginis_rfc), np.std(ginis_rfc), np.max(ginis_rfc)))\n",
    "print('XGB Mean Gini: %.3f+/-%.3f, Best=%.3f' % (np.mean(ginis_xgb), np.std(ginis_xgb), np.max(ginis_xgb)))"
   ]
  },
  {
   "cell_type": "code",
   "execution_count": 19,
   "metadata": {},
   "outputs": [],
   "source": [
    "importances = pd.DataFrame({'Features': select_features, 'Importances':clf.feature_importances_}, \n",
    "                             columns=['Features', 'Importances']).sort_values('Importances', ascending=False)"
   ]
  },
  {
   "cell_type": "code",
   "execution_count": 21,
   "metadata": {
    "scrolled": true
   },
   "outputs": [
    {
     "data": {
      "text/html": [
       "<div>\n",
       "<style scoped>\n",
       "    .dataframe tbody tr th:only-of-type {\n",
       "        vertical-align: middle;\n",
       "    }\n",
       "\n",
       "    .dataframe tbody tr th {\n",
       "        vertical-align: top;\n",
       "    }\n",
       "\n",
       "    .dataframe thead th {\n",
       "        text-align: right;\n",
       "    }\n",
       "</style>\n",
       "<table border=\"1\" class=\"dataframe\">\n",
       "  <thead>\n",
       "    <tr style=\"text-align: right;\">\n",
       "      <th></th>\n",
       "      <th>Features</th>\n",
       "      <th>Importances</th>\n",
       "    </tr>\n",
       "  </thead>\n",
       "  <tbody>\n",
       "    <tr>\n",
       "      <th>11</th>\n",
       "      <td>ps_car_13</td>\n",
       "      <td>0.134874</td>\n",
       "    </tr>\n",
       "    <tr>\n",
       "      <th>28</th>\n",
       "      <td>ps_reg_03</td>\n",
       "      <td>0.098326</td>\n",
       "    </tr>\n",
       "    <tr>\n",
       "      <th>27</th>\n",
       "      <td>ps_reg_02</td>\n",
       "      <td>0.074039</td>\n",
       "    </tr>\n",
       "    <tr>\n",
       "      <th>22</th>\n",
       "      <td>ps_ind_15</td>\n",
       "      <td>0.064372</td>\n",
       "    </tr>\n",
       "    <tr>\n",
       "      <th>12</th>\n",
       "      <td>ps_car_14</td>\n",
       "      <td>0.060599</td>\n",
       "    </tr>\n",
       "    <tr>\n",
       "      <th>26</th>\n",
       "      <td>ps_reg_01</td>\n",
       "      <td>0.059184</td>\n",
       "    </tr>\n",
       "    <tr>\n",
       "      <th>14</th>\n",
       "      <td>ps_ind_01</td>\n",
       "      <td>0.056355</td>\n",
       "    </tr>\n",
       "    <tr>\n",
       "      <th>13</th>\n",
       "      <td>ps_car_15</td>\n",
       "      <td>0.049281</td>\n",
       "    </tr>\n",
       "    <tr>\n",
       "      <th>0</th>\n",
       "      <td>ps_car_01_cat</td>\n",
       "      <td>0.045980</td>\n",
       "    </tr>\n",
       "    <tr>\n",
       "      <th>9</th>\n",
       "      <td>ps_car_11_cat</td>\n",
       "      <td>0.039613</td>\n",
       "    </tr>\n",
       "    <tr>\n",
       "      <th>10</th>\n",
       "      <td>ps_car_12</td>\n",
       "      <td>0.039142</td>\n",
       "    </tr>\n",
       "    <tr>\n",
       "      <th>8</th>\n",
       "      <td>ps_car_09_cat</td>\n",
       "      <td>0.033483</td>\n",
       "    </tr>\n",
       "    <tr>\n",
       "      <th>5</th>\n",
       "      <td>ps_car_06_cat</td>\n",
       "      <td>0.031125</td>\n",
       "    </tr>\n",
       "    <tr>\n",
       "      <th>15</th>\n",
       "      <td>ps_ind_02_cat</td>\n",
       "      <td>0.025230</td>\n",
       "    </tr>\n",
       "    <tr>\n",
       "      <th>6</th>\n",
       "      <td>ps_car_07_cat</td>\n",
       "      <td>0.023344</td>\n",
       "    </tr>\n",
       "    <tr>\n",
       "      <th>24</th>\n",
       "      <td>ps_ind_17_bin</td>\n",
       "      <td>0.020986</td>\n",
       "    </tr>\n",
       "    <tr>\n",
       "      <th>4</th>\n",
       "      <td>ps_car_05_cat</td>\n",
       "      <td>0.019099</td>\n",
       "    </tr>\n",
       "    <tr>\n",
       "      <th>2</th>\n",
       "      <td>ps_car_03_cat</td>\n",
       "      <td>0.017920</td>\n",
       "    </tr>\n",
       "    <tr>\n",
       "      <th>17</th>\n",
       "      <td>ps_ind_07_bin</td>\n",
       "      <td>0.016977</td>\n",
       "    </tr>\n",
       "    <tr>\n",
       "      <th>23</th>\n",
       "      <td>ps_ind_16_bin</td>\n",
       "      <td>0.015091</td>\n",
       "    </tr>\n",
       "    <tr>\n",
       "      <th>3</th>\n",
       "      <td>ps_car_04_cat</td>\n",
       "      <td>0.014383</td>\n",
       "    </tr>\n",
       "    <tr>\n",
       "      <th>18</th>\n",
       "      <td>ps_ind_08_bin</td>\n",
       "      <td>0.010846</td>\n",
       "    </tr>\n",
       "    <tr>\n",
       "      <th>1</th>\n",
       "      <td>ps_car_02_cat</td>\n",
       "      <td>0.010139</td>\n",
       "    </tr>\n",
       "    <tr>\n",
       "      <th>16</th>\n",
       "      <td>ps_ind_06_bin</td>\n",
       "      <td>0.009903</td>\n",
       "    </tr>\n",
       "    <tr>\n",
       "      <th>7</th>\n",
       "      <td>ps_car_08_cat</td>\n",
       "      <td>0.009668</td>\n",
       "    </tr>\n",
       "    <tr>\n",
       "      <th>19</th>\n",
       "      <td>ps_ind_09_bin</td>\n",
       "      <td>0.009432</td>\n",
       "    </tr>\n",
       "    <tr>\n",
       "      <th>25</th>\n",
       "      <td>ps_ind_18_bin</td>\n",
       "      <td>0.006366</td>\n",
       "    </tr>\n",
       "    <tr>\n",
       "      <th>21</th>\n",
       "      <td>ps_ind_14</td>\n",
       "      <td>0.003301</td>\n",
       "    </tr>\n",
       "    <tr>\n",
       "      <th>20</th>\n",
       "      <td>ps_ind_12_bin</td>\n",
       "      <td>0.000943</td>\n",
       "    </tr>\n",
       "  </tbody>\n",
       "</table>\n",
       "</div>"
      ],
      "text/plain": [
       "         Features  Importances\n",
       "11      ps_car_13     0.134874\n",
       "28      ps_reg_03     0.098326\n",
       "27      ps_reg_02     0.074039\n",
       "22      ps_ind_15     0.064372\n",
       "12      ps_car_14     0.060599\n",
       "26      ps_reg_01     0.059184\n",
       "14      ps_ind_01     0.056355\n",
       "13      ps_car_15     0.049281\n",
       "0   ps_car_01_cat     0.045980\n",
       "9   ps_car_11_cat     0.039613\n",
       "10      ps_car_12     0.039142\n",
       "8   ps_car_09_cat     0.033483\n",
       "5   ps_car_06_cat     0.031125\n",
       "15  ps_ind_02_cat     0.025230\n",
       "6   ps_car_07_cat     0.023344\n",
       "24  ps_ind_17_bin     0.020986\n",
       "4   ps_car_05_cat     0.019099\n",
       "2   ps_car_03_cat     0.017920\n",
       "17  ps_ind_07_bin     0.016977\n",
       "23  ps_ind_16_bin     0.015091\n",
       "3   ps_car_04_cat     0.014383\n",
       "18  ps_ind_08_bin     0.010846\n",
       "1   ps_car_02_cat     0.010139\n",
       "16  ps_ind_06_bin     0.009903\n",
       "7   ps_car_08_cat     0.009668\n",
       "19  ps_ind_09_bin     0.009432\n",
       "25  ps_ind_18_bin     0.006366\n",
       "21      ps_ind_14     0.003301\n",
       "20  ps_ind_12_bin     0.000943"
      ]
     },
     "execution_count": 21,
     "metadata": {},
     "output_type": "execute_result"
    }
   ],
   "source": [
    "importances#.head(10)"
   ]
  },
  {
   "cell_type": "markdown",
   "metadata": {},
   "source": [
    "## Tuning XGBoost"
   ]
  },
  {
   "cell_type": "code",
   "execution_count": 8,
   "metadata": {},
   "outputs": [],
   "source": [
    "from sklearn.metrics import make_scorer\n",
    "from sklearn.metrics import roc_auc_score\n",
    "\n",
    "def my_gini(y_true, y_probas):\n",
    "    auc = roc_auc_score(y_true, y_probas[:, 1])\n",
    "    gini = 2*auc - 1\n",
    "    return gini\n",
    "\n",
    "gini_scorer = make_scorer(my_gini, needs_proba=True, greater_is_better=True)"
   ]
  },
  {
   "cell_type": "code",
   "execution_count": 12,
   "metadata": {
    "scrolled": true
   },
   "outputs": [
    {
     "name": "stdout",
     "output_type": "stream",
     "text": [
      "Fitting 3 folds for each of 8 candidates, totalling 24 fits\n",
      "[CV] colsample_bytree=0.5, gamma=0.1, max_depth=7 ....................\n",
      "[CV]  colsample_bytree=0.5, gamma=0.1, max_depth=7, score=0.10052593274960397, total=   2.7s\n",
      "[CV] colsample_bytree=0.5, gamma=0.1, max_depth=7 ....................\n"
     ]
    },
    {
     "name": "stderr",
     "output_type": "stream",
     "text": [
      "[Parallel(n_jobs=1)]: Done   1 out of   1 | elapsed:    2.8s remaining:    0.0s\n"
     ]
    },
    {
     "name": "stdout",
     "output_type": "stream",
     "text": [
      "[CV]  colsample_bytree=0.5, gamma=0.1, max_depth=7, score=0.9992656910631079, total=   2.2s\n",
      "[CV] colsample_bytree=0.5, gamma=0.1, max_depth=7 ....................\n"
     ]
    },
    {
     "name": "stderr",
     "output_type": "stream",
     "text": [
      "[Parallel(n_jobs=1)]: Done   2 out of   2 | elapsed:    5.1s remaining:    0.0s\n"
     ]
    },
    {
     "name": "stdout",
     "output_type": "stream",
     "text": [
      "[CV]  colsample_bytree=0.5, gamma=0.1, max_depth=7, score=0.9991301318603341, total=   2.2s\n",
      "[CV] colsample_bytree=0.5, gamma=0.1, max_depth=8 ....................\n"
     ]
    },
    {
     "name": "stderr",
     "output_type": "stream",
     "text": [
      "[Parallel(n_jobs=1)]: Done   3 out of   3 | elapsed:    7.4s remaining:    0.0s\n"
     ]
    },
    {
     "name": "stdout",
     "output_type": "stream",
     "text": [
      "[CV]  colsample_bytree=0.5, gamma=0.1, max_depth=8, score=0.11227068083981218, total=   2.6s\n",
      "[CV] colsample_bytree=0.5, gamma=0.1, max_depth=8 ....................\n"
     ]
    },
    {
     "name": "stderr",
     "output_type": "stream",
     "text": [
      "[Parallel(n_jobs=1)]: Done   4 out of   4 | elapsed:   10.2s remaining:    0.0s\n"
     ]
    },
    {
     "name": "stdout",
     "output_type": "stream",
     "text": [
      "[CV]  colsample_bytree=0.5, gamma=0.1, max_depth=8, score=0.9993707036866919, total=   2.5s\n",
      "[CV] colsample_bytree=0.5, gamma=0.1, max_depth=8 ....................\n",
      "[CV]  colsample_bytree=0.5, gamma=0.1, max_depth=8, score=0.9993181929960899, total=   2.7s\n",
      "[CV] colsample_bytree=0.5, gamma=1, max_depth=7 ......................\n",
      "[CV]  colsample_bytree=0.5, gamma=1, max_depth=7, score=0.08144468977846997, total=   2.4s\n",
      "[CV] colsample_bytree=0.5, gamma=1, max_depth=7 ......................\n",
      "[CV]  colsample_bytree=0.5, gamma=1, max_depth=7, score=0.9991294487659605, total=   2.2s\n",
      "[CV] colsample_bytree=0.5, gamma=1, max_depth=7 ......................\n",
      "[CV]  colsample_bytree=0.5, gamma=1, max_depth=7, score=0.9992389978367975, total=   2.2s\n",
      "[CV] colsample_bytree=0.5, gamma=1, max_depth=8 ......................\n",
      "[CV]  colsample_bytree=0.5, gamma=1, max_depth=8, score=0.10539951334955577, total=   2.6s\n",
      "[CV] colsample_bytree=0.5, gamma=1, max_depth=8 ......................\n",
      "[CV]  colsample_bytree=0.5, gamma=1, max_depth=8, score=0.9993228345347855, total=   2.5s\n",
      "[CV] colsample_bytree=0.5, gamma=1, max_depth=8 ......................\n",
      "[CV]  colsample_bytree=0.5, gamma=1, max_depth=8, score=0.9993329057979929, total=   2.5s\n",
      "[CV] colsample_bytree=0.8, gamma=0.1, max_depth=7 ....................\n",
      "[CV]  colsample_bytree=0.8, gamma=0.1, max_depth=7, score=0.12304698939641368, total=   3.1s\n",
      "[CV] colsample_bytree=0.8, gamma=0.1, max_depth=7 ....................\n",
      "[CV]  colsample_bytree=0.8, gamma=0.1, max_depth=7, score=0.9989250809414287, total=   3.0s\n",
      "[CV] colsample_bytree=0.8, gamma=0.1, max_depth=7 ....................\n",
      "[CV]  colsample_bytree=0.8, gamma=0.1, max_depth=7, score=0.9989717502993709, total=   3.0s\n",
      "[CV] colsample_bytree=0.8, gamma=0.1, max_depth=8 ....................\n",
      "[CV]  colsample_bytree=0.8, gamma=0.1, max_depth=8, score=0.1347605953892601, total=   3.6s\n",
      "[CV] colsample_bytree=0.8, gamma=0.1, max_depth=8 ....................\n",
      "[CV]  colsample_bytree=0.8, gamma=0.1, max_depth=8, score=0.9989525623535551, total=   3.4s\n",
      "[CV] colsample_bytree=0.8, gamma=0.1, max_depth=8 ....................\n",
      "[CV]  colsample_bytree=0.8, gamma=0.1, max_depth=8, score=0.9991703030641021, total=   3.4s\n",
      "[CV] colsample_bytree=0.8, gamma=1, max_depth=7 ......................\n",
      "[CV]  colsample_bytree=0.8, gamma=1, max_depth=7, score=0.11098449733081761, total=   3.1s\n",
      "[CV] colsample_bytree=0.8, gamma=1, max_depth=7 ......................\n",
      "[CV]  colsample_bytree=0.8, gamma=1, max_depth=7, score=0.9990253381772549, total=   3.0s\n",
      "[CV] colsample_bytree=0.8, gamma=1, max_depth=7 ......................\n",
      "[CV]  colsample_bytree=0.8, gamma=1, max_depth=7, score=0.9990982366076371, total=   3.0s\n",
      "[CV] colsample_bytree=0.8, gamma=1, max_depth=8 ......................\n",
      "[CV]  colsample_bytree=0.8, gamma=1, max_depth=8, score=0.11736087679611784, total=   3.6s\n",
      "[CV] colsample_bytree=0.8, gamma=1, max_depth=8 ......................\n",
      "[CV]  colsample_bytree=0.8, gamma=1, max_depth=8, score=0.9991952797968566, total=   3.4s\n",
      "[CV] colsample_bytree=0.8, gamma=1, max_depth=8 ......................\n",
      "[CV]  colsample_bytree=0.8, gamma=1, max_depth=8, score=0.9992892140309129, total=   3.6s\n"
     ]
    },
    {
     "name": "stderr",
     "output_type": "stream",
     "text": [
      "[Parallel(n_jobs=1)]: Done  24 out of  24 | elapsed:  1.2min finished\n"
     ]
    },
    {
     "name": "stdout",
     "output_type": "stream",
     "text": [
      "CPU times: user 10min 18s, sys: 159 ms, total: 10min 18s\n",
      "Wall time: 1min 18s\n"
     ]
    }
   ],
   "source": [
    "%%time\n",
    "xgb = XGBClassifier(n_estimators=200, n_jobs=8)\n",
    "parameters = {'gamma':[0.1, 1], 'max_depth':[7, 8], 'colsample_bytree':[0.5, .8]}\n",
    "clf2 = GridSearchCV(xgb, parameters, scoring=gini_scorer, verbose=5, n_jobs=1)\n",
    "clf2.fit(X_res, y_res)"
   ]
  },
  {
   "cell_type": "code",
   "execution_count": 13,
   "metadata": {},
   "outputs": [
    {
     "data": {
      "text/plain": [
       "XGBClassifier(base_score=0.5, booster='gbtree', colsample_bylevel=1,\n",
       "       colsample_bytree=0.8, gamma=0.1, learning_rate=0.1,\n",
       "       max_delta_step=0, max_depth=8, min_child_weight=1, missing=None,\n",
       "       n_estimators=200, n_jobs=8, nthread=None,\n",
       "       objective='binary:logistic', random_state=0, reg_alpha=0,\n",
       "       reg_lambda=1, scale_pos_weight=1, seed=None, silent=True,\n",
       "       subsample=1)"
      ]
     },
     "execution_count": 13,
     "metadata": {},
     "output_type": "execute_result"
    }
   ],
   "source": [
    "clf2.best_estimator_"
   ]
  },
  {
   "cell_type": "code",
   "execution_count": 14,
   "metadata": {},
   "outputs": [
    {
     "name": "stdout",
     "output_type": "stream",
     "text": [
      "             precision    recall  f1-score   support\n",
      "\n",
      "          0     0.9642    0.9797    0.9719    171982\n",
      "          1     0.0862    0.0501    0.0634      6582\n",
      "\n",
      "avg / total     0.9319    0.9454    0.9384    178564\n",
      "\n",
      "gini = 0.2216\n",
      "CPU times: user 50.5 s, sys: 16.5 ms, total: 50.5 s\n",
      "Wall time: 6.54 s\n"
     ]
    },
    {
     "data": {
      "image/png": "[encoded data removed]",
      "text/plain": [
       "<matplotlib.figure.Figure at 0x7f5b70764240>"
      ]
     },
     "metadata": {},
     "output_type": "display_data"
    }
   ],
   "source": [
    "%%time\n",
    "best2 = clf2.best_estimator_\n",
    "best2.fit(X_res, y_res)\n",
    "\n",
    "y_pred2 = best2.predict(X_test)\n",
    "y_proba2 = best2.predict_proba(X_test)\n",
    "gini_score = my_gini(y_test, y_proba2)\n",
    "report2 = classification_report(y_test, y_pred2, digits=4,\n",
    "                               labels=None, target_names=None)\n",
    "print(report2)\n",
    "print('gini = %.4f' % gini_score)\n",
    "precision2, recall2, _ = precision_recall_curve(y_test, y_proba2[:, 1], pos_label=1)\n",
    "fpr2, tpr2, _ = roc_curve(y_test, y_proba2[:, 1], pos_label=1)\n",
    "\n",
    "fig, (ax21, ax22) = plt.subplots(1, 2, figsize=(10, 5))\n",
    "ax21.plot(fpr2, tpr2)\n",
    "ax21.set_xlabel('False Positive Rate')\n",
    "ax21.set_ylabel('True Positive Rate')\n",
    "ax21.set_title('GradientBoost ROC')\n",
    "ax22.plot(recall2, precision2)\n",
    "ax22.set_xlabel('Recall')\n",
    "ax22.set_ylabel('Precision')\n",
    "ax22.set_title('GradientBoost Precision-Recall')"
   ]
  },
  {
   "cell_type": "code",
   "execution_count": null,
   "metadata": {},
   "outputs": [],
   "source": []
  },
  {
   "cell_type": "code",
   "execution_count": null,
   "metadata": {},
   "outputs": [],
   "source": []
  },
  {
   "cell_type": "code",
   "execution_count": null,
   "metadata": {},
   "outputs": [],
   "source": []
  },
  {
   "cell_type": "code",
   "execution_count": null,
   "metadata": {},
   "outputs": [],
   "source": []
  },
  {
   "cell_type": "code",
   "execution_count": null,
   "metadata": {},
   "outputs": [],
   "source": []
  },
  {
   "cell_type": "code",
   "execution_count": null,
   "metadata": {},
   "outputs": [],
   "source": []
  }
 ],
 "metadata": {
  "kernelspec": {
   "display_name": "Python 3",
   "language": "python",
   "name": "python3"
  },
  "language_info": {
   "codemirror_mode": {
    "name": "ipython",
    "version": 3
   },
   "file_extension": ".py",
   "mimetype": "text/x-python",
   "name": "python",
   "nbconvert_exporter": "python",
   "pygments_lexer": "ipython3",
   "version": "3.6.2"
  }
 },
 "nbformat": 4,
 "nbformat_minor": 2
}
