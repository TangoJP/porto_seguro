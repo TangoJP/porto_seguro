{
 "cells": [
  {
   "cell_type": "code",
   "execution_count": 1,
   "metadata": {},
   "outputs": [],
   "source": [
    "import numpy as np\n",
    "import pandas as pd\n",
    "import scipy as sc\n",
    "import matplotlib.pyplot as plt\n",
    "%matplotlib inline"
   ]
  },
  {
   "cell_type": "code",
   "execution_count": 2,
   "metadata": {},
   "outputs": [
    {
     "name": "stderr",
     "output_type": "stream",
     "text": [
      "/home/ryohayama/.local/lib/python3.6/site-packages/statsmodels/compat/pandas.py:56: FutureWarning: The pandas.core.datetools module is deprecated and will be removed in a future version. Please use the pandas.tseries module instead.\n",
      "  from pandas.core import datetools\n"
     ]
    }
   ],
   "source": [
    "import sys\n",
    "sys.path.append('/home/ryohayama/python_current/BasicFeatureAnalysis')\n",
    "\n",
    "import feature as F\n",
    "import feature_collection as FC\n",
    "import ps.joint_probability as psjp"
   ]
  },
  {
   "cell_type": "code",
   "execution_count": 3,
   "metadata": {},
   "outputs": [],
   "source": [
    "train = pd.read_csv('train.csv', header=0)\n",
    "test = pd.read_csv('test.csv', header=0)\n",
    "target = train.target"
   ]
  },
  {
   "cell_type": "markdown",
   "metadata": {},
   "source": [
    "### inds"
   ]
  },
  {
   "cell_type": "code",
   "execution_count": 4,
   "metadata": {},
   "outputs": [
    {
     "data": {
      "text/plain": [
       "['ps_ind_01',\n",
       " 'ps_ind_02_cat',\n",
       " 'ps_ind_03',\n",
       " 'ps_ind_04_cat',\n",
       " 'ps_ind_05_cat',\n",
       " 'ps_ind_06_bin',\n",
       " 'ps_ind_07_bin',\n",
       " 'ps_ind_08_bin',\n",
       " 'ps_ind_09_bin',\n",
       " 'ps_ind_10_bin',\n",
       " 'ps_ind_11_bin',\n",
       " 'ps_ind_12_bin',\n",
       " 'ps_ind_13_bin',\n",
       " 'ps_ind_15',\n",
       " 'ps_ind_16_bin',\n",
       " 'ps_ind_17_bin',\n",
       " 'ps_ind_18_bin']"
      ]
     },
     "execution_count": 4,
     "metadata": {},
     "output_type": "execute_result"
    }
   ],
   "source": [
    "ind_fs = [f for f in train.columns if 'ind' in f]\n",
    "ind_fs.remove('ps_ind_14')\n",
    "inds_train = train.loc[:, ind_fs]\n",
    "inds_test= test.loc[:, ind_fs]\n",
    "ind_fs"
   ]
  },
  {
   "cell_type": "code",
   "execution_count": 5,
   "metadata": {},
   "outputs": [],
   "source": [
    "tuple_train1 = inds_train.apply(tuple, axis=1)\n",
    "tuple_test1 = inds_test.apply(tuple, axis=1)"
   ]
  },
  {
   "cell_type": "code",
   "execution_count": 6,
   "metadata": {},
   "outputs": [
    {
     "name": "stdout",
     "output_type": "stream",
     "text": [
      "Train: # Unique Vals -  93282\n",
      "Test : # Unique Vals - 113342\n",
      "#    Total    - 892816\n",
      "#   Overlap   - 823644\n",
      "# Non-overlap -  69172\n"
     ]
    }
   ],
   "source": [
    "print('Train: # Unique Vals - %6d' % len(tuple_train1.unique()))\n",
    "print('Test : # Unique Vals - %6d' % len(tuple_test1.unique()))\n",
    "\n",
    "num_total = len(tuple_test1)\n",
    "num_intersect = len(tuple_test1[tuple_test1.isin(tuple_train1)])\n",
    "num_notCounted = num_total - num_intersect\n",
    "print('#    Total    - %6d' % num_total)\n",
    "print('#   Overlap   - %6d' % num_intersect)\n",
    "print('# Non-overlap - %6d' % num_notCounted)"
   ]
  },
  {
   "cell_type": "code",
   "execution_count": null,
   "metadata": {},
   "outputs": [],
   "source": []
  },
  {
   "cell_type": "markdown",
   "metadata": {},
   "source": [
    "### cars"
   ]
  },
  {
   "cell_type": "code",
   "execution_count": 7,
   "metadata": {},
   "outputs": [
    {
     "data": {
      "text/plain": [
       "['ps_car_01_cat',\n",
       " 'ps_car_02_cat',\n",
       " 'ps_car_03_cat',\n",
       " 'ps_car_04_cat',\n",
       " 'ps_car_05_cat',\n",
       " 'ps_car_06_cat',\n",
       " 'ps_car_07_cat',\n",
       " 'ps_car_08_cat',\n",
       " 'ps_car_09_cat',\n",
       " 'ps_car_10_cat',\n",
       " 'ps_car_11_cat',\n",
       " 'ps_car_11',\n",
       " 'ps_car_15']"
      ]
     },
     "execution_count": 7,
     "metadata": {},
     "output_type": "execute_result"
    }
   ],
   "source": [
    "car_fs = ['ps_car_01_cat', 'ps_car_02_cat', 'ps_car_03_cat', 'ps_car_04_cat', 'ps_car_05_cat',\n",
    "          'ps_car_06_cat', 'ps_car_07_cat', 'ps_car_08_cat', 'ps_car_09_cat', 'ps_car_10_cat',\n",
    "           'ps_car_11_cat', 'ps_car_11', 'ps_car_15']\n",
    "cars_train = train.loc[:, car_fs]\n",
    "cars_test= test.loc[:, car_fs]\n",
    "car_fs"
   ]
  },
  {
   "cell_type": "code",
   "execution_count": 8,
   "metadata": {},
   "outputs": [],
   "source": [
    "tuple_train2 = cars_train.apply(tuple, axis=1)\n",
    "tuple_test2 = cars_test.apply(tuple, axis=1)"
   ]
  },
  {
   "cell_type": "code",
   "execution_count": 9,
   "metadata": {},
   "outputs": [
    {
     "name": "stdout",
     "output_type": "stream",
     "text": [
      "Train: # Unique Vals - 106485\n",
      "Test : # Unique Vals - 131162\n",
      "#    Total    - 892816\n",
      "#   Overlap   - 809255\n",
      "# Non-overlap -  83561\n"
     ]
    }
   ],
   "source": [
    "print('Train: # Unique Vals - %6d' % len(tuple_train2.unique()))\n",
    "print('Test : # Unique Vals - %6d' % len(tuple_test2.unique()))\n",
    "\n",
    "num_total = len(tuple_test2)\n",
    "num_intersect = len(tuple_test2[tuple_test2.isin(tuple_train2)])\n",
    "num_notCounted = num_total - num_intersect\n",
    "print('#    Total    - %6d' % num_total)\n",
    "print('#   Overlap   - %6d' % num_intersect)\n",
    "print('# Non-overlap - %6d' % num_notCounted)"
   ]
  },
  {
   "cell_type": "code",
   "execution_count": null,
   "metadata": {},
   "outputs": [],
   "source": []
  },
  {
   "cell_type": "markdown",
   "metadata": {},
   "source": [
    "### calcs"
   ]
  },
  {
   "cell_type": "code",
   "execution_count": 10,
   "metadata": {},
   "outputs": [
    {
     "data": {
      "text/plain": [
       "['ps_calc_05',\n",
       " 'ps_calc_07',\n",
       " 'ps_calc_10',\n",
       " 'ps_calc_12',\n",
       " 'ps_calc_13',\n",
       " 'ps_calc_14']"
      ]
     },
     "execution_count": 10,
     "metadata": {},
     "output_type": "execute_result"
    }
   ],
   "source": [
    "calcs_fs = ['ps_calc_05', 'ps_calc_07', 'ps_calc_10', 'ps_calc_12', 'ps_calc_13', 'ps_calc_14']\n",
    "calcs_train = train.loc[:, calcs_fs]\n",
    "calcs_test= test.loc[:, calcs_fs]\n",
    "calcs_fs"
   ]
  },
  {
   "cell_type": "code",
   "execution_count": 11,
   "metadata": {},
   "outputs": [],
   "source": [
    "tuple_train3 = calcs_train.apply(tuple, axis=1)\n",
    "tuple_test3 = calcs_test.apply(tuple, axis=1)"
   ]
  },
  {
   "cell_type": "code",
   "execution_count": 12,
   "metadata": {},
   "outputs": [
    {
     "name": "stdout",
     "output_type": "stream",
     "text": [
      "Train: # Unique Vals - 155195\n",
      "Test : # Unique Vals - 186898\n",
      "#    Total    - 892816\n",
      "#   Overlap   - 782109\n",
      "# Non-overlap - 110707\n"
     ]
    }
   ],
   "source": [
    "print('Train: # Unique Vals - %6d' % len(tuple_train3.unique()))\n",
    "print('Test : # Unique Vals - %6d' % len(tuple_test3.unique()))\n",
    "\n",
    "num_total = len(tuple_test3)\n",
    "num_intersect = len(tuple_test3[tuple_test3.isin(tuple_train3)])\n",
    "num_notCounted = num_total - num_intersect\n",
    "print('#    Total    - %6d' % num_total)\n",
    "print('#   Overlap   - %6d' % num_intersect)\n",
    "print('# Non-overlap - %6d' % num_notCounted)"
   ]
  },
  {
   "cell_type": "code",
   "execution_count": null,
   "metadata": {},
   "outputs": [],
   "source": []
  },
  {
   "cell_type": "markdown",
   "metadata": {},
   "source": [
    "### regs"
   ]
  },
  {
   "cell_type": "code",
   "execution_count": 13,
   "metadata": {},
   "outputs": [
    {
     "data": {
      "text/plain": [
       "['ps_reg_01', 'ps_reg_02']"
      ]
     },
     "execution_count": 13,
     "metadata": {},
     "output_type": "execute_result"
    }
   ],
   "source": [
    "reg_fs = ['ps_reg_01', 'ps_reg_02']\n",
    "regs_train = train.loc[:, reg_fs]\n",
    "regs_test= test.loc[:, reg_fs]\n",
    "reg_fs"
   ]
  },
  {
   "cell_type": "code",
   "execution_count": 14,
   "metadata": {},
   "outputs": [],
   "source": [
    "tuple_train4 = regs_train.apply(tuple, axis=1)\n",
    "tuple_test4 = regs_test.apply(tuple, axis=1)"
   ]
  },
  {
   "cell_type": "code",
   "execution_count": 15,
   "metadata": {},
   "outputs": [
    {
     "name": "stdout",
     "output_type": "stream",
     "text": [
      "Train: # Unique Vals -    140\n",
      "Test : # Unique Vals -    140\n",
      "#    Total    - 892816\n",
      "#   Overlap   - 892816\n",
      "# Non-overlap -      0\n"
     ]
    }
   ],
   "source": [
    "print('Train: # Unique Vals - %6d' % len(tuple_train4.unique()))\n",
    "print('Test : # Unique Vals - %6d' % len(tuple_test4.unique()))\n",
    "\n",
    "num_total = len(tuple_test4)\n",
    "num_intersect = len(tuple_test4[tuple_test4.isin(tuple_train4)])\n",
    "num_notCounted = num_total - num_intersect\n",
    "print('#    Total    - %6d' % num_total)\n",
    "print('#   Overlap   - %6d' % num_intersect)\n",
    "print('# Non-overlap - %6d' % num_notCounted)"
   ]
  },
  {
   "cell_type": "markdown",
   "metadata": {},
   "source": [
    "# Set up a function to get most similar sample(s)"
   ]
  },
  {
   "cell_type": "code",
   "execution_count": 16,
   "metadata": {},
   "outputs": [
    {
     "data": {
      "text/plain": [
       "(0, 1, 8, 1, 0, 0, 1, 0, 0, 0, 0, 0, 0, 12, 1, 0, 0)"
      ]
     },
     "execution_count": 16,
     "metadata": {},
     "output_type": "execute_result"
    }
   ],
   "source": [
    "tuple1 = tuple_test1[0]\n",
    "tuple1"
   ]
  },
  {
   "cell_type": "code",
   "execution_count": 17,
   "metadata": {},
   "outputs": [
    {
     "data": {
      "text/plain": [
       "17"
      ]
     },
     "execution_count": 17,
     "metadata": {},
     "output_type": "execute_result"
    }
   ],
   "source": [
    "len(tuple1)"
   ]
  },
  {
   "cell_type": "code",
   "execution_count": 18,
   "metadata": {},
   "outputs": [],
   "source": [
    "df1 = pd.DataFrame()\n",
    "df1['original'] = tuple_train1.drop_duplicates()"
   ]
  },
  {
   "cell_type": "code",
   "execution_count": 19,
   "metadata": {},
   "outputs": [
    {
     "data": {
      "text/plain": [
       "(93282, 1)"
      ]
     },
     "execution_count": 19,
     "metadata": {},
     "output_type": "execute_result"
    }
   ],
   "source": [
    "df1.shape"
   ]
  },
  {
   "cell_type": "code",
   "execution_count": 20,
   "metadata": {},
   "outputs": [
    {
     "data": {
      "text/html": [
       "<div>\n",
       "<style scoped>\n",
       "    .dataframe tbody tr th:only-of-type {\n",
       "        vertical-align: middle;\n",
       "    }\n",
       "\n",
       "    .dataframe tbody tr th {\n",
       "        vertical-align: top;\n",
       "    }\n",
       "\n",
       "    .dataframe thead th {\n",
       "        text-align: right;\n",
       "    }\n",
       "</style>\n",
       "<table border=\"1\" class=\"dataframe\">\n",
       "  <thead>\n",
       "    <tr style=\"text-align: right;\">\n",
       "      <th></th>\n",
       "      <th>original</th>\n",
       "      <th>array</th>\n",
       "    </tr>\n",
       "  </thead>\n",
       "  <tbody>\n",
       "    <tr>\n",
       "      <th>0</th>\n",
       "      <td>(2, 2, 5, 1, 0, 0, 1, 0, 0, 0, 0, 0, 0, 11, 0,...</td>\n",
       "      <td>[2, 2, 5, 1, 0, 0, 1, 0, 0, 0, 0, 0, 0, 11, 0,...</td>\n",
       "    </tr>\n",
       "    <tr>\n",
       "      <th>1</th>\n",
       "      <td>(1, 1, 7, 0, 0, 0, 0, 1, 0, 0, 0, 0, 0, 3, 0, ...</td>\n",
       "      <td>[1, 1, 7, 0, 0, 0, 0, 1, 0, 0, 0, 0, 0, 3, 0, ...</td>\n",
       "    </tr>\n",
       "    <tr>\n",
       "      <th>2</th>\n",
       "      <td>(5, 4, 9, 1, 0, 0, 0, 1, 0, 0, 0, 0, 0, 12, 1,...</td>\n",
       "      <td>[5, 4, 9, 1, 0, 0, 0, 1, 0, 0, 0, 0, 0, 12, 1,...</td>\n",
       "    </tr>\n",
       "    <tr>\n",
       "      <th>3</th>\n",
       "      <td>(0, 1, 2, 0, 0, 1, 0, 0, 0, 0, 0, 0, 0, 8, 1, ...</td>\n",
       "      <td>[0, 1, 2, 0, 0, 1, 0, 0, 0, 0, 0, 0, 0, 8, 1, ...</td>\n",
       "    </tr>\n",
       "    <tr>\n",
       "      <th>4</th>\n",
       "      <td>(0, 2, 0, 1, 0, 1, 0, 0, 0, 0, 0, 0, 0, 9, 1, ...</td>\n",
       "      <td>[0, 2, 0, 1, 0, 1, 0, 0, 0, 0, 0, 0, 0, 9, 1, ...</td>\n",
       "    </tr>\n",
       "  </tbody>\n",
       "</table>\n",
       "</div>"
      ],
      "text/plain": [
       "                                            original  \\\n",
       "0  (2, 2, 5, 1, 0, 0, 1, 0, 0, 0, 0, 0, 0, 11, 0,...   \n",
       "1  (1, 1, 7, 0, 0, 0, 0, 1, 0, 0, 0, 0, 0, 3, 0, ...   \n",
       "2  (5, 4, 9, 1, 0, 0, 0, 1, 0, 0, 0, 0, 0, 12, 1,...   \n",
       "3  (0, 1, 2, 0, 0, 1, 0, 0, 0, 0, 0, 0, 0, 8, 1, ...   \n",
       "4  (0, 2, 0, 1, 0, 1, 0, 0, 0, 0, 0, 0, 0, 9, 1, ...   \n",
       "\n",
       "                                               array  \n",
       "0  [2, 2, 5, 1, 0, 0, 1, 0, 0, 0, 0, 0, 0, 11, 0,...  \n",
       "1  [1, 1, 7, 0, 0, 0, 0, 1, 0, 0, 0, 0, 0, 3, 0, ...  \n",
       "2  [5, 4, 9, 1, 0, 0, 0, 1, 0, 0, 0, 0, 0, 12, 1,...  \n",
       "3  [0, 1, 2, 0, 0, 1, 0, 0, 0, 0, 0, 0, 0, 8, 1, ...  \n",
       "4  [0, 2, 0, 1, 0, 1, 0, 0, 0, 0, 0, 0, 0, 9, 1, ...  "
      ]
     },
     "execution_count": 20,
     "metadata": {},
     "output_type": "execute_result"
    }
   ],
   "source": [
    "df1['array'] = df1.original.apply(np.array)\n",
    "df1.head()"
   ]
  },
  {
   "cell_type": "code",
   "execution_count": 21,
   "metadata": {},
   "outputs": [
    {
     "data": {
      "text/plain": [
       "(93282, 2)"
      ]
     },
     "execution_count": 21,
     "metadata": {},
     "output_type": "execute_result"
    }
   ],
   "source": [
    "df1.shape"
   ]
  },
  {
   "cell_type": "code",
   "execution_count": 22,
   "metadata": {},
   "outputs": [],
   "source": [
    "df1['subtracted'] = df1.array - np.array(tuple1)"
   ]
  },
  {
   "cell_type": "code",
   "execution_count": 23,
   "metadata": {},
   "outputs": [
    {
     "data": {
      "text/html": [
       "<div>\n",
       "<style scoped>\n",
       "    .dataframe tbody tr th:only-of-type {\n",
       "        vertical-align: middle;\n",
       "    }\n",
       "\n",
       "    .dataframe tbody tr th {\n",
       "        vertical-align: top;\n",
       "    }\n",
       "\n",
       "    .dataframe thead th {\n",
       "        text-align: right;\n",
       "    }\n",
       "</style>\n",
       "<table border=\"1\" class=\"dataframe\">\n",
       "  <thead>\n",
       "    <tr style=\"text-align: right;\">\n",
       "      <th></th>\n",
       "      <th>original</th>\n",
       "      <th>array</th>\n",
       "      <th>subtracted</th>\n",
       "    </tr>\n",
       "  </thead>\n",
       "  <tbody>\n",
       "    <tr>\n",
       "      <th>0</th>\n",
       "      <td>(2, 2, 5, 1, 0, 0, 1, 0, 0, 0, 0, 0, 0, 11, 0,...</td>\n",
       "      <td>[2, 2, 5, 1, 0, 0, 1, 0, 0, 0, 0, 0, 0, 11, 0,...</td>\n",
       "      <td>[2, 1, -3, 0, 0, 0, 0, 0, 0, 0, 0, 0, 0, -1, -...</td>\n",
       "    </tr>\n",
       "    <tr>\n",
       "      <th>1</th>\n",
       "      <td>(1, 1, 7, 0, 0, 0, 0, 1, 0, 0, 0, 0, 0, 3, 0, ...</td>\n",
       "      <td>[1, 1, 7, 0, 0, 0, 0, 1, 0, 0, 0, 0, 0, 3, 0, ...</td>\n",
       "      <td>[1, 0, -1, -1, 0, 0, -1, 1, 0, 0, 0, 0, 0, -9,...</td>\n",
       "    </tr>\n",
       "    <tr>\n",
       "      <th>2</th>\n",
       "      <td>(5, 4, 9, 1, 0, 0, 0, 1, 0, 0, 0, 0, 0, 12, 1,...</td>\n",
       "      <td>[5, 4, 9, 1, 0, 0, 0, 1, 0, 0, 0, 0, 0, 12, 1,...</td>\n",
       "      <td>[5, 3, 1, 0, 0, 0, -1, 1, 0, 0, 0, 0, 0, 0, 0,...</td>\n",
       "    </tr>\n",
       "    <tr>\n",
       "      <th>3</th>\n",
       "      <td>(0, 1, 2, 0, 0, 1, 0, 0, 0, 0, 0, 0, 0, 8, 1, ...</td>\n",
       "      <td>[0, 1, 2, 0, 0, 1, 0, 0, 0, 0, 0, 0, 0, 8, 1, ...</td>\n",
       "      <td>[0, 0, -6, -1, 0, 1, -1, 0, 0, 0, 0, 0, 0, -4,...</td>\n",
       "    </tr>\n",
       "    <tr>\n",
       "      <th>4</th>\n",
       "      <td>(0, 2, 0, 1, 0, 1, 0, 0, 0, 0, 0, 0, 0, 9, 1, ...</td>\n",
       "      <td>[0, 2, 0, 1, 0, 1, 0, 0, 0, 0, 0, 0, 0, 9, 1, ...</td>\n",
       "      <td>[0, 1, -8, 0, 0, 1, -1, 0, 0, 0, 0, 0, 0, -3, ...</td>\n",
       "    </tr>\n",
       "  </tbody>\n",
       "</table>\n",
       "</div>"
      ],
      "text/plain": [
       "                                            original  \\\n",
       "0  (2, 2, 5, 1, 0, 0, 1, 0, 0, 0, 0, 0, 0, 11, 0,...   \n",
       "1  (1, 1, 7, 0, 0, 0, 0, 1, 0, 0, 0, 0, 0, 3, 0, ...   \n",
       "2  (5, 4, 9, 1, 0, 0, 0, 1, 0, 0, 0, 0, 0, 12, 1,...   \n",
       "3  (0, 1, 2, 0, 0, 1, 0, 0, 0, 0, 0, 0, 0, 8, 1, ...   \n",
       "4  (0, 2, 0, 1, 0, 1, 0, 0, 0, 0, 0, 0, 0, 9, 1, ...   \n",
       "\n",
       "                                               array  \\\n",
       "0  [2, 2, 5, 1, 0, 0, 1, 0, 0, 0, 0, 0, 0, 11, 0,...   \n",
       "1  [1, 1, 7, 0, 0, 0, 0, 1, 0, 0, 0, 0, 0, 3, 0, ...   \n",
       "2  [5, 4, 9, 1, 0, 0, 0, 1, 0, 0, 0, 0, 0, 12, 1,...   \n",
       "3  [0, 1, 2, 0, 0, 1, 0, 0, 0, 0, 0, 0, 0, 8, 1, ...   \n",
       "4  [0, 2, 0, 1, 0, 1, 0, 0, 0, 0, 0, 0, 0, 9, 1, ...   \n",
       "\n",
       "                                          subtracted  \n",
       "0  [2, 1, -3, 0, 0, 0, 0, 0, 0, 0, 0, 0, 0, -1, -...  \n",
       "1  [1, 0, -1, -1, 0, 0, -1, 1, 0, 0, 0, 0, 0, -9,...  \n",
       "2  [5, 3, 1, 0, 0, 0, -1, 1, 0, 0, 0, 0, 0, 0, 0,...  \n",
       "3  [0, 0, -6, -1, 0, 1, -1, 0, 0, 0, 0, 0, 0, -4,...  \n",
       "4  [0, 1, -8, 0, 0, 1, -1, 0, 0, 0, 0, 0, 0, -3, ...  "
      ]
     },
     "execution_count": 23,
     "metadata": {},
     "output_type": "execute_result"
    }
   ],
   "source": [
    "df1.head()"
   ]
  },
  {
   "cell_type": "code",
   "execution_count": 24,
   "metadata": {},
   "outputs": [],
   "source": [
    "df1['num_nonidentity'] = df1.subtracted.apply(np.count_nonzero)"
   ]
  },
  {
   "cell_type": "code",
   "execution_count": 25,
   "metadata": {},
   "outputs": [
    {
     "data": {
      "text/html": [
       "<div>\n",
       "<style scoped>\n",
       "    .dataframe tbody tr th:only-of-type {\n",
       "        vertical-align: middle;\n",
       "    }\n",
       "\n",
       "    .dataframe tbody tr th {\n",
       "        vertical-align: top;\n",
       "    }\n",
       "\n",
       "    .dataframe thead th {\n",
       "        text-align: right;\n",
       "    }\n",
       "</style>\n",
       "<table border=\"1\" class=\"dataframe\">\n",
       "  <thead>\n",
       "    <tr style=\"text-align: right;\">\n",
       "      <th></th>\n",
       "      <th>original</th>\n",
       "      <th>array</th>\n",
       "      <th>subtracted</th>\n",
       "      <th>num_nonidentity</th>\n",
       "    </tr>\n",
       "  </thead>\n",
       "  <tbody>\n",
       "    <tr>\n",
       "      <th>3779</th>\n",
       "      <td>(0, 1, 8, 1, 0, 0, 1, 0, 0, 0, 0, 0, 0, 12, 1,...</td>\n",
       "      <td>[0, 1, 8, 1, 0, 0, 1, 0, 0, 0, 0, 0, 0, 12, 1,...</td>\n",
       "      <td>[0, 0, 0, 0, 0, 0, 0, 0, 0, 0, 0, 0, 0, 0, 0, ...</td>\n",
       "      <td>0</td>\n",
       "    </tr>\n",
       "    <tr>\n",
       "      <th>32653</th>\n",
       "      <td>(0, 1, 8, 1, 0, 0, 1, 0, 0, 0, 0, 0, 0, 9, 1, ...</td>\n",
       "      <td>[0, 1, 8, 1, 0, 0, 1, 0, 0, 0, 0, 0, 0, 9, 1, ...</td>\n",
       "      <td>[0, 0, 0, 0, 0, 0, 0, 0, 0, 0, 0, 0, 0, -3, 0,...</td>\n",
       "      <td>1</td>\n",
       "    </tr>\n",
       "    <tr>\n",
       "      <th>10969</th>\n",
       "      <td>(4, 1, 8, 1, 0, 0, 1, 0, 0, 0, 0, 0, 0, 12, 1,...</td>\n",
       "      <td>[4, 1, 8, 1, 0, 0, 1, 0, 0, 0, 0, 0, 0, 12, 1,...</td>\n",
       "      <td>[4, 0, 0, 0, 0, 0, 0, 0, 0, 0, 0, 0, 0, 0, 0, ...</td>\n",
       "      <td>1</td>\n",
       "    </tr>\n",
       "    <tr>\n",
       "      <th>11432</th>\n",
       "      <td>(3, 1, 8, 1, 0, 0, 1, 0, 0, 0, 0, 0, 0, 12, 1,...</td>\n",
       "      <td>[3, 1, 8, 1, 0, 0, 1, 0, 0, 0, 0, 0, 0, 12, 1,...</td>\n",
       "      <td>[3, 0, 0, 0, 0, 0, 0, 0, 0, 0, 0, 0, 0, 0, 0, ...</td>\n",
       "      <td>1</td>\n",
       "    </tr>\n",
       "    <tr>\n",
       "      <th>993</th>\n",
       "      <td>(0, 1, 6, 1, 0, 0, 1, 0, 0, 0, 0, 0, 0, 12, 1,...</td>\n",
       "      <td>[0, 1, 6, 1, 0, 0, 1, 0, 0, 0, 0, 0, 0, 12, 1,...</td>\n",
       "      <td>[0, 0, -2, 0, 0, 0, 0, 0, 0, 0, 0, 0, 0, 0, 0,...</td>\n",
       "      <td>1</td>\n",
       "    </tr>\n",
       "    <tr>\n",
       "      <th>6927</th>\n",
       "      <td>(2, 1, 8, 1, 0, 0, 1, 0, 0, 0, 0, 0, 0, 12, 1,...</td>\n",
       "      <td>[2, 1, 8, 1, 0, 0, 1, 0, 0, 0, 0, 0, 0, 12, 1,...</td>\n",
       "      <td>[2, 0, 0, 0, 0, 0, 0, 0, 0, 0, 0, 0, 0, 0, 0, ...</td>\n",
       "      <td>1</td>\n",
       "    </tr>\n",
       "    <tr>\n",
       "      <th>13171</th>\n",
       "      <td>(0, 1, 9, 1, 0, 0, 1, 0, 0, 0, 0, 0, 0, 12, 1,...</td>\n",
       "      <td>[0, 1, 9, 1, 0, 0, 1, 0, 0, 0, 0, 0, 0, 12, 1,...</td>\n",
       "      <td>[0, 0, 1, 0, 0, 0, 0, 0, 0, 0, 0, 0, 0, 0, 0, ...</td>\n",
       "      <td>1</td>\n",
       "    </tr>\n",
       "    <tr>\n",
       "      <th>120778</th>\n",
       "      <td>(0, 1, 8, 1, 4, 0, 1, 0, 0, 0, 0, 0, 0, 12, 1,...</td>\n",
       "      <td>[0, 1, 8, 1, 4, 0, 1, 0, 0, 0, 0, 0, 0, 12, 1,...</td>\n",
       "      <td>[0, 0, 0, 0, 4, 0, 0, 0, 0, 0, 0, 0, 0, 0, 0, ...</td>\n",
       "      <td>1</td>\n",
       "    </tr>\n",
       "    <tr>\n",
       "      <th>100529</th>\n",
       "      <td>(0, 1, 8, 1, 0, 0, 1, 0, 0, 0, 0, 0, 0, 12, 0,...</td>\n",
       "      <td>[0, 1, 8, 1, 0, 0, 1, 0, 0, 0, 0, 0, 0, 12, 0,...</td>\n",
       "      <td>[0, 0, 0, 0, 0, 0, 0, 0, 0, 0, 0, 0, 0, 0, -1,...</td>\n",
       "      <td>1</td>\n",
       "    </tr>\n",
       "    <tr>\n",
       "      <th>7618</th>\n",
       "      <td>(0, 1, 8, 1, 0, 0, 1, 0, 0, 0, 0, 0, 0, 8, 1, ...</td>\n",
       "      <td>[0, 1, 8, 1, 0, 0, 1, 0, 0, 0, 0, 0, 0, 8, 1, ...</td>\n",
       "      <td>[0, 0, 0, 0, 0, 0, 0, 0, 0, 0, 0, 0, 0, -4, 0,...</td>\n",
       "      <td>1</td>\n",
       "    </tr>\n",
       "    <tr>\n",
       "      <th>74984</th>\n",
       "      <td>(0, 1, 8, 1, 6, 0, 1, 0, 0, 0, 0, 0, 0, 12, 1,...</td>\n",
       "      <td>[0, 1, 8, 1, 6, 0, 1, 0, 0, 0, 0, 0, 0, 12, 1,...</td>\n",
       "      <td>[0, 0, 0, 0, 6, 0, 0, 0, 0, 0, 0, 0, 0, 0, 0, ...</td>\n",
       "      <td>1</td>\n",
       "    </tr>\n",
       "    <tr>\n",
       "      <th>174870</th>\n",
       "      <td>(0, 1, 8, 1, 0, 0, 1, 0, 0, 0, 0, 0, 0, 0, 1, ...</td>\n",
       "      <td>[0, 1, 8, 1, 0, 0, 1, 0, 0, 0, 0, 0, 0, 0, 1, ...</td>\n",
       "      <td>[0, 0, 0, 0, 0, 0, 0, 0, 0, 0, 0, 0, 0, -12, 0...</td>\n",
       "      <td>1</td>\n",
       "    </tr>\n",
       "    <tr>\n",
       "      <th>4959</th>\n",
       "      <td>(0, 1, 8, 1, 0, 0, 1, 0, 0, 0, 0, 0, 0, 11, 1,...</td>\n",
       "      <td>[0, 1, 8, 1, 0, 0, 1, 0, 0, 0, 0, 0, 0, 11, 1,...</td>\n",
       "      <td>[0, 0, 0, 0, 0, 0, 0, 0, 0, 0, 0, 0, 0, -1, 0,...</td>\n",
       "      <td>1</td>\n",
       "    </tr>\n",
       "    <tr>\n",
       "      <th>348</th>\n",
       "      <td>(0, 1, 3, 1, 0, 0, 1, 0, 0, 0, 0, 0, 0, 12, 1,...</td>\n",
       "      <td>[0, 1, 3, 1, 0, 0, 1, 0, 0, 0, 0, 0, 0, 12, 1,...</td>\n",
       "      <td>[0, 0, -5, 0, 0, 0, 0, 0, 0, 0, 0, 0, 0, 0, 0,...</td>\n",
       "      <td>1</td>\n",
       "    </tr>\n",
       "    <tr>\n",
       "      <th>13492</th>\n",
       "      <td>(0, 4, 8, 1, 0, 0, 1, 0, 0, 0, 0, 0, 0, 12, 1,...</td>\n",
       "      <td>[0, 4, 8, 1, 0, 0, 1, 0, 0, 0, 0, 0, 0, 12, 1,...</td>\n",
       "      <td>[0, 3, 0, 0, 0, 0, 0, 0, 0, 0, 0, 0, 0, 0, 0, ...</td>\n",
       "      <td>1</td>\n",
       "    </tr>\n",
       "    <tr>\n",
       "      <th>9414</th>\n",
       "      <td>(0, 1, 8, 0, 0, 0, 1, 0, 0, 0, 0, 0, 0, 12, 1,...</td>\n",
       "      <td>[0, 1, 8, 0, 0, 0, 1, 0, 0, 0, 0, 0, 0, 12, 1,...</td>\n",
       "      <td>[0, 0, 0, -1, 0, 0, 0, 0, 0, 0, 0, 0, 0, 0, 0,...</td>\n",
       "      <td>1</td>\n",
       "    </tr>\n",
       "    <tr>\n",
       "      <th>3258</th>\n",
       "      <td>(0, 1, 8, 1, 0, 0, 1, 0, 0, 0, 0, 0, 0, 5, 1, ...</td>\n",
       "      <td>[0, 1, 8, 1, 0, 0, 1, 0, 0, 0, 0, 0, 0, 5, 1, ...</td>\n",
       "      <td>[0, 0, 0, 0, 0, 0, 0, 0, 0, 0, 0, 0, 0, -7, 0,...</td>\n",
       "      <td>1</td>\n",
       "    </tr>\n",
       "    <tr>\n",
       "      <th>1062</th>\n",
       "      <td>(0, 1, 7, 1, 0, 0, 1, 0, 0, 0, 0, 0, 0, 12, 1,...</td>\n",
       "      <td>[0, 1, 7, 1, 0, 0, 1, 0, 0, 0, 0, 0, 0, 12, 1,...</td>\n",
       "      <td>[0, 0, -1, 0, 0, 0, 0, 0, 0, 0, 0, 0, 0, 0, 0,...</td>\n",
       "      <td>1</td>\n",
       "    </tr>\n",
       "    <tr>\n",
       "      <th>9003</th>\n",
       "      <td>(0, 1, 2, 1, 0, 0, 1, 0, 0, 0, 0, 0, 0, 12, 1,...</td>\n",
       "      <td>[0, 1, 2, 1, 0, 0, 1, 0, 0, 0, 0, 0, 0, 12, 1,...</td>\n",
       "      <td>[0, 0, -6, 0, 0, 0, 0, 0, 0, 0, 0, 0, 0, 0, 0,...</td>\n",
       "      <td>1</td>\n",
       "    </tr>\n",
       "    <tr>\n",
       "      <th>55052</th>\n",
       "      <td>(0, 1, 8, 1, 0, 0, 1, 0, 0, 0, 0, 0, 0, 2, 1, ...</td>\n",
       "      <td>[0, 1, 8, 1, 0, 0, 1, 0, 0, 0, 0, 0, 0, 2, 1, ...</td>\n",
       "      <td>[0, 0, 0, 0, 0, 0, 0, 0, 0, 0, 0, 0, 0, -10, 0...</td>\n",
       "      <td>1</td>\n",
       "    </tr>\n",
       "    <tr>\n",
       "      <th>35249</th>\n",
       "      <td>(0, 1, 10, 1, 0, 0, 1, 0, 0, 0, 0, 0, 0, 12, 1...</td>\n",
       "      <td>[0, 1, 10, 1, 0, 0, 1, 0, 0, 0, 0, 0, 0, 12, 1...</td>\n",
       "      <td>[0, 0, 2, 0, 0, 0, 0, 0, 0, 0, 0, 0, 0, 0, 0, ...</td>\n",
       "      <td>1</td>\n",
       "    </tr>\n",
       "    <tr>\n",
       "      <th>4414</th>\n",
       "      <td>(6, 1, 8, 1, 0, 0, 1, 0, 0, 0, 0, 0, 0, 12, 1,...</td>\n",
       "      <td>[6, 1, 8, 1, 0, 0, 1, 0, 0, 0, 0, 0, 0, 12, 1,...</td>\n",
       "      <td>[6, 0, 0, 0, 0, 0, 0, 0, 0, 0, 0, 0, 0, 0, 0, ...</td>\n",
       "      <td>1</td>\n",
       "    </tr>\n",
       "    <tr>\n",
       "      <th>51342</th>\n",
       "      <td>(0, 1, 11, 1, 0, 0, 1, 0, 0, 0, 0, 0, 0, 12, 1...</td>\n",
       "      <td>[0, 1, 11, 1, 0, 0, 1, 0, 0, 0, 0, 0, 0, 12, 1...</td>\n",
       "      <td>[0, 0, 3, 0, 0, 0, 0, 0, 0, 0, 0, 0, 0, 0, 0, ...</td>\n",
       "      <td>1</td>\n",
       "    </tr>\n",
       "    <tr>\n",
       "      <th>15181</th>\n",
       "      <td>(0, 1, 5, 1, 0, 0, 1, 0, 0, 0, 0, 0, 0, 12, 1,...</td>\n",
       "      <td>[0, 1, 5, 1, 0, 0, 1, 0, 0, 0, 0, 0, 0, 12, 1,...</td>\n",
       "      <td>[0, 0, -3, 0, 0, 0, 0, 0, 0, 0, 0, 0, 0, 0, 0,...</td>\n",
       "      <td>1</td>\n",
       "    </tr>\n",
       "    <tr>\n",
       "      <th>213490</th>\n",
       "      <td>(0, 1, 8, 1, 3, 0, 1, 0, 0, 0, 0, 0, 0, 12, 1,...</td>\n",
       "      <td>[0, 1, 8, 1, 3, 0, 1, 0, 0, 0, 0, 0, 0, 12, 1,...</td>\n",
       "      <td>[0, 0, 0, 0, 3, 0, 0, 0, 0, 0, 0, 0, 0, 0, 0, ...</td>\n",
       "      <td>1</td>\n",
       "    </tr>\n",
       "    <tr>\n",
       "      <th>7895</th>\n",
       "      <td>(0, 1, 8, 1, 0, 0, 1, 0, 0, 0, 0, 0, 0, 4, 1, ...</td>\n",
       "      <td>[0, 1, 8, 1, 0, 0, 1, 0, 0, 0, 0, 0, 0, 4, 1, ...</td>\n",
       "      <td>[0, 0, 0, 0, 0, 0, 0, 0, 0, 0, 0, 0, 0, -8, 0,...</td>\n",
       "      <td>1</td>\n",
       "    </tr>\n",
       "    <tr>\n",
       "      <th>1904</th>\n",
       "      <td>(0, 1, 8, 1, 0, 0, 1, 0, 0, 0, 0, 0, 0, 10, 1,...</td>\n",
       "      <td>[0, 1, 8, 1, 0, 0, 1, 0, 0, 0, 0, 0, 0, 10, 1,...</td>\n",
       "      <td>[0, 0, 0, 0, 0, 0, 0, 0, 0, 0, 0, 0, 0, -2, 0,...</td>\n",
       "      <td>1</td>\n",
       "    </tr>\n",
       "    <tr>\n",
       "      <th>109454</th>\n",
       "      <td>(0, 3, 8, 1, 0, 0, 1, 0, 0, 0, 0, 0, 0, 12, 1,...</td>\n",
       "      <td>[0, 3, 8, 1, 0, 0, 1, 0, 0, 0, 0, 0, 0, 12, 1,...</td>\n",
       "      <td>[0, 2, 0, 0, 0, 0, 0, 0, 0, 0, 0, 0, 0, 0, 0, ...</td>\n",
       "      <td>1</td>\n",
       "    </tr>\n",
       "    <tr>\n",
       "      <th>2480</th>\n",
       "      <td>(0, 1, 8, 1, 0, 0, 1, 0, 0, 0, 0, 0, 0, 13, 1,...</td>\n",
       "      <td>[0, 1, 8, 1, 0, 0, 1, 0, 0, 0, 0, 0, 0, 13, 1,...</td>\n",
       "      <td>[0, 0, 0, 0, 0, 0, 0, 0, 0, 0, 0, 0, 0, 1, 0, ...</td>\n",
       "      <td>1</td>\n",
       "    </tr>\n",
       "    <tr>\n",
       "      <th>559531</th>\n",
       "      <td>(0, 1, 8, 1, 0, 0, 1, 0, 0, 0, 0, 0, 0, 3, 1, ...</td>\n",
       "      <td>[0, 1, 8, 1, 0, 0, 1, 0, 0, 0, 0, 0, 0, 3, 1, ...</td>\n",
       "      <td>[0, 0, 0, 0, 0, 0, 0, 0, 0, 0, 0, 0, 0, -9, 0,...</td>\n",
       "      <td>1</td>\n",
       "    </tr>\n",
       "    <tr>\n",
       "      <th>...</th>\n",
       "      <td>...</td>\n",
       "      <td>...</td>\n",
       "      <td>...</td>\n",
       "      <td>...</td>\n",
       "    </tr>\n",
       "    <tr>\n",
       "      <th>110900</th>\n",
       "      <td>(0, 3, 5, 0, 0, 0, 0, 0, 1, 0, 1, 1, 1, 0, 0, ...</td>\n",
       "      <td>[0, 3, 5, 0, 0, 0, 0, 0, 1, 0, 1, 1, 1, 0, 0, ...</td>\n",
       "      <td>[0, 2, -3, -1, 0, 0, -1, 0, 1, 0, 1, 1, 1, -12...</td>\n",
       "      <td>11</td>\n",
       "    </tr>\n",
       "    <tr>\n",
       "      <th>67605</th>\n",
       "      <td>(2, 1, 5, 0, 0, 0, 0, 1, 0, 0, 1, 1, 1, 0, 0, ...</td>\n",
       "      <td>[2, 1, 5, 0, 0, 0, 0, 1, 0, 0, 1, 1, 1, 0, 0, ...</td>\n",
       "      <td>[2, 0, -3, -1, 0, 0, -1, 1, 0, 0, 1, 1, 1, -12...</td>\n",
       "      <td>11</td>\n",
       "    </tr>\n",
       "    <tr>\n",
       "      <th>126355</th>\n",
       "      <td>(2, 2, 0, 0, -1, 1, 0, 0, 0, 0, 0, 1, 0, 4, 0,...</td>\n",
       "      <td>[2, 2, 0, 0, -1, 1, 0, 0, 0, 0, 0, 1, 0, 4, 0,...</td>\n",
       "      <td>[2, 1, -8, -1, -1, 1, -1, 0, 0, 0, 0, 1, 0, -8...</td>\n",
       "      <td>11</td>\n",
       "    </tr>\n",
       "    <tr>\n",
       "      <th>513910</th>\n",
       "      <td>(0, -1, 1, 0, -1, 1, 0, 0, 0, 0, 0, 1, 1, 3, 0...</td>\n",
       "      <td>[0, -1, 1, 0, -1, 1, 0, 0, 0, 0, 0, 1, 1, 3, 0...</td>\n",
       "      <td>[0, -2, -7, -1, -1, 1, -1, 0, 0, 0, 0, 1, 1, -...</td>\n",
       "      <td>11</td>\n",
       "    </tr>\n",
       "    <tr>\n",
       "      <th>589456</th>\n",
       "      <td>(5, 1, 10, 0, 0, 0, 0, 1, 0, 0, 1, 1, 1, 0, 0,...</td>\n",
       "      <td>[5, 1, 10, 0, 0, 0, 0, 1, 0, 0, 1, 1, 1, 0, 0,...</td>\n",
       "      <td>[5, 0, 2, -1, 0, 0, -1, 1, 0, 0, 1, 1, 1, -12,...</td>\n",
       "      <td>11</td>\n",
       "    </tr>\n",
       "    <tr>\n",
       "      <th>398854</th>\n",
       "      <td>(1, 3, 9, 0, 3, 0, 0, 1, 0, 1, 0, 0, 0, 0, 0, ...</td>\n",
       "      <td>[1, 3, 9, 0, 3, 0, 0, 1, 0, 1, 0, 0, 0, 0, 0, ...</td>\n",
       "      <td>[1, 2, 1, -1, 3, 0, -1, 1, 0, 1, 0, 0, 0, -12,...</td>\n",
       "      <td>11</td>\n",
       "    </tr>\n",
       "    <tr>\n",
       "      <th>414686</th>\n",
       "      <td>(4, 2, 0, 0, -1, 0, 0, 0, 1, 0, 0, 1, 0, 6, 0,...</td>\n",
       "      <td>[4, 2, 0, 0, -1, 0, 0, 0, 1, 0, 0, 1, 0, 6, 0,...</td>\n",
       "      <td>[4, 1, -8, -1, -1, 0, -1, 0, 1, 0, 0, 1, 0, -6...</td>\n",
       "      <td>11</td>\n",
       "    </tr>\n",
       "    <tr>\n",
       "      <th>583770</th>\n",
       "      <td>(2, 2, 1, 0, -1, 0, 0, 1, 0, 0, 0, 1, 0, 0, 0,...</td>\n",
       "      <td>[2, 2, 1, 0, -1, 0, 0, 1, 0, 0, 0, 1, 0, 0, 0,...</td>\n",
       "      <td>[2, 1, -7, -1, -1, 0, -1, 1, 0, 0, 0, 1, 0, -1...</td>\n",
       "      <td>11</td>\n",
       "    </tr>\n",
       "    <tr>\n",
       "      <th>491719</th>\n",
       "      <td>(6, 2, 0, 0, -1, 1, 0, 0, 0, 0, 0, 1, 0, 6, 0,...</td>\n",
       "      <td>[6, 2, 0, 0, -1, 1, 0, 0, 0, 0, 0, 1, 0, 6, 0,...</td>\n",
       "      <td>[6, 1, -8, -1, -1, 1, -1, 0, 0, 0, 0, 1, 0, -6...</td>\n",
       "      <td>11</td>\n",
       "    </tr>\n",
       "    <tr>\n",
       "      <th>59009</th>\n",
       "      <td>(1, 1, 7, 0, 6, 0, 0, 1, 0, 0, 1, 1, 0, 0, 0, ...</td>\n",
       "      <td>[1, 1, 7, 0, 6, 0, 0, 1, 0, 0, 1, 1, 0, 0, 0, ...</td>\n",
       "      <td>[1, 0, -1, -1, 6, 0, -1, 1, 0, 0, 1, 1, 0, -12...</td>\n",
       "      <td>11</td>\n",
       "    </tr>\n",
       "    <tr>\n",
       "      <th>297912</th>\n",
       "      <td>(0, 1, 6, 0, 6, 1, 0, 0, 0, 0, 1, 1, 1, 0, 0, ...</td>\n",
       "      <td>[0, 1, 6, 0, 6, 1, 0, 0, 0, 0, 1, 1, 1, 0, 0, ...</td>\n",
       "      <td>[0, 0, -2, -1, 6, 1, -1, 0, 0, 0, 1, 1, 1, -12...</td>\n",
       "      <td>11</td>\n",
       "    </tr>\n",
       "    <tr>\n",
       "      <th>291700</th>\n",
       "      <td>(0, 2, 4, 0, 0, 1, 0, 0, 0, 1, 1, 1, 0, 0, 0, ...</td>\n",
       "      <td>[0, 2, 4, 0, 0, 1, 0, 0, 0, 1, 1, 1, 0, 0, 0, ...</td>\n",
       "      <td>[0, 1, -4, -1, 0, 1, -1, 0, 0, 1, 1, 1, 0, -12...</td>\n",
       "      <td>11</td>\n",
       "    </tr>\n",
       "    <tr>\n",
       "      <th>549840</th>\n",
       "      <td>(0, 2, 3, 0, 4, 0, 0, 0, 1, 0, 1, 1, 0, 0, 0, ...</td>\n",
       "      <td>[0, 2, 3, 0, 4, 0, 0, 0, 1, 0, 1, 1, 0, 0, 0, ...</td>\n",
       "      <td>[0, 1, -5, -1, 4, 0, -1, 0, 1, 0, 1, 1, 0, -12...</td>\n",
       "      <td>11</td>\n",
       "    </tr>\n",
       "    <tr>\n",
       "      <th>542485</th>\n",
       "      <td>(1, 4, 2, 0, 0, 0, 0, 0, 1, 0, 1, 1, 0, 0, 0, ...</td>\n",
       "      <td>[1, 4, 2, 0, 0, 0, 0, 0, 1, 0, 1, 1, 0, 0, 0, ...</td>\n",
       "      <td>[1, 3, -6, -1, 0, 0, -1, 0, 1, 0, 1, 1, 0, -12...</td>\n",
       "      <td>11</td>\n",
       "    </tr>\n",
       "    <tr>\n",
       "      <th>50642</th>\n",
       "      <td>(3, 2, 0, 0, -1, 1, 0, 0, 0, 0, 1, 1, 0, 0, 0,...</td>\n",
       "      <td>[3, 2, 0, 0, -1, 1, 0, 0, 0, 0, 1, 1, 0, 0, 0,...</td>\n",
       "      <td>[3, 1, -8, -1, -1, 1, -1, 0, 0, 0, 1, 1, 0, -1...</td>\n",
       "      <td>12</td>\n",
       "    </tr>\n",
       "    <tr>\n",
       "      <th>498806</th>\n",
       "      <td>(2, 2, 7, 0, 4, 0, 0, 1, 0, 0, 1, 1, 0, 0, 0, ...</td>\n",
       "      <td>[2, 2, 7, 0, 4, 0, 0, 1, 0, 0, 1, 1, 0, 0, 0, ...</td>\n",
       "      <td>[2, 1, -1, -1, 4, 0, -1, 1, 0, 0, 1, 1, 0, -12...</td>\n",
       "      <td>12</td>\n",
       "    </tr>\n",
       "    <tr>\n",
       "      <th>564742</th>\n",
       "      <td>(1, 1, 6, 0, 0, 1, 0, 0, 0, 1, 1, 1, 1, 0, 0, ...</td>\n",
       "      <td>[1, 1, 6, 0, 0, 1, 0, 0, 0, 1, 1, 1, 1, 0, 0, ...</td>\n",
       "      <td>[1, 0, -2, -1, 0, 1, -1, 0, 0, 1, 1, 1, 1, -12...</td>\n",
       "      <td>12</td>\n",
       "    </tr>\n",
       "    <tr>\n",
       "      <th>464241</th>\n",
       "      <td>(7, 2, 1, 0, 0, 1, 0, 0, 0, 1, 0, 1, 1, 0, 0, ...</td>\n",
       "      <td>[7, 2, 1, 0, 0, 1, 0, 0, 0, 1, 0, 1, 1, 0, 0, ...</td>\n",
       "      <td>[7, 1, -7, -1, 0, 1, -1, 0, 0, 1, 0, 1, 1, -12...</td>\n",
       "      <td>12</td>\n",
       "    </tr>\n",
       "    <tr>\n",
       "      <th>524428</th>\n",
       "      <td>(1, 2, 1, 0, 1, 0, 0, 0, 1, 1, 0, 1, 0, 0, 0, ...</td>\n",
       "      <td>[1, 2, 1, 0, 1, 0, 0, 0, 1, 1, 0, 1, 0, 0, 0, ...</td>\n",
       "      <td>[1, 1, -7, -1, 1, 0, -1, 0, 1, 1, 0, 1, 0, -12...</td>\n",
       "      <td>12</td>\n",
       "    </tr>\n",
       "    <tr>\n",
       "      <th>103322</th>\n",
       "      <td>(3, 2, 0, 0, -1, 0, 0, 0, 1, 0, 1, 1, 0, 2, 0,...</td>\n",
       "      <td>[3, 2, 0, 0, -1, 0, 0, 0, 1, 0, 1, 1, 0, 2, 0,...</td>\n",
       "      <td>[3, 1, -8, -1, -1, 0, -1, 0, 1, 0, 1, 1, 0, -1...</td>\n",
       "      <td>12</td>\n",
       "    </tr>\n",
       "    <tr>\n",
       "      <th>496329</th>\n",
       "      <td>(0, 2, 0, 0, -1, 1, 0, 0, 0, 0, 1, 1, 1, 2, 0,...</td>\n",
       "      <td>[0, 2, 0, 0, -1, 1, 0, 0, 0, 0, 1, 1, 1, 2, 0,...</td>\n",
       "      <td>[0, 1, -8, -1, -1, 1, -1, 0, 0, 0, 1, 1, 1, -1...</td>\n",
       "      <td>12</td>\n",
       "    </tr>\n",
       "    <tr>\n",
       "      <th>182797</th>\n",
       "      <td>(4, 2, 5, 0, 0, 0, 0, 1, 0, 0, 1, 1, 1, 0, 0, ...</td>\n",
       "      <td>[4, 2, 5, 0, 0, 0, 0, 1, 0, 0, 1, 1, 1, 0, 0, ...</td>\n",
       "      <td>[4, 1, -3, -1, 0, 0, -1, 1, 0, 0, 1, 1, 1, -12...</td>\n",
       "      <td>12</td>\n",
       "    </tr>\n",
       "    <tr>\n",
       "      <th>345622</th>\n",
       "      <td>(4, 1, 6, 0, 0, 0, 0, 1, 0, 1, 1, 1, 1, 0, 0, ...</td>\n",
       "      <td>[4, 1, 6, 0, 0, 0, 0, 1, 0, 1, 1, 1, 1, 0, 0, ...</td>\n",
       "      <td>[4, 0, -2, -1, 0, 0, -1, 1, 0, 1, 1, 1, 1, -12...</td>\n",
       "      <td>12</td>\n",
       "    </tr>\n",
       "    <tr>\n",
       "      <th>302213</th>\n",
       "      <td>(4, 2, 4, 0, 0, 0, 0, 1, 0, 1, 1, 1, 0, 0, 0, ...</td>\n",
       "      <td>[4, 2, 4, 0, 0, 0, 0, 1, 0, 1, 1, 1, 0, 0, 0, ...</td>\n",
       "      <td>[4, 1, -4, -1, 0, 0, -1, 1, 0, 1, 1, 1, 0, -12...</td>\n",
       "      <td>12</td>\n",
       "    </tr>\n",
       "    <tr>\n",
       "      <th>171615</th>\n",
       "      <td>(0, 2, 5, 0, 2, 0, 0, 1, 0, 0, 1, 1, 1, 0, 0, ...</td>\n",
       "      <td>[0, 2, 5, 0, 2, 0, 0, 1, 0, 0, 1, 1, 1, 0, 0, ...</td>\n",
       "      <td>[0, 1, -3, -1, 2, 0, -1, 1, 0, 0, 1, 1, 1, -12...</td>\n",
       "      <td>12</td>\n",
       "    </tr>\n",
       "    <tr>\n",
       "      <th>290666</th>\n",
       "      <td>(3, 3, 5, 0, 6, 0, 0, 1, 0, 0, 1, 1, 0, 0, 0, ...</td>\n",
       "      <td>[3, 3, 5, 0, 6, 0, 0, 1, 0, 0, 1, 1, 0, 0, 0, ...</td>\n",
       "      <td>[3, 2, -3, -1, 6, 0, -1, 1, 0, 0, 1, 1, 0, -12...</td>\n",
       "      <td>12</td>\n",
       "    </tr>\n",
       "    <tr>\n",
       "      <th>332174</th>\n",
       "      <td>(4, 2, 0, 0, -1, 0, 0, 1, 0, 0, 1, 1, 0, 0, 0,...</td>\n",
       "      <td>[4, 2, 0, 0, -1, 0, 0, 1, 0, 0, 1, 1, 0, 0, 0,...</td>\n",
       "      <td>[4, 1, -8, -1, -1, 0, -1, 1, 0, 0, 1, 1, 0, -1...</td>\n",
       "      <td>12</td>\n",
       "    </tr>\n",
       "    <tr>\n",
       "      <th>416321</th>\n",
       "      <td>(3, 2, 2, 1, 6, 0, 0, 1, 0, 0, 1, 1, 1, 0, 0, ...</td>\n",
       "      <td>[3, 2, 2, 1, 6, 0, 0, 1, 0, 0, 1, 1, 1, 0, 0, ...</td>\n",
       "      <td>[3, 1, -6, 0, 6, 0, -1, 1, 0, 0, 1, 1, 1, -12,...</td>\n",
       "      <td>12</td>\n",
       "    </tr>\n",
       "    <tr>\n",
       "      <th>515108</th>\n",
       "      <td>(1, 2, 0, 0, -1, 0, 0, 0, 1, 1, 0, 1, 1, 7, 0,...</td>\n",
       "      <td>[1, 2, 0, 0, -1, 0, 0, 0, 1, 1, 0, 1, 1, 7, 0,...</td>\n",
       "      <td>[1, 1, -8, -1, -1, 0, -1, 0, 1, 1, 0, 1, 1, -5...</td>\n",
       "      <td>13</td>\n",
       "    </tr>\n",
       "    <tr>\n",
       "      <th>65172</th>\n",
       "      <td>(3, 2, 0, 0, -1, 1, 0, 0, 0, 0, 1, 1, 1, 0, 0,...</td>\n",
       "      <td>[3, 2, 0, 0, -1, 1, 0, 0, 0, 0, 1, 1, 1, 0, 0,...</td>\n",
       "      <td>[3, 1, -8, -1, -1, 1, -1, 0, 0, 0, 1, 1, 1, -1...</td>\n",
       "      <td>13</td>\n",
       "    </tr>\n",
       "  </tbody>\n",
       "</table>\n",
       "<p>93282 rows × 4 columns</p>\n",
       "</div>"
      ],
      "text/plain": [
       "                                                 original  \\\n",
       "3779    (0, 1, 8, 1, 0, 0, 1, 0, 0, 0, 0, 0, 0, 12, 1,...   \n",
       "32653   (0, 1, 8, 1, 0, 0, 1, 0, 0, 0, 0, 0, 0, 9, 1, ...   \n",
       "10969   (4, 1, 8, 1, 0, 0, 1, 0, 0, 0, 0, 0, 0, 12, 1,...   \n",
       "11432   (3, 1, 8, 1, 0, 0, 1, 0, 0, 0, 0, 0, 0, 12, 1,...   \n",
       "993     (0, 1, 6, 1, 0, 0, 1, 0, 0, 0, 0, 0, 0, 12, 1,...   \n",
       "6927    (2, 1, 8, 1, 0, 0, 1, 0, 0, 0, 0, 0, 0, 12, 1,...   \n",
       "13171   (0, 1, 9, 1, 0, 0, 1, 0, 0, 0, 0, 0, 0, 12, 1,...   \n",
       "120778  (0, 1, 8, 1, 4, 0, 1, 0, 0, 0, 0, 0, 0, 12, 1,...   \n",
       "100529  (0, 1, 8, 1, 0, 0, 1, 0, 0, 0, 0, 0, 0, 12, 0,...   \n",
       "7618    (0, 1, 8, 1, 0, 0, 1, 0, 0, 0, 0, 0, 0, 8, 1, ...   \n",
       "74984   (0, 1, 8, 1, 6, 0, 1, 0, 0, 0, 0, 0, 0, 12, 1,...   \n",
       "174870  (0, 1, 8, 1, 0, 0, 1, 0, 0, 0, 0, 0, 0, 0, 1, ...   \n",
       "4959    (0, 1, 8, 1, 0, 0, 1, 0, 0, 0, 0, 0, 0, 11, 1,...   \n",
       "348     (0, 1, 3, 1, 0, 0, 1, 0, 0, 0, 0, 0, 0, 12, 1,...   \n",
       "13492   (0, 4, 8, 1, 0, 0, 1, 0, 0, 0, 0, 0, 0, 12, 1,...   \n",
       "9414    (0, 1, 8, 0, 0, 0, 1, 0, 0, 0, 0, 0, 0, 12, 1,...   \n",
       "3258    (0, 1, 8, 1, 0, 0, 1, 0, 0, 0, 0, 0, 0, 5, 1, ...   \n",
       "1062    (0, 1, 7, 1, 0, 0, 1, 0, 0, 0, 0, 0, 0, 12, 1,...   \n",
       "9003    (0, 1, 2, 1, 0, 0, 1, 0, 0, 0, 0, 0, 0, 12, 1,...   \n",
       "55052   (0, 1, 8, 1, 0, 0, 1, 0, 0, 0, 0, 0, 0, 2, 1, ...   \n",
       "35249   (0, 1, 10, 1, 0, 0, 1, 0, 0, 0, 0, 0, 0, 12, 1...   \n",
       "4414    (6, 1, 8, 1, 0, 0, 1, 0, 0, 0, 0, 0, 0, 12, 1,...   \n",
       "51342   (0, 1, 11, 1, 0, 0, 1, 0, 0, 0, 0, 0, 0, 12, 1...   \n",
       "15181   (0, 1, 5, 1, 0, 0, 1, 0, 0, 0, 0, 0, 0, 12, 1,...   \n",
       "213490  (0, 1, 8, 1, 3, 0, 1, 0, 0, 0, 0, 0, 0, 12, 1,...   \n",
       "7895    (0, 1, 8, 1, 0, 0, 1, 0, 0, 0, 0, 0, 0, 4, 1, ...   \n",
       "1904    (0, 1, 8, 1, 0, 0, 1, 0, 0, 0, 0, 0, 0, 10, 1,...   \n",
       "109454  (0, 3, 8, 1, 0, 0, 1, 0, 0, 0, 0, 0, 0, 12, 1,...   \n",
       "2480    (0, 1, 8, 1, 0, 0, 1, 0, 0, 0, 0, 0, 0, 13, 1,...   \n",
       "559531  (0, 1, 8, 1, 0, 0, 1, 0, 0, 0, 0, 0, 0, 3, 1, ...   \n",
       "...                                                   ...   \n",
       "110900  (0, 3, 5, 0, 0, 0, 0, 0, 1, 0, 1, 1, 1, 0, 0, ...   \n",
       "67605   (2, 1, 5, 0, 0, 0, 0, 1, 0, 0, 1, 1, 1, 0, 0, ...   \n",
       "126355  (2, 2, 0, 0, -1, 1, 0, 0, 0, 0, 0, 1, 0, 4, 0,...   \n",
       "513910  (0, -1, 1, 0, -1, 1, 0, 0, 0, 0, 0, 1, 1, 3, 0...   \n",
       "589456  (5, 1, 10, 0, 0, 0, 0, 1, 0, 0, 1, 1, 1, 0, 0,...   \n",
       "398854  (1, 3, 9, 0, 3, 0, 0, 1, 0, 1, 0, 0, 0, 0, 0, ...   \n",
       "414686  (4, 2, 0, 0, -1, 0, 0, 0, 1, 0, 0, 1, 0, 6, 0,...   \n",
       "583770  (2, 2, 1, 0, -1, 0, 0, 1, 0, 0, 0, 1, 0, 0, 0,...   \n",
       "491719  (6, 2, 0, 0, -1, 1, 0, 0, 0, 0, 0, 1, 0, 6, 0,...   \n",
       "59009   (1, 1, 7, 0, 6, 0, 0, 1, 0, 0, 1, 1, 0, 0, 0, ...   \n",
       "297912  (0, 1, 6, 0, 6, 1, 0, 0, 0, 0, 1, 1, 1, 0, 0, ...   \n",
       "291700  (0, 2, 4, 0, 0, 1, 0, 0, 0, 1, 1, 1, 0, 0, 0, ...   \n",
       "549840  (0, 2, 3, 0, 4, 0, 0, 0, 1, 0, 1, 1, 0, 0, 0, ...   \n",
       "542485  (1, 4, 2, 0, 0, 0, 0, 0, 1, 0, 1, 1, 0, 0, 0, ...   \n",
       "50642   (3, 2, 0, 0, -1, 1, 0, 0, 0, 0, 1, 1, 0, 0, 0,...   \n",
       "498806  (2, 2, 7, 0, 4, 0, 0, 1, 0, 0, 1, 1, 0, 0, 0, ...   \n",
       "564742  (1, 1, 6, 0, 0, 1, 0, 0, 0, 1, 1, 1, 1, 0, 0, ...   \n",
       "464241  (7, 2, 1, 0, 0, 1, 0, 0, 0, 1, 0, 1, 1, 0, 0, ...   \n",
       "524428  (1, 2, 1, 0, 1, 0, 0, 0, 1, 1, 0, 1, 0, 0, 0, ...   \n",
       "103322  (3, 2, 0, 0, -1, 0, 0, 0, 1, 0, 1, 1, 0, 2, 0,...   \n",
       "496329  (0, 2, 0, 0, -1, 1, 0, 0, 0, 0, 1, 1, 1, 2, 0,...   \n",
       "182797  (4, 2, 5, 0, 0, 0, 0, 1, 0, 0, 1, 1, 1, 0, 0, ...   \n",
       "345622  (4, 1, 6, 0, 0, 0, 0, 1, 0, 1, 1, 1, 1, 0, 0, ...   \n",
       "302213  (4, 2, 4, 0, 0, 0, 0, 1, 0, 1, 1, 1, 0, 0, 0, ...   \n",
       "171615  (0, 2, 5, 0, 2, 0, 0, 1, 0, 0, 1, 1, 1, 0, 0, ...   \n",
       "290666  (3, 3, 5, 0, 6, 0, 0, 1, 0, 0, 1, 1, 0, 0, 0, ...   \n",
       "332174  (4, 2, 0, 0, -1, 0, 0, 1, 0, 0, 1, 1, 0, 0, 0,...   \n",
       "416321  (3, 2, 2, 1, 6, 0, 0, 1, 0, 0, 1, 1, 1, 0, 0, ...   \n",
       "515108  (1, 2, 0, 0, -1, 0, 0, 0, 1, 1, 0, 1, 1, 7, 0,...   \n",
       "65172   (3, 2, 0, 0, -1, 1, 0, 0, 0, 0, 1, 1, 1, 0, 0,...   \n",
       "\n",
       "                                                    array  \\\n",
       "3779    [0, 1, 8, 1, 0, 0, 1, 0, 0, 0, 0, 0, 0, 12, 1,...   \n",
       "32653   [0, 1, 8, 1, 0, 0, 1, 0, 0, 0, 0, 0, 0, 9, 1, ...   \n",
       "10969   [4, 1, 8, 1, 0, 0, 1, 0, 0, 0, 0, 0, 0, 12, 1,...   \n",
       "11432   [3, 1, 8, 1, 0, 0, 1, 0, 0, 0, 0, 0, 0, 12, 1,...   \n",
       "993     [0, 1, 6, 1, 0, 0, 1, 0, 0, 0, 0, 0, 0, 12, 1,...   \n",
       "6927    [2, 1, 8, 1, 0, 0, 1, 0, 0, 0, 0, 0, 0, 12, 1,...   \n",
       "13171   [0, 1, 9, 1, 0, 0, 1, 0, 0, 0, 0, 0, 0, 12, 1,...   \n",
       "120778  [0, 1, 8, 1, 4, 0, 1, 0, 0, 0, 0, 0, 0, 12, 1,...   \n",
       "100529  [0, 1, 8, 1, 0, 0, 1, 0, 0, 0, 0, 0, 0, 12, 0,...   \n",
       "7618    [0, 1, 8, 1, 0, 0, 1, 0, 0, 0, 0, 0, 0, 8, 1, ...   \n",
       "74984   [0, 1, 8, 1, 6, 0, 1, 0, 0, 0, 0, 0, 0, 12, 1,...   \n",
       "174870  [0, 1, 8, 1, 0, 0, 1, 0, 0, 0, 0, 0, 0, 0, 1, ...   \n",
       "4959    [0, 1, 8, 1, 0, 0, 1, 0, 0, 0, 0, 0, 0, 11, 1,...   \n",
       "348     [0, 1, 3, 1, 0, 0, 1, 0, 0, 0, 0, 0, 0, 12, 1,...   \n",
       "13492   [0, 4, 8, 1, 0, 0, 1, 0, 0, 0, 0, 0, 0, 12, 1,...   \n",
       "9414    [0, 1, 8, 0, 0, 0, 1, 0, 0, 0, 0, 0, 0, 12, 1,...   \n",
       "3258    [0, 1, 8, 1, 0, 0, 1, 0, 0, 0, 0, 0, 0, 5, 1, ...   \n",
       "1062    [0, 1, 7, 1, 0, 0, 1, 0, 0, 0, 0, 0, 0, 12, 1,...   \n",
       "9003    [0, 1, 2, 1, 0, 0, 1, 0, 0, 0, 0, 0, 0, 12, 1,...   \n",
       "55052   [0, 1, 8, 1, 0, 0, 1, 0, 0, 0, 0, 0, 0, 2, 1, ...   \n",
       "35249   [0, 1, 10, 1, 0, 0, 1, 0, 0, 0, 0, 0, 0, 12, 1...   \n",
       "4414    [6, 1, 8, 1, 0, 0, 1, 0, 0, 0, 0, 0, 0, 12, 1,...   \n",
       "51342   [0, 1, 11, 1, 0, 0, 1, 0, 0, 0, 0, 0, 0, 12, 1...   \n",
       "15181   [0, 1, 5, 1, 0, 0, 1, 0, 0, 0, 0, 0, 0, 12, 1,...   \n",
       "213490  [0, 1, 8, 1, 3, 0, 1, 0, 0, 0, 0, 0, 0, 12, 1,...   \n",
       "7895    [0, 1, 8, 1, 0, 0, 1, 0, 0, 0, 0, 0, 0, 4, 1, ...   \n",
       "1904    [0, 1, 8, 1, 0, 0, 1, 0, 0, 0, 0, 0, 0, 10, 1,...   \n",
       "109454  [0, 3, 8, 1, 0, 0, 1, 0, 0, 0, 0, 0, 0, 12, 1,...   \n",
       "2480    [0, 1, 8, 1, 0, 0, 1, 0, 0, 0, 0, 0, 0, 13, 1,...   \n",
       "559531  [0, 1, 8, 1, 0, 0, 1, 0, 0, 0, 0, 0, 0, 3, 1, ...   \n",
       "...                                                   ...   \n",
       "110900  [0, 3, 5, 0, 0, 0, 0, 0, 1, 0, 1, 1, 1, 0, 0, ...   \n",
       "67605   [2, 1, 5, 0, 0, 0, 0, 1, 0, 0, 1, 1, 1, 0, 0, ...   \n",
       "126355  [2, 2, 0, 0, -1, 1, 0, 0, 0, 0, 0, 1, 0, 4, 0,...   \n",
       "513910  [0, -1, 1, 0, -1, 1, 0, 0, 0, 0, 0, 1, 1, 3, 0...   \n",
       "589456  [5, 1, 10, 0, 0, 0, 0, 1, 0, 0, 1, 1, 1, 0, 0,...   \n",
       "398854  [1, 3, 9, 0, 3, 0, 0, 1, 0, 1, 0, 0, 0, 0, 0, ...   \n",
       "414686  [4, 2, 0, 0, -1, 0, 0, 0, 1, 0, 0, 1, 0, 6, 0,...   \n",
       "583770  [2, 2, 1, 0, -1, 0, 0, 1, 0, 0, 0, 1, 0, 0, 0,...   \n",
       "491719  [6, 2, 0, 0, -1, 1, 0, 0, 0, 0, 0, 1, 0, 6, 0,...   \n",
       "59009   [1, 1, 7, 0, 6, 0, 0, 1, 0, 0, 1, 1, 0, 0, 0, ...   \n",
       "297912  [0, 1, 6, 0, 6, 1, 0, 0, 0, 0, 1, 1, 1, 0, 0, ...   \n",
       "291700  [0, 2, 4, 0, 0, 1, 0, 0, 0, 1, 1, 1, 0, 0, 0, ...   \n",
       "549840  [0, 2, 3, 0, 4, 0, 0, 0, 1, 0, 1, 1, 0, 0, 0, ...   \n",
       "542485  [1, 4, 2, 0, 0, 0, 0, 0, 1, 0, 1, 1, 0, 0, 0, ...   \n",
       "50642   [3, 2, 0, 0, -1, 1, 0, 0, 0, 0, 1, 1, 0, 0, 0,...   \n",
       "498806  [2, 2, 7, 0, 4, 0, 0, 1, 0, 0, 1, 1, 0, 0, 0, ...   \n",
       "564742  [1, 1, 6, 0, 0, 1, 0, 0, 0, 1, 1, 1, 1, 0, 0, ...   \n",
       "464241  [7, 2, 1, 0, 0, 1, 0, 0, 0, 1, 0, 1, 1, 0, 0, ...   \n",
       "524428  [1, 2, 1, 0, 1, 0, 0, 0, 1, 1, 0, 1, 0, 0, 0, ...   \n",
       "103322  [3, 2, 0, 0, -1, 0, 0, 0, 1, 0, 1, 1, 0, 2, 0,...   \n",
       "496329  [0, 2, 0, 0, -1, 1, 0, 0, 0, 0, 1, 1, 1, 2, 0,...   \n",
       "182797  [4, 2, 5, 0, 0, 0, 0, 1, 0, 0, 1, 1, 1, 0, 0, ...   \n",
       "345622  [4, 1, 6, 0, 0, 0, 0, 1, 0, 1, 1, 1, 1, 0, 0, ...   \n",
       "302213  [4, 2, 4, 0, 0, 0, 0, 1, 0, 1, 1, 1, 0, 0, 0, ...   \n",
       "171615  [0, 2, 5, 0, 2, 0, 0, 1, 0, 0, 1, 1, 1, 0, 0, ...   \n",
       "290666  [3, 3, 5, 0, 6, 0, 0, 1, 0, 0, 1, 1, 0, 0, 0, ...   \n",
       "332174  [4, 2, 0, 0, -1, 0, 0, 1, 0, 0, 1, 1, 0, 0, 0,...   \n",
       "416321  [3, 2, 2, 1, 6, 0, 0, 1, 0, 0, 1, 1, 1, 0, 0, ...   \n",
       "515108  [1, 2, 0, 0, -1, 0, 0, 0, 1, 1, 0, 1, 1, 7, 0,...   \n",
       "65172   [3, 2, 0, 0, -1, 1, 0, 0, 0, 0, 1, 1, 1, 0, 0,...   \n",
       "\n",
       "                                               subtracted  num_nonidentity  \n",
       "3779    [0, 0, 0, 0, 0, 0, 0, 0, 0, 0, 0, 0, 0, 0, 0, ...                0  \n",
       "32653   [0, 0, 0, 0, 0, 0, 0, 0, 0, 0, 0, 0, 0, -3, 0,...                1  \n",
       "10969   [4, 0, 0, 0, 0, 0, 0, 0, 0, 0, 0, 0, 0, 0, 0, ...                1  \n",
       "11432   [3, 0, 0, 0, 0, 0, 0, 0, 0, 0, 0, 0, 0, 0, 0, ...                1  \n",
       "993     [0, 0, -2, 0, 0, 0, 0, 0, 0, 0, 0, 0, 0, 0, 0,...                1  \n",
       "6927    [2, 0, 0, 0, 0, 0, 0, 0, 0, 0, 0, 0, 0, 0, 0, ...                1  \n",
       "13171   [0, 0, 1, 0, 0, 0, 0, 0, 0, 0, 0, 0, 0, 0, 0, ...                1  \n",
       "120778  [0, 0, 0, 0, 4, 0, 0, 0, 0, 0, 0, 0, 0, 0, 0, ...                1  \n",
       "100529  [0, 0, 0, 0, 0, 0, 0, 0, 0, 0, 0, 0, 0, 0, -1,...                1  \n",
       "7618    [0, 0, 0, 0, 0, 0, 0, 0, 0, 0, 0, 0, 0, -4, 0,...                1  \n",
       "74984   [0, 0, 0, 0, 6, 0, 0, 0, 0, 0, 0, 0, 0, 0, 0, ...                1  \n",
       "174870  [0, 0, 0, 0, 0, 0, 0, 0, 0, 0, 0, 0, 0, -12, 0...                1  \n",
       "4959    [0, 0, 0, 0, 0, 0, 0, 0, 0, 0, 0, 0, 0, -1, 0,...                1  \n",
       "348     [0, 0, -5, 0, 0, 0, 0, 0, 0, 0, 0, 0, 0, 0, 0,...                1  \n",
       "13492   [0, 3, 0, 0, 0, 0, 0, 0, 0, 0, 0, 0, 0, 0, 0, ...                1  \n",
       "9414    [0, 0, 0, -1, 0, 0, 0, 0, 0, 0, 0, 0, 0, 0, 0,...                1  \n",
       "3258    [0, 0, 0, 0, 0, 0, 0, 0, 0, 0, 0, 0, 0, -7, 0,...                1  \n",
       "1062    [0, 0, -1, 0, 0, 0, 0, 0, 0, 0, 0, 0, 0, 0, 0,...                1  \n",
       "9003    [0, 0, -6, 0, 0, 0, 0, 0, 0, 0, 0, 0, 0, 0, 0,...                1  \n",
       "55052   [0, 0, 0, 0, 0, 0, 0, 0, 0, 0, 0, 0, 0, -10, 0...                1  \n",
       "35249   [0, 0, 2, 0, 0, 0, 0, 0, 0, 0, 0, 0, 0, 0, 0, ...                1  \n",
       "4414    [6, 0, 0, 0, 0, 0, 0, 0, 0, 0, 0, 0, 0, 0, 0, ...                1  \n",
       "51342   [0, 0, 3, 0, 0, 0, 0, 0, 0, 0, 0, 0, 0, 0, 0, ...                1  \n",
       "15181   [0, 0, -3, 0, 0, 0, 0, 0, 0, 0, 0, 0, 0, 0, 0,...                1  \n",
       "213490  [0, 0, 0, 0, 3, 0, 0, 0, 0, 0, 0, 0, 0, 0, 0, ...                1  \n",
       "7895    [0, 0, 0, 0, 0, 0, 0, 0, 0, 0, 0, 0, 0, -8, 0,...                1  \n",
       "1904    [0, 0, 0, 0, 0, 0, 0, 0, 0, 0, 0, 0, 0, -2, 0,...                1  \n",
       "109454  [0, 2, 0, 0, 0, 0, 0, 0, 0, 0, 0, 0, 0, 0, 0, ...                1  \n",
       "2480    [0, 0, 0, 0, 0, 0, 0, 0, 0, 0, 0, 0, 0, 1, 0, ...                1  \n",
       "559531  [0, 0, 0, 0, 0, 0, 0, 0, 0, 0, 0, 0, 0, -9, 0,...                1  \n",
       "...                                                   ...              ...  \n",
       "110900  [0, 2, -3, -1, 0, 0, -1, 0, 1, 0, 1, 1, 1, -12...               11  \n",
       "67605   [2, 0, -3, -1, 0, 0, -1, 1, 0, 0, 1, 1, 1, -12...               11  \n",
       "126355  [2, 1, -8, -1, -1, 1, -1, 0, 0, 0, 0, 1, 0, -8...               11  \n",
       "513910  [0, -2, -7, -1, -1, 1, -1, 0, 0, 0, 0, 1, 1, -...               11  \n",
       "589456  [5, 0, 2, -1, 0, 0, -1, 1, 0, 0, 1, 1, 1, -12,...               11  \n",
       "398854  [1, 2, 1, -1, 3, 0, -1, 1, 0, 1, 0, 0, 0, -12,...               11  \n",
       "414686  [4, 1, -8, -1, -1, 0, -1, 0, 1, 0, 0, 1, 0, -6...               11  \n",
       "583770  [2, 1, -7, -1, -1, 0, -1, 1, 0, 0, 0, 1, 0, -1...               11  \n",
       "491719  [6, 1, -8, -1, -1, 1, -1, 0, 0, 0, 0, 1, 0, -6...               11  \n",
       "59009   [1, 0, -1, -1, 6, 0, -1, 1, 0, 0, 1, 1, 0, -12...               11  \n",
       "297912  [0, 0, -2, -1, 6, 1, -1, 0, 0, 0, 1, 1, 1, -12...               11  \n",
       "291700  [0, 1, -4, -1, 0, 1, -1, 0, 0, 1, 1, 1, 0, -12...               11  \n",
       "549840  [0, 1, -5, -1, 4, 0, -1, 0, 1, 0, 1, 1, 0, -12...               11  \n",
       "542485  [1, 3, -6, -1, 0, 0, -1, 0, 1, 0, 1, 1, 0, -12...               11  \n",
       "50642   [3, 1, -8, -1, -1, 1, -1, 0, 0, 0, 1, 1, 0, -1...               12  \n",
       "498806  [2, 1, -1, -1, 4, 0, -1, 1, 0, 0, 1, 1, 0, -12...               12  \n",
       "564742  [1, 0, -2, -1, 0, 1, -1, 0, 0, 1, 1, 1, 1, -12...               12  \n",
       "464241  [7, 1, -7, -1, 0, 1, -1, 0, 0, 1, 0, 1, 1, -12...               12  \n",
       "524428  [1, 1, -7, -1, 1, 0, -1, 0, 1, 1, 0, 1, 0, -12...               12  \n",
       "103322  [3, 1, -8, -1, -1, 0, -1, 0, 1, 0, 1, 1, 0, -1...               12  \n",
       "496329  [0, 1, -8, -1, -1, 1, -1, 0, 0, 0, 1, 1, 1, -1...               12  \n",
       "182797  [4, 1, -3, -1, 0, 0, -1, 1, 0, 0, 1, 1, 1, -12...               12  \n",
       "345622  [4, 0, -2, -1, 0, 0, -1, 1, 0, 1, 1, 1, 1, -12...               12  \n",
       "302213  [4, 1, -4, -1, 0, 0, -1, 1, 0, 1, 1, 1, 0, -12...               12  \n",
       "171615  [0, 1, -3, -1, 2, 0, -1, 1, 0, 0, 1, 1, 1, -12...               12  \n",
       "290666  [3, 2, -3, -1, 6, 0, -1, 1, 0, 0, 1, 1, 0, -12...               12  \n",
       "332174  [4, 1, -8, -1, -1, 0, -1, 1, 0, 0, 1, 1, 0, -1...               12  \n",
       "416321  [3, 1, -6, 0, 6, 0, -1, 1, 0, 0, 1, 1, 1, -12,...               12  \n",
       "515108  [1, 1, -8, -1, -1, 0, -1, 0, 1, 1, 0, 1, 1, -5...               13  \n",
       "65172   [3, 1, -8, -1, -1, 1, -1, 0, 0, 0, 1, 1, 1, -1...               13  \n",
       "\n",
       "[93282 rows x 4 columns]"
      ]
     },
     "execution_count": 25,
     "metadata": {},
     "output_type": "execute_result"
    }
   ],
   "source": [
    "df1.sort_values('num_nonidentity', ascending=True)#.head(20)"
   ]
  },
  {
   "cell_type": "code",
   "execution_count": 26,
   "metadata": {},
   "outputs": [],
   "source": [
    "def find_similar_entries(entry, entries):\n",
    "    '''\n",
    "    entry: tuple\n",
    "        entry of interest.\n",
    "    entries: pd.Series\n",
    "        search space for the entry\n",
    "    '''\n",
    "    df = pd.DataFrame()\n",
    "    df['original'] = entries\n",
    "    df['difference'] = df['original'].apply(np.array) - np.array(entry)\n",
    "    df['non_identity'] = df['difference'].apply(np.count_nonzero)\n",
    "    min_difference = np.min(df['non_identity'])\n",
    "    similar_entries = df['original'][df['non_identity'] == min_difference].drop_duplicates()\n",
    "    \n",
    "    print('%d similar entries with %d feature difference' % (len(similar_entries), min_difference))\n",
    "    \n",
    "    return similar_entries"
   ]
  },
  {
   "cell_type": "code",
   "execution_count": 27,
   "metadata": {},
   "outputs": [
    {
     "data": {
      "text/plain": [
       "Int64Index([    21,     37,     39,     45,     70,     74,     76,     97,\n",
       "               103,    114,\n",
       "            ...\n",
       "            892690, 892707, 892716, 892733, 892740, 892742, 892746, 892758,\n",
       "            892764, 892768],\n",
       "           dtype='int64', length=69172)"
      ]
     },
     "execution_count": 27,
     "metadata": {},
     "output_type": "execute_result"
    }
   ],
   "source": [
    "non_ol_index = tuple_test1.index[tuple_test1.isin(tuple_train1) == False]\n",
    "non_ol_index"
   ]
  },
  {
   "cell_type": "code",
   "execution_count": 28,
   "metadata": {},
   "outputs": [
    {
     "name": "stdout",
     "output_type": "stream",
     "text": [
      "13 similar entries with 1 feature difference\n"
     ]
    }
   ],
   "source": [
    "a = find_similar_entries(tuple_test1[21], tuple_train1)"
   ]
  },
  {
   "cell_type": "code",
   "execution_count": 29,
   "metadata": {},
   "outputs": [
    {
     "data": {
      "text/plain": [
       "[(7, 2, 1, 0, 0, 0, 0, 0, 1, 0, 0, 0, 0, 5, 0, 0, 1),\n",
       " (6, 2, 1, 0, 0, 0, 0, 0, 1, 0, 0, 0, 0, 2, 0, 0, 1),\n",
       " (0, 2, 1, 0, 0, 0, 0, 0, 1, 0, 0, 0, 0, 5, 0, 0, 1),\n",
       " (3, 2, 1, 0, 0, 0, 0, 0, 1, 0, 0, 0, 0, 5, 0, 0, 1),\n",
       " (6, 2, 1, 0, 0, 0, 0, 0, 1, 0, 0, 0, 0, 7, 0, 0, 1),\n",
       " (6, 2, 1, 0, 0, 0, 0, 0, 1, 0, 0, 0, 0, 8, 0, 0, 1),\n",
       " (6, 2, 4, 0, 0, 0, 0, 0, 1, 0, 0, 0, 0, 5, 0, 0, 1),\n",
       " (6, 2, 1, 0, 0, 0, 0, 0, 1, 0, 0, 0, 0, 11, 0, 0, 1),\n",
       " (6, 2, 1, 0, 0, 0, 0, 0, 1, 0, 0, 0, 0, 3, 0, 0, 1),\n",
       " (6, 2, 1, 1, 0, 0, 0, 0, 1, 0, 0, 0, 0, 5, 0, 0, 1),\n",
       " (6, 2, 1, 0, 0, 0, 0, 0, 1, 0, 0, 0, 0, 0, 0, 0, 1),\n",
       " (2, 2, 1, 0, 0, 0, 0, 0, 1, 0, 0, 0, 0, 5, 0, 0, 1),\n",
       " (1, 2, 1, 0, 0, 0, 0, 0, 1, 0, 0, 0, 0, 5, 0, 0, 1)]"
      ]
     },
     "execution_count": 29,
     "metadata": {},
     "output_type": "execute_result"
    }
   ],
   "source": [
    "list(a)"
   ]
  },
  {
   "cell_type": "markdown",
   "metadata": {},
   "source": [
    "# Set up a function to estimate cond proba of being in class1 for non-overlapping entries"
   ]
  },
  {
   "cell_type": "code",
   "execution_count": 30,
   "metadata": {},
   "outputs": [],
   "source": [
    "ind_probas = psjp.JointProbability().fit_transform(inds_train, target, label='ind_proba')"
   ]
  },
  {
   "cell_type": "code",
   "execution_count": 32,
   "metadata": {},
   "outputs": [],
   "source": [
    "tuple_train1.name = 'tuple'\n",
    "df1 = pd.concat([tuple_train1, ind_probas], axis=1).set_index('tuple')"
   ]
  },
  {
   "cell_type": "code",
   "execution_count": 33,
   "metadata": {},
   "outputs": [
    {
     "data": {
      "text/html": [
       "<div>\n",
       "<style scoped>\n",
       "    .dataframe tbody tr th:only-of-type {\n",
       "        vertical-align: middle;\n",
       "    }\n",
       "\n",
       "    .dataframe tbody tr th {\n",
       "        vertical-align: top;\n",
       "    }\n",
       "\n",
       "    .dataframe thead th {\n",
       "        text-align: right;\n",
       "    }\n",
       "</style>\n",
       "<table border=\"1\" class=\"dataframe\">\n",
       "  <thead>\n",
       "    <tr style=\"text-align: right;\">\n",
       "      <th></th>\n",
       "      <th>ind_proba</th>\n",
       "    </tr>\n",
       "    <tr>\n",
       "      <th>tuple</th>\n",
       "      <th></th>\n",
       "    </tr>\n",
       "  </thead>\n",
       "  <tbody>\n",
       "    <tr>\n",
       "      <th>(2, 2, 5, 1, 0, 0, 1, 0, 0, 0, 0, 0, 0, 11, 0, 1, 0)</th>\n",
       "      <td>0.000000</td>\n",
       "    </tr>\n",
       "    <tr>\n",
       "      <th>(1, 1, 7, 0, 0, 0, 0, 1, 0, 0, 0, 0, 0, 3, 0, 0, 1)</th>\n",
       "      <td>0.000000</td>\n",
       "    </tr>\n",
       "    <tr>\n",
       "      <th>(5, 4, 9, 1, 0, 0, 0, 1, 0, 0, 0, 0, 0, 12, 1, 0, 0)</th>\n",
       "      <td>0.000000</td>\n",
       "    </tr>\n",
       "    <tr>\n",
       "      <th>(0, 1, 2, 0, 0, 1, 0, 0, 0, 0, 0, 0, 0, 8, 1, 0, 0)</th>\n",
       "      <td>0.021140</td>\n",
       "    </tr>\n",
       "    <tr>\n",
       "      <th>(0, 2, 0, 1, 0, 1, 0, 0, 0, 0, 0, 0, 0, 9, 1, 0, 0)</th>\n",
       "      <td>0.019608</td>\n",
       "    </tr>\n",
       "  </tbody>\n",
       "</table>\n",
       "</div>"
      ],
      "text/plain": [
       "                                                    ind_proba\n",
       "tuple                                                        \n",
       "(2, 2, 5, 1, 0, 0, 1, 0, 0, 0, 0, 0, 0, 11, 0, ...   0.000000\n",
       "(1, 1, 7, 0, 0, 0, 0, 1, 0, 0, 0, 0, 0, 3, 0, 0...   0.000000\n",
       "(5, 4, 9, 1, 0, 0, 0, 1, 0, 0, 0, 0, 0, 12, 1, ...   0.000000\n",
       "(0, 1, 2, 0, 0, 1, 0, 0, 0, 0, 0, 0, 0, 8, 1, 0...   0.021140\n",
       "(0, 2, 0, 1, 0, 1, 0, 0, 0, 0, 0, 0, 0, 9, 1, 0...   0.019608"
      ]
     },
     "execution_count": 33,
     "metadata": {},
     "output_type": "execute_result"
    }
   ],
   "source": [
    "df1.head()"
   ]
  },
  {
   "cell_type": "code",
   "execution_count": 34,
   "metadata": {},
   "outputs": [
    {
     "data": {
      "text/plain": [
       "(595212, 1)"
      ]
     },
     "execution_count": 34,
     "metadata": {},
     "output_type": "execute_result"
    }
   ],
   "source": [
    "df1.shape"
   ]
  },
  {
   "cell_type": "code",
   "execution_count": 35,
   "metadata": {},
   "outputs": [
    {
     "name": "stdout",
     "output_type": "stream",
     "text": [
      "18 similar entries with 1 feature difference\n"
     ]
    }
   ],
   "source": [
    "similar_list = list(find_similar_entries(tuple_test1[39], tuple_train1))"
   ]
  },
  {
   "cell_type": "code",
   "execution_count": 36,
   "metadata": {},
   "outputs": [
    {
     "data": {
      "text/plain": [
       "(77, 1)"
      ]
     },
     "execution_count": 36,
     "metadata": {},
     "output_type": "execute_result"
    }
   ],
   "source": [
    "probas = df1.loc[similar_list]\n",
    "probas.shape"
   ]
  },
  {
   "cell_type": "code",
   "execution_count": 37,
   "metadata": {},
   "outputs": [
    {
     "data": {
      "text/html": [
       "<div>\n",
       "<style scoped>\n",
       "    .dataframe tbody tr th:only-of-type {\n",
       "        vertical-align: middle;\n",
       "    }\n",
       "\n",
       "    .dataframe tbody tr th {\n",
       "        vertical-align: top;\n",
       "    }\n",
       "\n",
       "    .dataframe thead th {\n",
       "        text-align: right;\n",
       "    }\n",
       "</style>\n",
       "<table border=\"1\" class=\"dataframe\">\n",
       "  <thead>\n",
       "    <tr style=\"text-align: right;\">\n",
       "      <th></th>\n",
       "      <th>ind_proba</th>\n",
       "    </tr>\n",
       "    <tr>\n",
       "      <th>tuple</th>\n",
       "      <th></th>\n",
       "    </tr>\n",
       "  </thead>\n",
       "  <tbody>\n",
       "    <tr>\n",
       "      <th>(1, 1, 9, 0, 0, 0, 0, 0, 1, 0, 0, 0, 0, 3, 1, 0, 0)</th>\n",
       "      <td>0.000000</td>\n",
       "    </tr>\n",
       "    <tr>\n",
       "      <th>(1, 1, 9, 0, 0, 0, 0, 0, 1, 0, 0, 0, 0, 3, 1, 0, 0)</th>\n",
       "      <td>0.000000</td>\n",
       "    </tr>\n",
       "    <tr>\n",
       "      <th>(1, 1, 9, 0, 0, 0, 0, 0, 1, 0, 0, 0, 0, 3, 1, 0, 0)</th>\n",
       "      <td>0.000000</td>\n",
       "    </tr>\n",
       "    <tr>\n",
       "      <th>(1, 1, 9, 0, 0, 0, 0, 0, 1, 0, 0, 0, 0, 3, 1, 0, 0)</th>\n",
       "      <td>0.000000</td>\n",
       "    </tr>\n",
       "    <tr>\n",
       "      <th>(1, 1, 9, 0, 0, 0, 0, 0, 1, 0, 0, 0, 0, 3, 1, 0, 0)</th>\n",
       "      <td>0.000000</td>\n",
       "    </tr>\n",
       "    <tr>\n",
       "      <th>(1, 1, 9, 0, 0, 0, 0, 0, 1, 0, 0, 0, 0, 3, 1, 0, 0)</th>\n",
       "      <td>0.000000</td>\n",
       "    </tr>\n",
       "    <tr>\n",
       "      <th>(1, 1, 9, 0, 0, 0, 0, 0, 1, 0, 0, 0, 0, 3, 1, 0, 0)</th>\n",
       "      <td>0.000000</td>\n",
       "    </tr>\n",
       "    <tr>\n",
       "      <th>(1, 3, 9, 0, 0, 0, 0, 0, 1, 0, 0, 0, 0, 4, 1, 0, 0)</th>\n",
       "      <td>0.500000</td>\n",
       "    </tr>\n",
       "    <tr>\n",
       "      <th>(1, 3, 9, 0, 0, 0, 0, 0, 1, 0, 0, 0, 0, 4, 1, 0, 0)</th>\n",
       "      <td>0.500000</td>\n",
       "    </tr>\n",
       "    <tr>\n",
       "      <th>(1, 3, 9, 0, 0, 0, 0, 0, 1, 0, 0, 0, 0, 4, 1, 0, 0)</th>\n",
       "      <td>0.500000</td>\n",
       "    </tr>\n",
       "    <tr>\n",
       "      <th>(1, 3, 9, 0, 0, 0, 0, 0, 1, 0, 0, 0, 0, 4, 1, 0, 0)</th>\n",
       "      <td>0.500000</td>\n",
       "    </tr>\n",
       "    <tr>\n",
       "      <th>(1, 3, 9, 0, 0, 0, 0, 0, 1, 0, 0, 0, 0, 11, 1, 0, 0)</th>\n",
       "      <td>0.111111</td>\n",
       "    </tr>\n",
       "    <tr>\n",
       "      <th>(1, 3, 9, 0, 0, 0, 0, 0, 1, 0, 0, 0, 0, 11, 1, 0, 0)</th>\n",
       "      <td>0.111111</td>\n",
       "    </tr>\n",
       "    <tr>\n",
       "      <th>(1, 3, 9, 0, 0, 0, 0, 0, 1, 0, 0, 0, 0, 11, 1, 0, 0)</th>\n",
       "      <td>0.111111</td>\n",
       "    </tr>\n",
       "    <tr>\n",
       "      <th>(1, 3, 9, 0, 0, 0, 0, 0, 1, 0, 0, 0, 0, 11, 1, 0, 0)</th>\n",
       "      <td>0.111111</td>\n",
       "    </tr>\n",
       "    <tr>\n",
       "      <th>(1, 3, 9, 0, 0, 0, 0, 0, 1, 0, 0, 0, 0, 11, 1, 0, 0)</th>\n",
       "      <td>0.111111</td>\n",
       "    </tr>\n",
       "    <tr>\n",
       "      <th>(1, 3, 9, 0, 0, 0, 0, 0, 1, 0, 0, 0, 0, 11, 1, 0, 0)</th>\n",
       "      <td>0.111111</td>\n",
       "    </tr>\n",
       "    <tr>\n",
       "      <th>(1, 3, 9, 0, 0, 0, 0, 0, 1, 0, 0, 0, 0, 11, 1, 0, 0)</th>\n",
       "      <td>0.111111</td>\n",
       "    </tr>\n",
       "    <tr>\n",
       "      <th>(1, 3, 9, 0, 0, 0, 0, 0, 1, 0, 0, 0, 0, 11, 1, 0, 0)</th>\n",
       "      <td>0.111111</td>\n",
       "    </tr>\n",
       "    <tr>\n",
       "      <th>(1, 3, 9, 0, 0, 0, 0, 0, 1, 0, 0, 0, 0, 11, 1, 0, 0)</th>\n",
       "      <td>0.111111</td>\n",
       "    </tr>\n",
       "    <tr>\n",
       "      <th>(1, 3, 9, 0, 0, 0, 0, 0, 1, 0, 0, 0, 0, 12, 1, 0, 0)</th>\n",
       "      <td>0.111111</td>\n",
       "    </tr>\n",
       "    <tr>\n",
       "      <th>(1, 3, 9, 0, 0, 0, 0, 0, 1, 0, 0, 0, 0, 12, 1, 0, 0)</th>\n",
       "      <td>0.111111</td>\n",
       "    </tr>\n",
       "    <tr>\n",
       "      <th>(1, 3, 9, 0, 0, 0, 0, 0, 1, 0, 0, 0, 0, 12, 1, 0, 0)</th>\n",
       "      <td>0.111111</td>\n",
       "    </tr>\n",
       "    <tr>\n",
       "      <th>(1, 3, 9, 0, 0, 0, 0, 0, 1, 0, 0, 0, 0, 12, 1, 0, 0)</th>\n",
       "      <td>0.111111</td>\n",
       "    </tr>\n",
       "    <tr>\n",
       "      <th>(1, 3, 9, 0, 0, 0, 0, 0, 1, 0, 0, 0, 0, 12, 1, 0, 0)</th>\n",
       "      <td>0.111111</td>\n",
       "    </tr>\n",
       "    <tr>\n",
       "      <th>(1, 3, 9, 0, 0, 0, 0, 0, 1, 0, 0, 0, 0, 12, 1, 0, 0)</th>\n",
       "      <td>0.111111</td>\n",
       "    </tr>\n",
       "    <tr>\n",
       "      <th>(1, 3, 9, 0, 0, 0, 0, 0, 1, 0, 0, 0, 0, 12, 1, 0, 0)</th>\n",
       "      <td>0.111111</td>\n",
       "    </tr>\n",
       "    <tr>\n",
       "      <th>(1, 3, 9, 0, 0, 0, 0, 0, 1, 0, 0, 0, 0, 12, 1, 0, 0)</th>\n",
       "      <td>0.111111</td>\n",
       "    </tr>\n",
       "    <tr>\n",
       "      <th>(1, 3, 9, 0, 0, 0, 0, 0, 1, 0, 0, 0, 0, 12, 1, 0, 0)</th>\n",
       "      <td>0.111111</td>\n",
       "    </tr>\n",
       "    <tr>\n",
       "      <th>(1, 3, 2, 0, 0, 0, 0, 0, 1, 0, 0, 0, 0, 3, 1, 0, 0)</th>\n",
       "      <td>0.000000</td>\n",
       "    </tr>\n",
       "    <tr>\n",
       "      <th>...</th>\n",
       "      <td>...</td>\n",
       "    </tr>\n",
       "    <tr>\n",
       "      <th>(1, 3, 9, 0, 0, 0, 0, 0, 1, 0, 0, 0, 0, 6, 1, 0, 0)</th>\n",
       "      <td>0.000000</td>\n",
       "    </tr>\n",
       "    <tr>\n",
       "      <th>(1, 3, 9, 0, 0, 0, 0, 0, 1, 0, 0, 0, 0, 6, 1, 0, 0)</th>\n",
       "      <td>0.000000</td>\n",
       "    </tr>\n",
       "    <tr>\n",
       "      <th>(1, 3, 9, 0, 0, 0, 0, 0, 1, 0, 0, 0, 0, 6, 1, 0, 0)</th>\n",
       "      <td>0.000000</td>\n",
       "    </tr>\n",
       "    <tr>\n",
       "      <th>(1, 3, 9, 0, 0, 0, 0, 0, 1, 0, 0, 0, 0, 6, 1, 0, 0)</th>\n",
       "      <td>0.000000</td>\n",
       "    </tr>\n",
       "    <tr>\n",
       "      <th>(1, 3, 9, 0, 0, 0, 0, 0, 1, 0, 0, 0, 0, 6, 1, 0, 0)</th>\n",
       "      <td>0.000000</td>\n",
       "    </tr>\n",
       "    <tr>\n",
       "      <th>(1, 3, 9, 0, 0, 0, 0, 0, 1, 0, 0, 0, 0, 6, 1, 0, 0)</th>\n",
       "      <td>0.000000</td>\n",
       "    </tr>\n",
       "    <tr>\n",
       "      <th>(1, 3, 9, 0, 0, 0, 0, 0, 1, 0, 0, 0, 0, 7, 1, 0, 0)</th>\n",
       "      <td>0.000000</td>\n",
       "    </tr>\n",
       "    <tr>\n",
       "      <th>(1, 3, 9, 0, 0, 0, 0, 0, 1, 0, 0, 0, 0, 7, 1, 0, 0)</th>\n",
       "      <td>0.000000</td>\n",
       "    </tr>\n",
       "    <tr>\n",
       "      <th>(1, 3, 5, 0, 0, 0, 0, 0, 1, 0, 0, 0, 0, 3, 1, 0, 0)</th>\n",
       "      <td>0.000000</td>\n",
       "    </tr>\n",
       "    <tr>\n",
       "      <th>(1, 3, 9, 0, 0, 0, 0, 0, 1, 0, 0, 0, 0, 9, 1, 0, 0)</th>\n",
       "      <td>0.000000</td>\n",
       "    </tr>\n",
       "    <tr>\n",
       "      <th>(1, 3, 9, 0, 0, 0, 0, 0, 1, 0, 0, 0, 0, 9, 1, 0, 0)</th>\n",
       "      <td>0.000000</td>\n",
       "    </tr>\n",
       "    <tr>\n",
       "      <th>(1, 3, 9, 0, 0, 0, 0, 0, 1, 0, 0, 0, 0, 9, 1, 0, 0)</th>\n",
       "      <td>0.000000</td>\n",
       "    </tr>\n",
       "    <tr>\n",
       "      <th>(1, 3, 9, 0, 0, 0, 0, 0, 1, 0, 0, 0, 0, 9, 1, 0, 0)</th>\n",
       "      <td>0.000000</td>\n",
       "    </tr>\n",
       "    <tr>\n",
       "      <th>(1, 3, 9, 0, 0, 0, 0, 0, 1, 0, 0, 0, 0, 9, 1, 0, 0)</th>\n",
       "      <td>0.000000</td>\n",
       "    </tr>\n",
       "    <tr>\n",
       "      <th>(3, 3, 9, 0, 0, 0, 0, 0, 1, 0, 0, 0, 0, 3, 1, 0, 0)</th>\n",
       "      <td>0.000000</td>\n",
       "    </tr>\n",
       "    <tr>\n",
       "      <th>(1, 3, 8, 0, 0, 0, 0, 0, 1, 0, 0, 0, 0, 3, 1, 0, 0)</th>\n",
       "      <td>0.000000</td>\n",
       "    </tr>\n",
       "    <tr>\n",
       "      <th>(1, 3, 9, 0, 0, 0, 0, 0, 1, 0, 0, 0, 0, 8, 1, 0, 0)</th>\n",
       "      <td>0.000000</td>\n",
       "    </tr>\n",
       "    <tr>\n",
       "      <th>(1, 3, 9, 0, 0, 0, 0, 0, 1, 0, 0, 0, 0, 8, 1, 0, 0)</th>\n",
       "      <td>0.000000</td>\n",
       "    </tr>\n",
       "    <tr>\n",
       "      <th>(1, 3, 9, 0, 0, 0, 0, 0, 1, 0, 0, 0, 0, 8, 1, 0, 0)</th>\n",
       "      <td>0.000000</td>\n",
       "    </tr>\n",
       "    <tr>\n",
       "      <th>(1, 3, 9, 0, 0, 0, 0, 0, 1, 0, 0, 0, 0, 8, 1, 0, 0)</th>\n",
       "      <td>0.000000</td>\n",
       "    </tr>\n",
       "    <tr>\n",
       "      <th>(1, 3, 9, 0, 0, 0, 0, 0, 1, 0, 0, 0, 0, 8, 1, 0, 0)</th>\n",
       "      <td>0.000000</td>\n",
       "    </tr>\n",
       "    <tr>\n",
       "      <th>(1, 3, 3, 0, 0, 0, 0, 0, 1, 0, 0, 0, 0, 3, 1, 0, 0)</th>\n",
       "      <td>0.000000</td>\n",
       "    </tr>\n",
       "    <tr>\n",
       "      <th>(1, 3, 6, 0, 0, 0, 0, 0, 1, 0, 0, 0, 0, 3, 1, 0, 0)</th>\n",
       "      <td>0.000000</td>\n",
       "    </tr>\n",
       "    <tr>\n",
       "      <th>(1, 3, 6, 0, 0, 0, 0, 0, 1, 0, 0, 0, 0, 3, 1, 0, 0)</th>\n",
       "      <td>0.000000</td>\n",
       "    </tr>\n",
       "    <tr>\n",
       "      <th>(1, 3, 6, 0, 0, 0, 0, 0, 1, 0, 0, 0, 0, 3, 1, 0, 0)</th>\n",
       "      <td>0.000000</td>\n",
       "    </tr>\n",
       "    <tr>\n",
       "      <th>(1, 3, 9, 0, 0, 0, 0, 0, 1, 0, 0, 0, 0, 10, 1, 0, 0)</th>\n",
       "      <td>0.000000</td>\n",
       "    </tr>\n",
       "    <tr>\n",
       "      <th>(1, 3, 9, 0, 0, 0, 0, 0, 1, 0, 0, 0, 0, 10, 1, 0, 0)</th>\n",
       "      <td>0.000000</td>\n",
       "    </tr>\n",
       "    <tr>\n",
       "      <th>(1, 3, 9, 0, 0, 0, 0, 0, 1, 0, 0, 0, 0, 10, 1, 0, 0)</th>\n",
       "      <td>0.000000</td>\n",
       "    </tr>\n",
       "    <tr>\n",
       "      <th>(1, 3, 9, 0, 0, 0, 0, 0, 1, 0, 0, 0, 0, 10, 1, 0, 0)</th>\n",
       "      <td>0.000000</td>\n",
       "    </tr>\n",
       "    <tr>\n",
       "      <th>(1, 3, 4, 0, 0, 0, 0, 0, 1, 0, 0, 0, 0, 3, 1, 0, 0)</th>\n",
       "      <td>0.000000</td>\n",
       "    </tr>\n",
       "  </tbody>\n",
       "</table>\n",
       "<p>77 rows × 1 columns</p>\n",
       "</div>"
      ],
      "text/plain": [
       "                                                    ind_proba\n",
       "tuple                                                        \n",
       "(1, 1, 9, 0, 0, 0, 0, 0, 1, 0, 0, 0, 0, 3, 1, 0...   0.000000\n",
       "(1, 1, 9, 0, 0, 0, 0, 0, 1, 0, 0, 0, 0, 3, 1, 0...   0.000000\n",
       "(1, 1, 9, 0, 0, 0, 0, 0, 1, 0, 0, 0, 0, 3, 1, 0...   0.000000\n",
       "(1, 1, 9, 0, 0, 0, 0, 0, 1, 0, 0, 0, 0, 3, 1, 0...   0.000000\n",
       "(1, 1, 9, 0, 0, 0, 0, 0, 1, 0, 0, 0, 0, 3, 1, 0...   0.000000\n",
       "(1, 1, 9, 0, 0, 0, 0, 0, 1, 0, 0, 0, 0, 3, 1, 0...   0.000000\n",
       "(1, 1, 9, 0, 0, 0, 0, 0, 1, 0, 0, 0, 0, 3, 1, 0...   0.000000\n",
       "(1, 3, 9, 0, 0, 0, 0, 0, 1, 0, 0, 0, 0, 4, 1, 0...   0.500000\n",
       "(1, 3, 9, 0, 0, 0, 0, 0, 1, 0, 0, 0, 0, 4, 1, 0...   0.500000\n",
       "(1, 3, 9, 0, 0, 0, 0, 0, 1, 0, 0, 0, 0, 4, 1, 0...   0.500000\n",
       "(1, 3, 9, 0, 0, 0, 0, 0, 1, 0, 0, 0, 0, 4, 1, 0...   0.500000\n",
       "(1, 3, 9, 0, 0, 0, 0, 0, 1, 0, 0, 0, 0, 11, 1, ...   0.111111\n",
       "(1, 3, 9, 0, 0, 0, 0, 0, 1, 0, 0, 0, 0, 11, 1, ...   0.111111\n",
       "(1, 3, 9, 0, 0, 0, 0, 0, 1, 0, 0, 0, 0, 11, 1, ...   0.111111\n",
       "(1, 3, 9, 0, 0, 0, 0, 0, 1, 0, 0, 0, 0, 11, 1, ...   0.111111\n",
       "(1, 3, 9, 0, 0, 0, 0, 0, 1, 0, 0, 0, 0, 11, 1, ...   0.111111\n",
       "(1, 3, 9, 0, 0, 0, 0, 0, 1, 0, 0, 0, 0, 11, 1, ...   0.111111\n",
       "(1, 3, 9, 0, 0, 0, 0, 0, 1, 0, 0, 0, 0, 11, 1, ...   0.111111\n",
       "(1, 3, 9, 0, 0, 0, 0, 0, 1, 0, 0, 0, 0, 11, 1, ...   0.111111\n",
       "(1, 3, 9, 0, 0, 0, 0, 0, 1, 0, 0, 0, 0, 11, 1, ...   0.111111\n",
       "(1, 3, 9, 0, 0, 0, 0, 0, 1, 0, 0, 0, 0, 12, 1, ...   0.111111\n",
       "(1, 3, 9, 0, 0, 0, 0, 0, 1, 0, 0, 0, 0, 12, 1, ...   0.111111\n",
       "(1, 3, 9, 0, 0, 0, 0, 0, 1, 0, 0, 0, 0, 12, 1, ...   0.111111\n",
       "(1, 3, 9, 0, 0, 0, 0, 0, 1, 0, 0, 0, 0, 12, 1, ...   0.111111\n",
       "(1, 3, 9, 0, 0, 0, 0, 0, 1, 0, 0, 0, 0, 12, 1, ...   0.111111\n",
       "(1, 3, 9, 0, 0, 0, 0, 0, 1, 0, 0, 0, 0, 12, 1, ...   0.111111\n",
       "(1, 3, 9, 0, 0, 0, 0, 0, 1, 0, 0, 0, 0, 12, 1, ...   0.111111\n",
       "(1, 3, 9, 0, 0, 0, 0, 0, 1, 0, 0, 0, 0, 12, 1, ...   0.111111\n",
       "(1, 3, 9, 0, 0, 0, 0, 0, 1, 0, 0, 0, 0, 12, 1, ...   0.111111\n",
       "(1, 3, 2, 0, 0, 0, 0, 0, 1, 0, 0, 0, 0, 3, 1, 0...   0.000000\n",
       "...                                                       ...\n",
       "(1, 3, 9, 0, 0, 0, 0, 0, 1, 0, 0, 0, 0, 6, 1, 0...   0.000000\n",
       "(1, 3, 9, 0, 0, 0, 0, 0, 1, 0, 0, 0, 0, 6, 1, 0...   0.000000\n",
       "(1, 3, 9, 0, 0, 0, 0, 0, 1, 0, 0, 0, 0, 6, 1, 0...   0.000000\n",
       "(1, 3, 9, 0, 0, 0, 0, 0, 1, 0, 0, 0, 0, 6, 1, 0...   0.000000\n",
       "(1, 3, 9, 0, 0, 0, 0, 0, 1, 0, 0, 0, 0, 6, 1, 0...   0.000000\n",
       "(1, 3, 9, 0, 0, 0, 0, 0, 1, 0, 0, 0, 0, 6, 1, 0...   0.000000\n",
       "(1, 3, 9, 0, 0, 0, 0, 0, 1, 0, 0, 0, 0, 7, 1, 0...   0.000000\n",
       "(1, 3, 9, 0, 0, 0, 0, 0, 1, 0, 0, 0, 0, 7, 1, 0...   0.000000\n",
       "(1, 3, 5, 0, 0, 0, 0, 0, 1, 0, 0, 0, 0, 3, 1, 0...   0.000000\n",
       "(1, 3, 9, 0, 0, 0, 0, 0, 1, 0, 0, 0, 0, 9, 1, 0...   0.000000\n",
       "(1, 3, 9, 0, 0, 0, 0, 0, 1, 0, 0, 0, 0, 9, 1, 0...   0.000000\n",
       "(1, 3, 9, 0, 0, 0, 0, 0, 1, 0, 0, 0, 0, 9, 1, 0...   0.000000\n",
       "(1, 3, 9, 0, 0, 0, 0, 0, 1, 0, 0, 0, 0, 9, 1, 0...   0.000000\n",
       "(1, 3, 9, 0, 0, 0, 0, 0, 1, 0, 0, 0, 0, 9, 1, 0...   0.000000\n",
       "(3, 3, 9, 0, 0, 0, 0, 0, 1, 0, 0, 0, 0, 3, 1, 0...   0.000000\n",
       "(1, 3, 8, 0, 0, 0, 0, 0, 1, 0, 0, 0, 0, 3, 1, 0...   0.000000\n",
       "(1, 3, 9, 0, 0, 0, 0, 0, 1, 0, 0, 0, 0, 8, 1, 0...   0.000000\n",
       "(1, 3, 9, 0, 0, 0, 0, 0, 1, 0, 0, 0, 0, 8, 1, 0...   0.000000\n",
       "(1, 3, 9, 0, 0, 0, 0, 0, 1, 0, 0, 0, 0, 8, 1, 0...   0.000000\n",
       "(1, 3, 9, 0, 0, 0, 0, 0, 1, 0, 0, 0, 0, 8, 1, 0...   0.000000\n",
       "(1, 3, 9, 0, 0, 0, 0, 0, 1, 0, 0, 0, 0, 8, 1, 0...   0.000000\n",
       "(1, 3, 3, 0, 0, 0, 0, 0, 1, 0, 0, 0, 0, 3, 1, 0...   0.000000\n",
       "(1, 3, 6, 0, 0, 0, 0, 0, 1, 0, 0, 0, 0, 3, 1, 0...   0.000000\n",
       "(1, 3, 6, 0, 0, 0, 0, 0, 1, 0, 0, 0, 0, 3, 1, 0...   0.000000\n",
       "(1, 3, 6, 0, 0, 0, 0, 0, 1, 0, 0, 0, 0, 3, 1, 0...   0.000000\n",
       "(1, 3, 9, 0, 0, 0, 0, 0, 1, 0, 0, 0, 0, 10, 1, ...   0.000000\n",
       "(1, 3, 9, 0, 0, 0, 0, 0, 1, 0, 0, 0, 0, 10, 1, ...   0.000000\n",
       "(1, 3, 9, 0, 0, 0, 0, 0, 1, 0, 0, 0, 0, 10, 1, ...   0.000000\n",
       "(1, 3, 9, 0, 0, 0, 0, 0, 1, 0, 0, 0, 0, 10, 1, ...   0.000000\n",
       "(1, 3, 4, 0, 0, 0, 0, 0, 1, 0, 0, 0, 0, 3, 1, 0...   0.000000\n",
       "\n",
       "[77 rows x 1 columns]"
      ]
     },
     "execution_count": 37,
     "metadata": {},
     "output_type": "execute_result"
    }
   ],
   "source": [
    "probas"
   ]
  },
  {
   "cell_type": "code",
   "execution_count": 38,
   "metadata": {},
   "outputs": [
    {
     "data": {
      "text/plain": [
       "ind_proba    0.064935\n",
       "dtype: float64"
      ]
     },
     "execution_count": 38,
     "metadata": {},
     "output_type": "execute_result"
    }
   ],
   "source": [
    "np.mean(probas)"
   ]
  },
  {
   "cell_type": "code",
   "execution_count": 62,
   "metadata": {},
   "outputs": [],
   "source": [
    "def find_similar_entries2(entry, proba_table):\n",
    "\n",
    "    df = pd.DataFrame()\n",
    "    df['original'] = proba_table.index\n",
    "    df['difference'] = df['original'].apply(np.array) - np.array(entry)\n",
    "    df['non_identity'] = df['difference'].apply(np.count_nonzero)\n",
    "    min_difference = np.min(df['non_identity'])\n",
    "    similar_entries = df['original'][df['non_identity'] == min_difference].drop_duplicates()\n",
    "    \n",
    "    probas = proba_table.loc[list(similar_entries)]\n",
    "    \n",
    "    return np.mean(probas)"
   ]
  },
  {
   "cell_type": "code",
   "execution_count": 63,
   "metadata": {},
   "outputs": [
    {
     "name": "stdout",
     "output_type": "stream",
     "text": [
      "69172\n"
     ]
    },
    {
     "data": {
      "text/plain": [
       "Int64Index([    21,     37,     39,     45,     70,     74,     76,     97,\n",
       "               103,    114,\n",
       "            ...\n",
       "            892690, 892707, 892716, 892733, 892740, 892742, 892746, 892758,\n",
       "            892764, 892768],\n",
       "           dtype='int64', length=69172)"
      ]
     },
     "execution_count": 63,
     "metadata": {},
     "output_type": "execute_result"
    }
   ],
   "source": [
    "print(len(non_ol_index))\n",
    "non_ol_index"
   ]
  },
  {
   "cell_type": "code",
   "execution_count": 64,
   "metadata": {},
   "outputs": [
    {
     "name": "stdout",
     "output_type": "stream",
     "text": [
      "CPU times: user 1.51 s, sys: 63.9 ms, total: 1.57 s\n",
      "Wall time: 1.57 s\n"
     ]
    },
    {
     "data": {
      "text/plain": [
       "ind_proba    0.0\n",
       "dtype: float64"
      ]
     },
     "execution_count": 64,
     "metadata": {},
     "output_type": "execute_result"
    }
   ],
   "source": [
    "%%time\n",
    "find_similar_entries2(tuple_test1[103], df1)"
   ]
  },
  {
   "cell_type": "code",
   "execution_count": null,
   "metadata": {},
   "outputs": [],
   "source": []
  },
  {
   "cell_type": "code",
   "execution_count": null,
   "metadata": {},
   "outputs": [],
   "source": []
  },
  {
   "cell_type": "code",
   "execution_count": null,
   "metadata": {},
   "outputs": [],
   "source": []
  },
  {
   "cell_type": "code",
   "execution_count": null,
   "metadata": {},
   "outputs": [],
   "source": []
  },
  {
   "cell_type": "code",
   "execution_count": null,
   "metadata": {},
   "outputs": [],
   "source": []
  }
 ],
 "metadata": {
  "kernelspec": {
   "display_name": "Python 3",
   "language": "python",
   "name": "python3"
  },
  "language_info": {
   "codemirror_mode": {
    "name": "ipython",
    "version": 3
   },
   "file_extension": ".py",
   "mimetype": "text/x-python",
   "name": "python",
   "nbconvert_exporter": "python",
   "pygments_lexer": "ipython3",
   "version": "3.6.3"
  }
 },
 "nbformat": 4,
 "nbformat_minor": 2
}
