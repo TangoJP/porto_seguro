{
 "cells": [
  {
   "cell_type": "markdown",
   "metadata": {},
   "source": [
    "#  Extending from nb15."
   ]
  },
  {
   "cell_type": "code",
   "execution_count": 1,
   "metadata": {},
   "outputs": [],
   "source": [
    "import pandas as pd\n",
    "import numpy as np\n",
    "import matplotlib.pyplot as plt\n",
    "import scipy\n",
    "import seaborn as sns\n",
    "from matplotlib import cm\n",
    "\n",
    "from sklearn.model_selection import GridSearchCV\n",
    "from sklearn.decomposition import PCA\n",
    "from sklearn.preprocessing import StandardScaler\n",
    "\n",
    "%matplotlib inline"
   ]
  },
  {
   "cell_type": "code",
   "execution_count": 2,
   "metadata": {},
   "outputs": [],
   "source": [
    "if True:\n",
    "    from imblearn.under_sampling import TomekLinks, RandomUnderSampler\n",
    "    from imblearn.over_sampling import SMOTE, ADASYN"
   ]
  },
  {
   "cell_type": "code",
   "execution_count": 3,
   "metadata": {},
   "outputs": [],
   "source": [
    "if True:\n",
    "    from sklearn.model_selection import train_test_split\n",
    "    from sklearn.metrics import classification_report, roc_curve, precision_recall_curve\n",
    "    from sklearn.ensemble import RandomForestClassifier\n",
    "    from xgboost import XGBClassifier\n",
    "    from sklearn.feature_selection import RFECV"
   ]
  },
  {
   "cell_type": "code",
   "execution_count": 4,
   "metadata": {},
   "outputs": [],
   "source": [
    "from sklearn.metrics import make_scorer\n",
    "from sklearn.metrics import roc_auc_score\n",
    "\n",
    "def my_gini(y_true, y_probas):\n",
    "    auc = roc_auc_score(y_true, y_probas[:, 1])\n",
    "    gini = 2*auc - 1\n",
    "    return gini\n",
    "\n",
    "gini_scorer = make_scorer(my_gini, needs_proba=True, greater_is_better=True)"
   ]
  },
  {
   "cell_type": "markdown",
   "metadata": {},
   "source": [
    "# Preprocess Majority"
   ]
  },
  {
   "cell_type": "code",
   "execution_count": 5,
   "metadata": {},
   "outputs": [],
   "source": [
    "train = pd.read_csv('./train.csv')\n",
    "bincat = pd.read_csv('./data/class_associated_bincat_features.csv')\n",
    "ordinal = pd.read_csv('./data/class_associated_ordinal_features.csv')\n",
    "data = pd.concat([bincat, ordinal, train.target], axis=1)"
   ]
  },
  {
   "cell_type": "code",
   "execution_count": 42,
   "metadata": {},
   "outputs": [
    {
     "data": {
      "text/plain": [
       "Index(['ps_ind_06_bin', 'ps_ind_07_bin', 'ps_ind_08_bin', 'ps_ind_09_bin',\n",
       "       'ps_ind_12_bin', 'ps_ind_16_bin', 'ps_ind_17_bin', 'ps_ind_18_bin',\n",
       "       'ps_car_01_cat_NaN', 'ps_car_01_cat_0',\n",
       "       ...\n",
       "       'ps_car_13', 'ps_car_14', 'ps_car_15', 'ps_ind_01', 'ps_ind_03',\n",
       "       'ps_ind_14', 'ps_ind_15', 'ps_reg_01', 'ps_reg_02', 'ps_reg_03'],\n",
       "      dtype='object', length=143)"
      ]
     },
     "execution_count": 42,
     "metadata": {},
     "output_type": "execute_result"
    }
   ],
   "source": [
    "feature_list = data.iloc[:, :-1].columns\n",
    "feature_list "
   ]
  },
  {
   "cell_type": "code",
   "execution_count": 36,
   "metadata": {},
   "outputs": [],
   "source": [
    "X = np.array(data.iloc[:, :-1])\n",
    "y = np.array(data.iloc[:, -1])"
   ]
  },
  {
   "cell_type": "code",
   "execution_count": 37,
   "metadata": {},
   "outputs": [
    {
     "data": {
      "text/plain": [
       "((595212, 143), (595212,))"
      ]
     },
     "execution_count": 37,
     "metadata": {},
     "output_type": "execute_result"
    }
   ],
   "source": [
    "X.shape, y.shape"
   ]
  },
  {
   "cell_type": "code",
   "execution_count": 8,
   "metadata": {},
   "outputs": [],
   "source": [
    "# No Tomek Links for now\n",
    "if False:\n",
    "    tl = TomekLinks(n_jobs=8, ratio='majority')\n",
    "    X_tl, y_tl = tl.fit_sample(X, y)\n",
    "\n",
    "    print('Before tomek links: size of X: ', X.shape)\n",
    "    print('After  tomek links: size of X: ', X_tl.shape)\n",
    "    print('Before tomek links: class0/class1 = %d / %d' % (len(y)-np.sum(y), np.sum(y)))\n",
    "    print('After  tomek links: class0/class1 = %d / %d' % (len(y_tl)-np.sum(y_tl), np.sum(y_tl)))"
   ]
  },
  {
   "cell_type": "code",
   "execution_count": null,
   "metadata": {},
   "outputs": [],
   "source": []
  },
  {
   "cell_type": "markdown",
   "metadata": {},
   "source": [
    "### Run classification multiple rounds with random train_test splitting (try 10 times)"
   ]
  },
  {
   "cell_type": "code",
   "execution_count": 38,
   "metadata": {},
   "outputs": [
    {
     "name": "stdout",
     "output_type": "stream",
     "text": [
      "XGB Mean Gini: 0.263+/-0.004, Best=0.269\n",
      "CPU times: user 7min 38s, sys: 2.62 s, total: 7min 41s\n",
      "Wall time: 1min 18s\n"
     ]
    },
    {
     "data": {
      "image/png": "[encoded data removed]",
      "text/plain": [
       "<matplotlib.figure.Figure at 0x7f82b0aca320>"
      ]
     },
     "metadata": {},
     "output_type": "display_data"
    }
   ],
   "source": [
    "%%time\n",
    "fig = plt.figure(figsize=(8, 4))\n",
    "ax21 = fig.add_subplot(1, 2, 1)\n",
    "ax22 = fig.add_subplot(1, 2, 2)\n",
    "\n",
    "neutral_line = np.linspace(0, 1, 10)\n",
    "ax21.plot(neutral_line, neutral_line, lw=1, ls='--')\n",
    "ax22.plot(neutral_line, 1- neutral_line, lw=1, ls='--')\n",
    "\n",
    "ginis_xgb = []\n",
    "\n",
    "for i in range(5):\n",
    "    \n",
    "    rstate = None\n",
    "    X_train, X_test, y_train, y_test = train_test_split(X, y, test_size=0.25, random_state=rstate)\n",
    "    \n",
    "    num_class1 = np.sum(y_train)\n",
    "    num_class1_to_resample = 2 * num_class1\n",
    "    num_class0_to_resample = int(1 * num_class1_to_resample)\n",
    "\n",
    "    # First, randomly undersample the majority\n",
    "    rus = RandomUnderSampler(ratio={0: num_class0_to_resample , 1: num_class1})\n",
    "    X_tlrus, y_tlrus = rus.fit_sample(X_train, y_train)\n",
    "\n",
    "    # Then use SMOTE to oversample the minority\n",
    "    smote = SMOTE(ratio={0: num_class0_to_resample , 1: num_class1_to_resample}, n_jobs=4)\n",
    "    X_res, y_res = smote.fit_sample(X_tlrus, y_tlrus)\n",
    "\n",
    "    # GradientBoost\n",
    "    clf = XGBClassifier(gamma=1, max_depth=8, colsample_bytree=0.5, n_estimators=200, n_jobs=8)\n",
    "    clf.fit(X_res, y_res)\n",
    "\n",
    "    y_pred2 = clf.predict(X_test)\n",
    "    y_proba2 = clf.predict_proba(X_test)\n",
    "    ginis_xgb.append(my_gini(y_test, y_proba2))\n",
    "    report2 = classification_report(y_test, y_pred2, digits=4,\n",
    "                                   labels=None, target_names=None)\n",
    "\n",
    "    precision2, recall2, _ = precision_recall_curve(y_test, y_proba2[:, 1], pos_label=1)\n",
    "    fpr2, tpr2, _ = roc_curve(y_test, y_proba2[:, 1], pos_label=1)\n",
    "    ax21.plot(fpr2, tpr2)\n",
    "    ax21.set_xlabel('False Positive Rate')\n",
    "    ax21.set_ylabel('True Positive Rate')\n",
    "    ax21.set_title('GradientBoost ROC')\n",
    "    ax22.plot(recall2, precision2)\n",
    "    ax22.set_xlabel('Recall')\n",
    "    ax22.set_ylabel('Precision')\n",
    "    ax22.set_title('GradientBoost Precision-Recall')\n",
    "\n",
    "plt.tight_layout()\n",
    "\n",
    "print('XGB Mean Gini: %.3f+/-%.3f, Best=%.3f' % (np.mean(ginis_xgb), np.std(ginis_xgb), np.max(ginis_xgb)))"
   ]
  },
  {
   "cell_type": "markdown",
   "metadata": {},
   "source": [
    "## Recursive Feature Elimination with XGBoost"
   ]
  },
  {
   "cell_type": "code",
   "execution_count": 40,
   "metadata": {},
   "outputs": [],
   "source": [
    "rstate = None\n",
    "#X_train, X_test, y_train, y_test = train_test_split(X, y, test_size=0.3, random_state=rstate)\n",
    "\n",
    "num_class1 = np.sum(y)\n",
    "num_class1_to_resample = 2 * num_class1\n",
    "num_class0_to_resample = int(1 * num_class1_to_resample)\n",
    "\n",
    "# First, randomly undersample the majority\n",
    "rus = RandomUnderSampler(ratio={0: num_class0_to_resample , 1: num_class1})\n",
    "X_tlrus, y_tlrus = rus.fit_sample(X, y)\n",
    "\n",
    "# Then use SMOTE to oversample the minority\n",
    "smote = SMOTE(ratio={0: num_class0_to_resample , 1: num_class1_to_resample}, n_jobs=4)\n",
    "X_res, y_res = smote.fit_sample(X_tlrus, y_tlrus)"
   ]
  },
  {
   "cell_type": "code",
   "execution_count": 41,
   "metadata": {
    "scrolled": true
   },
   "outputs": [
    {
     "name": "stdout",
     "output_type": "stream",
     "text": [
      "CPU times: user 1h 24min 34s, sys: 6.01 s, total: 1h 24min 40s\n",
      "Wall time: 11min 3s\n"
     ]
    }
   ],
   "source": [
    "%%time\n",
    "xgb = XGBClassifier(gamma=1, max_depth=8, colsample_bytree=0.5, n_estimators=200, n_jobs=8)\n",
    "selector = RFECV(xgb, step=1, cv=5, scoring=gini_scorer)\n",
    "selector = selector.fit(X_res, y_res)"
   ]
  },
  {
   "cell_type": "code",
   "execution_count": 43,
   "metadata": {},
   "outputs": [],
   "source": [
    "rankings = pd.Series(selector.ranking_)\n",
    "rfe_feature_list = list(feature_list[rankings == 1])"
   ]
  },
  {
   "cell_type": "code",
   "execution_count": 44,
   "metadata": {},
   "outputs": [
    {
     "name": "stdout",
     "output_type": "stream",
     "text": [
      "# features before RFE: 143\n",
      "# features after  RFE: 143\n"
     ]
    }
   ],
   "source": [
    "print('# features before RFE: %d' % (len(feature_list)))\n",
    "print('# features after  RFE: %d' % (len(rfe_feature_list)))"
   ]
  },
  {
   "cell_type": "code",
   "execution_count": null,
   "metadata": {},
   "outputs": [],
   "source": []
  },
  {
   "cell_type": "code",
   "execution_count": 25,
   "metadata": {},
   "outputs": [
    {
     "name": "stdout",
     "output_type": "stream",
     "text": [
      "XGB Mean Gini: 0.272+/-0.009, Best=0.286\n",
      "CPU times: user 8min 35s, sys: 2.41 s, total: 8min 38s\n",
      "Wall time: 1min 29s\n"
     ]
    },
    {
     "data": {
      "image/png": "[encoded data removed]",
      "text/plain": [
       "<matplotlib.figure.Figure at 0x7f82b0db7c50>"
      ]
     },
     "metadata": {},
     "output_type": "display_data"
    }
   ],
   "source": [
    "%%time\n",
    "fig = plt.figure(figsize=(8, 4))\n",
    "ax21 = fig.add_subplot(1, 2, 1)\n",
    "ax22 = fig.add_subplot(1, 2, 2)\n",
    "\n",
    "neutral_line = np.linspace(0, 1, 10)\n",
    "ax21.plot(neutral_line, neutral_line, lw=1, ls='--')\n",
    "ax22.plot(neutral_line, 1- neutral_line, lw=1, ls='--')\n",
    "\n",
    "ginis_xgb = []\n",
    "\n",
    "X_new = np.array(data.loc[:, rfe_feature_list])\n",
    "y = np.array(data.iloc[:, -1])\n",
    "\n",
    "for i in range(5):\n",
    "    \n",
    "    rstate = None\n",
    "    X_train, X_test, y_train, y_test = train_test_split(X_new, y, test_size=0.1, random_state=rstate)\n",
    "    \n",
    "    num_class1 = np.sum(y_train)\n",
    "    num_class1_to_resample = 2 * num_class1\n",
    "    num_class0_to_resample = int(1 * num_class1_to_resample)\n",
    "\n",
    "    # First, randomly undersample the majority\n",
    "    rus = RandomUnderSampler(ratio={0: num_class0_to_resample , 1: num_class1})\n",
    "    X_tlrus, y_tlrus = rus.fit_sample(X_train, y_train)\n",
    "\n",
    "    # Then use SMOTE to oversample the minority\n",
    "    smote = SMOTE(ratio={0: num_class0_to_resample , 1: num_class1_to_resample}, n_jobs=4)\n",
    "    X_res, y_res = smote.fit_sample(X_tlrus, y_tlrus)\n",
    "\n",
    "    # GradientBoost\n",
    "    clf = XGBClassifier(gamma=1, max_depth=8, colsample_bytree=0.5, n_estimators=200, n_jobs=8)\n",
    "    clf.fit(X_res, y_res)\n",
    "\n",
    "    y_pred2 = clf.predict(X_test)\n",
    "    y_proba2 = clf.predict_proba(X_test)\n",
    "    ginis_xgb.append(my_gini(y_test, y_proba2))\n",
    "    report2 = classification_report(y_test, y_pred2, digits=4,\n",
    "                                   labels=None, target_names=None)\n",
    "\n",
    "    precision2, recall2, _ = precision_recall_curve(y_test, y_proba2[:, 1], pos_label=1)\n",
    "    fpr2, tpr2, _ = roc_curve(y_test, y_proba2[:, 1], pos_label=1)\n",
    "    ax21.plot(fpr2, tpr2)\n",
    "    ax21.set_xlabel('False Positive Rate')\n",
    "    ax21.set_ylabel('True Positive Rate')\n",
    "    ax21.set_title('GradientBoost ROC')\n",
    "    ax22.plot(recall2, precision2)\n",
    "    ax22.set_xlabel('Recall')\n",
    "    ax22.set_ylabel('Precision')\n",
    "    ax22.set_title('GradientBoost Precision-Recall')\n",
    "\n",
    "plt.tight_layout()\n",
    "\n",
    "print('XGB Mean Gini: %.3f+/-%.3f, Best=%.3f' % (np.mean(ginis_xgb), np.std(ginis_xgb), np.max(ginis_xgb)))"
   ]
  },
  {
   "cell_type": "code",
   "execution_count": null,
   "metadata": {},
   "outputs": [],
   "source": []
  },
  {
   "cell_type": "code",
   "execution_count": null,
   "metadata": {},
   "outputs": [],
   "source": []
  },
  {
   "cell_type": "code",
   "execution_count": null,
   "metadata": {},
   "outputs": [],
   "source": []
  },
  {
   "cell_type": "code",
   "execution_count": null,
   "metadata": {},
   "outputs": [],
   "source": []
  },
  {
   "cell_type": "code",
   "execution_count": null,
   "metadata": {},
   "outputs": [],
   "source": []
  },
  {
   "cell_type": "code",
   "execution_count": null,
   "metadata": {},
   "outputs": [],
   "source": []
  }
 ],
 "metadata": {
  "kernelspec": {
   "display_name": "Python 3",
   "language": "python",
   "name": "python3"
  },
  "language_info": {
   "codemirror_mode": {
    "name": "ipython",
    "version": 3
   },
   "file_extension": ".py",
   "mimetype": "text/x-python",
   "name": "python",
   "nbconvert_exporter": "python",
   "pygments_lexer": "ipython3",
   "version": "3.6.2"
  }
 },
 "nbformat": 4,
 "nbformat_minor": 2
}
