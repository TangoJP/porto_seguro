{
 "cells": [
  {
   "cell_type": "code",
   "execution_count": 3,
   "metadata": {},
   "outputs": [],
   "source": [
    "import pandas as pd\n",
    "import numpy as np\n",
    "import matplotlib.pyplot as plt\n",
    "import scipy\n",
    "import seaborn as sns\n",
    "\n",
    "from matplotlib import cm\n",
    "from sklearn.decomposition import PCA\n",
    "from sklearn.preprocessing import Normalizer\n",
    "%matplotlib inline"
   ]
  },
  {
   "cell_type": "code",
   "execution_count": 4,
   "metadata": {},
   "outputs": [],
   "source": [
    "if True:\n",
    "    from sklearn.model_selection import train_test_split\n",
    "    from sklearn.metrics import classification_report, roc_curve, precision_recall_curve\n",
    "    from sklearn.ensemble import RandomForestClassifier\n",
    "    from sklearn.discriminant_analysis import LinearDiscriminantAnalysis\n",
    "    from xgboost import XGBClassifier\n",
    "    from sklearn.naive_bayes import MultinomialNB\n",
    "    from sklearn.svm import LinearSVC\n",
    "    from sklearn.linear_model import LogisticRegression\n",
    "    from sklearn.linear_model import SGDClassifier"
   ]
  },
  {
   "cell_type": "code",
   "execution_count": 7,
   "metadata": {},
   "outputs": [],
   "source": [
    "# from CPMP's kernel https://www.kaggle.com/cpmpml/extremely-fast-gini-computation\n",
    "def eval_gini(y_true, y_prob):\n",
    "    y_true = np.asarray(y_true)\n",
    "    y_true = y_true[np.argsort(y_prob)]\n",
    "    ntrue = 0\n",
    "    gini = 0\n",
    "    delta = 0\n",
    "    n = len(y_true)\n",
    "    for i in range(n-1, -1, -1):\n",
    "        y_i = y_true[i]\n",
    "        ntrue += y_i\n",
    "        gini += y_i * delta\n",
    "        delta += 1 - y_i\n",
    "    gini = 1 - 2 * gini / (ntrue * (n - ntrue))\n",
    "    return gini"
   ]
  },
  {
   "cell_type": "code",
   "execution_count": 8,
   "metadata": {},
   "outputs": [],
   "source": [
    "data = pd.read_csv('./data/select_train_data10.csv')"
   ]
  },
  {
   "cell_type": "code",
   "execution_count": 9,
   "metadata": {},
   "outputs": [],
   "source": [
    "def calculate_conditional_probas_ofClass1(feature_vector, target):\n",
    "    '''\n",
    "    Calculate conditional probability of being in class1 for\n",
    "    each value of the feature, and replace the feature_vector\n",
    "    with a new one whose values are now those conditional\n",
    "    probabilities.\n",
    "    \n",
    "    feature_vector and the target must be pd.Series of the \n",
    "    same length.\n",
    "    '''\n",
    "    unique_values = feature_vector.unique()\n",
    "    cond_probas = {}\n",
    "    for val in unique_values:\n",
    "        data_val = feature_vector[feature_vector == val]\n",
    "        if len(data_val) != 0:\n",
    "            data_val_class1 = feature_vector[(feature_vector == val) & (target == 1)]\n",
    "            cond_proba_for_val = len(data_val_class1)/len(data_val)\n",
    "        else:\n",
    "            cond_proba_for_val = 0\n",
    "        cond_probas[val] = cond_proba_for_val\n",
    "    \n",
    "    feature_class1_prob_vector = feature_vector.replace(cond_probas)\n",
    "    \n",
    "    return feature_class1_prob_vector\n",
    "\n",
    "def calculate_conditional_probas_ofClass0(feature_vector, target):\n",
    "    '''\n",
    "    Calculate conditional probability of being in class0 for\n",
    "    each value of the feature, and replace the feature_vector\n",
    "    with a new one whose values are now those conditional\n",
    "    probabilities.\n",
    "    \n",
    "    feature_vector and the target must be pd.Series of the \n",
    "    same length.\n",
    "    '''\n",
    "    unique_values = feature_vector.unique()\n",
    "    cond_probas = {}\n",
    "    for val in unique_values:\n",
    "        data_val = feature_vector[feature_vector == val]\n",
    "        if len(data_val) != 0:\n",
    "            data_val_class0 = feature_vector[(feature_vector == val) & (target == 0)]\n",
    "            cond_proba_for_val = len(data_val_class0)/len(data_val)\n",
    "        else:\n",
    "            cond_proba_for_val = 0\n",
    "        cond_probas[val] = cond_proba_for_val\n",
    "    \n",
    "    feature_class0_prob_vector = feature_vector.replace(cond_probas)\n",
    "    \n",
    "    return feature_class0_prob_vector"
   ]
  },
  {
   "cell_type": "code",
   "execution_count": 11,
   "metadata": {},
   "outputs": [
    {
     "data": {
      "text/plain": [
       "array([ 0.96359593,  0.96335827,  0.96330072,  0.96399087,  0.96380623,\n",
       "        0.96124237,  0.94623656])"
      ]
     },
     "execution_count": 11,
     "metadata": {},
     "output_type": "execute_result"
    }
   ],
   "source": [
    "# Testing the function above\n",
    "calculate_conditional_probas_ofClass0(data.iloc[:, 0], data.iloc[:, -1]).unique()"
   ]
  },
  {
   "cell_type": "code",
   "execution_count": 14,
   "metadata": {},
   "outputs": [],
   "source": [
    "data2 = pd.DataFrame()\n",
    "for col in data.iloc[:, :-1].columns:\n",
    "    data2[col] = calculate_conditional_probas_ofClass0(data[col], data.iloc[:, -1])\n",
    "data2['target'] = data.target"
   ]
  },
  {
   "cell_type": "code",
   "execution_count": 15,
   "metadata": {},
   "outputs": [
    {
     "name": "stdout",
     "output_type": "stream",
     "text": [
      "ps_calc_05 probas:  \n",
      " [ 0.96359593  0.96335827  0.96330072  0.96399087  0.96380623  0.96124237\n",
      "  0.94623656]\n",
      "ps_calc_07 probas:  \n",
      " [ 0.96271768  0.9646544   0.96403635  0.96361637  0.96315112  0.96196638\n",
      "  0.96370177  0.95891349  0.96892139  0.91304348]\n",
      "ps_calc_13 probas:  \n",
      " [ 0.96332478  0.96370822  0.96473689  0.96323875  0.96265375  0.96363623\n",
      "  0.96421788  0.96368438  0.96187532  0.96866097  0.96551724  0.97727273\n",
      "  0.95        0.75      ]\n",
      "ps_calc_14 probas:  \n",
      " [ 0.96428441  0.96300028  0.96387572  0.96552026  0.96380334  0.96308887\n",
      "  0.96273564  0.96287598  0.96398723  0.96091722  0.96266398  0.96436766\n",
      "  0.95858343  0.96399016  0.96622185  0.96238688  0.96462585  0.96129032\n",
      "  0.9389313   0.9787234   0.9704918   1.        ]\n",
      "ps_car_12 probas:  \n",
      " [ 0.9600922   0.96864521  0.93532878  0.94755645  0.9378795   0.94736842\n",
      "  0.95238095  0.86956522  1.        ]\n",
      "ps_car_13 probas:  \n",
      " [ 0.95915084  0.97366181  0.96939249  0.9769499   0.96143353  0.96685174\n",
      "  0.93421053  0.95308461  0.92743222  0.97846187  0.94549003  0.94748029\n",
      "  0.97638436  0.95106108  0.92696407  0.93088303  0.94631922  0.91896493\n",
      "  0.93904762  0.90962099  0.93269231  0.92082111  0.88461538  0.95833333\n",
      "  0.92957746  0.92079208  0.9245283   1.          0.83333333  0.9266055\n",
      "  0.57142857  0.        ]\n",
      "ps_ind_03 probas:  \n",
      " [ 0.9611802   0.95857841  0.96461708  0.96965976  0.93715354  0.96683677\n",
      "  0.97044149  0.96286437  0.95892603  0.95819952  0.96105075  0.95947252]\n",
      "ps_ind_14 probas:  \n",
      " [ 0.96369932  0.95031847  0.9516129   0.93382353  0.8       ]\n",
      "ps_reg_02 probas:  \n",
      " [ 0.97099734  0.96347873  0.96622507  0.95707116  0.93709099  0.97570405\n",
      "  0.95747289  0.95215937  0.95306171  0.9662433   0.96068769  0.95559351\n",
      "  0.95735879  0.95144971  0.94367026  0.95500428  0.94963075  0.95459765\n",
      "  0.94350282]\n",
      "ps_reg_03 probas:  \n",
      " [ 0.96470017  0.97160673  0.97074201  0.96062613  0.92827004  0.96640196\n",
      "  0.95678792  0.97400701  0.95775338  0.970702    0.95488326  0.95480968\n",
      "  0.95489763  0.94950226  0.95450345  0.9504065   0.94220846  0.95043018\n",
      "  0.9388668   0.94936421  0.9351145   0.97628458  0.88888889  0.94285714\n",
      "  0.96296296  1.          0.95238095  0.96721311  0.5         0.94230769]\n",
      "ps_ind_07_bin probas:  \n",
      " [ 0.95265019  0.96732418]\n",
      "ps_ind_10_bin probas:  \n",
      " [ 0.96355905  0.94594595]\n",
      "ps_ind_12_bin probas:  \n",
      " [ 0.96369536  0.94855821]\n",
      "ps_ind_13_bin probas:  \n",
      " [ 0.96356668  0.94858156]\n",
      "ps_ind_17_bin probas:  \n",
      " [ 0.94484452  0.96612972]\n",
      "ps_car_04_cat_5 probas:  \n",
      " [ 0.96358466  0.92844037]\n",
      "ps_car_04_cat_6 probas:  \n",
      " [ 0.96361168  0.94102564]\n",
      "ps_car_04_cat_7 probas:  \n",
      " [ 0.96356581  0.90647482]\n",
      "ps_car_04_cat_9 probas:  \n",
      " [ 0.96439295  0.93811075]\n",
      "ps_car_06_cat_17 probas:  \n",
      " [ 0.96378141  0.93617021]\n",
      "ps_car_06_cat_2 probas:  \n",
      " [ 0.96363238  0.93403858]\n",
      "ps_car_06_cat_5 probas:  \n",
      " [ 0.96362479  0.93290507]\n",
      "ps_car_06_cat_8 probas:  \n",
      " [ 0.96363085  0.9305949 ]\n",
      "ps_car_09_cat_1 probas:  \n",
      " [ 0.96460543  0.94305365]\n",
      "ps_car_11_cat_18 probas:  \n",
      " [ 0.96361488  0.93349554]\n",
      "ps_car_11_cat_21 probas:  \n",
      " [ 0.96364299  0.94141914]\n",
      "ps_car_11_cat_4 probas:  \n",
      " [ 0.96361789  0.93922306]\n",
      "ps_car_11_cat_41 probas:  \n",
      " [ 0.96376028  0.92489001]\n",
      "ps_car_11_cat_58 probas:  \n",
      " [ 0.96361251  0.93920765]\n",
      "ps_car_11_cat_63 probas:  \n",
      " [ 0.96359759  0.93925657]\n",
      "ps_car_11_cat_75 probas:  \n",
      " [ 0.96362803  0.93682956]\n",
      "ps_car_11_cat_93 probas:  \n",
      " [ 0.96366252  0.94131696]\n",
      "ps_car_11_cat_97 probas:  \n",
      " [ 0.9636096   0.94070081]\n",
      "ps_ind_05_cat_2 probas:  \n",
      " [ 0.96382912  0.92447419]\n",
      "ps_ind_05_cat_6 probas:  \n",
      " [ 0.9643756   0.94066402]\n",
      "target probas:  \n",
      " [0 1]\n"
     ]
    }
   ],
   "source": [
    "for col in data2.columns:\n",
    "    print('%s probas: ' % col, '\\n', data2[col].unique())"
   ]
  },
  {
   "cell_type": "code",
   "execution_count": 19,
   "metadata": {},
   "outputs": [],
   "source": [
    "data2['joint_cond_proba_class0'] = 1\n",
    "for i, col in enumerate(data2.iloc[:, :-2].columns):\n",
    "    data2['joint_cond_proba_class0'] = data2['joint_cond_proba_class0'] * data2[col]"
   ]
  },
  {
   "cell_type": "code",
   "execution_count": 21,
   "metadata": {},
   "outputs": [
    {
     "data": {
      "text/plain": [
       "0    0.265083\n",
       "1    0.279243\n",
       "2    0.282496\n",
       "3    0.286621\n",
       "4    0.270507\n",
       "5    0.257422\n",
       "6    0.281730\n",
       "7    0.274870\n",
       "8    0.273989\n",
       "9    0.250991\n",
       "Name: joint_cond_proba_class0, dtype: float64"
      ]
     },
     "execution_count": 21,
     "metadata": {},
     "output_type": "execute_result"
    }
   ],
   "source": [
    "data2.iloc[:, -1].head(10)"
   ]
  },
  {
   "cell_type": "code",
   "execution_count": 23,
   "metadata": {},
   "outputs": [],
   "source": [
    "data2_class0 = data2[data2.target == 0]\n",
    "data2_class1 = data2[data2.target == 1]"
   ]
  },
  {
   "cell_type": "code",
   "execution_count": 25,
   "metadata": {},
   "outputs": [
    {
     "data": {
      "text/plain": [
       "(array([  7.98986757e-03,   0.00000000e+00,   0.00000000e+00,\n",
       "          0.00000000e+00,   0.00000000e+00,   0.00000000e+00,\n",
       "          0.00000000e+00,   0.00000000e+00,   0.00000000e+00,\n",
       "          0.00000000e+00,   0.00000000e+00,   0.00000000e+00,\n",
       "          0.00000000e+00,   0.00000000e+00,   0.00000000e+00,\n",
       "          0.00000000e+00,   0.00000000e+00,   0.00000000e+00,\n",
       "          0.00000000e+00,   0.00000000e+00,   0.00000000e+00,\n",
       "          0.00000000e+00,   0.00000000e+00,   7.98986757e-03,\n",
       "          3.19594703e-02,   1.59797351e-02,   0.00000000e+00,\n",
       "          0.00000000e+00,   0.00000000e+00,   0.00000000e+00,\n",
       "          0.00000000e+00,   0.00000000e+00,   7.98986757e-03,\n",
       "          0.00000000e+00,   0.00000000e+00,   3.99493378e-02,\n",
       "          3.99493378e-02,   9.58784108e-02,   2.55675762e-01,\n",
       "          7.27077948e-01,   1.85364928e+00,   2.73253471e+00,\n",
       "          3.71528842e+00,   6.21611697e+00,   1.23683150e+01,\n",
       "          2.31786058e+01,   3.61301811e+01,   4.49350152e+01,\n",
       "          3.22710751e+01,   8.70096578e+00]),\n",
       " array([ 0.        ,  0.00576927,  0.01153854,  0.01730781,  0.02307708,\n",
       "         0.02884634,  0.03461561,  0.04038488,  0.04615415,  0.05192342,\n",
       "         0.05769269,  0.06346196,  0.06923123,  0.0750005 ,  0.08076976,\n",
       "         0.08653903,  0.0923083 ,  0.09807757,  0.10384684,  0.10961611,\n",
       "         0.11538538,  0.12115465,  0.12692392,  0.13269319,  0.13846245,\n",
       "         0.14423172,  0.15000099,  0.15577026,  0.16153953,  0.1673088 ,\n",
       "         0.17307807,  0.17884734,  0.18461661,  0.19038587,  0.19615514,\n",
       "         0.20192441,  0.20769368,  0.21346295,  0.21923222,  0.22500149,\n",
       "         0.23077076,  0.23654003,  0.24230929,  0.24807856,  0.25384783,\n",
       "         0.2596171 ,  0.26538637,  0.27115564,  0.27692491,  0.28269418,\n",
       "         0.28846345]),\n",
       " <a list of 50 Patch objects>)"
      ]
     },
     "execution_count": 25,
     "metadata": {},
     "output_type": "execute_result"
    },
    {
     "data": {
      "image/png": "[encoded data removed]",
      "text/plain": [
       "<matplotlib.figure.Figure at 0x7f6cdf2ed710>"
      ]
     },
     "metadata": {},
     "output_type": "display_data"
    }
   ],
   "source": [
    "plt.hist(data2_class0['joint_cond_proba_class0'], bins=50, normed=True, color='blue', label='Class0')\n",
    "plt.hist(data2_class1['joint_cond_proba_class0'], bins=50, normed=True, color='red', label='Class1')"
   ]
  },
  {
   "cell_type": "code",
   "execution_count": null,
   "metadata": {},
   "outputs": [],
   "source": []
  },
  {
   "cell_type": "markdown",
   "metadata": {},
   "source": [
    "## Conditional of class1"
   ]
  },
  {
   "cell_type": "code",
   "execution_count": 65,
   "metadata": {},
   "outputs": [],
   "source": [
    "data3 = pd.DataFrame()\n",
    "for col in data.iloc[:, :-1].columns:\n",
    "    data3[col] = calculate_conditional_probas_ofClass1(data[col], data.iloc[:, -1])\n",
    "data3['target'] = data.target"
   ]
  },
  {
   "cell_type": "code",
   "execution_count": 66,
   "metadata": {},
   "outputs": [],
   "source": [
    "data3['joint_cond_proba_class0'] = 1\n",
    "for i, col in enumerate(data3.iloc[:, :-2].columns):\n",
    "    data3['joint_cond_proba_class0'] = data3['joint_cond_proba_class0'] * (data3[col])"
   ]
  },
  {
   "cell_type": "code",
   "execution_count": 67,
   "metadata": {},
   "outputs": [
    {
     "data": {
      "text/plain": [
       "count    5.952120e+05\n",
       "mean     6.185365e-51\n",
       "std      1.382217e-50\n",
       "min      0.000000e+00\n",
       "25%      2.184237e-51\n",
       "50%      3.426867e-51\n",
       "75%      5.931288e-51\n",
       "max      2.563327e-48\n",
       "Name: joint_cond_proba_class0, dtype: float64"
      ]
     },
     "execution_count": 67,
     "metadata": {},
     "output_type": "execute_result"
    }
   ],
   "source": [
    "data3.iloc[:, -1].describe()"
   ]
  },
  {
   "cell_type": "code",
   "execution_count": 68,
   "metadata": {},
   "outputs": [],
   "source": [
    "data3['score'] = data3.iloc[:, -1] * 1e51"
   ]
  },
  {
   "cell_type": "code",
   "execution_count": 75,
   "metadata": {},
   "outputs": [
    {
     "data": {
      "text/plain": [
       "count     595212.000000\n",
       "mean           6.185365\n",
       "std           13.822167\n",
       "min            0.000000\n",
       "25%            2.184237\n",
       "50%            3.426867\n",
       "70%            5.205755\n",
       "75%            5.931288\n",
       "90%           10.675143\n",
       "95%           17.271274\n",
       "99%           53.847349\n",
       "99.9%        153.866055\n",
       "99.99%       360.080170\n",
       "max         2563.326564\n",
       "Name: score, dtype: float64"
      ]
     },
     "execution_count": 75,
     "metadata": {},
     "output_type": "execute_result"
    }
   ],
   "source": [
    "data3.score.describe(percentiles=[0.25, 0.7, 0.75, 0.9, 0.95, 0.99, 0.999, 0.9999])"
   ]
  },
  {
   "cell_type": "code",
   "execution_count": 95,
   "metadata": {},
   "outputs": [
    {
     "data": {
      "text/plain": [
       "(0, 20)"
      ]
     },
     "execution_count": 95,
     "metadata": {},
     "output_type": "execute_result"
    },
    {
     "data": {
      "image/png": "[encoded data removed]",
      "text/plain": [
       "<matplotlib.figure.Figure at 0x7f6ccc9d9fd0>"
      ]
     },
     "metadata": {},
     "output_type": "display_data"
    }
   ],
   "source": [
    "data3_class0 = data3[(data3.target == 0) & (data3.score <= 100)]\n",
    "data3_class1 = data3[(data3.target == 1) & (data3.score <= 100)]\n",
    "\n",
    "plt.hist(data3_class0['score'], bins=200, normed=True, color='blue', alpha=0.2, label='Class0')\n",
    "plt.hist(data3_class1['score'], bins=200, normed=True, color='red', alpha=0.2, label='Class1')\n",
    "plt.xlim([0, 20])"
   ]
  },
  {
   "cell_type": "code",
   "execution_count": null,
   "metadata": {},
   "outputs": [],
   "source": []
  },
  {
   "cell_type": "markdown",
   "metadata": {},
   "source": [
    "# Try cond_prob ratio"
   ]
  },
  {
   "cell_type": "code",
   "execution_count": 89,
   "metadata": {},
   "outputs": [],
   "source": [
    "data4 = pd.DataFrame()\n",
    "for col in data.iloc[:, :-1].columns:\n",
    "    data4[col] = data3[col] / data2[col]\n",
    "data4 = data4.replace({np.inf: 1})\n",
    "data4['target'] = data.target"
   ]
  },
  {
   "cell_type": "code",
   "execution_count": 90,
   "metadata": {},
   "outputs": [
    {
     "data": {
      "text/html": [
       "<div>\n",
       "<style scoped>\n",
       "    .dataframe tbody tr th:only-of-type {\n",
       "        vertical-align: middle;\n",
       "    }\n",
       "\n",
       "    .dataframe tbody tr th {\n",
       "        vertical-align: top;\n",
       "    }\n",
       "\n",
       "    .dataframe thead th {\n",
       "        text-align: right;\n",
       "    }\n",
       "</style>\n",
       "<table border=\"1\" class=\"dataframe\">\n",
       "  <thead>\n",
       "    <tr style=\"text-align: right;\">\n",
       "      <th></th>\n",
       "      <th>ps_calc_05</th>\n",
       "      <th>ps_calc_07</th>\n",
       "      <th>ps_calc_13</th>\n",
       "      <th>ps_calc_14</th>\n",
       "      <th>ps_car_12</th>\n",
       "      <th>ps_car_13</th>\n",
       "      <th>ps_ind_03</th>\n",
       "      <th>ps_ind_14</th>\n",
       "      <th>ps_reg_02</th>\n",
       "      <th>ps_reg_03</th>\n",
       "      <th>...</th>\n",
       "      <th>ps_car_11_cat_4</th>\n",
       "      <th>ps_car_11_cat_41</th>\n",
       "      <th>ps_car_11_cat_58</th>\n",
       "      <th>ps_car_11_cat_63</th>\n",
       "      <th>ps_car_11_cat_75</th>\n",
       "      <th>ps_car_11_cat_93</th>\n",
       "      <th>ps_car_11_cat_97</th>\n",
       "      <th>ps_ind_05_cat_2</th>\n",
       "      <th>ps_ind_05_cat_6</th>\n",
       "      <th>target</th>\n",
       "    </tr>\n",
       "  </thead>\n",
       "  <tbody>\n",
       "    <tr>\n",
       "      <th>count</th>\n",
       "      <td>595212.000000</td>\n",
       "      <td>595212.000000</td>\n",
       "      <td>595212.000000</td>\n",
       "      <td>595212.000000</td>\n",
       "      <td>595212.000000</td>\n",
       "      <td>595212.000000</td>\n",
       "      <td>595212.000000</td>\n",
       "      <td>595212.000000</td>\n",
       "      <td>595212.000000</td>\n",
       "      <td>595212.000000</td>\n",
       "      <td>...</td>\n",
       "      <td>595212.000000</td>\n",
       "      <td>595212.000000</td>\n",
       "      <td>595212.000000</td>\n",
       "      <td>595212.000000</td>\n",
       "      <td>595212.000000</td>\n",
       "      <td>595212.000000</td>\n",
       "      <td>595212.000000</td>\n",
       "      <td>595212.000000</td>\n",
       "      <td>595212.000000</td>\n",
       "      <td>595212.000000</td>\n",
       "    </tr>\n",
       "    <tr>\n",
       "      <th>mean</th>\n",
       "      <td>0.037827</td>\n",
       "      <td>0.037827</td>\n",
       "      <td>0.037827</td>\n",
       "      <td>0.037827</td>\n",
       "      <td>0.037879</td>\n",
       "      <td>0.037951</td>\n",
       "      <td>0.037870</td>\n",
       "      <td>0.037829</td>\n",
       "      <td>0.037886</td>\n",
       "      <td>0.037886</td>\n",
       "      <td>...</td>\n",
       "      <td>0.037828</td>\n",
       "      <td>0.037836</td>\n",
       "      <td>0.037828</td>\n",
       "      <td>0.037827</td>\n",
       "      <td>0.037829</td>\n",
       "      <td>0.037829</td>\n",
       "      <td>0.037828</td>\n",
       "      <td>0.037839</td>\n",
       "      <td>0.037848</td>\n",
       "      <td>0.036448</td>\n",
       "    </tr>\n",
       "    <tr>\n",
       "      <th>std</th>\n",
       "      <td>0.000699</td>\n",
       "      <td>0.000893</td>\n",
       "      <td>0.000902</td>\n",
       "      <td>0.001015</td>\n",
       "      <td>0.007466</td>\n",
       "      <td>0.011775</td>\n",
       "      <td>0.006802</td>\n",
       "      <td>0.001671</td>\n",
       "      <td>0.007922</td>\n",
       "      <td>0.007991</td>\n",
       "      <td>...</td>\n",
       "      <td>0.001394</td>\n",
       "      <td>0.003180</td>\n",
       "      <td>0.001336</td>\n",
       "      <td>0.001157</td>\n",
       "      <td>0.001574</td>\n",
       "      <td>0.001724</td>\n",
       "      <td>0.001260</td>\n",
       "      <td>0.003690</td>\n",
       "      <td>0.004785</td>\n",
       "      <td>0.187401</td>\n",
       "    </tr>\n",
       "    <tr>\n",
       "      <th>min</th>\n",
       "      <td>0.037354</td>\n",
       "      <td>0.032075</td>\n",
       "      <td>0.023256</td>\n",
       "      <td>0.000000</td>\n",
       "      <td>0.000000</td>\n",
       "      <td>0.000000</td>\n",
       "      <td>0.030459</td>\n",
       "      <td>0.037668</td>\n",
       "      <td>0.024901</td>\n",
       "      <td>0.000000</td>\n",
       "      <td>...</td>\n",
       "      <td>0.037756</td>\n",
       "      <td>0.037602</td>\n",
       "      <td>0.037762</td>\n",
       "      <td>0.037778</td>\n",
       "      <td>0.037745</td>\n",
       "      <td>0.037708</td>\n",
       "      <td>0.037765</td>\n",
       "      <td>0.037528</td>\n",
       "      <td>0.036940</td>\n",
       "      <td>0.000000</td>\n",
       "    </tr>\n",
       "    <tr>\n",
       "      <th>25%</th>\n",
       "      <td>0.037553</td>\n",
       "      <td>0.037305</td>\n",
       "      <td>0.037684</td>\n",
       "      <td>0.037358</td>\n",
       "      <td>0.032370</td>\n",
       "      <td>0.031574</td>\n",
       "      <td>0.031290</td>\n",
       "      <td>0.037668</td>\n",
       "      <td>0.034936</td>\n",
       "      <td>0.030140</td>\n",
       "      <td>...</td>\n",
       "      <td>0.037756</td>\n",
       "      <td>0.037602</td>\n",
       "      <td>0.037762</td>\n",
       "      <td>0.037778</td>\n",
       "      <td>0.037745</td>\n",
       "      <td>0.037708</td>\n",
       "      <td>0.037765</td>\n",
       "      <td>0.037528</td>\n",
       "      <td>0.036940</td>\n",
       "      <td>0.000000</td>\n",
       "    </tr>\n",
       "    <tr>\n",
       "      <th>50%</th>\n",
       "      <td>0.037779</td>\n",
       "      <td>0.037757</td>\n",
       "      <td>0.037736</td>\n",
       "      <td>0.037556</td>\n",
       "      <td>0.032370</td>\n",
       "      <td>0.034285</td>\n",
       "      <td>0.038568</td>\n",
       "      <td>0.037668</td>\n",
       "      <td>0.034956</td>\n",
       "      <td>0.036592</td>\n",
       "      <td>...</td>\n",
       "      <td>0.037756</td>\n",
       "      <td>0.037602</td>\n",
       "      <td>0.037762</td>\n",
       "      <td>0.037778</td>\n",
       "      <td>0.037745</td>\n",
       "      <td>0.037708</td>\n",
       "      <td>0.037765</td>\n",
       "      <td>0.037528</td>\n",
       "      <td>0.036940</td>\n",
       "      <td>0.000000</td>\n",
       "    </tr>\n",
       "    <tr>\n",
       "      <th>75%</th>\n",
       "      <td>0.038035</td>\n",
       "      <td>0.038259</td>\n",
       "      <td>0.038072</td>\n",
       "      <td>0.038421</td>\n",
       "      <td>0.041567</td>\n",
       "      <td>0.042589</td>\n",
       "      <td>0.042239</td>\n",
       "      <td>0.037668</td>\n",
       "      <td>0.044416</td>\n",
       "      <td>0.045164</td>\n",
       "      <td>...</td>\n",
       "      <td>0.037756</td>\n",
       "      <td>0.037602</td>\n",
       "      <td>0.037762</td>\n",
       "      <td>0.037778</td>\n",
       "      <td>0.037745</td>\n",
       "      <td>0.037708</td>\n",
       "      <td>0.037765</td>\n",
       "      <td>0.037528</td>\n",
       "      <td>0.036940</td>\n",
       "      <td>0.000000</td>\n",
       "    </tr>\n",
       "    <tr>\n",
       "      <th>max</th>\n",
       "      <td>0.056818</td>\n",
       "      <td>0.095238</td>\n",
       "      <td>0.333333</td>\n",
       "      <td>0.065041</td>\n",
       "      <td>0.150000</td>\n",
       "      <td>1.000000</td>\n",
       "      <td>0.067061</td>\n",
       "      <td>0.250000</td>\n",
       "      <td>0.067132</td>\n",
       "      <td>1.000000</td>\n",
       "      <td>...</td>\n",
       "      <td>0.064710</td>\n",
       "      <td>0.081210</td>\n",
       "      <td>0.064727</td>\n",
       "      <td>0.064672</td>\n",
       "      <td>0.067430</td>\n",
       "      <td>0.062341</td>\n",
       "      <td>0.063037</td>\n",
       "      <td>0.081696</td>\n",
       "      <td>0.063079</td>\n",
       "      <td>1.000000</td>\n",
       "    </tr>\n",
       "  </tbody>\n",
       "</table>\n",
       "<p>8 rows × 36 columns</p>\n",
       "</div>"
      ],
      "text/plain": [
       "          ps_calc_05     ps_calc_07     ps_calc_13     ps_calc_14  \\\n",
       "count  595212.000000  595212.000000  595212.000000  595212.000000   \n",
       "mean        0.037827       0.037827       0.037827       0.037827   \n",
       "std         0.000699       0.000893       0.000902       0.001015   \n",
       "min         0.037354       0.032075       0.023256       0.000000   \n",
       "25%         0.037553       0.037305       0.037684       0.037358   \n",
       "50%         0.037779       0.037757       0.037736       0.037556   \n",
       "75%         0.038035       0.038259       0.038072       0.038421   \n",
       "max         0.056818       0.095238       0.333333       0.065041   \n",
       "\n",
       "           ps_car_12      ps_car_13      ps_ind_03      ps_ind_14  \\\n",
       "count  595212.000000  595212.000000  595212.000000  595212.000000   \n",
       "mean        0.037879       0.037951       0.037870       0.037829   \n",
       "std         0.007466       0.011775       0.006802       0.001671   \n",
       "min         0.000000       0.000000       0.030459       0.037668   \n",
       "25%         0.032370       0.031574       0.031290       0.037668   \n",
       "50%         0.032370       0.034285       0.038568       0.037668   \n",
       "75%         0.041567       0.042589       0.042239       0.037668   \n",
       "max         0.150000       1.000000       0.067061       0.250000   \n",
       "\n",
       "           ps_reg_02      ps_reg_03      ...        ps_car_11_cat_4  \\\n",
       "count  595212.000000  595212.000000      ...          595212.000000   \n",
       "mean        0.037886       0.037886      ...               0.037828   \n",
       "std         0.007922       0.007991      ...               0.001394   \n",
       "min         0.024901       0.000000      ...               0.037756   \n",
       "25%         0.034936       0.030140      ...               0.037756   \n",
       "50%         0.034956       0.036592      ...               0.037756   \n",
       "75%         0.044416       0.045164      ...               0.037756   \n",
       "max         0.067132       1.000000      ...               0.064710   \n",
       "\n",
       "       ps_car_11_cat_41  ps_car_11_cat_58  ps_car_11_cat_63  ps_car_11_cat_75  \\\n",
       "count     595212.000000     595212.000000     595212.000000     595212.000000   \n",
       "mean           0.037836          0.037828          0.037827          0.037829   \n",
       "std            0.003180          0.001336          0.001157          0.001574   \n",
       "min            0.037602          0.037762          0.037778          0.037745   \n",
       "25%            0.037602          0.037762          0.037778          0.037745   \n",
       "50%            0.037602          0.037762          0.037778          0.037745   \n",
       "75%            0.037602          0.037762          0.037778          0.037745   \n",
       "max            0.081210          0.064727          0.064672          0.067430   \n",
       "\n",
       "       ps_car_11_cat_93  ps_car_11_cat_97  ps_ind_05_cat_2  ps_ind_05_cat_6  \\\n",
       "count     595212.000000     595212.000000    595212.000000    595212.000000   \n",
       "mean           0.037829          0.037828         0.037839         0.037848   \n",
       "std            0.001724          0.001260         0.003690         0.004785   \n",
       "min            0.037708          0.037765         0.037528         0.036940   \n",
       "25%            0.037708          0.037765         0.037528         0.036940   \n",
       "50%            0.037708          0.037765         0.037528         0.036940   \n",
       "75%            0.037708          0.037765         0.037528         0.036940   \n",
       "max            0.062341          0.063037         0.081696         0.063079   \n",
       "\n",
       "              target  \n",
       "count  595212.000000  \n",
       "mean        0.036448  \n",
       "std         0.187401  \n",
       "min         0.000000  \n",
       "25%         0.000000  \n",
       "50%         0.000000  \n",
       "75%         0.000000  \n",
       "max         1.000000  \n",
       "\n",
       "[8 rows x 36 columns]"
      ]
     },
     "execution_count": 90,
     "metadata": {},
     "output_type": "execute_result"
    }
   ],
   "source": [
    "data4.describe()"
   ]
  },
  {
   "cell_type": "code",
   "execution_count": 91,
   "metadata": {},
   "outputs": [],
   "source": [
    "data4['joint_cond_proba_class0'] = 1\n",
    "for i, col in enumerate(data4.iloc[:, :-2].columns):\n",
    "    data4['joint_cond_proba_class0'] = data4['joint_cond_proba_class0'] * (data4[col])"
   ]
  },
  {
   "cell_type": "code",
   "execution_count": 93,
   "metadata": {},
   "outputs": [],
   "source": [
    "data4['score'] = data4.iloc[:, -1] * (1e51)"
   ]
  },
  {
   "cell_type": "code",
   "execution_count": 96,
   "metadata": {},
   "outputs": [
    {
     "data": {
      "text/plain": [
       "count     595212.000000\n",
       "mean          24.028002\n",
       "std           69.109067\n",
       "min            0.000000\n",
       "25%            7.819659\n",
       "50%           12.485099\n",
       "75%           22.098391\n",
       "90%           40.849275\n",
       "99%          224.539639\n",
       "99.9%        676.085633\n",
       "99.99%      1738.598996\n",
       "max        19274.920078\n",
       "Name: score, dtype: float64"
      ]
     },
     "execution_count": 96,
     "metadata": {},
     "output_type": "execute_result"
    }
   ],
   "source": [
    "data4.score.describe(percentiles=[0.25, 0.5, 0.75, 0.9, 0.99, 0.999, 0.9999])"
   ]
  },
  {
   "cell_type": "code",
   "execution_count": 98,
   "metadata": {},
   "outputs": [
    {
     "data": {
      "text/plain": [
       "(0, 200)"
      ]
     },
     "execution_count": 98,
     "metadata": {},
     "output_type": "execute_result"
    },
    {
     "data": {
      "image/png": "[encoded data removed]",
      "text/plain": [
       "<matplotlib.figure.Figure at 0x7f6cccaf0a58>"
      ]
     },
     "metadata": {},
     "output_type": "display_data"
    }
   ],
   "source": [
    "data4_class0 = data4[(data4.target == 0) & (data4.score <= 300)]\n",
    "data4_class1 = data4[(data4.target == 1) & (data4.score <= 300)]\n",
    "\n",
    "plt.hist(data4_class0['score'], bins=200, normed=True, color='blue', alpha=0.2, label='Class0')\n",
    "plt.hist(data4_class1['score'], bins=200, normed=True, color='red', alpha=0.2, label='Class1')\n",
    "plt.xlim([0, 200])"
   ]
  },
  {
   "cell_type": "code",
   "execution_count": null,
   "metadata": {},
   "outputs": [],
   "source": []
  },
  {
   "cell_type": "code",
   "execution_count": null,
   "metadata": {},
   "outputs": [],
   "source": []
  },
  {
   "cell_type": "code",
   "execution_count": null,
   "metadata": {},
   "outputs": [],
   "source": []
  }
 ],
 "metadata": {
  "kernelspec": {
   "display_name": "Python 3",
   "language": "python",
   "name": "python3"
  },
  "language_info": {
   "codemirror_mode": {
    "name": "ipython",
    "version": 3
   },
   "file_extension": ".py",
   "mimetype": "text/x-python",
   "name": "python",
   "nbconvert_exporter": "python",
   "pygments_lexer": "ipython3",
   "version": "3.6.2"
  }
 },
 "nbformat": 4,
 "nbformat_minor": 2
}
