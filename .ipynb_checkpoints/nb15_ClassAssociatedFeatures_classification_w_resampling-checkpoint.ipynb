{
 "cells": [
  {
   "cell_type": "markdown",
   "metadata": {},
   "source": [
    "# Preliminary Classification Using Resampled Dataset\n",
    "- Exactly the same code as the original nb06_extra2 except the order of train_test split\n",
    "- train_test split first, train models on resampled train set"
   ]
  },
  {
   "cell_type": "code",
   "execution_count": 1,
   "metadata": {},
   "outputs": [],
   "source": [
    "import pandas as pd\n",
    "import numpy as np\n",
    "import matplotlib.pyplot as plt\n",
    "import scipy\n",
    "import seaborn as sns\n",
    "from matplotlib import cm\n",
    "\n",
    "from sklearn.model_selection import GridSearchCV\n",
    "from sklearn.decomposition import PCA\n",
    "from sklearn.preprocessing import StandardScaler\n",
    "\n",
    "%matplotlib inline"
   ]
  },
  {
   "cell_type": "code",
   "execution_count": 2,
   "metadata": {},
   "outputs": [],
   "source": [
    "if True:\n",
    "    from imblearn.under_sampling import TomekLinks, RandomUnderSampler\n",
    "    from imblearn.over_sampling import SMOTE, ADASYN"
   ]
  },
  {
   "cell_type": "code",
   "execution_count": 3,
   "metadata": {},
   "outputs": [],
   "source": [
    "if True:\n",
    "    from sklearn.model_selection import train_test_split\n",
    "    from sklearn.metrics import classification_report, roc_curve, precision_recall_curve\n",
    "    from sklearn.ensemble import RandomForestClassifier\n",
    "    from xgboost import XGBClassifier\n",
    "    from sklearn.naive_bayes import MultinomialNB\n",
    "    from sklearn.svm import LinearSVC"
   ]
  },
  {
   "cell_type": "code",
   "execution_count": 4,
   "metadata": {},
   "outputs": [],
   "source": [
    "# from CPMP's kernel https://www.kaggle.com/cpmpml/extremely-fast-gini-computation\n",
    "def eval_gini(y_true, y_prob):\n",
    "    y_true = np.asarray(y_true)\n",
    "    y_true = y_true[np.argsort(y_prob)]\n",
    "    ntrue = 0\n",
    "    gini = 0\n",
    "    delta = 0\n",
    "    n = len(y_true)\n",
    "    for i in range(n-1, -1, -1):\n",
    "        y_i = y_true[i]\n",
    "        ntrue += y_i\n",
    "        gini += y_i * delta\n",
    "        delta += 1 - y_i\n",
    "    gini = 1 - 2 * gini / (ntrue * (n - ntrue))\n",
    "    return gini"
   ]
  },
  {
   "cell_type": "markdown",
   "metadata": {},
   "source": [
    "# Preprocess Majority"
   ]
  },
  {
   "cell_type": "code",
   "execution_count": 5,
   "metadata": {},
   "outputs": [],
   "source": [
    "train = pd.read_csv('./train.csv')\n",
    "bincat = pd.read_csv('./data/class_associated_bincat_features.csv')\n",
    "ordinal = pd.read_csv('./data/class_associated_ordinal_features.csv')\n",
    "data = pd.concat([bincat, ordinal, train.target], axis=1)"
   ]
  },
  {
   "cell_type": "code",
   "execution_count": 7,
   "metadata": {},
   "outputs": [],
   "source": [
    "X = np.array(data.iloc[:, :-1])\n",
    "y = np.array(data.iloc[:, -1])"
   ]
  },
  {
   "cell_type": "code",
   "execution_count": 8,
   "metadata": {},
   "outputs": [
    {
     "name": "stdout",
     "output_type": "stream",
     "text": [
      "Before tomek links: size of X:  (595212, 143)\n",
      "After  tomek links: size of X:  (587821, 143)\n",
      "Before tomek links: class0/class1 = 573518 / 21694\n",
      "After  tomek links: class0/class1 = 566127 / 21694\n",
      "CPU times: user 2h 28min 50s, sys: 2.36 s, total: 2h 28min 52s\n",
      "Wall time: 19min 32s\n"
     ]
    }
   ],
   "source": [
    "%%time\n",
    "tl = TomekLinks(n_jobs=8, ratio='majority')\n",
    "X_tl, y_tl = tl.fit_sample(X, y)\n",
    "\n",
    "print('Before tomek links: size of X: ', X.shape)\n",
    "print('After  tomek links: size of X: ', X_tl.shape)\n",
    "print('Before tomek links: class0/class1 = %d / %d' % (len(y)-np.sum(y), np.sum(y)))\n",
    "print('After  tomek links: class0/class1 = %d / %d' % (len(y_tl)-np.sum(y_tl), np.sum(y_tl)))"
   ]
  },
  {
   "cell_type": "markdown",
   "metadata": {},
   "source": [
    "# Undersampling class0 combined with oversampling of class1 by SMOTE"
   ]
  },
  {
   "cell_type": "markdown",
   "metadata": {},
   "source": [
    "### Set up targets for number of samples for each class, resample training set"
   ]
  },
  {
   "cell_type": "code",
   "execution_count": 9,
   "metadata": {},
   "outputs": [
    {
     "name": "stdout",
     "output_type": "stream",
     "text": [
      "Before Resampling: size of X:  (587821, 143)\n",
      "After  Resampling: size of X:  (60740, 143)\n",
      "Before Resampling: class0/class1 = 396289/ 15185\n",
      "After  Resampling: class0/class1 =  45555/ 45555\n"
     ]
    }
   ],
   "source": [
    "rstate = 55\n",
    "X_train, X_test, y_train, y_test = train_test_split(X_tl, y_tl, test_size=0.3, random_state=rstate)\n",
    "\n",
    "num_class1 = np.sum(y_train)\n",
    "num_class1_to_resample = 3 * num_class1\n",
    "num_class0_to_resample = int(1 * num_class1_to_resample)\n",
    "\n",
    "# First, randomly undersample the majority\n",
    "rus = RandomUnderSampler(ratio={0: num_class0_to_resample , 1: num_class1})\n",
    "X_tlrus, y_tlrus = rus.fit_sample(X_train, y_train)\n",
    "\n",
    "# Then use SMOTE to oversample the minority\n",
    "smote = SMOTE(ratio={0: num_class0_to_resample , 1: num_class1_to_resample}, n_jobs=4)\n",
    "X_res, y_res = smote.fit_sample(X_tlrus, y_tlrus)\n",
    "\n",
    "print('Before Resampling: size of X: ', X_tl.shape)\n",
    "print('After  Resampling: size of X: ', X_tlrus.shape)\n",
    "\n",
    "print('Before Resampling: class0/class1 =%7d/%6d' % (len(y_train)-np.sum(y_train), np.sum(y_train)))\n",
    "print('After  Resampling: class0/class1 =%7d/%6d' % (len(y_res)-np.sum(y_res), np.sum(y_res)))"
   ]
  },
  {
   "cell_type": "markdown",
   "metadata": {},
   "source": [
    "### Run single round of classification with a set random_state for train_test split"
   ]
  },
  {
   "cell_type": "code",
   "execution_count": 10,
   "metadata": {},
   "outputs": [
    {
     "name": "stdout",
     "output_type": "stream",
     "text": [
      "======== Random Forest ========\n",
      "             precision    recall  f1-score   support\n",
      "\n",
      "          0     0.9670    0.8960    0.9302    169838\n",
      "          1     0.0692    0.2017    0.1031      6509\n",
      "\n",
      "avg / total     0.9338    0.8704    0.8996    176347\n",
      "\n",
      "======== Gradient Boost ========\n",
      "             precision    recall  f1-score   support\n",
      "\n",
      "          0     0.9647    0.9742    0.9694    169838\n",
      "          1     0.0951    0.0708    0.0812      6509\n",
      "\n",
      "avg / total     0.9326    0.9408    0.9366    176347\n",
      "\n",
      "CPU times: user 2min 8s, sys: 343 ms, total: 2min 8s\n",
      "Wall time: 17.4 s\n"
     ]
    },
    {
     "data": {
      "image/png": "[encoded data removed]",
      "text/plain": [
       "<matplotlib.figure.Figure at 0x7f27569ba080>"
      ]
     },
     "metadata": {},
     "output_type": "display_data"
    }
   ],
   "source": [
    "%%time\n",
    "if True:\n",
    "    \n",
    "    fig = plt.figure(figsize=(8, 8))\n",
    "    neutral_line = np.linspace(0, 1, 10)\n",
    "\n",
    "    # RandomForest\n",
    "    rfc = RandomForestClassifier(max_depth=10, n_estimators=100, n_jobs=8)\n",
    "    rfc.fit(X_res, y_res)\n",
    "\n",
    "    y_pred1 = rfc.predict(X_test)\n",
    "    y_proba1 = rfc.predict_proba(X_test)\n",
    "    report1 = classification_report(y_test, y_pred1, digits=4,\n",
    "                                   labels=None, target_names=None)\n",
    "    print('======== Random Forest ========')\n",
    "    print(report1)\n",
    "\n",
    "    precision1, recall1, _ = precision_recall_curve(y_test, y_proba1[:, 1], pos_label=1)\n",
    "    fpr1, tpr1, _ = roc_curve(y_test, y_proba1[:, 1], pos_label=1)\n",
    "    ax11 = fig.add_subplot(2, 2, 1)\n",
    "    ax12 = fig.add_subplot(2, 2, 2)\n",
    "    ax11.plot(neutral_line, neutral_line, lw=1, ls='--')\n",
    "    ax11.plot(fpr1, tpr1)\n",
    "    ax11.set_xlabel('False Positive Rate')\n",
    "    ax11.set_ylabel('True Positive Rate')\n",
    "    ax11.set_title('RandomForest ROC')\n",
    "    ax12.plot(neutral_line, 1- neutral_line, lw=1, ls='--')\n",
    "    ax12.plot(recall1, precision1)\n",
    "    ax12.set_xlabel('Recall')\n",
    "    ax12.set_ylabel('Precision')\n",
    "    ax12.set_title('RandomForest Precision-Recall')\n",
    "\n",
    "    # GradientBoost\n",
    "    clf = XGBClassifier(max_depth=10, n_estimators=100, n_jobs=8)\n",
    "    clf.fit(X_res, y_res)\n",
    "\n",
    "    y_pred2 = clf.predict(X_test)\n",
    "    y_proba2 = clf.predict_proba(X_test)\n",
    "    report2 = classification_report(y_test, y_pred2, digits=4,\n",
    "                                   labels=None, target_names=None)\n",
    "    print('======== Gradient Boost ========')\n",
    "    print(report2)\n",
    "\n",
    "    precision2, recall2, _ = precision_recall_curve(y_test, y_proba2[:, 1], pos_label=1)\n",
    "    fpr2, tpr2, _ = roc_curve(y_test, y_proba2[:, 1], pos_label=1)\n",
    "    ax21 = fig.add_subplot(2, 2, 3)\n",
    "    ax22 = fig.add_subplot(2, 2, 4)\n",
    "    ax21.plot(neutral_line, neutral_line, lw=1, ls='--')\n",
    "    ax21.plot(fpr2, tpr2)\n",
    "    ax21.set_xlabel('False Positive Rate')\n",
    "    ax21.set_ylabel('True Positive Rate')\n",
    "    ax21.set_title('GradientBoost ROC')\n",
    "    ax22.plot(neutral_line, 1- neutral_line, lw=1, ls='--')\n",
    "    ax22.plot(recall2, precision2)\n",
    "    ax22.set_xlabel('Recall')\n",
    "    ax22.set_ylabel('Precision')\n",
    "    ax22.set_title('GradientBoost Precision-Recall')\n",
    "\n",
    "    plt.tight_layout()"
   ]
  },
  {
   "cell_type": "markdown",
   "metadata": {},
   "source": [
    "### Run classification multiple rounds with random train_test splitting (try 10 times)"
   ]
  },
  {
   "cell_type": "code",
   "execution_count": 11,
   "metadata": {},
   "outputs": [
    {
     "name": "stdout",
     "output_type": "stream",
     "text": [
      "RFC Mean Gini: 0.256+/-0.000, Best=0.256\n",
      "XGB Mean Gini: 0.280+/-0.000, Best=0.280\n",
      "CPU times: user 1min 41s, sys: 430 ms, total: 1min 42s\n",
      "Wall time: 17 s\n"
     ]
    },
    {
     "data": {
      "image/png": "[encoded data removed]",
      "text/plain": [
       "<matplotlib.figure.Figure at 0x7f27568d9080>"
      ]
     },
     "metadata": {},
     "output_type": "display_data"
    }
   ],
   "source": [
    "%%time\n",
    "fig = plt.figure(figsize=(8, 8))\n",
    "ax11 = fig.add_subplot(2, 2, 1)\n",
    "ax12 = fig.add_subplot(2, 2, 2)\n",
    "ax21 = fig.add_subplot(2, 2, 3)\n",
    "ax22 = fig.add_subplot(2, 2, 4)\n",
    "\n",
    "neutral_line = np.linspace(0, 1, 10)\n",
    "ax11.plot(neutral_line, neutral_line, lw=1, ls='--')\n",
    "ax12.plot(neutral_line, 1- neutral_line, lw=1, ls='--')\n",
    "ax21.plot(neutral_line, neutral_line, lw=1, ls='--')\n",
    "ax22.plot(neutral_line, 1- neutral_line, lw=1, ls='--')\n",
    "\n",
    "ginis_rfc = []\n",
    "ginis_xgb = []\n",
    "\n",
    "for i in range(1):\n",
    "    \n",
    "    rstate = None\n",
    "    X_train, X_test, y_train, y_test = train_test_split(X_tl, y_tl, test_size=0.3, random_state=rstate)\n",
    "    \n",
    "    num_class1 = np.sum(y_train)\n",
    "    num_class1_to_resample = 2 * num_class1\n",
    "    num_class0_to_resample = int(1 * num_class1_to_resample)\n",
    "\n",
    "    # First, randomly undersample the majority\n",
    "    rus = RandomUnderSampler(ratio={0: num_class0_to_resample , 1: num_class1})\n",
    "    X_tlrus, y_tlrus = rus.fit_sample(X_train, y_train)\n",
    "\n",
    "    # Then use SMOTE to oversample the minority\n",
    "    smote = SMOTE(ratio={0: num_class0_to_resample , 1: num_class1_to_resample}, n_jobs=4)\n",
    "    X_res, y_res = smote.fit_sample(X_tlrus, y_tlrus)\n",
    "                                                        \n",
    "    # RandomForest\n",
    "    rfc = RandomForestClassifier(max_depth=10, n_estimators=100, n_jobs=8)\n",
    "    rfc.fit(X_res, y_res)\n",
    "\n",
    "    y_pred1 = rfc.predict(X_test)\n",
    "    y_proba1 = rfc.predict_proba(X_test)\n",
    "    ginis_rfc.append(eval_gini(y_test, y_proba1[:, 1]))\n",
    "    report1 = classification_report(y_test, y_pred1, digits=4,\n",
    "                                   labels=None, target_names=None)\n",
    "\n",
    "    precision1, recall1, _ = precision_recall_curve(y_test, y_proba1[:, 1], pos_label=1)\n",
    "    fpr1, tpr1, _ = roc_curve(y_test, y_proba1[:, 1], pos_label=1)\n",
    "    ax11.plot(fpr1, tpr1)\n",
    "    ax11.set_xlabel('False Positive Rate')\n",
    "    ax11.set_ylabel('True Positive Rate')\n",
    "    ax11.set_title('RandomForest ROC')\n",
    "    ax12.plot(recall1, precision1)\n",
    "    ax12.set_xlabel('Recall')\n",
    "    ax12.set_ylabel('Precision')\n",
    "    ax12.set_title('RandomForest Precision-Recall')\n",
    "\n",
    "    # GradientBoost\n",
    "    clf = XGBClassifier(alpha=8, max_depth=5, n_estimators=200, n_jobs=8)\n",
    "    clf.fit(X_res, y_res)\n",
    "\n",
    "    y_pred2 = clf.predict(X_test)\n",
    "    y_proba2 = clf.predict_proba(X_test)\n",
    "    ginis_xgb.append(eval_gini(y_test, y_proba2[:, 1]))\n",
    "    report2 = classification_report(y_test, y_pred2, digits=4,\n",
    "                                   labels=None, target_names=None)\n",
    "\n",
    "    precision2, recall2, _ = precision_recall_curve(y_test, y_proba2[:, 1], pos_label=1)\n",
    "    fpr2, tpr2, _ = roc_curve(y_test, y_proba2[:, 1], pos_label=1)\n",
    "    ax21.plot(fpr2, tpr2)\n",
    "    ax21.set_xlabel('False Positive Rate')\n",
    "    ax21.set_ylabel('True Positive Rate')\n",
    "    ax21.set_title('GradientBoost ROC')\n",
    "    ax22.plot(recall2, precision2)\n",
    "    ax22.set_xlabel('Recall')\n",
    "    ax22.set_ylabel('Precision')\n",
    "    ax22.set_title('GradientBoost Precision-Recall')\n",
    "\n",
    "    # Naive Bayes\n",
    "    nb = MultinomialNB()\n",
    "    nb.fit(X_train, y_train)\n",
    "\n",
    "    y_pred3 = nb.predict(X_test)\n",
    "    y_proba3 = nb.predict_proba(X_test)\n",
    "    report3 = classification_report(y_test, y_pred3, digits=4,\n",
    "                                   labels=None, target_names=None)\n",
    "\n",
    "plt.tight_layout()\n",
    "\n",
    "print('RFC Mean Gini: %.3f+/-%.3f, Best=%.3f' % (np.mean(ginis_rfc), np.std(ginis_rfc), np.max(ginis_rfc)))\n",
    "print('XGB Mean Gini: %.3f+/-%.3f, Best=%.3f' % (np.mean(ginis_xgb), np.std(ginis_xgb), np.max(ginis_xgb)))"
   ]
  },
  {
   "cell_type": "markdown",
   "metadata": {},
   "source": [
    "- All the models are not really dependent on the train_test splits.\n",
    "- RandomForest and GradientBoost appear most promising"
   ]
  },
  {
   "cell_type": "markdown",
   "metadata": {},
   "source": [
    "## Conclusion\n",
    "- Trained model doesn't work so well with the imbalanced set...\n",
    "- May need to approach differently"
   ]
  },
  {
   "cell_type": "markdown",
   "metadata": {},
   "source": [
    "## Tuning XGBoost"
   ]
  },
  {
   "cell_type": "code",
   "execution_count": 12,
   "metadata": {},
   "outputs": [],
   "source": [
    "from sklearn.metrics import make_scorer\n",
    "ginig_scorer = make_scorer(eval_gini, needs_proba=True)"
   ]
  },
  {
   "cell_type": "code",
   "execution_count": 13,
   "metadata": {},
   "outputs": [],
   "source": [
    "rstate = None\n",
    "X_train, X_test, y_train, y_test = train_test_split(X_tl, y_tl, test_size=0.3, random_state=rstate)\n",
    "\n",
    "num_class1 = np.sum(y_train)\n",
    "num_class1_to_resample = 2 * num_class1\n",
    "num_class0_to_resample = int(1 * num_class1_to_resample)\n",
    "\n",
    "# First, randomly undersample the majority\n",
    "rus = RandomUnderSampler(ratio={0: num_class0_to_resample , 1: num_class1})\n",
    "X_tlrus, y_tlrus = rus.fit_sample(X_train, y_train)\n",
    "\n",
    "# Then use SMOTE to oversample the minority\n",
    "smote = SMOTE(ratio={0: num_class0_to_resample , 1: num_class1_to_resample}, n_jobs=4)\n",
    "X_res, y_res = smote.fit_sample(X_tlrus, y_tlrus)"
   ]
  },
  {
   "cell_type": "code",
   "execution_count": 14,
   "metadata": {
    "scrolled": true
   },
   "outputs": [
    {
     "name": "stdout",
     "output_type": "stream",
     "text": [
      "Fitting 3 folds for each of 144 candidates, totalling 432 fits\n",
      "[CV] gamma=1, max_depth=5, reg_alpha=0, reg_lambda=0 .................\n",
      "[CV]  gamma=1, max_depth=5, reg_alpha=0, reg_lambda=0, score=0.062470240929435296, total=   5.7s\n",
      "[CV] gamma=1, max_depth=5, reg_alpha=0, reg_lambda=0 .................\n"
     ]
    },
    {
     "name": "stderr",
     "output_type": "stream",
     "text": [
      "[Parallel(n_jobs=1)]: Done   1 out of   1 | elapsed:    5.8s remaining:    0.0s\n"
     ]
    },
    {
     "name": "stdout",
     "output_type": "stream",
     "text": [
      "[CV]  gamma=1, max_depth=5, reg_alpha=0, reg_lambda=0, score=0.702948120346268, total=   5.5s\n",
      "[CV] gamma=1, max_depth=5, reg_alpha=0, reg_lambda=0 .................\n"
     ]
    },
    {
     "name": "stderr",
     "output_type": "stream",
     "text": [
      "[Parallel(n_jobs=1)]: Done   2 out of   2 | elapsed:   11.4s remaining:    0.0s\n"
     ]
    },
    {
     "name": "stdout",
     "output_type": "stream",
     "text": [
      "[CV]  gamma=1, max_depth=5, reg_alpha=0, reg_lambda=0, score=0.9025985663082438, total=   5.4s\n",
      "[CV] gamma=1, max_depth=5, reg_alpha=0, reg_lambda=1 .................\n",
      "[CV]  gamma=1, max_depth=5, reg_alpha=0, reg_lambda=1, score=0.059935102118724944, total=   5.7s\n",
      "[CV] gamma=1, max_depth=5, reg_alpha=0, reg_lambda=1 .................\n",
      "[CV]  gamma=1, max_depth=5, reg_alpha=0, reg_lambda=1, score=0.7029385034837927, total=   5.6s\n",
      "[CV] gamma=1, max_depth=5, reg_alpha=0, reg_lambda=1 .................\n",
      "[CV]  gamma=1, max_depth=5, reg_alpha=0, reg_lambda=1, score=0.9033820758948596, total=   5.4s\n",
      "[CV] gamma=1, max_depth=5, reg_alpha=0, reg_lambda=3 .................\n",
      "[CV]  gamma=1, max_depth=5, reg_alpha=0, reg_lambda=3, score=0.06273238630946706, total=   5.7s\n",
      "[CV] gamma=1, max_depth=5, reg_alpha=0, reg_lambda=3 .................\n",
      "[CV]  gamma=1, max_depth=5, reg_alpha=0, reg_lambda=3, score=0.7013930950938825, total=   5.5s\n",
      "[CV] gamma=1, max_depth=5, reg_alpha=0, reg_lambda=3 .................\n",
      "[CV]  gamma=1, max_depth=5, reg_alpha=0, reg_lambda=3, score=0.9022172452407615, total=   5.3s\n",
      "[CV] gamma=1, max_depth=5, reg_alpha=0, reg_lambda=5 .................\n",
      "[CV]  gamma=1, max_depth=5, reg_alpha=0, reg_lambda=5, score=0.056214149139579346, total=   5.6s\n",
      "[CV] gamma=1, max_depth=5, reg_alpha=0, reg_lambda=5 .................\n",
      "[CV]  gamma=1, max_depth=5, reg_alpha=0, reg_lambda=5, score=0.7035315424086931, total=   5.4s\n",
      "[CV] gamma=1, max_depth=5, reg_alpha=0, reg_lambda=5 .................\n",
      "[CV]  gamma=1, max_depth=5, reg_alpha=0, reg_lambda=5, score=0.9000402162741856, total=   5.4s\n",
      "[CV] gamma=1, max_depth=5, reg_alpha=3, reg_lambda=0 .................\n",
      "[CV]  gamma=1, max_depth=5, reg_alpha=3, reg_lambda=0, score=0.06135670731707317, total=   5.7s\n",
      "[CV] gamma=1, max_depth=5, reg_alpha=3, reg_lambda=0 .................\n",
      "[CV]  gamma=1, max_depth=5, reg_alpha=3, reg_lambda=0, score=0.7022152281806077, total=   5.5s\n",
      "[CV] gamma=1, max_depth=5, reg_alpha=3, reg_lambda=0 .................\n",
      "[CV]  gamma=1, max_depth=5, reg_alpha=3, reg_lambda=0, score=0.901830878732262, total=   5.3s\n",
      "[CV] gamma=1, max_depth=5, reg_alpha=3, reg_lambda=1 .................\n",
      "[CV]  gamma=1, max_depth=5, reg_alpha=3, reg_lambda=1, score=0.060085836909871244, total=   5.6s\n",
      "[CV] gamma=1, max_depth=5, reg_alpha=3, reg_lambda=1 .................\n",
      "[CV]  gamma=1, max_depth=5, reg_alpha=3, reg_lambda=1, score=0.7054343226742429, total=   5.5s\n",
      "[CV] gamma=1, max_depth=5, reg_alpha=3, reg_lambda=1 .................\n",
      "[CV]  gamma=1, max_depth=5, reg_alpha=3, reg_lambda=1, score=0.9013013729260766, total=   5.3s\n",
      "[CV] gamma=1, max_depth=5, reg_alpha=3, reg_lambda=3 .................\n",
      "[CV]  gamma=1, max_depth=5, reg_alpha=3, reg_lambda=3, score=0.05561395126612518, total=   5.7s\n",
      "[CV] gamma=1, max_depth=5, reg_alpha=3, reg_lambda=3 .................\n",
      "[CV]  gamma=1, max_depth=5, reg_alpha=3, reg_lambda=3, score=0.7039990334662317, total=   5.5s\n",
      "[CV] gamma=1, max_depth=5, reg_alpha=3, reg_lambda=3 .................\n",
      "[CV]  gamma=1, max_depth=5, reg_alpha=3, reg_lambda=3, score=0.9016745768783022, total=   5.3s\n",
      "[CV] gamma=1, max_depth=5, reg_alpha=3, reg_lambda=5 .................\n",
      "[CV]  gamma=1, max_depth=5, reg_alpha=3, reg_lambda=5, score=0.05992938257467315, total=   5.7s\n",
      "[CV] gamma=1, max_depth=5, reg_alpha=3, reg_lambda=5 .................\n",
      "[CV]  gamma=1, max_depth=5, reg_alpha=3, reg_lambda=5, score=0.7025721531216037, total=   5.5s\n",
      "[CV] gamma=1, max_depth=5, reg_alpha=3, reg_lambda=5 .................\n",
      "[CV]  gamma=1, max_depth=5, reg_alpha=3, reg_lambda=5, score=0.9018448862618663, total=   5.3s\n",
      "[CV] gamma=1, max_depth=5, reg_alpha=5, reg_lambda=0 .................\n",
      "[CV]  gamma=1, max_depth=5, reg_alpha=5, reg_lambda=0, score=0.06229758049152219, total=   5.8s\n",
      "[CV] gamma=1, max_depth=5, reg_alpha=5, reg_lambda=0 .................\n",
      "[CV]  gamma=1, max_depth=5, reg_alpha=5, reg_lambda=0, score=0.7045344910757357, total=   5.5s\n",
      "[CV] gamma=1, max_depth=5, reg_alpha=5, reg_lambda=0 .................\n",
      "[CV]  gamma=1, max_depth=5, reg_alpha=5, reg_lambda=0, score=0.900813880690457, total=   5.5s\n",
      "[CV] gamma=1, max_depth=5, reg_alpha=5, reg_lambda=1 .................\n",
      "[CV]  gamma=1, max_depth=5, reg_alpha=5, reg_lambda=1, score=0.058233890214797135, total=   5.7s\n",
      "[CV] gamma=1, max_depth=5, reg_alpha=5, reg_lambda=1 .................\n",
      "[CV]  gamma=1, max_depth=5, reg_alpha=5, reg_lambda=1, score=0.7055635838150288, total=   5.5s\n",
      "[CV] gamma=1, max_depth=5, reg_alpha=5, reg_lambda=1 .................\n",
      "[CV]  gamma=1, max_depth=5, reg_alpha=5, reg_lambda=1, score=0.8997945878360275, total=   5.3s\n",
      "[CV] gamma=1, max_depth=5, reg_alpha=5, reg_lambda=3 .................\n",
      "[CV]  gamma=1, max_depth=5, reg_alpha=5, reg_lambda=3, score=0.05532159264931088, total=   5.7s\n",
      "[CV] gamma=1, max_depth=5, reg_alpha=5, reg_lambda=3 .................\n",
      "[CV]  gamma=1, max_depth=5, reg_alpha=5, reg_lambda=3, score=0.7035606517803259, total=   5.5s\n",
      "[CV] gamma=1, max_depth=5, reg_alpha=5, reg_lambda=3 .................\n",
      "[CV]  gamma=1, max_depth=5, reg_alpha=5, reg_lambda=3, score=0.9006527765358132, total=   5.4s\n",
      "[CV] gamma=1, max_depth=5, reg_alpha=5, reg_lambda=5 .................\n",
      "[CV]  gamma=1, max_depth=5, reg_alpha=5, reg_lambda=5, score=0.05923944200267532, total=   5.7s\n",
      "[CV] gamma=1, max_depth=5, reg_alpha=5, reg_lambda=5 .................\n",
      "[CV]  gamma=1, max_depth=5, reg_alpha=5, reg_lambda=5, score=0.7042864894194248, total=   5.5s\n",
      "[CV] gamma=1, max_depth=5, reg_alpha=5, reg_lambda=5 .................\n",
      "[CV]  gamma=1, max_depth=5, reg_alpha=5, reg_lambda=5, score=0.9003620759018373, total=   5.3s\n",
      "[CV] gamma=1, max_depth=5, reg_alpha=8, reg_lambda=0 .................\n",
      "[CV]  gamma=1, max_depth=5, reg_alpha=8, reg_lambda=0, score=0.05682035584465277, total=   5.7s\n",
      "[CV] gamma=1, max_depth=5, reg_alpha=8, reg_lambda=0 .................\n",
      "[CV]  gamma=1, max_depth=5, reg_alpha=8, reg_lambda=0, score=0.7036545651911711, total=   5.5s\n",
      "[CV] gamma=1, max_depth=5, reg_alpha=8, reg_lambda=0 .................\n",
      "[CV]  gamma=1, max_depth=5, reg_alpha=8, reg_lambda=0, score=0.9007647242967668, total=   5.3s\n",
      "[CV] gamma=1, max_depth=5, reg_alpha=8, reg_lambda=1 .................\n",
      "[CV]  gamma=1, max_depth=5, reg_alpha=8, reg_lambda=1, score=0.056241032998565275, total=   5.7s\n",
      "[CV] gamma=1, max_depth=5, reg_alpha=8, reg_lambda=1 .................\n",
      "[CV]  gamma=1, max_depth=5, reg_alpha=8, reg_lambda=1, score=0.7032409922143761, total=   5.5s\n",
      "[CV] gamma=1, max_depth=5, reg_alpha=8, reg_lambda=1 .................\n",
      "[CV]  gamma=1, max_depth=5, reg_alpha=8, reg_lambda=1, score=0.90058584142033, total=   5.4s\n",
      "[CV] gamma=1, max_depth=5, reg_alpha=8, reg_lambda=3 .................\n",
      "[CV]  gamma=1, max_depth=5, reg_alpha=8, reg_lambda=3, score=0.05736137667304015, total=   5.7s\n",
      "[CV] gamma=1, max_depth=5, reg_alpha=8, reg_lambda=3 .................\n",
      "[CV]  gamma=1, max_depth=5, reg_alpha=8, reg_lambda=3, score=0.7034016071536463, total=   5.5s\n",
      "[CV] gamma=1, max_depth=5, reg_alpha=8, reg_lambda=3 .................\n",
      "[CV]  gamma=1, max_depth=5, reg_alpha=8, reg_lambda=3, score=0.8988844265952699, total=   5.3s\n",
      "[CV] gamma=1, max_depth=5, reg_alpha=8, reg_lambda=5 .................\n",
      "[CV]  gamma=1, max_depth=5, reg_alpha=8, reg_lambda=5, score=0.05386237301130919, total=   5.7s\n",
      "[CV] gamma=1, max_depth=5, reg_alpha=8, reg_lambda=5 .................\n",
      "[CV]  gamma=1, max_depth=5, reg_alpha=8, reg_lambda=5, score=0.703585031134756, total=   5.5s\n",
      "[CV] gamma=1, max_depth=5, reg_alpha=8, reg_lambda=5 .................\n",
      "[CV]  gamma=1, max_depth=5, reg_alpha=8, reg_lambda=5, score=0.8990448986878515, total=   5.3s\n",
      "[CV] gamma=1, max_depth=6, reg_alpha=0, reg_lambda=0 .................\n",
      "[CV]  gamma=1, max_depth=6, reg_alpha=0, reg_lambda=0, score=0.07393436439079591, total=   6.8s\n",
      "[CV] gamma=1, max_depth=6, reg_alpha=0, reg_lambda=0 .................\n",
      "[CV]  gamma=1, max_depth=6, reg_alpha=0, reg_lambda=0, score=0.7043994958285816, total=   6.5s\n",
      "[CV] gamma=1, max_depth=6, reg_alpha=0, reg_lambda=0 .................\n",
      "[CV]  gamma=1, max_depth=6, reg_alpha=0, reg_lambda=0, score=0.9030205252307967, total=   6.3s\n",
      "[CV] gamma=1, max_depth=6, reg_alpha=0, reg_lambda=1 .................\n",
      "[CV]  gamma=1, max_depth=6, reg_alpha=0, reg_lambda=1, score=0.0689720511605874, total=   6.7s\n",
      "[CV] gamma=1, max_depth=6, reg_alpha=0, reg_lambda=1 .................\n"
     ]
    },
    {
     "name": "stdout",
     "output_type": "stream",
     "text": [
      "[CV]  gamma=1, max_depth=6, reg_alpha=0, reg_lambda=1, score=0.7041423675825167, total=   6.4s\n",
      "[CV] gamma=1, max_depth=6, reg_alpha=0, reg_lambda=1 .................\n",
      "[CV]  gamma=1, max_depth=6, reg_alpha=0, reg_lambda=1, score=0.902099467299342, total=   6.4s\n",
      "[CV] gamma=1, max_depth=6, reg_alpha=0, reg_lambda=3 .................\n",
      "[CV]  gamma=1, max_depth=6, reg_alpha=0, reg_lambda=3, score=0.07332514409902674, total=   6.7s\n",
      "[CV] gamma=1, max_depth=6, reg_alpha=0, reg_lambda=3 .................\n",
      "[CV]  gamma=1, max_depth=6, reg_alpha=0, reg_lambda=3, score=0.7033561891014074, total=   6.5s\n",
      "[CV] gamma=1, max_depth=6, reg_alpha=0, reg_lambda=3 .................\n",
      "[CV]  gamma=1, max_depth=6, reg_alpha=0, reg_lambda=3, score=0.9000133970437191, total=   6.3s\n",
      "[CV] gamma=1, max_depth=6, reg_alpha=0, reg_lambda=5 .................\n",
      "[CV]  gamma=1, max_depth=6, reg_alpha=0, reg_lambda=5, score=0.07098911500236631, total=   6.7s\n",
      "[CV] gamma=1, max_depth=6, reg_alpha=0, reg_lambda=5 .................\n",
      "[CV]  gamma=1, max_depth=6, reg_alpha=0, reg_lambda=5, score=0.7048167476456121, total=   6.4s\n",
      "[CV] gamma=1, max_depth=6, reg_alpha=0, reg_lambda=5 .................\n",
      "[CV]  gamma=1, max_depth=6, reg_alpha=0, reg_lambda=5, score=0.900420130508626, total=   6.2s\n",
      "[CV] gamma=1, max_depth=6, reg_alpha=3, reg_lambda=0 .................\n",
      "[CV]  gamma=1, max_depth=6, reg_alpha=3, reg_lambda=0, score=0.0699697428139183, total=   6.8s\n",
      "[CV] gamma=1, max_depth=6, reg_alpha=3, reg_lambda=0 .................\n",
      "[CV]  gamma=1, max_depth=6, reg_alpha=3, reg_lambda=0, score=0.7051082665390597, total=   6.6s\n",
      "[CV] gamma=1, max_depth=6, reg_alpha=3, reg_lambda=0 .................\n",
      "[CV]  gamma=1, max_depth=6, reg_alpha=3, reg_lambda=0, score=0.9004243913334823, total=   6.4s\n",
      "[CV] gamma=1, max_depth=6, reg_alpha=3, reg_lambda=1 .................\n",
      "[CV]  gamma=1, max_depth=6, reg_alpha=3, reg_lambda=1, score=0.07314998582364617, total=   6.8s\n",
      "[CV] gamma=1, max_depth=6, reg_alpha=3, reg_lambda=1 .................\n",
      "[CV]  gamma=1, max_depth=6, reg_alpha=3, reg_lambda=1, score=0.7045944005743001, total=   6.5s\n",
      "[CV] gamma=1, max_depth=6, reg_alpha=3, reg_lambda=1 .................\n",
      "[CV]  gamma=1, max_depth=6, reg_alpha=3, reg_lambda=1, score=0.9001295857723759, total=   6.3s\n",
      "[CV] gamma=1, max_depth=6, reg_alpha=3, reg_lambda=3 .................\n",
      "[CV]  gamma=1, max_depth=6, reg_alpha=3, reg_lambda=3, score=0.07080651268458918, total=   6.9s\n",
      "[CV] gamma=1, max_depth=6, reg_alpha=3, reg_lambda=3 .................\n",
      "[CV]  gamma=1, max_depth=6, reg_alpha=3, reg_lambda=3, score=0.7056924180817986, total=   6.7s\n",
      "[CV] gamma=1, max_depth=6, reg_alpha=3, reg_lambda=3 .................\n",
      "[CV]  gamma=1, max_depth=6, reg_alpha=3, reg_lambda=3, score=0.9004065948795854, total=   6.3s\n",
      "[CV] gamma=1, max_depth=6, reg_alpha=3, reg_lambda=5 .................\n",
      "[CV]  gamma=1, max_depth=6, reg_alpha=3, reg_lambda=5, score=0.06861258529188778, total=   6.8s\n",
      "[CV] gamma=1, max_depth=6, reg_alpha=3, reg_lambda=5 .................\n",
      "[CV]  gamma=1, max_depth=6, reg_alpha=3, reg_lambda=5, score=0.706853247219232, total=   6.5s\n",
      "[CV] gamma=1, max_depth=6, reg_alpha=3, reg_lambda=5 .................\n",
      "[CV]  gamma=1, max_depth=6, reg_alpha=3, reg_lambda=5, score=0.8997052781995177, total=   6.5s\n",
      "[CV] gamma=1, max_depth=6, reg_alpha=5, reg_lambda=0 .................\n",
      "[CV]  gamma=1, max_depth=6, reg_alpha=5, reg_lambda=0, score=0.07095553453169347, total=   6.8s\n",
      "[CV] gamma=1, max_depth=6, reg_alpha=5, reg_lambda=0 .................\n",
      "[CV]  gamma=1, max_depth=6, reg_alpha=5, reg_lambda=0, score=0.7062342946033264, total=   7.0s\n",
      "[CV] gamma=1, max_depth=6, reg_alpha=5, reg_lambda=0 .................\n",
      "[CV]  gamma=1, max_depth=6, reg_alpha=5, reg_lambda=0, score=0.8987782038705076, total=   6.3s\n",
      "[CV] gamma=1, max_depth=6, reg_alpha=5, reg_lambda=1 .................\n",
      "[CV]  gamma=1, max_depth=6, reg_alpha=5, reg_lambda=1, score=0.06785443517816528, total=   6.8s\n",
      "[CV] gamma=1, max_depth=6, reg_alpha=5, reg_lambda=1 .................\n",
      "[CV]  gamma=1, max_depth=6, reg_alpha=5, reg_lambda=1, score=0.7063463607027607, total=   6.6s\n",
      "[CV] gamma=1, max_depth=6, reg_alpha=5, reg_lambda=1 .................\n",
      "[CV]  gamma=1, max_depth=6, reg_alpha=5, reg_lambda=1, score=0.8992725487570848, total=   6.4s\n",
      "[CV] gamma=1, max_depth=6, reg_alpha=5, reg_lambda=3 .................\n",
      "[CV]  gamma=1, max_depth=6, reg_alpha=5, reg_lambda=3, score=0.06915498294808639, total=   6.9s\n",
      "[CV] gamma=1, max_depth=6, reg_alpha=5, reg_lambda=3 .................\n",
      "[CV]  gamma=1, max_depth=6, reg_alpha=5, reg_lambda=3, score=0.705439330543933, total=   6.6s\n",
      "[CV] gamma=1, max_depth=6, reg_alpha=5, reg_lambda=3 .................\n",
      "[CV]  gamma=1, max_depth=6, reg_alpha=5, reg_lambda=3, score=0.8996873604287629, total=   6.4s\n",
      "[CV] gamma=1, max_depth=6, reg_alpha=5, reg_lambda=5 .................\n",
      "[CV]  gamma=1, max_depth=6, reg_alpha=5, reg_lambda=5, score=0.06704653371320038, total=   6.8s\n",
      "[CV] gamma=1, max_depth=6, reg_alpha=5, reg_lambda=5 .................\n",
      "[CV]  gamma=1, max_depth=6, reg_alpha=5, reg_lambda=5, score=0.7056782145635133, total=   6.6s\n",
      "[CV] gamma=1, max_depth=6, reg_alpha=5, reg_lambda=5 .................\n",
      "[CV]  gamma=1, max_depth=6, reg_alpha=5, reg_lambda=5, score=0.8999151444776919, total=   6.4s\n",
      "[CV] gamma=1, max_depth=6, reg_alpha=8, reg_lambda=0 .................\n",
      "[CV]  gamma=1, max_depth=6, reg_alpha=8, reg_lambda=0, score=0.06517195515865476, total=   6.9s\n",
      "[CV] gamma=1, max_depth=6, reg_alpha=8, reg_lambda=0 .................\n",
      "[CV]  gamma=1, max_depth=6, reg_alpha=8, reg_lambda=0, score=0.704933699677458, total=   6.8s\n",
      "[CV] gamma=1, max_depth=6, reg_alpha=8, reg_lambda=0 .................\n",
      "[CV]  gamma=1, max_depth=6, reg_alpha=8, reg_lambda=0, score=0.8985727029438001, total=   6.4s\n",
      "[CV] gamma=1, max_depth=6, reg_alpha=8, reg_lambda=1 .................\n",
      "[CV]  gamma=1, max_depth=6, reg_alpha=8, reg_lambda=1, score=0.06655921115009007, total=   6.9s\n",
      "[CV] gamma=1, max_depth=6, reg_alpha=8, reg_lambda=1 .................\n",
      "[CV]  gamma=1, max_depth=6, reg_alpha=8, reg_lambda=1, score=0.7039206311259862, total=   6.6s\n",
      "[CV] gamma=1, max_depth=6, reg_alpha=8, reg_lambda=1 .................\n",
      "[CV]  gamma=1, max_depth=6, reg_alpha=8, reg_lambda=1, score=0.8988533440414046, total=   6.5s\n",
      "[CV] gamma=1, max_depth=6, reg_alpha=8, reg_lambda=3 .................\n",
      "[CV]  gamma=1, max_depth=6, reg_alpha=8, reg_lambda=3, score=0.0668439042916825, total=   6.9s\n",
      "[CV] gamma=1, max_depth=6, reg_alpha=8, reg_lambda=3 .................\n",
      "[CV]  gamma=1, max_depth=6, reg_alpha=8, reg_lambda=3, score=0.705248668382309, total=   6.7s\n",
      "[CV] gamma=1, max_depth=6, reg_alpha=8, reg_lambda=3 .................\n",
      "[CV]  gamma=1, max_depth=6, reg_alpha=8, reg_lambda=3, score=0.8980301274623407, total=   6.4s\n",
      "[CV] gamma=1, max_depth=6, reg_alpha=8, reg_lambda=5 .................\n",
      "[CV]  gamma=1, max_depth=6, reg_alpha=8, reg_lambda=5, score=0.06045003813882533, total=   6.9s\n",
      "[CV] gamma=1, max_depth=6, reg_alpha=8, reg_lambda=5 .................\n",
      "[CV]  gamma=1, max_depth=6, reg_alpha=8, reg_lambda=5, score=0.7077089078048197, total=   6.6s\n",
      "[CV] gamma=1, max_depth=6, reg_alpha=8, reg_lambda=5 .................\n",
      "[CV]  gamma=1, max_depth=6, reg_alpha=8, reg_lambda=5, score=0.8991030389575617, total=   6.4s\n",
      "[CV] gamma=1, max_depth=7, reg_alpha=0, reg_lambda=0 .................\n",
      "[CV]  gamma=1, max_depth=7, reg_alpha=0, reg_lambda=0, score=0.08999253174010456, total=   8.1s\n",
      "[CV] gamma=1, max_depth=7, reg_alpha=0, reg_lambda=0 .................\n",
      "[CV]  gamma=1, max_depth=7, reg_alpha=0, reg_lambda=0, score=0.7050581809546426, total=   8.0s\n",
      "[CV] gamma=1, max_depth=7, reg_alpha=0, reg_lambda=0 .................\n",
      "[CV]  gamma=1, max_depth=7, reg_alpha=0, reg_lambda=0, score=0.9000312541858285, total=   7.7s\n",
      "[CV] gamma=1, max_depth=7, reg_alpha=0, reg_lambda=1 .................\n",
      "[CV]  gamma=1, max_depth=7, reg_alpha=0, reg_lambda=1, score=0.08063151959402312, total=   8.1s\n",
      "[CV] gamma=1, max_depth=7, reg_alpha=0, reg_lambda=1 .................\n",
      "[CV]  gamma=1, max_depth=7, reg_alpha=0, reg_lambda=1, score=0.7065825496964647, total=   7.9s\n",
      "[CV] gamma=1, max_depth=7, reg_alpha=0, reg_lambda=1 .................\n",
      "[CV]  gamma=1, max_depth=7, reg_alpha=0, reg_lambda=1, score=0.8998616009643287, total=   7.7s\n",
      "[CV] gamma=1, max_depth=7, reg_alpha=0, reg_lambda=3 .................\n"
     ]
    },
    {
     "name": "stdout",
     "output_type": "stream",
     "text": [
      "[CV]  gamma=1, max_depth=7, reg_alpha=0, reg_lambda=3, score=0.08060879368658398, total=   8.4s\n",
      "[CV] gamma=1, max_depth=7, reg_alpha=0, reg_lambda=3 .................\n",
      "[CV]  gamma=1, max_depth=7, reg_alpha=0, reg_lambda=3, score=0.7069212410501192, total=   8.1s\n",
      "[CV] gamma=1, max_depth=7, reg_alpha=0, reg_lambda=3 .................\n",
      "[CV]  gamma=1, max_depth=7, reg_alpha=0, reg_lambda=3, score=0.900093787682551, total=   7.7s\n",
      "[CV] gamma=1, max_depth=7, reg_alpha=0, reg_lambda=5 .................\n",
      "[CV]  gamma=1, max_depth=7, reg_alpha=0, reg_lambda=5, score=0.08202721726888786, total=   8.3s\n",
      "[CV] gamma=1, max_depth=7, reg_alpha=0, reg_lambda=5 .................\n",
      "[CV]  gamma=1, max_depth=7, reg_alpha=0, reg_lambda=5, score=0.704955223880597, total=   7.9s\n",
      "[CV] gamma=1, max_depth=7, reg_alpha=0, reg_lambda=5 .................\n",
      "[CV]  gamma=1, max_depth=7, reg_alpha=0, reg_lambda=5, score=0.8991701615062014, total=   7.8s\n",
      "[CV] gamma=1, max_depth=7, reg_alpha=3, reg_lambda=0 .................\n",
      "[CV]  gamma=1, max_depth=7, reg_alpha=3, reg_lambda=0, score=0.08525388795203298, total=   8.4s\n",
      "[CV] gamma=1, max_depth=7, reg_alpha=3, reg_lambda=0 .................\n",
      "[CV]  gamma=1, max_depth=7, reg_alpha=3, reg_lambda=0, score=0.7092265782304867, total=   8.3s\n",
      "[CV] gamma=1, max_depth=7, reg_alpha=3, reg_lambda=0 .................\n",
      "[CV]  gamma=1, max_depth=7, reg_alpha=3, reg_lambda=0, score=0.8990097243286646, total=   8.0s\n",
      "[CV] gamma=1, max_depth=7, reg_alpha=3, reg_lambda=1 .................\n",
      "[CV]  gamma=1, max_depth=7, reg_alpha=3, reg_lambda=1, score=0.08280135185880587, total=   8.6s\n",
      "[CV] gamma=1, max_depth=7, reg_alpha=3, reg_lambda=1 .................\n",
      "[CV]  gamma=1, max_depth=7, reg_alpha=3, reg_lambda=1, score=0.7063298662704309, total=   8.1s\n",
      "[CV] gamma=1, max_depth=7, reg_alpha=3, reg_lambda=1 .................\n",
      "[CV]  gamma=1, max_depth=7, reg_alpha=3, reg_lambda=1, score=0.896729699666296, total=   8.0s\n",
      "[CV] gamma=1, max_depth=7, reg_alpha=3, reg_lambda=3 .................\n",
      "[CV]  gamma=1, max_depth=7, reg_alpha=3, reg_lambda=3, score=0.08064667731929692, total=   8.6s\n",
      "[CV] gamma=1, max_depth=7, reg_alpha=3, reg_lambda=3 .................\n",
      "[CV]  gamma=1, max_depth=7, reg_alpha=3, reg_lambda=3, score=0.705121357782921, total=   8.3s\n",
      "[CV] gamma=1, max_depth=7, reg_alpha=3, reg_lambda=3 .................\n",
      "[CV]  gamma=1, max_depth=7, reg_alpha=3, reg_lambda=3, score=0.8988273063717841, total=   7.8s\n",
      "[CV] gamma=1, max_depth=7, reg_alpha=3, reg_lambda=5 .................\n",
      "[CV]  gamma=1, max_depth=7, reg_alpha=3, reg_lambda=5, score=0.0787268104341275, total=   8.7s\n",
      "[CV] gamma=1, max_depth=7, reg_alpha=3, reg_lambda=5 .................\n",
      "[CV]  gamma=1, max_depth=7, reg_alpha=3, reg_lambda=5, score=0.7070238095238096, total=   8.2s\n",
      "[CV] gamma=1, max_depth=7, reg_alpha=3, reg_lambda=5 .................\n",
      "[CV]  gamma=1, max_depth=7, reg_alpha=3, reg_lambda=5, score=0.8969076751946607, total=   8.1s\n",
      "[CV] gamma=1, max_depth=7, reg_alpha=5, reg_lambda=0 .................\n",
      "[CV]  gamma=1, max_depth=7, reg_alpha=5, reg_lambda=0, score=0.08187793427230049, total=   8.5s\n",
      "[CV] gamma=1, max_depth=7, reg_alpha=5, reg_lambda=0 .................\n",
      "[CV]  gamma=1, max_depth=7, reg_alpha=5, reg_lambda=0, score=0.7077779752384337, total=   8.4s\n",
      "[CV] gamma=1, max_depth=7, reg_alpha=5, reg_lambda=0 .................\n",
      "[CV]  gamma=1, max_depth=7, reg_alpha=5, reg_lambda=0, score=0.8966192170818506, total=   7.9s\n",
      "[CV] gamma=1, max_depth=7, reg_alpha=5, reg_lambda=1 .................\n",
      "[CV]  gamma=1, max_depth=7, reg_alpha=5, reg_lambda=1, score=0.08108362336562883, total=   8.5s\n",
      "[CV] gamma=1, max_depth=7, reg_alpha=5, reg_lambda=1 .................\n",
      "[CV]  gamma=1, max_depth=7, reg_alpha=5, reg_lambda=1, score=0.7066627183891028, total=   8.3s\n",
      "[CV] gamma=1, max_depth=7, reg_alpha=5, reg_lambda=1 .................\n",
      "[CV]  gamma=1, max_depth=7, reg_alpha=5, reg_lambda=1, score=0.8968186874304782, total=   7.9s\n",
      "[CV] gamma=1, max_depth=7, reg_alpha=5, reg_lambda=3 .................\n",
      "[CV]  gamma=1, max_depth=7, reg_alpha=5, reg_lambda=3, score=0.07674177429999057, total=   8.4s\n",
      "[CV] gamma=1, max_depth=7, reg_alpha=5, reg_lambda=3 .................\n",
      "[CV]  gamma=1, max_depth=7, reg_alpha=5, reg_lambda=3, score=0.7073909171861086, total=   8.2s\n",
      "[CV] gamma=1, max_depth=7, reg_alpha=5, reg_lambda=3 .................\n",
      "[CV]  gamma=1, max_depth=7, reg_alpha=5, reg_lambda=3, score=0.8968186874304782, total=   7.9s\n",
      "[CV] gamma=1, max_depth=7, reg_alpha=5, reg_lambda=5 .................\n",
      "[CV]  gamma=1, max_depth=7, reg_alpha=5, reg_lambda=5, score=0.0763143018654607, total=   8.7s\n",
      "[CV] gamma=1, max_depth=7, reg_alpha=5, reg_lambda=5 .................\n",
      "[CV]  gamma=1, max_depth=7, reg_alpha=5, reg_lambda=5, score=0.7088517596871667, total=   8.3s\n",
      "[CV] gamma=1, max_depth=7, reg_alpha=5, reg_lambda=5 .................\n",
      "[CV]  gamma=1, max_depth=7, reg_alpha=5, reg_lambda=5, score=0.8967113168083308, total=   7.9s\n",
      "[CV] gamma=1, max_depth=7, reg_alpha=8, reg_lambda=0 .................\n",
      "[CV]  gamma=1, max_depth=7, reg_alpha=8, reg_lambda=0, score=0.0762120354650066, total=   8.7s\n",
      "[CV] gamma=1, max_depth=7, reg_alpha=8, reg_lambda=0 .................\n",
      "[CV]  gamma=1, max_depth=7, reg_alpha=8, reg_lambda=0, score=0.7092223802750118, total=   8.4s\n",
      "[CV] gamma=1, max_depth=7, reg_alpha=8, reg_lambda=0 .................\n",
      "[CV]  gamma=1, max_depth=7, reg_alpha=8, reg_lambda=0, score=0.8960825292365157, total=   8.0s\n",
      "[CV] gamma=1, max_depth=7, reg_alpha=8, reg_lambda=1 .................\n",
      "[CV]  gamma=1, max_depth=7, reg_alpha=8, reg_lambda=1, score=0.07461981675639937, total=   8.6s\n",
      "[CV] gamma=1, max_depth=7, reg_alpha=8, reg_lambda=1 .................\n",
      "[CV]  gamma=1, max_depth=7, reg_alpha=8, reg_lambda=1, score=0.7066619334989943, total=   8.3s\n",
      "[CV] gamma=1, max_depth=7, reg_alpha=8, reg_lambda=1 .................\n",
      "[CV]  gamma=1, max_depth=7, reg_alpha=8, reg_lambda=1, score=0.8956842526334503, total=   8.0s\n",
      "[CV] gamma=1, max_depth=7, reg_alpha=8, reg_lambda=3 .................\n",
      "[CV]  gamma=1, max_depth=7, reg_alpha=8, reg_lambda=3, score=0.0758419017073861, total=   8.6s\n",
      "[CV] gamma=1, max_depth=7, reg_alpha=8, reg_lambda=3 .................\n",
      "[CV]  gamma=1, max_depth=7, reg_alpha=8, reg_lambda=3, score=0.7077105575326216, total=   8.4s\n",
      "[CV] gamma=1, max_depth=7, reg_alpha=8, reg_lambda=3 .................\n",
      "[CV]  gamma=1, max_depth=7, reg_alpha=8, reg_lambda=3, score=0.8950968200390833, total=   8.0s\n",
      "[CV] gamma=1, max_depth=7, reg_alpha=8, reg_lambda=5 .................\n",
      "[CV]  gamma=1, max_depth=7, reg_alpha=8, reg_lambda=5, score=0.0762479947154855, total=   8.7s\n",
      "[CV] gamma=1, max_depth=7, reg_alpha=8, reg_lambda=5 .................\n",
      "[CV]  gamma=1, max_depth=7, reg_alpha=8, reg_lambda=5, score=0.706434555284891, total=   8.3s\n",
      "[CV] gamma=1, max_depth=7, reg_alpha=8, reg_lambda=5 .................\n",
      "[CV]  gamma=1, max_depth=7, reg_alpha=8, reg_lambda=5, score=0.8963523131672597, total=   7.9s\n",
      "[CV] gamma=5, max_depth=5, reg_alpha=0, reg_lambda=0 .................\n",
      "[CV]  gamma=5, max_depth=5, reg_alpha=0, reg_lambda=0, score=0.049188202517052554, total=   6.0s\n",
      "[CV] gamma=5, max_depth=5, reg_alpha=0, reg_lambda=0 .................\n",
      "[CV]  gamma=5, max_depth=5, reg_alpha=0, reg_lambda=0, score=0.7020343525398953, total=   5.8s\n",
      "[CV] gamma=5, max_depth=5, reg_alpha=0, reg_lambda=0 .................\n",
      "[CV]  gamma=5, max_depth=5, reg_alpha=0, reg_lambda=0, score=0.9019888908797706, total=   5.5s\n",
      "[CV] gamma=5, max_depth=5, reg_alpha=0, reg_lambda=1 .................\n",
      "[CV]  gamma=5, max_depth=5, reg_alpha=0, reg_lambda=1, score=0.052354012848787046, total=   5.9s\n",
      "[CV] gamma=5, max_depth=5, reg_alpha=0, reg_lambda=1 .................\n",
      "[CV]  gamma=5, max_depth=5, reg_alpha=0, reg_lambda=1, score=0.7036969364760338, total=   6.9s\n",
      "[CV] gamma=5, max_depth=5, reg_alpha=0, reg_lambda=1 .................\n",
      "[CV]  gamma=5, max_depth=5, reg_alpha=0, reg_lambda=1, score=0.9038366614314561, total=   6.5s\n",
      "[CV] gamma=5, max_depth=5, reg_alpha=0, reg_lambda=3 .................\n",
      "[CV]  gamma=5, max_depth=5, reg_alpha=0, reg_lambda=3, score=0.05050408065290446, total=   6.0s\n",
      "[CV] gamma=5, max_depth=5, reg_alpha=0, reg_lambda=3 .................\n",
      "[CV]  gamma=5, max_depth=5, reg_alpha=0, reg_lambda=3, score=0.7045730965701775, total=   7.8s\n",
      "[CV] gamma=5, max_depth=5, reg_alpha=0, reg_lambda=3 .................\n"
     ]
    },
    {
     "name": "stdout",
     "output_type": "stream",
     "text": [
      "[CV]  gamma=5, max_depth=5, reg_alpha=0, reg_lambda=3, score=0.9035327916685371, total=   9.5s\n",
      "[CV] gamma=5, max_depth=5, reg_alpha=0, reg_lambda=5 .................\n",
      "[CV]  gamma=5, max_depth=5, reg_alpha=0, reg_lambda=5, score=0.0499567681813815, total=   5.6s\n",
      "[CV] gamma=5, max_depth=5, reg_alpha=0, reg_lambda=5 .................\n",
      "[CV]  gamma=5, max_depth=5, reg_alpha=0, reg_lambda=5, score=0.7023643104600984, total=   5.4s\n",
      "[CV] gamma=5, max_depth=5, reg_alpha=0, reg_lambda=5 .................\n",
      "[CV]  gamma=5, max_depth=5, reg_alpha=0, reg_lambda=5, score=0.8979938340556721, total=   7.2s\n",
      "[CV] gamma=5, max_depth=5, reg_alpha=3, reg_lambda=0 .................\n",
      "[CV]  gamma=5, max_depth=5, reg_alpha=3, reg_lambda=0, score=0.045722002507957944, total=   5.7s\n",
      "[CV] gamma=5, max_depth=5, reg_alpha=3, reg_lambda=0 .................\n",
      "[CV]  gamma=5, max_depth=5, reg_alpha=3, reg_lambda=0, score=0.7036273201504306, total=  11.5s\n",
      "[CV] gamma=5, max_depth=5, reg_alpha=3, reg_lambda=0 .................\n",
      "[CV]  gamma=5, max_depth=5, reg_alpha=3, reg_lambda=0, score=0.8996778235188831, total=   5.3s\n",
      "[CV] gamma=5, max_depth=5, reg_alpha=3, reg_lambda=1 .................\n",
      "[CV]  gamma=5, max_depth=5, reg_alpha=3, reg_lambda=1, score=0.04645783132530121, total=   5.6s\n",
      "[CV] gamma=5, max_depth=5, reg_alpha=3, reg_lambda=1 .................\n",
      "[CV]  gamma=5, max_depth=5, reg_alpha=3, reg_lambda=1, score=0.7043330501274425, total=   5.5s\n",
      "[CV] gamma=5, max_depth=5, reg_alpha=3, reg_lambda=1 .................\n",
      "[CV]  gamma=5, max_depth=5, reg_alpha=3, reg_lambda=1, score=0.9000760728509419, total=   5.3s\n",
      "[CV] gamma=5, max_depth=5, reg_alpha=3, reg_lambda=3 .................\n",
      "[CV]  gamma=5, max_depth=5, reg_alpha=3, reg_lambda=3, score=0.04570877531340405, total=   5.7s\n",
      "[CV] gamma=5, max_depth=5, reg_alpha=3, reg_lambda=3 .................\n",
      "[CV]  gamma=5, max_depth=5, reg_alpha=3, reg_lambda=3, score=0.7031840917408808, total=   5.5s\n",
      "[CV] gamma=5, max_depth=5, reg_alpha=3, reg_lambda=3 .................\n",
      "[CV]  gamma=5, max_depth=5, reg_alpha=3, reg_lambda=3, score=0.8988161715434442, total=   5.4s\n",
      "[CV] gamma=5, max_depth=5, reg_alpha=3, reg_lambda=5 .................\n",
      "[CV]  gamma=5, max_depth=5, reg_alpha=3, reg_lambda=5, score=0.04588836402198014, total=   5.7s\n",
      "[CV] gamma=5, max_depth=5, reg_alpha=3, reg_lambda=5 .................\n",
      "[CV]  gamma=5, max_depth=5, reg_alpha=3, reg_lambda=5, score=0.7036432843936923, total=   5.5s\n",
      "[CV] gamma=5, max_depth=5, reg_alpha=3, reg_lambda=5 .................\n",
      "[CV]  gamma=5, max_depth=5, reg_alpha=3, reg_lambda=5, score=0.8987256874580818, total=   5.5s\n",
      "[CV] gamma=5, max_depth=5, reg_alpha=5, reg_lambda=0 .................\n",
      "[CV]  gamma=5, max_depth=5, reg_alpha=5, reg_lambda=0, score=0.0413806439137581, total=   5.8s\n",
      "[CV] gamma=5, max_depth=5, reg_alpha=5, reg_lambda=0 .................\n",
      "[CV]  gamma=5, max_depth=5, reg_alpha=5, reg_lambda=0, score=0.7040243902439025, total=   5.5s\n",
      "[CV] gamma=5, max_depth=5, reg_alpha=5, reg_lambda=0 .................\n",
      "[CV]  gamma=5, max_depth=5, reg_alpha=5, reg_lambda=0, score=0.8989980318482734, total=   5.4s\n",
      "[CV] gamma=5, max_depth=5, reg_alpha=5, reg_lambda=1 .................\n",
      "[CV]  gamma=5, max_depth=5, reg_alpha=5, reg_lambda=1, score=0.04230249179061233, total=   5.6s\n",
      "[CV] gamma=5, max_depth=5, reg_alpha=5, reg_lambda=1 .................\n",
      "[CV]  gamma=5, max_depth=5, reg_alpha=5, reg_lambda=1, score=0.7033248081841432, total=   5.5s\n",
      "[CV] gamma=5, max_depth=5, reg_alpha=5, reg_lambda=1 .................\n",
      "[CV]  gamma=5, max_depth=5, reg_alpha=5, reg_lambda=1, score=0.8987217305801376, total=   5.3s\n",
      "[CV] gamma=5, max_depth=5, reg_alpha=5, reg_lambda=3 .................\n",
      "[CV]  gamma=5, max_depth=5, reg_alpha=5, reg_lambda=3, score=0.0442084942084942, total=   5.7s\n",
      "[CV] gamma=5, max_depth=5, reg_alpha=5, reg_lambda=3 .................\n",
      "[CV]  gamma=5, max_depth=5, reg_alpha=5, reg_lambda=3, score=0.7031412015858493, total=   5.5s\n",
      "[CV] gamma=5, max_depth=5, reg_alpha=5, reg_lambda=3 .................\n",
      "[CV]  gamma=5, max_depth=5, reg_alpha=5, reg_lambda=3, score=0.8997360297078432, total=   5.3s\n",
      "[CV] gamma=5, max_depth=5, reg_alpha=5, reg_lambda=5 .................\n",
      "[CV]  gamma=5, max_depth=5, reg_alpha=5, reg_lambda=5, score=0.04118329466357308, total=   5.8s\n",
      "[CV] gamma=5, max_depth=5, reg_alpha=5, reg_lambda=5 .................\n",
      "[CV]  gamma=5, max_depth=5, reg_alpha=5, reg_lambda=5, score=0.7040282341487161, total=   5.5s\n",
      "[CV] gamma=5, max_depth=5, reg_alpha=5, reg_lambda=5 .................\n",
      "[CV]  gamma=5, max_depth=5, reg_alpha=5, reg_lambda=5, score=0.8962133713928906, total=   5.3s\n",
      "[CV] gamma=5, max_depth=5, reg_alpha=8, reg_lambda=0 .................\n",
      "[CV]  gamma=5, max_depth=5, reg_alpha=8, reg_lambda=0, score=0.040409899458623354, total=   5.7s\n",
      "[CV] gamma=5, max_depth=5, reg_alpha=8, reg_lambda=0 .................\n",
      "[CV]  gamma=5, max_depth=5, reg_alpha=8, reg_lambda=0, score=0.7032364234777838, total=   5.6s\n",
      "[CV] gamma=5, max_depth=5, reg_alpha=8, reg_lambda=0 .................\n",
      "[CV]  gamma=5, max_depth=5, reg_alpha=8, reg_lambda=0, score=0.8981506298579469, total=   5.4s\n",
      "[CV] gamma=5, max_depth=5, reg_alpha=8, reg_lambda=1 .................\n",
      "[CV]  gamma=5, max_depth=5, reg_alpha=8, reg_lambda=1, score=0.03983370395436527, total=   5.7s\n",
      "[CV] gamma=5, max_depth=5, reg_alpha=8, reg_lambda=1 .................\n",
      "[CV]  gamma=5, max_depth=5, reg_alpha=8, reg_lambda=1, score=0.7027686303207709, total=   5.6s\n",
      "[CV] gamma=5, max_depth=5, reg_alpha=8, reg_lambda=1 .................\n",
      "[CV]  gamma=5, max_depth=5, reg_alpha=8, reg_lambda=1, score=0.8986996738013316, total=   5.4s\n",
      "[CV] gamma=5, max_depth=5, reg_alpha=8, reg_lambda=3 .................\n",
      "[CV]  gamma=5, max_depth=5, reg_alpha=8, reg_lambda=3, score=0.04155392346347121, total=   5.7s\n",
      "[CV] gamma=5, max_depth=5, reg_alpha=8, reg_lambda=3 .................\n",
      "[CV]  gamma=5, max_depth=5, reg_alpha=8, reg_lambda=3, score=0.7029497805948318, total=   6.5s\n",
      "[CV] gamma=5, max_depth=5, reg_alpha=8, reg_lambda=3 .................\n",
      "[CV]  gamma=5, max_depth=5, reg_alpha=8, reg_lambda=3, score=0.8995078299776286, total=   7.8s\n",
      "[CV] gamma=5, max_depth=5, reg_alpha=8, reg_lambda=5 .................\n"
     ]
    },
    {
     "ename": "KeyboardInterrupt",
     "evalue": "",
     "output_type": "error",
     "traceback": [
      "\u001b[0;31m---------------------------------------------------------------------------\u001b[0m",
      "\u001b[0;31mKeyboardInterrupt\u001b[0m                         Traceback (most recent call last)",
      "\u001b[0;32m<timed exec>\u001b[0m in \u001b[0;36m<module>\u001b[0;34m()\u001b[0m\n",
      "\u001b[0;32m~/.local/lib/python3.6/site-packages/sklearn/model_selection/_search.py\u001b[0m in \u001b[0;36mfit\u001b[0;34m(self, X, y, groups, **fit_params)\u001b[0m\n\u001b[1;32m    636\u001b[0m                                   error_score=self.error_score)\n\u001b[1;32m    637\u001b[0m           for parameters, (train, test) in product(candidate_params,\n\u001b[0;32m--> 638\u001b[0;31m                                                    cv.split(X, y, groups)))\n\u001b[0m\u001b[1;32m    639\u001b[0m \u001b[0;34m\u001b[0m\u001b[0m\n\u001b[1;32m    640\u001b[0m         \u001b[0;31m# if one choose to see train score, \"out\" will contain train score info\u001b[0m\u001b[0;34m\u001b[0m\u001b[0;34m\u001b[0m\u001b[0m\n",
      "\u001b[0;32m~/.local/lib/python3.6/site-packages/sklearn/externals/joblib/parallel.py\u001b[0m in \u001b[0;36m__call__\u001b[0;34m(self, iterable)\u001b[0m\n\u001b[1;32m    777\u001b[0m             \u001b[0;31m# was dispatched. In particular this covers the edge\u001b[0m\u001b[0;34m\u001b[0m\u001b[0;34m\u001b[0m\u001b[0m\n\u001b[1;32m    778\u001b[0m             \u001b[0;31m# case of Parallel used with an exhausted iterator.\u001b[0m\u001b[0;34m\u001b[0m\u001b[0;34m\u001b[0m\u001b[0m\n\u001b[0;32m--> 779\u001b[0;31m             \u001b[0;32mwhile\u001b[0m \u001b[0mself\u001b[0m\u001b[0;34m.\u001b[0m\u001b[0mdispatch_one_batch\u001b[0m\u001b[0;34m(\u001b[0m\u001b[0miterator\u001b[0m\u001b[0;34m)\u001b[0m\u001b[0;34m:\u001b[0m\u001b[0;34m\u001b[0m\u001b[0m\n\u001b[0m\u001b[1;32m    780\u001b[0m                 \u001b[0mself\u001b[0m\u001b[0;34m.\u001b[0m\u001b[0m_iterating\u001b[0m \u001b[0;34m=\u001b[0m \u001b[0;32mTrue\u001b[0m\u001b[0;34m\u001b[0m\u001b[0m\n\u001b[1;32m    781\u001b[0m             \u001b[0;32melse\u001b[0m\u001b[0;34m:\u001b[0m\u001b[0;34m\u001b[0m\u001b[0m\n",
      "\u001b[0;32m~/.local/lib/python3.6/site-packages/sklearn/externals/joblib/parallel.py\u001b[0m in \u001b[0;36mdispatch_one_batch\u001b[0;34m(self, iterator)\u001b[0m\n\u001b[1;32m    623\u001b[0m                 \u001b[0;32mreturn\u001b[0m \u001b[0;32mFalse\u001b[0m\u001b[0;34m\u001b[0m\u001b[0m\n\u001b[1;32m    624\u001b[0m             \u001b[0;32melse\u001b[0m\u001b[0;34m:\u001b[0m\u001b[0;34m\u001b[0m\u001b[0m\n\u001b[0;32m--> 625\u001b[0;31m                 \u001b[0mself\u001b[0m\u001b[0;34m.\u001b[0m\u001b[0m_dispatch\u001b[0m\u001b[0;34m(\u001b[0m\u001b[0mtasks\u001b[0m\u001b[0;34m)\u001b[0m\u001b[0;34m\u001b[0m\u001b[0m\n\u001b[0m\u001b[1;32m    626\u001b[0m                 \u001b[0;32mreturn\u001b[0m \u001b[0;32mTrue\u001b[0m\u001b[0;34m\u001b[0m\u001b[0m\n\u001b[1;32m    627\u001b[0m \u001b[0;34m\u001b[0m\u001b[0m\n",
      "\u001b[0;32m~/.local/lib/python3.6/site-packages/sklearn/externals/joblib/parallel.py\u001b[0m in \u001b[0;36m_dispatch\u001b[0;34m(self, batch)\u001b[0m\n\u001b[1;32m    586\u001b[0m         \u001b[0mdispatch_timestamp\u001b[0m \u001b[0;34m=\u001b[0m \u001b[0mtime\u001b[0m\u001b[0;34m.\u001b[0m\u001b[0mtime\u001b[0m\u001b[0;34m(\u001b[0m\u001b[0;34m)\u001b[0m\u001b[0;34m\u001b[0m\u001b[0m\n\u001b[1;32m    587\u001b[0m         \u001b[0mcb\u001b[0m \u001b[0;34m=\u001b[0m \u001b[0mBatchCompletionCallBack\u001b[0m\u001b[0;34m(\u001b[0m\u001b[0mdispatch_timestamp\u001b[0m\u001b[0;34m,\u001b[0m \u001b[0mlen\u001b[0m\u001b[0;34m(\u001b[0m\u001b[0mbatch\u001b[0m\u001b[0;34m)\u001b[0m\u001b[0;34m,\u001b[0m \u001b[0mself\u001b[0m\u001b[0;34m)\u001b[0m\u001b[0;34m\u001b[0m\u001b[0m\n\u001b[0;32m--> 588\u001b[0;31m         \u001b[0mjob\u001b[0m \u001b[0;34m=\u001b[0m \u001b[0mself\u001b[0m\u001b[0;34m.\u001b[0m\u001b[0m_backend\u001b[0m\u001b[0;34m.\u001b[0m\u001b[0mapply_async\u001b[0m\u001b[0;34m(\u001b[0m\u001b[0mbatch\u001b[0m\u001b[0;34m,\u001b[0m \u001b[0mcallback\u001b[0m\u001b[0;34m=\u001b[0m\u001b[0mcb\u001b[0m\u001b[0;34m)\u001b[0m\u001b[0;34m\u001b[0m\u001b[0m\n\u001b[0m\u001b[1;32m    589\u001b[0m         \u001b[0mself\u001b[0m\u001b[0;34m.\u001b[0m\u001b[0m_jobs\u001b[0m\u001b[0;34m.\u001b[0m\u001b[0mappend\u001b[0m\u001b[0;34m(\u001b[0m\u001b[0mjob\u001b[0m\u001b[0;34m)\u001b[0m\u001b[0;34m\u001b[0m\u001b[0m\n\u001b[1;32m    590\u001b[0m \u001b[0;34m\u001b[0m\u001b[0m\n",
      "\u001b[0;32m~/.local/lib/python3.6/site-packages/sklearn/externals/joblib/_parallel_backends.py\u001b[0m in \u001b[0;36mapply_async\u001b[0;34m(self, func, callback)\u001b[0m\n\u001b[1;32m    109\u001b[0m     \u001b[0;32mdef\u001b[0m \u001b[0mapply_async\u001b[0m\u001b[0;34m(\u001b[0m\u001b[0mself\u001b[0m\u001b[0;34m,\u001b[0m \u001b[0mfunc\u001b[0m\u001b[0;34m,\u001b[0m \u001b[0mcallback\u001b[0m\u001b[0;34m=\u001b[0m\u001b[0;32mNone\u001b[0m\u001b[0;34m)\u001b[0m\u001b[0;34m:\u001b[0m\u001b[0;34m\u001b[0m\u001b[0m\n\u001b[1;32m    110\u001b[0m         \u001b[0;34m\"\"\"Schedule a func to be run\"\"\"\u001b[0m\u001b[0;34m\u001b[0m\u001b[0m\n\u001b[0;32m--> 111\u001b[0;31m         \u001b[0mresult\u001b[0m \u001b[0;34m=\u001b[0m \u001b[0mImmediateResult\u001b[0m\u001b[0;34m(\u001b[0m\u001b[0mfunc\u001b[0m\u001b[0;34m)\u001b[0m\u001b[0;34m\u001b[0m\u001b[0m\n\u001b[0m\u001b[1;32m    112\u001b[0m         \u001b[0;32mif\u001b[0m \u001b[0mcallback\u001b[0m\u001b[0;34m:\u001b[0m\u001b[0;34m\u001b[0m\u001b[0m\n\u001b[1;32m    113\u001b[0m             \u001b[0mcallback\u001b[0m\u001b[0;34m(\u001b[0m\u001b[0mresult\u001b[0m\u001b[0;34m)\u001b[0m\u001b[0;34m\u001b[0m\u001b[0m\n",
      "\u001b[0;32m~/.local/lib/python3.6/site-packages/sklearn/externals/joblib/_parallel_backends.py\u001b[0m in \u001b[0;36m__init__\u001b[0;34m(self, batch)\u001b[0m\n\u001b[1;32m    330\u001b[0m         \u001b[0;31m# Don't delay the application, to avoid keeping the input\u001b[0m\u001b[0;34m\u001b[0m\u001b[0;34m\u001b[0m\u001b[0m\n\u001b[1;32m    331\u001b[0m         \u001b[0;31m# arguments in memory\u001b[0m\u001b[0;34m\u001b[0m\u001b[0;34m\u001b[0m\u001b[0m\n\u001b[0;32m--> 332\u001b[0;31m         \u001b[0mself\u001b[0m\u001b[0;34m.\u001b[0m\u001b[0mresults\u001b[0m \u001b[0;34m=\u001b[0m \u001b[0mbatch\u001b[0m\u001b[0;34m(\u001b[0m\u001b[0;34m)\u001b[0m\u001b[0;34m\u001b[0m\u001b[0m\n\u001b[0m\u001b[1;32m    333\u001b[0m \u001b[0;34m\u001b[0m\u001b[0m\n\u001b[1;32m    334\u001b[0m     \u001b[0;32mdef\u001b[0m \u001b[0mget\u001b[0m\u001b[0;34m(\u001b[0m\u001b[0mself\u001b[0m\u001b[0;34m)\u001b[0m\u001b[0;34m:\u001b[0m\u001b[0;34m\u001b[0m\u001b[0m\n",
      "\u001b[0;32m~/.local/lib/python3.6/site-packages/sklearn/externals/joblib/parallel.py\u001b[0m in \u001b[0;36m__call__\u001b[0;34m(self)\u001b[0m\n\u001b[1;32m    129\u001b[0m \u001b[0;34m\u001b[0m\u001b[0m\n\u001b[1;32m    130\u001b[0m     \u001b[0;32mdef\u001b[0m \u001b[0m__call__\u001b[0m\u001b[0;34m(\u001b[0m\u001b[0mself\u001b[0m\u001b[0;34m)\u001b[0m\u001b[0;34m:\u001b[0m\u001b[0;34m\u001b[0m\u001b[0m\n\u001b[0;32m--> 131\u001b[0;31m         \u001b[0;32mreturn\u001b[0m \u001b[0;34m[\u001b[0m\u001b[0mfunc\u001b[0m\u001b[0;34m(\u001b[0m\u001b[0;34m*\u001b[0m\u001b[0margs\u001b[0m\u001b[0;34m,\u001b[0m \u001b[0;34m**\u001b[0m\u001b[0mkwargs\u001b[0m\u001b[0;34m)\u001b[0m \u001b[0;32mfor\u001b[0m \u001b[0mfunc\u001b[0m\u001b[0;34m,\u001b[0m \u001b[0margs\u001b[0m\u001b[0;34m,\u001b[0m \u001b[0mkwargs\u001b[0m \u001b[0;32min\u001b[0m \u001b[0mself\u001b[0m\u001b[0;34m.\u001b[0m\u001b[0mitems\u001b[0m\u001b[0;34m]\u001b[0m\u001b[0;34m\u001b[0m\u001b[0m\n\u001b[0m\u001b[1;32m    132\u001b[0m \u001b[0;34m\u001b[0m\u001b[0m\n\u001b[1;32m    133\u001b[0m     \u001b[0;32mdef\u001b[0m \u001b[0m__len__\u001b[0m\u001b[0;34m(\u001b[0m\u001b[0mself\u001b[0m\u001b[0;34m)\u001b[0m\u001b[0;34m:\u001b[0m\u001b[0;34m\u001b[0m\u001b[0m\n",
      "\u001b[0;32m~/.local/lib/python3.6/site-packages/sklearn/externals/joblib/parallel.py\u001b[0m in \u001b[0;36m<listcomp>\u001b[0;34m(.0)\u001b[0m\n\u001b[1;32m    129\u001b[0m \u001b[0;34m\u001b[0m\u001b[0m\n\u001b[1;32m    130\u001b[0m     \u001b[0;32mdef\u001b[0m \u001b[0m__call__\u001b[0m\u001b[0;34m(\u001b[0m\u001b[0mself\u001b[0m\u001b[0;34m)\u001b[0m\u001b[0;34m:\u001b[0m\u001b[0;34m\u001b[0m\u001b[0m\n\u001b[0;32m--> 131\u001b[0;31m         \u001b[0;32mreturn\u001b[0m \u001b[0;34m[\u001b[0m\u001b[0mfunc\u001b[0m\u001b[0;34m(\u001b[0m\u001b[0;34m*\u001b[0m\u001b[0margs\u001b[0m\u001b[0;34m,\u001b[0m \u001b[0;34m**\u001b[0m\u001b[0mkwargs\u001b[0m\u001b[0;34m)\u001b[0m \u001b[0;32mfor\u001b[0m \u001b[0mfunc\u001b[0m\u001b[0;34m,\u001b[0m \u001b[0margs\u001b[0m\u001b[0;34m,\u001b[0m \u001b[0mkwargs\u001b[0m \u001b[0;32min\u001b[0m \u001b[0mself\u001b[0m\u001b[0;34m.\u001b[0m\u001b[0mitems\u001b[0m\u001b[0;34m]\u001b[0m\u001b[0;34m\u001b[0m\u001b[0m\n\u001b[0m\u001b[1;32m    132\u001b[0m \u001b[0;34m\u001b[0m\u001b[0m\n\u001b[1;32m    133\u001b[0m     \u001b[0;32mdef\u001b[0m \u001b[0m__len__\u001b[0m\u001b[0;34m(\u001b[0m\u001b[0mself\u001b[0m\u001b[0;34m)\u001b[0m\u001b[0;34m:\u001b[0m\u001b[0;34m\u001b[0m\u001b[0m\n",
      "\u001b[0;32m~/.local/lib/python3.6/site-packages/sklearn/model_selection/_validation.py\u001b[0m in \u001b[0;36m_fit_and_score\u001b[0;34m(estimator, X, y, scorer, train, test, verbose, parameters, fit_params, return_train_score, return_parameters, return_n_test_samples, return_times, error_score)\u001b[0m\n\u001b[1;32m    435\u001b[0m             \u001b[0mestimator\u001b[0m\u001b[0;34m.\u001b[0m\u001b[0mfit\u001b[0m\u001b[0;34m(\u001b[0m\u001b[0mX_train\u001b[0m\u001b[0;34m,\u001b[0m \u001b[0;34m**\u001b[0m\u001b[0mfit_params\u001b[0m\u001b[0;34m)\u001b[0m\u001b[0;34m\u001b[0m\u001b[0m\n\u001b[1;32m    436\u001b[0m         \u001b[0;32melse\u001b[0m\u001b[0;34m:\u001b[0m\u001b[0;34m\u001b[0m\u001b[0m\n\u001b[0;32m--> 437\u001b[0;31m             \u001b[0mestimator\u001b[0m\u001b[0;34m.\u001b[0m\u001b[0mfit\u001b[0m\u001b[0;34m(\u001b[0m\u001b[0mX_train\u001b[0m\u001b[0;34m,\u001b[0m \u001b[0my_train\u001b[0m\u001b[0;34m,\u001b[0m \u001b[0;34m**\u001b[0m\u001b[0mfit_params\u001b[0m\u001b[0;34m)\u001b[0m\u001b[0;34m\u001b[0m\u001b[0m\n\u001b[0m\u001b[1;32m    438\u001b[0m \u001b[0;34m\u001b[0m\u001b[0m\n\u001b[1;32m    439\u001b[0m     \u001b[0;32mexcept\u001b[0m \u001b[0mException\u001b[0m \u001b[0;32mas\u001b[0m \u001b[0me\u001b[0m\u001b[0;34m:\u001b[0m\u001b[0;34m\u001b[0m\u001b[0m\n",
      "\u001b[0;32m/usr/lib/python3.6/site-packages/xgboost-0.6-py3.6.egg/xgboost/sklearn.py\u001b[0m in \u001b[0;36mfit\u001b[0;34m(self, X, y, sample_weight, eval_set, eval_metric, early_stopping_rounds, verbose)\u001b[0m\n\u001b[1;32m    498\u001b[0m                               \u001b[0mearly_stopping_rounds\u001b[0m\u001b[0;34m=\u001b[0m\u001b[0mearly_stopping_rounds\u001b[0m\u001b[0;34m,\u001b[0m\u001b[0;34m\u001b[0m\u001b[0m\n\u001b[1;32m    499\u001b[0m                               \u001b[0mevals_result\u001b[0m\u001b[0;34m=\u001b[0m\u001b[0mevals_result\u001b[0m\u001b[0;34m,\u001b[0m \u001b[0mobj\u001b[0m\u001b[0;34m=\u001b[0m\u001b[0mobj\u001b[0m\u001b[0;34m,\u001b[0m \u001b[0mfeval\u001b[0m\u001b[0;34m=\u001b[0m\u001b[0mfeval\u001b[0m\u001b[0;34m,\u001b[0m\u001b[0;34m\u001b[0m\u001b[0m\n\u001b[0;32m--> 500\u001b[0;31m                               verbose_eval=verbose)\n\u001b[0m\u001b[1;32m    501\u001b[0m \u001b[0;34m\u001b[0m\u001b[0m\n\u001b[1;32m    502\u001b[0m         \u001b[0mself\u001b[0m\u001b[0;34m.\u001b[0m\u001b[0mobjective\u001b[0m \u001b[0;34m=\u001b[0m \u001b[0mxgb_options\u001b[0m\u001b[0;34m[\u001b[0m\u001b[0;34m\"objective\"\u001b[0m\u001b[0;34m]\u001b[0m\u001b[0;34m\u001b[0m\u001b[0m\n",
      "\u001b[0;32m/usr/lib/python3.6/site-packages/xgboost-0.6-py3.6.egg/xgboost/training.py\u001b[0m in \u001b[0;36mtrain\u001b[0;34m(params, dtrain, num_boost_round, evals, obj, feval, maximize, early_stopping_rounds, evals_result, verbose_eval, xgb_model, callbacks, learning_rates)\u001b[0m\n\u001b[1;32m    202\u001b[0m                            \u001b[0mevals\u001b[0m\u001b[0;34m=\u001b[0m\u001b[0mevals\u001b[0m\u001b[0;34m,\u001b[0m\u001b[0;34m\u001b[0m\u001b[0m\n\u001b[1;32m    203\u001b[0m                            \u001b[0mobj\u001b[0m\u001b[0;34m=\u001b[0m\u001b[0mobj\u001b[0m\u001b[0;34m,\u001b[0m \u001b[0mfeval\u001b[0m\u001b[0;34m=\u001b[0m\u001b[0mfeval\u001b[0m\u001b[0;34m,\u001b[0m\u001b[0;34m\u001b[0m\u001b[0m\n\u001b[0;32m--> 204\u001b[0;31m                            xgb_model=xgb_model, callbacks=callbacks)\n\u001b[0m\u001b[1;32m    205\u001b[0m \u001b[0;34m\u001b[0m\u001b[0m\n\u001b[1;32m    206\u001b[0m \u001b[0;34m\u001b[0m\u001b[0m\n",
      "\u001b[0;32m/usr/lib/python3.6/site-packages/xgboost-0.6-py3.6.egg/xgboost/training.py\u001b[0m in \u001b[0;36m_train_internal\u001b[0;34m(params, dtrain, num_boost_round, evals, obj, feval, xgb_model, callbacks)\u001b[0m\n\u001b[1;32m     72\u001b[0m         \u001b[0;31m# Skip the first update if it is a recovery step.\u001b[0m\u001b[0;34m\u001b[0m\u001b[0;34m\u001b[0m\u001b[0m\n\u001b[1;32m     73\u001b[0m         \u001b[0;32mif\u001b[0m \u001b[0mversion\u001b[0m \u001b[0;34m%\u001b[0m \u001b[0;36m2\u001b[0m \u001b[0;34m==\u001b[0m \u001b[0;36m0\u001b[0m\u001b[0;34m:\u001b[0m\u001b[0;34m\u001b[0m\u001b[0m\n\u001b[0;32m---> 74\u001b[0;31m             \u001b[0mbst\u001b[0m\u001b[0;34m.\u001b[0m\u001b[0mupdate\u001b[0m\u001b[0;34m(\u001b[0m\u001b[0mdtrain\u001b[0m\u001b[0;34m,\u001b[0m \u001b[0mi\u001b[0m\u001b[0;34m,\u001b[0m \u001b[0mobj\u001b[0m\u001b[0;34m)\u001b[0m\u001b[0;34m\u001b[0m\u001b[0m\n\u001b[0m\u001b[1;32m     75\u001b[0m             \u001b[0mbst\u001b[0m\u001b[0;34m.\u001b[0m\u001b[0msave_rabit_checkpoint\u001b[0m\u001b[0;34m(\u001b[0m\u001b[0;34m)\u001b[0m\u001b[0;34m\u001b[0m\u001b[0m\n\u001b[1;32m     76\u001b[0m             \u001b[0mversion\u001b[0m \u001b[0;34m+=\u001b[0m \u001b[0;36m1\u001b[0m\u001b[0;34m\u001b[0m\u001b[0m\n",
      "\u001b[0;32m/usr/lib/python3.6/site-packages/xgboost-0.6-py3.6.egg/xgboost/core.py\u001b[0m in \u001b[0;36mupdate\u001b[0;34m(self, dtrain, iteration, fobj)\u001b[0m\n\u001b[1;32m    884\u001b[0m         \u001b[0;32mif\u001b[0m \u001b[0mfobj\u001b[0m \u001b[0;32mis\u001b[0m \u001b[0;32mNone\u001b[0m\u001b[0;34m:\u001b[0m\u001b[0;34m\u001b[0m\u001b[0m\n\u001b[1;32m    885\u001b[0m             _check_call(_LIB.XGBoosterUpdateOneIter(self.handle, ctypes.c_int(iteration),\n\u001b[0;32m--> 886\u001b[0;31m                                                     dtrain.handle))\n\u001b[0m\u001b[1;32m    887\u001b[0m         \u001b[0;32melse\u001b[0m\u001b[0;34m:\u001b[0m\u001b[0;34m\u001b[0m\u001b[0m\n\u001b[1;32m    888\u001b[0m             \u001b[0mpred\u001b[0m \u001b[0;34m=\u001b[0m \u001b[0mself\u001b[0m\u001b[0;34m.\u001b[0m\u001b[0mpredict\u001b[0m\u001b[0;34m(\u001b[0m\u001b[0mdtrain\u001b[0m\u001b[0;34m)\u001b[0m\u001b[0;34m\u001b[0m\u001b[0m\n",
      "\u001b[0;31mKeyboardInterrupt\u001b[0m: "
     ]
    }
   ],
   "source": [
    "%%time\n",
    "xgb = XGBClassifier(n_estimators=200, n_jobs=8)\n",
    "parameters = {'gamma':[1, 5, 10], 'max_depth':[5, 6, 7], 'reg_alpha':[0, 3, 5, 8],\n",
    "              'reg_lambda':[0, 1, 3, 5]}\n",
    "clf = GridSearchCV(xgb, parameters, scoring='f1', verbose=3)\n",
    "clf.fit(X_res, y_res)"
   ]
  },
  {
   "cell_type": "code",
   "execution_count": 15,
   "metadata": {
    "scrolled": true
   },
   "outputs": [
    {
     "ename": "AttributeError",
     "evalue": "'GridSearchCV' object has no attribute 'cv_results_'",
     "output_type": "error",
     "traceback": [
      "\u001b[0;31m---------------------------------------------------------------------------\u001b[0m",
      "\u001b[0;31mAttributeError\u001b[0m                            Traceback (most recent call last)",
      "\u001b[0;32m<ipython-input-15-48c64437b816>\u001b[0m in \u001b[0;36m<module>\u001b[0;34m()\u001b[0m\n\u001b[0;32m----> 1\u001b[0;31m \u001b[0mpd\u001b[0m\u001b[0;34m.\u001b[0m\u001b[0mDataFrame\u001b[0m\u001b[0;34m(\u001b[0m\u001b[0mclf\u001b[0m\u001b[0;34m.\u001b[0m\u001b[0mcv_results_\u001b[0m\u001b[0;34m)\u001b[0m\u001b[0;34m.\u001b[0m\u001b[0msort_values\u001b[0m\u001b[0;34m(\u001b[0m\u001b[0;34m'rank_test_score'\u001b[0m\u001b[0;34m)\u001b[0m\u001b[0;34m\u001b[0m\u001b[0m\n\u001b[0m",
      "\u001b[0;31mAttributeError\u001b[0m: 'GridSearchCV' object has no attribute 'cv_results_'"
     ]
    }
   ],
   "source": [
    "pd.DataFrame(clf.cv_results_).sort_values('rank_test_score')"
   ]
  },
  {
   "cell_type": "code",
   "execution_count": null,
   "metadata": {},
   "outputs": [],
   "source": [
    "clf.best_estimator_"
   ]
  },
  {
   "cell_type": "code",
   "execution_count": null,
   "metadata": {},
   "outputs": [],
   "source": [
    "%%time\n",
    "best = clf.best_estimator_\n",
    "best.fit(X_res, y_res)\n",
    "\n",
    "y_pred2 = best.predict(X_test)\n",
    "y_proba2 = best.predict_proba(X_test)\n",
    "gini_score = eval_gini(y_test, y_proba2[:, 1])\n",
    "report2 = classification_report(y_test, y_pred2, digits=4,\n",
    "                               labels=None, target_names=None)\n",
    "print(report2)\n",
    "print('gini = %.4f' % gini_score)\n",
    "precision2, recall2, _ = precision_recall_curve(y_test, y_proba2[:, 1], pos_label=1)\n",
    "fpr2, tpr2, _ = roc_curve(y_test, y_proba2[:, 1], pos_label=1)\n",
    "\n",
    "fig, (ax21, ax22) = plt.subplots(1, 2, figsize=(10, 5))\n",
    "ax21.plot(fpr2, tpr2)\n",
    "ax21.set_xlabel('False Positive Rate')\n",
    "ax21.set_ylabel('True Positive Rate')\n",
    "ax21.set_title('GradientBoost ROC')\n",
    "ax22.plot(recall2, precision2)\n",
    "ax22.set_xlabel('Recall')\n",
    "ax22.set_ylabel('Precision')\n",
    "ax22.set_title('GradientBoost Precision-Recall')"
   ]
  },
  {
   "cell_type": "code",
   "execution_count": 16,
   "metadata": {
    "scrolled": true
   },
   "outputs": [
    {
     "name": "stdout",
     "output_type": "stream",
     "text": [
      "Fitting 3 folds for each of 8 candidates, totalling 24 fits\n",
      "[CV] colsample_bytree=0.5, gamma=0.1, max_depth=7 ....................\n",
      "[CV] ..... colsample_bytree=0.5, gamma=0.1, max_depth=7, total=   5.1s\n",
      "[CV] colsample_bytree=0.5, gamma=0.1, max_depth=7 ....................\n"
     ]
    },
    {
     "name": "stderr",
     "output_type": "stream",
     "text": [
      "[Parallel(n_jobs=1)]: Done   1 out of   1 | elapsed:    5.2s remaining:    0.0s\n"
     ]
    },
    {
     "name": "stdout",
     "output_type": "stream",
     "text": [
      "[CV] ..... colsample_bytree=0.5, gamma=0.1, max_depth=7, total=   4.5s\n",
      "[CV] colsample_bytree=0.5, gamma=0.1, max_depth=7 ....................\n",
      "[CV] ..... colsample_bytree=0.5, gamma=0.1, max_depth=7, total=   4.4s\n",
      "[CV] colsample_bytree=0.5, gamma=0.1, max_depth=8 ....................\n",
      "[CV] ..... colsample_bytree=0.5, gamma=0.1, max_depth=8, total=   5.6s\n",
      "[CV] colsample_bytree=0.5, gamma=0.1, max_depth=8 ....................\n",
      "[CV] ..... colsample_bytree=0.5, gamma=0.1, max_depth=8, total=   5.3s\n",
      "[CV] colsample_bytree=0.5, gamma=0.1, max_depth=8 ....................\n",
      "[CV] ..... colsample_bytree=0.5, gamma=0.1, max_depth=8, total=   6.0s\n",
      "[CV] colsample_bytree=0.5, gamma=1, max_depth=7 ......................\n",
      "[CV] ....... colsample_bytree=0.5, gamma=1, max_depth=7, total=   5.8s\n",
      "[CV] colsample_bytree=0.5, gamma=1, max_depth=7 ......................\n",
      "[CV] ....... colsample_bytree=0.5, gamma=1, max_depth=7, total=   4.8s\n",
      "[CV] colsample_bytree=0.5, gamma=1, max_depth=7 ......................\n",
      "[CV] ....... colsample_bytree=0.5, gamma=1, max_depth=7, total=   7.5s\n",
      "[CV] colsample_bytree=0.5, gamma=1, max_depth=8 ......................\n",
      "[CV] ....... colsample_bytree=0.5, gamma=1, max_depth=8, total=   6.6s\n",
      "[CV] colsample_bytree=0.5, gamma=1, max_depth=8 ......................\n",
      "[CV] ....... colsample_bytree=0.5, gamma=1, max_depth=8, total=   8.1s\n",
      "[CV] colsample_bytree=0.5, gamma=1, max_depth=8 ......................\n",
      "[CV] ....... colsample_bytree=0.5, gamma=1, max_depth=8, total=   4.7s\n",
      "[CV] colsample_bytree=0.8, gamma=0.1, max_depth=7 ....................\n",
      "[CV] ..... colsample_bytree=0.8, gamma=0.1, max_depth=7, total=   6.4s\n",
      "[CV] colsample_bytree=0.8, gamma=0.1, max_depth=7 ....................\n",
      "[CV] ..... colsample_bytree=0.8, gamma=0.1, max_depth=7, total=   6.5s\n",
      "[CV] colsample_bytree=0.8, gamma=0.1, max_depth=7 ....................\n",
      "[CV] ..... colsample_bytree=0.8, gamma=0.1, max_depth=7, total=   6.1s\n",
      "[CV] colsample_bytree=0.8, gamma=0.1, max_depth=8 ....................\n",
      "[CV] ..... colsample_bytree=0.8, gamma=0.1, max_depth=8, total=   7.4s\n",
      "[CV] colsample_bytree=0.8, gamma=0.1, max_depth=8 ....................\n",
      "[CV] ..... colsample_bytree=0.8, gamma=0.1, max_depth=8, total=   7.2s\n",
      "[CV] colsample_bytree=0.8, gamma=0.1, max_depth=8 ....................\n",
      "[CV] ..... colsample_bytree=0.8, gamma=0.1, max_depth=8, total=   6.9s\n",
      "[CV] colsample_bytree=0.8, gamma=1, max_depth=7 ......................\n",
      "[CV] ....... colsample_bytree=0.8, gamma=1, max_depth=7, total=   6.5s\n",
      "[CV] colsample_bytree=0.8, gamma=1, max_depth=7 ......................\n",
      "[CV] ....... colsample_bytree=0.8, gamma=1, max_depth=7, total=   6.3s\n",
      "[CV] colsample_bytree=0.8, gamma=1, max_depth=7 ......................\n",
      "[CV] ....... colsample_bytree=0.8, gamma=1, max_depth=7, total=   6.2s\n",
      "[CV] colsample_bytree=0.8, gamma=1, max_depth=8 ......................\n",
      "[CV] ....... colsample_bytree=0.8, gamma=1, max_depth=8, total=   7.4s\n",
      "[CV] colsample_bytree=0.8, gamma=1, max_depth=8 ......................\n",
      "[CV] ....... colsample_bytree=0.8, gamma=1, max_depth=8, total=   7.2s\n",
      "[CV] colsample_bytree=0.8, gamma=1, max_depth=8 ......................\n",
      "[CV] ....... colsample_bytree=0.8, gamma=1, max_depth=8, total=   7.7s\n"
     ]
    },
    {
     "name": "stderr",
     "output_type": "stream",
     "text": [
      "[Parallel(n_jobs=1)]: Done  24 out of  24 | elapsed:  2.6min finished\n"
     ]
    },
    {
     "name": "stdout",
     "output_type": "stream",
     "text": [
      "CPU times: user 20min 34s, sys: 935 ms, total: 20min 35s\n",
      "Wall time: 2min 42s\n"
     ]
    }
   ],
   "source": [
    "%%time\n",
    "xgb = XGBClassifier(n_estimators=200, n_jobs=8)\n",
    "parameters = {'gamma':[0.1, 1], 'max_depth':[7, 8], 'colsample_bytree':[0.5, .8]}\n",
    "clf2 = GridSearchCV(xgb, parameters, scoring='f1', verbose=2, n_jobs=1)\n",
    "clf2.fit(X_res, y_res)"
   ]
  },
  {
   "cell_type": "code",
   "execution_count": 17,
   "metadata": {},
   "outputs": [
    {
     "data": {
      "text/plain": [
       "XGBClassifier(base_score=0.5, booster='gbtree', colsample_bylevel=1,\n",
       "       colsample_bytree=0.5, gamma=0.1, learning_rate=0.1,\n",
       "       max_delta_step=0, max_depth=8, min_child_weight=1, missing=None,\n",
       "       n_estimators=200, n_jobs=8, nthread=None,\n",
       "       objective='binary:logistic', random_state=0, reg_alpha=0,\n",
       "       reg_lambda=1, scale_pos_weight=1, seed=None, silent=True,\n",
       "       subsample=1)"
      ]
     },
     "execution_count": 17,
     "metadata": {},
     "output_type": "execute_result"
    }
   ],
   "source": [
    "clf2.best_estimator_"
   ]
  },
  {
   "cell_type": "code",
   "execution_count": 19,
   "metadata": {},
   "outputs": [
    {
     "name": "stdout",
     "output_type": "stream",
     "text": [
      "             precision    recall  f1-score   support\n",
      "\n",
      "          0     0.9667    0.9245    0.9451    169776\n",
      "          1     0.0829    0.1762    0.1128      6571\n",
      "\n",
      "avg / total     0.9337    0.8967    0.9141    176347\n",
      "\n",
      "gini = 0.2705\n",
      "CPU times: user 1min 6s, sys: 118 ms, total: 1min 6s\n",
      "Wall time: 9.08 s\n"
     ]
    },
    {
     "data": {
      "image/png": "[encoded data removed]",
      "text/plain": [
       "<matplotlib.figure.Figure at 0x7f2756784278>"
      ]
     },
     "metadata": {},
     "output_type": "display_data"
    }
   ],
   "source": [
    "%%time\n",
    "best2 = clf2.best_estimator_\n",
    "best2.fit(X_res, y_res)\n",
    "\n",
    "y_pred2 = best2.predict(X_test)\n",
    "y_proba2 = best2.predict_proba(X_test)\n",
    "gini_score = eval_gini(y_test, y_proba2[:, 1])\n",
    "report2 = classification_report(y_test, y_pred2, digits=4,\n",
    "                               labels=None, target_names=None)\n",
    "print(report2)\n",
    "print('gini = %.4f' % gini_score)\n",
    "precision2, recall2, _ = precision_recall_curve(y_test, y_proba2[:, 1], pos_label=1)\n",
    "fpr2, tpr2, _ = roc_curve(y_test, y_proba2[:, 1], pos_label=1)\n",
    "\n",
    "fig, (ax21, ax22) = plt.subplots(1, 2, figsize=(10, 5))\n",
    "ax21.plot(fpr2, tpr2)\n",
    "ax21.set_xlabel('False Positive Rate')\n",
    "ax21.set_ylabel('True Positive Rate')\n",
    "ax21.set_title('GradientBoost ROC')\n",
    "ax22.plot(recall2, precision2)\n",
    "ax22.set_xlabel('Recall')\n",
    "ax22.set_ylabel('Precision')\n",
    "ax22.set_title('GradientBoost Precision-Recall')"
   ]
  },
  {
   "cell_type": "code",
   "execution_count": null,
   "metadata": {},
   "outputs": [],
   "source": []
  },
  {
   "cell_type": "code",
   "execution_count": null,
   "metadata": {},
   "outputs": [],
   "source": []
  },
  {
   "cell_type": "code",
   "execution_count": null,
   "metadata": {},
   "outputs": [],
   "source": []
  },
  {
   "cell_type": "code",
   "execution_count": null,
   "metadata": {},
   "outputs": [],
   "source": []
  },
  {
   "cell_type": "code",
   "execution_count": null,
   "metadata": {},
   "outputs": [],
   "source": []
  },
  {
   "cell_type": "code",
   "execution_count": null,
   "metadata": {},
   "outputs": [],
   "source": []
  }
 ],
 "metadata": {
  "kernelspec": {
   "display_name": "Python 3",
   "language": "python",
   "name": "python3"
  },
  "language_info": {
   "codemirror_mode": {
    "name": "ipython",
    "version": 3
   },
   "file_extension": ".py",
   "mimetype": "text/x-python",
   "name": "python",
   "nbconvert_exporter": "python",
   "pygments_lexer": "ipython3",
   "version": "3.6.2"
  }
 },
 "nbformat": 4,
 "nbformat_minor": 2
}
