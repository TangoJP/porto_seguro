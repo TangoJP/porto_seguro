{
 "cells": [
  {
   "cell_type": "code",
   "execution_count": 3,
   "metadata": {},
   "outputs": [
    {
     "name": "stderr",
     "output_type": "stream",
     "text": [
      "/home/ryohayama/.local/lib/python3.6/site-packages/statsmodels/compat/pandas.py:56: FutureWarning: The pandas.core.datetools module is deprecated and will be removed in a future version. Please use the pandas.tseries module instead.\n",
      "  from pandas.core import datetools\n"
     ]
    }
   ],
   "source": [
    "import pandas as pd\n",
    "import numpy as np\n",
    "import matplotlib.pyplot as plt\n",
    "import scipy\n",
    "import seaborn as sns\n",
    "from matplotlib import cm\n",
    "import statsmodels.api as sm\n",
    "\n",
    "from sklearn.model_selection import GridSearchCV\n",
    "from sklearn.decomposition import PCA\n",
    "from sklearn.preprocessing import StandardScaler\n",
    "\n",
    "%matplotlib inline"
   ]
  },
  {
   "cell_type": "code",
   "execution_count": 5,
   "metadata": {},
   "outputs": [],
   "source": [
    "train = pd.read_csv('./train.csv')\n",
    "bincat = pd.read_csv('./data/class_associated_bincat_features.csv')\n",
    "ordinal = pd.read_csv('./data/class_associated_ordinal_features.csv')\n",
    "data = pd.concat([bincat, ordinal, train.target], axis=1)\n",
    "target = data.target"
   ]
  },
  {
   "cell_type": "code",
   "execution_count": 55,
   "metadata": {},
   "outputs": [
    {
     "data": {
      "text/plain": [
       "59"
      ]
     },
     "execution_count": 55,
     "metadata": {},
     "output_type": "execute_result"
    }
   ],
   "source": [
    "len(train.columns)"
   ]
  },
  {
   "cell_type": "code",
   "execution_count": 7,
   "metadata": {},
   "outputs": [
    {
     "name": "stdout",
     "output_type": "stream",
     "text": [
      "Total # features: 144\n",
      "# bincat features: 132\n",
      "# ordinal features: 11\n"
     ]
    }
   ],
   "source": [
    "num_bincat_features = bincat.shape[1]\n",
    "num_ordinal_features = ordinal.shape[1]\n",
    "num_features = data.shape[1]\n",
    "\n",
    "print('Total # features: %d' % num_features)\n",
    "print('# bincat features: %d' % num_bincat_features)\n",
    "print('# ordinal features: %d' % num_ordinal_features)"
   ]
  },
  {
   "cell_type": "code",
   "execution_count": 12,
   "metadata": {},
   "outputs": [],
   "source": [
    "bincat_features = bincat.columns\n",
    "ordinal_features = ordinal.columns"
   ]
  },
  {
   "cell_type": "code",
   "execution_count": 21,
   "metadata": {},
   "outputs": [
    {
     "data": {
      "text/plain": [
       "Index(['ps_ind_06_bin', 'ps_ind_07_bin', 'ps_ind_08_bin', 'ps_ind_09_bin',\n",
       "       'ps_ind_12_bin', 'ps_ind_16_bin', 'ps_ind_17_bin', 'ps_ind_18_bin',\n",
       "       'ps_car_01_cat_NaN', 'ps_car_01_cat_0',\n",
       "       ...\n",
       "       'ps_ind_04_cat_0', 'ps_ind_04_cat_1', 'ps_ind_05_cat_NaN',\n",
       "       'ps_ind_05_cat_0', 'ps_ind_05_cat_1', 'ps_ind_05_cat_2',\n",
       "       'ps_ind_05_cat_3', 'ps_ind_05_cat_4', 'ps_ind_05_cat_5',\n",
       "       'ps_ind_05_cat_6'],\n",
       "      dtype='object', length=132)"
      ]
     },
     "execution_count": 21,
     "metadata": {},
     "output_type": "execute_result"
    }
   ],
   "source": [
    "bincat_features"
   ]
  },
  {
   "cell_type": "code",
   "execution_count": 20,
   "metadata": {},
   "outputs": [
    {
     "name": "stdout",
     "output_type": "stream",
     "text": [
      "ps_ind_07_bin       0       1\n",
      "ps_ind_06_bin                \n",
      "0              207863  152989\n",
      "1              234360       0\n"
     ]
    }
   ],
   "source": [
    "# There should be no (1, 1) pair\n",
    "significance_level = 0.05\n",
    "table = sm.stats.Table.from_data(bincat.iloc[:, 0:2])\n",
    "rslt = table.test_nominal_association()\n",
    "pval = rslt.pvalue\n",
    "if pval < significance_level:\n",
    "    text = '  NOT  independent'\n",
    "else:\n",
    "    text = 'likely independent'\n",
    "#print('%s-%s pair is %s (p-value=%.3f)' % (bincat_features[0], bincat_features[1], text, pval))\n",
    "print(table.table_orig)"
   ]
  },
  {
   "cell_type": "code",
   "execution_count": null,
   "metadata": {},
   "outputs": [],
   "source": []
  },
  {
   "cell_type": "code",
   "execution_count": 44,
   "metadata": {},
   "outputs": [],
   "source": [
    "important_features = pd.read_csv('./data/important_features1.csv')\n",
    "important_features = sorted(important_features.iloc[:,0].tolist())"
   ]
  },
  {
   "cell_type": "code",
   "execution_count": 46,
   "metadata": {
    "collapsed": true
   },
   "outputs": [
    {
     "name": "stdout",
     "output_type": "stream",
     "text": [
      "127\n"
     ]
    },
    {
     "data": {
      "text/plain": [
       "['ps_car_01_cat_0',\n",
       " 'ps_car_01_cat_1',\n",
       " 'ps_car_01_cat_11',\n",
       " 'ps_car_01_cat_4',\n",
       " 'ps_car_01_cat_5',\n",
       " 'ps_car_01_cat_6',\n",
       " 'ps_car_01_cat_7',\n",
       " 'ps_car_01_cat_8',\n",
       " 'ps_car_01_cat_9',\n",
       " 'ps_car_01_cat_NaN',\n",
       " 'ps_car_02_cat_0',\n",
       " 'ps_car_03_cat_0',\n",
       " 'ps_car_03_cat_1',\n",
       " 'ps_car_03_cat_NaN',\n",
       " 'ps_car_04_cat_0',\n",
       " 'ps_car_04_cat_1',\n",
       " 'ps_car_04_cat_2',\n",
       " 'ps_car_04_cat_6',\n",
       " 'ps_car_04_cat_7',\n",
       " 'ps_car_04_cat_8',\n",
       " 'ps_car_04_cat_9',\n",
       " 'ps_car_05_cat_0',\n",
       " 'ps_car_05_cat_1',\n",
       " 'ps_car_05_cat_NaN',\n",
       " 'ps_car_06_cat_0',\n",
       " 'ps_car_06_cat_1',\n",
       " 'ps_car_06_cat_10',\n",
       " 'ps_car_06_cat_11',\n",
       " 'ps_car_06_cat_12',\n",
       " 'ps_car_06_cat_13',\n",
       " 'ps_car_06_cat_14',\n",
       " 'ps_car_06_cat_15',\n",
       " 'ps_car_06_cat_16',\n",
       " 'ps_car_06_cat_17',\n",
       " 'ps_car_06_cat_2',\n",
       " 'ps_car_06_cat_4',\n",
       " 'ps_car_06_cat_5',\n",
       " 'ps_car_06_cat_8',\n",
       " 'ps_car_06_cat_9',\n",
       " 'ps_car_07_cat_0',\n",
       " 'ps_car_07_cat_1',\n",
       " 'ps_car_07_cat_NaN',\n",
       " 'ps_car_08_cat_0',\n",
       " 'ps_car_09_cat_0',\n",
       " 'ps_car_09_cat_1',\n",
       " 'ps_car_09_cat_4',\n",
       " 'ps_car_09_cat_NaN',\n",
       " 'ps_car_11_cat_10',\n",
       " 'ps_car_11_cat_100',\n",
       " 'ps_car_11_cat_103',\n",
       " 'ps_car_11_cat_104',\n",
       " 'ps_car_11_cat_11',\n",
       " 'ps_car_11_cat_16',\n",
       " 'ps_car_11_cat_17',\n",
       " 'ps_car_11_cat_19',\n",
       " 'ps_car_11_cat_21',\n",
       " 'ps_car_11_cat_28',\n",
       " 'ps_car_11_cat_3',\n",
       " 'ps_car_11_cat_32',\n",
       " 'ps_car_11_cat_33',\n",
       " 'ps_car_11_cat_37',\n",
       " 'ps_car_11_cat_38',\n",
       " 'ps_car_11_cat_39',\n",
       " 'ps_car_11_cat_4',\n",
       " 'ps_car_11_cat_41',\n",
       " 'ps_car_11_cat_42',\n",
       " 'ps_car_11_cat_43',\n",
       " 'ps_car_11_cat_48',\n",
       " 'ps_car_11_cat_5',\n",
       " 'ps_car_11_cat_53',\n",
       " 'ps_car_11_cat_55',\n",
       " 'ps_car_11_cat_57',\n",
       " 'ps_car_11_cat_58',\n",
       " 'ps_car_11_cat_60',\n",
       " 'ps_car_11_cat_62',\n",
       " 'ps_car_11_cat_63',\n",
       " 'ps_car_11_cat_64',\n",
       " 'ps_car_11_cat_65',\n",
       " 'ps_car_11_cat_66',\n",
       " 'ps_car_11_cat_69',\n",
       " 'ps_car_11_cat_71',\n",
       " 'ps_car_11_cat_72',\n",
       " 'ps_car_11_cat_75',\n",
       " 'ps_car_11_cat_79',\n",
       " 'ps_car_11_cat_82',\n",
       " 'ps_car_11_cat_85',\n",
       " 'ps_car_11_cat_87',\n",
       " 'ps_car_11_cat_88',\n",
       " 'ps_car_11_cat_89',\n",
       " 'ps_car_11_cat_9',\n",
       " 'ps_car_11_cat_90',\n",
       " 'ps_car_11_cat_93',\n",
       " 'ps_car_11_cat_94',\n",
       " 'ps_car_11_cat_95',\n",
       " 'ps_car_11_cat_97',\n",
       " 'ps_car_11_cat_99',\n",
       " 'ps_car_12',\n",
       " 'ps_car_13',\n",
       " 'ps_car_14',\n",
       " 'ps_car_15',\n",
       " 'ps_ind_01',\n",
       " 'ps_ind_02_cat_1',\n",
       " 'ps_ind_02_cat_2',\n",
       " 'ps_ind_02_cat_4',\n",
       " 'ps_ind_02_cat_NaN',\n",
       " 'ps_ind_04_cat_0',\n",
       " 'ps_ind_04_cat_1',\n",
       " 'ps_ind_05_cat_0',\n",
       " 'ps_ind_05_cat_1',\n",
       " 'ps_ind_05_cat_2',\n",
       " 'ps_ind_05_cat_3',\n",
       " 'ps_ind_05_cat_4',\n",
       " 'ps_ind_05_cat_5',\n",
       " 'ps_ind_05_cat_6',\n",
       " 'ps_ind_06_bin',\n",
       " 'ps_ind_07_bin',\n",
       " 'ps_ind_08_bin',\n",
       " 'ps_ind_09_bin',\n",
       " 'ps_ind_12_bin',\n",
       " 'ps_ind_14',\n",
       " 'ps_ind_15',\n",
       " 'ps_ind_16_bin',\n",
       " 'ps_ind_17_bin',\n",
       " 'ps_ind_18_bin',\n",
       " 'ps_reg_01',\n",
       " 'ps_reg_02',\n",
       " 'ps_reg_03']"
      ]
     },
     "execution_count": 46,
     "metadata": {},
     "output_type": "execute_result"
    }
   ],
   "source": [
    "print(len(important_features))\n",
    "important_features"
   ]
  },
  {
   "cell_type": "code",
   "execution_count": 53,
   "metadata": {},
   "outputs": [],
   "source": [
    "features = ['ps_car_01_cat', 'ps_car_02_cat', 'ps_car_03_cat', 'ps_car_04_cat',\n",
    "             'ps_car_05_cat', 'ps_car_06_cat', 'ps_car_07_cat', 'ps_car_08_cat',\n",
    "             'ps_car_09_cat', 'ps_car_11_cat',\n",
    "             'ps_car_12', 'ps_car_13', 'ps_car_14', 'ps_car_15',\n",
    "             'ps_ind_01', 'ps_ind_02_cat', 'ps_ind_06_bin', 'ps_ind_07_bin',\n",
    "             'ps_ind_08_bin', 'ps_ind_09_bin', 'ps_ind_12_bin', 'ps_ind_14',\n",
    "             'ps_ind_15', 'ps_ind_16_bin', 'ps_ind_17_bin', 'ps_ind_18_bin',\n",
    "             'ps_reg_01', 'ps_reg_02', 'ps_reg_03']"
   ]
  },
  {
   "cell_type": "code",
   "execution_count": 54,
   "metadata": {},
   "outputs": [
    {
     "data": {
      "text/plain": [
       "29"
      ]
     },
     "execution_count": 54,
     "metadata": {},
     "output_type": "execute_result"
    }
   ],
   "source": [
    "len(features)"
   ]
  },
  {
   "cell_type": "code",
   "execution_count": 52,
   "metadata": {},
   "outputs": [
    {
     "name": "stdout",
     "output_type": "stream",
     "text": [
      "==== ps_car_01_cat_0 vs ps_car_01_cat_0: NOT independent (p-val=0.000) ====\n",
      "ps_car_01_cat_0       0     1\n",
      "ps_car_01_cat_0              \n",
      "0                589308     0\n",
      "1                     0  5904\n",
      "==== ps_car_01_cat_0 vs ps_car_01_cat_1: NOT independent (p-val=0.000) ====\n",
      "ps_car_01_cat_1       0     1\n",
      "ps_car_01_cat_0              \n",
      "0                587941  1367\n",
      "1                  5904     0\n",
      "==== ps_car_01_cat_0 vs ps_car_01_cat_11: NOT independent (p-val=0.000) ====\n",
      "ps_car_01_cat_11       0       1\n",
      "ps_car_01_cat_0                 \n",
      "0                 381735  207573\n",
      "1                   5904       0\n",
      "==== ps_car_01_cat_0 vs ps_car_01_cat_4: NOT independent (p-val=0.000) ====\n",
      "ps_car_01_cat_4       0      1\n",
      "ps_car_01_cat_0               \n",
      "0                563134  26174\n",
      "1                  5904      0\n",
      "==== ps_car_01_cat_0 vs ps_car_01_cat_5: NOT independent (p-val=0.000) ====\n",
      "ps_car_01_cat_5       0      1\n",
      "ps_car_01_cat_0               \n",
      "0                571166  18142\n",
      "1                  5904      0\n",
      "==== ps_car_01_cat_0 vs ps_car_01_cat_6: NOT independent (p-val=0.000) ====\n",
      "ps_car_01_cat_6       0      1\n",
      "ps_car_01_cat_0               \n",
      "0                526915  62393\n",
      "1                  5904      0\n",
      "==== ps_car_01_cat_0 vs ps_car_01_cat_7: NOT independent (p-val=0.000) ====\n",
      "ps_car_01_cat_7       0       1\n",
      "ps_car_01_cat_0                \n",
      "0                410061  179247\n",
      "1                  5904       0\n",
      "==== ps_car_01_cat_0 vs ps_car_01_cat_8: NOT independent (p-val=0.000) ====\n",
      "ps_car_01_cat_8       0      1\n",
      "ps_car_01_cat_0               \n",
      "0                574215  15093\n",
      "1                  5904      0\n",
      "==== ps_car_01_cat_0 vs ps_car_01_cat_9: NOT independent (p-val=0.000) ====\n",
      "ps_car_01_cat_9       0      1\n",
      "ps_car_01_cat_0               \n",
      "0                568985  20323\n",
      "1                  5904      0\n",
      "==== ps_car_01_cat_0 vs ps_car_01_cat_NaN: Independent (p-val=0.579) ====\n",
      "ps_car_01_cat_NaN       0    1\n",
      "ps_car_01_cat_0               \n",
      "0                  589201  107\n",
      "1                    5904    0\n"
     ]
    }
   ],
   "source": [
    "significance_level = 0.05\n",
    "\n",
    "for i in range(10):\n",
    "    f1 = important_features[0]\n",
    "    f2 = important_features[i]\n",
    "    table = sm.stats.Table.from_data(bincat.loc[:, [f1, f2]])\n",
    "    rslt = table.test_nominal_association()\n",
    "    pval = rslt.pvalue\n",
    "    if pval < significance_level:\n",
    "        text = 'NOT independent'\n",
    "    else:\n",
    "        text = 'Independent'\n",
    "    print('==== %s vs %s: %s (p-val=%.3f) ====' % (f1, f2, text, pval))\n",
    "    print(table.table_orig)"
   ]
  },
  {
   "cell_type": "code",
   "execution_count": null,
   "metadata": {},
   "outputs": [],
   "source": []
  },
  {
   "cell_type": "code",
   "execution_count": null,
   "metadata": {},
   "outputs": [],
   "source": []
  },
  {
   "cell_type": "code",
   "execution_count": null,
   "metadata": {},
   "outputs": [],
   "source": []
  },
  {
   "cell_type": "code",
   "execution_count": null,
   "metadata": {},
   "outputs": [],
   "source": []
  },
  {
   "cell_type": "code",
   "execution_count": null,
   "metadata": {},
   "outputs": [],
   "source": []
  },
  {
   "cell_type": "code",
   "execution_count": null,
   "metadata": {},
   "outputs": [],
   "source": []
  },
  {
   "cell_type": "code",
   "execution_count": null,
   "metadata": {},
   "outputs": [],
   "source": []
  },
  {
   "cell_type": "code",
   "execution_count": null,
   "metadata": {},
   "outputs": [],
   "source": []
  },
  {
   "cell_type": "code",
   "execution_count": null,
   "metadata": {},
   "outputs": [],
   "source": []
  },
  {
   "cell_type": "code",
   "execution_count": null,
   "metadata": {},
   "outputs": [],
   "source": []
  },
  {
   "cell_type": "code",
   "execution_count": null,
   "metadata": {},
   "outputs": [],
   "source": []
  },
  {
   "cell_type": "code",
   "execution_count": null,
   "metadata": {},
   "outputs": [],
   "source": []
  },
  {
   "cell_type": "code",
   "execution_count": null,
   "metadata": {},
   "outputs": [],
   "source": []
  },
  {
   "cell_type": "code",
   "execution_count": null,
   "metadata": {},
   "outputs": [],
   "source": []
  },
  {
   "cell_type": "code",
   "execution_count": null,
   "metadata": {},
   "outputs": [],
   "source": []
  },
  {
   "cell_type": "code",
   "execution_count": null,
   "metadata": {},
   "outputs": [],
   "source": []
  },
  {
   "cell_type": "code",
   "execution_count": null,
   "metadata": {},
   "outputs": [],
   "source": []
  },
  {
   "cell_type": "code",
   "execution_count": null,
   "metadata": {},
   "outputs": [],
   "source": []
  },
  {
   "cell_type": "code",
   "execution_count": null,
   "metadata": {},
   "outputs": [],
   "source": []
  },
  {
   "cell_type": "code",
   "execution_count": null,
   "metadata": {},
   "outputs": [],
   "source": []
  },
  {
   "cell_type": "code",
   "execution_count": null,
   "metadata": {},
   "outputs": [],
   "source": []
  },
  {
   "cell_type": "code",
   "execution_count": null,
   "metadata": {},
   "outputs": [],
   "source": []
  },
  {
   "cell_type": "code",
   "execution_count": null,
   "metadata": {},
   "outputs": [],
   "source": []
  },
  {
   "cell_type": "code",
   "execution_count": null,
   "metadata": {},
   "outputs": [],
   "source": []
  },
  {
   "cell_type": "code",
   "execution_count": null,
   "metadata": {},
   "outputs": [],
   "source": []
  },
  {
   "cell_type": "code",
   "execution_count": null,
   "metadata": {},
   "outputs": [],
   "source": []
  }
 ],
 "metadata": {
  "kernelspec": {
   "display_name": "Python 3",
   "language": "python",
   "name": "python3"
  },
  "language_info": {
   "codemirror_mode": {
    "name": "ipython",
    "version": 3
   },
   "file_extension": ".py",
   "mimetype": "text/x-python",
   "name": "python",
   "nbconvert_exporter": "python",
   "pygments_lexer": "ipython3",
   "version": "3.6.2"
  }
 },
 "nbformat": 4,
 "nbformat_minor": 2
}
