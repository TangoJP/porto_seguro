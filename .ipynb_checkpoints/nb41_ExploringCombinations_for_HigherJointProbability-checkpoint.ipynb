{
 "cells": [
  {
   "cell_type": "code",
   "execution_count": 1,
   "metadata": {},
   "outputs": [
    {
     "name": "stderr",
     "output_type": "stream",
     "text": [
      "/home/ryohayama/.local/lib/python3.6/site-packages/statsmodels/compat/pandas.py:56: FutureWarning: The pandas.core.datetools module is deprecated and will be removed in a future version. Please use the pandas.tseries module instead.\n",
      "  from pandas.core import datetools\n"
     ]
    }
   ],
   "source": [
    "import pandas as pd\n",
    "import numpy as np\n",
    "import matplotlib.pyplot as plt\n",
    "import statsmodels.api as sm\n",
    "%matplotlib inline\n",
    "\n",
    "from importlib import reload\n",
    "from matplotlib import cm\n",
    "\n",
    "from sklearn.decomposition import PCA\n",
    "\n",
    "import feature_analysis as fa\n",
    "import ps.joint_probability as psjp\n",
    "\n",
    "import warnings\n",
    "warnings.simplefilter(\"ignore\", category=PendingDeprecationWarning)\n",
    "warnings.simplefilter(\"ignore\", category=DeprecationWarning)"
   ]
  },
  {
   "cell_type": "code",
   "execution_count": 2,
   "metadata": {},
   "outputs": [],
   "source": [
    "train = pd.read_csv('train.csv', header=0)\n",
    "\n",
    "all_fs = train.columns[2:]\n",
    "binary_fs = sorted([f for f in all_fs if '_bin' in f])\n",
    "categorical_fs = sorted([f for f in all_fs if '_cat' in f])\n",
    "other_fs = sorted([f for f in all_fs\n",
    "                if f not in binary_fs\n",
    "                if f not in categorical_fs])\n",
    "\n",
    "target = train.target"
   ]
  },
  {
   "cell_type": "code",
   "execution_count": 3,
   "metadata": {},
   "outputs": [
    {
     "data": {
      "text/plain": [
       "0.036447517859182946"
      ]
     },
     "execution_count": 3,
     "metadata": {},
     "output_type": "execute_result"
    }
   ],
   "source": [
    "num_samples = len(target)\n",
    "num_target = np.sum(target)\n",
    "freq_target = num_target/num_samples\n",
    "freq_target"
   ]
  },
  {
   "cell_type": "markdown",
   "metadata": {},
   "source": [
    "### ind_bin"
   ]
  },
  {
   "cell_type": "code",
   "execution_count": 4,
   "metadata": {},
   "outputs": [
    {
     "data": {
      "text/plain": [
       "Index(['ps_ind_06_bin', 'ps_ind_07_bin', 'ps_ind_08_bin', 'ps_ind_09_bin',\n",
       "       'ps_ind_10_bin', 'ps_ind_11_bin', 'ps_ind_12_bin', 'ps_ind_13_bin',\n",
       "       'ps_ind_16_bin', 'ps_ind_17_bin', 'ps_ind_18_bin'],\n",
       "      dtype='object')"
      ]
     },
     "execution_count": 4,
     "metadata": {},
     "output_type": "execute_result"
    }
   ],
   "source": [
    "ind_bins_fs = [f for f in all_fs \n",
    "               if '_bin' in f\n",
    "               if '_ind' in f]\n",
    "ind_bins = train[ind_bins_fs]\n",
    "\n",
    "ind_bins.columns"
   ]
  },
  {
   "cell_type": "code",
   "execution_count": 5,
   "metadata": {},
   "outputs": [
    {
     "data": {
      "text/plain": [
       "<module 'ps.joint_probability' from '/home/ryohayama/python_current/porto_seguro/ps/joint_probability.py'>"
      ]
     },
     "execution_count": 5,
     "metadata": {},
     "output_type": "execute_result"
    }
   ],
   "source": [
    "reload(psjp)"
   ]
  },
  {
   "cell_type": "code",
   "execution_count": 6,
   "metadata": {},
   "outputs": [],
   "source": [
    "jpopt = psjp.JointProbabilityOptimizer(ind_bins, verbose=True)"
   ]
  },
  {
   "cell_type": "code",
   "execution_count": 7,
   "metadata": {},
   "outputs": [
    {
     "data": {
      "text/plain": [
       "['ps_ind_06_bin',\n",
       " 'ps_ind_07_bin',\n",
       " 'ps_ind_08_bin',\n",
       " 'ps_ind_09_bin',\n",
       " 'ps_ind_10_bin',\n",
       " 'ps_ind_11_bin',\n",
       " 'ps_ind_12_bin',\n",
       " 'ps_ind_13_bin',\n",
       " 'ps_ind_16_bin',\n",
       " 'ps_ind_17_bin',\n",
       " 'ps_ind_18_bin']"
      ]
     },
     "execution_count": 7,
     "metadata": {},
     "output_type": "execute_result"
    }
   ],
   "source": [
    "jpopt.feature_list_"
   ]
  },
  {
   "cell_type": "code",
   "execution_count": 8,
   "metadata": {},
   "outputs": [
    {
     "name": "stdout",
     "output_type": "stream",
     "text": [
      " 0/11: Processing Original\n",
      " 1/11: Processing without ps_ind_06_bin\n",
      " 2/11: Processing without ps_ind_07_bin\n",
      " 3/11: Processing without ps_ind_08_bin\n",
      " 4/11: Processing without ps_ind_09_bin\n",
      " 5/11: Processing without ps_ind_10_bin\n",
      " 6/11: Processing without ps_ind_11_bin\n",
      " 7/11: Processing without ps_ind_12_bin\n",
      " 8/11: Processing without ps_ind_13_bin\n",
      " 9/11: Processing without ps_ind_16_bin\n",
      "10/11: Processing without ps_ind_17_bin\n",
      "11/11: Processing without ps_ind_18_bin\n",
      "CPU times: user 1min 30s, sys: 711 ms, total: 1min 31s\n",
      "Wall time: 1min 31s\n"
     ]
    }
   ],
   "source": [
    "%%time\n",
    "res = jpopt.selectByElimination(target)"
   ]
  },
  {
   "cell_type": "code",
   "execution_count": 9,
   "metadata": {},
   "outputs": [
    {
     "data": {
      "text/html": [
       "<div>\n",
       "<style scoped>\n",
       "    .dataframe tbody tr th:only-of-type {\n",
       "        vertical-align: middle;\n",
       "    }\n",
       "\n",
       "    .dataframe tbody tr th {\n",
       "        vertical-align: top;\n",
       "    }\n",
       "\n",
       "    .dataframe thead th {\n",
       "        text-align: right;\n",
       "    }\n",
       "</style>\n",
       "<table border=\"1\" class=\"dataframe\">\n",
       "  <thead>\n",
       "    <tr style=\"text-align: right;\">\n",
       "      <th></th>\n",
       "      <th>exp_val</th>\n",
       "      <th>importance_</th>\n",
       "    </tr>\n",
       "  </thead>\n",
       "  <tbody>\n",
       "    <tr>\n",
       "      <th>ps_ind_17_bin</th>\n",
       "      <td>855.039591</td>\n",
       "      <td>1.223528e-02</td>\n",
       "    </tr>\n",
       "    <tr>\n",
       "      <th>ps_ind_12_bin</th>\n",
       "      <td>861.914458</td>\n",
       "      <td>4.293249e-03</td>\n",
       "    </tr>\n",
       "    <tr>\n",
       "      <th>ps_ind_13_bin</th>\n",
       "      <td>861.985986</td>\n",
       "      <td>4.210617e-03</td>\n",
       "    </tr>\n",
       "    <tr>\n",
       "      <th>ps_ind_11_bin</th>\n",
       "      <td>863.484227</td>\n",
       "      <td>2.479809e-03</td>\n",
       "    </tr>\n",
       "    <tr>\n",
       "      <th>ps_ind_10_bin</th>\n",
       "      <td>863.597897</td>\n",
       "      <td>2.348495e-03</td>\n",
       "    </tr>\n",
       "    <tr>\n",
       "      <th>ps_ind_16_bin</th>\n",
       "      <td>864.160795</td>\n",
       "      <td>1.698220e-03</td>\n",
       "    </tr>\n",
       "    <tr>\n",
       "      <th>ps_ind_18_bin</th>\n",
       "      <td>864.571180</td>\n",
       "      <td>1.224132e-03</td>\n",
       "    </tr>\n",
       "    <tr>\n",
       "      <th>ps_ind_07_bin</th>\n",
       "      <td>865.630826</td>\n",
       "      <td>2.220446e-16</td>\n",
       "    </tr>\n",
       "    <tr>\n",
       "      <th>ps_ind_06_bin</th>\n",
       "      <td>865.630826</td>\n",
       "      <td>1.110223e-16</td>\n",
       "    </tr>\n",
       "    <tr>\n",
       "      <th>initial</th>\n",
       "      <td>865.630826</td>\n",
       "      <td>0.000000e+00</td>\n",
       "    </tr>\n",
       "    <tr>\n",
       "      <th>ps_ind_08_bin</th>\n",
       "      <td>865.630826</td>\n",
       "      <td>0.000000e+00</td>\n",
       "    </tr>\n",
       "    <tr>\n",
       "      <th>ps_ind_09_bin</th>\n",
       "      <td>865.630826</td>\n",
       "      <td>0.000000e+00</td>\n",
       "    </tr>\n",
       "  </tbody>\n",
       "</table>\n",
       "</div>"
      ],
      "text/plain": [
       "                  exp_val   importance_\n",
       "ps_ind_17_bin  855.039591  1.223528e-02\n",
       "ps_ind_12_bin  861.914458  4.293249e-03\n",
       "ps_ind_13_bin  861.985986  4.210617e-03\n",
       "ps_ind_11_bin  863.484227  2.479809e-03\n",
       "ps_ind_10_bin  863.597897  2.348495e-03\n",
       "ps_ind_16_bin  864.160795  1.698220e-03\n",
       "ps_ind_18_bin  864.571180  1.224132e-03\n",
       "ps_ind_07_bin  865.630826  2.220446e-16\n",
       "ps_ind_06_bin  865.630826  1.110223e-16\n",
       "initial        865.630826  0.000000e+00\n",
       "ps_ind_08_bin  865.630826  0.000000e+00\n",
       "ps_ind_09_bin  865.630826  0.000000e+00"
      ]
     },
     "execution_count": 9,
     "metadata": {},
     "output_type": "execute_result"
    }
   ],
   "source": [
    "pd.DataFrame({'exp_val': res[0], 'importance_': res[1]}).sort_values('importance_', ascending=False)"
   ]
  },
  {
   "cell_type": "code",
   "execution_count": 10,
   "metadata": {},
   "outputs": [],
   "source": [
    "new_list = jpopt.feature_list_.copy()\n",
    "new_list.remove('ps_ind_08_bin')\n",
    "new_list.remove('ps_ind_09_bin')\n",
    "new_feature = train[new_list]"
   ]
  },
  {
   "cell_type": "code",
   "execution_count": 11,
   "metadata": {},
   "outputs": [
    {
     "data": {
      "text/plain": [
       "Index(['ps_ind_06_bin', 'ps_ind_07_bin', 'ps_ind_10_bin', 'ps_ind_11_bin',\n",
       "       'ps_ind_12_bin', 'ps_ind_13_bin', 'ps_ind_16_bin', 'ps_ind_17_bin',\n",
       "       'ps_ind_18_bin'],\n",
       "      dtype='object')"
      ]
     },
     "execution_count": 11,
     "metadata": {},
     "output_type": "execute_result"
    }
   ],
   "source": [
    "new_feature.columns"
   ]
  },
  {
   "cell_type": "code",
   "execution_count": 12,
   "metadata": {},
   "outputs": [
    {
     "name": "stdout",
     "output_type": "stream",
     "text": [
      " 0/ 9: Processing Original\n",
      " 1/ 9: Processing without ps_ind_06_bin\n",
      " 2/ 9: Processing without ps_ind_07_bin\n",
      " 3/ 9: Processing without ps_ind_10_bin\n",
      " 4/ 9: Processing without ps_ind_11_bin\n",
      " 5/ 9: Processing without ps_ind_12_bin\n",
      " 6/ 9: Processing without ps_ind_13_bin\n",
      " 7/ 9: Processing without ps_ind_16_bin\n",
      " 8/ 9: Processing without ps_ind_17_bin\n",
      " 9/ 9: Processing without ps_ind_18_bin\n",
      "CPU times: user 1min 15s, sys: 358 ms, total: 1min 15s\n",
      "Wall time: 1min 15s\n"
     ]
    }
   ],
   "source": [
    "%%time\n",
    "jpopt2 = psjp.JointProbabilityOptimizer(new_feature, verbose=True)\n",
    "res2 = jpopt2.selectByElimination(target)"
   ]
  },
  {
   "cell_type": "code",
   "execution_count": 13,
   "metadata": {},
   "outputs": [
    {
     "data": {
      "text/html": [
       "<div>\n",
       "<style scoped>\n",
       "    .dataframe tbody tr th:only-of-type {\n",
       "        vertical-align: middle;\n",
       "    }\n",
       "\n",
       "    .dataframe tbody tr th {\n",
       "        vertical-align: top;\n",
       "    }\n",
       "\n",
       "    .dataframe thead th {\n",
       "        text-align: right;\n",
       "    }\n",
       "</style>\n",
       "<table border=\"1\" class=\"dataframe\">\n",
       "  <thead>\n",
       "    <tr style=\"text-align: right;\">\n",
       "      <th></th>\n",
       "      <th>exp_val_removed</th>\n",
       "      <th>importance_</th>\n",
       "    </tr>\n",
       "  </thead>\n",
       "  <tbody>\n",
       "    <tr>\n",
       "      <th>ps_ind_07_bin</th>\n",
       "      <td>848.175564</td>\n",
       "      <td>0.013909</td>\n",
       "    </tr>\n",
       "    <tr>\n",
       "      <th>ps_ind_17_bin</th>\n",
       "      <td>849.473272</td>\n",
       "      <td>0.012400</td>\n",
       "    </tr>\n",
       "    <tr>\n",
       "      <th>ps_ind_06_bin</th>\n",
       "      <td>850.736883</td>\n",
       "      <td>0.010931</td>\n",
       "    </tr>\n",
       "    <tr>\n",
       "      <th>ps_ind_12_bin</th>\n",
       "      <td>856.521820</td>\n",
       "      <td>0.004206</td>\n",
       "    </tr>\n",
       "    <tr>\n",
       "      <th>ps_ind_13_bin</th>\n",
       "      <td>857.290724</td>\n",
       "      <td>0.003312</td>\n",
       "    </tr>\n",
       "    <tr>\n",
       "      <th>ps_ind_11_bin</th>\n",
       "      <td>858.043018</td>\n",
       "      <td>0.002437</td>\n",
       "    </tr>\n",
       "    <tr>\n",
       "      <th>ps_ind_10_bin</th>\n",
       "      <td>858.484651</td>\n",
       "      <td>0.001924</td>\n",
       "    </tr>\n",
       "    <tr>\n",
       "      <th>ps_ind_16_bin</th>\n",
       "      <td>858.685634</td>\n",
       "      <td>0.001690</td>\n",
       "    </tr>\n",
       "    <tr>\n",
       "      <th>ps_ind_18_bin</th>\n",
       "      <td>859.157138</td>\n",
       "      <td>0.001142</td>\n",
       "    </tr>\n",
       "    <tr>\n",
       "      <th>initial</th>\n",
       "      <td>860.139383</td>\n",
       "      <td>0.000000</td>\n",
       "    </tr>\n",
       "  </tbody>\n",
       "</table>\n",
       "</div>"
      ],
      "text/plain": [
       "               exp_val_removed  importance_\n",
       "ps_ind_07_bin       848.175564     0.013909\n",
       "ps_ind_17_bin       849.473272     0.012400\n",
       "ps_ind_06_bin       850.736883     0.010931\n",
       "ps_ind_12_bin       856.521820     0.004206\n",
       "ps_ind_13_bin       857.290724     0.003312\n",
       "ps_ind_11_bin       858.043018     0.002437\n",
       "ps_ind_10_bin       858.484651     0.001924\n",
       "ps_ind_16_bin       858.685634     0.001690\n",
       "ps_ind_18_bin       859.157138     0.001142\n",
       "initial             860.139383     0.000000"
      ]
     },
     "execution_count": 13,
     "metadata": {},
     "output_type": "execute_result"
    }
   ],
   "source": [
    "pd.DataFrame({'exp_val_removed': res2[0], 'importance_': res2[1]}).sort_values('importance_', ascending=False)"
   ]
  },
  {
   "cell_type": "code",
   "execution_count": null,
   "metadata": {},
   "outputs": [],
   "source": []
  },
  {
   "cell_type": "code",
   "execution_count": null,
   "metadata": {},
   "outputs": [],
   "source": []
  },
  {
   "cell_type": "code",
   "execution_count": 14,
   "metadata": {},
   "outputs": [
    {
     "data": {
      "text/plain": [
       "['ps_calc_15_bin',\n",
       " 'ps_calc_16_bin',\n",
       " 'ps_calc_17_bin',\n",
       " 'ps_calc_18_bin',\n",
       " 'ps_calc_19_bin',\n",
       " 'ps_calc_20_bin']"
      ]
     },
     "execution_count": 14,
     "metadata": {},
     "output_type": "execute_result"
    }
   ],
   "source": [
    "calc_bins_fs = [f for f in binary_fs \n",
    "               if '_bin' in f\n",
    "               if '_calc' in f]\n",
    "calc_bins = train[calc_bins_fs]\n",
    "calc_bins_fs"
   ]
  },
  {
   "cell_type": "code",
   "execution_count": 15,
   "metadata": {},
   "outputs": [
    {
     "name": "stdout",
     "output_type": "stream",
     "text": [
      " 0/ 6: Processing Original\n",
      " 1/ 6: Processing without ps_calc_15_bin\n",
      " 2/ 6: Processing without ps_calc_16_bin\n",
      " 3/ 6: Processing without ps_calc_17_bin\n",
      " 4/ 6: Processing without ps_calc_18_bin\n",
      " 5/ 6: Processing without ps_calc_19_bin\n",
      " 6/ 6: Processing without ps_calc_20_bin\n",
      "CPU times: user 51.8 s, sys: 160 ms, total: 52 s\n",
      "Wall time: 52 s\n"
     ]
    }
   ],
   "source": [
    "%%time\n",
    "jpopt3 = psjp.JointProbabilityOptimizer(calc_bins, verbose=True)\n",
    "res3 = jpopt3.selectByElimination(target)"
   ]
  },
  {
   "cell_type": "code",
   "execution_count": 16,
   "metadata": {},
   "outputs": [
    {
     "data": {
      "text/html": [
       "<div>\n",
       "<style scoped>\n",
       "    .dataframe tbody tr th:only-of-type {\n",
       "        vertical-align: middle;\n",
       "    }\n",
       "\n",
       "    .dataframe tbody tr th {\n",
       "        vertical-align: top;\n",
       "    }\n",
       "\n",
       "    .dataframe thead th {\n",
       "        text-align: right;\n",
       "    }\n",
       "</style>\n",
       "<table border=\"1\" class=\"dataframe\">\n",
       "  <thead>\n",
       "    <tr style=\"text-align: right;\">\n",
       "      <th></th>\n",
       "      <th>exp_val_removed</th>\n",
       "      <th>importance_</th>\n",
       "    </tr>\n",
       "  </thead>\n",
       "  <tbody>\n",
       "    <tr>\n",
       "      <th>ps_calc_17_bin</th>\n",
       "      <td>791.570945</td>\n",
       "      <td>0.002123</td>\n",
       "    </tr>\n",
       "    <tr>\n",
       "      <th>ps_calc_19_bin</th>\n",
       "      <td>791.770398</td>\n",
       "      <td>0.001872</td>\n",
       "    </tr>\n",
       "    <tr>\n",
       "      <th>ps_calc_18_bin</th>\n",
       "      <td>791.772855</td>\n",
       "      <td>0.001869</td>\n",
       "    </tr>\n",
       "    <tr>\n",
       "      <th>ps_calc_15_bin</th>\n",
       "      <td>791.815768</td>\n",
       "      <td>0.001815</td>\n",
       "    </tr>\n",
       "    <tr>\n",
       "      <th>ps_calc_16_bin</th>\n",
       "      <td>791.862140</td>\n",
       "      <td>0.001756</td>\n",
       "    </tr>\n",
       "    <tr>\n",
       "      <th>ps_calc_20_bin</th>\n",
       "      <td>792.087620</td>\n",
       "      <td>0.001472</td>\n",
       "    </tr>\n",
       "    <tr>\n",
       "      <th>initial</th>\n",
       "      <td>793.255422</td>\n",
       "      <td>0.000000</td>\n",
       "    </tr>\n",
       "  </tbody>\n",
       "</table>\n",
       "</div>"
      ],
      "text/plain": [
       "                exp_val_removed  importance_\n",
       "ps_calc_17_bin       791.570945     0.002123\n",
       "ps_calc_19_bin       791.770398     0.001872\n",
       "ps_calc_18_bin       791.772855     0.001869\n",
       "ps_calc_15_bin       791.815768     0.001815\n",
       "ps_calc_16_bin       791.862140     0.001756\n",
       "ps_calc_20_bin       792.087620     0.001472\n",
       "initial              793.255422     0.000000"
      ]
     },
     "execution_count": 16,
     "metadata": {},
     "output_type": "execute_result"
    }
   ],
   "source": [
    "pd.DataFrame({'exp_val_removed': res3[0], 'importance_': res3[1]}).sort_values('importance_', ascending=False)"
   ]
  },
  {
   "cell_type": "code",
   "execution_count": null,
   "metadata": {},
   "outputs": [],
   "source": []
  },
  {
   "cell_type": "code",
   "execution_count": null,
   "metadata": {},
   "outputs": [],
   "source": []
  },
  {
   "cell_type": "code",
   "execution_count": 17,
   "metadata": {},
   "outputs": [
    {
     "name": "stdout",
     "output_type": "stream",
     "text": [
      "['ps_car_02_cat', 'ps_car_03_cat', 'ps_car_05_cat', 'ps_car_07_cat', 'ps_car_08_cat', 'ps_car_09_cat', 'ps_car_10_cat']\n",
      "['ps_car_01_cat', 'ps_car_04_cat', 'ps_car_06_cat', 'ps_car_11_cat']\n"
     ]
    }
   ],
   "source": [
    "car_cats_fs = [f for f in categorical_fs if 'car' in f]\n",
    "car_cats = train[car_cats_fs] + 1\n",
    "\n",
    "car_cat_small_fs = ['ps_car_02_cat', 'ps_car_03_cat', 'ps_car_05_cat', 'ps_car_07_cat',\n",
    "                     'ps_car_08_cat', 'ps_car_09_cat', 'ps_car_10_cat']\n",
    "car_cat_big_fs = [f for f in car_cats if f not in car_cat_small_fs]\n",
    "\n",
    "car_cat_small = train[car_cat_small_fs]\n",
    "car_cat_big = train[car_cat_big_fs]\n",
    "\n",
    "print(car_cat_small_fs)\n",
    "print(car_cat_big_fs)"
   ]
  },
  {
   "cell_type": "code",
   "execution_count": 18,
   "metadata": {},
   "outputs": [
    {
     "name": "stdout",
     "output_type": "stream",
     "text": [
      " 0/ 7: Processing Original\n",
      " 1/ 7: Processing without ps_car_02_cat\n",
      " 2/ 7: Processing without ps_car_03_cat\n",
      " 3/ 7: Processing without ps_car_05_cat\n",
      " 4/ 7: Processing without ps_car_07_cat\n",
      " 5/ 7: Processing without ps_car_08_cat\n",
      " 6/ 7: Processing without ps_car_09_cat\n",
      " 7/ 7: Processing without ps_car_10_cat\n",
      "CPU times: user 59.9 s, sys: 83.8 ms, total: 60 s\n",
      "Wall time: 1min\n"
     ]
    }
   ],
   "source": [
    "%%time\n",
    "jpopt4 = psjp.JointProbabilityOptimizer(car_cat_small, verbose=True)\n",
    "res4 = jpopt4.selectByElimination(target)"
   ]
  },
  {
   "cell_type": "code",
   "execution_count": 19,
   "metadata": {},
   "outputs": [
    {
     "data": {
      "text/html": [
       "<div>\n",
       "<style scoped>\n",
       "    .dataframe tbody tr th:only-of-type {\n",
       "        vertical-align: middle;\n",
       "    }\n",
       "\n",
       "    .dataframe tbody tr th {\n",
       "        vertical-align: top;\n",
       "    }\n",
       "\n",
       "    .dataframe thead th {\n",
       "        text-align: right;\n",
       "    }\n",
       "</style>\n",
       "<table border=\"1\" class=\"dataframe\">\n",
       "  <thead>\n",
       "    <tr style=\"text-align: right;\">\n",
       "      <th></th>\n",
       "      <th>exp_val_removed</th>\n",
       "      <th>importance_</th>\n",
       "    </tr>\n",
       "  </thead>\n",
       "  <tbody>\n",
       "    <tr>\n",
       "      <th>ps_car_07_cat</th>\n",
       "      <td>863.501334</td>\n",
       "      <td>0.042701</td>\n",
       "    </tr>\n",
       "    <tr>\n",
       "      <th>ps_car_09_cat</th>\n",
       "      <td>868.451593</td>\n",
       "      <td>0.037213</td>\n",
       "    </tr>\n",
       "    <tr>\n",
       "      <th>ps_car_02_cat</th>\n",
       "      <td>873.955724</td>\n",
       "      <td>0.031111</td>\n",
       "    </tr>\n",
       "    <tr>\n",
       "      <th>ps_car_08_cat</th>\n",
       "      <td>881.151259</td>\n",
       "      <td>0.023134</td>\n",
       "    </tr>\n",
       "    <tr>\n",
       "      <th>ps_car_03_cat</th>\n",
       "      <td>887.098088</td>\n",
       "      <td>0.016541</td>\n",
       "    </tr>\n",
       "    <tr>\n",
       "      <th>ps_car_10_cat</th>\n",
       "      <td>888.145933</td>\n",
       "      <td>0.015379</td>\n",
       "    </tr>\n",
       "    <tr>\n",
       "      <th>ps_car_05_cat</th>\n",
       "      <td>888.630236</td>\n",
       "      <td>0.014842</td>\n",
       "    </tr>\n",
       "    <tr>\n",
       "      <th>initial</th>\n",
       "      <td>902.018149</td>\n",
       "      <td>0.000000</td>\n",
       "    </tr>\n",
       "  </tbody>\n",
       "</table>\n",
       "</div>"
      ],
      "text/plain": [
       "               exp_val_removed  importance_\n",
       "ps_car_07_cat       863.501334     0.042701\n",
       "ps_car_09_cat       868.451593     0.037213\n",
       "ps_car_02_cat       873.955724     0.031111\n",
       "ps_car_08_cat       881.151259     0.023134\n",
       "ps_car_03_cat       887.098088     0.016541\n",
       "ps_car_10_cat       888.145933     0.015379\n",
       "ps_car_05_cat       888.630236     0.014842\n",
       "initial             902.018149     0.000000"
      ]
     },
     "execution_count": 19,
     "metadata": {},
     "output_type": "execute_result"
    }
   ],
   "source": [
    "pd.DataFrame({'exp_val_removed': res4[0], 'importance_': res4[1]}).sort_values('importance_', ascending=False)"
   ]
  },
  {
   "cell_type": "code",
   "execution_count": 20,
   "metadata": {},
   "outputs": [
    {
     "name": "stdout",
     "output_type": "stream",
     "text": [
      " 0/ 4: Processing Original\n",
      " 1/ 4: Processing without ps_car_01_cat\n",
      " 2/ 4: Processing without ps_car_04_cat\n",
      " 3/ 4: Processing without ps_car_06_cat\n",
      " 4/ 4: Processing without ps_car_11_cat\n",
      "CPU times: user 36.8 s, sys: 35.4 ms, total: 36.8 s\n",
      "Wall time: 36.9 s\n"
     ]
    }
   ],
   "source": [
    "%%time\n",
    "jpopt5 = psjp.JointProbabilityOptimizer(car_cat_big, verbose=True)\n",
    "res5 = jpopt5.selectByElimination(target)"
   ]
  },
  {
   "cell_type": "code",
   "execution_count": 21,
   "metadata": {},
   "outputs": [
    {
     "data": {
      "text/html": [
       "<div>\n",
       "<style scoped>\n",
       "    .dataframe tbody tr th:only-of-type {\n",
       "        vertical-align: middle;\n",
       "    }\n",
       "\n",
       "    .dataframe tbody tr th {\n",
       "        vertical-align: top;\n",
       "    }\n",
       "\n",
       "    .dataframe thead th {\n",
       "        text-align: right;\n",
       "    }\n",
       "</style>\n",
       "<table border=\"1\" class=\"dataframe\">\n",
       "  <thead>\n",
       "    <tr style=\"text-align: right;\">\n",
       "      <th></th>\n",
       "      <th>exp_val_removed</th>\n",
       "      <th>importance_</th>\n",
       "    </tr>\n",
       "  </thead>\n",
       "  <tbody>\n",
       "    <tr>\n",
       "      <th>ps_car_01_cat</th>\n",
       "      <td>862.548433</td>\n",
       "      <td>0.123288</td>\n",
       "    </tr>\n",
       "    <tr>\n",
       "      <th>ps_car_11_cat</th>\n",
       "      <td>919.561125</td>\n",
       "      <td>0.065340</td>\n",
       "    </tr>\n",
       "    <tr>\n",
       "      <th>ps_car_06_cat</th>\n",
       "      <td>941.458706</td>\n",
       "      <td>0.043082</td>\n",
       "    </tr>\n",
       "    <tr>\n",
       "      <th>ps_car_04_cat</th>\n",
       "      <td>941.678964</td>\n",
       "      <td>0.042859</td>\n",
       "    </tr>\n",
       "    <tr>\n",
       "      <th>initial</th>\n",
       "      <td>983.845102</td>\n",
       "      <td>0.000000</td>\n",
       "    </tr>\n",
       "  </tbody>\n",
       "</table>\n",
       "</div>"
      ],
      "text/plain": [
       "               exp_val_removed  importance_\n",
       "ps_car_01_cat       862.548433     0.123288\n",
       "ps_car_11_cat       919.561125     0.065340\n",
       "ps_car_06_cat       941.458706     0.043082\n",
       "ps_car_04_cat       941.678964     0.042859\n",
       "initial             983.845102     0.000000"
      ]
     },
     "execution_count": 21,
     "metadata": {},
     "output_type": "execute_result"
    }
   ],
   "source": [
    "pd.DataFrame({'exp_val_removed': res5[0], 'importance_': res5[1]}).sort_values('importance_', ascending=False)"
   ]
  },
  {
   "cell_type": "code",
   "execution_count": null,
   "metadata": {},
   "outputs": [],
   "source": []
  },
  {
   "cell_type": "code",
   "execution_count": null,
   "metadata": {},
   "outputs": [],
   "source": []
  },
  {
   "cell_type": "code",
   "execution_count": 22,
   "metadata": {},
   "outputs": [],
   "source": [
    "ind_cat_fs = [f for f in categorical_fs if 'ind' in f]\n",
    "ind_cat = train[ind_cat_fs] + 1"
   ]
  },
  {
   "cell_type": "code",
   "execution_count": 23,
   "metadata": {},
   "outputs": [
    {
     "name": "stdout",
     "output_type": "stream",
     "text": [
      " 0/ 3: Processing Original\n",
      " 1/ 3: Processing without ps_ind_02_cat\n",
      " 2/ 3: Processing without ps_ind_04_cat\n",
      " 3/ 3: Processing without ps_ind_05_cat\n",
      "CPU times: user 29.2 s, sys: 35.9 ms, total: 29.3 s\n",
      "Wall time: 29.3 s\n"
     ]
    }
   ],
   "source": [
    "%%time\n",
    "jpopt6 = psjp.JointProbabilityOptimizer(ind_cat, verbose=True)\n",
    "res6 = jpopt6.selectByElimination(target)"
   ]
  },
  {
   "cell_type": "code",
   "execution_count": 24,
   "metadata": {},
   "outputs": [
    {
     "data": {
      "text/html": [
       "<div>\n",
       "<style scoped>\n",
       "    .dataframe tbody tr th:only-of-type {\n",
       "        vertical-align: middle;\n",
       "    }\n",
       "\n",
       "    .dataframe tbody tr th {\n",
       "        vertical-align: top;\n",
       "    }\n",
       "\n",
       "    .dataframe thead th {\n",
       "        text-align: right;\n",
       "    }\n",
       "</style>\n",
       "<table border=\"1\" class=\"dataframe\">\n",
       "  <thead>\n",
       "    <tr style=\"text-align: right;\">\n",
       "      <th></th>\n",
       "      <th>exp_val_removed</th>\n",
       "      <th>importance_</th>\n",
       "    </tr>\n",
       "  </thead>\n",
       "  <tbody>\n",
       "    <tr>\n",
       "      <th>ps_ind_05_cat</th>\n",
       "      <td>806.805947</td>\n",
       "      <td>0.047702</td>\n",
       "    </tr>\n",
       "    <tr>\n",
       "      <th>ps_ind_04_cat</th>\n",
       "      <td>841.440606</td>\n",
       "      <td>0.006822</td>\n",
       "    </tr>\n",
       "    <tr>\n",
       "      <th>ps_ind_02_cat</th>\n",
       "      <td>842.243571</td>\n",
       "      <td>0.005874</td>\n",
       "    </tr>\n",
       "    <tr>\n",
       "      <th>initial</th>\n",
       "      <td>847.220418</td>\n",
       "      <td>0.000000</td>\n",
       "    </tr>\n",
       "  </tbody>\n",
       "</table>\n",
       "</div>"
      ],
      "text/plain": [
       "               exp_val_removed  importance_\n",
       "ps_ind_05_cat       806.805947     0.047702\n",
       "ps_ind_04_cat       841.440606     0.006822\n",
       "ps_ind_02_cat       842.243571     0.005874\n",
       "initial             847.220418     0.000000"
      ]
     },
     "execution_count": 24,
     "metadata": {},
     "output_type": "execute_result"
    }
   ],
   "source": [
    "pd.DataFrame({'exp_val_removed': res6[0], 'importance_': res6[1]}).sort_values('importance_', ascending=False)"
   ]
  },
  {
   "cell_type": "code",
   "execution_count": null,
   "metadata": {},
   "outputs": [],
   "source": []
  },
  {
   "cell_type": "markdown",
   "metadata": {},
   "source": [
    "## BinarySelection"
   ]
  },
  {
   "cell_type": "code",
   "execution_count": 89,
   "metadata": {},
   "outputs": [
    {
     "data": {
      "text/plain": [
       "<module 'ps.joint_probability' from '/home/ryohayama/python_current/porto_seguro/ps/joint_probability.py'>"
      ]
     },
     "execution_count": 89,
     "metadata": {},
     "output_type": "execute_result"
    }
   ],
   "source": [
    "reload(psjp)"
   ]
  },
  {
   "cell_type": "code",
   "execution_count": 86,
   "metadata": {},
   "outputs": [
    {
     "name": "stdout",
     "output_type": "stream",
     "text": [
      " 1/ 3: Processed ('ps_ind_02_cat', 'ps_ind_04_cat') E=806.81\n",
      " 2/ 3: Processed ('ps_ind_02_cat', 'ps_ind_05_cat') E=841.44\n",
      " 3/ 3: Processed ('ps_ind_04_cat', 'ps_ind_05_cat') E=842.24\n",
      "CPU times: user 22.1 s, sys: 31.9 ms, total: 22.2 s\n",
      "Wall time: 22.2 s\n"
     ]
    }
   ],
   "source": [
    "%%time\n",
    "jpopt7 = psjp.JointProbabilityOptimizer(ind_cat, verbose=True)\n",
    "res7 = jpopt7.combinatorialSelection(target, N=2)"
   ]
  },
  {
   "cell_type": "code",
   "execution_count": 87,
   "metadata": {},
   "outputs": [
    {
     "data": {
      "text/html": [
       "<div>\n",
       "<style scoped>\n",
       "    .dataframe tbody tr th:only-of-type {\n",
       "        vertical-align: middle;\n",
       "    }\n",
       "\n",
       "    .dataframe tbody tr th {\n",
       "        vertical-align: top;\n",
       "    }\n",
       "\n",
       "    .dataframe thead th {\n",
       "        text-align: right;\n",
       "    }\n",
       "</style>\n",
       "<table border=\"1\" class=\"dataframe\">\n",
       "  <thead>\n",
       "    <tr style=\"text-align: right;\">\n",
       "      <th></th>\n",
       "      <th></th>\n",
       "      <th>exp_val</th>\n",
       "    </tr>\n",
       "  </thead>\n",
       "  <tbody>\n",
       "    <tr>\n",
       "      <th>ps_ind_04_cat</th>\n",
       "      <th>ps_ind_05_cat</th>\n",
       "      <td>842.243571</td>\n",
       "    </tr>\n",
       "    <tr>\n",
       "      <th rowspan=\"2\" valign=\"top\">ps_ind_02_cat</th>\n",
       "      <th>ps_ind_05_cat</th>\n",
       "      <td>841.440606</td>\n",
       "    </tr>\n",
       "    <tr>\n",
       "      <th>ps_ind_04_cat</th>\n",
       "      <td>806.805947</td>\n",
       "    </tr>\n",
       "  </tbody>\n",
       "</table>\n",
       "</div>"
      ],
      "text/plain": [
       "                                exp_val\n",
       "ps_ind_04_cat ps_ind_05_cat  842.243571\n",
       "ps_ind_02_cat ps_ind_05_cat  841.440606\n",
       "              ps_ind_04_cat  806.805947"
      ]
     },
     "execution_count": 87,
     "metadata": {},
     "output_type": "execute_result"
    }
   ],
   "source": [
    "pd.DataFrame({'exp_val': res7}).sort_values('exp_val', ascending=False)"
   ]
  },
  {
   "cell_type": "code",
   "execution_count": 90,
   "metadata": {},
   "outputs": [
    {
     "name": "stdout",
     "output_type": "stream",
     "text": [
      "==== 1_feature_combination ====\n",
      " 1/ 3: Processed ('ps_ind_02_cat',) E=796.28\n",
      " 2/ 3: Processed ('ps_ind_04_cat',) E=803.67\n",
      " 3/ 3: Processed ('ps_ind_05_cat',) E=830.33\n",
      "==== 2_feature_combination ====\n",
      " 1/ 3: Processed ('ps_ind_02_cat', 'ps_ind_04_cat') E=806.81\n",
      " 2/ 3: Processed ('ps_ind_02_cat', 'ps_ind_05_cat') E=841.44\n",
      " 3/ 3: Processed ('ps_ind_04_cat', 'ps_ind_05_cat') E=842.24\n",
      "==== 3_feature_combination ====\n",
      " 1/ 1: Processed ('ps_ind_02_cat', 'ps_ind_04_cat', 'ps_ind_05_cat') E=847.22\n",
      "CPU times: user 51.6 s, sys: 112 ms, total: 51.7 s\n",
      "Wall time: 51.7 s\n"
     ]
    }
   ],
   "source": [
    "%%time\n",
    "jpopt7f = psjp.JointProbabilityOptimizer(ind_cat, verbose=True)\n",
    "res7f = jpopt7f.exhaustiveCombinatorialSelection(target)"
   ]
  },
  {
   "cell_type": "code",
   "execution_count": 91,
   "metadata": {},
   "outputs": [
    {
     "name": "stdout",
     "output_type": "stream",
     "text": [
      "847.220417877\n",
      "('ps_ind_02_cat', 'ps_ind_04_cat', 'ps_ind_05_cat')\n"
     ]
    }
   ],
   "source": [
    "print(jpopt7f.best_expected_value_)\n",
    "print(jpopt7f.best_combination_)"
   ]
  },
  {
   "cell_type": "code",
   "execution_count": 94,
   "metadata": {},
   "outputs": [
    {
     "data": {
      "text/plain": [
       "{'1_feature_combination': {('ps_ind_02_cat',): 796.28070601434399,\n",
       "  ('ps_ind_04_cat',): 803.66766394256877,\n",
       "  ('ps_ind_05_cat',): 830.33226417225774},\n",
       " '2_feature_combination': {('ps_ind_02_cat',\n",
       "   'ps_ind_04_cat'): 806.80594721365856,\n",
       "  ('ps_ind_02_cat', 'ps_ind_05_cat'): 841.44060627987335,\n",
       "  ('ps_ind_04_cat', 'ps_ind_05_cat'): 842.24357073789861},\n",
       " '3_feature_combination': {('ps_ind_02_cat',\n",
       "   'ps_ind_04_cat',\n",
       "   'ps_ind_05_cat'): 847.22041787727562}}"
      ]
     },
     "execution_count": 94,
     "metadata": {},
     "output_type": "execute_result"
    }
   ],
   "source": [
    "res7f"
   ]
  },
  {
   "cell_type": "code",
   "execution_count": null,
   "metadata": {},
   "outputs": [],
   "source": []
  },
  {
   "cell_type": "code",
   "execution_count": 95,
   "metadata": {
    "scrolled": true
   },
   "outputs": [
    {
     "name": "stdout",
     "output_type": "stream",
     "text": [
      "==== 1_feature_combination ====\n",
      " 1/ 6: Processed ('ps_calc_15_bin',) E=790.70\n",
      " 2/ 6: Processed ('ps_calc_16_bin',) E=790.70\n",
      " 3/ 6: Processed ('ps_calc_17_bin',) E=790.69\n",
      " 4/ 6: Processed ('ps_calc_18_bin',) E=790.70\n",
      " 5/ 6: Processed ('ps_calc_19_bin',) E=790.76\n",
      " 6/ 6: Processed ('ps_calc_20_bin',) E=790.72\n",
      "==== 2_feature_combination ====\n",
      " 1/15: Processed ('ps_calc_15_bin', 'ps_calc_16_bin') E=790.71\n",
      " 2/15: Processed ('ps_calc_15_bin', 'ps_calc_17_bin') E=790.72\n",
      " 3/15: Processed ('ps_calc_15_bin', 'ps_calc_18_bin') E=790.73\n",
      " 4/15: Processed ('ps_calc_15_bin', 'ps_calc_19_bin') E=790.81\n",
      " 5/15: Processed ('ps_calc_15_bin', 'ps_calc_20_bin') E=790.74\n",
      " 6/15: Processed ('ps_calc_16_bin', 'ps_calc_17_bin') E=790.71\n",
      " 7/15: Processed ('ps_calc_16_bin', 'ps_calc_18_bin') E=790.71\n",
      " 8/15: Processed ('ps_calc_16_bin', 'ps_calc_19_bin') E=790.77\n",
      " 9/15: Processed ('ps_calc_16_bin', 'ps_calc_20_bin') E=790.76\n",
      "10/15: Processed ('ps_calc_17_bin', 'ps_calc_18_bin') E=790.75\n",
      "11/15: Processed ('ps_calc_17_bin', 'ps_calc_19_bin') E=791.11\n",
      "12/15: Processed ('ps_calc_17_bin', 'ps_calc_20_bin') E=790.72\n",
      "13/15: Processed ('ps_calc_18_bin', 'ps_calc_19_bin') E=790.77\n",
      "14/15: Processed ('ps_calc_18_bin', 'ps_calc_20_bin') E=790.74\n",
      "15/15: Processed ('ps_calc_19_bin', 'ps_calc_20_bin') E=790.78\n",
      "==== 3_feature_combination ====\n",
      " 1/20: Processed ('ps_calc_15_bin', 'ps_calc_16_bin', 'ps_calc_17_bin') E=790.80\n",
      " 2/20: Processed ('ps_calc_15_bin', 'ps_calc_16_bin', 'ps_calc_18_bin') E=790.89\n",
      " 3/20: Processed ('ps_calc_15_bin', 'ps_calc_16_bin', 'ps_calc_19_bin') E=790.84\n",
      " 4/20: Processed ('ps_calc_15_bin', 'ps_calc_16_bin', 'ps_calc_20_bin') E=790.79\n",
      " 5/20: Processed ('ps_calc_15_bin', 'ps_calc_17_bin', 'ps_calc_18_bin') E=790.83\n",
      " 6/20: Processed ('ps_calc_15_bin', 'ps_calc_17_bin', 'ps_calc_19_bin') E=791.23\n",
      " 7/20: Processed ('ps_calc_15_bin', 'ps_calc_17_bin', 'ps_calc_20_bin') E=790.86\n",
      " 8/20: Processed ('ps_calc_15_bin', 'ps_calc_18_bin', 'ps_calc_19_bin') E=790.86\n",
      " 9/20: Processed ('ps_calc_15_bin', 'ps_calc_18_bin', 'ps_calc_20_bin') E=790.87\n",
      "10/20: Processed ('ps_calc_15_bin', 'ps_calc_19_bin', 'ps_calc_20_bin') E=790.89\n",
      "11/20: Processed ('ps_calc_16_bin', 'ps_calc_17_bin', 'ps_calc_18_bin') E=790.83\n",
      "12/20: Processed ('ps_calc_16_bin', 'ps_calc_17_bin', 'ps_calc_19_bin') E=791.22\n",
      "13/20: Processed ('ps_calc_16_bin', 'ps_calc_17_bin', 'ps_calc_20_bin') E=790.82\n",
      "14/20: Processed ('ps_calc_16_bin', 'ps_calc_18_bin', 'ps_calc_19_bin') E=790.79\n",
      "15/20: Processed ('ps_calc_16_bin', 'ps_calc_18_bin', 'ps_calc_20_bin') E=790.80\n",
      "16/20: Processed ('ps_calc_16_bin', 'ps_calc_19_bin', 'ps_calc_20_bin') E=790.83\n",
      "17/20: Processed ('ps_calc_17_bin', 'ps_calc_18_bin', 'ps_calc_19_bin') E=791.17\n",
      "18/20: Processed ('ps_calc_17_bin', 'ps_calc_18_bin', 'ps_calc_20_bin') E=790.82\n",
      "19/20: Processed ('ps_calc_17_bin', 'ps_calc_19_bin', 'ps_calc_20_bin') E=791.14\n",
      "20/20: Processed ('ps_calc_18_bin', 'ps_calc_19_bin', 'ps_calc_20_bin') E=790.85\n",
      "==== 4_feature_combination ====\n",
      " 1/15: Processed ('ps_calc_15_bin', 'ps_calc_16_bin', 'ps_calc_17_bin', 'ps_calc_18_bin') E=791.14\n",
      " 2/15: Processed ('ps_calc_15_bin', 'ps_calc_16_bin', 'ps_calc_17_bin', 'ps_calc_19_bin') E=791.43\n",
      " 3/15: Processed ('ps_calc_15_bin', 'ps_calc_16_bin', 'ps_calc_17_bin', 'ps_calc_20_bin') E=791.06\n",
      " 4/15: Processed ('ps_calc_15_bin', 'ps_calc_16_bin', 'ps_calc_18_bin', 'ps_calc_19_bin') E=791.04\n",
      " 5/15: Processed ('ps_calc_15_bin', 'ps_calc_16_bin', 'ps_calc_18_bin', 'ps_calc_20_bin') E=791.14\n",
      " 6/15: Processed ('ps_calc_15_bin', 'ps_calc_16_bin', 'ps_calc_19_bin', 'ps_calc_20_bin') E=790.97\n",
      " 7/15: Processed ('ps_calc_15_bin', 'ps_calc_17_bin', 'ps_calc_18_bin', 'ps_calc_19_bin') E=791.44\n",
      " 8/15: Processed ('ps_calc_15_bin', 'ps_calc_17_bin', 'ps_calc_18_bin', 'ps_calc_20_bin') E=791.10\n",
      " 9/15: Processed ('ps_calc_15_bin', 'ps_calc_17_bin', 'ps_calc_19_bin', 'ps_calc_20_bin') E=791.42\n",
      "10/15: Processed ('ps_calc_15_bin', 'ps_calc_18_bin', 'ps_calc_19_bin', 'ps_calc_20_bin') E=791.09\n",
      "11/15: Processed ('ps_calc_16_bin', 'ps_calc_17_bin', 'ps_calc_18_bin', 'ps_calc_19_bin') E=791.41\n",
      "12/15: Processed ('ps_calc_16_bin', 'ps_calc_17_bin', 'ps_calc_18_bin', 'ps_calc_20_bin') E=791.10\n",
      "13/15: Processed ('ps_calc_16_bin', 'ps_calc_17_bin', 'ps_calc_19_bin', 'ps_calc_20_bin') E=791.35\n",
      "14/15: Processed ('ps_calc_16_bin', 'ps_calc_18_bin', 'ps_calc_19_bin', 'ps_calc_20_bin') E=790.98\n",
      "15/15: Processed ('ps_calc_17_bin', 'ps_calc_18_bin', 'ps_calc_19_bin', 'ps_calc_20_bin') E=791.28\n",
      "==== 5_feature_combination ====\n",
      " 1/ 6: Processed ('ps_calc_15_bin', 'ps_calc_16_bin', 'ps_calc_17_bin', 'ps_calc_18_bin', 'ps_calc_19_bin') E=792.09\n",
      " 2/ 6: Processed ('ps_calc_15_bin', 'ps_calc_16_bin', 'ps_calc_17_bin', 'ps_calc_18_bin', 'ps_calc_20_bin') E=791.77\n",
      " 3/ 6: Processed ('ps_calc_15_bin', 'ps_calc_16_bin', 'ps_calc_17_bin', 'ps_calc_19_bin', 'ps_calc_20_bin') E=791.77\n",
      " 4/ 6: Processed ('ps_calc_15_bin', 'ps_calc_16_bin', 'ps_calc_18_bin', 'ps_calc_19_bin', 'ps_calc_20_bin') E=791.57\n",
      " 5/ 6: Processed ('ps_calc_15_bin', 'ps_calc_17_bin', 'ps_calc_18_bin', 'ps_calc_19_bin', 'ps_calc_20_bin') E=791.86\n",
      " 6/ 6: Processed ('ps_calc_16_bin', 'ps_calc_17_bin', 'ps_calc_18_bin', 'ps_calc_19_bin', 'ps_calc_20_bin') E=791.82\n",
      "==== 6_feature_combination ====\n",
      " 1/ 1: Processed ('ps_calc_15_bin', 'ps_calc_16_bin', 'ps_calc_17_bin', 'ps_calc_18_bin', 'ps_calc_19_bin', 'ps_calc_20_bin') E=793.26\n",
      "CPU times: user 7min 42s, sys: 799 ms, total: 7min 43s\n",
      "Wall time: 7min 44s\n"
     ]
    }
   ],
   "source": [
    "%%time\n",
    "jpopt3f = psjp.JointProbabilityOptimizer(calc_bins, verbose=True)\n",
    "res3f = jpopt3f.exhaustiveCombinatorialSelection(target)"
   ]
  },
  {
   "cell_type": "code",
   "execution_count": null,
   "metadata": {},
   "outputs": [],
   "source": []
  },
  {
   "cell_type": "code",
   "execution_count": 52,
   "metadata": {
    "scrolled": true
   },
   "outputs": [
    {
     "name": "stdout",
     "output_type": "stream",
     "text": [
      " 1/36: Processing -  ('ps_ind_06_bin', 'ps_ind_07_bin')\n",
      " 2/36: Processing -  ('ps_ind_06_bin', 'ps_ind_10_bin')\n",
      " 3/36: Processing -  ('ps_ind_06_bin', 'ps_ind_11_bin')\n",
      " 4/36: Processing -  ('ps_ind_06_bin', 'ps_ind_12_bin')\n",
      " 5/36: Processing -  ('ps_ind_06_bin', 'ps_ind_13_bin')\n",
      " 6/36: Processing -  ('ps_ind_06_bin', 'ps_ind_16_bin')\n",
      " 7/36: Processing -  ('ps_ind_06_bin', 'ps_ind_17_bin')\n",
      " 8/36: Processing -  ('ps_ind_06_bin', 'ps_ind_18_bin')\n",
      " 9/36: Processing -  ('ps_ind_07_bin', 'ps_ind_10_bin')\n",
      "10/36: Processing -  ('ps_ind_07_bin', 'ps_ind_11_bin')\n",
      "11/36: Processing -  ('ps_ind_07_bin', 'ps_ind_12_bin')\n",
      "12/36: Processing -  ('ps_ind_07_bin', 'ps_ind_13_bin')\n",
      "13/36: Processing -  ('ps_ind_07_bin', 'ps_ind_16_bin')\n",
      "14/36: Processing -  ('ps_ind_07_bin', 'ps_ind_17_bin')\n",
      "15/36: Processing -  ('ps_ind_07_bin', 'ps_ind_18_bin')\n",
      "16/36: Processing -  ('ps_ind_10_bin', 'ps_ind_11_bin')\n",
      "17/36: Processing -  ('ps_ind_10_bin', 'ps_ind_12_bin')\n",
      "18/36: Processing -  ('ps_ind_10_bin', 'ps_ind_13_bin')\n",
      "19/36: Processing -  ('ps_ind_10_bin', 'ps_ind_16_bin')\n",
      "20/36: Processing -  ('ps_ind_10_bin', 'ps_ind_17_bin')\n",
      "21/36: Processing -  ('ps_ind_10_bin', 'ps_ind_18_bin')\n",
      "22/36: Processing -  ('ps_ind_11_bin', 'ps_ind_12_bin')\n",
      "23/36: Processing -  ('ps_ind_11_bin', 'ps_ind_13_bin')\n",
      "24/36: Processing -  ('ps_ind_11_bin', 'ps_ind_16_bin')\n",
      "25/36: Processing -  ('ps_ind_11_bin', 'ps_ind_17_bin')\n",
      "26/36: Processing -  ('ps_ind_11_bin', 'ps_ind_18_bin')\n",
      "27/36: Processing -  ('ps_ind_12_bin', 'ps_ind_13_bin')\n",
      "28/36: Processing -  ('ps_ind_12_bin', 'ps_ind_16_bin')\n",
      "29/36: Processing -  ('ps_ind_12_bin', 'ps_ind_17_bin')\n",
      "30/36: Processing -  ('ps_ind_12_bin', 'ps_ind_18_bin')\n",
      "31/36: Processing -  ('ps_ind_13_bin', 'ps_ind_16_bin')\n",
      "32/36: Processing -  ('ps_ind_13_bin', 'ps_ind_17_bin')\n",
      "33/36: Processing -  ('ps_ind_13_bin', 'ps_ind_18_bin')\n",
      "34/36: Processing -  ('ps_ind_16_bin', 'ps_ind_17_bin')\n",
      "35/36: Processing -  ('ps_ind_16_bin', 'ps_ind_18_bin')\n",
      "36/36: Processing -  ('ps_ind_17_bin', 'ps_ind_18_bin')\n",
      "CPU times: user 4min 22s, sys: 219 ms, total: 4min 23s\n",
      "Wall time: 4min 23s\n"
     ]
    }
   ],
   "source": [
    "%%time\n",
    "jpopt8 = psjp.JointProbabilityOptimizer(new_feature, verbose=True)\n",
    "res8 = jpopt8.binarySelection(target)"
   ]
  },
  {
   "cell_type": "code",
   "execution_count": 54,
   "metadata": {
    "scrolled": false
   },
   "outputs": [
    {
     "data": {
      "text/html": [
       "<div>\n",
       "<style scoped>\n",
       "    .dataframe tbody tr th:only-of-type {\n",
       "        vertical-align: middle;\n",
       "    }\n",
       "\n",
       "    .dataframe tbody tr th {\n",
       "        vertical-align: top;\n",
       "    }\n",
       "\n",
       "    .dataframe thead th {\n",
       "        text-align: right;\n",
       "    }\n",
       "</style>\n",
       "<table border=\"1\" class=\"dataframe\">\n",
       "  <thead>\n",
       "    <tr style=\"text-align: right;\">\n",
       "      <th></th>\n",
       "      <th></th>\n",
       "      <th>exp_val</th>\n",
       "    </tr>\n",
       "  </thead>\n",
       "  <tbody>\n",
       "    <tr>\n",
       "      <th>ps_ind_07_bin</th>\n",
       "      <th>ps_ind_17_bin</th>\n",
       "      <td>844.485051</td>\n",
       "    </tr>\n",
       "    <tr>\n",
       "      <th rowspan=\"2\" valign=\"top\">ps_ind_06_bin</th>\n",
       "      <th>ps_ind_17_bin</th>\n",
       "      <td>842.574782</td>\n",
       "    </tr>\n",
       "    <tr>\n",
       "      <th>ps_ind_16_bin</th>\n",
       "      <td>831.189598</td>\n",
       "    </tr>\n",
       "    <tr>\n",
       "      <th>ps_ind_07_bin</th>\n",
       "      <th>ps_ind_16_bin</th>\n",
       "      <td>829.520927</td>\n",
       "    </tr>\n",
       "    <tr>\n",
       "      <th>ps_ind_06_bin</th>\n",
       "      <th>ps_ind_07_bin</th>\n",
       "      <td>823.707287</td>\n",
       "    </tr>\n",
       "    <tr>\n",
       "      <th>ps_ind_17_bin</th>\n",
       "      <th>ps_ind_18_bin</th>\n",
       "      <td>821.714021</td>\n",
       "    </tr>\n",
       "    <tr>\n",
       "      <th>ps_ind_16_bin</th>\n",
       "      <th>ps_ind_17_bin</th>\n",
       "      <td>821.494871</td>\n",
       "    </tr>\n",
       "    <tr>\n",
       "      <th>ps_ind_12_bin</th>\n",
       "      <th>ps_ind_17_bin</th>\n",
       "      <td>820.484558</td>\n",
       "    </tr>\n",
       "    <tr>\n",
       "      <th>ps_ind_13_bin</th>\n",
       "      <th>ps_ind_17_bin</th>\n",
       "      <td>819.533361</td>\n",
       "    </tr>\n",
       "    <tr>\n",
       "      <th>ps_ind_11_bin</th>\n",
       "      <th>ps_ind_17_bin</th>\n",
       "      <td>819.517595</td>\n",
       "    </tr>\n",
       "    <tr>\n",
       "      <th>ps_ind_10_bin</th>\n",
       "      <th>ps_ind_17_bin</th>\n",
       "      <td>819.448020</td>\n",
       "    </tr>\n",
       "    <tr>\n",
       "      <th>ps_ind_07_bin</th>\n",
       "      <th>ps_ind_12_bin</th>\n",
       "      <td>816.200109</td>\n",
       "    </tr>\n",
       "    <tr>\n",
       "      <th>ps_ind_06_bin</th>\n",
       "      <th>ps_ind_12_bin</th>\n",
       "      <td>816.053101</td>\n",
       "    </tr>\n",
       "    <tr>\n",
       "      <th rowspan=\"2\" valign=\"top\">ps_ind_07_bin</th>\n",
       "      <th>ps_ind_13_bin</th>\n",
       "      <td>815.301527</td>\n",
       "    </tr>\n",
       "    <tr>\n",
       "      <th>ps_ind_10_bin</th>\n",
       "      <td>815.270758</td>\n",
       "    </tr>\n",
       "    <tr>\n",
       "      <th>ps_ind_06_bin</th>\n",
       "      <th>ps_ind_18_bin</th>\n",
       "      <td>815.252494</td>\n",
       "    </tr>\n",
       "    <tr>\n",
       "      <th rowspan=\"2\" valign=\"top\">ps_ind_07_bin</th>\n",
       "      <th>ps_ind_18_bin</th>\n",
       "      <td>815.248423</td>\n",
       "    </tr>\n",
       "    <tr>\n",
       "      <th>ps_ind_11_bin</th>\n",
       "      <td>815.240928</td>\n",
       "    </tr>\n",
       "    <tr>\n",
       "      <th rowspan=\"3\" valign=\"top\">ps_ind_06_bin</th>\n",
       "      <th>ps_ind_11_bin</th>\n",
       "      <td>815.036957</td>\n",
       "    </tr>\n",
       "    <tr>\n",
       "      <th>ps_ind_13_bin</th>\n",
       "      <td>814.991535</td>\n",
       "    </tr>\n",
       "    <tr>\n",
       "      <th>ps_ind_10_bin</th>\n",
       "      <td>814.939883</td>\n",
       "    </tr>\n",
       "    <tr>\n",
       "      <th>ps_ind_16_bin</th>\n",
       "      <th>ps_ind_18_bin</th>\n",
       "      <td>811.438262</td>\n",
       "    </tr>\n",
       "    <tr>\n",
       "      <th>ps_ind_12_bin</th>\n",
       "      <th>ps_ind_16_bin</th>\n",
       "      <td>807.394165</td>\n",
       "    </tr>\n",
       "    <tr>\n",
       "      <th>ps_ind_10_bin</th>\n",
       "      <th>ps_ind_16_bin</th>\n",
       "      <td>806.882610</td>\n",
       "    </tr>\n",
       "    <tr>\n",
       "      <th>ps_ind_11_bin</th>\n",
       "      <th>ps_ind_16_bin</th>\n",
       "      <td>806.879165</td>\n",
       "    </tr>\n",
       "    <tr>\n",
       "      <th>ps_ind_13_bin</th>\n",
       "      <th>ps_ind_16_bin</th>\n",
       "      <td>806.860688</td>\n",
       "    </tr>\n",
       "    <tr>\n",
       "      <th>ps_ind_12_bin</th>\n",
       "      <th>ps_ind_18_bin</th>\n",
       "      <td>792.375285</td>\n",
       "    </tr>\n",
       "    <tr>\n",
       "      <th>ps_ind_11_bin</th>\n",
       "      <th>ps_ind_12_bin</th>\n",
       "      <td>792.003789</td>\n",
       "    </tr>\n",
       "    <tr>\n",
       "      <th>ps_ind_12_bin</th>\n",
       "      <th>ps_ind_13_bin</th>\n",
       "      <td>792.002572</td>\n",
       "    </tr>\n",
       "    <tr>\n",
       "      <th>ps_ind_10_bin</th>\n",
       "      <th>ps_ind_12_bin</th>\n",
       "      <td>791.991348</td>\n",
       "    </tr>\n",
       "    <tr>\n",
       "      <th>ps_ind_13_bin</th>\n",
       "      <th>ps_ind_18_bin</th>\n",
       "      <td>791.312031</td>\n",
       "    </tr>\n",
       "    <tr>\n",
       "      <th>ps_ind_11_bin</th>\n",
       "      <th>ps_ind_18_bin</th>\n",
       "      <td>791.228028</td>\n",
       "    </tr>\n",
       "    <tr>\n",
       "      <th rowspan=\"2\" valign=\"top\">ps_ind_10_bin</th>\n",
       "      <th>ps_ind_18_bin</th>\n",
       "      <td>791.203742</td>\n",
       "    </tr>\n",
       "    <tr>\n",
       "      <th>ps_ind_13_bin</th>\n",
       "      <td>790.874063</td>\n",
       "    </tr>\n",
       "    <tr>\n",
       "      <th>ps_ind_11_bin</th>\n",
       "      <th>ps_ind_13_bin</th>\n",
       "      <td>790.873960</td>\n",
       "    </tr>\n",
       "    <tr>\n",
       "      <th>ps_ind_10_bin</th>\n",
       "      <th>ps_ind_11_bin</th>\n",
       "      <td>790.838235</td>\n",
       "    </tr>\n",
       "  </tbody>\n",
       "</table>\n",
       "</div>"
      ],
      "text/plain": [
       "                                exp_val\n",
       "ps_ind_07_bin ps_ind_17_bin  844.485051\n",
       "ps_ind_06_bin ps_ind_17_bin  842.574782\n",
       "              ps_ind_16_bin  831.189598\n",
       "ps_ind_07_bin ps_ind_16_bin  829.520927\n",
       "ps_ind_06_bin ps_ind_07_bin  823.707287\n",
       "ps_ind_17_bin ps_ind_18_bin  821.714021\n",
       "ps_ind_16_bin ps_ind_17_bin  821.494871\n",
       "ps_ind_12_bin ps_ind_17_bin  820.484558\n",
       "ps_ind_13_bin ps_ind_17_bin  819.533361\n",
       "ps_ind_11_bin ps_ind_17_bin  819.517595\n",
       "ps_ind_10_bin ps_ind_17_bin  819.448020\n",
       "ps_ind_07_bin ps_ind_12_bin  816.200109\n",
       "ps_ind_06_bin ps_ind_12_bin  816.053101\n",
       "ps_ind_07_bin ps_ind_13_bin  815.301527\n",
       "              ps_ind_10_bin  815.270758\n",
       "ps_ind_06_bin ps_ind_18_bin  815.252494\n",
       "ps_ind_07_bin ps_ind_18_bin  815.248423\n",
       "              ps_ind_11_bin  815.240928\n",
       "ps_ind_06_bin ps_ind_11_bin  815.036957\n",
       "              ps_ind_13_bin  814.991535\n",
       "              ps_ind_10_bin  814.939883\n",
       "ps_ind_16_bin ps_ind_18_bin  811.438262\n",
       "ps_ind_12_bin ps_ind_16_bin  807.394165\n",
       "ps_ind_10_bin ps_ind_16_bin  806.882610\n",
       "ps_ind_11_bin ps_ind_16_bin  806.879165\n",
       "ps_ind_13_bin ps_ind_16_bin  806.860688\n",
       "ps_ind_12_bin ps_ind_18_bin  792.375285\n",
       "ps_ind_11_bin ps_ind_12_bin  792.003789\n",
       "ps_ind_12_bin ps_ind_13_bin  792.002572\n",
       "ps_ind_10_bin ps_ind_12_bin  791.991348\n",
       "ps_ind_13_bin ps_ind_18_bin  791.312031\n",
       "ps_ind_11_bin ps_ind_18_bin  791.228028\n",
       "ps_ind_10_bin ps_ind_18_bin  791.203742\n",
       "              ps_ind_13_bin  790.874063\n",
       "ps_ind_11_bin ps_ind_13_bin  790.873960\n",
       "ps_ind_10_bin ps_ind_11_bin  790.838235"
      ]
     },
     "execution_count": 54,
     "metadata": {},
     "output_type": "execute_result"
    }
   ],
   "source": [
    "pd.DataFrame({'exp_val': res8}).sort_values('exp_val', ascending=False)"
   ]
  },
  {
   "cell_type": "code",
   "execution_count": null,
   "metadata": {},
   "outputs": [],
   "source": []
  },
  {
   "cell_type": "code",
   "execution_count": 61,
   "metadata": {},
   "outputs": [
    {
     "name": "stdout",
     "output_type": "stream",
     "text": [
      " 1/21: Processed ('ps_car_02_cat', 'ps_car_03_cat') E=831.54\n",
      " 2/21: Processed ('ps_car_02_cat', 'ps_car_05_cat') E=820.69\n",
      " 3/21: Processed ('ps_car_02_cat', 'ps_car_07_cat') E=835.45\n",
      " 4/21: Processed ('ps_car_02_cat', 'ps_car_08_cat') E=819.22\n",
      " 5/21: Processed ('ps_car_02_cat', 'ps_car_09_cat') E=825.95\n",
      " 6/21: Processed ('ps_car_02_cat', 'ps_car_10_cat') E=811.54\n",
      " 7/21: Processed ('ps_car_03_cat', 'ps_car_05_cat') E=813.58\n",
      " 8/21: Processed ('ps_car_03_cat', 'ps_car_07_cat') E=834.76\n",
      " 9/21: Processed ('ps_car_03_cat', 'ps_car_08_cat') E=816.80\n",
      "10/21: Processed ('ps_car_03_cat', 'ps_car_09_cat') E=828.36\n",
      "11/21: Processed ('ps_car_03_cat', 'ps_car_10_cat') E=812.96\n",
      "12/21: Processed ('ps_car_05_cat', 'ps_car_07_cat') E=826.70\n",
      "13/21: Processed ('ps_car_05_cat', 'ps_car_08_cat') E=808.87\n",
      "14/21: Processed ('ps_car_05_cat', 'ps_car_09_cat') E=826.17\n",
      "15/21: Processed ('ps_car_05_cat', 'ps_car_10_cat') E=801.64\n",
      "16/21: Processed ('ps_car_07_cat', 'ps_car_08_cat') E=825.61\n",
      "17/21: Processed ('ps_car_07_cat', 'ps_car_09_cat') E=832.82\n",
      "18/21: Processed ('ps_car_07_cat', 'ps_car_10_cat') E=819.06\n",
      "19/21: Processed ('ps_car_08_cat', 'ps_car_09_cat') E=815.93\n",
      "20/21: Processed ('ps_car_08_cat', 'ps_car_10_cat') E=799.64\n",
      "21/21: Processed ('ps_car_09_cat', 'ps_car_10_cat') E=807.72\n",
      "CPU times: user 2min 32s, sys: 134 ms, total: 2min 32s\n",
      "Wall time: 2min 32s\n"
     ]
    }
   ],
   "source": [
    "%%time\n",
    "jpopt9 = psjp.JointProbabilityOptimizer(car_cat_small, verbose=True)\n",
    "res9 = jpopt9.binarySelection(target)"
   ]
  },
  {
   "cell_type": "code",
   "execution_count": 62,
   "metadata": {},
   "outputs": [
    {
     "data": {
      "text/html": [
       "<div>\n",
       "<style scoped>\n",
       "    .dataframe tbody tr th:only-of-type {\n",
       "        vertical-align: middle;\n",
       "    }\n",
       "\n",
       "    .dataframe tbody tr th {\n",
       "        vertical-align: top;\n",
       "    }\n",
       "\n",
       "    .dataframe thead th {\n",
       "        text-align: right;\n",
       "    }\n",
       "</style>\n",
       "<table border=\"1\" class=\"dataframe\">\n",
       "  <thead>\n",
       "    <tr style=\"text-align: right;\">\n",
       "      <th></th>\n",
       "      <th></th>\n",
       "      <th>exp_val</th>\n",
       "    </tr>\n",
       "  </thead>\n",
       "  <tbody>\n",
       "    <tr>\n",
       "      <th>ps_car_02_cat</th>\n",
       "      <th>ps_car_07_cat</th>\n",
       "      <td>835.446078</td>\n",
       "    </tr>\n",
       "    <tr>\n",
       "      <th>ps_car_03_cat</th>\n",
       "      <th>ps_car_07_cat</th>\n",
       "      <td>834.760239</td>\n",
       "    </tr>\n",
       "    <tr>\n",
       "      <th>ps_car_07_cat</th>\n",
       "      <th>ps_car_09_cat</th>\n",
       "      <td>832.819819</td>\n",
       "    </tr>\n",
       "    <tr>\n",
       "      <th>ps_car_02_cat</th>\n",
       "      <th>ps_car_03_cat</th>\n",
       "      <td>831.543154</td>\n",
       "    </tr>\n",
       "    <tr>\n",
       "      <th>ps_car_03_cat</th>\n",
       "      <th>ps_car_09_cat</th>\n",
       "      <td>828.359375</td>\n",
       "    </tr>\n",
       "    <tr>\n",
       "      <th rowspan=\"2\" valign=\"top\">ps_car_05_cat</th>\n",
       "      <th>ps_car_07_cat</th>\n",
       "      <td>826.696892</td>\n",
       "    </tr>\n",
       "    <tr>\n",
       "      <th>ps_car_09_cat</th>\n",
       "      <td>826.174973</td>\n",
       "    </tr>\n",
       "    <tr>\n",
       "      <th>ps_car_02_cat</th>\n",
       "      <th>ps_car_09_cat</th>\n",
       "      <td>825.945368</td>\n",
       "    </tr>\n",
       "    <tr>\n",
       "      <th>ps_car_07_cat</th>\n",
       "      <th>ps_car_08_cat</th>\n",
       "      <td>825.611820</td>\n",
       "    </tr>\n",
       "    <tr>\n",
       "      <th rowspan=\"2\" valign=\"top\">ps_car_02_cat</th>\n",
       "      <th>ps_car_05_cat</th>\n",
       "      <td>820.690695</td>\n",
       "    </tr>\n",
       "    <tr>\n",
       "      <th>ps_car_08_cat</th>\n",
       "      <td>819.222281</td>\n",
       "    </tr>\n",
       "    <tr>\n",
       "      <th>ps_car_07_cat</th>\n",
       "      <th>ps_car_10_cat</th>\n",
       "      <td>819.055169</td>\n",
       "    </tr>\n",
       "    <tr>\n",
       "      <th>ps_car_03_cat</th>\n",
       "      <th>ps_car_08_cat</th>\n",
       "      <td>816.801465</td>\n",
       "    </tr>\n",
       "    <tr>\n",
       "      <th>ps_car_08_cat</th>\n",
       "      <th>ps_car_09_cat</th>\n",
       "      <td>815.933709</td>\n",
       "    </tr>\n",
       "    <tr>\n",
       "      <th rowspan=\"2\" valign=\"top\">ps_car_03_cat</th>\n",
       "      <th>ps_car_05_cat</th>\n",
       "      <td>813.582743</td>\n",
       "    </tr>\n",
       "    <tr>\n",
       "      <th>ps_car_10_cat</th>\n",
       "      <td>812.963886</td>\n",
       "    </tr>\n",
       "    <tr>\n",
       "      <th>ps_car_02_cat</th>\n",
       "      <th>ps_car_10_cat</th>\n",
       "      <td>811.540013</td>\n",
       "    </tr>\n",
       "    <tr>\n",
       "      <th>ps_car_05_cat</th>\n",
       "      <th>ps_car_08_cat</th>\n",
       "      <td>808.868085</td>\n",
       "    </tr>\n",
       "    <tr>\n",
       "      <th>ps_car_09_cat</th>\n",
       "      <th>ps_car_10_cat</th>\n",
       "      <td>807.717602</td>\n",
       "    </tr>\n",
       "    <tr>\n",
       "      <th>ps_car_05_cat</th>\n",
       "      <th>ps_car_10_cat</th>\n",
       "      <td>801.640318</td>\n",
       "    </tr>\n",
       "    <tr>\n",
       "      <th>ps_car_08_cat</th>\n",
       "      <th>ps_car_10_cat</th>\n",
       "      <td>799.643212</td>\n",
       "    </tr>\n",
       "  </tbody>\n",
       "</table>\n",
       "</div>"
      ],
      "text/plain": [
       "                                exp_val\n",
       "ps_car_02_cat ps_car_07_cat  835.446078\n",
       "ps_car_03_cat ps_car_07_cat  834.760239\n",
       "ps_car_07_cat ps_car_09_cat  832.819819\n",
       "ps_car_02_cat ps_car_03_cat  831.543154\n",
       "ps_car_03_cat ps_car_09_cat  828.359375\n",
       "ps_car_05_cat ps_car_07_cat  826.696892\n",
       "              ps_car_09_cat  826.174973\n",
       "ps_car_02_cat ps_car_09_cat  825.945368\n",
       "ps_car_07_cat ps_car_08_cat  825.611820\n",
       "ps_car_02_cat ps_car_05_cat  820.690695\n",
       "              ps_car_08_cat  819.222281\n",
       "ps_car_07_cat ps_car_10_cat  819.055169\n",
       "ps_car_03_cat ps_car_08_cat  816.801465\n",
       "ps_car_08_cat ps_car_09_cat  815.933709\n",
       "ps_car_03_cat ps_car_05_cat  813.582743\n",
       "              ps_car_10_cat  812.963886\n",
       "ps_car_02_cat ps_car_10_cat  811.540013\n",
       "ps_car_05_cat ps_car_08_cat  808.868085\n",
       "ps_car_09_cat ps_car_10_cat  807.717602\n",
       "ps_car_05_cat ps_car_10_cat  801.640318\n",
       "ps_car_08_cat ps_car_10_cat  799.643212"
      ]
     },
     "execution_count": 62,
     "metadata": {},
     "output_type": "execute_result"
    }
   ],
   "source": [
    "pd.DataFrame({'exp_val': res9}).sort_values('exp_val', ascending=False)"
   ]
  },
  {
   "cell_type": "code",
   "execution_count": null,
   "metadata": {},
   "outputs": [],
   "source": []
  },
  {
   "cell_type": "code",
   "execution_count": null,
   "metadata": {},
   "outputs": [],
   "source": []
  },
  {
   "cell_type": "code",
   "execution_count": null,
   "metadata": {},
   "outputs": [],
   "source": []
  },
  {
   "cell_type": "code",
   "execution_count": null,
   "metadata": {},
   "outputs": [],
   "source": []
  }
 ],
 "metadata": {
  "kernelspec": {
   "display_name": "Python 3",
   "language": "python",
   "name": "python3"
  },
  "language_info": {
   "codemirror_mode": {
    "name": "ipython",
    "version": 3
   },
   "file_extension": ".py",
   "mimetype": "text/x-python",
   "name": "python",
   "nbconvert_exporter": "python",
   "pygments_lexer": "ipython3",
   "version": "3.6.2"
  }
 },
 "nbformat": 4,
 "nbformat_minor": 2
}
