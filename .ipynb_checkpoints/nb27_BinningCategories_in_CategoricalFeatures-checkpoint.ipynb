{
 "cells": [
  {
   "cell_type": "markdown",
   "metadata": {},
   "source": [
    "Manually Reduce Number of Categories In Each Feature"
   ]
  },
  {
   "cell_type": "code",
   "execution_count": 1,
   "metadata": {},
   "outputs": [
    {
     "name": "stderr",
     "output_type": "stream",
     "text": [
      "/home/ryohayama/.local/lib/python3.6/site-packages/statsmodels/compat/pandas.py:56: FutureWarning: The pandas.core.datetools module is deprecated and will be removed in a future version. Please use the pandas.tseries module instead.\n",
      "  from pandas.core import datetools\n"
     ]
    }
   ],
   "source": [
    "import pandas as pd\n",
    "import numpy as np\n",
    "import matplotlib.pyplot as plt\n",
    "import statsmodels.api as sm\n",
    "import seaborn as sns\n",
    "%matplotlib inline\n",
    "\n",
    "from matplotlib import cm\n",
    "from imblearn.under_sampling import TomekLinks, RandomUnderSampler\n",
    "from imblearn.over_sampling import SMOTE\n",
    "from sklearn.model_selection import train_test_split\n",
    "from xgboost import XGBClassifier\n",
    "from feature_processing import (create_contingency_table,\n",
    "                                calculate_conditional_prob_bin,\n",
    "                                encode_my_categorical_labels,\n",
    "                                calculate_conditional_prob_cat,\n",
    "                                estimate_cond_prob_density,\n",
    "                                bin_myFeature)\n",
    "import feature_analysis as fa"
   ]
  },
  {
   "cell_type": "code",
   "execution_count": 2,
   "metadata": {},
   "outputs": [],
   "source": [
    "from importlib import reload"
   ]
  },
  {
   "cell_type": "code",
   "execution_count": 3,
   "metadata": {},
   "outputs": [],
   "source": [
    "train = pd.read_csv('train.csv', header=0)\n",
    "test = pd.read_csv('test.csv', header=0)\n",
    "\n",
    "# Get different kinds of features\n",
    "all_fs = train.columns[:-1]\n",
    "binary_fs = sorted([f for f in all_fs if '_bin' in f])\n",
    "categorical_fs = sorted([f for f in all_fs if '_cat' in f])\n",
    "other_fs = sorted([f for f in all_fs\n",
    "            if f not in binary_fs\n",
    "            if f not in categorical_fs])\n",
    "bincat_fs = binary_fs + categorical_fs\n",
    "categoricals = train[categorical_fs]\n",
    "binaries = train[binary_fs]"
   ]
  },
  {
   "cell_type": "code",
   "execution_count": 4,
   "metadata": {},
   "outputs": [],
   "source": [
    "categoricals_test = test[categorical_fs]"
   ]
  },
  {
   "cell_type": "code",
   "execution_count": 5,
   "metadata": {},
   "outputs": [
    {
     "name": "stdout",
     "output_type": "stream",
     "text": [
      "ps_car_01_cat: # unique values: 13\n",
      "ps_car_02_cat: # unique values: 3\n",
      "ps_car_03_cat: # unique values: 3\n",
      "ps_car_04_cat: # unique values: 10\n",
      "ps_car_05_cat: # unique values: 3\n",
      "ps_car_06_cat: # unique values: 18\n",
      "ps_car_07_cat: # unique values: 3\n",
      "ps_car_08_cat: # unique values: 2\n",
      "ps_car_09_cat: # unique values: 6\n",
      "ps_car_10_cat: # unique values: 3\n",
      "ps_car_11_cat: # unique values: 104\n",
      "ps_ind_02_cat: # unique values: 5\n",
      "ps_ind_04_cat: # unique values: 3\n",
      "ps_ind_05_cat: # unique values: 8\n"
     ]
    }
   ],
   "source": [
    "for f in categorical_fs:\n",
    "    print('%s: # unique values: %d' % (f, len(categoricals[f].unique())))"
   ]
  },
  {
   "cell_type": "code",
   "execution_count": 6,
   "metadata": {},
   "outputs": [
    {
     "data": {
      "text/plain": [
       "<module 'feature_analysis' from '/home/ryohayama/python_current/porto_seguro/feature_analysis.py'>"
      ]
     },
     "execution_count": 6,
     "metadata": {},
     "output_type": "execute_result"
    }
   ],
   "source": [
    "reload(fa)"
   ]
  },
  {
   "cell_type": "code",
   "execution_count": 7,
   "metadata": {},
   "outputs": [],
   "source": [
    "target = train.target"
   ]
  },
  {
   "cell_type": "markdown",
   "metadata": {},
   "source": [
    "<b>Check for any difference in frequencies of categories in each feature between train and test set</b>"
   ]
  },
  {
   "cell_type": "code",
   "execution_count": 8,
   "metadata": {
    "scrolled": true
   },
   "outputs": [
    {
     "name": "stdout",
     "output_type": "stream",
     "text": [
      "==== ps_calc_15_bin ====\n",
      "   ps_calc_15_bin  ps_calc_15_bin  percent_difference\n",
      "0        0.877573         0.87628            0.129281\n",
      "1        0.122427         0.12372           -0.129281\n",
      "\n",
      "\n",
      "==== ps_calc_16_bin ====\n",
      "   ps_calc_16_bin  ps_calc_16_bin  percent_difference\n",
      "1         0.62784        0.627756            0.008372\n",
      "0         0.37216        0.372244           -0.008372\n",
      "\n",
      "\n",
      "==== ps_calc_17_bin ====\n",
      "   ps_calc_17_bin  ps_calc_17_bin  percent_difference\n",
      "1        0.554182         0.55466           -0.047726\n",
      "0        0.445818         0.44534            0.047726\n",
      "\n",
      "\n",
      "==== ps_calc_18_bin ====\n",
      "   ps_calc_18_bin  ps_calc_18_bin  percent_difference\n",
      "0        0.712818        0.712204            0.061443\n",
      "1        0.287182        0.287796           -0.061443\n",
      "\n",
      "\n",
      "==== ps_calc_19_bin ====\n",
      "   ps_calc_19_bin  ps_calc_19_bin  percent_difference\n",
      "0        0.650976        0.650656            0.032056\n",
      "1        0.349024        0.349344           -0.032056\n",
      "\n",
      "\n",
      "==== ps_ind_06_bin ====\n",
      "   ps_ind_06_bin  ps_ind_06_bin  percent_difference\n",
      "0       0.606258       0.606754           -0.049642\n",
      "1       0.393742       0.393246            0.049642\n",
      "\n",
      "\n",
      "==== ps_ind_07_bin ====\n",
      "   ps_ind_07_bin  ps_ind_07_bin  percent_difference\n",
      "0       0.742967       0.742809            0.015794\n",
      "1       0.257033       0.257191           -0.015794\n",
      "\n",
      "\n",
      "==== ps_ind_08_bin ====\n",
      "   ps_ind_08_bin  ps_ind_08_bin  percent_difference\n",
      "0       0.836079       0.836341           -0.026284\n",
      "1       0.163921       0.163659            0.026284\n",
      "\n",
      "\n",
      "==== ps_ind_09_bin ====\n",
      "   ps_ind_09_bin  ps_ind_09_bin  percent_difference\n",
      "0       0.814696       0.814095            0.060132\n",
      "1       0.185304       0.185905           -0.060132\n",
      "\n",
      "\n",
      "==== ps_ind_10_bin ====\n",
      "   ps_ind_10_bin  ps_ind_10_bin  percent_difference\n",
      "0       0.999627       0.999627        8.355056e-08\n",
      "1       0.000373       0.000373       -8.355055e-08\n",
      "\n",
      "\n",
      "==== ps_ind_11_bin ====\n",
      "   ps_ind_11_bin  ps_ind_11_bin  percent_difference\n",
      "0       0.998308       0.998405           -0.009688\n",
      "1       0.001692       0.001595            0.009688\n",
      "\n",
      "\n",
      "==== ps_ind_12_bin ====\n",
      "   ps_ind_12_bin  ps_ind_12_bin  percent_difference\n",
      "0       0.990561       0.990624            -0.00627\n",
      "1       0.009439       0.009376             0.00627\n",
      "\n",
      "\n",
      "==== ps_ind_13_bin ====\n",
      "   ps_ind_13_bin  ps_ind_13_bin  percent_difference\n",
      "0       0.999052       0.998961            0.009185\n",
      "1       0.000948       0.001039           -0.009185\n",
      "\n",
      "\n",
      "==== ps_ind_16_bin ====\n",
      "   ps_ind_16_bin  ps_ind_16_bin  percent_difference\n",
      "1       0.660823       0.660591            0.023261\n",
      "0       0.339177       0.339409           -0.023261\n",
      "\n",
      "\n",
      "==== ps_ind_17_bin ====\n",
      "   ps_ind_17_bin  ps_ind_17_bin  percent_difference\n",
      "0       0.878919       0.879601            -0.06824\n",
      "1       0.121081       0.120399             0.06824\n",
      "\n",
      "\n",
      "==== ps_ind_18_bin ====\n",
      "   ps_ind_18_bin  ps_ind_18_bin  percent_difference\n",
      "0       0.846554       0.845027            0.152641\n",
      "1       0.153446       0.154973           -0.152641\n",
      "\n",
      "\n",
      "==== ps_car_01_cat ====\n",
      "     ps_car_01_cat  ps_car_01_cat  percent_difference\n",
      " 11       0.348738       0.348506            0.023163\n",
      " 7        0.301148       0.302828           -0.168019\n",
      " 6        0.104825       0.104597            0.022770\n",
      " 10       0.084150       0.083444            0.070600\n",
      " 4        0.043974       0.044294           -0.031931\n",
      " 9        0.034144       0.033801            0.034322\n",
      " 5        0.030480       0.030174            0.030571\n",
      " 8        0.025357       0.025212            0.014499\n",
      " 3        0.011186       0.011227           -0.004147\n",
      " 0        0.009919       0.010013           -0.009411\n",
      " 2        0.003602       0.003470            0.013216\n",
      " 1        0.002297       0.002254            0.004312\n",
      "-1        0.000180       0.000179            0.000056\n",
      "\n",
      "\n",
      "==== ps_car_02_cat ====\n",
      "    ps_car_02_cat  ps_car_02_cat  percent_difference\n",
      " 1       0.829940       0.829946           -0.000634\n",
      " 0       0.170052       0.170048            0.000354\n",
      "-1       0.000008       0.000006            0.000280\n",
      "\n",
      "\n",
      "==== ps_car_03_cat ====\n",
      "    ps_car_03_cat  ps_car_03_cat  percent_difference\n",
      "-1       0.690898       0.690972           -0.007379\n",
      " 1       0.185999       0.186078           -0.007826\n",
      " 0       0.123102       0.122950            0.015205\n",
      "\n",
      "\n",
      "==== ps_car_04_cat ====\n",
      "   ps_car_04_cat  ps_car_04_cat  percent_difference\n",
      "0       0.834293       0.834162            0.013086\n",
      "1       0.053956       0.054262           -0.030645\n",
      "2       0.039935       0.039558            0.037737\n",
      "8       0.034606       0.034288            0.031802\n",
      "9       0.031979       0.032283           -0.030473\n",
      "6       0.002621       0.002662           -0.004145\n",
      "3       0.001075       0.001202           -0.012657\n",
      "5       0.000916       0.000879            0.003640\n",
      "4       0.000386       0.000445           -0.005824\n",
      "7       0.000234       0.000259           -0.002520\n",
      "\n",
      "\n",
      "==== ps_car_05_cat ====\n",
      "    ps_car_05_cat  ps_car_05_cat  percent_difference\n",
      "-1       0.447825       0.448423           -0.059743\n",
      " 1       0.290093       0.289974            0.011976\n",
      " 0       0.262081       0.261604            0.047767\n",
      "\n",
      "\n",
      "==== ps_car_06_cat ====\n",
      "    ps_car_06_cat  ps_car_06_cat  percent_difference\n",
      "0        0.185514       0.184895            0.061897\n",
      "1        0.198897       0.198460            0.043749\n",
      "2        0.002700       0.002818           -0.011817\n",
      "3        0.020156       0.020199           -0.004317\n",
      "4        0.052311       0.052316           -0.000572\n",
      "5        0.002354       0.002327            0.002632\n",
      "6        0.035199       0.035416           -0.021681\n",
      "7        0.027147       0.027424           -0.027783\n",
      "8        0.002372       0.002306            0.006608\n",
      "9        0.029598       0.029338            0.026035\n",
      "10       0.056225       0.056111            0.011412\n",
      "11       0.220975       0.222177           -0.120175\n",
      "12       0.004009       0.004038           -0.002913\n",
      "13       0.010494       0.010204            0.029007\n",
      "14       0.099549       0.099081            0.046852\n",
      "15       0.036511       0.036311            0.020041\n",
      "16       0.007698       0.008052           -0.035395\n",
      "17       0.008291       0.008527           -0.023579\n",
      "\n",
      "\n",
      "==== ps_car_07_cat ====\n",
      "    ps_car_07_cat  ps_car_07_cat  percent_difference\n",
      " 1       0.929329       0.929555           -0.022609\n",
      " 0       0.051368       0.051033            0.033534\n",
      "-1       0.019302       0.019412           -0.010925\n",
      "\n",
      "\n",
      "==== ps_car_08_cat ====\n",
      "   ps_car_08_cat  ps_car_08_cat  percent_difference\n",
      "1        0.83208       0.832311           -0.023147\n",
      "0        0.16792       0.167689            0.023147\n",
      "\n",
      "\n",
      "==== ps_car_09_cat ====\n",
      "    ps_car_09_cat  ps_car_09_cat  percent_difference\n",
      " 2       0.593876       0.593453            0.042317\n",
      " 0       0.326805       0.327046           -0.024154\n",
      " 1       0.048857       0.049133           -0.027676\n",
      " 3       0.024791       0.024688            0.010299\n",
      " 4       0.004716       0.004697            0.001847\n",
      "-1       0.000956       0.000982           -0.002632\n",
      "\n",
      "\n",
      "==== ps_car_10_cat ====\n",
      "   ps_car_10_cat  ps_car_10_cat  percent_difference\n",
      "1       0.991544       0.991560           -0.001622\n",
      "0       0.008160       0.008153            0.000726\n",
      "2       0.000296       0.000287            0.000896\n",
      "\n",
      "\n",
      "==== ps_car_11_cat ====\n",
      "     ps_car_11_cat  ps_car_11_cat  percent_difference\n",
      "1         0.005596       0.005485            0.011143\n",
      "2         0.004289       0.004285            0.000391\n",
      "3         0.005351       0.005384           -0.003305\n",
      "4         0.002681       0.002574            0.010752\n",
      "5         0.021023       0.020928            0.009460\n",
      "6         0.004167       0.004022            0.014448\n",
      "7         0.009497       0.009628           -0.013051\n",
      "8         0.004168       0.004118            0.004983\n",
      "9         0.003715       0.003636            0.007896\n",
      "10        0.014670       0.014572            0.009853\n",
      "11        0.011283       0.011146            0.013774\n",
      "12        0.012174       0.012410           -0.023636\n",
      "13        0.005564       0.005666           -0.010194\n",
      "14        0.004493       0.004540           -0.004705\n",
      "15        0.003159       0.003097            0.006160\n",
      "16        0.011772       0.011995           -0.022236\n",
      "17        0.006596       0.006495            0.010079\n",
      "18        0.002072       0.002053            0.001848\n",
      "19        0.008563       0.008331            0.023239\n",
      "20        0.003105       0.003004            0.010080\n",
      "21        0.004072       0.004084           -0.001121\n",
      "22        0.014064       0.014062            0.000165\n",
      "23        0.002802       0.002693            0.010976\n",
      "24        0.003953       0.003925            0.002855\n",
      "25        0.007891       0.007797            0.009463\n",
      "26        0.005796       0.005907           -0.011090\n",
      "27        0.009963       0.010060           -0.009747\n",
      "28        0.021065       0.021064            0.000107\n",
      "29        0.007505       0.007269            0.023575\n",
      "30        0.003901       0.003997           -0.009633\n",
      "..             ...            ...                 ...\n",
      "75        0.002819       0.002985           -0.016577\n",
      "76        0.004378       0.004410           -0.003137\n",
      "77        0.004041       0.004186           -0.014506\n",
      "78        0.012322       0.012313            0.000893\n",
      "79        0.003493       0.003484            0.000839\n",
      "80        0.009593       0.009345            0.024863\n",
      "81        0.002408       0.002436           -0.002857\n",
      "82        0.017590       0.017575            0.001564\n",
      "83        0.015978       0.015676            0.030126\n",
      "84        0.008221       0.008269           -0.004874\n",
      "85        0.010606       0.010668           -0.006219\n",
      "86        0.006248       0.006231            0.001735\n",
      "87        0.028739       0.028859           -0.011991\n",
      "88        0.007599       0.007493            0.010583\n",
      "89        0.008451       0.008624           -0.017363\n",
      "90        0.008886       0.008670            0.021559\n",
      "91        0.003088       0.003041            0.004704\n",
      "92        0.010931       0.011019           -0.008851\n",
      "93        0.004924       0.004804            0.012039\n",
      "94        0.005630       0.005615            0.001511\n",
      "95        0.005978       0.006064           -0.008626\n",
      "96        0.003483       0.003408            0.007448\n",
      "97        0.002493       0.002473            0.002016\n",
      "98        0.004788       0.004780            0.000783\n",
      "99        0.020231       0.020453           -0.022182\n",
      "100       0.007468       0.007566           -0.009802\n",
      "101       0.012330       0.012407           -0.007675\n",
      "102       0.003533       0.003393            0.014056\n",
      "103       0.040762       0.041218           -0.045595\n",
      "104       0.142946       0.143261           -0.031561\n",
      "\n",
      "[104 rows x 3 columns]\n",
      "\n",
      "\n"
     ]
    },
    {
     "name": "stdout",
     "output_type": "stream",
     "text": [
      "==== ps_ind_02_cat ====\n",
      "    ps_ind_02_cat  ps_ind_02_cat  percent_difference\n",
      " 1       0.725555       0.725198            0.035735\n",
      " 2       0.207612       0.208524           -0.091275\n",
      " 3       0.047355       0.047026            0.032807\n",
      " 4       0.019116       0.018908            0.020829\n",
      "-1       0.000363       0.000344            0.001904\n",
      "\n",
      "\n",
      "==== ps_ind_04_cat ====\n",
      "    ps_ind_04_cat  ps_ind_04_cat  percent_difference\n",
      " 0       0.582927       0.582314            0.061304\n",
      " 1       0.416934       0.417524           -0.059008\n",
      "-1       0.000139       0.000162           -0.002296\n",
      "\n",
      "\n",
      "==== ps_ind_05_cat ====\n",
      "    ps_ind_05_cat  ps_ind_05_cat  percent_difference\n",
      "-1       0.009760       0.009756            0.000390\n",
      " 0       0.887094       0.886412            0.068180\n",
      " 1       0.013982       0.013905            0.007613\n",
      " 2       0.007029       0.007306           -0.027667\n",
      " 3       0.013832       0.014024           -0.019212\n",
      " 4       0.030819       0.030647            0.017242\n",
      " 5       0.002770       0.002987           -0.021674\n",
      " 6       0.034714       0.034962           -0.024873\n",
      "\n",
      "\n"
     ]
    }
   ],
   "source": [
    "# Use fa.Feature class, express difference in percentage\n",
    "for i, f in enumerate(bincat_fs):\n",
    "    train_data = fa.Feature(train[f]).value_frequencies_\n",
    "    test_data = fa.Feature(test[f]).value_frequencies_\n",
    "    train_data.rename({f: (f+ '_train')})\n",
    "    test_data.rename({f: (f+ '_test')})\n",
    "    comparison = pd.concat([train_data, test_data], axis=1)\n",
    "    comparison['percent_difference'] = 100*(comparison.iloc[:, 0] - comparison.iloc[:, 1])\n",
    "    print('==== %s ====' % f)\n",
    "    print(comparison)\n",
    "    print('\\n')"
   ]
  },
  {
   "cell_type": "markdown",
   "metadata": {},
   "source": [
    "<b>It appears that the category frequencies are not significantly different among train and test sets, which is good!T he biggest different appears to be only 0.16% change. So I can go ahead and start combining categories for each feature.</b>"
   ]
  },
  {
   "cell_type": "code",
   "execution_count": null,
   "metadata": {},
   "outputs": [],
   "source": []
  },
  {
   "cell_type": "markdown",
   "metadata": {},
   "source": [
    "## Selection Criteria\n",
    "- Calculate ratio of Conditional Probability of being in class1 to the bulk class1 frequency\n",
    "- Create new categories by binning categories based on those ratios\n",
    "- Criteria: <5% gain, 5-10% gain, 10-20% gain, 20% and above, etc. It's subjective...\n",
    "- The new categorization will be expressed as lists lists where each of the inner lists contains the current categories   to be combined together. Also, those lists are sorted in the increasing order of conditional probabilities of being in   class1."
   ]
  },
  {
   "cell_type": "code",
   "execution_count": 9,
   "metadata": {},
   "outputs": [
    {
     "name": "stdout",
     "output_type": "stream",
     "text": [
      "target         0         1\n",
      "-1     -0.291950  7.718207\n",
      " 0     -0.007702  0.203609\n",
      " 1     -0.010763  0.284528\n",
      " 2     -0.006707  0.177322\n",
      " 3     -0.001143  0.030216\n",
      " 4     -0.002816  0.074449\n",
      " 5     -0.002904  0.076780\n",
      " 6      0.006937 -0.183402\n",
      " 7      0.007968 -0.210636\n",
      " 8     -0.007213  0.190687\n",
      " 9     -0.018653  0.493136\n",
      " 10    -0.000548  0.014491\n",
      " 11    -0.005327  0.140834\n"
     ]
    }
   ],
   "source": [
    "# ps_car_01_cat\n",
    "print(fa.FeatureVsTarget(categoricals.ps_car_01_cat, target).calculate_deviation(mode='ratio')[0]-1)"
   ]
  },
  {
   "cell_type": "markdown",
   "metadata": {},
   "source": [
    "6 Groups: [[6, 7], [3, 4, 5, 10], [2, 8, 11], [0, 1], [9], [-1]]"
   ]
  },
  {
   "cell_type": "code",
   "execution_count": 10,
   "metadata": {},
   "outputs": [
    {
     "name": "stdout",
     "output_type": "stream",
     "text": [
      "target         0         1\n",
      "-1      0.037826 -1.000000\n",
      " 0     -0.013554  0.358323\n",
      " 1      0.002777 -0.073409\n"
     ]
    }
   ],
   "source": [
    "# ps_car_02_cat\n",
    "print(fa.FeatureVsTarget(categoricals.ps_car_02_cat, target).calculate_deviation(mode='ratio')[0]-1)"
   ]
  },
  {
   "cell_type": "markdown",
   "metadata": {},
   "source": [
    "2 Groups: [[-1, 1], [0]]"
   ]
  },
  {
   "cell_type": "code",
   "execution_count": 11,
   "metadata": {},
   "outputs": [
    {
     "name": "stdout",
     "output_type": "stream",
     "text": [
      "target         0         1\n",
      "-1      0.003882 -0.102636\n",
      " 0     -0.003207  0.084782\n",
      " 1     -0.012299  0.325132\n"
     ]
    }
   ],
   "source": [
    "# ps_car_03_cat\n",
    "print(fa.FeatureVsTarget(categoricals.ps_car_03_cat, target).calculate_deviation(mode='ratio')[0]-1)"
   ]
  },
  {
   "cell_type": "markdown",
   "metadata": {},
   "source": [
    "No Change Needed"
   ]
  },
  {
   "cell_type": "code",
   "execution_count": 12,
   "metadata": {},
   "outputs": [
    {
     "name": "stdout",
     "output_type": "stream",
     "text": [
      "target         0         1\n",
      "0       0.003110 -0.082222\n",
      "1      -0.012845  0.339585\n",
      "2      -0.011162  0.295077\n",
      "3      -0.015687  0.414705\n",
      "4       0.015265 -0.403550\n",
      "5      -0.036440  0.963361\n",
      "6      -0.023379  0.618062\n",
      "7      -0.059237  1.566023\n",
      "8      -0.014221  0.375965\n",
      "9      -0.026404  0.698037\n"
     ]
    }
   ],
   "source": [
    "# ps_car_04_cat\n",
    "print(fa.FeatureVsTarget(categoricals.ps_car_04_cat, target).calculate_deviation(mode='ratio')[0]-1)"
   ]
  },
  {
   "cell_type": "markdown",
   "metadata": {},
   "source": [
    "5 Groups: [[0, 4], [1, 2, 3, 8], [6, 9], [5], [7]]"
   ]
  },
  {
   "cell_type": "code",
   "execution_count": 13,
   "metadata": {},
   "outputs": [
    {
     "name": "stdout",
     "output_type": "stream",
     "text": [
      "target         0         1\n",
      "-1      0.004918 -0.130016\n",
      " 0     -0.003802  0.100501\n",
      " 1     -0.004158  0.109913\n"
     ]
    }
   ],
   "source": [
    "# ps_car_05_cat\n",
    "print(fa.FeatureVsTarget(categoricals.ps_car_05_cat, target).calculate_deviation(mode='ratio')[0]-1)"
   ]
  },
  {
   "cell_type": "markdown",
   "metadata": {},
   "source": [
    "2 Groups: [[-1], [0, 1]]"
   ]
  },
  {
   "cell_type": "code",
   "execution_count": 14,
   "metadata": {},
   "outputs": [
    {
     "name": "stdout",
     "output_type": "stream",
     "text": [
      "target         0         1\n",
      "0       0.003191 -0.084366\n",
      "1       0.002348 -0.062082\n",
      "2      -0.030630  0.809764\n",
      "3      -0.001794  0.047430\n",
      "4       0.002694 -0.071226\n",
      "5      -0.031807  0.840864\n",
      "6      -0.000366  0.009675\n",
      "7      -0.002446  0.064663\n",
      "8      -0.034204  0.904248\n",
      "9      -0.019258  0.509120\n",
      "10     -0.007947  0.210081\n",
      "11      0.004907 -0.129715\n",
      "12     -0.012630  0.333889\n",
      "13     -0.021326  0.563796\n",
      "14      0.002235 -0.059096\n",
      "15     -0.015230  0.402641\n",
      "16     -0.009059  0.239502\n",
      "17     -0.028418  0.751279\n"
     ]
    }
   ],
   "source": [
    "# ps_car_06_cat\n",
    "print(fa.FeatureVsTarget(categoricals.ps_car_06_cat, target).calculate_deviation(mode='ratio')[0]-1)"
   ]
  },
  {
   "cell_type": "markdown",
   "metadata": {},
   "source": [
    "5 Groups: [[0, 1, 4, 11, 14], [3, 6, 7], [10, 12, 16], [9, 13, 15], [2, 5, 8, 17]]"
   ]
  },
  {
   "cell_type": "code",
   "execution_count": 15,
   "metadata": {},
   "outputs": [
    {
     "name": "stdout",
     "output_type": "stream",
     "text": [
      "target         0         1\n",
      "-1     -0.043292  1.144500\n",
      " 0     -0.015296  0.404365\n",
      " 1      0.001745 -0.046123\n"
     ]
    }
   ],
   "source": [
    "# ps_car_07_cat\n",
    "print(fa.FeatureVsTarget(categoricals.ps_car_07_cat, target).calculate_deviation(mode='ratio')[0]-1)"
   ]
  },
  {
   "cell_type": "markdown",
   "metadata": {},
   "source": [
    "No change needed"
   ]
  },
  {
   "cell_type": "code",
   "execution_count": 16,
   "metadata": {},
   "outputs": [
    {
     "name": "stdout",
     "output_type": "stream",
     "text": [
      "target         0         1\n",
      "0      -0.008807  0.232824\n",
      "1       0.001777 -0.046986\n"
     ]
    }
   ],
   "source": [
    "# ps_car_08_cat\n",
    "print(fa.FeatureVsTarget(categoricals.ps_car_08_cat, target).calculate_deviation(mode='ratio')[0]-1)"
   ]
  },
  {
   "cell_type": "markdown",
   "metadata": {},
   "source": [
    "No change needed (this is binary?)"
   ]
  },
  {
   "cell_type": "code",
   "execution_count": 17,
   "metadata": {},
   "outputs": [
    {
     "name": "stdout",
     "output_type": "stream",
     "text": [
      "target         0         1\n",
      "-1     -0.057019  1.507397\n",
      " 0      0.003221 -0.085151\n",
      " 1     -0.021274  0.562421\n",
      " 2      0.000134 -0.003535\n",
      " 3      0.001394 -0.036852\n",
      " 4     -0.015415  0.407512\n"
     ]
    }
   ],
   "source": [
    "# ps_car_09_cat\n",
    "print(fa.FeatureVsTarget(categoricals.ps_car_09_cat, target).calculate_deviation(mode='ratio')[0]-1)"
   ]
  },
  {
   "cell_type": "markdown",
   "metadata": {},
   "source": [
    "3 Groups: [[0, 2, 3], [1, 4], [-1]]"
   ]
  },
  {
   "cell_type": "code",
   "execution_count": 18,
   "metadata": {},
   "outputs": [
    {
     "name": "stdout",
     "output_type": "stream",
     "text": [
      "target         0         1\n",
      "0       0.002142 -0.056634\n",
      "1      -0.000017  0.000439\n",
      "2      -0.003451  0.091233\n"
     ]
    }
   ],
   "source": [
    "# ps_car_10_cat\n",
    "print(fa.FeatureVsTarget(categoricals.ps_car_10_cat, target).calculate_deviation(mode='ratio')[0]-1)"
   ]
  },
  {
   "cell_type": "markdown",
   "metadata": {},
   "source": [
    "No change needed"
   ]
  },
  {
   "cell_type": "markdown",
   "metadata": {},
   "source": [
    "<b>Come back to car_11 later because it has 104 categories</b>"
   ]
  },
  {
   "cell_type": "code",
   "execution_count": 19,
   "metadata": {},
   "outputs": [
    {
     "name": "stdout",
     "output_type": "stream",
     "text": [
      "target         0         1\n",
      "-1     -0.154364  4.080872\n",
      " 1      0.000750 -0.019834\n",
      " 2     -0.001756  0.046420\n",
      " 3     -0.000799  0.021114\n",
      " 4     -0.004497  0.118882\n"
     ]
    }
   ],
   "source": [
    "# ps_ind_02_cat\n",
    "print(fa.FeatureVsTarget(categoricals.ps_ind_02_cat, target).calculate_deviation(mode='ratio')[0]-1)"
   ]
  },
  {
   "cell_type": "markdown",
   "metadata": {},
   "source": [
    "4 Groups: [[1], [2, 3], [4], [-1]]"
   ]
  },
  {
   "cell_type": "code",
   "execution_count": 20,
   "metadata": {},
   "outputs": [
    {
     "name": "stdout",
     "output_type": "stream",
     "text": [
      "target         0         1\n",
      "-1     -0.374804  9.908572\n",
      " 0      0.001720 -0.045470\n",
      " 1     -0.002279  0.060259\n"
     ]
    }
   ],
   "source": [
    "# ps_ind_04_cat\n",
    "print(fa.FeatureVsTarget(categoricals.ps_ind_04_cat, target).calculate_deviation(mode='ratio')[0]-1)"
   ]
  },
  {
   "cell_type": "markdown",
   "metadata": {},
   "source": [
    "No change needed"
   ]
  },
  {
   "cell_type": "code",
   "execution_count": 21,
   "metadata": {},
   "outputs": [
    {
     "name": "stdout",
     "output_type": "stream",
     "text": [
      "target         0         1\n",
      "-1     -0.048644  1.285999\n",
      " 0      0.002680 -0.070857\n",
      " 1     -0.011808  0.312162\n",
      " 2     -0.040556  1.072180\n",
      " 3     -0.006798  0.179715\n",
      " 4     -0.016204  0.428372\n",
      " 5     -0.012523  0.331071\n",
      " 6     -0.023754  0.627984\n"
     ]
    }
   ],
   "source": [
    "# ps_ind_05_cat\n",
    "print(fa.FeatureVsTarget(categoricals.ps_ind_05_cat, target).calculate_deviation(mode='ratio')[0]-1)"
   ]
  },
  {
   "cell_type": "markdown",
   "metadata": {},
   "source": [
    "5 Groups: [[0], [3], [1, 4, 5], [6], [-1, 2]] "
   ]
  },
  {
   "cell_type": "code",
   "execution_count": 22,
   "metadata": {},
   "outputs": [],
   "source": [
    "cat_binning_dict = {\n",
    "    'ps_car_01_cat': [[6, 7], [3, 4, 5, 10], [2, 8, 11], [0, 1], [9], [-1]],\n",
    "    'ps_car_02_cat': [[-1, 1], [0]],\n",
    "    'ps_car_04_cat': [[0, 4], [1, 2, 3, 8], [6, 9], [5], [7]],\n",
    "    'ps_car_05_cat': [[-1], [0, 1]],\n",
    "    'ps_car_06_cat': [[0, 1, 4, 11, 14], [3, 6, 7], [10, 12, 16], [9, 13, 15], [2, 5, 8, 17]],\n",
    "    'ps_car_09_cat': [[0, 2, 3], [1, 4], [-1]],\n",
    "    'ps_ind_02_cat': [[1], [2, 3], [4], [-1]],\n",
    "    'ps_ind_05_cat': [[0], [3], [1, 4, 5], [6], [-1, 2]]\n",
    "}"
   ]
  },
  {
   "cell_type": "markdown",
   "metadata": {},
   "source": [
    "<b>ps_car_11_cat...</b>"
   ]
  },
  {
   "cell_type": "code",
   "execution_count": 23,
   "metadata": {},
   "outputs": [],
   "source": [
    "car11 = fa.FeatureVsTarget(categoricals.ps_car_11_cat, target)"
   ]
  },
  {
   "cell_type": "code",
   "execution_count": 24,
   "metadata": {},
   "outputs": [
    {
     "data": {
      "text/plain": [
       "<matplotlib.axes._subplots.AxesSubplot at 0x7f72e63d4b38>"
      ]
     },
     "execution_count": 24,
     "metadata": {},
     "output_type": "execute_result"
    },
    {
     "data": {
      "image/png": "[encoded data removed]",
      "text/plain": [
       "<matplotlib.figure.Figure at 0x7f73147e1f98>"
      ]
     },
     "metadata": {},
     "output_type": "display_data"
    }
   ],
   "source": [
    "car11_proba_ratio = car11.calculate_deviation(mode='ratio')[0]-1\n",
    "car11_proba_ratio[1].plot(kind='hist', bins=20)"
   ]
  },
  {
   "cell_type": "markdown",
   "metadata": {},
   "source": [
    "I could bin them by treating ratio of conditional probas to that of bulk as a continuous variable. Cutoffs can be:<br>\n",
    "p < -0.4<br>\n",
    "-0.4 <= p < -0.2<br>\n",
    "-0.2 <= p < 0<br>\n",
    "0 <= p < 0.2<br>\n",
    "0.2 <= p < 0.4<br>\n",
    "0.4 <= p < 0.6<br>\n",
    "0.6 <= p < 0.8<br>\n",
    "p >= 0.8<br>\n",
    "This would reduce number of categories from 104 to 8."
   ]
  },
  {
   "cell_type": "code",
   "execution_count": 25,
   "metadata": {},
   "outputs": [],
   "source": [
    "car11_cat1 = list(car11_proba_ratio[1][car11_proba_ratio[1] < -0.4].index)\n",
    "car11_cat2 = list(car11_proba_ratio[1][(car11_proba_ratio[1] >= -0.4) & (car11_proba_ratio[1] < -0.2)].index)\n",
    "car11_cat3 = list(car11_proba_ratio[1][(car11_proba_ratio[1] >= -0.2) & (car11_proba_ratio[1] < 0)].index)\n",
    "car11_cat4 = list(car11_proba_ratio[1][(car11_proba_ratio[1] >= 0) & (car11_proba_ratio[1] < 0.2)].index)\n",
    "car11_cat5 = list(car11_proba_ratio[1][(car11_proba_ratio[1] >= 0.2) & (car11_proba_ratio[1] < 0.4)].index)\n",
    "car11_cat6 = list(car11_proba_ratio[1][(car11_proba_ratio[1] >= 0.4) & (car11_proba_ratio[1] < 0.6)].index)\n",
    "car11_cat7 = list(car11_proba_ratio[1][(car11_proba_ratio[1] >= 0.6) & (car11_proba_ratio[1] < 0.8)].index)\n",
    "car11_cat8 = list(car11_proba_ratio[1][car11_proba_ratio[1] >= 0.8].index)"
   ]
  },
  {
   "cell_type": "code",
   "execution_count": 26,
   "metadata": {},
   "outputs": [],
   "source": [
    "cat_binning_dict['ps_car_11_cat'] = [\n",
    "    car11_cat1, \n",
    "    car11_cat2, \n",
    "    car11_cat3, \n",
    "    car11_cat4, \n",
    "    car11_cat5, \n",
    "    car11_cat6, \n",
    "    car11_cat7, \n",
    "    car11_cat8 \n",
    "]"
   ]
  },
  {
   "cell_type": "code",
   "execution_count": 27,
   "metadata": {},
   "outputs": [
    {
     "name": "stdout",
     "output_type": "stream",
     "text": [
      "104\n"
     ]
    }
   ],
   "source": [
    "# Make sure all the categories are accounted for\n",
    "count = 0\n",
    "for i in range(len(cat_binning_dict['ps_car_11_cat'])):\n",
    "    count += len(cat_binning_dict['ps_car_11_cat'][i])\n",
    "print(count)"
   ]
  },
  {
   "cell_type": "code",
   "execution_count": 28,
   "metadata": {},
   "outputs": [
    {
     "data": {
      "text/plain": [
       "{'ps_car_01_cat': [[6, 7], [3, 4, 5, 10], [2, 8, 11], [0, 1], [9], [-1]],\n",
       " 'ps_car_02_cat': [[-1, 1], [0]],\n",
       " 'ps_car_04_cat': [[0, 4], [1, 2, 3, 8], [6, 9], [5], [7]],\n",
       " 'ps_car_05_cat': [[-1], [0, 1]],\n",
       " 'ps_car_06_cat': [[0, 1, 4, 11, 14],\n",
       "  [3, 6, 7],\n",
       "  [10, 12, 16],\n",
       "  [9, 13, 15],\n",
       "  [2, 5, 8, 17]],\n",
       " 'ps_car_09_cat': [[0, 2, 3], [1, 4], [-1]],\n",
       " 'ps_car_11_cat': [[43],\n",
       "  [7, 9, 10, 11, 16, 19, 32, 39, 42, 44, 57, 62, 64, 66, 67, 82, 95, 99, 103],\n",
       "  [15,\n",
       "   22,\n",
       "   26,\n",
       "   27,\n",
       "   29,\n",
       "   30,\n",
       "   37,\n",
       "   38,\n",
       "   40,\n",
       "   48,\n",
       "   49,\n",
       "   52,\n",
       "   53,\n",
       "   59,\n",
       "   60,\n",
       "   65,\n",
       "   68,\n",
       "   73,\n",
       "   74,\n",
       "   76,\n",
       "   77,\n",
       "   84,\n",
       "   85,\n",
       "   86,\n",
       "   87,\n",
       "   88,\n",
       "   92,\n",
       "   96,\n",
       "   98,\n",
       "   102],\n",
       "  [1,\n",
       "   2,\n",
       "   5,\n",
       "   6,\n",
       "   8,\n",
       "   12,\n",
       "   14,\n",
       "   23,\n",
       "   24,\n",
       "   25,\n",
       "   28,\n",
       "   31,\n",
       "   34,\n",
       "   35,\n",
       "   36,\n",
       "   46,\n",
       "   47,\n",
       "   51,\n",
       "   54,\n",
       "   70,\n",
       "   78,\n",
       "   80,\n",
       "   81,\n",
       "   83,\n",
       "   91,\n",
       "   101],\n",
       "  [13, 17, 20, 45, 50, 79, 89, 90, 94, 104],\n",
       "  [3, 33, 55, 56, 61, 69, 71, 72, 100],\n",
       "  [4, 21, 58, 63, 75, 93, 97],\n",
       "  [18, 41]],\n",
       " 'ps_ind_02_cat': [[1], [2, 3], [4], [-1]],\n",
       " 'ps_ind_05_cat': [[0], [3], [1, 4, 5], [6], [-1, 2]]}"
      ]
     },
     "execution_count": 28,
     "metadata": {},
     "output_type": "execute_result"
    }
   ],
   "source": [
    "cat_binning_dict"
   ]
  },
  {
   "cell_type": "markdown",
   "metadata": {},
   "source": [
    "# Fusing Categories"
   ]
  },
  {
   "cell_type": "code",
   "execution_count": 97,
   "metadata": {},
   "outputs": [
    {
     "data": {
      "text/plain": [
       "<module 'feature_analysis' from '/home/ryohayama/python_current/porto_seguro/feature_analysis.py'>"
      ]
     },
     "execution_count": 97,
     "metadata": {},
     "output_type": "execute_result"
    }
   ],
   "source": [
    "reload(fa)"
   ]
  },
  {
   "cell_type": "code",
   "execution_count": 90,
   "metadata": {},
   "outputs": [
    {
     "name": "stdout",
     "output_type": "stream",
     "text": [
      "ps_car_01_cat: # categories old/new = 13/6\n",
      "ps_car_02_cat: # categories old/new = 3/2\n",
      "ps_car_04_cat: # categories old/new = 10/5\n",
      "ps_car_05_cat: # categories old/new = 3/2\n",
      "ps_car_06_cat: # categories old/new = 18/5\n",
      "ps_car_09_cat: # categories old/new = 6/3\n",
      "ps_ind_02_cat: # categories old/new = 5/4\n",
      "ps_ind_05_cat: # categories old/new = 8/5\n",
      "ps_car_11_cat: # categories old/new = 104/8\n"
     ]
    }
   ],
   "source": [
    "cat_collection = fa.CategoricalFeatureCollection(categoricals)\n",
    "new_categoricals = cat_collection.fuse_all_categories(cat_binning_dict)\n",
    "for f in cat_binning_dict.keys():\n",
    "    num_uniques_old = len(categoricals[f].unique())\n",
    "    num_uniques_new = len(new_categoricals[f].unique())\n",
    "    print('%s: # categories old/new = %d/%d' % (f, num_uniques_old, num_uniques_new))"
   ]
  },
  {
   "cell_type": "code",
   "execution_count": 91,
   "metadata": {},
   "outputs": [],
   "source": [
    "import porto_seguro as ps"
   ]
  },
  {
   "cell_type": "code",
   "execution_count": 101,
   "metadata": {},
   "outputs": [
    {
     "data": {
      "text/plain": [
       "<module 'porto_seguro' from '/home/ryohayama/python_current/porto_seguro/porto_seguro.py'>"
      ]
     },
     "execution_count": 101,
     "metadata": {},
     "output_type": "execute_result"
    }
   ],
   "source": [
    "reload(ps)"
   ]
  },
  {
   "cell_type": "code",
   "execution_count": 102,
   "metadata": {},
   "outputs": [],
   "source": [
    "new_categoricals2 = ps.fuseCategoricalFeatures(categoricals)"
   ]
  },
  {
   "cell_type": "code",
   "execution_count": 103,
   "metadata": {},
   "outputs": [
    {
     "name": "stdout",
     "output_type": "stream",
     "text": [
      "ps_car_01_cat: # categories old/new = 13/6\n",
      "ps_car_02_cat: # categories old/new = 3/2\n",
      "ps_car_04_cat: # categories old/new = 10/5\n",
      "ps_car_05_cat: # categories old/new = 3/2\n",
      "ps_car_06_cat: # categories old/new = 18/5\n",
      "ps_car_09_cat: # categories old/new = 6/3\n",
      "ps_ind_02_cat: # categories old/new = 5/4\n",
      "ps_ind_05_cat: # categories old/new = 8/5\n",
      "ps_car_11_cat: # categories old/new = 104/8\n"
     ]
    }
   ],
   "source": [
    "for f in cat_binning_dict.keys():\n",
    "    num_uniques_old = len(categoricals[f].unique())\n",
    "    num_uniques_new = len(new_categoricals2[f].unique())\n",
    "    print('%s: # categories old/new = %d/%d' % (f, num_uniques_old, num_uniques_new))"
   ]
  },
  {
   "cell_type": "code",
   "execution_count": null,
   "metadata": {},
   "outputs": [],
   "source": []
  },
  {
   "cell_type": "code",
   "execution_count": null,
   "metadata": {},
   "outputs": [],
   "source": []
  }
 ],
 "metadata": {
  "kernelspec": {
   "display_name": "Python 3",
   "language": "python",
   "name": "python3"
  },
  "language_info": {
   "codemirror_mode": {
    "name": "ipython",
    "version": 3
   },
   "file_extension": ".py",
   "mimetype": "text/x-python",
   "name": "python",
   "nbconvert_exporter": "python",
   "pygments_lexer": "ipython3",
   "version": "3.6.2"
  }
 },
 "nbformat": 4,
 "nbformat_minor": 2
}
