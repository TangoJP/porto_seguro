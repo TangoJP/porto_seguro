{
 "cells": [
  {
   "cell_type": "code",
   "execution_count": 1,
   "metadata": {},
   "outputs": [
    {
     "name": "stderr",
     "output_type": "stream",
     "text": [
      "/home/ryohayama/.local/lib/python3.6/site-packages/statsmodels/compat/pandas.py:56: FutureWarning: The pandas.core.datetools module is deprecated and will be removed in a future version. Please use the pandas.tseries module instead.\n",
      "  from pandas.core import datetools\n"
     ]
    }
   ],
   "source": [
    "import pandas as pd\n",
    "import numpy as np\n",
    "import matplotlib.pyplot as plt\n",
    "import statsmodels.api as sm\n",
    "import scipy as sc\n",
    "%matplotlib inline\n",
    "\n",
    "from importlib import reload\n",
    "from matplotlib import cm\n",
    "\n",
    "from sklearn.decomposition import PCA\n",
    "\n",
    "import ps.feature_analysis as fa\n",
    "import ps.joint_probability as psjp\n",
    "\n",
    "import warnings\n",
    "warnings.simplefilter(\"ignore\", category=PendingDeprecationWarning)\n",
    "warnings.simplefilter(\"ignore\", category=DeprecationWarning)"
   ]
  },
  {
   "cell_type": "code",
   "execution_count": 2,
   "metadata": {},
   "outputs": [],
   "source": [
    "train = pd.read_csv('train.csv', header=0)\n",
    "\n",
    "all_fs = train.columns[2:]\n",
    "binary_fs = sorted([f for f in all_fs if '_bin' in f])\n",
    "categorical_fs = sorted([f for f in all_fs if '_cat' in f])\n",
    "other_fs = sorted([f for f in all_fs\n",
    "                if f not in binary_fs\n",
    "                if f not in categorical_fs])\n",
    "\n",
    "target = train.target"
   ]
  },
  {
   "cell_type": "code",
   "execution_count": 3,
   "metadata": {},
   "outputs": [
    {
     "data": {
      "text/plain": [
       "0.036447517859182946"
      ]
     },
     "execution_count": 3,
     "metadata": {},
     "output_type": "execute_result"
    }
   ],
   "source": [
    "num_samples = len(target)\n",
    "num_target = np.sum(target)\n",
    "freq_target = num_target/num_samples\n",
    "freq_target"
   ]
  },
  {
   "cell_type": "markdown",
   "metadata": {},
   "source": [
    "# Binaries"
   ]
  },
  {
   "cell_type": "markdown",
   "metadata": {},
   "source": [
    "### ind_bin\n",
    "nb42 result suggest that using all but ind_08 and ind_09 yields the best expected value"
   ]
  },
  {
   "cell_type": "code",
   "execution_count": 4,
   "metadata": {},
   "outputs": [
    {
     "data": {
      "text/plain": [
       "Index(['ps_ind_06_bin', 'ps_ind_07_bin', 'ps_ind_10_bin', 'ps_ind_11_bin',\n",
       "       'ps_ind_12_bin', 'ps_ind_13_bin', 'ps_ind_16_bin', 'ps_ind_17_bin',\n",
       "       'ps_ind_18_bin'],\n",
       "      dtype='object')"
      ]
     },
     "execution_count": 4,
     "metadata": {},
     "output_type": "execute_result"
    }
   ],
   "source": [
    "ind_bins_fs = [f for f in all_fs \n",
    "               if '_bin' in f\n",
    "               if '_ind' in f]\n",
    "ind_bins_fs = ind_bins_fs.copy()\n",
    "ind_bins_fs.remove('ps_ind_08_bin')\n",
    "ind_bins_fs.remove('ps_ind_09_bin')\n",
    "\n",
    "ind_bins = train[ind_bins_fs]\n",
    "\n",
    "ind_bins.columns"
   ]
  },
  {
   "cell_type": "code",
   "execution_count": 5,
   "metadata": {
    "scrolled": true
   },
   "outputs": [],
   "source": [
    "combo1 = tuple(f for f in ind_bins_fs)\n",
    "opt1 = psjp.JointProbabilityOptimizer(ind_bins, verbose=True)\n",
    "res1 = opt1.getExp(combo1, target)"
   ]
  },
  {
   "cell_type": "code",
   "execution_count": 6,
   "metadata": {},
   "outputs": [
    {
     "data": {
      "text/plain": [
       "860.1393829057389"
      ]
     },
     "execution_count": 6,
     "metadata": {},
     "output_type": "execute_result"
    }
   ],
   "source": [
    "res1"
   ]
  },
  {
   "cell_type": "markdown",
   "metadata": {},
   "source": [
    "### calc"
   ]
  },
  {
   "cell_type": "code",
   "execution_count": 7,
   "metadata": {},
   "outputs": [
    {
     "data": {
      "text/plain": [
       "['ps_calc_15_bin',\n",
       " 'ps_calc_16_bin',\n",
       " 'ps_calc_17_bin',\n",
       " 'ps_calc_18_bin',\n",
       " 'ps_calc_19_bin',\n",
       " 'ps_calc_20_bin']"
      ]
     },
     "execution_count": 7,
     "metadata": {},
     "output_type": "execute_result"
    }
   ],
   "source": [
    "calc_bins_fs = [f for f in binary_fs \n",
    "               if '_bin' in f\n",
    "               if '_calc' in f]\n",
    "calc_bins = train[calc_bins_fs]\n",
    "calc_bins_fs"
   ]
  },
  {
   "cell_type": "markdown",
   "metadata": {},
   "source": [
    "calc_bin features appear to be useless in bringing the probability higher. So not conducted"
   ]
  },
  {
   "cell_type": "markdown",
   "metadata": {},
   "source": [
    "# Categoricals"
   ]
  },
  {
   "cell_type": "markdown",
   "metadata": {},
   "source": [
    "### car"
   ]
  },
  {
   "cell_type": "code",
   "execution_count": 8,
   "metadata": {},
   "outputs": [
    {
     "data": {
      "text/plain": [
       "<module 'ps.joint_probability' from '/home/ryohayama/python_current/porto_seguro/ps/joint_probability.py'>"
      ]
     },
     "execution_count": 8,
     "metadata": {},
     "output_type": "execute_result"
    }
   ],
   "source": [
    "reload(psjp)"
   ]
  },
  {
   "cell_type": "code",
   "execution_count": 9,
   "metadata": {},
   "outputs": [
    {
     "name": "stdout",
     "output_type": "stream",
     "text": [
      "['ps_car_02_cat', 'ps_car_03_cat', 'ps_car_05_cat', 'ps_car_07_cat', 'ps_car_08_cat', 'ps_car_09_cat', 'ps_car_10_cat']\n",
      "['ps_car_01_cat', 'ps_car_04_cat', 'ps_car_06_cat', 'ps_car_11_cat']\n"
     ]
    }
   ],
   "source": [
    "car_cats_fs = [f for f in categorical_fs if 'car' in f]\n",
    "car_cats = train[car_cats_fs] + 1\n",
    "\n",
    "car_cat_small_fs = ['ps_car_02_cat', 'ps_car_03_cat', 'ps_car_05_cat', 'ps_car_07_cat',\n",
    "                     'ps_car_08_cat', 'ps_car_09_cat', 'ps_car_10_cat']\n",
    "car_cat_big_fs = [f for f in car_cats if f not in car_cat_small_fs]\n",
    "\n",
    "car_cat_small = car_cats[car_cat_small_fs]\n",
    "car_cat_big = car_cats[car_cat_big_fs]\n",
    "\n",
    "print(car_cat_small_fs)\n",
    "print(car_cat_big_fs)"
   ]
  },
  {
   "cell_type": "code",
   "execution_count": 10,
   "metadata": {},
   "outputs": [
    {
     "name": "stdout",
     "output_type": "stream",
     "text": [
      " 0/ 7: Processing Original\n",
      " 1/ 7: Processing with ps_car_02_cat\n",
      " 2/ 7: Processing with ps_car_03_cat\n",
      " 3/ 7: Processing with ps_car_05_cat\n",
      " 4/ 7: Processing with ps_car_07_cat\n",
      " 5/ 7: Processing with ps_car_08_cat\n",
      " 6/ 7: Processing with ps_car_09_cat\n",
      " 7/ 7: Processing with ps_car_10_cat\n"
     ]
    }
   ],
   "source": [
    "opt21 = psjp.JointProbabilityOptimizer(car_cat_big, verbose=True)\n",
    "res21 = opt21.selectByAddition(car_cat_small, target)"
   ]
  },
  {
   "cell_type": "code",
   "execution_count": 11,
   "metadata": {},
   "outputs": [
    {
     "data": {
      "text/html": [
       "<div>\n",
       "<style scoped>\n",
       "    .dataframe tbody tr th:only-of-type {\n",
       "        vertical-align: middle;\n",
       "    }\n",
       "\n",
       "    .dataframe tbody tr th {\n",
       "        vertical-align: top;\n",
       "    }\n",
       "\n",
       "    .dataframe thead th {\n",
       "        text-align: right;\n",
       "    }\n",
       "</style>\n",
       "<table border=\"1\" class=\"dataframe\">\n",
       "  <thead>\n",
       "    <tr style=\"text-align: right;\">\n",
       "      <th></th>\n",
       "      <th>exp_val</th>\n",
       "      <th>importance_</th>\n",
       "    </tr>\n",
       "  </thead>\n",
       "  <tbody>\n",
       "    <tr>\n",
       "      <th>ps_car_09_cat</th>\n",
       "      <td>1212.594591</td>\n",
       "      <td>0.232506</td>\n",
       "    </tr>\n",
       "    <tr>\n",
       "      <th>ps_car_07_cat</th>\n",
       "      <td>1148.121908</td>\n",
       "      <td>0.166974</td>\n",
       "    </tr>\n",
       "    <tr>\n",
       "      <th>ps_car_03_cat</th>\n",
       "      <td>1137.214309</td>\n",
       "      <td>0.155888</td>\n",
       "    </tr>\n",
       "    <tr>\n",
       "      <th>ps_car_05_cat</th>\n",
       "      <td>1129.849146</td>\n",
       "      <td>0.148401</td>\n",
       "    </tr>\n",
       "    <tr>\n",
       "      <th>ps_car_08_cat</th>\n",
       "      <td>1061.217347</td>\n",
       "      <td>0.078643</td>\n",
       "    </tr>\n",
       "    <tr>\n",
       "      <th>ps_car_02_cat</th>\n",
       "      <td>1041.559716</td>\n",
       "      <td>0.058662</td>\n",
       "    </tr>\n",
       "    <tr>\n",
       "      <th>ps_car_10_cat</th>\n",
       "      <td>1013.745295</td>\n",
       "      <td>0.030391</td>\n",
       "    </tr>\n",
       "    <tr>\n",
       "      <th>initial</th>\n",
       "      <td>983.845102</td>\n",
       "      <td>0.000000</td>\n",
       "    </tr>\n",
       "  </tbody>\n",
       "</table>\n",
       "</div>"
      ],
      "text/plain": [
       "                   exp_val  importance_\n",
       "ps_car_09_cat  1212.594591     0.232506\n",
       "ps_car_07_cat  1148.121908     0.166974\n",
       "ps_car_03_cat  1137.214309     0.155888\n",
       "ps_car_05_cat  1129.849146     0.148401\n",
       "ps_car_08_cat  1061.217347     0.078643\n",
       "ps_car_02_cat  1041.559716     0.058662\n",
       "ps_car_10_cat  1013.745295     0.030391\n",
       "initial         983.845102     0.000000"
      ]
     },
     "execution_count": 11,
     "metadata": {},
     "output_type": "execute_result"
    }
   ],
   "source": [
    "pd.DataFrame({'exp_val': res21[0], 'importance_': res21[1]}).sort_values('importance_', ascending=False)"
   ]
  },
  {
   "cell_type": "code",
   "execution_count": 12,
   "metadata": {},
   "outputs": [],
   "source": [
    "add1_fs = car_cat_big_fs + ['ps_car_09_cat']\n",
    "add1 = car_cats[add1_fs]\n",
    "removed_fs = car_cat_small_fs.copy()\n",
    "removed_fs.remove('ps_car_09_cat')\n",
    "removed = car_cat_small[removed_fs]"
   ]
  },
  {
   "cell_type": "code",
   "execution_count": 13,
   "metadata": {},
   "outputs": [
    {
     "name": "stdout",
     "output_type": "stream",
     "text": [
      " 0/ 6: Processing Original\n",
      " 1/ 6: Processing with ps_car_02_cat\n",
      " 2/ 6: Processing with ps_car_03_cat\n",
      " 3/ 6: Processing with ps_car_05_cat\n",
      " 4/ 6: Processing with ps_car_07_cat\n",
      " 5/ 6: Processing with ps_car_08_cat\n",
      " 6/ 6: Processing with ps_car_10_cat\n"
     ]
    }
   ],
   "source": [
    "opt22 = psjp.JointProbabilityOptimizer(add1, verbose=True)\n",
    "res22 = opt22.selectByAddition(removed, target)"
   ]
  },
  {
   "cell_type": "code",
   "execution_count": 14,
   "metadata": {},
   "outputs": [
    {
     "data": {
      "text/html": [
       "<div>\n",
       "<style scoped>\n",
       "    .dataframe tbody tr th:only-of-type {\n",
       "        vertical-align: middle;\n",
       "    }\n",
       "\n",
       "    .dataframe tbody tr th {\n",
       "        vertical-align: top;\n",
       "    }\n",
       "\n",
       "    .dataframe thead th {\n",
       "        text-align: right;\n",
       "    }\n",
       "</style>\n",
       "<table border=\"1\" class=\"dataframe\">\n",
       "  <thead>\n",
       "    <tr style=\"text-align: right;\">\n",
       "      <th></th>\n",
       "      <th>exp_val</th>\n",
       "      <th>importance_</th>\n",
       "    </tr>\n",
       "  </thead>\n",
       "  <tbody>\n",
       "    <tr>\n",
       "      <th>ps_car_05_cat</th>\n",
       "      <td>1534.227483</td>\n",
       "      <td>0.265244</td>\n",
       "    </tr>\n",
       "    <tr>\n",
       "      <th>ps_car_03_cat</th>\n",
       "      <td>1512.779695</td>\n",
       "      <td>0.247556</td>\n",
       "    </tr>\n",
       "    <tr>\n",
       "      <th>ps_car_07_cat</th>\n",
       "      <td>1497.985542</td>\n",
       "      <td>0.235356</td>\n",
       "    </tr>\n",
       "    <tr>\n",
       "      <th>ps_car_08_cat</th>\n",
       "      <td>1374.392476</td>\n",
       "      <td>0.133431</td>\n",
       "    </tr>\n",
       "    <tr>\n",
       "      <th>ps_car_02_cat</th>\n",
       "      <td>1324.654774</td>\n",
       "      <td>0.092414</td>\n",
       "    </tr>\n",
       "    <tr>\n",
       "      <th>ps_car_10_cat</th>\n",
       "      <td>1259.060487</td>\n",
       "      <td>0.038319</td>\n",
       "    </tr>\n",
       "    <tr>\n",
       "      <th>initial</th>\n",
       "      <td>1212.594591</td>\n",
       "      <td>0.000000</td>\n",
       "    </tr>\n",
       "  </tbody>\n",
       "</table>\n",
       "</div>"
      ],
      "text/plain": [
       "                   exp_val  importance_\n",
       "ps_car_05_cat  1534.227483     0.265244\n",
       "ps_car_03_cat  1512.779695     0.247556\n",
       "ps_car_07_cat  1497.985542     0.235356\n",
       "ps_car_08_cat  1374.392476     0.133431\n",
       "ps_car_02_cat  1324.654774     0.092414\n",
       "ps_car_10_cat  1259.060487     0.038319\n",
       "initial        1212.594591     0.000000"
      ]
     },
     "execution_count": 14,
     "metadata": {},
     "output_type": "execute_result"
    }
   ],
   "source": [
    "pd.DataFrame({'exp_val': res22[0], 'importance_': res22[1]}).sort_values('importance_', ascending=False)"
   ]
  },
  {
   "cell_type": "code",
   "execution_count": 15,
   "metadata": {},
   "outputs": [],
   "source": [
    "add2_fs = add1_fs + ['ps_car_05_cat']\n",
    "add2 = car_cats[add2_fs]\n",
    "removed_fs2 = removed_fs.copy()\n",
    "removed_fs2.remove('ps_car_05_cat')\n",
    "removed2 = car_cat_small[removed_fs2]"
   ]
  },
  {
   "cell_type": "code",
   "execution_count": 16,
   "metadata": {},
   "outputs": [
    {
     "name": "stdout",
     "output_type": "stream",
     "text": [
      " 0/ 5: Processing Original\n",
      " 1/ 5: Processing with ps_car_02_cat\n",
      " 2/ 5: Processing with ps_car_03_cat\n",
      " 3/ 5: Processing with ps_car_07_cat\n",
      " 4/ 5: Processing with ps_car_08_cat\n",
      " 5/ 5: Processing with ps_car_10_cat\n"
     ]
    }
   ],
   "source": [
    "opt23 = psjp.JointProbabilityOptimizer(add2, verbose=True)\n",
    "res23 = opt23.selectByAddition(removed2, target)"
   ]
  },
  {
   "cell_type": "code",
   "execution_count": 17,
   "metadata": {},
   "outputs": [
    {
     "data": {
      "text/html": [
       "<div>\n",
       "<style scoped>\n",
       "    .dataframe tbody tr th:only-of-type {\n",
       "        vertical-align: middle;\n",
       "    }\n",
       "\n",
       "    .dataframe tbody tr th {\n",
       "        vertical-align: top;\n",
       "    }\n",
       "\n",
       "    .dataframe thead th {\n",
       "        text-align: right;\n",
       "    }\n",
       "</style>\n",
       "<table border=\"1\" class=\"dataframe\">\n",
       "  <thead>\n",
       "    <tr style=\"text-align: right;\">\n",
       "      <th></th>\n",
       "      <th>exp_val</th>\n",
       "      <th>importance_</th>\n",
       "    </tr>\n",
       "  </thead>\n",
       "  <tbody>\n",
       "    <tr>\n",
       "      <th>ps_car_07_cat</th>\n",
       "      <td>1933.084336</td>\n",
       "      <td>0.259972</td>\n",
       "    </tr>\n",
       "    <tr>\n",
       "      <th>ps_car_08_cat</th>\n",
       "      <td>1827.990112</td>\n",
       "      <td>0.191473</td>\n",
       "    </tr>\n",
       "    <tr>\n",
       "      <th>ps_car_03_cat</th>\n",
       "      <td>1790.664354</td>\n",
       "      <td>0.167144</td>\n",
       "    </tr>\n",
       "    <tr>\n",
       "      <th>ps_car_02_cat</th>\n",
       "      <td>1730.765627</td>\n",
       "      <td>0.128102</td>\n",
       "    </tr>\n",
       "    <tr>\n",
       "      <th>ps_car_10_cat</th>\n",
       "      <td>1596.203468</td>\n",
       "      <td>0.040396</td>\n",
       "    </tr>\n",
       "    <tr>\n",
       "      <th>initial</th>\n",
       "      <td>1534.227483</td>\n",
       "      <td>0.000000</td>\n",
       "    </tr>\n",
       "  </tbody>\n",
       "</table>\n",
       "</div>"
      ],
      "text/plain": [
       "                   exp_val  importance_\n",
       "ps_car_07_cat  1933.084336     0.259972\n",
       "ps_car_08_cat  1827.990112     0.191473\n",
       "ps_car_03_cat  1790.664354     0.167144\n",
       "ps_car_02_cat  1730.765627     0.128102\n",
       "ps_car_10_cat  1596.203468     0.040396\n",
       "initial        1534.227483     0.000000"
      ]
     },
     "execution_count": 17,
     "metadata": {},
     "output_type": "execute_result"
    }
   ],
   "source": [
    "pd.DataFrame({'exp_val': res23[0], 'importance_': res23[1]}).sort_values('importance_', ascending=False)"
   ]
  },
  {
   "cell_type": "code",
   "execution_count": 18,
   "metadata": {},
   "outputs": [],
   "source": [
    "add3_fs = add2_fs + ['ps_car_07_cat']\n",
    "add3 = car_cats[add3_fs]\n",
    "removed_fs3 = removed_fs2.copy()\n",
    "removed_fs3.remove('ps_car_07_cat')\n",
    "removed3 = car_cat_small[removed_fs3]"
   ]
  },
  {
   "cell_type": "code",
   "execution_count": 19,
   "metadata": {},
   "outputs": [
    {
     "name": "stdout",
     "output_type": "stream",
     "text": [
      " 0/ 4: Processing Original\n",
      " 1/ 4: Processing with ps_car_02_cat\n",
      " 2/ 4: Processing with ps_car_03_cat\n",
      " 3/ 4: Processing with ps_car_08_cat\n",
      " 4/ 4: Processing with ps_car_10_cat\n"
     ]
    }
   ],
   "source": [
    "opt24 = psjp.JointProbabilityOptimizer(add3, verbose=True)\n",
    "res24 = opt24.selectByAddition(removed3, target)"
   ]
  },
  {
   "cell_type": "code",
   "execution_count": 20,
   "metadata": {},
   "outputs": [
    {
     "data": {
      "text/html": [
       "<div>\n",
       "<style scoped>\n",
       "    .dataframe tbody tr th:only-of-type {\n",
       "        vertical-align: middle;\n",
       "    }\n",
       "\n",
       "    .dataframe tbody tr th {\n",
       "        vertical-align: top;\n",
       "    }\n",
       "\n",
       "    .dataframe thead th {\n",
       "        text-align: right;\n",
       "    }\n",
       "</style>\n",
       "<table border=\"1\" class=\"dataframe\">\n",
       "  <thead>\n",
       "    <tr style=\"text-align: right;\">\n",
       "      <th></th>\n",
       "      <th>exp_val</th>\n",
       "      <th>importance_</th>\n",
       "    </tr>\n",
       "  </thead>\n",
       "  <tbody>\n",
       "    <tr>\n",
       "      <th>ps_car_08_cat</th>\n",
       "      <td>2310.974309</td>\n",
       "      <td>0.195486</td>\n",
       "    </tr>\n",
       "    <tr>\n",
       "      <th>ps_car_03_cat</th>\n",
       "      <td>2245.324463</td>\n",
       "      <td>0.161524</td>\n",
       "    </tr>\n",
       "    <tr>\n",
       "      <th>ps_car_02_cat</th>\n",
       "      <td>2169.755466</td>\n",
       "      <td>0.122432</td>\n",
       "    </tr>\n",
       "    <tr>\n",
       "      <th>ps_car_10_cat</th>\n",
       "      <td>2002.624079</td>\n",
       "      <td>0.035973</td>\n",
       "    </tr>\n",
       "    <tr>\n",
       "      <th>initial</th>\n",
       "      <td>1933.084336</td>\n",
       "      <td>0.000000</td>\n",
       "    </tr>\n",
       "  </tbody>\n",
       "</table>\n",
       "</div>"
      ],
      "text/plain": [
       "                   exp_val  importance_\n",
       "ps_car_08_cat  2310.974309     0.195486\n",
       "ps_car_03_cat  2245.324463     0.161524\n",
       "ps_car_02_cat  2169.755466     0.122432\n",
       "ps_car_10_cat  2002.624079     0.035973\n",
       "initial        1933.084336     0.000000"
      ]
     },
     "execution_count": 20,
     "metadata": {},
     "output_type": "execute_result"
    }
   ],
   "source": [
    "pd.DataFrame({'exp_val': res24[0], 'importance_': res24[1]}).sort_values('importance_', ascending=False)"
   ]
  },
  {
   "cell_type": "code",
   "execution_count": 21,
   "metadata": {},
   "outputs": [],
   "source": [
    "add4_fs = add3_fs + ['ps_car_08_cat']\n",
    "add4 = car_cats[add4_fs]\n",
    "removed_fs4 = removed_fs3.copy()\n",
    "removed_fs4.remove('ps_car_08_cat')\n",
    "removed4 = car_cat_small[removed_fs4]"
   ]
  },
  {
   "cell_type": "code",
   "execution_count": 22,
   "metadata": {},
   "outputs": [
    {
     "name": "stdout",
     "output_type": "stream",
     "text": [
      " 0/ 3: Processing Original\n",
      " 1/ 3: Processing with ps_car_02_cat\n",
      " 2/ 3: Processing with ps_car_03_cat\n",
      " 3/ 3: Processing with ps_car_10_cat\n"
     ]
    }
   ],
   "source": [
    "opt25 = psjp.JointProbabilityOptimizer(add4, verbose=True)\n",
    "res25 = opt25.selectByAddition(removed4, target)"
   ]
  },
  {
   "cell_type": "code",
   "execution_count": 23,
   "metadata": {},
   "outputs": [
    {
     "data": {
      "text/html": [
       "<div>\n",
       "<style scoped>\n",
       "    .dataframe tbody tr th:only-of-type {\n",
       "        vertical-align: middle;\n",
       "    }\n",
       "\n",
       "    .dataframe tbody tr th {\n",
       "        vertical-align: top;\n",
       "    }\n",
       "\n",
       "    .dataframe thead th {\n",
       "        text-align: right;\n",
       "    }\n",
       "</style>\n",
       "<table border=\"1\" class=\"dataframe\">\n",
       "  <thead>\n",
       "    <tr style=\"text-align: right;\">\n",
       "      <th></th>\n",
       "      <th>exp_val</th>\n",
       "      <th>importance_</th>\n",
       "    </tr>\n",
       "  </thead>\n",
       "  <tbody>\n",
       "    <tr>\n",
       "      <th>ps_car_03_cat</th>\n",
       "      <td>2636.811923</td>\n",
       "      <td>0.140996</td>\n",
       "    </tr>\n",
       "    <tr>\n",
       "      <th>ps_car_02_cat</th>\n",
       "      <td>2576.368434</td>\n",
       "      <td>0.114841</td>\n",
       "    </tr>\n",
       "    <tr>\n",
       "      <th>ps_car_10_cat</th>\n",
       "      <td>2380.605340</td>\n",
       "      <td>0.030131</td>\n",
       "    </tr>\n",
       "    <tr>\n",
       "      <th>initial</th>\n",
       "      <td>2310.974309</td>\n",
       "      <td>0.000000</td>\n",
       "    </tr>\n",
       "  </tbody>\n",
       "</table>\n",
       "</div>"
      ],
      "text/plain": [
       "                   exp_val  importance_\n",
       "ps_car_03_cat  2636.811923     0.140996\n",
       "ps_car_02_cat  2576.368434     0.114841\n",
       "ps_car_10_cat  2380.605340     0.030131\n",
       "initial        2310.974309     0.000000"
      ]
     },
     "execution_count": 23,
     "metadata": {},
     "output_type": "execute_result"
    }
   ],
   "source": [
    "pd.DataFrame({'exp_val': res25[0], 'importance_': res25[1]}).sort_values('importance_', ascending=False)"
   ]
  },
  {
   "cell_type": "code",
   "execution_count": 24,
   "metadata": {},
   "outputs": [],
   "source": [
    "add5_fs = add4_fs + ['ps_car_03_cat']\n",
    "add5 = car_cats[add5_fs]\n",
    "removed_fs5 = removed_fs4.copy()\n",
    "removed_fs5.remove('ps_car_03_cat')\n",
    "removed5 = car_cat_small[removed_fs5]"
   ]
  },
  {
   "cell_type": "code",
   "execution_count": 25,
   "metadata": {},
   "outputs": [
    {
     "name": "stdout",
     "output_type": "stream",
     "text": [
      " 0/ 2: Processing Original\n",
      " 1/ 2: Processing with ps_car_02_cat\n",
      " 2/ 2: Processing with ps_car_10_cat\n"
     ]
    }
   ],
   "source": [
    "opt26 = psjp.JointProbabilityOptimizer(add5, verbose=True)\n",
    "res26 = opt26.selectByAddition(removed5, target)"
   ]
  },
  {
   "cell_type": "code",
   "execution_count": 26,
   "metadata": {},
   "outputs": [
    {
     "data": {
      "text/html": [
       "<div>\n",
       "<style scoped>\n",
       "    .dataframe tbody tr th:only-of-type {\n",
       "        vertical-align: middle;\n",
       "    }\n",
       "\n",
       "    .dataframe tbody tr th {\n",
       "        vertical-align: top;\n",
       "    }\n",
       "\n",
       "    .dataframe thead th {\n",
       "        text-align: right;\n",
       "    }\n",
       "</style>\n",
       "<table border=\"1\" class=\"dataframe\">\n",
       "  <thead>\n",
       "    <tr style=\"text-align: right;\">\n",
       "      <th></th>\n",
       "      <th>exp_val</th>\n",
       "      <th>importance_</th>\n",
       "    </tr>\n",
       "  </thead>\n",
       "  <tbody>\n",
       "    <tr>\n",
       "      <th>ps_car_02_cat</th>\n",
       "      <td>2929.151139</td>\n",
       "      <td>0.110868</td>\n",
       "    </tr>\n",
       "    <tr>\n",
       "      <th>ps_car_10_cat</th>\n",
       "      <td>2709.888946</td>\n",
       "      <td>0.027714</td>\n",
       "    </tr>\n",
       "    <tr>\n",
       "      <th>initial</th>\n",
       "      <td>2636.811923</td>\n",
       "      <td>0.000000</td>\n",
       "    </tr>\n",
       "  </tbody>\n",
       "</table>\n",
       "</div>"
      ],
      "text/plain": [
       "                   exp_val  importance_\n",
       "ps_car_02_cat  2929.151139     0.110868\n",
       "ps_car_10_cat  2709.888946     0.027714\n",
       "initial        2636.811923     0.000000"
      ]
     },
     "execution_count": 26,
     "metadata": {},
     "output_type": "execute_result"
    }
   ],
   "source": [
    "pd.DataFrame({'exp_val': res26[0], 'importance_': res26[1]}).sort_values('importance_', ascending=False)"
   ]
  },
  {
   "cell_type": "code",
   "execution_count": 27,
   "metadata": {},
   "outputs": [],
   "source": [
    "add6_fs = add5_fs + ['ps_car_02_cat']\n",
    "add6 = car_cats[add6_fs]\n",
    "removed_fs6 = removed_fs5.copy()\n",
    "removed_fs6.remove('ps_car_02_cat')\n",
    "removed6 = car_cat_small[removed_fs6]"
   ]
  },
  {
   "cell_type": "code",
   "execution_count": 28,
   "metadata": {},
   "outputs": [
    {
     "name": "stdout",
     "output_type": "stream",
     "text": [
      " 0/ 1: Processing Original\n",
      " 1/ 1: Processing with ps_car_10_cat\n"
     ]
    }
   ],
   "source": [
    "opt27 = psjp.JointProbabilityOptimizer(add6, verbose=True)\n",
    "res27 = opt27.selectByAddition(removed6, target)"
   ]
  },
  {
   "cell_type": "code",
   "execution_count": 29,
   "metadata": {},
   "outputs": [
    {
     "data": {
      "text/html": [
       "<div>\n",
       "<style scoped>\n",
       "    .dataframe tbody tr th:only-of-type {\n",
       "        vertical-align: middle;\n",
       "    }\n",
       "\n",
       "    .dataframe tbody tr th {\n",
       "        vertical-align: top;\n",
       "    }\n",
       "\n",
       "    .dataframe thead th {\n",
       "        text-align: right;\n",
       "    }\n",
       "</style>\n",
       "<table border=\"1\" class=\"dataframe\">\n",
       "  <thead>\n",
       "    <tr style=\"text-align: right;\">\n",
       "      <th></th>\n",
       "      <th>exp_val</th>\n",
       "      <th>importance_</th>\n",
       "    </tr>\n",
       "  </thead>\n",
       "  <tbody>\n",
       "    <tr>\n",
       "      <th>ps_car_10_cat</th>\n",
       "      <td>3006.865110</td>\n",
       "      <td>0.026531</td>\n",
       "    </tr>\n",
       "    <tr>\n",
       "      <th>initial</th>\n",
       "      <td>2929.151139</td>\n",
       "      <td>0.000000</td>\n",
       "    </tr>\n",
       "  </tbody>\n",
       "</table>\n",
       "</div>"
      ],
      "text/plain": [
       "                   exp_val  importance_\n",
       "ps_car_10_cat  3006.865110     0.026531\n",
       "initial        2929.151139     0.000000"
      ]
     },
     "execution_count": 29,
     "metadata": {},
     "output_type": "execute_result"
    }
   ],
   "source": [
    "pd.DataFrame({'exp_val': res27[0], 'importance_': res27[1]}).sort_values('importance_', ascending=False)"
   ]
  },
  {
   "cell_type": "code",
   "execution_count": null,
   "metadata": {},
   "outputs": [],
   "source": []
  },
  {
   "cell_type": "code",
   "execution_count": 30,
   "metadata": {},
   "outputs": [
    {
     "data": {
      "text/plain": [
       "3006.865109799247"
      ]
     },
     "execution_count": 30,
     "metadata": {},
     "output_type": "execute_result"
    }
   ],
   "source": [
    "psjp.JointProbabilityOptimizer(car_cats, verbose=True).getExp(car_cats_fs, target)"
   ]
  },
  {
   "cell_type": "markdown",
   "metadata": {},
   "source": [
    "After all, I'll have to combine all the car features..."
   ]
  },
  {
   "cell_type": "code",
   "execution_count": null,
   "metadata": {},
   "outputs": [],
   "source": []
  },
  {
   "cell_type": "markdown",
   "metadata": {},
   "source": [
    "### ind"
   ]
  },
  {
   "cell_type": "code",
   "execution_count": 31,
   "metadata": {},
   "outputs": [
    {
     "data": {
      "text/plain": [
       "['ps_ind_02_cat', 'ps_ind_04_cat', 'ps_ind_05_cat']"
      ]
     },
     "execution_count": 31,
     "metadata": {},
     "output_type": "execute_result"
    }
   ],
   "source": [
    "ind_cat_fs = [f for f in categorical_fs if 'ind' in f]\n",
    "ind_cat = train[ind_cat_fs] + 1\n",
    "ind_cat_fs"
   ]
  },
  {
   "cell_type": "code",
   "execution_count": 32,
   "metadata": {},
   "outputs": [
    {
     "name": "stdout",
     "output_type": "stream",
     "text": [
      "Waiting for connection file: ~/.ipython/profile_default/security/ipcontroller-client.json\n"
     ]
    },
    {
     "ename": "OSError",
     "evalue": "Connection file '~/.ipython/profile_default/security/ipcontroller-client.json' not found.\nYou have attempted to connect to an IPython Cluster but no Controller could be found.\nPlease double-check your configuration and ensure that a cluster is running.",
     "output_type": "error",
     "traceback": [
      "\u001b[0;31m---------------------------------------------------------------------------\u001b[0m",
      "\u001b[0;31mOSError\u001b[0m                                   Traceback (most recent call last)",
      "\u001b[0;32m<timed exec>\u001b[0m in \u001b[0;36m<module>\u001b[0;34m()\u001b[0m\n",
      "\u001b[0;32m~/python_current/porto_seguro/ps/joint_probability.py\u001b[0m in \u001b[0;36mexhaustiveCombinatorialSelection\u001b[0;34m(self, target, parallel)\u001b[0m\n\u001b[1;32m    258\u001b[0m         \u001b[0mbest_combo\u001b[0m \u001b[0;34m=\u001b[0m \u001b[0;36m0\u001b[0m\u001b[0;34m\u001b[0m\u001b[0m\n\u001b[1;32m    259\u001b[0m         \u001b[0;32mif\u001b[0m \u001b[0mparallel\u001b[0m\u001b[0;34m:\u001b[0m\u001b[0;34m\u001b[0m\u001b[0m\n\u001b[0;32m--> 260\u001b[0;31m             \u001b[0mc\u001b[0m \u001b[0;34m=\u001b[0m \u001b[0mClient\u001b[0m\u001b[0;34m(\u001b[0m\u001b[0mprofile\u001b[0m\u001b[0;34m=\u001b[0m\u001b[0;34m\"default\"\u001b[0m\u001b[0;34m)\u001b[0m\u001b[0;34m\u001b[0m\u001b[0m\n\u001b[0m\u001b[1;32m    261\u001b[0m \u001b[0;34m\u001b[0m\u001b[0m\n\u001b[1;32m    262\u001b[0m         \u001b[0;32mfor\u001b[0m \u001b[0mi\u001b[0m \u001b[0;32min\u001b[0m \u001b[0mrange\u001b[0m\u001b[0;34m(\u001b[0m\u001b[0;36m1\u001b[0m\u001b[0;34m,\u001b[0m \u001b[0mself\u001b[0m\u001b[0;34m.\u001b[0m\u001b[0mnum_features\u001b[0m \u001b[0;34m+\u001b[0m \u001b[0;36m1\u001b[0m\u001b[0;34m)\u001b[0m\u001b[0;34m:\u001b[0m\u001b[0;34m\u001b[0m\u001b[0m\n",
      "\u001b[0;32m~/.local/lib/python3.6/site-packages/ipyparallel/client/client.py\u001b[0m in \u001b[0;36m__init__\u001b[0;34m(self, url_file, profile, profile_dir, ipython_dir, context, debug, sshserver, sshkey, password, paramiko, timeout, cluster_id, **extra_args)\u001b[0m\n\u001b[1;32m    395\u001b[0m                         \u001b[0mno_file_msg\u001b[0m\u001b[0;34m,\u001b[0m\u001b[0;34m\u001b[0m\u001b[0m\n\u001b[1;32m    396\u001b[0m                     ])\n\u001b[0;32m--> 397\u001b[0;31m                     \u001b[0;32mraise\u001b[0m \u001b[0mIOError\u001b[0m\u001b[0;34m(\u001b[0m\u001b[0mmsg\u001b[0m\u001b[0;34m)\u001b[0m\u001b[0;34m\u001b[0m\u001b[0m\n\u001b[0m\u001b[1;32m    398\u001b[0m         \u001b[0;32mif\u001b[0m \u001b[0murl_file\u001b[0m \u001b[0;32mis\u001b[0m \u001b[0;32mNone\u001b[0m\u001b[0;34m:\u001b[0m\u001b[0;34m\u001b[0m\u001b[0m\n\u001b[1;32m    399\u001b[0m             \u001b[0;32mraise\u001b[0m \u001b[0mIOError\u001b[0m\u001b[0;34m(\u001b[0m\u001b[0mno_file_msg\u001b[0m\u001b[0;34m)\u001b[0m\u001b[0;34m\u001b[0m\u001b[0m\n",
      "\u001b[0;31mOSError\u001b[0m: Connection file '~/.ipython/profile_default/security/ipcontroller-client.json' not found.\nYou have attempted to connect to an IPython Cluster but no Controller could be found.\nPlease double-check your configuration and ensure that a cluster is running."
     ]
    }
   ],
   "source": [
    "%%time\n",
    "opt4 = psjp.JointProbabilityOptimizer(ind_cat, verbose=True)\n",
    "res4 = opt4.exhaustiveCombinatorialSelection(target, parallel=True)"
   ]
  },
  {
   "cell_type": "code",
   "execution_count": 33,
   "metadata": {},
   "outputs": [
    {
     "name": "stdout",
     "output_type": "stream",
     "text": [
      "0\n",
      "None\n"
     ]
    }
   ],
   "source": [
    "print(opt4.best_expected_value_)\n",
    "print(opt4.best_combination_)"
   ]
  },
  {
   "cell_type": "code",
   "execution_count": null,
   "metadata": {},
   "outputs": [],
   "source": []
  },
  {
   "cell_type": "markdown",
   "metadata": {},
   "source": [
    "## Try combining car with other types"
   ]
  },
  {
   "cell_type": "code",
   "execution_count": 34,
   "metadata": {},
   "outputs": [
    {
     "name": "stdout",
     "output_type": "stream",
     "text": [
      " 0/ 3: Processing Original\n",
      " 1/ 3: Processing with ps_ind_02_cat\n",
      " 2/ 3: Processing with ps_ind_04_cat\n",
      " 3/ 3: Processing with ps_ind_05_cat\n"
     ]
    }
   ],
   "source": [
    "car_opt1 = psjp.JointProbabilityOptimizer(car_cats, verbose=True)\n",
    "car_res1 = car_opt1.selectByAddition(ind_cat, target)"
   ]
  },
  {
   "cell_type": "code",
   "execution_count": 35,
   "metadata": {},
   "outputs": [
    {
     "data": {
      "text/html": [
       "<div>\n",
       "<style scoped>\n",
       "    .dataframe tbody tr th:only-of-type {\n",
       "        vertical-align: middle;\n",
       "    }\n",
       "\n",
       "    .dataframe tbody tr th {\n",
       "        vertical-align: top;\n",
       "    }\n",
       "\n",
       "    .dataframe thead th {\n",
       "        text-align: right;\n",
       "    }\n",
       "</style>\n",
       "<table border=\"1\" class=\"dataframe\">\n",
       "  <thead>\n",
       "    <tr style=\"text-align: right;\">\n",
       "      <th></th>\n",
       "      <th>exp_val</th>\n",
       "      <th>importance_</th>\n",
       "    </tr>\n",
       "  </thead>\n",
       "  <tbody>\n",
       "    <tr>\n",
       "      <th>ps_ind_05_cat</th>\n",
       "      <td>4312.602154</td>\n",
       "      <td>0.434252</td>\n",
       "    </tr>\n",
       "    <tr>\n",
       "      <th>ps_ind_02_cat</th>\n",
       "      <td>4121.087436</td>\n",
       "      <td>0.370559</td>\n",
       "    </tr>\n",
       "    <tr>\n",
       "      <th>ps_ind_04_cat</th>\n",
       "      <td>3823.766927</td>\n",
       "      <td>0.271679</td>\n",
       "    </tr>\n",
       "    <tr>\n",
       "      <th>initial</th>\n",
       "      <td>3006.865110</td>\n",
       "      <td>0.000000</td>\n",
       "    </tr>\n",
       "  </tbody>\n",
       "</table>\n",
       "</div>"
      ],
      "text/plain": [
       "                   exp_val  importance_\n",
       "ps_ind_05_cat  4312.602154     0.434252\n",
       "ps_ind_02_cat  4121.087436     0.370559\n",
       "ps_ind_04_cat  3823.766927     0.271679\n",
       "initial        3006.865110     0.000000"
      ]
     },
     "execution_count": 35,
     "metadata": {},
     "output_type": "execute_result"
    }
   ],
   "source": [
    "pd.DataFrame({'exp_val': car_res1[0], 'importance_': car_res1[1]}).sort_values('importance_', ascending=False)"
   ]
  },
  {
   "cell_type": "code",
   "execution_count": null,
   "metadata": {},
   "outputs": [],
   "source": []
  },
  {
   "cell_type": "code",
   "execution_count": null,
   "metadata": {},
   "outputs": [],
   "source": []
  },
  {
   "cell_type": "markdown",
   "metadata": {},
   "source": [
    "## Try combining ind binaries and categoricals"
   ]
  },
  {
   "cell_type": "code",
   "execution_count": 36,
   "metadata": {},
   "outputs": [
    {
     "name": "stdout",
     "output_type": "stream",
     "text": [
      " 0/ 3: Processing Original\n",
      " 1/ 3: Processing with ps_ind_02_cat\n",
      " 2/ 3: Processing with ps_ind_04_cat\n",
      " 3/ 3: Processing with ps_ind_05_cat\n"
     ]
    }
   ],
   "source": [
    "indAll_opt1 = psjp.JointProbabilityOptimizer(ind_bins, verbose=True)\n",
    "indAll_res1 = indAll_opt1.selectByAddition(ind_cat, target)"
   ]
  },
  {
   "cell_type": "code",
   "execution_count": 38,
   "metadata": {},
   "outputs": [
    {
     "data": {
      "text/html": [
       "<div>\n",
       "<style scoped>\n",
       "    .dataframe tbody tr th:only-of-type {\n",
       "        vertical-align: middle;\n",
       "    }\n",
       "\n",
       "    .dataframe tbody tr th {\n",
       "        vertical-align: top;\n",
       "    }\n",
       "\n",
       "    .dataframe thead th {\n",
       "        text-align: right;\n",
       "    }\n",
       "</style>\n",
       "<table border=\"1\" class=\"dataframe\">\n",
       "  <thead>\n",
       "    <tr style=\"text-align: right;\">\n",
       "      <th></th>\n",
       "      <th>exp_val</th>\n",
       "      <th>importance_</th>\n",
       "    </tr>\n",
       "  </thead>\n",
       "  <tbody>\n",
       "    <tr>\n",
       "      <th>ps_ind_05_cat</th>\n",
       "      <td>925.693271</td>\n",
       "      <td>0.076213</td>\n",
       "    </tr>\n",
       "    <tr>\n",
       "      <th>ps_ind_02_cat</th>\n",
       "      <td>881.872214</td>\n",
       "      <td>0.025267</td>\n",
       "    </tr>\n",
       "    <tr>\n",
       "      <th>ps_ind_04_cat</th>\n",
       "      <td>879.476327</td>\n",
       "      <td>0.022481</td>\n",
       "    </tr>\n",
       "    <tr>\n",
       "      <th>initial</th>\n",
       "      <td>860.139383</td>\n",
       "      <td>0.000000</td>\n",
       "    </tr>\n",
       "  </tbody>\n",
       "</table>\n",
       "</div>"
      ],
      "text/plain": [
       "                  exp_val  importance_\n",
       "ps_ind_05_cat  925.693271     0.076213\n",
       "ps_ind_02_cat  881.872214     0.025267\n",
       "ps_ind_04_cat  879.476327     0.022481\n",
       "initial        860.139383     0.000000"
      ]
     },
     "execution_count": 38,
     "metadata": {},
     "output_type": "execute_result"
    }
   ],
   "source": [
    "pd.DataFrame({'exp_val': indAll_res1[0], 'importance_': indAll_res1[1]})\\\n",
    "                .sort_values('importance_', ascending=False)"
   ]
  },
  {
   "cell_type": "code",
   "execution_count": 39,
   "metadata": {},
   "outputs": [
    {
     "data": {
      "text/plain": [
       "Index(['ps_ind_06_bin', 'ps_ind_07_bin', 'ps_ind_10_bin', 'ps_ind_11_bin',\n",
       "       'ps_ind_12_bin', 'ps_ind_13_bin', 'ps_ind_16_bin', 'ps_ind_17_bin',\n",
       "       'ps_ind_18_bin', 'ps_ind_02_cat', 'ps_ind_04_cat', 'ps_ind_05_cat'],\n",
       "      dtype='object')"
      ]
     },
     "execution_count": 39,
     "metadata": {},
     "output_type": "execute_result"
    }
   ],
   "source": [
    "inds = pd.concat([ind_bins, ind_cat], axis=1)\n",
    "inds.columns"
   ]
  },
  {
   "cell_type": "code",
   "execution_count": 40,
   "metadata": {},
   "outputs": [
    {
     "name": "stdout",
     "output_type": "stream",
     "text": [
      " 0/12: Processing Original\n",
      " 1/12: Processing without ps_ind_06_bin\n",
      " 2/12: Processing without ps_ind_07_bin\n",
      " 3/12: Processing without ps_ind_10_bin\n",
      " 4/12: Processing without ps_ind_11_bin\n",
      " 5/12: Processing without ps_ind_12_bin\n",
      " 6/12: Processing without ps_ind_13_bin\n",
      " 7/12: Processing without ps_ind_16_bin\n",
      " 8/12: Processing without ps_ind_17_bin\n",
      " 9/12: Processing without ps_ind_18_bin\n",
      "10/12: Processing without ps_ind_02_cat\n",
      "11/12: Processing without ps_ind_04_cat\n",
      "12/12: Processing without ps_ind_05_cat\n"
     ]
    }
   ],
   "source": [
    "opt7 = psjp.JointProbabilityOptimizer(inds, verbose=True)\n",
    "res7 = opt7.selectByElimination(target)"
   ]
  },
  {
   "cell_type": "code",
   "execution_count": 41,
   "metadata": {},
   "outputs": [
    {
     "data": {
      "text/html": [
       "<div>\n",
       "<style scoped>\n",
       "    .dataframe tbody tr th:only-of-type {\n",
       "        vertical-align: middle;\n",
       "    }\n",
       "\n",
       "    .dataframe tbody tr th {\n",
       "        vertical-align: top;\n",
       "    }\n",
       "\n",
       "    .dataframe thead th {\n",
       "        text-align: right;\n",
       "    }\n",
       "</style>\n",
       "<table border=\"1\" class=\"dataframe\">\n",
       "  <thead>\n",
       "    <tr style=\"text-align: right;\">\n",
       "      <th></th>\n",
       "      <th>exp_val</th>\n",
       "      <th>importance_</th>\n",
       "    </tr>\n",
       "  </thead>\n",
       "  <tbody>\n",
       "    <tr>\n",
       "      <th>ps_ind_05_cat</th>\n",
       "      <td>897.109495</td>\n",
       "      <td>0.096844</td>\n",
       "    </tr>\n",
       "    <tr>\n",
       "      <th>ps_ind_02_cat</th>\n",
       "      <td>948.787062</td>\n",
       "      <td>0.044818</td>\n",
       "    </tr>\n",
       "    <tr>\n",
       "      <th>ps_ind_07_bin</th>\n",
       "      <td>958.690696</td>\n",
       "      <td>0.034848</td>\n",
       "    </tr>\n",
       "    <tr>\n",
       "      <th>ps_ind_04_cat</th>\n",
       "      <td>965.414235</td>\n",
       "      <td>0.028079</td>\n",
       "    </tr>\n",
       "    <tr>\n",
       "      <th>ps_ind_06_bin</th>\n",
       "      <td>969.045768</td>\n",
       "      <td>0.024423</td>\n",
       "    </tr>\n",
       "    <tr>\n",
       "      <th>ps_ind_17_bin</th>\n",
       "      <td>971.045743</td>\n",
       "      <td>0.022409</td>\n",
       "    </tr>\n",
       "    <tr>\n",
       "      <th>ps_ind_12_bin</th>\n",
       "      <td>972.238167</td>\n",
       "      <td>0.021209</td>\n",
       "    </tr>\n",
       "    <tr>\n",
       "      <th>ps_ind_18_bin</th>\n",
       "      <td>982.455809</td>\n",
       "      <td>0.010922</td>\n",
       "    </tr>\n",
       "    <tr>\n",
       "      <th>ps_ind_11_bin</th>\n",
       "      <td>983.178885</td>\n",
       "      <td>0.010194</td>\n",
       "    </tr>\n",
       "    <tr>\n",
       "      <th>ps_ind_16_bin</th>\n",
       "      <td>983.831661</td>\n",
       "      <td>0.009537</td>\n",
       "    </tr>\n",
       "    <tr>\n",
       "      <th>ps_ind_13_bin</th>\n",
       "      <td>986.399269</td>\n",
       "      <td>0.006952</td>\n",
       "    </tr>\n",
       "    <tr>\n",
       "      <th>ps_ind_10_bin</th>\n",
       "      <td>987.258685</td>\n",
       "      <td>0.006087</td>\n",
       "    </tr>\n",
       "    <tr>\n",
       "      <th>initial</th>\n",
       "      <td>993.304968</td>\n",
       "      <td>0.000000</td>\n",
       "    </tr>\n",
       "  </tbody>\n",
       "</table>\n",
       "</div>"
      ],
      "text/plain": [
       "                  exp_val  importance_\n",
       "ps_ind_05_cat  897.109495     0.096844\n",
       "ps_ind_02_cat  948.787062     0.044818\n",
       "ps_ind_07_bin  958.690696     0.034848\n",
       "ps_ind_04_cat  965.414235     0.028079\n",
       "ps_ind_06_bin  969.045768     0.024423\n",
       "ps_ind_17_bin  971.045743     0.022409\n",
       "ps_ind_12_bin  972.238167     0.021209\n",
       "ps_ind_18_bin  982.455809     0.010922\n",
       "ps_ind_11_bin  983.178885     0.010194\n",
       "ps_ind_16_bin  983.831661     0.009537\n",
       "ps_ind_13_bin  986.399269     0.006952\n",
       "ps_ind_10_bin  987.258685     0.006087\n",
       "initial        993.304968     0.000000"
      ]
     },
     "execution_count": 41,
     "metadata": {},
     "output_type": "execute_result"
    }
   ],
   "source": [
    "pd.DataFrame({'exp_val': res7[0], 'importance_': res7[1]}).sort_values('importance_', ascending=False)"
   ]
  },
  {
   "cell_type": "code",
   "execution_count": 42,
   "metadata": {},
   "outputs": [],
   "source": [
    "jp = psjp.JointProbability()\n",
    "jp.fit(inds, target, label='ind_proba')\n",
    "a1 = jp.transform(inds, label='ind_proba')"
   ]
  },
  {
   "cell_type": "code",
   "execution_count": 43,
   "metadata": {},
   "outputs": [
    {
     "data": {
      "text/html": [
       "<div>\n",
       "<style scoped>\n",
       "    .dataframe tbody tr th:only-of-type {\n",
       "        vertical-align: middle;\n",
       "    }\n",
       "\n",
       "    .dataframe tbody tr th {\n",
       "        vertical-align: top;\n",
       "    }\n",
       "\n",
       "    .dataframe thead th {\n",
       "        text-align: right;\n",
       "    }\n",
       "</style>\n",
       "<table border=\"1\" class=\"dataframe\">\n",
       "  <thead>\n",
       "    <tr style=\"text-align: right;\">\n",
       "      <th>target</th>\n",
       "      <th>combined_feature</th>\n",
       "      <th>0</th>\n",
       "      <th>1</th>\n",
       "      <th>ind_proba</th>\n",
       "    </tr>\n",
       "  </thead>\n",
       "  <tbody>\n",
       "    <tr>\n",
       "      <th>0</th>\n",
       "      <td>(0, 0, 0, 0, 0, 0, 0, 0, 0, 0, 0, 0)</td>\n",
       "      <td>2</td>\n",
       "      <td>3</td>\n",
       "      <td>0.600000</td>\n",
       "    </tr>\n",
       "    <tr>\n",
       "      <th>1</th>\n",
       "      <td>(0, 0, 0, 0, 0, 0, 0, 0, 0, 0, 1, 1)</td>\n",
       "      <td>12</td>\n",
       "      <td>1</td>\n",
       "      <td>0.076923</td>\n",
       "    </tr>\n",
       "    <tr>\n",
       "      <th>2</th>\n",
       "      <td>(0, 0, 0, 0, 0, 0, 0, 0, 0, 0, 1, 7)</td>\n",
       "      <td>1</td>\n",
       "      <td>0</td>\n",
       "      <td>0.000000</td>\n",
       "    </tr>\n",
       "    <tr>\n",
       "      <th>3</th>\n",
       "      <td>(0, 0, 0, 0, 0, 0, 0, 0, 0, 0, 2, 1)</td>\n",
       "      <td>11</td>\n",
       "      <td>0</td>\n",
       "      <td>0.000000</td>\n",
       "    </tr>\n",
       "    <tr>\n",
       "      <th>4</th>\n",
       "      <td>(0, 0, 0, 0, 0, 0, 0, 0, 0, 2, 1, 0)</td>\n",
       "      <td>1</td>\n",
       "      <td>0</td>\n",
       "      <td>0.000000</td>\n",
       "    </tr>\n",
       "    <tr>\n",
       "      <th>5</th>\n",
       "      <td>(0, 0, 0, 0, 0, 0, 0, 0, 0, 2, 1, 1)</td>\n",
       "      <td>4643</td>\n",
       "      <td>167</td>\n",
       "      <td>0.034719</td>\n",
       "    </tr>\n",
       "    <tr>\n",
       "      <th>6</th>\n",
       "      <td>(0, 0, 0, 0, 0, 0, 0, 0, 0, 2, 1, 2)</td>\n",
       "      <td>70</td>\n",
       "      <td>5</td>\n",
       "      <td>0.066667</td>\n",
       "    </tr>\n",
       "    <tr>\n",
       "      <th>7</th>\n",
       "      <td>(0, 0, 0, 0, 0, 0, 0, 0, 0, 2, 1, 3)</td>\n",
       "      <td>26</td>\n",
       "      <td>2</td>\n",
       "      <td>0.071429</td>\n",
       "    </tr>\n",
       "    <tr>\n",
       "      <th>8</th>\n",
       "      <td>(0, 0, 0, 0, 0, 0, 0, 0, 0, 2, 1, 4)</td>\n",
       "      <td>61</td>\n",
       "      <td>3</td>\n",
       "      <td>0.046875</td>\n",
       "    </tr>\n",
       "    <tr>\n",
       "      <th>9</th>\n",
       "      <td>(0, 0, 0, 0, 0, 0, 0, 0, 0, 2, 1, 5)</td>\n",
       "      <td>116</td>\n",
       "      <td>9</td>\n",
       "      <td>0.072000</td>\n",
       "    </tr>\n",
       "    <tr>\n",
       "      <th>10</th>\n",
       "      <td>(0, 0, 0, 0, 0, 0, 0, 0, 0, 2, 1, 6)</td>\n",
       "      <td>13</td>\n",
       "      <td>1</td>\n",
       "      <td>0.071429</td>\n",
       "    </tr>\n",
       "    <tr>\n",
       "      <th>11</th>\n",
       "      <td>(0, 0, 0, 0, 0, 0, 0, 0, 0, 2, 1, 7)</td>\n",
       "      <td>139</td>\n",
       "      <td>9</td>\n",
       "      <td>0.060811</td>\n",
       "    </tr>\n",
       "    <tr>\n",
       "      <th>12</th>\n",
       "      <td>(0, 0, 0, 0, 0, 0, 0, 0, 0, 2, 2, 0)</td>\n",
       "      <td>6</td>\n",
       "      <td>0</td>\n",
       "      <td>0.000000</td>\n",
       "    </tr>\n",
       "    <tr>\n",
       "      <th>13</th>\n",
       "      <td>(0, 0, 0, 0, 0, 0, 0, 0, 0, 2, 2, 1)</td>\n",
       "      <td>2642</td>\n",
       "      <td>100</td>\n",
       "      <td>0.036470</td>\n",
       "    </tr>\n",
       "    <tr>\n",
       "      <th>14</th>\n",
       "      <td>(0, 0, 0, 0, 0, 0, 0, 0, 0, 2, 2, 2)</td>\n",
       "      <td>22</td>\n",
       "      <td>4</td>\n",
       "      <td>0.153846</td>\n",
       "    </tr>\n",
       "    <tr>\n",
       "      <th>15</th>\n",
       "      <td>(0, 0, 0, 0, 0, 0, 0, 0, 0, 2, 2, 3)</td>\n",
       "      <td>24</td>\n",
       "      <td>6</td>\n",
       "      <td>0.200000</td>\n",
       "    </tr>\n",
       "    <tr>\n",
       "      <th>16</th>\n",
       "      <td>(0, 0, 0, 0, 0, 0, 0, 0, 0, 2, 2, 4)</td>\n",
       "      <td>24</td>\n",
       "      <td>3</td>\n",
       "      <td>0.111111</td>\n",
       "    </tr>\n",
       "    <tr>\n",
       "      <th>17</th>\n",
       "      <td>(0, 0, 0, 0, 0, 0, 0, 0, 0, 2, 2, 5)</td>\n",
       "      <td>120</td>\n",
       "      <td>9</td>\n",
       "      <td>0.069767</td>\n",
       "    </tr>\n",
       "    <tr>\n",
       "      <th>18</th>\n",
       "      <td>(0, 0, 0, 0, 0, 0, 0, 0, 0, 2, 2, 6)</td>\n",
       "      <td>4</td>\n",
       "      <td>1</td>\n",
       "      <td>0.200000</td>\n",
       "    </tr>\n",
       "    <tr>\n",
       "      <th>19</th>\n",
       "      <td>(0, 0, 0, 0, 0, 0, 0, 0, 0, 2, 2, 7)</td>\n",
       "      <td>99</td>\n",
       "      <td>9</td>\n",
       "      <td>0.083333</td>\n",
       "    </tr>\n",
       "    <tr>\n",
       "      <th>20</th>\n",
       "      <td>(0, 0, 0, 0, 0, 0, 0, 0, 0, 3, 1, 0)</td>\n",
       "      <td>31</td>\n",
       "      <td>4</td>\n",
       "      <td>0.114286</td>\n",
       "    </tr>\n",
       "    <tr>\n",
       "      <th>21</th>\n",
       "      <td>(0, 0, 0, 0, 0, 0, 0, 0, 0, 3, 1, 1)</td>\n",
       "      <td>1351</td>\n",
       "      <td>50</td>\n",
       "      <td>0.035689</td>\n",
       "    </tr>\n",
       "    <tr>\n",
       "      <th>22</th>\n",
       "      <td>(0, 0, 0, 0, 0, 0, 0, 0, 0, 3, 1, 2)</td>\n",
       "      <td>12</td>\n",
       "      <td>1</td>\n",
       "      <td>0.076923</td>\n",
       "    </tr>\n",
       "    <tr>\n",
       "      <th>23</th>\n",
       "      <td>(0, 0, 0, 0, 0, 0, 0, 0, 0, 3, 1, 4)</td>\n",
       "      <td>11</td>\n",
       "      <td>0</td>\n",
       "      <td>0.000000</td>\n",
       "    </tr>\n",
       "    <tr>\n",
       "      <th>24</th>\n",
       "      <td>(0, 0, 0, 0, 0, 0, 0, 0, 0, 3, 1, 5)</td>\n",
       "      <td>13</td>\n",
       "      <td>1</td>\n",
       "      <td>0.071429</td>\n",
       "    </tr>\n",
       "    <tr>\n",
       "      <th>25</th>\n",
       "      <td>(0, 0, 0, 0, 0, 0, 0, 0, 0, 3, 1, 6)</td>\n",
       "      <td>1</td>\n",
       "      <td>0</td>\n",
       "      <td>0.000000</td>\n",
       "    </tr>\n",
       "    <tr>\n",
       "      <th>26</th>\n",
       "      <td>(0, 0, 0, 0, 0, 0, 0, 0, 0, 3, 1, 7)</td>\n",
       "      <td>95</td>\n",
       "      <td>8</td>\n",
       "      <td>0.077670</td>\n",
       "    </tr>\n",
       "    <tr>\n",
       "      <th>27</th>\n",
       "      <td>(0, 0, 0, 0, 0, 0, 0, 0, 0, 3, 2, 0)</td>\n",
       "      <td>25</td>\n",
       "      <td>3</td>\n",
       "      <td>0.107143</td>\n",
       "    </tr>\n",
       "    <tr>\n",
       "      <th>28</th>\n",
       "      <td>(0, 0, 0, 0, 0, 0, 0, 0, 0, 3, 2, 1)</td>\n",
       "      <td>1094</td>\n",
       "      <td>34</td>\n",
       "      <td>0.030142</td>\n",
       "    </tr>\n",
       "    <tr>\n",
       "      <th>29</th>\n",
       "      <td>(0, 0, 0, 0, 0, 0, 0, 0, 0, 3, 2, 2)</td>\n",
       "      <td>10</td>\n",
       "      <td>0</td>\n",
       "      <td>0.000000</td>\n",
       "    </tr>\n",
       "    <tr>\n",
       "      <th>...</th>\n",
       "      <td>...</td>\n",
       "      <td>...</td>\n",
       "      <td>...</td>\n",
       "      <td>...</td>\n",
       "    </tr>\n",
       "    <tr>\n",
       "      <th>1453</th>\n",
       "      <td>(1, 0, 0, 1, 1, 1, 0, 0, 1, 3, 1, 0)</td>\n",
       "      <td>1</td>\n",
       "      <td>0</td>\n",
       "      <td>0.000000</td>\n",
       "    </tr>\n",
       "    <tr>\n",
       "      <th>1454</th>\n",
       "      <td>(1, 0, 0, 1, 1, 1, 0, 0, 1, 3, 1, 1)</td>\n",
       "      <td>1</td>\n",
       "      <td>0</td>\n",
       "      <td>0.000000</td>\n",
       "    </tr>\n",
       "    <tr>\n",
       "      <th>1455</th>\n",
       "      <td>(1, 0, 0, 1, 1, 1, 0, 0, 1, 4, 2, 1)</td>\n",
       "      <td>2</td>\n",
       "      <td>0</td>\n",
       "      <td>0.000000</td>\n",
       "    </tr>\n",
       "    <tr>\n",
       "      <th>1456</th>\n",
       "      <td>(1, 0, 0, 1, 1, 1, 0, 1, 0, 3, 1, 0)</td>\n",
       "      <td>1</td>\n",
       "      <td>0</td>\n",
       "      <td>0.000000</td>\n",
       "    </tr>\n",
       "    <tr>\n",
       "      <th>1457</th>\n",
       "      <td>(1, 0, 1, 0, 0, 0, 0, 0, 0, 3, 2, 1)</td>\n",
       "      <td>1</td>\n",
       "      <td>0</td>\n",
       "      <td>0.000000</td>\n",
       "    </tr>\n",
       "    <tr>\n",
       "      <th>1458</th>\n",
       "      <td>(1, 0, 1, 0, 0, 0, 0, 0, 1, 2, 1, 1)</td>\n",
       "      <td>6</td>\n",
       "      <td>0</td>\n",
       "      <td>0.000000</td>\n",
       "    </tr>\n",
       "    <tr>\n",
       "      <th>1459</th>\n",
       "      <td>(1, 0, 1, 0, 0, 0, 0, 0, 1, 2, 1, 7)</td>\n",
       "      <td>1</td>\n",
       "      <td>0</td>\n",
       "      <td>0.000000</td>\n",
       "    </tr>\n",
       "    <tr>\n",
       "      <th>1460</th>\n",
       "      <td>(1, 0, 1, 0, 0, 0, 0, 0, 1, 2, 2, 1)</td>\n",
       "      <td>1</td>\n",
       "      <td>0</td>\n",
       "      <td>0.000000</td>\n",
       "    </tr>\n",
       "    <tr>\n",
       "      <th>1461</th>\n",
       "      <td>(1, 0, 1, 0, 0, 0, 0, 0, 1, 2, 2, 5)</td>\n",
       "      <td>1</td>\n",
       "      <td>0</td>\n",
       "      <td>0.000000</td>\n",
       "    </tr>\n",
       "    <tr>\n",
       "      <th>1462</th>\n",
       "      <td>(1, 0, 1, 0, 0, 0, 0, 0, 1, 3, 2, 1)</td>\n",
       "      <td>2</td>\n",
       "      <td>0</td>\n",
       "      <td>0.000000</td>\n",
       "    </tr>\n",
       "    <tr>\n",
       "      <th>1463</th>\n",
       "      <td>(1, 0, 1, 0, 0, 0, 0, 1, 0, 2, 1, 1)</td>\n",
       "      <td>2</td>\n",
       "      <td>0</td>\n",
       "      <td>0.000000</td>\n",
       "    </tr>\n",
       "    <tr>\n",
       "      <th>1464</th>\n",
       "      <td>(1, 0, 1, 0, 0, 0, 0, 1, 0, 2, 2, 1)</td>\n",
       "      <td>1</td>\n",
       "      <td>0</td>\n",
       "      <td>0.000000</td>\n",
       "    </tr>\n",
       "    <tr>\n",
       "      <th>1465</th>\n",
       "      <td>(1, 0, 1, 0, 0, 0, 0, 1, 0, 4, 2, 1)</td>\n",
       "      <td>1</td>\n",
       "      <td>0</td>\n",
       "      <td>0.000000</td>\n",
       "    </tr>\n",
       "    <tr>\n",
       "      <th>1466</th>\n",
       "      <td>(1, 0, 1, 0, 0, 0, 1, 0, 0, 2, 1, 1)</td>\n",
       "      <td>1</td>\n",
       "      <td>0</td>\n",
       "      <td>0.000000</td>\n",
       "    </tr>\n",
       "    <tr>\n",
       "      <th>1467</th>\n",
       "      <td>(1, 0, 1, 0, 0, 0, 1, 0, 0, 3, 2, 1)</td>\n",
       "      <td>1</td>\n",
       "      <td>0</td>\n",
       "      <td>0.000000</td>\n",
       "    </tr>\n",
       "    <tr>\n",
       "      <th>1468</th>\n",
       "      <td>(1, 0, 1, 0, 1, 0, 0, 0, 0, 2, 1, 1)</td>\n",
       "      <td>1</td>\n",
       "      <td>0</td>\n",
       "      <td>0.000000</td>\n",
       "    </tr>\n",
       "    <tr>\n",
       "      <th>1469</th>\n",
       "      <td>(1, 0, 1, 0, 1, 0, 0, 0, 1, 2, 1, 1)</td>\n",
       "      <td>3</td>\n",
       "      <td>1</td>\n",
       "      <td>0.250000</td>\n",
       "    </tr>\n",
       "    <tr>\n",
       "      <th>1470</th>\n",
       "      <td>(1, 0, 1, 0, 1, 0, 0, 0, 1, 2, 2, 5)</td>\n",
       "      <td>1</td>\n",
       "      <td>0</td>\n",
       "      <td>0.000000</td>\n",
       "    </tr>\n",
       "    <tr>\n",
       "      <th>1471</th>\n",
       "      <td>(1, 0, 1, 0, 1, 0, 0, 0, 1, 2, 2, 7)</td>\n",
       "      <td>1</td>\n",
       "      <td>0</td>\n",
       "      <td>0.000000</td>\n",
       "    </tr>\n",
       "    <tr>\n",
       "      <th>1472</th>\n",
       "      <td>(1, 0, 1, 0, 1, 0, 0, 0, 1, 3, 1, 1)</td>\n",
       "      <td>1</td>\n",
       "      <td>0</td>\n",
       "      <td>0.000000</td>\n",
       "    </tr>\n",
       "    <tr>\n",
       "      <th>1473</th>\n",
       "      <td>(1, 0, 1, 0, 1, 0, 0, 0, 1, 5, 1, 1)</td>\n",
       "      <td>1</td>\n",
       "      <td>0</td>\n",
       "      <td>0.000000</td>\n",
       "    </tr>\n",
       "    <tr>\n",
       "      <th>1474</th>\n",
       "      <td>(1, 0, 1, 0, 1, 0, 1, 0, 0, 2, 1, 1)</td>\n",
       "      <td>1</td>\n",
       "      <td>0</td>\n",
       "      <td>0.000000</td>\n",
       "    </tr>\n",
       "    <tr>\n",
       "      <th>1475</th>\n",
       "      <td>(1, 0, 1, 0, 1, 1, 0, 0, 1, 3, 1, 1)</td>\n",
       "      <td>1</td>\n",
       "      <td>0</td>\n",
       "      <td>0.000000</td>\n",
       "    </tr>\n",
       "    <tr>\n",
       "      <th>1476</th>\n",
       "      <td>(1, 0, 1, 1, 0, 0, 0, 0, 1, 2, 1, 1)</td>\n",
       "      <td>1</td>\n",
       "      <td>0</td>\n",
       "      <td>0.000000</td>\n",
       "    </tr>\n",
       "    <tr>\n",
       "      <th>1477</th>\n",
       "      <td>(1, 0, 1, 1, 1, 0, 0, 0, 0, 2, 1, 1)</td>\n",
       "      <td>1</td>\n",
       "      <td>0</td>\n",
       "      <td>0.000000</td>\n",
       "    </tr>\n",
       "    <tr>\n",
       "      <th>1478</th>\n",
       "      <td>(1, 0, 1, 1, 1, 0, 0, 0, 1, 2, 1, 1)</td>\n",
       "      <td>2</td>\n",
       "      <td>0</td>\n",
       "      <td>0.000000</td>\n",
       "    </tr>\n",
       "    <tr>\n",
       "      <th>1479</th>\n",
       "      <td>(1, 0, 1, 1, 1, 0, 0, 0, 1, 2, 2, 1)</td>\n",
       "      <td>1</td>\n",
       "      <td>0</td>\n",
       "      <td>0.000000</td>\n",
       "    </tr>\n",
       "    <tr>\n",
       "      <th>1480</th>\n",
       "      <td>(1, 0, 1, 1, 1, 0, 0, 0, 1, 3, 1, 1)</td>\n",
       "      <td>1</td>\n",
       "      <td>0</td>\n",
       "      <td>0.000000</td>\n",
       "    </tr>\n",
       "    <tr>\n",
       "      <th>1481</th>\n",
       "      <td>(1, 0, 1, 1, 1, 1, 0, 0, 1, 2, 1, 1)</td>\n",
       "      <td>1</td>\n",
       "      <td>0</td>\n",
       "      <td>0.000000</td>\n",
       "    </tr>\n",
       "    <tr>\n",
       "      <th>1482</th>\n",
       "      <td>(1, 0, 1, 1, 1, 1, 0, 1, 0, 2, 1, 1)</td>\n",
       "      <td>1</td>\n",
       "      <td>0</td>\n",
       "      <td>0.000000</td>\n",
       "    </tr>\n",
       "  </tbody>\n",
       "</table>\n",
       "<p>1483 rows × 4 columns</p>\n",
       "</div>"
      ],
      "text/plain": [
       "target                      combined_feature     0    1  ind_proba\n",
       "0       (0, 0, 0, 0, 0, 0, 0, 0, 0, 0, 0, 0)     2    3   0.600000\n",
       "1       (0, 0, 0, 0, 0, 0, 0, 0, 0, 0, 1, 1)    12    1   0.076923\n",
       "2       (0, 0, 0, 0, 0, 0, 0, 0, 0, 0, 1, 7)     1    0   0.000000\n",
       "3       (0, 0, 0, 0, 0, 0, 0, 0, 0, 0, 2, 1)    11    0   0.000000\n",
       "4       (0, 0, 0, 0, 0, 0, 0, 0, 0, 2, 1, 0)     1    0   0.000000\n",
       "5       (0, 0, 0, 0, 0, 0, 0, 0, 0, 2, 1, 1)  4643  167   0.034719\n",
       "6       (0, 0, 0, 0, 0, 0, 0, 0, 0, 2, 1, 2)    70    5   0.066667\n",
       "7       (0, 0, 0, 0, 0, 0, 0, 0, 0, 2, 1, 3)    26    2   0.071429\n",
       "8       (0, 0, 0, 0, 0, 0, 0, 0, 0, 2, 1, 4)    61    3   0.046875\n",
       "9       (0, 0, 0, 0, 0, 0, 0, 0, 0, 2, 1, 5)   116    9   0.072000\n",
       "10      (0, 0, 0, 0, 0, 0, 0, 0, 0, 2, 1, 6)    13    1   0.071429\n",
       "11      (0, 0, 0, 0, 0, 0, 0, 0, 0, 2, 1, 7)   139    9   0.060811\n",
       "12      (0, 0, 0, 0, 0, 0, 0, 0, 0, 2, 2, 0)     6    0   0.000000\n",
       "13      (0, 0, 0, 0, 0, 0, 0, 0, 0, 2, 2, 1)  2642  100   0.036470\n",
       "14      (0, 0, 0, 0, 0, 0, 0, 0, 0, 2, 2, 2)    22    4   0.153846\n",
       "15      (0, 0, 0, 0, 0, 0, 0, 0, 0, 2, 2, 3)    24    6   0.200000\n",
       "16      (0, 0, 0, 0, 0, 0, 0, 0, 0, 2, 2, 4)    24    3   0.111111\n",
       "17      (0, 0, 0, 0, 0, 0, 0, 0, 0, 2, 2, 5)   120    9   0.069767\n",
       "18      (0, 0, 0, 0, 0, 0, 0, 0, 0, 2, 2, 6)     4    1   0.200000\n",
       "19      (0, 0, 0, 0, 0, 0, 0, 0, 0, 2, 2, 7)    99    9   0.083333\n",
       "20      (0, 0, 0, 0, 0, 0, 0, 0, 0, 3, 1, 0)    31    4   0.114286\n",
       "21      (0, 0, 0, 0, 0, 0, 0, 0, 0, 3, 1, 1)  1351   50   0.035689\n",
       "22      (0, 0, 0, 0, 0, 0, 0, 0, 0, 3, 1, 2)    12    1   0.076923\n",
       "23      (0, 0, 0, 0, 0, 0, 0, 0, 0, 3, 1, 4)    11    0   0.000000\n",
       "24      (0, 0, 0, 0, 0, 0, 0, 0, 0, 3, 1, 5)    13    1   0.071429\n",
       "25      (0, 0, 0, 0, 0, 0, 0, 0, 0, 3, 1, 6)     1    0   0.000000\n",
       "26      (0, 0, 0, 0, 0, 0, 0, 0, 0, 3, 1, 7)    95    8   0.077670\n",
       "27      (0, 0, 0, 0, 0, 0, 0, 0, 0, 3, 2, 0)    25    3   0.107143\n",
       "28      (0, 0, 0, 0, 0, 0, 0, 0, 0, 3, 2, 1)  1094   34   0.030142\n",
       "29      (0, 0, 0, 0, 0, 0, 0, 0, 0, 3, 2, 2)    10    0   0.000000\n",
       "...                                      ...   ...  ...        ...\n",
       "1453    (1, 0, 0, 1, 1, 1, 0, 0, 1, 3, 1, 0)     1    0   0.000000\n",
       "1454    (1, 0, 0, 1, 1, 1, 0, 0, 1, 3, 1, 1)     1    0   0.000000\n",
       "1455    (1, 0, 0, 1, 1, 1, 0, 0, 1, 4, 2, 1)     2    0   0.000000\n",
       "1456    (1, 0, 0, 1, 1, 1, 0, 1, 0, 3, 1, 0)     1    0   0.000000\n",
       "1457    (1, 0, 1, 0, 0, 0, 0, 0, 0, 3, 2, 1)     1    0   0.000000\n",
       "1458    (1, 0, 1, 0, 0, 0, 0, 0, 1, 2, 1, 1)     6    0   0.000000\n",
       "1459    (1, 0, 1, 0, 0, 0, 0, 0, 1, 2, 1, 7)     1    0   0.000000\n",
       "1460    (1, 0, 1, 0, 0, 0, 0, 0, 1, 2, 2, 1)     1    0   0.000000\n",
       "1461    (1, 0, 1, 0, 0, 0, 0, 0, 1, 2, 2, 5)     1    0   0.000000\n",
       "1462    (1, 0, 1, 0, 0, 0, 0, 0, 1, 3, 2, 1)     2    0   0.000000\n",
       "1463    (1, 0, 1, 0, 0, 0, 0, 1, 0, 2, 1, 1)     2    0   0.000000\n",
       "1464    (1, 0, 1, 0, 0, 0, 0, 1, 0, 2, 2, 1)     1    0   0.000000\n",
       "1465    (1, 0, 1, 0, 0, 0, 0, 1, 0, 4, 2, 1)     1    0   0.000000\n",
       "1466    (1, 0, 1, 0, 0, 0, 1, 0, 0, 2, 1, 1)     1    0   0.000000\n",
       "1467    (1, 0, 1, 0, 0, 0, 1, 0, 0, 3, 2, 1)     1    0   0.000000\n",
       "1468    (1, 0, 1, 0, 1, 0, 0, 0, 0, 2, 1, 1)     1    0   0.000000\n",
       "1469    (1, 0, 1, 0, 1, 0, 0, 0, 1, 2, 1, 1)     3    1   0.250000\n",
       "1470    (1, 0, 1, 0, 1, 0, 0, 0, 1, 2, 2, 5)     1    0   0.000000\n",
       "1471    (1, 0, 1, 0, 1, 0, 0, 0, 1, 2, 2, 7)     1    0   0.000000\n",
       "1472    (1, 0, 1, 0, 1, 0, 0, 0, 1, 3, 1, 1)     1    0   0.000000\n",
       "1473    (1, 0, 1, 0, 1, 0, 0, 0, 1, 5, 1, 1)     1    0   0.000000\n",
       "1474    (1, 0, 1, 0, 1, 0, 1, 0, 0, 2, 1, 1)     1    0   0.000000\n",
       "1475    (1, 0, 1, 0, 1, 1, 0, 0, 1, 3, 1, 1)     1    0   0.000000\n",
       "1476    (1, 0, 1, 1, 0, 0, 0, 0, 1, 2, 1, 1)     1    0   0.000000\n",
       "1477    (1, 0, 1, 1, 1, 0, 0, 0, 0, 2, 1, 1)     1    0   0.000000\n",
       "1478    (1, 0, 1, 1, 1, 0, 0, 0, 1, 2, 1, 1)     2    0   0.000000\n",
       "1479    (1, 0, 1, 1, 1, 0, 0, 0, 1, 2, 2, 1)     1    0   0.000000\n",
       "1480    (1, 0, 1, 1, 1, 0, 0, 0, 1, 3, 1, 1)     1    0   0.000000\n",
       "1481    (1, 0, 1, 1, 1, 1, 0, 0, 1, 2, 1, 1)     1    0   0.000000\n",
       "1482    (1, 0, 1, 1, 1, 1, 0, 1, 0, 2, 1, 1)     1    0   0.000000\n",
       "\n",
       "[1483 rows x 4 columns]"
      ]
     },
     "execution_count": 43,
     "metadata": {},
     "output_type": "execute_result"
    }
   ],
   "source": [
    "jp.contingency"
   ]
  },
  {
   "cell_type": "code",
   "execution_count": 45,
   "metadata": {},
   "outputs": [
    {
     "data": {
      "text/plain": [
       "<matplotlib.legend.Legend at 0x7fa2f8f2f358>"
      ]
     },
     "execution_count": 45,
     "metadata": {},
     "output_type": "execute_result"
    },
    {
     "data": {
      "image/png": "[encoded data removed]",
      "text/plain": [
       "<matplotlib.figure.Figure at 0x7fa2f8f2f6d8>"
      ]
     },
     "metadata": {},
     "output_type": "display_data"
    }
   ],
   "source": [
    "fig, ax = plt.subplots(1, 1, figsize=(20, 8))\n",
    "jp.contingency[0].plot(kind='bar', ax=ax, color='skyblue', label='class0')\n",
    "jp.contingency[1].plot(kind='bar', ax=ax, color='red', label='class1')\n",
    "ax.legend()"
   ]
  },
  {
   "cell_type": "code",
   "execution_count": 46,
   "metadata": {},
   "outputs": [
    {
     "data": {
      "text/plain": [
       "<matplotlib.legend.Legend at 0x7fa319d185c0>"
      ]
     },
     "execution_count": 46,
     "metadata": {},
     "output_type": "execute_result"
    },
    {
     "data": {
      "image/png": "[encoded data removed]",
      "text/plain": [
       "<matplotlib.figure.Figure at 0x7fa31d7d07f0>"
      ]
     },
     "metadata": {},
     "output_type": "display_data"
    }
   ],
   "source": [
    "fig, ax = plt.subplots(1, 1, figsize=(20, 8))\n",
    "#joint_contingency.total.plot(kind='bar', ax=ax, color='skyblue', label='bulk')\n",
    "ax.axhline(y=freq_target, color='0.9', ls='--')\n",
    "ax.axhline(y=0.1, color='0.9', ls='--')\n",
    "ax.axhline(y=0.2, color='0.9', ls='--')\n",
    "jp.contingency[1].plot(kind='bar', ax=ax, color='salmon', label='class1')\n",
    "ax.legend()"
   ]
  },
  {
   "cell_type": "code",
   "execution_count": 48,
   "metadata": {},
   "outputs": [
    {
     "data": {
      "text/plain": [
       "<matplotlib.legend.Legend at 0x7fa2f0dc9a58>"
      ]
     },
     "execution_count": 48,
     "metadata": {},
     "output_type": "execute_result"
    },
    {
     "data": {
      "image/png": "[encoded data removed]",
      "text/plain": [
       "<matplotlib.figure.Figure at 0x7fa308e5d5c0>"
      ]
     },
     "metadata": {},
     "output_type": "display_data"
    }
   ],
   "source": [
    "fig, ax = plt.subplots(1, 1, figsize=(20, 8))\n",
    "#joint_contingency.total.plot(kind='bar', ax=ax, color='skyblue', label='bulk')\n",
    "ax.axhline(y=freq_target, color='0.9', ls='--')\n",
    "ax.axhline(y=0.1, color='0.9', ls='--')\n",
    "ax.axhline(y=0.2, color='0.9', ls='--')\n",
    "jp.contingency['ind_proba'].plot(kind='bar', ax=ax, color='salmon', label='class1 probability')\n",
    "ax.legend()"
   ]
  },
  {
   "cell_type": "code",
   "execution_count": null,
   "metadata": {},
   "outputs": [],
   "source": []
  },
  {
   "cell_type": "code",
   "execution_count": null,
   "metadata": {},
   "outputs": [],
   "source": []
  },
  {
   "cell_type": "code",
   "execution_count": null,
   "metadata": {},
   "outputs": [],
   "source": []
  },
  {
   "cell_type": "code",
   "execution_count": null,
   "metadata": {},
   "outputs": [],
   "source": []
  },
  {
   "cell_type": "code",
   "execution_count": null,
   "metadata": {},
   "outputs": [],
   "source": []
  }
 ],
 "metadata": {
  "kernelspec": {
   "display_name": "Python 3",
   "language": "python",
   "name": "python3"
  },
  "language_info": {
   "codemirror_mode": {
    "name": "ipython",
    "version": 3
   },
   "file_extension": ".py",
   "mimetype": "text/x-python",
   "name": "python",
   "nbconvert_exporter": "python",
   "pygments_lexer": "ipython3",
   "version": "3.6.3"
  }
 },
 "nbformat": 4,
 "nbformat_minor": 2
}
