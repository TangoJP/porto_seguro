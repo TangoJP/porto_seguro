{
 "cells": [
  {
   "cell_type": "code",
   "execution_count": 7,
   "metadata": {},
   "outputs": [],
   "source": [
    "import pandas as pd\n",
    "import numpy as np\n",
    "import matplotlib.pyplot as plt\n",
    "import scipy\n",
    "from matplotlib import cm\n",
    "from pprint import pprint\n",
    "\n",
    "import statsmodels.api as sm\n",
    "import seaborn as sns\n",
    "import feature_processing as fp\n",
    "\n",
    "from sklearn.decomposition import PCA\n",
    "from sklearn.feature_selection import GenericUnivariateSelect, chi2, f_classif, mutual_info_classif\n",
    "\n",
    "%matplotlib inline"
   ]
  },
  {
   "cell_type": "code",
   "execution_count": 2,
   "metadata": {},
   "outputs": [],
   "source": [
    "data = pd.read_csv('./data/trainset_digitized.csv')"
   ]
  },
  {
   "cell_type": "code",
   "execution_count": 3,
   "metadata": {},
   "outputs": [],
   "source": [
    "features = data.iloc[:, :-1]\n",
    "target = data.iloc[:, -1]"
   ]
  },
  {
   "cell_type": "code",
   "execution_count": 4,
   "metadata": {},
   "outputs": [],
   "source": [
    "binary_fs = [col for col in features.columns if '_bin' in col]\n",
    "cat_fs = [col for col in features.columns if '_cat' in col]\n",
    "bin_cat_fs = binary_fs + cat_fs\n",
    "\n",
    "ordinal_fs = [col for col in features.columns \n",
    "              if col not in bin_cat_fs]\n",
    "\n",
    "bins_cats = features[bin_cat_fs]\n",
    "ordinals= features[ordinal_fs]"
   ]
  },
  {
   "cell_type": "code",
   "execution_count": 9,
   "metadata": {},
   "outputs": [
    {
     "name": "stdout",
     "output_type": "stream",
     "text": [
      "# Binary & Categorical Features: 201\n",
      "# Ordinal/continuous Features: 26\n"
     ]
    }
   ],
   "source": [
    "print('# Binary & Categorical Features: %d' % (bins_cats.shape[1]))\n",
    "print('# Ordinal/continuous Features: %d' % (ordinals.shape[1]))"
   ]
  },
  {
   "cell_type": "markdown",
   "metadata": {},
   "source": [
    "## Test Association/Independence with the class labels"
   ]
  },
  {
   "cell_type": "markdown",
   "metadata": {},
   "source": [
    "<b>Binary and Categorical Features</b>"
   ]
  },
  {
   "cell_type": "code",
   "execution_count": 10,
   "metadata": {},
   "outputs": [],
   "source": [
    "X_bincat = np.array(bins_cats)\n",
    "y = np.array(target)"
   ]
  },
  {
   "cell_type": "code",
   "execution_count": 32,
   "metadata": {},
   "outputs": [],
   "source": [
    "_, chi_pvals = chi2(X_bincat, y)\n",
    "_, f_pvals = f_classif(X_bincat, y)"
   ]
  },
  {
   "cell_type": "code",
   "execution_count": 33,
   "metadata": {},
   "outputs": [
    {
     "name": "stdout",
     "output_type": "stream",
     "text": [
      "CPU times: user 23min 15s, sys: 5.16 s, total: 23min 20s\n",
      "Wall time: 23min 19s\n"
     ]
    }
   ],
   "source": [
    "%%time\n",
    "if False:\n",
    "    minfo = mutual_info_classif(X_bincat, y)"
   ]
  },
  {
   "cell_type": "code",
   "execution_count": 70,
   "metadata": {},
   "outputs": [
    {
     "data": {
      "text/plain": [
       "count    201.000000\n",
       "mean       0.006461\n",
       "std        0.021029\n",
       "min        0.000000\n",
       "25%        0.000000\n",
       "50%        0.000158\n",
       "75%        0.000458\n",
       "90%        0.011873\n",
       "max        0.133032\n",
       "dtype: float64"
      ]
     },
     "execution_count": 70,
     "metadata": {},
     "output_type": "execute_result"
    }
   ],
   "source": [
    "pd.Series(minfo).describe(percentiles=[0.25, 0.5, 0.75, 0.9])"
   ]
  },
  {
   "cell_type": "code",
   "execution_count": 71,
   "metadata": {},
   "outputs": [],
   "source": [
    "chi_001_fs = [bin_cat_fs[i] for i in np.argwhere(chi_pvals < 0.01).ravel()]\n",
    "chi_005_fs = [bin_cat_fs[i] for i in np.argwhere(chi_pvals < 0.05).ravel()]\n",
    "\n",
    "F_001_fs = [bin_cat_fs[i] for i in np.argwhere(f_pvals < 0.01).ravel()]\n",
    "F_005_fs = [bin_cat_fs[i] for i in np.argwhere(f_pvals < 0.05).ravel()]\n",
    "\n",
    "mi_50_fs = [bin_cat_fs[i] for i in np.argwhere(minfo >= 0.000158).ravel()]\n",
    "mi_75_fs = [bin_cat_fs[i] for i in np.argwhere(minfo >= 0.000458).ravel()]\n",
    "mi_90_fs = [bin_cat_fs[i] for i in np.argwhere(minfo >= 0.011873).ravel()]"
   ]
  },
  {
   "cell_type": "code",
   "execution_count": 73,
   "metadata": {},
   "outputs": [
    {
     "name": "stdout",
     "output_type": "stream",
     "text": [
      "# bins_cats: 201\n",
      "# chi_001: 115\n",
      "# chi_005: 131\n",
      "# F_001: 116\n",
      "# F_005: 132\n",
      "# mi50: 101\n",
      "# mi75: 51\n",
      "# mi90: 20\n",
      "# intersection btw chi001 & F001: 115\n",
      "# intersection btw chi005 & F005: 131\n"
     ]
    }
   ],
   "source": [
    "print('# bins_cats: %d' % (len(bin_cat_fs)))\n",
    "\n",
    "print('# chi_001: %d' % (len(chi_001_fs)))\n",
    "print('# chi_005: %d' % (len(chi_005_fs)))\n",
    "\n",
    "print('# F_001: %d' % (len(F_001_fs)))\n",
    "print('# F_005: %d' % (len(F_005_fs)))\n",
    "\n",
    "print('# mi50: %d' % (len(mi_50_fs)))\n",
    "print('# mi75: %d' % (len(mi_75_fs)))\n",
    "print('# mi90: %d' % (len(mi_90_fs)))\n",
    "\n",
    "print('# intersection btw chi001 & F001: %d' % (len(set(chi_001_fs).intersection(F_001_fs))))\n",
    "print('# intersection btw chi005 & F005: %d' % (len(set(chi_005_fs).intersection(F_005_fs))))"
   ]
  },
  {
   "cell_type": "code",
   "execution_count": 89,
   "metadata": {},
   "outputs": [
    {
     "name": "stdout",
     "output_type": "stream",
     "text": [
      "CPU times: user 1min 48s, sys: 2 s, total: 1min 50s\n",
      "Wall time: 1min 51s\n"
     ]
    }
   ],
   "source": [
    "%%time\n",
    "bins_cats.loc[:, chi_001_fs].to_csv('./data/class_associated_bincat_features_chi001.csv', index=False)\n",
    "bins_cats.loc[:, chi_005_fs].to_csv('./data/class_associated_bincat_features_chi005.csv', index=False)\n",
    "\n",
    "bins_cats.loc[:, F_001_fs].to_csv('./data/class_associated_bincat_features_F001.csv', index=False)\n",
    "bins_cats.loc[:, F_005_fs].to_csv('./data/class_associated_bincat_features_F005.csv', index=False)\n",
    "\n",
    "bins_cats.loc[:, mi_50_fs].to_csv('./data/class_associated_bincat_features_mi50.csv', index=False)\n",
    "bins_cats.loc[:, mi_75_fs].to_csv('./data/class_associated_bincat_features_mi75.csv', index=False)\n",
    "bins_cats.loc[:, mi_90_fs].to_csv('./data/class_associated_bincat_features_mi90.csv', index=False)"
   ]
  },
  {
   "cell_type": "code",
   "execution_count": 98,
   "metadata": {},
   "outputs": [],
   "source": [
    "bincat_scores = pd.DataFrame({'Chi': chi_pvals, 'F': f_pvals, 'Mutual_Info': minfo},\n",
    "                              columns=['Chi', 'F', 'Mutual_Info'], index=bin_cat_fs)"
   ]
  },
  {
   "cell_type": "code",
   "execution_count": 101,
   "metadata": {},
   "outputs": [
    {
     "data": {
      "text/plain": [
       "<matplotlib.axes._subplots.AxesSubplot at 0x7fe36d8cae10>"
      ]
     },
     "execution_count": 101,
     "metadata": {},
     "output_type": "execute_result"
    },
    {
     "data": {
      "image/png": "[encoded data removed]",
      "text/plain": [
       "<matplotlib.figure.Figure at 0x7fe36d906d30>"
      ]
     },
     "metadata": {},
     "output_type": "display_data"
    }
   ],
   "source": [
    "bincat_scores.plot(kind='bar', figsize=(16, 5))"
   ]
  },
  {
   "cell_type": "code",
   "execution_count": null,
   "metadata": {},
   "outputs": [],
   "source": []
  },
  {
   "cell_type": "markdown",
   "metadata": {},
   "source": [
    "<b>Ordinal and Digitized Continuous Features</b>"
   ]
  },
  {
   "cell_type": "code",
   "execution_count": 79,
   "metadata": {},
   "outputs": [],
   "source": [
    "d = pd.concat([ordinals, target], axis=1).replace({-1:np.NaN})\n",
    "\n",
    "X_ord = np.array(ordinals)\n",
    "y = np.array(target)"
   ]
  },
  {
   "cell_type": "code",
   "execution_count": 85,
   "metadata": {},
   "outputs": [],
   "source": [
    "_, f_pvals2 = f_classif(X_ord, y)"
   ]
  },
  {
   "cell_type": "code",
   "execution_count": 83,
   "metadata": {},
   "outputs": [
    {
     "name": "stdout",
     "output_type": "stream",
     "text": [
      "CPU times: user 2min 57s, sys: 562 ms, total: 2min 58s\n",
      "Wall time: 2min 58s\n"
     ]
    }
   ],
   "source": [
    "%%time\n",
    "if True:\n",
    "    minfo2 = mutual_info_classif(X_ord, y)"
   ]
  },
  {
   "cell_type": "code",
   "execution_count": 86,
   "metadata": {},
   "outputs": [
    {
     "data": {
      "text/plain": [
       "count    26.000000\n",
       "mean      0.018231\n",
       "std       0.012065\n",
       "min       0.000000\n",
       "25%       0.012220\n",
       "50%       0.014046\n",
       "75%       0.026079\n",
       "90%       0.029277\n",
       "max       0.057306\n",
       "dtype: float64"
      ]
     },
     "execution_count": 86,
     "metadata": {},
     "output_type": "execute_result"
    }
   ],
   "source": [
    "pd.Series(minfo2).describe(percentiles=[0.25, 0.5, 0.75, 0.9])"
   ]
  },
  {
   "cell_type": "code",
   "execution_count": 87,
   "metadata": {},
   "outputs": [],
   "source": [
    "F_001_fs2 = [ordinal_fs[i] for i in np.argwhere(f_pvals2 < 0.01).ravel()]\n",
    "F_005_fs2 = [ordinal_fs[i] for i in np.argwhere(f_pvals2 < 0.05).ravel()]\n",
    "\n",
    "mi_50_fs2 = [ordinal_fs[i] for i in np.argwhere(minfo2 >= 0.014046).ravel()]\n",
    "mi_75_fs2 = [ordinal_fs[i] for i in np.argwhere(minfo2 >= 0.026079).ravel()]\n",
    "mi_90_fs2 = [ordinal_fs[i] for i in np.argwhere(minfo2 >= 0.029277).ravel()]"
   ]
  },
  {
   "cell_type": "code",
   "execution_count": 88,
   "metadata": {},
   "outputs": [
    {
     "name": "stdout",
     "output_type": "stream",
     "text": [
      "# bins_cats: 26\n",
      "# F_001: 11\n",
      "# F_005: 11\n",
      "# mi50: 13\n",
      "# mi75: 7\n",
      "# mi90: 3\n"
     ]
    }
   ],
   "source": [
    "print('# bins_cats: %d' % (len(ordinal_fs)))\n",
    "\n",
    "print('# F_001: %d' % (len(F_001_fs2)))\n",
    "print('# F_005: %d' % (len(F_005_fs2)))\n",
    "\n",
    "print('# mi50: %d' % (len(mi_50_fs2)))\n",
    "print('# mi75: %d' % (len(mi_75_fs2)))\n",
    "print('# mi90: %d' % (len(mi_90_fs2)))"
   ]
  },
  {
   "cell_type": "code",
   "execution_count": 90,
   "metadata": {},
   "outputs": [
    {
     "name": "stdout",
     "output_type": "stream",
     "text": [
      "CPU times: user 11.3 s, sys: 70.9 ms, total: 11.4 s\n",
      "Wall time: 11.4 s\n"
     ]
    }
   ],
   "source": [
    "%%time\n",
    "ordinals.loc[:, F_001_fs2].to_csv('./data/class_associated_ordinal_features_F001.csv', index=False)\n",
    "ordinals.loc[:, F_005_fs2].to_csv('./data/class_associated_ordinal_features_F005.csv', index=False)\n",
    "\n",
    "ordinals.loc[:, mi_50_fs2].to_csv('./data/class_associated_ordinal_features_mi50.csv', index=False)\n",
    "ordinals.loc[:, mi_75_fs2].to_csv('./data/class_associated_ordinal_features_mi75.csv', index=False)\n",
    "ordinals.loc[:, mi_90_fs2].to_csv('./data/class_associated_ordinal_features_mi90.csv', index=False)"
   ]
  },
  {
   "cell_type": "code",
   "execution_count": 104,
   "metadata": {},
   "outputs": [],
   "source": [
    "ordinal_scores = pd.DataFrame({'F': f_pvals2, 'Mutual_Info': minfo2},\n",
    "                              columns=['F', 'Mutual_Info'], index=ordinal_fs)"
   ]
  },
  {
   "cell_type": "code",
   "execution_count": 105,
   "metadata": {},
   "outputs": [
    {
     "data": {
      "text/plain": [
       "<matplotlib.axes._subplots.AxesSubplot at 0x7fe35bb57e80>"
      ]
     },
     "execution_count": 105,
     "metadata": {},
     "output_type": "execute_result"
    },
    {
     "data": {
      "image/png": "[encoded data removed]",
      "text/plain": [
       "<matplotlib.figure.Figure at 0x7fe35be71278>"
      ]
     },
     "metadata": {},
     "output_type": "display_data"
    }
   ],
   "source": [
    "ordinal_scores.plot(kind='bar', figsize=(16, 5))"
   ]
  },
  {
   "cell_type": "code",
   "execution_count": null,
   "metadata": {},
   "outputs": [],
   "source": []
  },
  {
   "cell_type": "markdown",
   "metadata": {},
   "source": [
    "## Conclusion\n",
    "Overall, it appears that the results here with Chi-square and F-score are pretty much the same as my previous analysis (Chi-square should be for sure). It may be useful to try including some features that had higher mutual_info than others."
   ]
  },
  {
   "cell_type": "code",
   "execution_count": null,
   "metadata": {},
   "outputs": [],
   "source": []
  },
  {
   "cell_type": "code",
   "execution_count": null,
   "metadata": {},
   "outputs": [],
   "source": []
  },
  {
   "cell_type": "code",
   "execution_count": null,
   "metadata": {},
   "outputs": [],
   "source": []
  }
 ],
 "metadata": {
  "kernelspec": {
   "display_name": "Python 3",
   "language": "python",
   "name": "python3"
  },
  "language_info": {
   "codemirror_mode": {
    "name": "ipython",
    "version": 3
   },
   "file_extension": ".py",
   "mimetype": "text/x-python",
   "name": "python",
   "nbconvert_exporter": "python",
   "pygments_lexer": "ipython3",
   "version": "3.6.2"
  }
 },
 "nbformat": 4,
 "nbformat_minor": 2
}
