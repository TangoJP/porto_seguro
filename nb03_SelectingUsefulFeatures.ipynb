{
 "cells": [
  {
   "cell_type": "markdown",
   "metadata": {},
   "source": [
    "# Exploring each type of feature\n",
    "- <a href='#sec1'><b>B</b></a>\n",
    "- <a href='#sec2'><b>C</b></a>\n",
    "- <a href='#sec3'><b>C</b></a>"
   ]
  },
  {
   "cell_type": "markdown",
   "metadata": {},
   "source": [
    "- Data Explanation from Kaggle<br>\n",
    "In the train and test data, features that belong to similar groupings are tagged as such in the feature names (e.g., ind, reg, car, calc). In addition, feature names include the postfix bin to indicate binary features and cat to indicate categorical features. Features without these designations are either continuous or ordinal. Values of -1 indicate that the feature was missing from the observation. The target columns signifies whether or not a claim was filed for that policy holder."
   ]
  },
  {
   "cell_type": "code",
   "execution_count": 1,
   "metadata": {},
   "outputs": [],
   "source": [
    "import pandas as pd\n",
    "import numpy as np\n",
    "import matplotlib.pyplot as plt\n",
    "import scipy\n",
    "import seaborn as sns\n",
    "\n",
    "from matplotlib import cm\n",
    "from sklearn.decomposition import PCA\n",
    "from sklearn.preprocessing import Normalizer\n",
    "%matplotlib inline"
   ]
  },
  {
   "cell_type": "code",
   "execution_count": 2,
   "metadata": {},
   "outputs": [],
   "source": [
    "from feature_processing import (create_contingency_table,\n",
    "                                calculate_conditional_prob_bin,\n",
    "                                encode_my_categorical_labels,\n",
    "                                calculate_conditional_prob_cat,\n",
    "                                estimate_cond_prob_density,\n",
    "                                bin_myFeature)"
   ]
  },
  {
   "cell_type": "markdown",
   "metadata": {},
   "source": [
    "## Import Data and name labels"
   ]
  },
  {
   "cell_type": "code",
   "execution_count": 3,
   "metadata": {},
   "outputs": [],
   "source": [
    "train = pd.read_csv('train.csv', header=0)"
   ]
  },
  {
   "cell_type": "code",
   "execution_count": 4,
   "metadata": {},
   "outputs": [],
   "source": [
    "all_fs = train.columns[2:]\n",
    "binary_fs = sorted([f for f in all_fs if '_bin' in f])\n",
    "categorical_fs = sorted([f for f in all_fs if '_cat' in f])\n",
    "other_fs = sorted([f for f in all_fs\n",
    "            if f not in binary_fs\n",
    "            if f not in categorical_fs])"
   ]
  },
  {
   "cell_type": "code",
   "execution_count": 5,
   "metadata": {},
   "outputs": [
    {
     "name": "stdout",
     "output_type": "stream",
     "text": [
      "# total of features:       57\n",
      "# of binary features:      17\n",
      "# of categorical features: 14\n",
      "# of other features:       26\n"
     ]
    }
   ],
   "source": [
    "print(\"# total of features: %8d\" % len(all_fs))\n",
    "print(\"# of binary features: %7d\" % len(binary_fs))\n",
    "print(\"# of categorical features: %1d\" % len(categorical_fs))\n",
    "print(\"# of other features: %8d\" % len(other_fs))"
   ]
  },
  {
   "cell_type": "markdown",
   "metadata": {},
   "source": [
    "<a id='sec1'></a>\n",
    "# Binary Features"
   ]
  },
  {
   "cell_type": "code",
   "execution_count": 6,
   "metadata": {},
   "outputs": [],
   "source": [
    "binaries = train[binary_fs]\n",
    "#binary_fs"
   ]
  },
  {
   "cell_type": "code",
   "execution_count": 7,
   "metadata": {
    "scrolled": false
   },
   "outputs": [
    {
     "data": {
      "image/png": "[encoded data removed]",
      "text/plain": [
       "<matplotlib.figure.Figure at 0x7f834c3cfef0>"
      ]
     },
     "metadata": {},
     "output_type": "display_data"
    }
   ],
   "source": [
    "y = train.target\n",
    "predictive_ratios = []\n",
    "for i in range(len(binary_fs)):\n",
    "    fs = binary_fs[i]\n",
    "    x = binaries[fs]\n",
    "    #print('==== %s ====' % fs)\n",
    "    contingency = create_contingency_table(x,y, output=True, printout=False, percent=True)\n",
    "    prob = calculate_conditional_prob_bin(contingency, output=True, printout=False)\n",
    "    predictive_ratios.append(prob[1]/prob[0])\n",
    "\n",
    "    \n",
    "prob_differential = np.array(predictive_ratios) - 1\n",
    "\n",
    "fig, ax = plt.subplots(1, 1, figsize=(12, 5))\n",
    "ax.bar(binary_fs, prob_differential)\n",
    "ax.set_ylabel('P(class1|f1)/P(class1/f0) - 1')\n",
    "ax.set_ylim([-0.65, 0.65])\n",
    "for tick in ax.get_xticklabels():\n",
    "    tick.set_rotation(90)"
   ]
  },
  {
   "cell_type": "code",
   "execution_count": 8,
   "metadata": {},
   "outputs": [
    {
     "data": {
      "text/html": [
       "<div>\n",
       "<style>\n",
       "    .dataframe thead tr:only-child th {\n",
       "        text-align: right;\n",
       "    }\n",
       "\n",
       "    .dataframe thead th {\n",
       "        text-align: left;\n",
       "    }\n",
       "\n",
       "    .dataframe tbody tr th {\n",
       "        vertical-align: top;\n",
       "    }\n",
       "</style>\n",
       "<table border=\"1\" class=\"dataframe\">\n",
       "  <thead>\n",
       "    <tr style=\"text-align: right;\">\n",
       "      <th></th>\n",
       "      <th>features</th>\n",
       "      <th>prob_differential</th>\n",
       "    </tr>\n",
       "  </thead>\n",
       "  <tbody>\n",
       "    <tr>\n",
       "      <th>15</th>\n",
       "      <td>ps_ind_17_bin</td>\n",
       "      <td>0.628433</td>\n",
       "    </tr>\n",
       "    <tr>\n",
       "      <th>10</th>\n",
       "      <td>ps_ind_10_bin</td>\n",
       "      <td>0.483333</td>\n",
       "    </tr>\n",
       "    <tr>\n",
       "      <th>7</th>\n",
       "      <td>ps_ind_07_bin</td>\n",
       "      <td>0.449078</td>\n",
       "    </tr>\n",
       "    <tr>\n",
       "      <th>12</th>\n",
       "      <td>ps_ind_12_bin</td>\n",
       "      <td>0.416948</td>\n",
       "    </tr>\n",
       "    <tr>\n",
       "      <th>13</th>\n",
       "      <td>ps_ind_13_bin</td>\n",
       "      <td>0.411303</td>\n",
       "    </tr>\n",
       "    <tr>\n",
       "      <th>11</th>\n",
       "      <td>ps_ind_11_bin</td>\n",
       "      <td>0.253854</td>\n",
       "    </tr>\n",
       "    <tr>\n",
       "      <th>8</th>\n",
       "      <td>ps_ind_08_bin</td>\n",
       "      <td>0.188229</td>\n",
       "    </tr>\n",
       "    <tr>\n",
       "      <th>16</th>\n",
       "      <td>ps_ind_18_bin</td>\n",
       "      <td>0.065642</td>\n",
       "    </tr>\n",
       "    <tr>\n",
       "      <th>1</th>\n",
       "      <td>ps_calc_16_bin</td>\n",
       "      <td>0.006663</td>\n",
       "    </tr>\n",
       "    <tr>\n",
       "      <th>3</th>\n",
       "      <td>ps_calc_18_bin</td>\n",
       "      <td>0.006289</td>\n",
       "    </tr>\n",
       "  </tbody>\n",
       "</table>\n",
       "</div>"
      ],
      "text/plain": [
       "          features  prob_differential\n",
       "15   ps_ind_17_bin           0.628433\n",
       "10   ps_ind_10_bin           0.483333\n",
       "7    ps_ind_07_bin           0.449078\n",
       "12   ps_ind_12_bin           0.416948\n",
       "13   ps_ind_13_bin           0.411303\n",
       "11   ps_ind_11_bin           0.253854\n",
       "8    ps_ind_08_bin           0.188229\n",
       "16   ps_ind_18_bin           0.065642\n",
       "1   ps_calc_16_bin           0.006663\n",
       "3   ps_calc_18_bin           0.006289"
      ]
     },
     "execution_count": 8,
     "metadata": {},
     "output_type": "execute_result"
    }
   ],
   "source": [
    "pd.DataFrame({'features': binary_fs, 'prob_differential': prob_differential},\n",
    "              columns=['features', 'prob_differential']).sort_values('prob_differential', ascending=False).head(10)"
   ]
  },
  {
   "cell_type": "code",
   "execution_count": 9,
   "metadata": {},
   "outputs": [
    {
     "name": "stdout",
     "output_type": "stream",
     "text": [
      "['ps_ind_07_bin', 'ps_ind_10_bin', 'ps_ind_12_bin', 'ps_ind_13_bin', 'ps_ind_17_bin']\n"
     ]
    }
   ],
   "source": [
    "useful_binary = pd.DataFrame({'features': binary_fs, 'prob_differential': prob_differential},\n",
    "                      columns=['features', 'prob_differential'])\\\n",
    "                      .sort_values('prob_differential', ascending=False)['features'].head(5)\n",
    "useful_binary = sorted(list(useful_binary))\n",
    "print(useful_binary)"
   ]
  },
  {
   "cell_type": "markdown",
   "metadata": {},
   "source": [
    "<b><i>'useful_binary' list created</i></b>"
   ]
  },
  {
   "cell_type": "code",
   "execution_count": null,
   "metadata": {},
   "outputs": [],
   "source": []
  },
  {
   "cell_type": "markdown",
   "metadata": {},
   "source": [
    "<a id='sec2'></a>\n",
    "# Categorical Features"
   ]
  },
  {
   "cell_type": "code",
   "execution_count": 10,
   "metadata": {},
   "outputs": [],
   "source": [
    "categoricals = train[categorical_fs]\n",
    "#categorical_fs"
   ]
  },
  {
   "cell_type": "code",
   "execution_count": 11,
   "metadata": {},
   "outputs": [
    {
     "data": {
      "image/png": "[encoded data removed]",
      "text/plain": [
       "<matplotlib.figure.Figure at 0x7f8346631a58>"
      ]
     },
     "metadata": {},
     "output_type": "display_data"
    }
   ],
   "source": [
    "y = train.target\n",
    "conditional_probs = pd.DataFrame()\n",
    "for feature in categorical_fs:\n",
    "    data = categoricals[feature]\n",
    "    result = calculate_conditional_prob_cat(data, y)\n",
    "    conditional_probs = pd.concat([conditional_probs, result], axis=0)\n",
    "\n",
    "# Examine only the entries for non-NaN categories\n",
    "non_NaN_inds = [ind for ind in conditional_probs.index if 'NaN' not in ind]\n",
    "cat_cond_probs_noNaNs = conditional_probs.loc[non_NaN_inds, :]\n",
    "cat_cond_probs_noNaNs['(f1/f0)_ratio_minus_1'] = \\\n",
    "            (cat_cond_probs_noNaNs.iloc[:, 1]/cat_cond_probs_noNaNs.iloc[:, 0]) -1\n",
    "\n",
    "fig, ax = plt.subplots(1, 1, figsize=(20, 6))\n",
    "ax.axhline(y=1, color='skyblue', ls=':', lw=1)\n",
    "ax.axhline(y=0.5, color='skyblue', ls=':', lw=1)\n",
    "ax.axhline(y=0.25, color='skyblue', ls=':', lw=1)\n",
    "ax.axhline(y=0, color='blue', ls=':', lw=1)\n",
    "ax.axhline(y=-0.25, color='skyblue', ls=':', lw=1)\n",
    "ax.bar(cat_cond_probs_noNaNs.index, cat_cond_probs_noNaNs.iloc[:, -1])\n",
    "ax.set_ylabel('P(class1|f1)/P(class1/f0) - 1')\n",
    "#ax.set_ylim([-0.65, 0.65])\n",
    "for tick in ax.get_xticklabels():\n",
    "    tick.set_rotation(90)"
   ]
  },
  {
   "cell_type": "code",
   "execution_count": 12,
   "metadata": {},
   "outputs": [
    {
     "data": {
      "text/html": [
       "<div>\n",
       "<style>\n",
       "    .dataframe thead tr:only-child th {\n",
       "        text-align: right;\n",
       "    }\n",
       "\n",
       "    .dataframe thead th {\n",
       "        text-align: left;\n",
       "    }\n",
       "\n",
       "    .dataframe tbody tr th {\n",
       "        vertical-align: top;\n",
       "    }\n",
       "</style>\n",
       "<table border=\"1\" class=\"dataframe\">\n",
       "  <thead>\n",
       "    <tr style=\"text-align: right;\">\n",
       "      <th></th>\n",
       "      <th>p(class1|category=0)</th>\n",
       "      <th>p(class1|category=1)</th>\n",
       "      <th>(f1/f0)_ratio_minus_1</th>\n",
       "    </tr>\n",
       "  </thead>\n",
       "  <tbody>\n",
       "    <tr>\n",
       "      <th>count</th>\n",
       "      <td>175.000000</td>\n",
       "      <td>175.000000</td>\n",
       "      <td>175.000000</td>\n",
       "    </tr>\n",
       "    <tr>\n",
       "      <th>mean</th>\n",
       "      <td>0.036817</td>\n",
       "      <td>0.041320</td>\n",
       "      <td>0.130236</td>\n",
       "    </tr>\n",
       "    <tr>\n",
       "      <th>std</th>\n",
       "      <td>0.002854</td>\n",
       "      <td>0.012083</td>\n",
       "      <td>0.345865</td>\n",
       "    </tr>\n",
       "    <tr>\n",
       "      <th>min</th>\n",
       "      <td>0.033699</td>\n",
       "      <td>0.018423</td>\n",
       "      <td>-0.495916</td>\n",
       "    </tr>\n",
       "    <tr>\n",
       "      <th>50%</th>\n",
       "      <td>0.036431</td>\n",
       "      <td>0.038724</td>\n",
       "      <td>0.066587</td>\n",
       "    </tr>\n",
       "    <tr>\n",
       "      <th>max</th>\n",
       "      <td>0.058554</td>\n",
       "      <td>0.093525</td>\n",
       "      <td>1.566962</td>\n",
       "    </tr>\n",
       "  </tbody>\n",
       "</table>\n",
       "</div>"
      ],
      "text/plain": [
       "       p(class1|category=0)  p(class1|category=1)  (f1/f0)_ratio_minus_1\n",
       "count            175.000000            175.000000             175.000000\n",
       "mean               0.036817              0.041320               0.130236\n",
       "std                0.002854              0.012083               0.345865\n",
       "min                0.033699              0.018423              -0.495916\n",
       "50%                0.036431              0.038724               0.066587\n",
       "max                0.058554              0.093525               1.566962"
      ]
     },
     "execution_count": 12,
     "metadata": {},
     "output_type": "execute_result"
    }
   ],
   "source": [
    "cat_cond_probs_noNaNs.describe(percentiles=[0.5])"
   ]
  },
  {
   "cell_type": "code",
   "execution_count": 13,
   "metadata": {},
   "outputs": [
    {
     "data": {
      "text/html": [
       "<div>\n",
       "<style>\n",
       "    .dataframe thead tr:only-child th {\n",
       "        text-align: right;\n",
       "    }\n",
       "\n",
       "    .dataframe thead th {\n",
       "        text-align: left;\n",
       "    }\n",
       "\n",
       "    .dataframe tbody tr th {\n",
       "        vertical-align: top;\n",
       "    }\n",
       "</style>\n",
       "<table border=\"1\" class=\"dataframe\">\n",
       "  <thead>\n",
       "    <tr style=\"text-align: right;\">\n",
       "      <th></th>\n",
       "      <th>p(class1|category=0)</th>\n",
       "      <th>p(class1|category=1)</th>\n",
       "      <th>(f1/f0)_ratio_minus_1</th>\n",
       "    </tr>\n",
       "  </thead>\n",
       "  <tbody>\n",
       "    <tr>\n",
       "      <th>ps_car_04_cat_7</th>\n",
       "      <td>0.036434</td>\n",
       "      <td>0.093525</td>\n",
       "      <td>1.566962</td>\n",
       "    </tr>\n",
       "    <tr>\n",
       "      <th>ps_ind_05_cat_2</th>\n",
       "      <td>0.036171</td>\n",
       "      <td>0.075526</td>\n",
       "      <td>1.088028</td>\n",
       "    </tr>\n",
       "    <tr>\n",
       "      <th>ps_car_11_cat_41</th>\n",
       "      <td>0.036240</td>\n",
       "      <td>0.075110</td>\n",
       "      <td>1.072588</td>\n",
       "    </tr>\n",
       "    <tr>\n",
       "      <th>ps_car_04_cat_5</th>\n",
       "      <td>0.036415</td>\n",
       "      <td>0.071560</td>\n",
       "      <td>0.965096</td>\n",
       "    </tr>\n",
       "    <tr>\n",
       "      <th>ps_car_06_cat_8</th>\n",
       "      <td>0.036369</td>\n",
       "      <td>0.069405</td>\n",
       "      <td>0.908351</td>\n",
       "    </tr>\n",
       "  </tbody>\n",
       "</table>\n",
       "</div>"
      ],
      "text/plain": [
       "                  p(class1|category=0)  p(class1|category=1)  \\\n",
       "ps_car_04_cat_7               0.036434              0.093525   \n",
       "ps_ind_05_cat_2               0.036171              0.075526   \n",
       "ps_car_11_cat_41              0.036240              0.075110   \n",
       "ps_car_04_cat_5               0.036415              0.071560   \n",
       "ps_car_06_cat_8               0.036369              0.069405   \n",
       "\n",
       "                  (f1/f0)_ratio_minus_1  \n",
       "ps_car_04_cat_7                1.566962  \n",
       "ps_ind_05_cat_2                1.088028  \n",
       "ps_car_11_cat_41               1.072588  \n",
       "ps_car_04_cat_5                0.965096  \n",
       "ps_car_06_cat_8                0.908351  "
      ]
     },
     "execution_count": 13,
     "metadata": {},
     "output_type": "execute_result"
    }
   ],
   "source": [
    "cutoff_dif = 0.9\n",
    "cat_cond_probs_noNaNs[cat_cond_probs_noNaNs['(f1/f0)_ratio_minus_1'] >= cutoff_dif]\\\n",
    "        .sort_values('(f1/f0)_ratio_minus_1',ascending=False)#.head(20)"
   ]
  },
  {
   "cell_type": "code",
   "execution_count": 14,
   "metadata": {},
   "outputs": [
    {
     "name": "stdout",
     "output_type": "stream",
     "text": [
      "Highest Differential:  8 feature categories\n",
      "Medium1 Differential: 20 feature categories\n",
      "Medium2 Differential: 39 feature categories\n",
      "Lowest  Differential: 61 feature categories\n",
      "Negative Differential: 12 feature categories\n"
     ]
    }
   ],
   "source": [
    "useful_categorical1 = cat_cond_probs_noNaNs[cat_cond_probs_noNaNs['(f1/f0)_ratio_minus_1'] >= 0.8].index\n",
    "useful_categorical2 = cat_cond_probs_noNaNs[cat_cond_probs_noNaNs['(f1/f0)_ratio_minus_1'] >= 0.6].index\n",
    "useful_categorical3 = cat_cond_probs_noNaNs[cat_cond_probs_noNaNs['(f1/f0)_ratio_minus_1'] >= 0.4].index\n",
    "useful_categorical4 = cat_cond_probs_noNaNs[cat_cond_probs_noNaNs['(f1/f0)_ratio_minus_1'] >= 0.2].index\n",
    "\n",
    "useful_categorical1 = sorted(list(useful_categorical1))\n",
    "useful_categorical2 = sorted(list(useful_categorical2))\n",
    "useful_categorical3 = sorted(list(useful_categorical3))\n",
    "useful_categorical4 = sorted(list(useful_categorical4))\n",
    "\n",
    "print('Highest Differential: %2d feature categories' % len(useful_categorical1))\n",
    "print('Medium1 Differential: %2d feature categories' % len(useful_categorical2))\n",
    "print('Medium2 Differential: %2d feature categories' % len(useful_categorical3))\n",
    "print('Lowest  Differential: %2d feature categories' % len(useful_categorical4))\n",
    "\n",
    "useful_categorical_neg = cat_cond_probs_noNaNs[cat_cond_probs_noNaNs['(f1/f0)_ratio_minus_1'] <= -0.3].index\n",
    "useful_categorical_neg = sorted(list(useful_categorical_neg))\n",
    "print('Negative Differential: %2d feature categories' % len(useful_categorical_neg))"
   ]
  },
  {
   "cell_type": "markdown",
   "metadata": {},
   "source": [
    "<b><i>'useful_categorical1~4' and 'useful_categorical_neg' lists created</i></b>"
   ]
  },
  {
   "cell_type": "code",
   "execution_count": null,
   "metadata": {},
   "outputs": [],
   "source": []
  },
  {
   "cell_type": "markdown",
   "metadata": {},
   "source": [
    "<a id='sec3'></a>\n",
    "# Other Features"
   ]
  },
  {
   "cell_type": "code",
   "execution_count": 15,
   "metadata": {},
   "outputs": [],
   "source": [
    "others = train[other_fs]\n",
    "\n",
    "others2 = others.copy()\n",
    "others2 = others2.replace({-1: np.NaN})\n",
    "\n",
    "calc_fs = [f for f in others.columns if 'calc' in f]\n",
    "car_fs = [f for f in others.columns if 'car' in f]\n",
    "ind_fs = [f for f in others.columns if 'ind' in f]\n",
    "reg_fs = [f for f in others.columns if 'reg' in f]\n",
    "\n",
    "others_calc = others2[calc_fs]\n",
    "others_car = others2[car_fs]\n",
    "others_ind = others2[ind_fs]\n",
    "others_reg = others2[reg_fs]"
   ]
  },
  {
   "cell_type": "markdown",
   "metadata": {},
   "source": [
    "<b>'_calc' features<b>"
   ]
  },
  {
   "cell_type": "code",
   "execution_count": 16,
   "metadata": {},
   "outputs": [
    {
     "data": {
      "image/png": "[encoded data removed]",
      "text/plain": [
       "<matplotlib.figure.Figure at 0x7f834c3a3208>"
      ]
     },
     "metadata": {},
     "output_type": "display_data"
    }
   ],
   "source": [
    "y = train.target\n",
    "fig = plt.figure(figsize=(15, 9))\n",
    "for i, f in enumerate(calc_fs):\n",
    "    ax = fig.add_subplot(3, 5, i+1)\n",
    "    result = estimate_cond_prob_density(others_calc[f], y, printout=False, output=True)\n",
    "    x = result.iloc[:,0]\n",
    "    h = result.iloc[:,1]\n",
    "    w = (np.max(x) - np.min(x))/len(x)\n",
    "    ax.bar(x, h, width=w, fill=False)\n",
    "    ax.set_title('%s' % f)\n",
    "\n",
    "plt.tight_layout()"
   ]
  },
  {
   "cell_type": "markdown",
   "metadata": {},
   "source": [
    "<b><i>To be used: 'ps_calc_05'(low), 'ps_calc_07' (low), 'ps_calc_13' (high), and 'ps_calc_14' (low)</i></b>"
   ]
  },
  {
   "cell_type": "code",
   "execution_count": null,
   "metadata": {},
   "outputs": [],
   "source": []
  },
  {
   "cell_type": "markdown",
   "metadata": {},
   "source": [
    "<b>'others_car' features</b>"
   ]
  },
  {
   "cell_type": "code",
   "execution_count": 17,
   "metadata": {},
   "outputs": [
    {
     "data": {
      "image/png": "[encoded data removed]",
      "text/plain": [
       "<matplotlib.figure.Figure at 0x7f8346e3d7b8>"
      ]
     },
     "metadata": {},
     "output_type": "display_data"
    }
   ],
   "source": [
    "y = train.target\n",
    "fig = plt.figure(figsize=(3, 3))\n",
    "for i, f in enumerate(['ps_car_11']):\n",
    "    ax = fig.add_subplot(1, 1, i+1)\n",
    "    result = estimate_cond_prob_density(others_car[f], y, printout=False, output=True)\n",
    "    x = result.iloc[:,0]\n",
    "    h = result.iloc[:,1]\n",
    "    w = (np.max(x) - np.min(x))/len(x)\n",
    "    ax.bar(x, h, width=w, fill=False)\n",
    "    ax.set_title('%s' % f)\n",
    "\n",
    "plt.tight_layout()"
   ]
  },
  {
   "cell_type": "markdown",
   "metadata": {},
   "source": [
    "<b>'others_ind' features</b>"
   ]
  },
  {
   "cell_type": "code",
   "execution_count": 18,
   "metadata": {},
   "outputs": [
    {
     "data": {
      "image/png": "[encoded data removed]",
      "text/plain": [
       "<matplotlib.figure.Figure at 0x7f8346b115c0>"
      ]
     },
     "metadata": {},
     "output_type": "display_data"
    }
   ],
   "source": [
    "y = train.target\n",
    "fig = plt.figure(figsize=(12, 3))\n",
    "for i, f in enumerate(ind_fs):\n",
    "    ax = fig.add_subplot(1, 4, i+1)\n",
    "    result = estimate_cond_prob_density(others_ind[f], y, printout=False, output=True)\n",
    "    x = result.iloc[:,0]\n",
    "    h = result.iloc[:,1]\n",
    "    w = (np.max(x) - np.min(x))/len(x)\n",
    "    ax.bar(x, h, width=w, fill=False)\n",
    "    ax.set_title('%s' % f)\n",
    "\n",
    "plt.tight_layout()"
   ]
  },
  {
   "cell_type": "markdown",
   "metadata": {},
   "source": [
    "<b><i>To be used: 'ps_ind_03'(low), 'ps_ind_14' (high)</i></b>"
   ]
  },
  {
   "cell_type": "code",
   "execution_count": null,
   "metadata": {},
   "outputs": [],
   "source": []
  },
  {
   "cell_type": "markdown",
   "metadata": {},
   "source": [
    "<b>'others_reg' features</b>"
   ]
  },
  {
   "cell_type": "code",
   "execution_count": 19,
   "metadata": {},
   "outputs": [
    {
     "data": {
      "image/png": "[encoded data removed]",
      "text/plain": [
       "<matplotlib.figure.Figure at 0x7f83468149b0>"
      ]
     },
     "metadata": {},
     "output_type": "display_data"
    }
   ],
   "source": [
    "y = train.target\n",
    "fig = plt.figure(figsize=(6, 3))\n",
    "for i, f in enumerate(['ps_reg_01', 'ps_reg_02']):\n",
    "    ax = fig.add_subplot(1, 2, i+1)\n",
    "    result = estimate_cond_prob_density(others_reg[f], y, printout=False, output=True)\n",
    "    x = result.iloc[:,0]\n",
    "    h = result.iloc[:,1]\n",
    "    w = (np.max(x) - np.min(x))/len(x)\n",
    "    ax.bar(x, h, width=w, fill=False)\n",
    "    ax.set_title('%s' % f)\n",
    "\n",
    "plt.tight_layout()"
   ]
  },
  {
   "cell_type": "markdown",
   "metadata": {},
   "source": [
    "<b><i>To be used: 'ps_reg_02'(linear relationship)</i></b>"
   ]
  },
  {
   "cell_type": "markdown",
   "metadata": {},
   "source": [
    "## All to-be-used so far\n",
    "- 'ps_calc_05'(low), 'ps_calc_07' (low), 'ps_calc_13' (high), and 'ps_calc_14' (low)\n",
    "- 'ps_ind_03'(low), 'ps_ind_14' (high)\n",
    "- 'ps_reg_02'(linear relationship)"
   ]
  },
  {
   "cell_type": "code",
   "execution_count": null,
   "metadata": {},
   "outputs": [],
   "source": []
  },
  {
   "cell_type": "markdown",
   "metadata": {},
   "source": [
    "## Take a look at truly continuous features"
   ]
  },
  {
   "cell_type": "code",
   "execution_count": 20,
   "metadata": {},
   "outputs": [],
   "source": [
    "continuous_fs = ['ps_car_12', 'ps_car_13', 'ps_car_14', 'ps_reg_03']\n",
    "continuous = train[continuous_fs].replace({-1: np.NaN})\n",
    "continuous = continuous.dropna()"
   ]
  },
  {
   "cell_type": "markdown",
   "metadata": {},
   "source": [
    "<b>'ps_car_12' conditional prob distribution</b>"
   ]
  },
  {
   "cell_type": "code",
   "execution_count": 21,
   "metadata": {},
   "outputs": [
    {
     "data": {
      "image/png": "[encoded data removed]",
      "text/plain": [
       "<matplotlib.figure.Figure at 0x7f834c3cfcf8>"
      ]
     },
     "metadata": {},
     "output_type": "display_data"
    }
   ],
   "source": [
    "X = train[['ps_car_12', 'target']].replace({-1:np.NaN}).dropna()\n",
    "\n",
    "binned_inds, binned_f = bin_myFeature(X.iloc[:, 0], 0, 1.5, bins=20)\n",
    "\n",
    "fig, (ax1, ax2) = plt.subplots(1, 2, figsize=(8, 4))\n",
    "result1 = estimate_cond_prob_density(binned_inds, X.iloc[:, 1], printout=False, output=True)\n",
    "x1 = result1.iloc[:,0]\n",
    "h1 = result1.iloc[:,1]\n",
    "w1 = (np.max(x1) - np.min(x1))/len(x1)\n",
    "ax1.bar(x1, h1, width=w, fill=False)\n",
    "ax1.set_title('ps_car_12: Bin Index')\n",
    "ax1.set_xlabel('Bin Indices')\n",
    "ax1.set_ylabel('P(class1|feature value)')\n",
    "\n",
    "result2 = estimate_cond_prob_density(binned_f, X.iloc[:, 1], printout=False, output=True)\n",
    "x2 = result2.iloc[:,0]\n",
    "h2 = result2.iloc[:,1]\n",
    "w2 = (np.max(x2) - np.min(x1))/len(x2)\n",
    "ax2.bar(x2, h2, width=w, fill=False)\n",
    "ax2.set_title('ps_car_12: Bin minimum Value')\n",
    "ax2.set_xlabel('Actual Bin Value')\n",
    "ax2.set_ylabel('P(class1|feature value)')\n",
    "ax2.set_xlim([0, 1.5])\n",
    "\n",
    "plt.tight_layout()"
   ]
  },
  {
   "cell_type": "markdown",
   "metadata": {},
   "source": [
    "The bin around 0.75 seems pretty useful"
   ]
  },
  {
   "cell_type": "markdown",
   "metadata": {},
   "source": [
    "<b>'ps_car_13' conditional prob distribution</b>"
   ]
  },
  {
   "cell_type": "code",
   "execution_count": 22,
   "metadata": {},
   "outputs": [
    {
     "data": {
      "image/png": "[encoded data removed]",
      "text/plain": [
       "<matplotlib.figure.Figure at 0x7f83463fc4a8>"
      ]
     },
     "metadata": {},
     "output_type": "display_data"
    }
   ],
   "source": [
    "X = train[['ps_car_13', 'target']].replace({-1:np.NaN}).dropna()\n",
    "\n",
    "binned_inds, binned_f = bin_myFeature(X.iloc[:, 0], 0, 4, bins=50)\n",
    "\n",
    "fig, (ax1, ax2) = plt.subplots(1, 2, figsize=(8, 4))\n",
    "result1 = estimate_cond_prob_density(binned_inds, X.iloc[:, 1], printout=False, output=True)\n",
    "x1 = result1.iloc[:,0]\n",
    "h1 = result1.iloc[:,1]\n",
    "w1 = (np.max(x1) - np.min(x1))/len(x1)\n",
    "ax1.bar(x1, h1, width=w, fill=False)\n",
    "ax1.set_title('ps_car_13: Bin Index')\n",
    "ax1.set_xlabel('Bin Indices')\n",
    "ax1.set_ylabel('P(class1|feature value)')\n",
    "\n",
    "result2 = estimate_cond_prob_density(binned_f, X.iloc[:, 1], printout=False, output=True)\n",
    "x2 = result2.iloc[:,0]\n",
    "h2 = result2.iloc[:,1]\n",
    "w2 = (np.max(x2) - np.min(x1))/len(x2)\n",
    "ax2.bar(x2, h2, width=w, fill=False)\n",
    "ax2.set_title('ps_car_13: Bin minimum Value')\n",
    "ax2.set_xlabel('Actual Bin Value')\n",
    "ax2.set_ylabel('P(class1|feature value)')\n",
    "ax2.set_xlim([0, 4])\n",
    "\n",
    "plt.tight_layout()"
   ]
  },
  {
   "cell_type": "markdown",
   "metadata": {},
   "source": [
    "The last two bins are quite usefull. It's not clear how many entries there are, but if the value falls in the last bin, the predictability of the entry being in class1 is amost 100%"
   ]
  },
  {
   "cell_type": "markdown",
   "metadata": {},
   "source": [
    "<b>'ps_car_14' conditional prob distribution</b>"
   ]
  },
  {
   "cell_type": "code",
   "execution_count": 23,
   "metadata": {},
   "outputs": [
    {
     "data": {
      "image/png": "[encoded data removed]",
      "text/plain": [
       "<matplotlib.figure.Figure at 0x7f83469a2b70>"
      ]
     },
     "metadata": {},
     "output_type": "display_data"
    }
   ],
   "source": [
    "X = train[['ps_car_14', 'target']].replace({-1:np.NaN}).dropna()\n",
    "\n",
    "binned_inds, binned_f = bin_myFeature(X.iloc[:, 0], 0, 0.7, bins=40)\n",
    "\n",
    "fig, (ax1, ax2) = plt.subplots(1, 2, figsize=(8, 4))\n",
    "result1 = estimate_cond_prob_density(binned_inds, X.iloc[:, 1], printout=False, output=True)\n",
    "x1 = result1.iloc[:,0]\n",
    "h1 = result1.iloc[:,1]\n",
    "w1 = (np.max(x1) - np.min(x1))/len(x1)\n",
    "ax1.bar(x1, h1, width=w, fill=False)\n",
    "ax1.set_title('ps_car_14: Bin Index')\n",
    "ax1.set_xlabel('Bin Indices')\n",
    "ax1.set_ylabel('P(class1|feature value)')\n",
    "\n",
    "result2 = estimate_cond_prob_density(binned_f, X.iloc[:, 1], printout=False, output=True)\n",
    "x2 = result2.iloc[:,0]\n",
    "h2 = result2.iloc[:,1]\n",
    "w2 = (np.max(x2) - np.min(x1))/len(x2)\n",
    "ax2.bar(x2, h2, width=w, fill=False)\n",
    "ax2.set_title('ps_car_14: Bin minimum Value')\n",
    "ax2.set_xlabel('Actual Bin Value')\n",
    "ax2.set_ylabel('P(class1|feature value)')\n",
    "ax2.set_xlim([0, 0.7])\n",
    "\n",
    "plt.tight_layout()"
   ]
  },
  {
   "cell_type": "markdown",
   "metadata": {},
   "source": [
    "Conditional probability values are all less than 0.1, This feature is probably not so useful compared to others."
   ]
  },
  {
   "cell_type": "code",
   "execution_count": null,
   "metadata": {},
   "outputs": [],
   "source": []
  },
  {
   "cell_type": "markdown",
   "metadata": {},
   "source": [
    "<b>'ps_reg_03' conditional prob distribution</b>"
   ]
  },
  {
   "cell_type": "code",
   "execution_count": 24,
   "metadata": {},
   "outputs": [
    {
     "data": {
      "image/png": "[encoded data removed]",
      "text/plain": [
       "<matplotlib.figure.Figure at 0x7f8346779668>"
      ]
     },
     "metadata": {},
     "output_type": "display_data"
    }
   ],
   "source": [
    "X = train[['ps_reg_03', 'target']].replace({-1:np.NaN}).dropna()\n",
    "\n",
    "binned_inds, binned_f = bin_myFeature(X.iloc[:, 0], 0, 5, bins=50)\n",
    "\n",
    "fig, (ax1, ax2) = plt.subplots(1, 2, figsize=(8, 4))\n",
    "result1 = estimate_cond_prob_density(binned_inds, X.iloc[:, 1], printout=False, output=True)\n",
    "x1 = result1.iloc[:,0]\n",
    "h1 = result1.iloc[:,1]\n",
    "w1 = (np.max(x1) - np.min(x1))/len(x1)\n",
    "ax1.bar(x1, h1, width=w, fill=False)\n",
    "ax1.set_title('ps_reg_03: Bin Index')\n",
    "ax1.set_xlabel('Bin Indices')\n",
    "ax1.set_ylabel('P(class1|feature value)')\n",
    "\n",
    "result2 = estimate_cond_prob_density(binned_f, X.iloc[:, 1], printout=False, output=True)\n",
    "x2 = result2.iloc[:,0]\n",
    "h2 = result2.iloc[:,1]\n",
    "w2 = (np.max(x2) - np.min(x1))/len(x2)\n",
    "ax2.bar(x2, h2, width=w, fill=False)\n",
    "ax2.set_title('ps_reg_03: Bin minimum Value')\n",
    "ax2.set_xlabel('Actual Bin Value')\n",
    "ax2.set_ylabel('P(class1|feature value)')\n",
    "\n",
    "plt.tight_layout()"
   ]
  },
  {
   "cell_type": "markdown",
   "metadata": {},
   "source": [
    "Just like one of the features above, if the value falls in the last bin, the predictability of being in class1 is very high."
   ]
  },
  {
   "cell_type": "markdown",
   "metadata": {},
   "source": [
    "## To-be-used\n",
    "- 'ps_car_12', 'ps_car_13' (prob not ps_car_14)\n",
    "- 'ps_reg_03'"
   ]
  },
  {
   "cell_type": "code",
   "execution_count": null,
   "metadata": {},
   "outputs": [],
   "source": []
  },
  {
   "cell_type": "markdown",
   "metadata": {},
   "source": [
    "# Conclusion\n",
    "Try using the feature categories and features in the following cells"
   ]
  },
  {
   "cell_type": "code",
   "execution_count": 25,
   "metadata": {},
   "outputs": [
    {
     "name": "stdout",
     "output_type": "stream",
     "text": [
      "-binary-\n",
      " ['ps_ind_07_bin', 'ps_ind_10_bin', 'ps_ind_12_bin', 'ps_ind_13_bin', 'ps_ind_17_bin'] \n",
      "\n",
      "-categorical1 (highest differential)-\n",
      " ['ps_car_04_cat_5', 'ps_car_04_cat_7', 'ps_car_06_cat_2', 'ps_car_06_cat_5', 'ps_car_06_cat_8', 'ps_car_11_cat_18', 'ps_car_11_cat_41', 'ps_ind_05_cat_2'] \n",
      "\n",
      "-categorical2 (medium1 differential)-\n",
      " ['ps_car_04_cat_5', 'ps_car_04_cat_6', 'ps_car_04_cat_7', 'ps_car_04_cat_9', 'ps_car_06_cat_17', 'ps_car_06_cat_2', 'ps_car_06_cat_5', 'ps_car_06_cat_8', 'ps_car_09_cat_1', 'ps_car_11_cat_18', 'ps_car_11_cat_21', 'ps_car_11_cat_4', 'ps_car_11_cat_41', 'ps_car_11_cat_58', 'ps_car_11_cat_63', 'ps_car_11_cat_75', 'ps_car_11_cat_93', 'ps_car_11_cat_97', 'ps_ind_05_cat_2', 'ps_ind_05_cat_6'] \n",
      "\n",
      "-categorical3 (medium2 differential)-\n",
      " ['ps_car_01_cat_9', 'ps_car_02_cat_0', 'ps_car_03_cat_1', 'ps_car_04_cat_3', 'ps_car_04_cat_5', 'ps_car_04_cat_6', 'ps_car_04_cat_7', 'ps_car_04_cat_9', 'ps_car_06_cat_13', 'ps_car_06_cat_15', 'ps_car_06_cat_17', 'ps_car_06_cat_2', 'ps_car_06_cat_5', 'ps_car_06_cat_8', 'ps_car_06_cat_9', 'ps_car_07_cat_0', 'ps_car_09_cat_1', 'ps_car_09_cat_4', 'ps_car_11_cat_100', 'ps_car_11_cat_18', 'ps_car_11_cat_21', 'ps_car_11_cat_3', 'ps_car_11_cat_33', 'ps_car_11_cat_4', 'ps_car_11_cat_41', 'ps_car_11_cat_55', 'ps_car_11_cat_56', 'ps_car_11_cat_58', 'ps_car_11_cat_61', 'ps_car_11_cat_63', 'ps_car_11_cat_69', 'ps_car_11_cat_71', 'ps_car_11_cat_72', 'ps_car_11_cat_75', 'ps_car_11_cat_93', 'ps_car_11_cat_97', 'ps_ind_05_cat_2', 'ps_ind_05_cat_4', 'ps_ind_05_cat_6'] \n",
      "\n",
      "-categorical4 (low differential)-\n",
      " ['ps_car_01_cat_0', 'ps_car_01_cat_1', 'ps_car_01_cat_11', 'ps_car_01_cat_9', 'ps_car_02_cat_0', 'ps_car_03_cat_1', 'ps_car_04_cat_1', 'ps_car_04_cat_2', 'ps_car_04_cat_3', 'ps_car_04_cat_5', 'ps_car_04_cat_6', 'ps_car_04_cat_7', 'ps_car_04_cat_8', 'ps_car_04_cat_9', 'ps_car_06_cat_10', 'ps_car_06_cat_12', 'ps_car_06_cat_13', 'ps_car_06_cat_15', 'ps_car_06_cat_16', 'ps_car_06_cat_17', 'ps_car_06_cat_2', 'ps_car_06_cat_5', 'ps_car_06_cat_8', 'ps_car_06_cat_9', 'ps_car_07_cat_0', 'ps_car_08_cat_0', 'ps_car_09_cat_1', 'ps_car_09_cat_4', 'ps_car_11_cat_100', 'ps_car_11_cat_104', 'ps_car_11_cat_13', 'ps_car_11_cat_17', 'ps_car_11_cat_18', 'ps_car_11_cat_20', 'ps_car_11_cat_21', 'ps_car_11_cat_3', 'ps_car_11_cat_33', 'ps_car_11_cat_4', 'ps_car_11_cat_41', 'ps_car_11_cat_45', 'ps_car_11_cat_50', 'ps_car_11_cat_55', 'ps_car_11_cat_56', 'ps_car_11_cat_58', 'ps_car_11_cat_61', 'ps_car_11_cat_63', 'ps_car_11_cat_69', 'ps_car_11_cat_71', 'ps_car_11_cat_72', 'ps_car_11_cat_75', 'ps_car_11_cat_79', 'ps_car_11_cat_89', 'ps_car_11_cat_90', 'ps_car_11_cat_93', 'ps_car_11_cat_94', 'ps_car_11_cat_97', 'ps_ind_05_cat_1', 'ps_ind_05_cat_2', 'ps_ind_05_cat_4', 'ps_ind_05_cat_5', 'ps_ind_05_cat_6'] \n",
      "\n",
      "-categorical_neg (negative differential)-\n",
      " ['ps_car_02_cat_1', 'ps_car_04_cat_0', 'ps_car_04_cat_4', 'ps_car_07_cat_1', 'ps_car_11_cat_19', 'ps_car_11_cat_32', 'ps_car_11_cat_39', 'ps_car_11_cat_43', 'ps_car_11_cat_57', 'ps_car_11_cat_7', 'ps_car_11_cat_99', 'ps_ind_05_cat_0'] \n",
      "\n"
     ]
    }
   ],
   "source": [
    "print('-binary-\\n', useful_binary, '\\n')\n",
    "print('-categorical1 (highest differential)-\\n', useful_categorical1, '\\n')\n",
    "print('-categorical2 (medium1 differential)-\\n', useful_categorical2, '\\n')\n",
    "print('-categorical3 (medium2 differential)-\\n', useful_categorical3, '\\n')\n",
    "print('-categorical4 (low differential)-\\n', useful_categorical4, '\\n')\n",
    "print('-categorical_neg (negative differential)-\\n', useful_categorical_neg, '\\n')"
   ]
  },
  {
   "cell_type": "markdown",
   "metadata": {},
   "source": [
    "Semi-continuous/Oridnal ones and categories\n",
    "- 'ps_calc_05'(low), 'ps_calc_07' (low), 'ps_calc_13' (high), and 'ps_calc_14' (low)\n",
    "- 'ps_ind_03'(low), 'ps_ind_14' (high)\n",
    "- 'ps_reg_02'(linear relationship)\n",
    "\n",
    "Continuous ones\n",
    "- 'ps_car_12', 'ps_car_13' (prob not ps_car_14)\n",
    "- 'ps_reg_03'"
   ]
  },
  {
   "cell_type": "code",
   "execution_count": null,
   "metadata": {},
   "outputs": [],
   "source": []
  },
  {
   "cell_type": "code",
   "execution_count": null,
   "metadata": {},
   "outputs": [],
   "source": []
  }
 ],
 "metadata": {
  "kernelspec": {
   "display_name": "Python 3",
   "language": "python",
   "name": "python3"
  },
  "language_info": {
   "codemirror_mode": {
    "name": "ipython",
    "version": 3
   },
   "file_extension": ".py",
   "mimetype": "text/x-python",
   "name": "python",
   "nbconvert_exporter": "python",
   "pygments_lexer": "ipython3",
   "version": "3.6.2"
  }
 },
 "nbformat": 4,
 "nbformat_minor": 2
}
