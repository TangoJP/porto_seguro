{
 "cells": [
  {
   "cell_type": "markdown",
   "metadata": {},
   "source": [
    "<a id='sec0'></a>\n",
    "# Outputting a file for 1st submission\n",
    "1. <a href='#sec1'>Import Modules and Data</a><br>\n",
    "<br>\n",
    "2. <a href='#sec2'>Digitize both train and test sets</a><br>\n",
    "<br>\n",
    "3. <a href='#sec3'>Create subset of feature spaces</a>\n",
    "    - Use features from F001 univariate selection<br>\n",
    "<br>\n",
    "4. <a href='#sec4'>Resample train set</a>\n",
    "    - Tomek Link majority\n",
    "    - Undersample majority, oversample minority<br>\n",
    "<br>  \n",
    "5. <a href='#sec5'>Train XGBoost, make a prediction, save result</a><br>"
   ]
  },
  {
   "cell_type": "markdown",
   "metadata": {},
   "source": [
    "<a id='sec1'></a>\n",
    "# Import Modules and Data\n",
    "(<a href='#sec0'>back to top</a>)"
   ]
  },
  {
   "cell_type": "code",
   "execution_count": 2,
   "metadata": {},
   "outputs": [],
   "source": [
    "import pandas as pd\n",
    "import numpy as np\n",
    "import matplotlib.pyplot as plt\n",
    "\n",
    "from imblearn.under_sampling import TomekLinks, RandomUnderSampler\n",
    "from imblearn.over_sampling import SMOTE\n",
    "\n",
    "from sklearn.model_selection import train_test_split\n",
    "from sklearn.ensemble import RandomForestClassifier\n",
    "from sklearn.decomposition import PCA\n",
    "\n",
    "from xgboost import XGBClassifier\n",
    "\n",
    "%matplotlib inline"
   ]
  },
  {
   "cell_type": "code",
   "execution_count": 3,
   "metadata": {},
   "outputs": [],
   "source": [
    "from feature_processing import (create_contingency_table,\n",
    "                                calculate_conditional_prob_bin,\n",
    "                                encode_my_categorical_labels,\n",
    "                                calculate_conditional_prob_cat,\n",
    "                                estimate_cond_prob_density,\n",
    "                                bin_myFeature)"
   ]
  },
  {
   "cell_type": "code",
   "execution_count": 4,
   "metadata": {},
   "outputs": [],
   "source": [
    "train_ori = pd.read_csv('train.csv', header=0)\n",
    "test_ori = pd.read_csv('test.csv', header=0)\n",
    "train = pd.read_csv('./data/train_probas.csv', header=0)\n",
    "test = pd.read_csv('./data/test_probas.csv', header=0)"
   ]
  },
  {
   "cell_type": "code",
   "execution_count": 5,
   "metadata": {},
   "outputs": [
    {
     "name": "stdout",
     "output_type": "stream",
     "text": [
      "Train Set Shape:  (595212, 31)\n",
      " Test Set Shape:  (892816, 31)\n"
     ]
    }
   ],
   "source": [
    "print('Train Set Shape: ', train.shape)\n",
    "print(' Test Set Shape: ', test.shape)"
   ]
  },
  {
   "cell_type": "code",
   "execution_count": 6,
   "metadata": {},
   "outputs": [
    {
     "data": {
      "text/plain": [
       "0.036447517859182946"
      ]
     },
     "execution_count": 6,
     "metadata": {},
     "output_type": "execute_result"
    }
   ],
   "source": [
    "num_samples = len(train_ori.target)\n",
    "num_target = np.sum(train_ori.target)\n",
    "freq_target = num_target/num_samples\n",
    "freq_target"
   ]
  },
  {
   "cell_type": "code",
   "execution_count": 7,
   "metadata": {},
   "outputs": [
    {
     "data": {
      "text/plain": [
       "Index(['ps_calc_01_proba', 'ps_calc_02_proba', 'ps_calc_03_proba',\n",
       "       'ps_calc_04_proba', 'ps_calc_05_proba', 'ps_calc_06_proba',\n",
       "       'ps_calc_07_proba', 'ps_calc_08_proba', 'ps_calc_09_proba',\n",
       "       'ps_calc_10_proba', 'ps_calc_11_proba', 'ps_calc_12_proba',\n",
       "       'ps_calc_13_proba', 'ps_calc_14_proba', 'ps_car_11_proba',\n",
       "       'ps_car_12_proba', 'ps_car_13_proba', 'ps_car_14_proba',\n",
       "       'ps_car_15_proba', 'ps_ind_01_proba', 'ps_ind_03_proba',\n",
       "       'ps_ind_14_proba', 'ps_ind_15_proba', 'ps_reg_01_proba',\n",
       "       'ps_reg_02_proba', 'ps_reg_03_proba', 'ind_bin_proba', 'calc_bin_proba',\n",
       "       'car_cat_proba1', 'car_cat_proba2', 'ind_cat_proba'],\n",
       "      dtype='object')"
      ]
     },
     "execution_count": 7,
     "metadata": {},
     "output_type": "execute_result"
    }
   ],
   "source": [
    "test.columns"
   ]
  },
  {
   "cell_type": "code",
   "execution_count": 8,
   "metadata": {},
   "outputs": [],
   "source": [
    "test.iloc[:, -5:] = test.iloc[:, -5:].replace({np.NaN: freq_target})"
   ]
  },
  {
   "cell_type": "markdown",
   "metadata": {},
   "source": [
    "<a id='sec4'></a>\n",
    "# Resample Train Set\n",
    "(<a href='#sec0'>back to top</a>)"
   ]
  },
  {
   "cell_type": "code",
   "execution_count": 9,
   "metadata": {},
   "outputs": [
    {
     "name": "stdout",
     "output_type": "stream",
     "text": [
      "X shape:  (595212, 31)\n",
      "y shape:  (595212,)\n"
     ]
    }
   ],
   "source": [
    "X = np.array(train)\n",
    "y = np.array(train_ori['target'])\n",
    "\n",
    "print('X shape: ', X.shape)\n",
    "print('y shape: ', y.shape)"
   ]
  },
  {
   "cell_type": "code",
   "execution_count": 10,
   "metadata": {},
   "outputs": [],
   "source": [
    "pca = PCA()\n",
    "Xpca = pca.fit_transform(X)"
   ]
  },
  {
   "cell_type": "code",
   "execution_count": 11,
   "metadata": {},
   "outputs": [
    {
     "name": "stdout",
     "output_type": "stream",
     "text": [
      "Before tomek links: size of X:  (595212, 31)\n",
      "After  tomek links: size of X:  (586790, 31)\n",
      "Before tomek links: class0/class1 = 573518 / 21694\n",
      "After  tomek links: class0/class1 = 565096 / 21694\n",
      "CPU times: user 55min 50s, sys: 257 ms, total: 55min 50s\n",
      "Wall time: 7min 9s\n"
     ]
    }
   ],
   "source": [
    "%%time\n",
    "# Tomek Links to denoise majority\n",
    "if True:\n",
    "    tl = TomekLinks(n_jobs=8, ratio='majority')\n",
    "    X_tl, y_tl = tl.fit_sample(Xpca, y)\n",
    "\n",
    "    print('Before tomek links: size of X: ', X.shape)\n",
    "    print('After  tomek links: size of X: ', X_tl.shape)\n",
    "    print('Before tomek links: class0/class1 = %d / %d' % (len(y)-np.sum(y), np.sum(y)))\n",
    "    print('After  tomek links: class0/class1 = %d / %d' % (len(y_tl)-np.sum(y_tl), np.sum(y_tl)))"
   ]
  },
  {
   "cell_type": "code",
   "execution_count": 12,
   "metadata": {},
   "outputs": [],
   "source": [
    "# Set targets for the number of each class\n",
    "# Here, set class0:class1 = 1:1\n",
    "num_class1 = np.sum(y_tl)\n",
    "num_class1_to_resample = 2 * num_class1\n",
    "num_class0_to_resample = int(1 * num_class1_to_resample)\n",
    "\n",
    "# First, randomly undersample the majority\n",
    "rus = RandomUnderSampler(ratio={0: num_class0_to_resample , 1: num_class1})\n",
    "X_tlrus, y_tlrus = rus.fit_sample(X_tl, y_tl)\n",
    "\n",
    "# Then use SMOTE to oversample the minority\n",
    "smote = SMOTE(ratio={0: num_class0_to_resample , 1: num_class1_to_resample}, n_jobs=4)\n",
    "X_res, y_res = smote.fit_sample(X_tlrus, y_tlrus)"
   ]
  },
  {
   "cell_type": "code",
   "execution_count": 13,
   "metadata": {},
   "outputs": [
    {
     "name": "stdout",
     "output_type": "stream",
     "text": [
      "Before Resampling: size of X:  (586790, 31)\n",
      "After  Resampling: size of X:  (86776, 31)\n",
      "Before Resampling: class0/class1 = 565096/ 21694\n",
      "After  Resampling: class0/class1 =  43388/ 43388\n"
     ]
    }
   ],
   "source": [
    "# Print Resampling Results\n",
    "print('Before Resampling: size of X: ', X_tl.shape)\n",
    "print('After  Resampling: size of X: ', X_res.shape)\n",
    "print('Before Resampling: class0/class1 =%7d/%6d' % (len(y_tl)-np.sum(y_tl), np.sum(y_tl)))\n",
    "print('After  Resampling: class0/class1 =%7d/%6d' % (len(y_res)-np.sum(y_res), np.sum(y_res)))"
   ]
  },
  {
   "cell_type": "markdown",
   "metadata": {},
   "source": [
    "<a id='sec5'></a>\n",
    "# Train XGBoost, predict probabilities, save to a file\n",
    "(<a href='#sec0'>back to top</a>)"
   ]
  },
  {
   "cell_type": "code",
   "execution_count": 14,
   "metadata": {},
   "outputs": [],
   "source": [
    "if True:\n",
    "# Train XGBoost\n",
    "    clf = XGBClassifier(gamma=9, subsample=0.85, max_depth=11, \n",
    "                        min_child_weight=4, learning_rate=0.05, \n",
    "                        n_estimators=200, n_jobs=8)\n",
    "\n",
    "    clf.fit(X_res, y_res)"
   ]
  },
  {
   "cell_type": "code",
   "execution_count": 15,
   "metadata": {},
   "outputs": [],
   "source": [
    "if False:\n",
    "    clf = RandomForestClassifier(max_depth=10, n_estimators=200, n_jobs=8)\n",
    "    clf.fit(X_res, y_res)"
   ]
  },
  {
   "cell_type": "code",
   "execution_count": 16,
   "metadata": {},
   "outputs": [],
   "source": [
    "X_test = np.array(test)\n",
    "y_ids = np.array(test_ori.id)"
   ]
  },
  {
   "cell_type": "code",
   "execution_count": 17,
   "metadata": {},
   "outputs": [],
   "source": [
    "Xpca_test = pca.transform(X_test)"
   ]
  },
  {
   "cell_type": "code",
   "execution_count": 18,
   "metadata": {},
   "outputs": [
    {
     "data": {
      "text/plain": [
       "((892816, 31), (892816,))"
      ]
     },
     "execution_count": 18,
     "metadata": {},
     "output_type": "execute_result"
    }
   ],
   "source": [
    "X_test.shape, y_ids.shape"
   ]
  },
  {
   "cell_type": "code",
   "execution_count": 19,
   "metadata": {},
   "outputs": [],
   "source": [
    "y_probas = clf.predict_proba(Xpca_test)"
   ]
  },
  {
   "cell_type": "code",
   "execution_count": 20,
   "metadata": {},
   "outputs": [
    {
     "data": {
      "text/plain": [
       "(892816, 2)"
      ]
     },
     "execution_count": 20,
     "metadata": {},
     "output_type": "execute_result"
    }
   ],
   "source": [
    "y_probas.shape"
   ]
  },
  {
   "cell_type": "code",
   "execution_count": 21,
   "metadata": {},
   "outputs": [],
   "source": [
    "prediction_result = pd.DataFrame({'id': y_ids, 'target': y_probas[:, 1]})\n",
    "prediction_result = prediction_result[['id', 'target']]"
   ]
  },
  {
   "cell_type": "code",
   "execution_count": 22,
   "metadata": {},
   "outputs": [
    {
     "data": {
      "text/html": [
       "<div>\n",
       "<style scoped>\n",
       "    .dataframe tbody tr th:only-of-type {\n",
       "        vertical-align: middle;\n",
       "    }\n",
       "\n",
       "    .dataframe tbody tr th {\n",
       "        vertical-align: top;\n",
       "    }\n",
       "\n",
       "    .dataframe thead th {\n",
       "        text-align: right;\n",
       "    }\n",
       "</style>\n",
       "<table border=\"1\" class=\"dataframe\">\n",
       "  <thead>\n",
       "    <tr style=\"text-align: right;\">\n",
       "      <th></th>\n",
       "      <th>id</th>\n",
       "      <th>target</th>\n",
       "    </tr>\n",
       "  </thead>\n",
       "  <tbody>\n",
       "    <tr>\n",
       "      <th>0</th>\n",
       "      <td>0</td>\n",
       "      <td>0.253170</td>\n",
       "    </tr>\n",
       "    <tr>\n",
       "      <th>1</th>\n",
       "      <td>1</td>\n",
       "      <td>0.305863</td>\n",
       "    </tr>\n",
       "    <tr>\n",
       "      <th>2</th>\n",
       "      <td>2</td>\n",
       "      <td>0.244233</td>\n",
       "    </tr>\n",
       "    <tr>\n",
       "      <th>3</th>\n",
       "      <td>3</td>\n",
       "      <td>0.133428</td>\n",
       "    </tr>\n",
       "    <tr>\n",
       "      <th>4</th>\n",
       "      <td>4</td>\n",
       "      <td>0.336523</td>\n",
       "    </tr>\n",
       "    <tr>\n",
       "      <th>5</th>\n",
       "      <td>5</td>\n",
       "      <td>0.465561</td>\n",
       "    </tr>\n",
       "    <tr>\n",
       "      <th>6</th>\n",
       "      <td>6</td>\n",
       "      <td>0.184210</td>\n",
       "    </tr>\n",
       "    <tr>\n",
       "      <th>7</th>\n",
       "      <td>8</td>\n",
       "      <td>0.278179</td>\n",
       "    </tr>\n",
       "    <tr>\n",
       "      <th>8</th>\n",
       "      <td>10</td>\n",
       "      <td>0.420010</td>\n",
       "    </tr>\n",
       "    <tr>\n",
       "      <th>9</th>\n",
       "      <td>11</td>\n",
       "      <td>0.461205</td>\n",
       "    </tr>\n",
       "  </tbody>\n",
       "</table>\n",
       "</div>"
      ],
      "text/plain": [
       "   id    target\n",
       "0   0  0.253170\n",
       "1   1  0.305863\n",
       "2   2  0.244233\n",
       "3   3  0.133428\n",
       "4   4  0.336523\n",
       "5   5  0.465561\n",
       "6   6  0.184210\n",
       "7   8  0.278179\n",
       "8  10  0.420010\n",
       "9  11  0.461205"
      ]
     },
     "execution_count": 22,
     "metadata": {},
     "output_type": "execute_result"
    }
   ],
   "source": [
    "prediction_result.head(10)"
   ]
  },
  {
   "cell_type": "code",
   "execution_count": 23,
   "metadata": {},
   "outputs": [],
   "source": [
    "#prediction_result.to_csv('./submissions/porto_seguro_submission_RH8.csv', index=False, header=True)"
   ]
  },
  {
   "cell_type": "code",
   "execution_count": null,
   "metadata": {},
   "outputs": [],
   "source": []
  },
  {
   "cell_type": "code",
   "execution_count": 24,
   "metadata": {},
   "outputs": [
    {
     "data": {
      "text/plain": [
       "<matplotlib.collections.PathCollection at 0x7f85d1f521d0>"
      ]
     },
     "execution_count": 24,
     "metadata": {},
     "output_type": "execute_result"
    },
    {
     "data": {
      "image/png": "[encoded data removed]",
      "text/plain": [
       "<matplotlib.figure.Figure at 0x7f85f7e9db00>"
      ]
     },
     "metadata": {},
     "output_type": "display_data"
    }
   ],
   "source": [
    "fig, (ax1, ax2, ax3, ax4, ax5) = plt.subplots(1, 5, figsize=(15, 3))\n",
    "ax1.scatter(Xpca_test[:200000, 0], Xpca_test[:200000, 1], alpha=0.1)\n",
    "ax2.scatter(Xpca_test[:200000, 1], Xpca_test[:200000, 2], alpha=0.1)\n",
    "ax3.scatter(Xpca_test[:200000, 2], Xpca_test[:200000, 3], alpha=0.1)\n",
    "ax4.scatter(Xpca_test[:200000, 3], Xpca_test[:200000, 4], alpha=0.1)\n",
    "ax5.scatter(Xpca_test[:200000, 4], Xpca_test[:200000, 5], alpha=0.1)"
   ]
  },
  {
   "cell_type": "code",
   "execution_count": 25,
   "metadata": {},
   "outputs": [
    {
     "data": {
      "text/plain": [
       "<matplotlib.collections.PathCollection at 0x7f85d1d8ea90>"
      ]
     },
     "execution_count": 25,
     "metadata": {},
     "output_type": "execute_result"
    },
    {
     "data": {
      "image/png": "[encoded data removed]",
      "text/plain": [
       "<matplotlib.figure.Figure at 0x7f85f7e9d630>"
      ]
     },
     "metadata": {},
     "output_type": "display_data"
    }
   ],
   "source": [
    "fig, (ax1, ax2, ax3, ax4, ax5) = plt.subplots(1, 5, figsize=(15, 3))\n",
    "ax1.scatter(Xpca[:200000, 0], Xpca[:200000, 1], alpha=0.1)\n",
    "ax2.scatter(Xpca[:200000, 1], Xpca[:200000, 2], alpha=0.1)\n",
    "ax3.scatter(Xpca[:200000, 2], Xpca[:200000, 3], alpha=0.1)\n",
    "ax4.scatter(Xpca[:200000, 3], Xpca[:200000, 4], alpha=0.1)\n",
    "ax5.scatter(Xpca[:200000, 4], Xpca[:200000, 5], alpha=0.1)"
   ]
  },
  {
   "cell_type": "code",
   "execution_count": null,
   "metadata": {},
   "outputs": [],
   "source": []
  },
  {
   "cell_type": "code",
   "execution_count": null,
   "metadata": {},
   "outputs": [],
   "source": []
  },
  {
   "cell_type": "code",
   "execution_count": null,
   "metadata": {},
   "outputs": [],
   "source": []
  },
  {
   "cell_type": "code",
   "execution_count": null,
   "metadata": {},
   "outputs": [],
   "source": []
  }
 ],
 "metadata": {
  "kernelspec": {
   "display_name": "Python 3",
   "language": "python",
   "name": "python3"
  },
  "language_info": {
   "codemirror_mode": {
    "name": "ipython",
    "version": 3
   },
   "file_extension": ".py",
   "mimetype": "text/x-python",
   "name": "python",
   "nbconvert_exporter": "python",
   "pygments_lexer": "ipython3",
   "version": "3.6.2"
  }
 },
 "nbformat": 4,
 "nbformat_minor": 2
}
